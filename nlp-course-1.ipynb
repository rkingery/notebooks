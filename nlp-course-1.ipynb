{
 "cells": [
  {
   "cell_type": "markdown",
   "metadata": {},
   "source": [
    "# NLP Course 1"
   ]
  },
  {
   "cell_type": "code",
   "execution_count": 1,
   "metadata": {},
   "outputs": [
    {
     "name": "stderr",
     "output_type": "stream",
     "text": [
      "[nltk_data] Downloading package stopwords to\n",
      "[nltk_data]     /Users/ryankingery/nltk_data...\n",
      "[nltk_data]   Package stopwords is already up-to-date!\n"
     ]
    }
   ],
   "source": [
    "import numpy as np\n",
    "import scipy\n",
    "import matplotlib.pyplot as plt\n",
    "import pandas as pd\n",
    "from pathlib import Path\n",
    "from wordcloud import WordCloud\n",
    "import re\n",
    "import string\n",
    "from collections import Counter, defaultdict\n",
    "\n",
    "import spacy\n",
    "import nltk\n",
    "from nltk.stem import SnowballStemmer\n",
    "from nltk.corpus import stopwords\n",
    "nltk.download('stopwords')\n",
    "\n",
    "from sklearn.decomposition import TruncatedSVD\n",
    "from sklearn.linear_model import LogisticRegression\n",
    "from sklearn.model_selection import train_test_split\n",
    "from sklearn.metrics import f1_score, accuracy_score, precision_score, recall_score\n",
    "from imblearn.under_sampling import RandomUnderSampler\n",
    "\n",
    "np.random.seed(42)"
   ]
  },
  {
   "cell_type": "markdown",
   "metadata": {},
   "source": [
    "# Dataset: Load and Preprocess Data"
   ]
  },
  {
   "cell_type": "code",
   "execution_count": 2,
   "metadata": {},
   "outputs": [
    {
     "data": {
      "text/html": [
       "<div>\n",
       "<style scoped>\n",
       "    .dataframe tbody tr th:only-of-type {\n",
       "        vertical-align: middle;\n",
       "    }\n",
       "\n",
       "    .dataframe tbody tr th {\n",
       "        vertical-align: top;\n",
       "    }\n",
       "\n",
       "    .dataframe thead th {\n",
       "        text-align: right;\n",
       "    }\n",
       "</style>\n",
       "<table border=\"1\" class=\"dataframe\">\n",
       "  <thead>\n",
       "    <tr style=\"text-align: right;\">\n",
       "      <th></th>\n",
       "      <th>labels</th>\n",
       "      <th>text_raw</th>\n",
       "    </tr>\n",
       "  </thead>\n",
       "  <tbody>\n",
       "    <tr>\n",
       "      <th>0</th>\n",
       "      <td>0</td>\n",
       "      <td>Funny fact Nobody teaches volcanoes 2 erupt, t...</td>\n",
       "    </tr>\n",
       "    <tr>\n",
       "      <th>1</th>\n",
       "      <td>0</td>\n",
       "      <td>I sent my scores to sophas and i had to do sec...</td>\n",
       "    </tr>\n",
       "    <tr>\n",
       "      <th>2</th>\n",
       "      <td>1</td>\n",
       "      <td>We know someone who you know that fancies you....</td>\n",
       "    </tr>\n",
       "    <tr>\n",
       "      <th>3</th>\n",
       "      <td>0</td>\n",
       "      <td>Only if you promise your getting out as SOON a...</td>\n",
       "    </tr>\n",
       "    <tr>\n",
       "      <th>4</th>\n",
       "      <td>1</td>\n",
       "      <td>Congratulations ur awarded either å£500 of CD ...</td>\n",
       "    </tr>\n",
       "    <tr>\n",
       "      <th>5</th>\n",
       "      <td>0</td>\n",
       "      <td>I'll text carlos and let you know, hang on</td>\n",
       "    </tr>\n",
       "    <tr>\n",
       "      <th>6</th>\n",
       "      <td>0</td>\n",
       "      <td>K.i did't see you.:)k:)where are you now?</td>\n",
       "    </tr>\n",
       "    <tr>\n",
       "      <th>7</th>\n",
       "      <td>0</td>\n",
       "      <td>No message..no responce..what happend?</td>\n",
       "    </tr>\n",
       "    <tr>\n",
       "      <th>8</th>\n",
       "      <td>0</td>\n",
       "      <td>Get down in gandhipuram and walk to cross cut ...</td>\n",
       "    </tr>\n",
       "    <tr>\n",
       "      <th>9</th>\n",
       "      <td>0</td>\n",
       "      <td>You flippin your shit yet?</td>\n",
       "    </tr>\n",
       "  </tbody>\n",
       "</table>\n",
       "</div>"
      ],
      "text/plain": [
       "   labels                                           text_raw\n",
       "0       0  Funny fact Nobody teaches volcanoes 2 erupt, t...\n",
       "1       0  I sent my scores to sophas and i had to do sec...\n",
       "2       1  We know someone who you know that fancies you....\n",
       "3       0  Only if you promise your getting out as SOON a...\n",
       "4       1  Congratulations ur awarded either å£500 of CD ...\n",
       "5       0         I'll text carlos and let you know, hang on\n",
       "6       0          K.i did't see you.:)k:)where are you now?\n",
       "7       0             No message..no responce..what happend?\n",
       "8       0  Get down in gandhipuram and walk to cross cut ...\n",
       "9       0                         You flippin your shit yet?"
      ]
     },
     "execution_count": 2,
     "metadata": {},
     "output_type": "execute_result"
    }
   ],
   "source": [
    "def get_text(text_file):\n",
    "    df = pd.read_csv(text_file, encoding='ISO-8859-1')\n",
    "    df = df[['v1', 'v2']]\n",
    "    df.columns = ['labels', 'text_raw']\n",
    "    df.labels = df.labels.replace('ham', 0)\n",
    "    df.labels = df.labels.replace('spam', 1)\n",
    "    df = df.sample(frac=1).reset_index(drop=True)\n",
    "    return df\n",
    "\n",
    "text_file = Path('~/Repos/ml_tutorials/resources/spam.csv')\n",
    "df = get_text(text_file)\n",
    "df.head(10)"
   ]
  },
  {
   "cell_type": "code",
   "execution_count": 3,
   "metadata": {},
   "outputs": [
    {
     "data": {
      "text/plain": [
       "0    4825\n",
       "1     747\n",
       "Name: labels, dtype: int64"
      ]
     },
     "execution_count": 3,
     "metadata": {},
     "output_type": "execute_result"
    }
   ],
   "source": [
    "df.labels.value_counts()"
   ]
  },
  {
   "cell_type": "code",
   "execution_count": 4,
   "metadata": {},
   "outputs": [
    {
     "data": {
      "text/html": [
       "<div>\n",
       "<style scoped>\n",
       "    .dataframe tbody tr th:only-of-type {\n",
       "        vertical-align: middle;\n",
       "    }\n",
       "\n",
       "    .dataframe tbody tr th {\n",
       "        vertical-align: top;\n",
       "    }\n",
       "\n",
       "    .dataframe thead th {\n",
       "        text-align: right;\n",
       "    }\n",
       "</style>\n",
       "<table border=\"1\" class=\"dataframe\">\n",
       "  <thead>\n",
       "    <tr style=\"text-align: right;\">\n",
       "      <th></th>\n",
       "      <th>labels</th>\n",
       "      <th>text_raw</th>\n",
       "      <th>text</th>\n",
       "    </tr>\n",
       "  </thead>\n",
       "  <tbody>\n",
       "    <tr>\n",
       "      <th>0</th>\n",
       "      <td>0</td>\n",
       "      <td>Funny fact Nobody teaches volcanoes 2 erupt, t...</td>\n",
       "      <td>xxcap funni fact xxcap nobodi teach volcano er...</td>\n",
       "    </tr>\n",
       "    <tr>\n",
       "      <th>1</th>\n",
       "      <td>0</td>\n",
       "      <td>I sent my scores to sophas and i had to do sec...</td>\n",
       "      <td>xxup sent score sopha secondari applic school ...</td>\n",
       "    </tr>\n",
       "    <tr>\n",
       "      <th>2</th>\n",
       "      <td>1</td>\n",
       "      <td>We know someone who you know that fancies you....</td>\n",
       "      <td>xxcap know someon know fanci xxpunct xxcap cal...</td>\n",
       "    </tr>\n",
       "    <tr>\n",
       "      <th>3</th>\n",
       "      <td>0</td>\n",
       "      <td>Only if you promise your getting out as SOON a...</td>\n",
       "      <td>xxcap promis get xxup soon xxpunct xxcap xxpun...</td>\n",
       "    </tr>\n",
       "    <tr>\n",
       "      <th>4</th>\n",
       "      <td>1</td>\n",
       "      <td>Congratulations ur awarded either å£500 of CD ...</td>\n",
       "      <td>xxcap congratul award either xxmon xxup cd gif...</td>\n",
       "    </tr>\n",
       "    <tr>\n",
       "      <th>5</th>\n",
       "      <td>0</td>\n",
       "      <td>I'll text carlos and let you know, hang on</td>\n",
       "      <td>xxup xxpunct text carlo let know xxpunct hang</td>\n",
       "    </tr>\n",
       "    <tr>\n",
       "      <th>6</th>\n",
       "      <td>0</td>\n",
       "      <td>K.i did't see you.:)k:)where are you now?</td>\n",
       "      <td>xxup k xxpunct xxpunct see xxpunct xxemoji k x...</td>\n",
       "    </tr>\n",
       "    <tr>\n",
       "      <th>7</th>\n",
       "      <td>0</td>\n",
       "      <td>No message..no responce..what happend?</td>\n",
       "      <td>xxcap messag xxpunct xxpunct responc xxpunct x...</td>\n",
       "    </tr>\n",
       "    <tr>\n",
       "      <th>8</th>\n",
       "      <td>0</td>\n",
       "      <td>Get down in gandhipuram and walk to cross cut ...</td>\n",
       "      <td>xxcap get gandhipuram walk cross cut road xxpu...</td>\n",
       "    </tr>\n",
       "    <tr>\n",
       "      <th>9</th>\n",
       "      <td>0</td>\n",
       "      <td>You flippin your shit yet?</td>\n",
       "      <td>xxcap flippin shit yet ?</td>\n",
       "    </tr>\n",
       "  </tbody>\n",
       "</table>\n",
       "</div>"
      ],
      "text/plain": [
       "   labels                                           text_raw  \\\n",
       "0       0  Funny fact Nobody teaches volcanoes 2 erupt, t...   \n",
       "1       0  I sent my scores to sophas and i had to do sec...   \n",
       "2       1  We know someone who you know that fancies you....   \n",
       "3       0  Only if you promise your getting out as SOON a...   \n",
       "4       1  Congratulations ur awarded either å£500 of CD ...   \n",
       "5       0         I'll text carlos and let you know, hang on   \n",
       "6       0          K.i did't see you.:)k:)where are you now?   \n",
       "7       0             No message..no responce..what happend?   \n",
       "8       0  Get down in gandhipuram and walk to cross cut ...   \n",
       "9       0                         You flippin your shit yet?   \n",
       "\n",
       "                                                text  \n",
       "0  xxcap funni fact xxcap nobodi teach volcano er...  \n",
       "1  xxup sent score sopha secondari applic school ...  \n",
       "2  xxcap know someon know fanci xxpunct xxcap cal...  \n",
       "3  xxcap promis get xxup soon xxpunct xxcap xxpun...  \n",
       "4  xxcap congratul award either xxmon xxup cd gif...  \n",
       "5     xxup xxpunct text carlo let know xxpunct hang   \n",
       "6  xxup k xxpunct xxpunct see xxpunct xxemoji k x...  \n",
       "7  xxcap messag xxpunct xxpunct responc xxpunct x...  \n",
       "8  xxcap get gandhipuram walk cross cut road xxpu...  \n",
       "9                          xxcap flippin shit yet ?   "
      ]
     },
     "execution_count": 4,
     "metadata": {},
     "output_type": "execute_result"
    }
   ],
   "source": [
    "def sub_special_tokens(text):\n",
    "    # note I stole many of these regexes regularly from S.O.\n",
    "    # convert simple URLs to xxurl token (e.g. www.google.com, http:google.com -> xxurl)\n",
    "    text = re.sub(r' www.', ' http://www.', text)\n",
    "    text = re.sub(r'(https|http)?:\\/\\/(\\w|\\.|\\/|\\?|\\=|\\&|\\%)*\\b', ' xxurl ', text)\n",
    "    # convert (British) phone numbers to xxphone token (e.g. 09058097218 -> xxphone)\n",
    "    pat = r'\\d{3}[-\\.\\s]??\\d{4}[-\\.\\s]??\\d{4}|\\d{5}[-\\.\\s]??\\d{3}[-\\.\\s]??\\d{3}|(?:\\d{4}\\)?[\\s-]?\\d{3}[\\s-]?\\d{4})'\n",
    "    text = re.sub(pat, ' xxphone ', text)\n",
    "    # replace monetary values with xxmon token\n",
    "    text = text.replace('£','$ ')\n",
    "    text = re.sub(r'(\\d+)[ ]{0,1}p', '$ 0.\\1', text)\n",
    "    text = re.sub(r'\\$[ ]*(\\d+[,\\.])*\\d+', ' xxmon ', text)\n",
    "    # put xxup token before words in all caps (easy way to recognize info from capitalizing a word)\n",
    "    text = re.sub(r'(\\b[A-Z][A-Z0-9]*\\b)', r' xxup \\1 ', text)\n",
    "    # put xxcap token before words with capitalized first letter (easy way to recognize first word in a sentence)\n",
    "    text = re.sub(r'(\\b[A-Z][a-z0-9]+\\b)', r' xxcap \\1 ', text)\n",
    "    # convert some common text \"emojis\" to xxemoji: ;), :), :(, :-(, etc\n",
    "    text = re.sub(r'[:;][ ]*[-]*[ ]*[()]', ' xxemoji ', text)\n",
    "    return text\n",
    "\n",
    "def normalize_text(text):\n",
    "    # converts common patterns into special tokens\n",
    "    text = sub_special_tokens(text)\n",
    "    # convert text to lowercase\n",
    "    text = text.lower()\n",
    "    # strip out any lingering html tags\n",
    "    text = re.sub(r'<[^>]*>', '', text)\n",
    "    # convert all common abrevs to regular word\n",
    "    text = text.replace('&',' and ')\n",
    "    text = re.sub(r'\\bu\\b', ' you ', text)\n",
    "    text = re.sub(r'\\bur\\b', ' your ', text)\n",
    "    text = re.sub(r'\\b2\\b', ' to ', text)\n",
    "    text = re.sub(r'\\b4\\b', ' for ', text)\n",
    "    # put spaces between punctuation (eg: 9.Blah -> 9 . Blah)\n",
    "    puncts = r'[' + re.escape(string.punctuation) + r']'\n",
    "    text = re.sub('(?<! )(?=' + puncts + ')|(?<=' + puncts + ')(?! )', r' ', text)\n",
    "    # strip non-ascii characters (easy way to denoise text a bit)\n",
    "    text = text.encode(\"ascii\", errors=\"ignore\").decode()\n",
    "    # remove all punctuation except ?\n",
    "    text = re.sub(r\"[^\\w\\s?]\",' xxpunct ',text)\n",
    "    # convert all other numbers to xxnum token (e.g. 123, 1.2.3, 1-2-3 -> xxnum)\n",
    "    text = re.sub(r'\\b([.-]*[0-9]+[.-]*)+\\b', ' xxnum ', text)\n",
    "    # remove nltk's common set of stop words (common for classical NLP analysis)\n",
    "    stop_words = stopwords.words('english')\n",
    "    text = ' '.join(word for word in text.split() if word not in stop_words)\n",
    "    # stem words using nltk snowball stemmer, e.g. converts {run, running, runs} all to \"run\"\n",
    "    stemmer = SnowballStemmer('english')\n",
    "    stemmed_text = ''\n",
    "    for word in text.split():\n",
    "            stemmed_text = stemmed_text + stemmer.stem(word) + ' '\n",
    "    text = stemmed_text\n",
    "    # sub the occurance of 2 or more spaces with a single space\n",
    "    text = re.sub(r'[ ]{2,}',' ',text)\n",
    "    return text\n",
    "\n",
    "df['text'] = df['text_raw'].apply(normalize_text)\n",
    "df.head(10)"
   ]
  },
  {
   "cell_type": "code",
   "execution_count": 5,
   "metadata": {},
   "outputs": [],
   "source": [
    "text = df['text'].tolist()\n",
    "tokens = [[word for word in doc.split(' ') if len(word) > 0] for doc in text]\n",
    "labels = df['labels'].tolist()"
   ]
  },
  {
   "cell_type": "markdown",
   "metadata": {},
   "source": [
    "# Week 1: Logistic Regression\n",
    "\n",
    "## Extract Features"
   ]
  },
  {
   "cell_type": "code",
   "execution_count": 5,
   "metadata": {},
   "outputs": [
    {
     "data": {
      "text/plain": [
       "(1940, 5499)"
      ]
     },
     "execution_count": 5,
     "metadata": {},
     "output_type": "execute_result"
    }
   ],
   "source": [
    "pos_words = Counter(' '.join(df['text'][df.labels == 1]).split(' '))\n",
    "neg_words = Counter(' '.join(df['text'][df.labels == 0]).split(' '))\n",
    "len(pos_words), len(neg_words)"
   ]
  },
  {
   "cell_type": "code",
   "execution_count": 7,
   "metadata": {},
   "outputs": [],
   "source": [
    "pos_freqs = []\n",
    "neg_freqs = []\n",
    "for doc in text:\n",
    "    pos_freqs.append(sum([pos_words[word] for word in doc.split(' ') if len(word) > 0]))\n",
    "    neg_freqs.append(sum([neg_words[word] for word in doc.split(' ') if len(word) > 0]))"
   ]
  },
  {
   "cell_type": "code",
   "execution_count": 8,
   "metadata": {},
   "outputs": [
    {
     "data": {
      "text/plain": [
       "('xxcap real tho suck xxpunct xxup xxpunct even cook whole electr xxpunct xxcap xxup xxpunct hungri xxpunct ',\n",
       " 32073,\n",
       " 106275)"
      ]
     },
     "execution_count": 8,
     "metadata": {},
     "output_type": "execute_result"
    }
   ],
   "source": [
    "text[10], pos_freqs[10], neg_freqs[10]"
   ]
  },
  {
   "cell_type": "code",
   "execution_count": 9,
   "metadata": {},
   "outputs": [
    {
     "name": "stdout",
     "output_type": "stream",
     "text": [
      "[[    1 18979 57964]\n",
      " [    1 24790 82537]]\n"
     ]
    }
   ],
   "source": [
    "X = [[1, pos_freqs[i], neg_freqs[i]] for i in range(len(text))]\n",
    "X = np.array(X)\n",
    "print(X[:2])"
   ]
  },
  {
   "cell_type": "code",
   "execution_count": 34,
   "metadata": {},
   "outputs": [
    {
     "data": {
      "text/plain": [
       "((5572, 3), (5572,))"
      ]
     },
     "execution_count": 34,
     "metadata": {},
     "output_type": "execute_result"
    }
   ],
   "source": [
    "y = np.array(labels)\n",
    "X.shape, y.shape"
   ]
  },
  {
   "cell_type": "code",
   "execution_count": 40,
   "metadata": {},
   "outputs": [
    {
     "data": {
      "text/plain": [
       "((1494, 3), (1494,))"
      ]
     },
     "execution_count": 40,
     "metadata": {},
     "output_type": "execute_result"
    }
   ],
   "source": [
    "X_bal,y_bal = RandomUnderSampler().fit_sample(X, y)\n",
    "X_train,X_test,y_train,y_test = train_test_split(X_bal, y_bal, test_size=0.2)\n",
    "X_bal.shape, y_bal.shape"
   ]
  },
  {
   "cell_type": "markdown",
   "metadata": {},
   "source": [
    "## Training"
   ]
  },
  {
   "cell_type": "code",
   "execution_count": 36,
   "metadata": {},
   "outputs": [],
   "source": [
    "model = LogisticRegression(fit_intercept=False, C=1.0)\n",
    "model.fit(X_train_bal, y_train_bal)\n",
    "y_pred = model.predict(X_test)"
   ]
  },
  {
   "cell_type": "code",
   "execution_count": 37,
   "metadata": {},
   "outputs": [
    {
     "data": {
      "text/plain": [
       "('accuracy:', 0.8795986622073578)"
      ]
     },
     "execution_count": 37,
     "metadata": {},
     "output_type": "execute_result"
    }
   ],
   "source": [
    "'accuracy:', accuracy_score(y_test, y_pred)"
   ]
  },
  {
   "cell_type": "code",
   "execution_count": 38,
   "metadata": {},
   "outputs": [
    {
     "data": {
      "text/plain": [
       "('F1:', 0.858267716535433)"
      ]
     },
     "execution_count": 38,
     "metadata": {},
     "output_type": "execute_result"
    }
   ],
   "source": [
    "'F1:', f1_score(y_test, y_pred)"
   ]
  },
  {
   "cell_type": "code",
   "execution_count": 39,
   "metadata": {},
   "outputs": [
    {
     "data": {
      "text/plain": [
       "('Random:', 0.5518394648829432)"
      ]
     },
     "execution_count": 39,
     "metadata": {},
     "output_type": "execute_result"
    }
   ],
   "source": [
    "'Random:', 1 - y_test.sum() / len(y_test)"
   ]
  },
  {
   "cell_type": "code",
   "execution_count": 41,
   "metadata": {},
   "outputs": [
    {
     "data": {
      "text/plain": [
       "array([[-2.25056914e+00,  6.81905884e-04, -1.92354627e-04]])"
      ]
     },
     "execution_count": 41,
     "metadata": {},
     "output_type": "execute_result"
    }
   ],
   "source": [
    "model.coef_"
   ]
  },
  {
   "cell_type": "markdown",
   "metadata": {},
   "source": [
    "# Week 2: Naive Bayes\n",
    "\n",
    "Naive: $w_j$ each independent. Naive <-> No Context.\n",
    "\n",
    "$$x_i = (w_1, \\cdots, w_m)$$\n",
    "$$r_i = \\frac{p(y_i=1|x_i)}{p(y_i=0|x_i)} = \\frac{p(y_i=1)}{p(y_i=0)}\\prod_{j=1}^m\\frac{p(w_j|y_i=1)}{p(w_j|y_i=0)}$$\n",
    "$$\\hat y_i = \\bigg(1 \\text{ if } r_i\\geq 1 \\text{ else } 0\\bigg) = \\bigg(1 \\text{ if } p(y_i=1|x_i) < p(y_i=0|x_i) \\text{ else } 0 \\bigg)$$\n",
    "\n",
    "Fundamental assumptions of Naive Bayes:\n",
    "- Features are independent. Probably not true in general for sentences, as context is important. But often works well.\n",
    "- Test set has the same conditional distributions $p(w|y)$ as the training set."
   ]
  },
  {
   "cell_type": "code",
   "execution_count": 6,
   "metadata": {},
   "outputs": [
    {
     "data": {
      "text/plain": [
       "[('xxpunct', 20352),\n",
       " ('xxcap', 11581),\n",
       " ('xxup', 6615),\n",
       " ('?', 1540),\n",
       " ('xxnum', 1314),\n",
       " ('xxmon', 691),\n",
       " ('call', 680),\n",
       " ('xxphone', 456),\n",
       " ('go', 453),\n",
       " ('get', 452)]"
      ]
     },
     "execution_count": 6,
     "metadata": {},
     "output_type": "execute_result"
    }
   ],
   "source": [
    "tokens = [[word for word in doc.split(' ') if len(word) > 0] for doc in text]\n",
    "word_counts = Counter(' '.join(text).split(' '))\n",
    "word_counts.pop('')\n",
    "word_counts.most_common(10)"
   ]
  },
  {
   "cell_type": "code",
   "execution_count": 7,
   "metadata": {},
   "outputs": [
    {
     "data": {
      "text/plain": [
       "(1940, 5499)"
      ]
     },
     "execution_count": 7,
     "metadata": {},
     "output_type": "execute_result"
    }
   ],
   "source": [
    "pos_words = Counter(' '.join(df['text'][df.labels == 1]).split(' '))\n",
    "neg_words = Counter(' '.join(df['text'][df.labels == 0]).split(' '))\n",
    "len(pos_words), len(neg_words)"
   ]
  },
  {
   "cell_type": "code",
   "execution_count": 8,
   "metadata": {},
   "outputs": [
    {
     "data": {
      "text/plain": [
       "(23244, 73243)"
      ]
     },
     "execution_count": 8,
     "metadata": {},
     "output_type": "execute_result"
    }
   ],
   "source": [
    "n_pos = sum(pos_words.values())\n",
    "n_neg = sum(neg_words.values())\n",
    "n_pos, n_neg"
   ]
  },
  {
   "cell_type": "code",
   "execution_count": 9,
   "metadata": {},
   "outputs": [],
   "source": [
    "# regular formula: pos_prob = pos_freq / n_pos\n",
    "# with laplace smoothing: pos_prob = (pos_freq + 1) / (n_pos + n_unique)\n",
    "n_unique = len(word_counts)\n",
    "pos_probs = {word: (pos_words[word] + 1) / (n_pos + n_unique) for word in word_counts}\n",
    "neg_probs = {word: (neg_words[word] + 1) / (n_neg + n_unique) for word in word_counts}"
   ]
  },
  {
   "cell_type": "code",
   "execution_count": 10,
   "metadata": {},
   "outputs": [
    {
     "data": {
      "text/html": [
       "<div>\n",
       "<style scoped>\n",
       "    .dataframe tbody tr th:only-of-type {\n",
       "        vertical-align: middle;\n",
       "    }\n",
       "\n",
       "    .dataframe tbody tr th {\n",
       "        vertical-align: top;\n",
       "    }\n",
       "\n",
       "    .dataframe thead th {\n",
       "        text-align: right;\n",
       "    }\n",
       "</style>\n",
       "<table border=\"1\" class=\"dataframe\">\n",
       "  <thead>\n",
       "    <tr style=\"text-align: right;\">\n",
       "      <th></th>\n",
       "      <th>pos_probs</th>\n",
       "      <th>neg_probs</th>\n",
       "      <th>ratios</th>\n",
       "      <th>log_ratios</th>\n",
       "    </tr>\n",
       "  </thead>\n",
       "  <tbody>\n",
       "    <tr>\n",
       "      <th>xxcap</th>\n",
       "      <td>0.105532</td>\n",
       "      <td>0.105814</td>\n",
       "      <td>0.997333</td>\n",
       "      <td>-0.002671</td>\n",
       "    </tr>\n",
       "    <tr>\n",
       "      <th>funni</th>\n",
       "      <td>0.000034</td>\n",
       "      <td>0.000113</td>\n",
       "      <td>0.297704</td>\n",
       "      <td>-1.211654</td>\n",
       "    </tr>\n",
       "    <tr>\n",
       "      <th>fact</th>\n",
       "      <td>0.000067</td>\n",
       "      <td>0.000138</td>\n",
       "      <td>0.487153</td>\n",
       "      <td>-0.719177</td>\n",
       "    </tr>\n",
       "    <tr>\n",
       "      <th>nobodi</th>\n",
       "      <td>0.000034</td>\n",
       "      <td>0.000138</td>\n",
       "      <td>0.243576</td>\n",
       "      <td>-1.412325</td>\n",
       "    </tr>\n",
       "    <tr>\n",
       "      <th>teach</th>\n",
       "      <td>0.000034</td>\n",
       "      <td>0.000163</td>\n",
       "      <td>0.206103</td>\n",
       "      <td>-1.579379</td>\n",
       "    </tr>\n",
       "    <tr>\n",
       "      <th>volcano</th>\n",
       "      <td>0.000034</td>\n",
       "      <td>0.000025</td>\n",
       "      <td>1.339670</td>\n",
       "      <td>0.292423</td>\n",
       "    </tr>\n",
       "    <tr>\n",
       "      <th>erupt</th>\n",
       "      <td>0.000034</td>\n",
       "      <td>0.000025</td>\n",
       "      <td>1.339670</td>\n",
       "      <td>0.292423</td>\n",
       "    </tr>\n",
       "    <tr>\n",
       "      <th>xxpunct</th>\n",
       "      <td>0.144762</td>\n",
       "      <td>0.201123</td>\n",
       "      <td>0.719768</td>\n",
       "      <td>-0.328826</td>\n",
       "    </tr>\n",
       "    <tr>\n",
       "      <th>tsunami</th>\n",
       "      <td>0.000067</td>\n",
       "      <td>0.000038</td>\n",
       "      <td>1.786227</td>\n",
       "      <td>0.580106</td>\n",
       "    </tr>\n",
       "    <tr>\n",
       "      <th>aris</th>\n",
       "      <td>0.000034</td>\n",
       "      <td>0.000038</td>\n",
       "      <td>0.893113</td>\n",
       "      <td>-0.113042</td>\n",
       "    </tr>\n",
       "    <tr>\n",
       "      <th>hurrican</th>\n",
       "      <td>0.000034</td>\n",
       "      <td>0.000025</td>\n",
       "      <td>1.339670</td>\n",
       "      <td>0.292423</td>\n",
       "    </tr>\n",
       "    <tr>\n",
       "      <th>sway</th>\n",
       "      <td>0.000034</td>\n",
       "      <td>0.000025</td>\n",
       "      <td>1.339670</td>\n",
       "      <td>0.292423</td>\n",
       "    </tr>\n",
       "    <tr>\n",
       "      <th>aroundn</th>\n",
       "      <td>0.000034</td>\n",
       "      <td>0.000025</td>\n",
       "      <td>1.339670</td>\n",
       "      <td>0.292423</td>\n",
       "    </tr>\n",
       "    <tr>\n",
       "      <th>xxnum</th>\n",
       "      <td>0.031068</td>\n",
       "      <td>0.004901</td>\n",
       "      <td>6.338593</td>\n",
       "      <td>1.846657</td>\n",
       "    </tr>\n",
       "    <tr>\n",
       "      <th>hw</th>\n",
       "      <td>0.000034</td>\n",
       "      <td>0.000138</td>\n",
       "      <td>0.243576</td>\n",
       "      <td>-1.412325</td>\n",
       "    </tr>\n",
       "    <tr>\n",
       "      <th>choos</th>\n",
       "      <td>0.000369</td>\n",
       "      <td>0.000113</td>\n",
       "      <td>3.274749</td>\n",
       "      <td>1.186241</td>\n",
       "    </tr>\n",
       "    <tr>\n",
       "      <th>wife</th>\n",
       "      <td>0.000067</td>\n",
       "      <td>0.000376</td>\n",
       "      <td>0.178623</td>\n",
       "      <td>-1.722480</td>\n",
       "    </tr>\n",
       "    <tr>\n",
       "      <th>natur</th>\n",
       "      <td>0.000034</td>\n",
       "      <td>0.000125</td>\n",
       "      <td>0.267934</td>\n",
       "      <td>-1.317014</td>\n",
       "    </tr>\n",
       "    <tr>\n",
       "      <th>disast</th>\n",
       "      <td>0.000067</td>\n",
       "      <td>0.000025</td>\n",
       "      <td>2.679340</td>\n",
       "      <td>0.985571</td>\n",
       "    </tr>\n",
       "    <tr>\n",
       "      <th>happen</th>\n",
       "      <td>0.000034</td>\n",
       "      <td>0.000639</td>\n",
       "      <td>0.052536</td>\n",
       "      <td>-2.946255</td>\n",
       "    </tr>\n",
       "  </tbody>\n",
       "</table>\n",
       "</div>"
      ],
      "text/plain": [
       "          pos_probs  neg_probs    ratios  log_ratios\n",
       "xxcap      0.105532   0.105814  0.997333   -0.002671\n",
       "funni      0.000034   0.000113  0.297704   -1.211654\n",
       "fact       0.000067   0.000138  0.487153   -0.719177\n",
       "nobodi     0.000034   0.000138  0.243576   -1.412325\n",
       "teach      0.000034   0.000163  0.206103   -1.579379\n",
       "volcano    0.000034   0.000025  1.339670    0.292423\n",
       "erupt      0.000034   0.000025  1.339670    0.292423\n",
       "xxpunct    0.144762   0.201123  0.719768   -0.328826\n",
       "tsunami    0.000067   0.000038  1.786227    0.580106\n",
       "aris       0.000034   0.000038  0.893113   -0.113042\n",
       "hurrican   0.000034   0.000025  1.339670    0.292423\n",
       "sway       0.000034   0.000025  1.339670    0.292423\n",
       "aroundn    0.000034   0.000025  1.339670    0.292423\n",
       "xxnum      0.031068   0.004901  6.338593    1.846657\n",
       "hw         0.000034   0.000138  0.243576   -1.412325\n",
       "choos      0.000369   0.000113  3.274749    1.186241\n",
       "wife       0.000067   0.000376  0.178623   -1.722480\n",
       "natur      0.000034   0.000125  0.267934   -1.317014\n",
       "disast     0.000067   0.000025  2.679340    0.985571\n",
       "happen     0.000034   0.000639  0.052536   -2.946255"
      ]
     },
     "execution_count": 10,
     "metadata": {},
     "output_type": "execute_result"
    }
   ],
   "source": [
    "data = {'pos_probs': list(pos_probs.values()), 'neg_probs': list(neg_probs.values())}\n",
    "vocab_df = pd.DataFrame(index=word_counts.keys(), data=data)\n",
    "vocab_df['ratios'] = vocab_df['pos_probs'] / vocab_df['neg_probs']\n",
    "vocab_df['log_ratios'] = np.log(vocab_df['ratios'])\n",
    "vocab_df.head(20)"
   ]
  },
  {
   "cell_type": "code",
   "execution_count": 11,
   "metadata": {},
   "outputs": [
    {
     "data": {
      "text/plain": [
       "(5572, 5572)"
      ]
     },
     "execution_count": 11,
     "metadata": {},
     "output_type": "execute_result"
    }
   ],
   "source": [
    "ratios = []\n",
    "for doc in tokens:\n",
    "    # ratio = n_pos / n_neg * product(pos_probs / neg_probs for word in doc)\n",
    "    rs = [pos_probs[word] / neg_probs[word] for word in doc]\n",
    "    ratio = 1\n",
    "    for r in rs:\n",
    "        ratio *= r\n",
    "    ratio *= n_pos / n_neg\n",
    "    # handles numerical underflow better:\n",
    "    # logratio = np.sum(np.log(rs))\n",
    "    ratios.append(ratio)\n",
    "ratios = np.array(ratios)\n",
    "len(tokens), len(ratios)"
   ]
  },
  {
   "cell_type": "code",
   "execution_count": 12,
   "metadata": {},
   "outputs": [
    {
     "data": {
      "text/plain": [
       "(4825,)"
      ]
     },
     "execution_count": 12,
     "metadata": {},
     "output_type": "execute_result"
    }
   ],
   "source": [
    "labels = np.array(df['labels']).astype(int)\n",
    "ratios[labels == 0].shape"
   ]
  },
  {
   "cell_type": "code",
   "execution_count": 13,
   "metadata": {},
   "outputs": [
    {
     "data": {
      "text/plain": [
       "array([0, 0, 1, 0, 1, 0, 0, 0, 0, 0])"
      ]
     },
     "execution_count": 13,
     "metadata": {},
     "output_type": "execute_result"
    }
   ],
   "source": [
    "preds = (ratios >= 1).astype(int)\n",
    "preds[:10]"
   ]
  },
  {
   "cell_type": "code",
   "execution_count": 14,
   "metadata": {},
   "outputs": [
    {
     "data": {
      "text/plain": [
       "('accuracy:', 0.9890524048815507)"
      ]
     },
     "execution_count": 14,
     "metadata": {},
     "output_type": "execute_result"
    }
   ],
   "source": [
    "'accuracy:', accuracy_score(labels, preds)"
   ]
  },
  {
   "cell_type": "code",
   "execution_count": 15,
   "metadata": {},
   "outputs": [
    {
     "data": {
      "text/plain": [
       "('F1:', 0.960104643557881)"
      ]
     },
     "execution_count": 15,
     "metadata": {},
     "output_type": "execute_result"
    }
   ],
   "source": [
    "'F1:', f1_score(labels, preds)"
   ]
  },
  {
   "cell_type": "code",
   "execution_count": 16,
   "metadata": {},
   "outputs": [
    {
     "data": {
      "text/plain": [
       "(9.849452337954807e+30,\n",
       " 'Free entry to the gr8prizes wkly comp 4 a chance to win the latest Nokia 8800, PSP or å£250 cash every wk.TXT GREAT to 80878 http//www.gr8prizes.com 08715705022',\n",
       " 'xxcap free entri gr xxmon xxpunct xxpunct rize wkli comp chanc win latest xxcap nokia xxnum xxpunct xxup psp xxmon cash everi wk xxpunct xxup txt xxup great xxnum http xxpunct xxpunct www xxpunct gr xxmon xxpunct xxpunct rize xxpunct com xxphone ')"
      ]
     },
     "execution_count": 16,
     "metadata": {},
     "output_type": "execute_result"
    }
   ],
   "source": [
    "ratios.max(), df['text_raw'].iloc[np.argmax(ratios)], text[np.argmax(ratios)]"
   ]
  },
  {
   "cell_type": "code",
   "execution_count": 17,
   "metadata": {},
   "outputs": [
    {
     "data": {
      "text/plain": [
       "(1.1104130324577605e-96,\n",
       " \"How to Make a girl Happy? It's not at all difficult to make girls happy. U only need to be... 1. A friend 2. Companion 3. Lover 4. Chef . . .  &lt;#&gt; . Good listener  &lt;#&gt; . Organizer  &lt;#&gt; . Good boyfriend  &lt;#&gt; . Very clean  &lt;#&gt; . Sympathetic  &lt;#&gt; . Athletic  &lt;#&gt; . Warm . . .  &lt;#&gt; . Courageous  &lt;#&gt; . Determined  &lt;#&gt; . True  &lt;#&gt; . Dependable  &lt;#&gt; . Intelligent . . .  &lt;#&gt; . Psychologist  &lt;#&gt; . Pest exterminator  &lt;#&gt; . Psychiatrist  &lt;#&gt; . Healer . .  &lt;#&gt; . Stylist  &lt;#&gt; . Driver . . Aaniye pudunga venaam..\",\n",
       " 'xxcap xxcap make girl xxcap happi ? xxcap xxpunct difficult make girl happi xxpunct xxup need xxpunct xxpunct xxpunct xxnum xxpunct xxup friend xxpunct xxcap companion xxnum xxpunct xxcap lover xxpunct xxcap chef xxpunct xxpunct xxpunct lt xxpunct xxpunct gt xxpunct xxpunct xxcap good listen lt xxpunct xxpunct gt xxpunct xxpunct xxcap organ lt xxpunct xxpunct gt xxpunct xxpunct xxcap good boyfriend lt xxpunct xxpunct gt xxpunct xxpunct xxcap clean lt xxpunct xxpunct gt xxpunct xxpunct xxcap sympathet lt xxpunct xxpunct gt xxpunct xxpunct xxcap athlet lt xxpunct xxpunct gt xxpunct xxpunct xxcap warm xxpunct xxpunct xxpunct lt xxpunct xxpunct gt xxpunct xxpunct xxcap courag lt xxpunct xxpunct gt xxpunct xxpunct xxcap determin lt xxpunct xxpunct gt xxpunct xxpunct xxcap true lt xxpunct xxpunct gt xxpunct xxpunct xxcap depend lt xxpunct xxpunct gt xxpunct xxpunct xxcap intellig xxpunct xxpunct xxpunct lt xxpunct xxpunct gt xxpunct xxpunct xxcap psychologist lt xxpunct xxpunct gt xxpunct xxpunct xxcap pest extermin lt xxpunct xxpunct gt xxpunct xxpunct xxcap psychiatrist lt xxpunct xxpunct gt xxpunct xxpunct xxcap healer xxpunct xxpunct lt xxpunct xxpunct gt xxpunct xxpunct xxcap stylist lt xxpunct xxpunct gt xxpunct xxpunct xxcap driver xxpunct xxpunct xxcap aaniy pudunga venaam xxpunct xxpunct ')"
      ]
     },
     "execution_count": 17,
     "metadata": {},
     "output_type": "execute_result"
    }
   ],
   "source": [
    "ratios.min(), df['text_raw'].iloc[np.argmin(ratios)], text[np.argmin(ratios)]"
   ]
  },
  {
   "cell_type": "code",
   "execution_count": 18,
   "metadata": {},
   "outputs": [
    {
     "data": {
      "text/plain": [
       "(array([1.000e+00, 0.000e+00, 0.000e+00, 2.000e+00, 4.000e+00, 2.600e+01,\n",
       "        1.072e+03, 3.810e+03, 4.210e+02, 2.360e+02]),\n",
       " array([-220.94343688, -191.71259633, -162.48175578, -133.25091522,\n",
       "        -104.02007467,  -74.78923412,  -45.55839357,  -16.32755301,\n",
       "          12.90328754,   42.13412809,   71.36496864]),\n",
       " <a list of 10 Patch objects>)"
      ]
     },
     "execution_count": 18,
     "metadata": {},
     "output_type": "execute_result"
    },
    {
     "data": {
      "image/png": "[encoded data removed]",
      "text/plain": [
       "<Figure size 432x288 with 1 Axes>"
      ]
     },
     "metadata": {
      "needs_background": "light"
     },
     "output_type": "display_data"
    }
   ],
   "source": [
    "plt.hist(np.log(ratios))"
   ]
  },
  {
   "cell_type": "markdown",
   "metadata": {},
   "source": [
    "# Week 3: Word Embeddings\n",
    "\n",
    "## Coocurrance Matrix"
   ]
  },
  {
   "cell_type": "code",
   "execution_count": 6,
   "metadata": {},
   "outputs": [],
   "source": [
    "vocab = set(' '.join(text).split(' '))\n",
    "vocab.remove('')\n",
    "itos = list(vocab)\n",
    "stoi = {itos[idx]:idx for idx in range(len(itos))}"
   ]
  },
  {
   "cell_type": "markdown",
   "metadata": {},
   "source": [
    "### Word-By-Word\n",
    "Count number of times word pairs co-occur within a given window of size $k$. Get a matrix of size $V \\times V$."
   ]
  },
  {
   "cell_type": "code",
   "execution_count": 7,
   "metadata": {},
   "outputs": [
    {
     "data": {
      "text/html": [
       "<div>\n",
       "<style scoped>\n",
       "    .dataframe tbody tr th:only-of-type {\n",
       "        vertical-align: middle;\n",
       "    }\n",
       "\n",
       "    .dataframe tbody tr th {\n",
       "        vertical-align: top;\n",
       "    }\n",
       "\n",
       "    .dataframe thead th {\n",
       "        text-align: right;\n",
       "    }\n",
       "</style>\n",
       "<table border=\"1\" class=\"dataframe\">\n",
       "  <thead>\n",
       "    <tr style=\"text-align: right;\">\n",
       "      <th></th>\n",
       "      <th>especi</th>\n",
       "      <th>lover</th>\n",
       "      <th>test</th>\n",
       "      <th>rcd</th>\n",
       "      <th>beehoon</th>\n",
       "      <th>sis</th>\n",
       "      <th>inperialmus</th>\n",
       "      <th>hogolo</th>\n",
       "      <th>korean</th>\n",
       "      <th>excel</th>\n",
       "      <th>...</th>\n",
       "      <th>cro1327</th>\n",
       "      <th>adi</th>\n",
       "      <th>warranti</th>\n",
       "      <th>belt</th>\n",
       "      <th>yetti</th>\n",
       "      <th>wan2</th>\n",
       "      <th>argument</th>\n",
       "      <th>bat</th>\n",
       "      <th>bangbab</th>\n",
       "      <th>bonus</th>\n",
       "    </tr>\n",
       "  </thead>\n",
       "  <tbody>\n",
       "    <tr>\n",
       "      <th>especi</th>\n",
       "      <td>9</td>\n",
       "      <td>0</td>\n",
       "      <td>0</td>\n",
       "      <td>0</td>\n",
       "      <td>0</td>\n",
       "      <td>0</td>\n",
       "      <td>0</td>\n",
       "      <td>0</td>\n",
       "      <td>0</td>\n",
       "      <td>0</td>\n",
       "      <td>...</td>\n",
       "      <td>0</td>\n",
       "      <td>0</td>\n",
       "      <td>0</td>\n",
       "      <td>0</td>\n",
       "      <td>0</td>\n",
       "      <td>0</td>\n",
       "      <td>0</td>\n",
       "      <td>0</td>\n",
       "      <td>0</td>\n",
       "      <td>0</td>\n",
       "    </tr>\n",
       "    <tr>\n",
       "      <th>lover</th>\n",
       "      <td>0</td>\n",
       "      <td>11</td>\n",
       "      <td>0</td>\n",
       "      <td>0</td>\n",
       "      <td>0</td>\n",
       "      <td>0</td>\n",
       "      <td>0</td>\n",
       "      <td>0</td>\n",
       "      <td>0</td>\n",
       "      <td>0</td>\n",
       "      <td>...</td>\n",
       "      <td>0</td>\n",
       "      <td>0</td>\n",
       "      <td>0</td>\n",
       "      <td>0</td>\n",
       "      <td>0</td>\n",
       "      <td>0</td>\n",
       "      <td>0</td>\n",
       "      <td>0</td>\n",
       "      <td>0</td>\n",
       "      <td>0</td>\n",
       "    </tr>\n",
       "    <tr>\n",
       "      <th>test</th>\n",
       "      <td>0</td>\n",
       "      <td>0</td>\n",
       "      <td>27</td>\n",
       "      <td>0</td>\n",
       "      <td>0</td>\n",
       "      <td>0</td>\n",
       "      <td>0</td>\n",
       "      <td>0</td>\n",
       "      <td>0</td>\n",
       "      <td>0</td>\n",
       "      <td>...</td>\n",
       "      <td>0</td>\n",
       "      <td>0</td>\n",
       "      <td>0</td>\n",
       "      <td>0</td>\n",
       "      <td>0</td>\n",
       "      <td>0</td>\n",
       "      <td>0</td>\n",
       "      <td>0</td>\n",
       "      <td>0</td>\n",
       "      <td>0</td>\n",
       "    </tr>\n",
       "    <tr>\n",
       "      <th>rcd</th>\n",
       "      <td>0</td>\n",
       "      <td>0</td>\n",
       "      <td>0</td>\n",
       "      <td>1</td>\n",
       "      <td>0</td>\n",
       "      <td>0</td>\n",
       "      <td>0</td>\n",
       "      <td>0</td>\n",
       "      <td>0</td>\n",
       "      <td>0</td>\n",
       "      <td>...</td>\n",
       "      <td>0</td>\n",
       "      <td>0</td>\n",
       "      <td>0</td>\n",
       "      <td>0</td>\n",
       "      <td>0</td>\n",
       "      <td>0</td>\n",
       "      <td>0</td>\n",
       "      <td>0</td>\n",
       "      <td>0</td>\n",
       "      <td>0</td>\n",
       "    </tr>\n",
       "    <tr>\n",
       "      <th>beehoon</th>\n",
       "      <td>0</td>\n",
       "      <td>0</td>\n",
       "      <td>0</td>\n",
       "      <td>0</td>\n",
       "      <td>1</td>\n",
       "      <td>0</td>\n",
       "      <td>0</td>\n",
       "      <td>0</td>\n",
       "      <td>0</td>\n",
       "      <td>0</td>\n",
       "      <td>...</td>\n",
       "      <td>0</td>\n",
       "      <td>0</td>\n",
       "      <td>0</td>\n",
       "      <td>0</td>\n",
       "      <td>0</td>\n",
       "      <td>0</td>\n",
       "      <td>0</td>\n",
       "      <td>0</td>\n",
       "      <td>0</td>\n",
       "      <td>0</td>\n",
       "    </tr>\n",
       "  </tbody>\n",
       "</table>\n",
       "<p>5 rows × 6529 columns</p>\n",
       "</div>"
      ],
      "text/plain": [
       "         especi  lover  test  rcd  beehoon  sis  inperialmus  hogolo  korean  \\\n",
       "especi        9      0     0    0        0    0            0       0       0   \n",
       "lover         0     11     0    0        0    0            0       0       0   \n",
       "test          0      0    27    0        0    0            0       0       0   \n",
       "rcd           0      0     0    1        0    0            0       0       0   \n",
       "beehoon       0      0     0    0        1    0            0       0       0   \n",
       "\n",
       "         excel  ...  cro1327  adi  warranti  belt  yetti  wan2  argument  bat  \\\n",
       "especi       0  ...        0    0         0     0      0     0         0    0   \n",
       "lover        0  ...        0    0         0     0      0     0         0    0   \n",
       "test         0  ...        0    0         0     0      0     0         0    0   \n",
       "rcd          0  ...        0    0         0     0      0     0         0    0   \n",
       "beehoon      0  ...        0    0         0     0      0     0         0    0   \n",
       "\n",
       "         bangbab  bonus  \n",
       "especi         0      0  \n",
       "lover          0      0  \n",
       "test           0      0  \n",
       "rcd            0      0  \n",
       "beehoon        0      0  \n",
       "\n",
       "[5 rows x 6529 columns]"
      ]
     },
     "execution_count": 7,
     "metadata": {},
     "output_type": "execute_result"
    }
   ],
   "source": [
    "k = 2\n",
    "coocurances = np.zeros((len(vocab), len(vocab)))\n",
    "# O(N*T^2)\n",
    "for doc in tokens:\n",
    "    for idx in range(len(doc)):\n",
    "        word_1 = doc[idx]\n",
    "        for word_2 in doc[max(0,idx - k): idx + k + 1]:\n",
    "            i,j = (stoi[word_1], stoi[word_2])\n",
    "            coocurances[i,j] += 1\n",
    "coocurances = pd.DataFrame(index=itos, columns=itos, data=coocurances).astype(int)\n",
    "coocurances.head(5)"
   ]
  },
  {
   "cell_type": "code",
   "execution_count": 8,
   "metadata": {},
   "outputs": [
    {
     "data": {
      "text/plain": [
       "xxpunct    40478\n",
       "xxcap       8628\n",
       "xxup        4493\n",
       "xxmon       1214\n",
       "xxnum       1209\n",
       "gt           957\n",
       "lt           715\n",
       "call         514\n",
       "?            400\n",
       "xxphone      306\n",
       "love         304\n",
       "ok           303\n",
       "get          293\n",
       "go           287\n",
       "day          228\n",
       "good         221\n",
       "xxemoji      212\n",
       "lor          210\n",
       "know         210\n",
       "k            188\n",
       "Name: xxpunct, dtype: int64"
      ]
     },
     "execution_count": 8,
     "metadata": {},
     "output_type": "execute_result"
    }
   ],
   "source": [
    "coocurances.loc['xxpunct'].sort_values(ascending=False).head(20)"
   ]
  },
  {
   "cell_type": "markdown",
   "metadata": {},
   "source": [
    "### Word-By-Document\n",
    "\n",
    "Count number of times a word occurs within a certain topic. Get a matrix of size $V \\times T$."
   ]
  },
  {
   "cell_type": "code",
   "execution_count": 9,
   "metadata": {},
   "outputs": [
    {
     "data": {
      "text/html": [
       "<div>\n",
       "<style scoped>\n",
       "    .dataframe tbody tr th:only-of-type {\n",
       "        vertical-align: middle;\n",
       "    }\n",
       "\n",
       "    .dataframe tbody tr th {\n",
       "        vertical-align: top;\n",
       "    }\n",
       "\n",
       "    .dataframe thead th {\n",
       "        text-align: right;\n",
       "    }\n",
       "</style>\n",
       "<table border=\"1\" class=\"dataframe\">\n",
       "  <thead>\n",
       "    <tr style=\"text-align: right;\">\n",
       "      <th></th>\n",
       "      <th>0</th>\n",
       "      <th>1</th>\n",
       "    </tr>\n",
       "  </thead>\n",
       "  <tbody>\n",
       "    <tr>\n",
       "      <th>xxpunct</th>\n",
       "      <td>16043</td>\n",
       "      <td>4309</td>\n",
       "    </tr>\n",
       "    <tr>\n",
       "      <th>xxcap</th>\n",
       "      <td>8440</td>\n",
       "      <td>3141</td>\n",
       "    </tr>\n",
       "    <tr>\n",
       "      <th>xxup</th>\n",
       "      <td>4504</td>\n",
       "      <td>2111</td>\n",
       "    </tr>\n",
       "    <tr>\n",
       "      <th>?</th>\n",
       "      <td>1367</td>\n",
       "      <td>173</td>\n",
       "    </tr>\n",
       "    <tr>\n",
       "      <th>go</th>\n",
       "      <td>418</td>\n",
       "      <td>35</td>\n",
       "    </tr>\n",
       "    <tr>\n",
       "      <th>xxemoji</th>\n",
       "      <td>407</td>\n",
       "      <td>0</td>\n",
       "    </tr>\n",
       "    <tr>\n",
       "      <th>xxnum</th>\n",
       "      <td>390</td>\n",
       "      <td>924</td>\n",
       "    </tr>\n",
       "    <tr>\n",
       "      <th>get</th>\n",
       "      <td>362</td>\n",
       "      <td>90</td>\n",
       "    </tr>\n",
       "    <tr>\n",
       "      <th>gt</th>\n",
       "      <td>318</td>\n",
       "      <td>0</td>\n",
       "    </tr>\n",
       "    <tr>\n",
       "      <th>lt</th>\n",
       "      <td>316</td>\n",
       "      <td>0</td>\n",
       "    </tr>\n",
       "    <tr>\n",
       "      <th>call</th>\n",
       "      <td>298</td>\n",
       "      <td>382</td>\n",
       "    </tr>\n",
       "    <tr>\n",
       "      <th>come</th>\n",
       "      <td>296</td>\n",
       "      <td>5</td>\n",
       "    </tr>\n",
       "    <tr>\n",
       "      <th>ok</th>\n",
       "      <td>287</td>\n",
       "      <td>5</td>\n",
       "    </tr>\n",
       "    <tr>\n",
       "      <th>love</th>\n",
       "      <td>252</td>\n",
       "      <td>10</td>\n",
       "    </tr>\n",
       "    <tr>\n",
       "      <th>know</th>\n",
       "      <td>248</td>\n",
       "      <td>26</td>\n",
       "    </tr>\n",
       "    <tr>\n",
       "      <th>like</th>\n",
       "      <td>246</td>\n",
       "      <td>13</td>\n",
       "    </tr>\n",
       "    <tr>\n",
       "      <th>day</th>\n",
       "      <td>241</td>\n",
       "      <td>32</td>\n",
       "    </tr>\n",
       "    <tr>\n",
       "      <th>good</th>\n",
       "      <td>234</td>\n",
       "      <td>12</td>\n",
       "    </tr>\n",
       "    <tr>\n",
       "      <th>got</th>\n",
       "      <td>232</td>\n",
       "      <td>7</td>\n",
       "    </tr>\n",
       "    <tr>\n",
       "      <th>time</th>\n",
       "      <td>232</td>\n",
       "      <td>19</td>\n",
       "    </tr>\n",
       "  </tbody>\n",
       "</table>\n",
       "</div>"
      ],
      "text/plain": [
       "             0     1\n",
       "xxpunct  16043  4309\n",
       "xxcap     8440  3141\n",
       "xxup      4504  2111\n",
       "?         1367   173\n",
       "go         418    35\n",
       "xxemoji    407     0\n",
       "xxnum      390   924\n",
       "get        362    90\n",
       "gt         318     0\n",
       "lt         316     0\n",
       "call       298   382\n",
       "come       296     5\n",
       "ok         287     5\n",
       "love       252    10\n",
       "know       248    26\n",
       "like       246    13\n",
       "day        241    32\n",
       "good       234    12\n",
       "got        232     7\n",
       "time       232    19"
      ]
     },
     "execution_count": 9,
     "metadata": {},
     "output_type": "execute_result"
    }
   ],
   "source": [
    "topics = sorted(np.unique(labels))\n",
    "n_topics = len(topics)\n",
    "wordbydoc = np.zeros((len(vocab), n_topics))\n",
    "for i in range(n_topics):\n",
    "    samples = df['text'][df.labels == i].tolist()\n",
    "    corpus = ' '.join(samples).split(' ')\n",
    "    corpus.remove('')\n",
    "    counter = Counter(corpus)\n",
    "    wordbydoc[:, i] = [counter[word] for word in itos]\n",
    "wordbydoc = pd.DataFrame(index=itos, columns=topics, data=wordbydoc).astype(int)\n",
    "wordbydoc.sort_values(by=[0], axis=0, ascending=False).head(20)"
   ]
  },
  {
   "cell_type": "markdown",
   "metadata": {},
   "source": [
    "### Distance and PCA"
   ]
  },
  {
   "cell_type": "code",
   "execution_count": 10,
   "metadata": {},
   "outputs": [
    {
     "name": "stdout",
     "output_type": "stream",
     "text": [
      "dist_euc(spam, notspam): 13278.495584967448\n"
     ]
    }
   ],
   "source": [
    "dist_euc = lambda x,y: np.linalg.norm(x - y)\n",
    "x = wordbydoc[0]\n",
    "y = wordbydoc[1]\n",
    "print('dist_euc(spam, notspam):', dist_euc(x, y))"
   ]
  },
  {
   "cell_type": "code",
   "execution_count": 11,
   "metadata": {},
   "outputs": [
    {
     "name": "stdout",
     "output_type": "stream",
     "text": [
      "dist_cos(spam, notspam): 0.044373491276475274\n"
     ]
    }
   ],
   "source": [
    "dist_cos = lambda x,y: 1 - np.dot(x, y) / (np.dot(x, x) * np.dot(y, y))**(1/2)\n",
    "x = wordbydoc[0]\n",
    "y = wordbydoc[1]\n",
    "print('dist_cos(spam, notspam):', dist_cos(x, y))"
   ]
  },
  {
   "cell_type": "code",
   "execution_count": 14,
   "metadata": {},
   "outputs": [
    {
     "name": "stdout",
     "output_type": "stream",
     "text": [
      "% variance explained: 0.8663614048770966\n"
     ]
    },
    {
     "data": {
      "text/plain": [
       "(6529, 2)"
      ]
     },
     "execution_count": 14,
     "metadata": {},
     "output_type": "execute_result"
    }
   ],
   "source": [
    "def pca(X, k=2):\n",
    "    X = (X - X.mean(axis=0)) / X.std(axis=0)\n",
    "    C = 1/len(X) * X.T @ X\n",
    "#     U,S,Vt = np.linalg.svd(C)\n",
    "#     Z = X @ U[:, :k]\n",
    "#     print(f'% variance explained: {np.diag(S)[:k].sum() / np.diag(S).sum()}')\n",
    "    # C = scipy.sparse.csc_matrix(C)\n",
    "    svd = TruncatedSVD(n_components=k)\n",
    "    Z = svd.fit_transform(C)\n",
    "    print(f'% variance explained: {svd.explained_variance_ratio_.sum()}')\n",
    "    return Z\n",
    "\n",
    "Z = pca(coocurances)\n",
    "Z.shape"
   ]
  },
  {
   "cell_type": "code",
   "execution_count": 16,
   "metadata": {},
   "outputs": [
    {
     "data": {
      "text/plain": [
       "<matplotlib.collections.PathCollection at 0x11cb30b38>"
      ]
     },
     "execution_count": 16,
     "metadata": {},
     "output_type": "execute_result"
    },
    {
     "data": {
      "image/png": "[encoded data removed]",
      "text/plain": [
       "<Figure size 432x288 with 1 Axes>"
      ]
     },
     "metadata": {
      "needs_background": "light"
     },
     "output_type": "display_data"
    }
   ],
   "source": [
    "plt.scatter(Z[:, 0], Z[:, 1])"
   ]
  },
  {
   "cell_type": "markdown",
   "metadata": {},
   "source": [
    "# Week 4: Vector Spaces\n",
    "\n",
    "$$ \\nabla^2 u - \\frac{1}{c^2} \\frac{\\partial^2 u}{\\partial t^2} = 0$$\n",
    "\n",
    "Translation: To translate $X$ to $Y$, find params $R$ st $XR \\approx Y$ by minimizing $L=||XR-Y||_F^2$ (via gradient descent). Note $||A||_F^2=\\text{tr} (A^T A)$, $\\nabla_R L = 2 X^T (XR-Y)$. In practice, minimize $J = \\frac{1}{n} L$."
   ]
  },
  {
   "cell_type": "code",
   "execution_count": 6,
   "metadata": {},
   "outputs": [
    {
     "data": {
      "text/plain": [
       "{0: [],\n",
       " 1: [41],\n",
       " 2: [],\n",
       " 3: [53, 83],\n",
       " 4: [24],\n",
       " 5: [95],\n",
       " 6: [],\n",
       " 7: [37, 27],\n",
       " 8: [],\n",
       " 9: [29, 9, 59]}"
      ]
     },
     "execution_count": 6,
     "metadata": {},
     "output_type": "execute_result"
    }
   ],
   "source": [
    "def hash_table(array, n_buckets):\n",
    "    hash = lambda x: x % n_buckets\n",
    "    table = {i:[] for i in range(n_buckets)}\n",
    "    for x in array:\n",
    "        h = hash(x)\n",
    "        table[h].append(x)\n",
    "    return table\n",
    "\n",
    "array = np.random.randint(0, 100+1, size=10)\n",
    "table = hash_table(array, n_buckets=10)\n",
    "table"
   ]
  },
  {
   "cell_type": "markdown",
   "metadata": {},
   "source": [
    "$$\\text{hash}(x) = \\sum_{i=0}^{n-1} 2^i h_i(x) = h_0(x) + 2h_1(x) + \\cdots + 2^{n-1}h_{n-1}(x),$$\n",
    "$$h_i(x)=\\text{sgn}(n_i \\cdot x)$$"
   ]
  },
  {
   "cell_type": "code",
   "execution_count": 7,
   "metadata": {},
   "outputs": [],
   "source": [
    "def hash_planes(normals, x):\n",
    "    side_of_plane = lambda n, x: int(np.dot(n, x) > 0)\n",
    "    signs = [2**i * side_of_plane(normals[i], x) for i in range(len(normals))]\n",
    "    return sum(signs)"
   ]
  },
  {
   "cell_type": "code",
   "execution_count": 8,
   "metadata": {},
   "outputs": [
    {
     "data": {
      "text/plain": [
       "[(3, array([-0.53333435,  0.25066034,  0.49415653])),\n",
       " (0, array([-0.56257222, -0.8801134 , -0.73805251])),\n",
       " (6, array([ 0.21199393,  0.69889281, -0.91000636])),\n",
       " (4, array([ 0.46830252, -0.31736271, -0.04294326])),\n",
       " (4, array([ 0.8577191 , -0.33605699, -0.06932613])),\n",
       " (0, array([-0.97263517, -0.83680256, -0.48281682])),\n",
       " (2, array([-0.94429552,  0.26275065, -0.14720329])),\n",
       " (4, array([ 0.09629041, -0.65070563, -0.40813594])),\n",
       " (6, array([ 0.32764895,  0.93060545, -0.89916645])),\n",
       " (7, array([0.78076864, 0.1537624 , 0.12783913]))]"
      ]
     },
     "execution_count": 8,
     "metadata": {},
     "output_type": "execute_result"
    }
   ],
   "source": [
    "X = np.random.uniform(low=-1, high=1, size=(10,3))\n",
    "normals = np.array([[0, 0, 1], [0, 1, 0], [1, 0, 0]])\n",
    "labels = [hash_planes(normals, x) for x in X]\n",
    "list(zip(labels, X))"
   ]
  },
  {
   "cell_type": "code",
   "execution_count": 9,
   "metadata": {},
   "outputs": [],
   "source": [
    "n_dims = 2\n",
    "n_planes = 3\n",
    "\n",
    "rand_planes = np.random.normal(size=(n_planes,n_dims))"
   ]
  },
  {
   "cell_type": "code",
   "execution_count": 15,
   "metadata": {},
   "outputs": [
    {
     "data": {
      "text/plain": [
       "([0, 0, 1], 4)"
      ]
     },
     "execution_count": 15,
     "metadata": {},
     "output_type": "execute_result"
    }
   ],
   "source": [
    "v = np.array([2,2])\n",
    "side_of_plane = lambda n, x: int(np.dot(n, x) > 0)\n",
    "sides = [side_of_plane(plane, v) for plane in rand_planes]\n",
    "label = hash_planes(rand_planes, v)\n",
    "sides, label"
   ]
  },
  {
   "cell_type": "code",
   "execution_count": 17,
   "metadata": {},
   "outputs": [
    {
     "name": "stdout",
     "output_type": "stream",
     "text": [
      "[1 0 3]\n"
     ]
    }
   ],
   "source": [
    "word_embeddings = {\n",
    "    'I': np.array([1,0,1]),\n",
    "    'love': np.array([-1,0,1]),\n",
    "    'learning': np.array([1,0,1])\n",
    "}\n",
    "\n",
    "doc = 'I love learning'.split(' ')\n",
    "\n",
    "doc_embedding = np.array([word_embeddings[word] for word in doc]).sum(axis=0)\n",
    "    \n",
    "print(doc_embedding)"
   ]
  },
  {
   "cell_type": "code",
   "execution_count": null,
   "metadata": {},
   "outputs": [],
   "source": []
  }
 ],
 "metadata": {
  "kernelspec": {
   "display_name": "Python 3",
   "language": "python",
   "name": "python3"
  },
  "language_info": {
   "codemirror_mode": {
    "name": "ipython",
    "version": 3
   },
   "file_extension": ".py",
   "mimetype": "text/x-python",
   "name": "python",
   "nbconvert_exporter": "python",
   "pygments_lexer": "ipython3",
   "version": "3.6.2"
  }
 },
 "nbformat": 4,
 "nbformat_minor": 4
}
