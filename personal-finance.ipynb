{
 "cells": [
  {
   "cell_type": "markdown",
   "id": "3ddb1021-d8a3-40a3-b8f6-5c740b615e6b",
   "metadata": {},
   "source": [
    "# Personal Finance\n",
    "\n",
    "Date: 12/1/2024"
   ]
  },
  {
   "cell_type": "code",
   "execution_count": 1,
   "id": "c3038b76-1ee7-41d5-8487-a7a093935d70",
   "metadata": {},
   "outputs": [],
   "source": [
    "import numpy as np\n",
    "import pandas as pd\n",
    "import matplotlib.pyplot as plt"
   ]
  },
  {
   "cell_type": "code",
   "execution_count": 2,
   "id": "fc39d090-0b96-42de-9fe3-7685a3555a7a",
   "metadata": {},
   "outputs": [],
   "source": [
    "current_savings = 8_000"
   ]
  },
  {
   "cell_type": "markdown",
   "id": "d5768fe7-1ff3-405a-be16-ce8fae4bc42d",
   "metadata": {},
   "source": [
    "## Budget"
   ]
  },
  {
   "cell_type": "markdown",
   "id": "eb145906-10d6-466e-b097-c2370ca23b70",
   "metadata": {},
   "source": [
    "### Income"
   ]
  },
  {
   "cell_type": "code",
   "execution_count": 3,
   "id": "b6d8f149-ad10-40fd-9816-0c12a798cb45",
   "metadata": {},
   "outputs": [],
   "source": [
    "base_salary = 190_550"
   ]
  },
  {
   "cell_type": "code",
   "execution_count": 4,
   "id": "5eef2f90-9e1b-4c80-b0c4-70dd64e27eae",
   "metadata": {},
   "outputs": [
    {
     "name": "stdout",
     "output_type": "stream",
     "text": [
      "annual_bonus = $22,866.00\n",
      "biannual_bonus = $11,433.00\n"
     ]
    }
   ],
   "source": [
    "bonus_factor = 0.12 # standard base\n",
    "annual_bonus = base_salary * bonus_factor\n",
    "biannual_bonus = annual_bonus / 2\n",
    "print(f'annual_bonus = ${annual_bonus:,.2f}')\n",
    "print(f'biannual_bonus = ${biannual_bonus:,.2f}')"
   ]
  },
  {
   "cell_type": "code",
   "execution_count": 5,
   "id": "b5a9855a-5961-4b8a-95b4-2c5e1c64efde",
   "metadata": {},
   "outputs": [
    {
     "name": "stdout",
     "output_type": "stream",
     "text": [
      "annual_equity = $80,194.00\n",
      "quarterly_equity = $20,048.50\n"
     ]
    }
   ],
   "source": [
    "share_price = 397.00\n",
    "num_shares = 202\n",
    "annual_equity = share_price * num_shares\n",
    "quarterly_equity = annual_equity / 4\n",
    "print(f'annual_equity = ${annual_equity:,.2f}')\n",
    "print(f'quarterly_equity = ${quarterly_equity:,.2f}')"
   ]
  },
  {
   "cell_type": "code",
   "execution_count": 6,
   "id": "21730e47-d9c8-4c7f-8e74-91a278e7b9c7",
   "metadata": {},
   "outputs": [],
   "source": [
    "tax_rate = 0.34\n",
    "bonus_tax_rate = 0.42"
   ]
  },
  {
   "cell_type": "code",
   "execution_count": 7,
   "id": "aa8d98e1-9b2a-4f42-a3c5-bf4eb177f28b",
   "metadata": {},
   "outputs": [],
   "source": [
    "other_monthly_income = 0"
   ]
  },
  {
   "cell_type": "code",
   "execution_count": 8,
   "id": "cea56153-ad47-405c-b834-418107421343",
   "metadata": {},
   "outputs": [
    {
     "name": "stdout",
     "output_type": "stream",
     "text": [
      "annual_compensation = $293,610.00\n"
     ]
    }
   ],
   "source": [
    "annual_compensation = base_salary + annual_equity + annual_bonus\n",
    "print(f'annual_compensation = ${annual_compensation:,.2f}')"
   ]
  },
  {
   "cell_type": "code",
   "execution_count": 9,
   "id": "153ca8af-74b5-43d6-92a4-3eedeba0d9f6",
   "metadata": {},
   "outputs": [
    {
     "name": "stdout",
     "output_type": "stream",
     "text": [
      "total_annual_income = $293,610.00\n"
     ]
    }
   ],
   "source": [
    "total_annual_income = annual_compensation + 8 * other_monthly_income # for 2024\n",
    "print(f'total_annual_income = ${total_annual_income:,.2f}')"
   ]
  },
  {
   "cell_type": "code",
   "execution_count": 10,
   "id": "421aa106-523a-4272-aeb6-b0ec83f3c90b",
   "metadata": {},
   "outputs": [
    {
     "name": "stdout",
     "output_type": "stream",
     "text": [
      "net_annual_income = $185,537.80\n"
     ]
    }
   ],
   "source": [
    "net_annual_income = base_salary * (1 - tax_rate) + (annual_equity + annual_bonus) * (1 - bonus_tax_rate) + 8 * other_monthly_income\n",
    "print(f'net_annual_income = ${net_annual_income:,.2f}')"
   ]
  },
  {
   "cell_type": "code",
   "execution_count": 11,
   "id": "3181c04a-7a3e-4a69-b478-c75bf457f1a8",
   "metadata": {},
   "outputs": [
    {
     "name": "stdout",
     "output_type": "stream",
     "text": [
      "monthly_salary = $15,879.17\n"
     ]
    }
   ],
   "source": [
    "monthly_salary = base_salary / 12\n",
    "print(f'monthly_salary = ${monthly_salary:,.2f}')"
   ]
  },
  {
   "cell_type": "code",
   "execution_count": 12,
   "id": "2265ca39-ee67-44c2-92c5-00c854195ea9",
   "metadata": {},
   "outputs": [
    {
     "name": "stdout",
     "output_type": "stream",
     "text": [
      "total_monthly_income = $15,879.17\n"
     ]
    }
   ],
   "source": [
    "total_monthly_income = base_salary / 12 + other_monthly_income\n",
    "print(f'total_monthly_income = ${total_monthly_income:,.2f}')"
   ]
  },
  {
   "cell_type": "code",
   "execution_count": 13,
   "id": "a1c4a628-52e4-43db-953f-de6385bf8190",
   "metadata": {},
   "outputs": [
    {
     "name": "stdout",
     "output_type": "stream",
     "text": [
      "net_monthly_income = $10,480.25\n"
     ]
    }
   ],
   "source": [
    "net_monthly_income = base_salary * (1 - tax_rate) / 12 + other_monthly_income\n",
    "print(f'net_monthly_income = ${net_monthly_income:,.2f}')"
   ]
  },
  {
   "cell_type": "code",
   "execution_count": 14,
   "id": "c1627277-71ef-4489-aa2f-32b90563f57b",
   "metadata": {},
   "outputs": [
    {
     "name": "stdout",
     "output_type": "stream",
     "text": [
      "total_per_paycheck = $7,939.58\n"
     ]
    }
   ],
   "source": [
    "total_per_paycheck = base_salary / 12 / 2\n",
    "print(f'total_per_paycheck = ${total_per_paycheck:,.2f}')"
   ]
  },
  {
   "cell_type": "code",
   "execution_count": 15,
   "id": "852327d6-ea71-4351-aa41-5d16e4972c37",
   "metadata": {},
   "outputs": [
    {
     "name": "stdout",
     "output_type": "stream",
     "text": [
      "net_per_paycheck = $5,240.12\n"
     ]
    }
   ],
   "source": [
    "net_per_paycheck = total_per_paycheck * (1 - tax_rate)\n",
    "print(f'net_per_paycheck = ${net_per_paycheck:,.2f}')"
   ]
  },
  {
   "cell_type": "code",
   "execution_count": 16,
   "id": "5467ca4b-5e50-4882-9132-b8afaf4df2f7",
   "metadata": {},
   "outputs": [
    {
     "name": "stdout",
     "output_type": "stream",
     "text": [
      "net_quarterly_equity = $11,628.13\n"
     ]
    }
   ],
   "source": [
    "net_quarterly_equity = quarterly_equity * (1 - bonus_tax_rate)\n",
    "print(f'net_quarterly_equity = ${net_quarterly_equity:,.2f}')"
   ]
  },
  {
   "cell_type": "code",
   "execution_count": 17,
   "id": "99d40268-beb3-4ed2-ac79-d4b1013a8c95",
   "metadata": {},
   "outputs": [
    {
     "name": "stdout",
     "output_type": "stream",
     "text": [
      "net_biannual_bonus = $6,631.14\n"
     ]
    }
   ],
   "source": [
    "net_biannual_bonus = biannual_bonus * (1 - bonus_tax_rate)\n",
    "print(f'net_biannual_bonus = ${net_biannual_bonus:,.2f}')"
   ]
  },
  {
   "cell_type": "code",
   "execution_count": 18,
   "id": "99a715e0-fc4c-49a6-bc03-49c73325b3f7",
   "metadata": {},
   "outputs": [
    {
     "name": "stdout",
     "output_type": "stream",
     "text": [
      "effective_total_monthly_income = $24,467.50\n"
     ]
    }
   ],
   "source": [
    "effective_total_monthly_income = total_monthly_income + annual_bonus / 12 + annual_equity / 12\n",
    "print(f'effective_total_monthly_income = ${effective_total_monthly_income:,.2f}')"
   ]
  },
  {
   "cell_type": "code",
   "execution_count": 19,
   "id": "2f8c51e1-cc22-40a8-b12d-ca2af83bd5fe",
   "metadata": {},
   "outputs": [
    {
     "name": "stdout",
     "output_type": "stream",
     "text": [
      "effective_net_monthly_income = $15,461.48\n"
     ]
    }
   ],
   "source": [
    "effective_net_monthly_income = net_annual_income / 12\n",
    "print(f'effective_net_monthly_income = ${effective_net_monthly_income:,.2f}')"
   ]
  },
  {
   "cell_type": "markdown",
   "id": "9e88b06b-1bf5-47bb-a8fe-eaea31aa794c",
   "metadata": {},
   "source": [
    "### Costs"
   ]
  },
  {
   "cell_type": "code",
   "execution_count": 20,
   "id": "1972f6c9-5adf-40d4-9e1b-7f4a2bab2017",
   "metadata": {},
   "outputs": [
    {
     "name": "stdout",
     "output_type": "stream",
     "text": [
      "fixed_costs = $3,420.00\n"
     ]
    }
   ],
   "source": [
    "fixed_costs = sum([\n",
    "    3000, # rent\n",
    "    170, # utilities\n",
    "    50, # health insurance\n",
    "    150, # car insurance\n",
    "    50, # subscriptions\n",
    "])\n",
    "\n",
    "print(f'fixed_costs = ${fixed_costs:,.2f}')"
   ]
  },
  {
   "cell_type": "code",
   "execution_count": 21,
   "id": "de50af07-5951-425c-bc01-46d870f6ac68",
   "metadata": {},
   "outputs": [
    {
     "name": "stdout",
     "output_type": "stream",
     "text": [
      "variable_costs_sc = $1,350.00\n"
     ]
    }
   ],
   "source": [
    "variable_costs_sc = sum([\n",
    "    30 * 30, # food + coffee + alcohol\n",
    "    100, # gas\n",
    "    150, # travel (1 hotel)\n",
    "    200, # misc\n",
    "])\n",
    "\n",
    "print(f'variable_costs_sc = ${variable_costs_sc:,.2f}')"
   ]
  },
  {
   "cell_type": "code",
   "execution_count": 22,
   "id": "9dc96378-39c1-405a-8df4-029117d44b3b",
   "metadata": {},
   "outputs": [
    {
     "name": "stdout",
     "output_type": "stream",
     "text": [
      "variable_costs_ca = $3,200.00\n"
     ]
    }
   ],
   "source": [
    "variable_costs_ca = sum([\n",
    "    40 * 30, # food + coffee + alcohol\n",
    "    300, # gas\n",
    "    2 * 450 + 4 * 150, # travel (roundtrip GSP-SFO airfare + 4 hotels)\n",
    "    200, # misc\n",
    "])\n",
    "\n",
    "print(f'variable_costs_ca = ${variable_costs_ca:,.2f}')"
   ]
  },
  {
   "cell_type": "code",
   "execution_count": 23,
   "id": "d81984e3-427a-4866-b9aa-d6cad04a4b82",
   "metadata": {},
   "outputs": [
    {
     "name": "stdout",
     "output_type": "stream",
     "text": [
      "total_monthly_costs_sc = $4,770.00\n"
     ]
    }
   ],
   "source": [
    "total_monthly_costs_sc = fixed_costs + variable_costs_sc\n",
    "print(f'total_monthly_costs_sc = ${total_monthly_costs_sc:,.2f}')"
   ]
  },
  {
   "cell_type": "code",
   "execution_count": 24,
   "id": "22c41750-681e-4e85-ac54-eda8eb8f8266",
   "metadata": {},
   "outputs": [
    {
     "name": "stdout",
     "output_type": "stream",
     "text": [
      "total_monthly_costs_ca = $6,620.00\n"
     ]
    }
   ],
   "source": [
    "total_monthly_costs_ca = fixed_costs + variable_costs_ca\n",
    "print(f'total_monthly_costs_ca = ${total_monthly_costs_ca:,.2f}')"
   ]
  },
  {
   "cell_type": "code",
   "execution_count": 25,
   "id": "34253238-9577-473d-be10-c0c098c1e900",
   "metadata": {},
   "outputs": [
    {
     "name": "stdout",
     "output_type": "stream",
     "text": [
      "avg_total_monthly_costs = $5,325.00\n"
     ]
    }
   ],
   "source": [
    "pct_time_in_sc = 0.7\n",
    "avg_total_monthly_costs = pct_time_in_sc * total_monthly_costs_sc + (1 - pct_time_in_sc) * total_monthly_costs_ca\n",
    "print(f'avg_total_monthly_costs = ${avg_total_monthly_costs:,.2f}')"
   ]
  },
  {
   "cell_type": "code",
   "execution_count": 26,
   "id": "9e4beb90-5fad-4e22-be55-73ddd4977712",
   "metadata": {},
   "outputs": [
    {
     "name": "stdout",
     "output_type": "stream",
     "text": [
      "total_annual_costs = $68,340.00\n"
     ]
    }
   ],
   "source": [
    "total_annual_costs = total_monthly_costs_sc * 6 + total_monthly_costs_ca * 6\n",
    "print(f'total_annual_costs = ${total_annual_costs:,.2f}')"
   ]
  },
  {
   "cell_type": "markdown",
   "id": "a7be6bf1-44e9-44f0-a329-fed0cfc3aa29",
   "metadata": {},
   "source": [
    "### Profits"
   ]
  },
  {
   "cell_type": "code",
   "execution_count": 27,
   "id": "a68e00d8-064b-4b7e-b98c-54c565cf9f0e",
   "metadata": {},
   "outputs": [
    {
     "name": "stdout",
     "output_type": "stream",
     "text": [
      "avg_monthly_profit = $5155.25\n"
     ]
    }
   ],
   "source": [
    "avg_monthly_profit = net_monthly_income - avg_total_monthly_costs\n",
    "print(f'avg_monthly_profit = ${round(avg_monthly_profit, 2)}')"
   ]
  },
  {
   "cell_type": "code",
   "execution_count": 28,
   "id": "4dc81e33-a86f-4076-9f07-9327bd4ea9f7",
   "metadata": {},
   "outputs": [
    {
     "name": "stdout",
     "output_type": "stream",
     "text": [
      "avg_effective_monthly_profit = $10136.48\n"
     ]
    }
   ],
   "source": [
    "avg_effective_monthly_profit = effective_net_monthly_income - avg_total_monthly_costs\n",
    "print(f'avg_effective_monthly_profit = ${round(avg_effective_monthly_profit, 2)}')"
   ]
  },
  {
   "cell_type": "code",
   "execution_count": 29,
   "id": "750ce17f-8070-4967-930d-654929f5667f",
   "metadata": {},
   "outputs": [
    {
     "name": "stdout",
     "output_type": "stream",
     "text": [
      "annual_profit = $117197.8\n"
     ]
    }
   ],
   "source": [
    "annual_profit = net_annual_income - total_annual_costs\n",
    "print(f'annual_profit = ${round(annual_profit, 2)}')"
   ]
  },
  {
   "cell_type": "markdown",
   "id": "06b989b5-c5bb-4b67-9c8a-842a510910e1",
   "metadata": {},
   "source": [
    "## Loans"
   ]
  },
  {
   "cell_type": "code",
   "execution_count": 30,
   "id": "e709340b-cd19-4bd7-9f8f-2e3ff0634ed8",
   "metadata": {},
   "outputs": [],
   "source": [
    "# def amortization_schedule(df, min_payment, extra_payments=[], start_at=0):\n",
    "#     df = df[df['principle'] > 0].copy()\n",
    "#     month = start_at\n",
    "#     amortization_records = [{\n",
    "#             'month': month,\n",
    "#             'total_payment': 0,\n",
    "#             'interest_paid': 0,\n",
    "#             'principal_paid': 0,\n",
    "#             'remaining_balance': df['principle'].sum()\n",
    "#     }]\n",
    "#     total_principal = df['principle'].sum()\n",
    "#     while total_principal > 0:\n",
    "#         month += 1\n",
    "#         monthly_interest = df['monthly_interest'].sum()\n",
    "#         total_payment = min_payment\n",
    "#         for extra_payment in extra_payments:\n",
    "#             if month >= extra_payment['shift_by'] and (month - extra_payment.get('shift_by', 0)) % extra_payment['num_months'] == 0:\n",
    "#                 total_payment += extra_payment['amount']\n",
    "#         principal_payment = max(0, total_payment - monthly_interest)\n",
    "#         if total_principal + monthly_interest < total_payment:\n",
    "#             principal_payment = total_principal\n",
    "#             min_payment = principal_payment + monthly_interest\n",
    "#         total_principal -= principal_payment\n",
    "#         amortization_records.append({\n",
    "#             'month': month,\n",
    "#             'total_payment': total_payment,\n",
    "#             'interest_paid': monthly_interest,\n",
    "#             'principal_paid': principal_payment,\n",
    "#             'remaining_balance': total_principal\n",
    "#         })\n",
    "#         df['payment_proportion'] = df['principle'] / df['principle'].sum()\n",
    "#         df['principle'] -= df['payment_proportion'] * principal_payment\n",
    "#         df['monthly_interest'] = (df['principle'] * df['apr'] / 12 / 100).round(2)\n",
    "#         if total_principal <= 1:\n",
    "#             break\n",
    "#     return pd.DataFrame(amortization_records)\n",
    "\n",
    "# remaining_car_principle = car_principle\n",
    "# df_car = pd.DataFrame(data=[[remaining_car_principle, car_apr]], columns=['principle', 'apr'])\n",
    "# df_car['principle'] = df_car['principle'].round(2)\n",
    "# df_car['monthly_interest'] = (df_car['principle'] * df_car['apr'] / 12 / 100).round(2)\n",
    "\n",
    "# extra_payments = [\n",
    "#     {'num_months': 1, 'amount': 1500, 'shift_by': 0},\n",
    "#     {'num_months': 3, 'amount': net_biannual_bonus, 'shift_by': months_till_next_bonus},\n",
    "#     {'num_months': 6, 'amount': net_quarterly_equity, 'shift_by': months_till_next_equity},\n",
    "# ]\n",
    "# amortization_df = amortization_schedule(df_car, car_payment, extra_payments)"
   ]
  },
  {
   "cell_type": "markdown",
   "id": "b6c6f6dc-d985-4e4e-9c71-ad61c9759f7f",
   "metadata": {},
   "source": [
    "## Timeline"
   ]
  },
  {
   "cell_type": "code",
   "execution_count": 33,
   "id": "11a62f77-c03b-4fc3-a0ff-5f3b77b1cfb1",
   "metadata": {},
   "outputs": [],
   "source": [
    "# Savings Met: May 2025"
   ]
  },
  {
   "cell_type": "code",
   "execution_count": 34,
   "id": "551946e9-ff4e-4617-9f01-831355596d8c",
   "metadata": {},
   "outputs": [
    {
     "name": "stdout",
     "output_type": "stream",
     "text": [
      "Month \t  Pay \t\t  Savings\n",
      "--------------------------------------\n",
      "Dec 1 \t  $5,155.25 \t  $8,000.00\n",
      "Jan 1 \t  $5,155.25 \t  $13,155.25\n",
      "Feb 1 \t  $16,783.38 \t  $18,310.50\n",
      "Mar 1 \t  $5,155.25 \t  $35,093.88\n",
      "Apr 1 \t  $11,786.39 \t  $40,249.13\n",
      "May 1 \t  $16,783.38 \t  $52,035.52\n",
      "Jun 1 \t  $5,155.25 \t  $68,818.90\n",
      "Jul 1 \t  $5,155.25 \t  $73,974.15\n",
      "Aug 1 \t  $16,783.38 \t  $79,129.40\n",
      "Sep 1 \t  $5,155.25 \t  $95,912.78\n",
      "Oct 1 \t  $11,786.39 \t  $101,068.03\n",
      "Nov 1 \t  $16,783.38 \t  $112,854.42\n",
      "Dec 1 \t  $5,155.25 \t  $129,637.80\n",
      "Jan 1 \t  $5,155.25 \t  $134,793.05\n",
      "Feb 1 \t  $16,783.38 \t  $139,948.30\n",
      "Mar 1 \t  $5,155.25 \t  $156,731.68\n",
      "Apr 1 \t  $11,786.39 \t  $161,886.93\n",
      "May 1 \t  $16,783.38 \t  $173,673.32\n"
     ]
    }
   ],
   "source": [
    "months = {1: 'Jan', 2: 'Feb', 3: 'Mar', 4: 'Apr', 5: 'May', 6: 'Jun', 7: 'Jul', 8: 'Aug', 9: 'Sep', 10: 'Oct', 11: 'Nov', 12: 'Dec'}\n",
    "\n",
    "savings = current_savings\n",
    "current_month = 12\n",
    "print('Month \\t  Pay \\t\\t  Savings')\n",
    "print('-' * 38)\n",
    "for i in range(18):\n",
    "    month = (current_month - 1) % 12 + 1\n",
    "    pay = avg_monthly_profit\n",
    "    if months[month] in ['Apr', 'Oct']:\n",
    "        pay += net_biannual_bonus\n",
    "    if months[month] in ['Feb', 'May', 'Aug', 'Nov']:\n",
    "        pay += net_quarterly_equity\n",
    "    print(f'{months[month]} 1 \\t  ${pay:,.2f} \\t  ${savings:,.2f}')\n",
    "    savings += pay\n",
    "    current_month += 1"
   ]
  },
  {
   "cell_type": "markdown",
   "id": "1069c5ca-8155-498f-9c4e-24dcb1772f4c",
   "metadata": {},
   "source": [
    "## Future Savings Projections"
   ]
  },
  {
   "cell_type": "code",
   "execution_count": 35,
   "id": "dd426ad2-871e-4de7-8300-86355ed5eebb",
   "metadata": {},
   "outputs": [
    {
     "data": {
      "text/html": [
       "<div>\n",
       "<style scoped>\n",
       "    .dataframe tbody tr th:only-of-type {\n",
       "        vertical-align: middle;\n",
       "    }\n",
       "\n",
       "    .dataframe tbody tr th {\n",
       "        vertical-align: top;\n",
       "    }\n",
       "\n",
       "    .dataframe thead th {\n",
       "        text-align: right;\n",
       "    }\n",
       "</style>\n",
       "<table border=\"1\" class=\"dataframe\">\n",
       "  <thead>\n",
       "    <tr style=\"text-align: right;\">\n",
       "      <th></th>\n",
       "      <th>year</th>\n",
       "      <th>gross comp</th>\n",
       "      <th>net comp</th>\n",
       "      <th>spending</th>\n",
       "      <th>savings</th>\n",
       "      <th>total savings raw</th>\n",
       "      <th>total savings spy</th>\n",
       "    </tr>\n",
       "  </thead>\n",
       "  <tbody>\n",
       "    <tr>\n",
       "      <th>0</th>\n",
       "      <td>1</td>\n",
       "      <td>$288,000.00</td>\n",
       "      <td>$187,200.00</td>\n",
       "      <td>$60,000.00</td>\n",
       "      <td>$177,200.00</td>\n",
       "      <td>$177,200.00</td>\n",
       "      <td>$177,200.00</td>\n",
       "    </tr>\n",
       "    <tr>\n",
       "      <th>1</th>\n",
       "      <td>2</td>\n",
       "      <td>$302,400.00</td>\n",
       "      <td>$196,560.00</td>\n",
       "      <td>$61,200.00</td>\n",
       "      <td>$185,360.00</td>\n",
       "      <td>$362,560.00</td>\n",
       "      <td>$380,280.00</td>\n",
       "    </tr>\n",
       "    <tr>\n",
       "      <th>2</th>\n",
       "      <td>3</td>\n",
       "      <td>$317,520.00</td>\n",
       "      <td>$206,388.00</td>\n",
       "      <td>$62,424.00</td>\n",
       "      <td>$193,964.00</td>\n",
       "      <td>$556,524.00</td>\n",
       "      <td>$612,272.00</td>\n",
       "    </tr>\n",
       "    <tr>\n",
       "      <th>3</th>\n",
       "      <td>4</td>\n",
       "      <td>$333,396.00</td>\n",
       "      <td>$216,707.40</td>\n",
       "      <td>$63,672.48</td>\n",
       "      <td>$203,034.92</td>\n",
       "      <td>$759,558.92</td>\n",
       "      <td>$876,534.12</td>\n",
       "    </tr>\n",
       "    <tr>\n",
       "      <th>4</th>\n",
       "      <td>5</td>\n",
       "      <td>$350,065.80</td>\n",
       "      <td>$227,542.77</td>\n",
       "      <td>$64,945.93</td>\n",
       "      <td>$212,596.84</td>\n",
       "      <td>$972,155.76</td>\n",
       "      <td>$1,176,784.37</td>\n",
       "    </tr>\n",
       "    <tr>\n",
       "      <th>5</th>\n",
       "      <td>6</td>\n",
       "      <td>$367,569.09</td>\n",
       "      <td>$238,919.91</td>\n",
       "      <td>$66,244.85</td>\n",
       "      <td>$222,675.06</td>\n",
       "      <td>$1,194,830.82</td>\n",
       "      <td>$1,517,137.87</td>\n",
       "    </tr>\n",
       "    <tr>\n",
       "      <th>6</th>\n",
       "      <td>7</td>\n",
       "      <td>$385,947.54</td>\n",
       "      <td>$250,865.90</td>\n",
       "      <td>$67,569.75</td>\n",
       "      <td>$233,296.16</td>\n",
       "      <td>$1,428,126.98</td>\n",
       "      <td>$1,902,147.82</td>\n",
       "    </tr>\n",
       "    <tr>\n",
       "      <th>7</th>\n",
       "      <td>8</td>\n",
       "      <td>$405,244.92</td>\n",
       "      <td>$263,409.20</td>\n",
       "      <td>$68,921.14</td>\n",
       "      <td>$244,488.06</td>\n",
       "      <td>$1,672,615.04</td>\n",
       "      <td>$2,336,850.66</td>\n",
       "    </tr>\n",
       "    <tr>\n",
       "      <th>8</th>\n",
       "      <td>9</td>\n",
       "      <td>$425,507.17</td>\n",
       "      <td>$276,579.66</td>\n",
       "      <td>$70,299.56</td>\n",
       "      <td>$256,280.10</td>\n",
       "      <td>$1,928,895.13</td>\n",
       "      <td>$2,826,815.82</td>\n",
       "    </tr>\n",
       "    <tr>\n",
       "      <th>9</th>\n",
       "      <td>10</td>\n",
       "      <td>$446,782.53</td>\n",
       "      <td>$290,408.64</td>\n",
       "      <td>$71,705.55</td>\n",
       "      <td>$268,703.09</td>\n",
       "      <td>$2,197,598.22</td>\n",
       "      <td>$3,378,200.49</td>\n",
       "    </tr>\n",
       "    <tr>\n",
       "      <th>10</th>\n",
       "      <td>11</td>\n",
       "      <td>$469,121.65</td>\n",
       "      <td>$304,929.07</td>\n",
       "      <td>$73,139.67</td>\n",
       "      <td>$281,789.41</td>\n",
       "      <td>$2,479,387.63</td>\n",
       "      <td>$3,997,809.95</td>\n",
       "    </tr>\n",
       "    <tr>\n",
       "      <th>11</th>\n",
       "      <td>12</td>\n",
       "      <td>$492,577.74</td>\n",
       "      <td>$320,175.53</td>\n",
       "      <td>$74,602.46</td>\n",
       "      <td>$295,573.07</td>\n",
       "      <td>$2,774,960.70</td>\n",
       "      <td>$4,693,164.01</td>\n",
       "    </tr>\n",
       "    <tr>\n",
       "      <th>12</th>\n",
       "      <td>13</td>\n",
       "      <td>$517,206.62</td>\n",
       "      <td>$336,184.30</td>\n",
       "      <td>$76,094.51</td>\n",
       "      <td>$310,089.80</td>\n",
       "      <td>$3,085,050.50</td>\n",
       "      <td>$5,472,570.21</td>\n",
       "    </tr>\n",
       "    <tr>\n",
       "      <th>13</th>\n",
       "      <td>14</td>\n",
       "      <td>$543,066.95</td>\n",
       "      <td>$352,993.52</td>\n",
       "      <td>$77,616.40</td>\n",
       "      <td>$325,377.12</td>\n",
       "      <td>$3,410,427.62</td>\n",
       "      <td>$6,345,204.35</td>\n",
       "    </tr>\n",
       "    <tr>\n",
       "      <th>14</th>\n",
       "      <td>15</td>\n",
       "      <td>$570,220.30</td>\n",
       "      <td>$370,643.20</td>\n",
       "      <td>$79,168.73</td>\n",
       "      <td>$341,474.47</td>\n",
       "      <td>$3,751,902.09</td>\n",
       "      <td>$7,321,199.25</td>\n",
       "    </tr>\n",
       "    <tr>\n",
       "      <th>15</th>\n",
       "      <td>16</td>\n",
       "      <td>$598,731.32</td>\n",
       "      <td>$389,175.36</td>\n",
       "      <td>$80,752.10</td>\n",
       "      <td>$358,423.25</td>\n",
       "      <td>$4,110,325.34</td>\n",
       "      <td>$8,411,742.43</td>\n",
       "    </tr>\n",
       "    <tr>\n",
       "      <th>16</th>\n",
       "      <td>17</td>\n",
       "      <td>$628,667.88</td>\n",
       "      <td>$408,634.12</td>\n",
       "      <td>$82,367.14</td>\n",
       "      <td>$376,266.98</td>\n",
       "      <td>$4,486,592.32</td>\n",
       "      <td>$9,629,183.66</td>\n",
       "    </tr>\n",
       "    <tr>\n",
       "      <th>17</th>\n",
       "      <td>18</td>\n",
       "      <td>$660,101.28</td>\n",
       "      <td>$429,065.83</td>\n",
       "      <td>$84,014.49</td>\n",
       "      <td>$395,051.34</td>\n",
       "      <td>$4,881,643.67</td>\n",
       "      <td>$10,987,153.37</td>\n",
       "    </tr>\n",
       "    <tr>\n",
       "      <th>18</th>\n",
       "      <td>19</td>\n",
       "      <td>$693,106.34</td>\n",
       "      <td>$450,519.12</td>\n",
       "      <td>$85,694.77</td>\n",
       "      <td>$414,824.35</td>\n",
       "      <td>$5,296,468.01</td>\n",
       "      <td>$12,500,693.05</td>\n",
       "    </tr>\n",
       "    <tr>\n",
       "      <th>19</th>\n",
       "      <td>20</td>\n",
       "      <td>$727,761.66</td>\n",
       "      <td>$473,045.08</td>\n",
       "      <td>$87,408.67</td>\n",
       "      <td>$435,636.41</td>\n",
       "      <td>$5,732,104.42</td>\n",
       "      <td>$14,186,398.76</td>\n",
       "    </tr>\n",
       "  </tbody>\n",
       "</table>\n",
       "</div>"
      ],
      "text/plain": [
       "    year   gross comp     net comp    spending      savings total savings raw  \\\n",
       "0      1  $288,000.00  $187,200.00  $60,000.00  $177,200.00       $177,200.00   \n",
       "1      2  $302,400.00  $196,560.00  $61,200.00  $185,360.00       $362,560.00   \n",
       "2      3  $317,520.00  $206,388.00  $62,424.00  $193,964.00       $556,524.00   \n",
       "3      4  $333,396.00  $216,707.40  $63,672.48  $203,034.92       $759,558.92   \n",
       "4      5  $350,065.80  $227,542.77  $64,945.93  $212,596.84       $972,155.76   \n",
       "5      6  $367,569.09  $238,919.91  $66,244.85  $222,675.06     $1,194,830.82   \n",
       "6      7  $385,947.54  $250,865.90  $67,569.75  $233,296.16     $1,428,126.98   \n",
       "7      8  $405,244.92  $263,409.20  $68,921.14  $244,488.06     $1,672,615.04   \n",
       "8      9  $425,507.17  $276,579.66  $70,299.56  $256,280.10     $1,928,895.13   \n",
       "9     10  $446,782.53  $290,408.64  $71,705.55  $268,703.09     $2,197,598.22   \n",
       "10    11  $469,121.65  $304,929.07  $73,139.67  $281,789.41     $2,479,387.63   \n",
       "11    12  $492,577.74  $320,175.53  $74,602.46  $295,573.07     $2,774,960.70   \n",
       "12    13  $517,206.62  $336,184.30  $76,094.51  $310,089.80     $3,085,050.50   \n",
       "13    14  $543,066.95  $352,993.52  $77,616.40  $325,377.12     $3,410,427.62   \n",
       "14    15  $570,220.30  $370,643.20  $79,168.73  $341,474.47     $3,751,902.09   \n",
       "15    16  $598,731.32  $389,175.36  $80,752.10  $358,423.25     $4,110,325.34   \n",
       "16    17  $628,667.88  $408,634.12  $82,367.14  $376,266.98     $4,486,592.32   \n",
       "17    18  $660,101.28  $429,065.83  $84,014.49  $395,051.34     $4,881,643.67   \n",
       "18    19  $693,106.34  $450,519.12  $85,694.77  $414,824.35     $5,296,468.01   \n",
       "19    20  $727,761.66  $473,045.08  $87,408.67  $435,636.41     $5,732,104.42   \n",
       "\n",
       "   total savings spy  \n",
       "0        $177,200.00  \n",
       "1        $380,280.00  \n",
       "2        $612,272.00  \n",
       "3        $876,534.12  \n",
       "4      $1,176,784.37  \n",
       "5      $1,517,137.87  \n",
       "6      $1,902,147.82  \n",
       "7      $2,336,850.66  \n",
       "8      $2,826,815.82  \n",
       "9      $3,378,200.49  \n",
       "10     $3,997,809.95  \n",
       "11     $4,693,164.01  \n",
       "12     $5,472,570.21  \n",
       "13     $6,345,204.35  \n",
       "14     $7,321,199.25  \n",
       "15     $8,411,742.43  \n",
       "16     $9,629,183.66  \n",
       "17    $10,987,153.37  \n",
       "18    $12,500,693.05  \n",
       "19    $14,186,398.76  "
      ]
     },
     "execution_count": 35,
     "metadata": {},
     "output_type": "execute_result"
    }
   ],
   "source": [
    "import pandas as pd\n",
    "import numpy as np\n",
    "\n",
    "def calculate_financials(comp, tax_rate, raise_rate, spending, inflation_rate, spy_rate, n_years, initial_savings=0):\n",
    "    df = pd.DataFrame({'year': range(1, n_years + 1)})\n",
    "    df['gross comp'] = comp * (1 + raise_rate) ** (df['year'] - 1)\n",
    "    df['net comp'] = df['gross comp'] * (1 - tax_rate)\n",
    "    df['spending'] = spending * (1 + inflation_rate) ** (df['year'] - 1)\n",
    "    df['savings'] = df['net comp'] - df['spending'] + initial_savings\n",
    "    df['total savings raw'] = df['savings'].cumsum()\n",
    "    df.loc[0, 'total savings spy'] = df.loc[0, 'savings']\n",
    "    for i in range(1, n_years):\n",
    "        df.loc[i, 'total savings spy'] = df.loc[i - 1, 'total savings spy'] * (1 + spy_rate) + df.loc[i, 'savings']\n",
    "    df['gross comp'] = df['gross comp'].map(lambda x: f'${x:,.2f}')\n",
    "    df['net comp'] = df['net comp'].map(lambda x: f'${x:,.2f}')\n",
    "    df['spending'] = df['spending'].map(lambda x: f'${x:,.2f}')\n",
    "    df['savings'] = df['savings'].map(lambda x: f'${x:,.2f}')\n",
    "    df['total savings raw'] = df['total savings raw'].map(lambda x: f'${x:,.2f}')\n",
    "    df['total savings spy'] = df['total savings spy'].map(lambda x: f'${x:,.2f}')\n",
    "    return df\n",
    "\n",
    "df = calculate_financials(comp=288_000.00, tax_rate=0.35, raise_rate=0.05, spending=60_000.00, inflation_rate=0.02, spy_rate=0.1, n_years=20,\n",
    "                          initial_savings=50_000)\n",
    "df"
   ]
  },
  {
   "cell_type": "code",
   "execution_count": 36,
   "id": "05b5b92f-9389-4eb6-880b-866107008a59",
   "metadata": {},
   "outputs": [
    {
     "data": {
      "image/png": "[encoded data removed]",
      "text/plain": [
       "<Figure size 640x480 with 1 Axes>"
      ]
     },
     "metadata": {},
     "output_type": "display_data"
    }
   ],
   "source": [
    "import matplotlib.pyplot as plt\n",
    "from matplotlib.ticker import FuncFormatter, AutoMinorLocator\n",
    "\n",
    "df[['total savings raw', 'total savings spy']].map(lambda x: float(x.replace('$', '').replace(',', ''))).plot()\n",
    "plt.xticks(range(0, len(df)+1, 5))\n",
    "plt.gca().yaxis.set_major_formatter(FuncFormatter(lambda x, pos: f'${int(x * 1e-6):d}M'))\n",
    "plt.gca().xaxis.set_minor_locator(AutoMinorLocator(5))\n",
    "plt.gca().yaxis.set_minor_locator(AutoMinorLocator(5))\n",
    "plt.minorticks_on()\n",
    "plt.xlim(0, len(df))\n",
    "plt.xlabel('years')\n",
    "plt.ylabel('dollars')\n",
    "plt.title('Projected Savings')\n",
    "plt.grid()\n",
    "plt.show()"
   ]
  },
  {
   "cell_type": "code",
   "execution_count": null,
   "id": "b9f39f8d-87be-445d-ba7c-6864df6bf54f",
   "metadata": {},
   "outputs": [],
   "source": []
  },
  {
   "cell_type": "code",
   "execution_count": null,
   "id": "15a70277-d54d-42de-8a91-e70b7e1d3bc2",
   "metadata": {},
   "outputs": [],
   "source": []
  },
  {
   "cell_type": "code",
   "execution_count": 37,
   "id": "8e9d2c4d-85ef-41ce-b18c-3877ff8147fd",
   "metadata": {},
   "outputs": [],
   "source": [
    "# import matplotlib.pyplot as plt\n",
    "# import numpy as np\n",
    "\n",
    "# L = np.pi\n",
    "# h = 2\n",
    "\n",
    "# x = np.linspace(-L, L, 1000)\n",
    "# # f = lambda x: h * np.where((-L <= x) & (x <= -L/2), 0, np.where((-L/2 < x) & (x < L/2), 1, np.where((L/2 <= x) & (x <= L), 0, np.nan)))\n",
    "# f = lambda x: h * np.where(x >= 0, 0, h)\n",
    "\n",
    "# def partial_sum(x, n):\n",
    "#     y = h / 2 * np.ones(x.shape)\n",
    "#     # y += sum([2 * h / np.pi * (-1)**n / (2*n + 1) * np.cos((2*n + 1) * np.pi * x / L) for n in range(2*n + 1)])\n",
    "#     y += sum([-2 * h / np.pi * np.sin(n * np.pi * x / L) / n for n in range(1, n+1, 2)])\n",
    "#     return y\n",
    "\n",
    "# plt.plot(x, f(x), alpha=1, linewidth=2, zorder=0, label='$f(x)$')\n",
    "# plt.plot(x, partial_sum(x, 1), alpha=0.8, linewidth=1, zorder=1, label='$S_1$')\n",
    "# plt.plot(x, partial_sum(x, 5), alpha=0.8, linewidth=1, zorder=2, label='$S_{5}$')\n",
    "# plt.plot(x, partial_sum(x, 10), alpha=0.8, linewidth=1, zorder=3, label='$S_{10}$')\n",
    "# plt.plot(x, partial_sum(x, 100), alpha=0.8, linewidth=1, zorder=4, label='$S_{100}$')\n",
    "# plt.xlabel('$x$')\n",
    "# plt.ylabel('$y$')\n",
    "# plt.xlim(-L, L)\n",
    "# plt.ylim(-0.3, h * 1.2)\n",
    "# plt.legend(loc='upper right')\n",
    "# plt.show()"
   ]
  },
  {
   "cell_type": "code",
   "execution_count": 38,
   "id": "afdeb882-83ac-455a-9513-35ca3e2c0118",
   "metadata": {},
   "outputs": [],
   "source": [
    "# import matplotlib.pyplot as plt\n",
    "# import numpy as np\n",
    "# import scipy.special as sp\n",
    "# from scipy.integrate import quad\n",
    "# import math\n",
    "\n",
    "# f = lambda x: np.where(x < 0, -1, np.where(x > 0, 1, np.nan))\n",
    "# log_a = lambda n: mpmath.log(2*n + 1) + mpmath.log(mpmath.factorial(n-2)) - mpmath.log(2) * ((n + 1) // 2) - mpmath.log(mpmath.factorial((n-1)//2)) - mpmath.log(mpmath.factorial((n+1)//2))\n",
    "\n",
    "# def legendre_coefficient(n):\n",
    "#     integrand_left = lambda x: f(x) * sp.eval_legendre(n, x)\n",
    "#     integral_left = quad(integrand_left, -1, 0, limit=100)[0]\n",
    "#     integrand_right = lambda x: f(x) * sp.eval_legendre(n, x)\n",
    "#     integral_right = quad(integrand_right, 0, 1, limit=100)[0]\n",
    "#     return (2 * n + 1) / 2 * (integral_left + integral_right)\n",
    "\n",
    "# def legendre_partial_sum(x, N):\n",
    "#     y = np.zeros(x.shape)\n",
    "#     for n in range(N + 1):\n",
    "#         if n % 2 == 1:\n",
    "#             an = legendre_coefficient(n)\n",
    "#             y += an * sp.eval_legendre(n, x)\n",
    "#     return y\n",
    "\n",
    "# x = np.linspace(-1, 1, 1000)\n",
    "\n",
    "# plt.plot(x, f(x), alpha=1, linewidth=2, zorder=0, label='$f(x)$')\n",
    "# plt.plot(x, legendre_partial_sum(x, 3), alpha=0.8, linewidth=1, zorder=2, label='$S_{3}$')\n",
    "# plt.plot(x, legendre_partial_sum(x, 5), alpha=0.8, linewidth=1, zorder=3, label='$S_{5}$')\n",
    "# plt.plot(x, legendre_partial_sum(x, 7), alpha=0.8, linewidth=1, zorder=4, label='$S_{7}$')\n",
    "# plt.plot(x, legendre_partial_sum(x, 99), alpha=0.8, linewidth=1, zorder=5, label='$S_{99}$')\n",
    "\n",
    "# plt.xlabel('$x$')\n",
    "# plt.ylabel('$y$')\n",
    "# plt.xlim(-1, 1)\n",
    "# plt.ylim(-2, 2)\n",
    "# plt.legend(loc='lower right')\n",
    "# plt.show()"
   ]
  },
  {
   "cell_type": "code",
   "execution_count": null,
   "id": "b8b5fbaf-781b-4af5-98a9-04afcfe19fe3",
   "metadata": {},
   "outputs": [],
   "source": []
  },
  {
   "cell_type": "code",
   "execution_count": 39,
   "id": "e9d7e012-ab5a-476f-843a-85fe8f646fb9",
   "metadata": {},
   "outputs": [],
   "source": [
    "# import matplotlib.pyplot as plt\n",
    "# import numpy as np\n",
    "# from scipy.integrate import ode as ode\n",
    "# from matplotlib import cm\n",
    "# from itertools import product\n",
    "\n",
    "# class charge:\n",
    "#     def __init__(self, q, pos):\n",
    "#         self.q=q\n",
    "#         self.pos=pos\n",
    " \n",
    "# def E_point_charge(q, a, x, y):\n",
    "#     return q*(x-a[0])/((x-a[0])**2+(y-a[1])**2)**(1.5), \\\n",
    "#         q*(y-a[1])/((x-a[0])**2+(y-a[1])**2)**(1.5)\n",
    " \n",
    "# def E_total(x, y, charges):\n",
    "#     Ex, Ey=0, 0\n",
    "#     for C in charges:\n",
    "#         E=E_point_charge(C.q, C.pos, x, y)\n",
    "#         Ex=Ex+E[0]\n",
    "#         Ey=Ey+E[1]\n",
    "#     return [ Ex, Ey ]\n",
    "\n",
    "# def E_dir(t, y, charges):\n",
    "#     Ex, Ey=E_total(y[0], y[1], charges)\n",
    "#     n=np.sqrt(Ex**2+Ey*Ey)\n",
    "#     return [Ex/n, Ey/n]\n",
    "\n",
    "# # charges and positions\n",
    "# d = 0.01\n",
    "# # charges = [charge(-1/d, [0, -d]), charge(1/d, [0, d])]\n",
    "# charges = [charge(1/d, [d, d]), charge(-1/d, [d, -d]), charge(1/d, [-d, -d]), charge(-1/d, [-d, d])]\n",
    "# # charges = [charge(1/d, [d, d]), charge(1/d, [d, -d]), charge(1/d, [-d, -d]), charge(1/d, [-d, d]),\n",
    "# #            charge(-1/d, [0, d]), charge(-1/d, [-d, 0]), charge(-1/d, [0, -d]), charge(-1/d, [d, 0])]\n",
    "# n_lines = 2 * 2048\n",
    "\n",
    "# # calculate field lines\n",
    "# x0, x1=-3, 3\n",
    "# y0, y1=-3, 3\n",
    "# R=0.01\n",
    "# # loop over all charges\n",
    "# xs,ys = [],[]\n",
    "# for C in charges:\n",
    "#     # plot field lines starting in current charge\n",
    "#     dt=0.8*R\n",
    "#     if C.q<0:\n",
    "#         dt=-dt\n",
    "#     # loop over field lines starting in different directions \n",
    "#     # around current charge\n",
    "#     for alpha in np.linspace(0, 2*np.pi*(n_lines-1)/n_lines, n_lines):\n",
    "#         r=ode(E_dir)\n",
    "#         r.set_integrator('vode')\n",
    "#         r.set_f_params(charges)\n",
    "#         x=[ C.pos[0] + np.cos(alpha)*R ]\n",
    "#         y=[ C.pos[1] + np.sin(alpha)*R ]\n",
    "#         r.set_initial_value([x[0], y[0]], 0)\n",
    "#         while r.successful():\n",
    "#             r.integrate(r.t+dt)\n",
    "#             x.append(r.y[0])\n",
    "#             y.append(r.y[1])\n",
    "#             hit_charge=False\n",
    "#             # check if field line left drwaing area or ends in some charge\n",
    "#             for C2 in charges:\n",
    "#                 if np.sqrt((r.y[0]-C2.pos[0])**2+(r.y[1]-C2.pos[1])**2)<R:\n",
    "#                     hit_charge=True\n",
    "#             if hit_charge or (not (x0<r.y[0] and r.y[0]<x1)) or \\\n",
    "#                     (not (y0<r.y[1] and r.y[1]<y1)):\n",
    "#                 break\n",
    "#         xs.append(x)\n",
    "#         ys.append(y)\n",
    "\n",
    "# plt.figure(figsize=(5.5, 4.5),facecolor=\"w\")\n",
    "\n",
    "# # plot field line\n",
    "# for x, y in zip(xs,ys):\n",
    "#     plt.plot(x, y, color=\"k\", linewidth=0.5, alpha=0.8)\n",
    "\n",
    "# # plot point charges\n",
    "# for C in charges:\n",
    "#     if C.q>0:\n",
    "#         plt.plot(C.pos[0], C.pos[1], 'ro', ms=5)#*np.sqrt(C.q))\n",
    "#     if C.q<0:\n",
    "#         plt.plot(C.pos[0], C.pos[1], 'bo', ms=0.05)#*np.sqrt(-C.q))\n",
    "\n",
    "# plt.xlim(x0, x1)\n",
    "# plt.ylim(y0, y1)\n",
    "# plt.axis('off')\n",
    "# plt.show()\n",
    "\n",
    "# calculate and plot the electric potential\n",
    "\n",
    "# def V_point_charge(q, a, x, y):\n",
    "#     return q/((x-a[0])**2+(y-a[1])**2)**(0.5)\n",
    "\n",
    "# def V_total(x, y, charges):\n",
    "#     V=0\n",
    "#     for C in charges:\n",
    "#         Vp=V_point_charge(C.q, C.pos, x, y)\n",
    "#         V = V+Vp\n",
    "#     return V\n",
    "\n",
    "# vvs = []\n",
    "# xxs = []\n",
    "# yys = []\n",
    "# numcalcv = 300\n",
    "# for xx,yy in product(np.linspace(x0,x1,numcalcv),np.linspace(y0,y1,numcalcv)):\n",
    "#     xxs.append(xx)\n",
    "#     yys.append(yy)\n",
    "#     vvs.append(V_total(xx,yy,charges))\n",
    "# xxs = np.array(xxs)\n",
    "# yys = np.array(yys)\n",
    "# vvs = np.array(vvs)\n",
    "\n",
    "# clim0,clim1 = -2,2\n",
    "# vvs[np.where(vvs<clim0)] = clim0*0.999999 # to avoid error\n",
    "# vvs[np.where(vvs>clim1)] = clim1*0.999999 # to avoid error\n",
    "# plt.tricontour(xxs,yys,vvs,10,colors=\"0.3\")\n",
    "# plt.tricontourf(xxs,yys,vvs,100,cmap=cm.jet)\n",
    "# cbar = plt.colorbar()\n",
    "# cbar.set_clim(clim0,clim1)\n",
    "# cbar.set_ticks([-2,-1.5,-1,-0.5,0,0.5,1,1.5,2])\n",
    "# cbar.set_label(\"Electric Potential\")\n",
    "# plt.xlabel('$x$')\n",
    "# plt.ylabel('$y$')\n",
    "# plt.xlim(x0, x1)\n",
    "# plt.ylim(y0, y1)\n",
    "# plt.axes().set_aspect('equal','datalim')\n",
    "# plt.savefig('electric_force_lines_1.png',dpi=250,bbox_inches=\"tight\",pad_inches=0.02)\n",
    "# plt.show()"
   ]
  },
  {
   "cell_type": "code",
   "execution_count": 1,
   "id": "6bf51dd5-8fac-45d1-83eb-c3ad362bb157",
   "metadata": {},
   "outputs": [
    {
     "name": "stdout",
     "output_type": "stream",
     "text": [
      "Certainly! Here's a simple Python function that, when called, prints \"Hello, World!\" to the console.\n",
      "\n",
      "```python\n",
      "def hello_world():\n",
      "    print(\"Hello, World!\")\n",
      "\n",
      "# Call the function\n",
      "hello_world()\n",
      "```\n",
      "\n",
      "You can run this code in any Python environment, and it will display \"Hello, World!\" when the `hello_world()` function is invoked.\n"
     ]
    }
   ],
   "source": [
    "! llm 'Write a simple python hello world function'"
   ]
  },
  {
   "cell_type": "code",
   "execution_count": null,
   "id": "34d00a14-924b-4f2b-89a7-4e7b6dc989f0",
   "metadata": {},
   "outputs": [],
   "source": []
  }
 ],
 "metadata": {
  "kernelspec": {
   "display_name": "Python 3 (ipykernel)",
   "language": "python",
   "name": "python3"
  },
  "language_info": {
   "codemirror_mode": {
    "name": "ipython",
    "version": 3
   },
   "file_extension": ".py",
   "mimetype": "text/x-python",
   "name": "python",
   "nbconvert_exporter": "python",
   "pygments_lexer": "ipython3",
   "version": "3.12.2"
  }
 },
 "nbformat": 4,
 "nbformat_minor": 5
}
