{
 "cells": [
  {
   "cell_type": "code",
   "execution_count": 1,
   "id": "33bf64a5-5baa-4a66-924a-466cc09a0985",
   "metadata": {},
   "outputs": [],
   "source": [
    "import sympy as sp\n",
    "\n",
    "sp.init_printing()"
   ]
  },
  {
   "cell_type": "code",
   "execution_count": 2,
   "id": "f2c338ce-55ab-4113-9770-c073b7015a27",
   "metadata": {},
   "outputs": [],
   "source": [
    "from IPython.core.interactiveshell import InteractiveShell\n",
    "InteractiveShell.ast_node_interactivity = \"all\"\n",
    "\n",
    "import warnings\n",
    "warnings.filterwarnings(\"ignore\")"
   ]
  },
  {
   "cell_type": "markdown",
   "id": "8ccbc442-fda2-43e4-aa8d-408c6e295295",
   "metadata": {},
   "source": [
    "### Intro"
   ]
  },
  {
   "cell_type": "code",
   "execution_count": 3,
   "id": "3604d237-3530-49de-96c0-69b3e31e098b",
   "metadata": {},
   "outputs": [
    {
     "data": {
      "image/png": "[encoded data removed]",
      "text/latex": [
       "$\\displaystyle 4$"
      ],
      "text/plain": [
       "4"
      ]
     },
     "execution_count": 3,
     "metadata": {},
     "output_type": "execute_result"
    }
   ],
   "source": [
    "2+2"
   ]
  },
  {
   "cell_type": "code",
   "execution_count": 4,
   "id": "b3904a04-bc55-4cd3-a452-7e8c21a8d25d",
   "metadata": {},
   "outputs": [
    {
     "data": {
      "image/png": "[encoded data removed]",
      "text/latex": [
       "$\\displaystyle x$"
      ],
      "text/plain": [
       "x"
      ]
     },
     "execution_count": 4,
     "metadata": {},
     "output_type": "execute_result"
    },
    {
     "data": {
      "image/png": "[encoded data removed]",
      "text/latex": [
       "$\\displaystyle \\int e^{x} \\cos{\\left(x \\right)}\\, dx$"
      ],
      "text/plain": [
       "⌠             \n",
       "⎮  x          \n",
       "⎮ ℯ ⋅cos(x) dx\n",
       "⌡             "
      ]
     },
     "execution_count": 4,
     "metadata": {},
     "output_type": "execute_result"
    },
    {
     "data": {
      "image/png": "[encoded data removed]",
      "text/latex": [
       "$\\displaystyle \\frac{e^{x} \\sin{\\left(x \\right)}}{2} + \\frac{e^{x} \\cos{\\left(x \\right)}}{2}$"
      ],
      "text/plain": [
       " x           x       \n",
       "ℯ ⋅sin(x)   ℯ ⋅cos(x)\n",
       "───────── + ─────────\n",
       "    2           2    "
      ]
     },
     "execution_count": 4,
     "metadata": {},
     "output_type": "execute_result"
    },
    {
     "data": {
      "image/png": "[encoded data removed]",
      "text/latex": [
       "$\\displaystyle \\int e^{x} \\cos{\\left(x \\right)}\\, dx = \\frac{e^{x} \\sin{\\left(x \\right)}}{2} + \\frac{e^{x} \\cos{\\left(x \\right)}}{2}$"
      ],
      "text/plain": [
       "⌠                 x           x       \n",
       "⎮  x             ℯ ⋅sin(x)   ℯ ⋅cos(x)\n",
       "⎮ ℯ ⋅cos(x) dx = ───────── + ─────────\n",
       "⌡                    2           2    "
      ]
     },
     "execution_count": 4,
     "metadata": {},
     "output_type": "execute_result"
    }
   ],
   "source": [
    "x = sp.symbols('x')\n",
    "a = sp.Integral(sp.cos(x)*sp.exp(x), x)\n",
    "\n",
    "x\n",
    "a\n",
    "a.doit()\n",
    "sp.Eq(a, a.doit())"
   ]
  },
  {
   "cell_type": "code",
   "execution_count": 5,
   "id": "cec0559e-d733-469d-bfc8-362dda32fce7",
   "metadata": {},
   "outputs": [
    {
     "data": {
      "image/png": "[encoded data removed]",
      "text/latex": [
       "$\\displaystyle \\frac{e^{x} \\sin{\\left(x \\right)}}{2} + \\frac{e^{x} \\cos{\\left(x \\right)}}{2}$"
      ],
      "text/plain": [
       " x           x       \n",
       "ℯ ⋅sin(x)   ℯ ⋅cos(x)\n",
       "───────── + ─────────\n",
       "    2           2    "
      ]
     },
     "execution_count": 5,
     "metadata": {},
     "output_type": "execute_result"
    }
   ],
   "source": [
    "sp.integrate(sp.cos(x)*sp.exp(x), x)"
   ]
  },
  {
   "cell_type": "code",
   "execution_count": 6,
   "id": "a3db4c90-cb1c-45e5-8671-aa1651ec9a5a",
   "metadata": {},
   "outputs": [
    {
     "data": {
      "image/png": "[encoded data removed]",
      "text/latex": [
       "$\\displaystyle - \\frac{e^{\\pi}}{2} - \\frac{1}{2}$"
      ],
      "text/plain": [
       "   π    \n",
       "  ℯ    1\n",
       "- ── - ─\n",
       "  2    2"
      ]
     },
     "execution_count": 6,
     "metadata": {},
     "output_type": "execute_result"
    }
   ],
   "source": [
    "sp.integrate(sp.cos(x)*sp.exp(x), (x, 0, sp.pi))"
   ]
  },
  {
   "cell_type": "code",
   "execution_count": 7,
   "id": "626a001a-dda1-4a18-a8fe-d6335c12c85e",
   "metadata": {},
   "outputs": [
    {
     "data": {
      "image/png": "[encoded data removed]",
      "text/latex": [
       "$\\displaystyle \\iint x y\\, dx\\, dy$"
      ],
      "text/plain": [
       "⌠ ⌠          \n",
       "⎮ ⎮ x⋅y dx dy\n",
       "⌡ ⌡          "
      ]
     },
     "execution_count": 7,
     "metadata": {},
     "output_type": "execute_result"
    }
   ],
   "source": [
    "sp.Integral(sp.Integral(sp.abc.x * sp.abc.y, sp.abc.x), sp.abc.y)"
   ]
  },
  {
   "cell_type": "code",
   "execution_count": 8,
   "id": "703d9f0c-4edf-4078-98c4-a853277078ad",
   "metadata": {},
   "outputs": [
    {
     "data": {
      "image/png": "[encoded data removed]",
      "text/latex": [
       "$\\displaystyle \\frac{d}{d x} e^{x} \\cos{\\left(x \\right)}$"
      ],
      "text/plain": [
       "d ⎛ x       ⎞\n",
       "──⎝ℯ ⋅cos(x)⎠\n",
       "dx           "
      ]
     },
     "execution_count": 8,
     "metadata": {},
     "output_type": "execute_result"
    },
    {
     "data": {
      "image/png": "[encoded data removed]",
      "text/latex": [
       "$\\displaystyle \\frac{d}{d x} e^{x} \\cos{\\left(x \\right)} = - e^{x} \\sin{\\left(x \\right)} + e^{x} \\cos{\\left(x \\right)}$"
      ],
      "text/plain": [
       "d ⎛ x       ⎞      x           x       \n",
       "──⎝ℯ ⋅cos(x)⎠ = - ℯ ⋅sin(x) + ℯ ⋅cos(x)\n",
       "dx                                     "
      ]
     },
     "execution_count": 8,
     "metadata": {},
     "output_type": "execute_result"
    }
   ],
   "source": [
    "dydx = sp.Derivative(sp.cos(x)*sp.exp(x), x)\n",
    "dydx\n",
    "sp.Eq(dydx, dydx.doit())"
   ]
  },
  {
   "cell_type": "code",
   "execution_count": 9,
   "id": "f6406d75-48d7-45ee-9518-32b9fd46bd95",
   "metadata": {},
   "outputs": [
    {
     "data": {
      "image/png": "[encoded data removed]",
      "text/latex": [
       "$\\displaystyle \\frac{\\sqrt{2}}{2}$"
      ],
      "text/plain": [
       "√2\n",
       "──\n",
       "2 "
      ]
     },
     "execution_count": 9,
     "metadata": {},
     "output_type": "execute_result"
    },
    {
     "data": {
      "image/png": "[encoded data removed]",
      "text/latex": [
       "$\\displaystyle 2 \\sqrt{2}$"
      ],
      "text/plain": [
       "2⋅√2"
      ]
     },
     "execution_count": 9,
     "metadata": {},
     "output_type": "execute_result"
    }
   ],
   "source": [
    "1 / sp.sqrt(2)\n",
    "sp.sqrt(8)"
   ]
  },
  {
   "cell_type": "code",
   "execution_count": 10,
   "id": "207ee161-f134-48a8-8b50-372afa7f1970",
   "metadata": {},
   "outputs": [
    {
     "data": {
      "image/png": "[encoded data removed]",
      "text/latex": [
       "$\\displaystyle x + 2 y$"
      ],
      "text/plain": [
       "x + 2⋅y"
      ]
     },
     "execution_count": 10,
     "metadata": {},
     "output_type": "execute_result"
    },
    {
     "data": {
      "image/png": "[encoded data removed]",
      "text/latex": [
       "$\\displaystyle 2 y$"
      ],
      "text/plain": [
       "2⋅y"
      ]
     },
     "execution_count": 10,
     "metadata": {},
     "output_type": "execute_result"
    },
    {
     "data": {
      "image/png": "[encoded data removed]",
      "text/latex": [
       "$\\displaystyle x + 2 y + 1$"
      ],
      "text/plain": [
       "x + 2⋅y + 1"
      ]
     },
     "execution_count": 10,
     "metadata": {},
     "output_type": "execute_result"
    },
    {
     "data": {
      "image/png": "[encoded data removed]",
      "text/latex": [
       "$\\displaystyle x \\left(x + 2 y\\right)$"
      ],
      "text/plain": [
       "x⋅(x + 2⋅y)"
      ]
     },
     "execution_count": 10,
     "metadata": {},
     "output_type": "execute_result"
    },
    {
     "data": {
      "image/png": "[encoded data removed]",
      "text/latex": [
       "$\\displaystyle x \\left(x + 2 y\\right)$"
      ],
      "text/plain": [
       "x⋅(x + 2⋅y)"
      ]
     },
     "execution_count": 10,
     "metadata": {},
     "output_type": "execute_result"
    },
    {
     "data": {
      "image/png": "[encoded data removed]",
      "text/latex": [
       "$\\displaystyle x^{2} + 2 x y$"
      ],
      "text/plain": [
       " 2        \n",
       "x  + 2⋅x⋅y"
      ]
     },
     "execution_count": 10,
     "metadata": {},
     "output_type": "execute_result"
    }
   ],
   "source": [
    "x, y = sp.symbols('x y')\n",
    "expr = x + 2*y\n",
    "expr\n",
    "expr - x\n",
    "expr + 1\n",
    "x * expr\n",
    "sp.factor(x * expr)\n",
    "sp.expand(x * expr)"
   ]
  },
  {
   "cell_type": "code",
   "execution_count": 11,
   "id": "091de8a1-6bc5-4939-b547-11cfc3a9004b",
   "metadata": {},
   "outputs": [
    {
     "data": {
      "image/png": "[encoded data removed]",
      "text/latex": [
       "$\\displaystyle \\left( \\int\\limits_{-\\infty}^{\\infty} \\sin{\\left(x^{2} \\right)}\\, dx, \\  \\frac{\\sqrt{2} \\sqrt{\\pi}}{2}\\right)$"
      ],
      "text/plain": [
       "⎛∞                   ⎞\n",
       "⎜⌠                   ⎟\n",
       "⎜⎮     ⎛ 2⎞     √2⋅√π⎟\n",
       "⎜⎮  sin⎝x ⎠ dx, ─────⎟\n",
       "⎜⌡                2  ⎟\n",
       "⎝-∞                  ⎠"
      ]
     },
     "execution_count": 11,
     "metadata": {},
     "output_type": "execute_result"
    }
   ],
   "source": [
    "# infinity: sp.S.Infinity or sp.oo\n",
    "y = sp.Integral(sp.sin(x**2), (x, -sp.oo, sp.oo))\n",
    "ans = y.doit()\n",
    "y, ans\n",
    "# for some reason sp.Eq(y, ans) freezes"
   ]
  },
  {
   "cell_type": "code",
   "execution_count": 12,
   "id": "08efac6c-6d71-423c-ad62-acf62bdf62fe",
   "metadata": {},
   "outputs": [
    {
     "data": {
      "image/png": "[encoded data removed]",
      "text/latex": [
       "$\\displaystyle \\lim_{x \\to 0^+}\\left(\\frac{\\sin{\\left(x \\right)}}{x}\\right) = 1$"
      ],
      "text/plain": [
       "     ⎛sin(x)⎞    \n",
       " lim ⎜──────⎟ = 1\n",
       "x─→0⁺⎝  x   ⎠    "
      ]
     },
     "execution_count": 12,
     "metadata": {},
     "output_type": "execute_result"
    },
    {
     "data": {
      "image/png": "[encoded data removed]",
      "text/latex": [
       "$\\displaystyle 1$"
      ],
      "text/plain": [
       "1"
      ]
     },
     "execution_count": 12,
     "metadata": {},
     "output_type": "execute_result"
    }
   ],
   "source": [
    "lim = sp.Limit(sp.sin(x)/x, x, 0)\n",
    "sp.Eq(lim, lim.doit())\n",
    "sp.limit(sp.sin(x)/x, x, 0)"
   ]
  },
  {
   "cell_type": "code",
   "execution_count": 13,
   "id": "6e512b10-d99b-4d6a-aa18-1ff6a0a8d345",
   "metadata": {},
   "outputs": [
    {
     "data": {
      "image/png": "[encoded data removed]",
      "text/latex": [
       "$\\displaystyle x^{2} - 2 = 0$"
      ],
      "text/plain": [
       " 2        \n",
       "x  - 2 = 0"
      ]
     },
     "execution_count": 13,
     "metadata": {},
     "output_type": "execute_result"
    },
    {
     "data": {
      "image/png": "[encoded data removed]",
      "text/latex": [
       "$\\displaystyle \\left[ - \\sqrt{2}, \\  \\sqrt{2}\\right]$"
      ],
      "text/plain": [
       "[-√2, √2]"
      ]
     },
     "execution_count": 13,
     "metadata": {},
     "output_type": "execute_result"
    }
   ],
   "source": [
    "sp.Eq(x**2 - 2, 0)\n",
    "sp.solve(x**2 - 2, x)"
   ]
  },
  {
   "cell_type": "code",
   "execution_count": 14,
   "id": "10760063-41ba-4b48-b3b3-3d3ecfe1b205",
   "metadata": {},
   "outputs": [
    {
     "data": {
      "image/png": "[encoded data removed]",
      "text/latex": [
       "$\\displaystyle \\sqrt{2}$"
      ],
      "text/plain": [
       "√2"
      ]
     },
     "execution_count": 14,
     "metadata": {},
     "output_type": "execute_result"
    }
   ],
   "source": [
    "root = sp.solve(x**2 - 2, x)[1]\n",
    "root"
   ]
  },
  {
   "cell_type": "code",
   "execution_count": 15,
   "id": "a198a2aa-f3e6-40f1-a684-8884f76cc764",
   "metadata": {},
   "outputs": [
    {
     "data": {
      "image/png": "[encoded data removed]",
      "text/latex": [
       "$\\displaystyle - y{\\left(t \\right)} + \\frac{d^{2}}{d t^{2}} y{\\left(t \\right)} = e^{t}$"
      ],
      "text/plain": [
       "          2           \n",
       "         d           t\n",
       "-y(t) + ───(y(t)) = ℯ \n",
       "          2           \n",
       "        dt            "
      ]
     },
     "execution_count": 15,
     "metadata": {},
     "output_type": "execute_result"
    },
    {
     "data": {
      "image/png": "[encoded data removed]",
      "text/latex": [
       "$\\displaystyle y{\\left(t \\right)} = C_{2} e^{- t} + \\left(C_{1} + \\frac{t}{2}\\right) e^{t}$"
      ],
      "text/plain": [
       "           -t   ⎛     t⎞  t\n",
       "y(t) = C₂⋅ℯ   + ⎜C₁ + ─⎟⋅ℯ \n",
       "                ⎝     2⎠   "
      ]
     },
     "execution_count": 15,
     "metadata": {},
     "output_type": "execute_result"
    }
   ],
   "source": [
    "y = sp.Function('y')\n",
    "t = sp.abc.t\n",
    "diff_eq = sp.Eq(y(t).diff(t, t) - y(t), sp.exp(t))\n",
    "diff_eq\n",
    "sp.dsolve(diff_eq, y(t))"
   ]
  },
  {
   "cell_type": "code",
   "execution_count": 16,
   "id": "64c75cff-3e73-4935-b03e-7de55fb8ed45",
   "metadata": {},
   "outputs": [
    {
     "data": {
      "text/latex": [
       "$\\displaystyle \\left[\\begin{matrix}1 & 2\\\\2 & 2\\end{matrix}\\right]$"
      ],
      "text/plain": [
       "⎡1  2⎤\n",
       "⎢    ⎥\n",
       "⎣2  2⎦"
      ]
     },
     "execution_count": 16,
     "metadata": {},
     "output_type": "execute_result"
    },
    {
     "data": {
      "image/png": "[encoded data removed]",
      "text/latex": [
       "$\\displaystyle \\left\\{ \\frac{3}{2} - \\frac{\\sqrt{17}}{2} : 1, \\  \\frac{3}{2} + \\frac{\\sqrt{17}}{2} : 1\\right\\}$"
      ],
      "text/plain": [
       "⎧3   √17     3   √17   ⎫\n",
       "⎨─ - ───: 1, ─ + ───: 1⎬\n",
       "⎩2    2      2    2    ⎭"
      ]
     },
     "execution_count": 16,
     "metadata": {},
     "output_type": "execute_result"
    },
    {
     "data": {
      "text/latex": [
       "$\\displaystyle \\left[ \\left( \\frac{3}{2} - \\frac{\\sqrt{17}}{2}, \\  1, \\  \\left[ \\left[\\begin{matrix}- \\frac{\\sqrt{17}}{4} - \\frac{1}{4}\\\\1\\end{matrix}\\right]\\right]\\right), \\  \\left( \\frac{3}{2} + \\frac{\\sqrt{17}}{2}, \\  1, \\  \\left[ \\left[\\begin{matrix}- \\frac{1}{4} + \\frac{\\sqrt{17}}{4}\\\\1\\end{matrix}\\right]\\right]\\right)\\right]$"
      ],
      "text/plain": [
       "⎡⎛            ⎡⎡  √17   1⎤⎤⎞  ⎛            ⎡⎡  1   √17⎤⎤⎞⎤\n",
       "⎢⎜3   √17     ⎢⎢- ─── - ─⎥⎥⎟  ⎜3   √17     ⎢⎢- ─ + ───⎥⎥⎟⎥\n",
       "⎢⎜─ - ───, 1, ⎢⎢   4    4⎥⎥⎟, ⎜─ + ───, 1, ⎢⎢  4    4 ⎥⎥⎟⎥\n",
       "⎢⎜2    2      ⎢⎢         ⎥⎥⎟  ⎜2    2      ⎢⎢         ⎥⎥⎟⎥\n",
       "⎣⎝            ⎣⎣    1    ⎦⎦⎠  ⎝            ⎣⎣    1    ⎦⎦⎠⎦"
      ]
     },
     "execution_count": 16,
     "metadata": {},
     "output_type": "execute_result"
    }
   ],
   "source": [
    "A = sp.Matrix([[1, 2], [2, 2]])\n",
    "A\n",
    "A.eigenvals()\n",
    "A.eigenvects()"
   ]
  },
  {
   "cell_type": "code",
   "execution_count": 17,
   "id": "52b3acb2-0d45-48e3-a828-fa9d1d4e98fe",
   "metadata": {},
   "outputs": [
    {
     "data": {
      "text/latex": [
       "$\\displaystyle \\left[ \\left[\\begin{matrix}- \\frac{\\sqrt{17}}{4} - \\frac{1}{4}\\\\1\\end{matrix}\\right]\\right]$"
      ],
      "text/plain": [
       "⎡⎡  √17   1⎤⎤\n",
       "⎢⎢- ─── - ─⎥⎥\n",
       "⎢⎢   4    4⎥⎥\n",
       "⎢⎢         ⎥⎥\n",
       "⎣⎣    1    ⎦⎦"
      ]
     },
     "execution_count": 17,
     "metadata": {},
     "output_type": "execute_result"
    }
   ],
   "source": [
    "A.eigenvects()[0][-1]"
   ]
  },
  {
   "cell_type": "code",
   "execution_count": 18,
   "id": "e2a6e7f9-aa75-41d9-9c71-c6628f894b82",
   "metadata": {},
   "outputs": [
    {
     "data": {
      "image/png": "[encoded data removed]",
      "text/latex": [
       "$\\displaystyle J_{\\nu}\\left(z\\right)$"
      ],
      "text/plain": [
       "besselj(ν, z)"
      ]
     },
     "execution_count": 18,
     "metadata": {},
     "output_type": "execute_result"
    },
    {
     "data": {
      "image/png": "[encoded data removed]",
      "text/latex": [
       "$\\displaystyle \\frac{\\sqrt{2} \\sqrt{z} j_{\\nu - \\frac{1}{2}}\\left(z\\right)}{\\sqrt{\\pi}}$"
      ],
      "text/plain": [
       "√2⋅√z⋅jn(ν - 1/2, z)\n",
       "────────────────────\n",
       "         √π         "
      ]
     },
     "execution_count": 18,
     "metadata": {},
     "output_type": "execute_result"
    }
   ],
   "source": [
    "# bessel function\n",
    "sp.besselj(sp.abc.nu, sp.abc.z)\n",
    "# rewrite bessel function as spherical bessel function\n",
    "sp.besselj(sp.abc.nu, sp.abc.z).rewrite(sp.jn)"
   ]
  },
  {
   "cell_type": "code",
   "execution_count": 19,
   "id": "2564ae91-07c0-4631-8157-60c779503632",
   "metadata": {},
   "outputs": [
    {
     "data": {
      "image/png": "[encoded data removed]",
      "text/latex": [
       "$\\displaystyle \\int\\limits_{0}^{\\pi} \\cos^{2}{\\left(x \\right)}\\, dx$"
      ],
      "text/plain": [
       "π           \n",
       "⌠           \n",
       "⎮    2      \n",
       "⎮ cos (x) dx\n",
       "⌡           \n",
       "0           "
      ]
     },
     "execution_count": 19,
     "metadata": {},
     "output_type": "execute_result"
    },
    {
     "name": "stdout",
     "output_type": "stream",
     "text": [
      "\\int\\limits_{0}^{\\pi} \\cos^{2}{\\left(x \\right)}\\, dx\n"
     ]
    }
   ],
   "source": [
    "expr = sp.Integral(sp.cos(x)**2, (x, 0, sp.pi))\n",
    "expr\n",
    "print(sp.latex(expr))"
   ]
  },
  {
   "cell_type": "markdown",
   "id": "02b1468e-d10e-439c-a50c-75f2095fd8ce",
   "metadata": {},
   "source": [
    "renders as: $\\int\\limits_{0}^{\\pi} \\cos^{2}{\\left(x \\right)}\\, dx$"
   ]
  },
  {
   "cell_type": "code",
   "execution_count": 20,
   "id": "9e87fa45-7b0f-4061-923f-b2d0f5ad7026",
   "metadata": {},
   "outputs": [
    {
     "data": {
      "image/png": "[encoded data removed]",
      "text/latex": [
       "$\\displaystyle x y$"
      ],
      "text/plain": [
       "x⋅y"
      ]
     },
     "execution_count": 20,
     "metadata": {},
     "output_type": "execute_result"
    },
    {
     "data": {
      "image/png": "[encoded data removed]",
      "text/latex": [
       "$\\displaystyle 4$"
      ],
      "text/plain": [
       "4"
      ]
     },
     "execution_count": 20,
     "metadata": {},
     "output_type": "execute_result"
    }
   ],
   "source": [
    "x, y = sp.abc.x, sp.abc.y\n",
    "expr = x * y\n",
    "expr\n",
    "# substitute x = 2, y = 2 into expr\n",
    "expr.subs([(x, 2), (y, 2)])"
   ]
  },
  {
   "cell_type": "markdown",
   "id": "e4058f7a-e877-445c-b383-a0690721ed68",
   "metadata": {},
   "source": [
    "### Gotchas: python conventions, equality, rationals, types"
   ]
  },
  {
   "cell_type": "code",
   "execution_count": 21,
   "id": "bf9031fa-016d-44e9-9630-ec66cb69b691",
   "metadata": {},
   "outputs": [
    {
     "data": {
      "image/png": "[encoded data removed]",
      "text/latex": [
       "$\\displaystyle 0$"
      ],
      "text/plain": [
       "0"
      ]
     },
     "execution_count": 21,
     "metadata": {},
     "output_type": "execute_result"
    },
    {
     "data": {
      "image/png": "[encoded data removed]",
      "text/latex": [
       "$\\displaystyle 4 x$"
      ],
      "text/plain": [
       "4⋅x"
      ]
     },
     "execution_count": 21,
     "metadata": {},
     "output_type": "execute_result"
    }
   ],
   "source": [
    "# to see if a = b mathematically, instead check if a - b = 0\n",
    "\n",
    "a = (x + 1)**2\n",
    "b = x**2 + 2*x + 1\n",
    "sp.simplify(a - b)\n",
    "\n",
    "c = x**2 - 2*x + 1\n",
    "sp.simplify(a - c)"
   ]
  },
  {
   "cell_type": "code",
   "execution_count": 22,
   "id": "916666b5-e34e-4f99-af43-453f8443b399",
   "metadata": {},
   "outputs": [
    {
     "data": {
      "text/plain": [
       "True"
      ]
     },
     "execution_count": 22,
     "metadata": {},
     "output_type": "execute_result"
    }
   ],
   "source": [
    "# another way to check if a = b mathematically\n",
    "a = sp.cos(x)**2 - sp.sin(x)**2\n",
    "b = sp.cos(2*x)\n",
    "a.equals(b)"
   ]
  },
  {
   "cell_type": "code",
   "execution_count": 23,
   "id": "05c5da94-1b41-47a5-8280-807855dabe19",
   "metadata": {},
   "outputs": [
    {
     "data": {
      "text/plain": [
       "sympy.core.numbers.Integer"
      ]
     },
     "execution_count": 23,
     "metadata": {},
     "output_type": "execute_result"
    },
    {
     "data": {
      "text/plain": [
       "int"
      ]
     },
     "execution_count": 23,
     "metadata": {},
     "output_type": "execute_result"
    }
   ],
   "source": [
    "# numbers don't get type casted as symbols unless you force them to or broadcast\n",
    "type(sp.Integer(1) + 1)\n",
    "type(1 + 1)"
   ]
  },
  {
   "cell_type": "code",
   "execution_count": 24,
   "id": "9011bbef-0f9c-4097-a1fb-ae78e5d090aa",
   "metadata": {},
   "outputs": [
    {
     "data": {
      "image/png": "[encoded data removed]",
      "text/latex": [
       "$\\displaystyle \\frac{1}{3}$"
      ],
      "text/plain": [
       "1/3"
      ]
     },
     "execution_count": 24,
     "metadata": {},
     "output_type": "execute_result"
    },
    {
     "data": {
      "text/plain": [
       "sympy.core.numbers.Rational"
      ]
     },
     "execution_count": 24,
     "metadata": {},
     "output_type": "execute_result"
    },
    {
     "data": {
      "image/png": "[encoded data removed]",
      "text/latex": [
       "$\\displaystyle \\frac{1}{3}$"
      ],
      "text/plain": [
       "1/3"
      ]
     },
     "execution_count": 24,
     "metadata": {},
     "output_type": "execute_result"
    },
    {
     "data": {
      "image/png": "[encoded data removed]",
      "text/latex": [
       "$\\displaystyle 0.333333333333333$"
      ],
      "text/plain": [
       "0.3333333333333333"
      ]
     },
     "execution_count": 24,
     "metadata": {},
     "output_type": "execute_result"
    }
   ],
   "source": [
    "one_third = sp.Integer(1) / sp.Integer(3)\n",
    "one_third\n",
    "type(one_third)\n",
    "sp.Rational(1, 3)\n",
    "1 / 3"
   ]
  },
  {
   "cell_type": "code",
   "execution_count": 25,
   "id": "1a8d08a1-d50a-4760-b9c8-979a4b9c628b",
   "metadata": {},
   "outputs": [
    {
     "data": {
      "image/png": "[encoded data removed]",
      "text/latex": [
       "$\\displaystyle x + 0.5$"
      ],
      "text/plain": [
       "x + 0.5"
      ]
     },
     "execution_count": 25,
     "metadata": {},
     "output_type": "execute_result"
    },
    {
     "data": {
      "image/png": "[encoded data removed]",
      "text/latex": [
       "$\\displaystyle x + \\frac{1}{2}$"
      ],
      "text/plain": [
       "x + 1/2"
      ]
     },
     "execution_count": 25,
     "metadata": {},
     "output_type": "execute_result"
    }
   ],
   "source": [
    "x + 1/2\n",
    "x + sp.Rational(1, 2)"
   ]
  },
  {
   "cell_type": "markdown",
   "id": "fd1b9176-ce57-4c80-a30a-6a2b4c945d17",
   "metadata": {},
   "source": [
    "### Basics: sub, eval, evalf, sympify, lamdify"
   ]
  },
  {
   "cell_type": "code",
   "execution_count": 26,
   "id": "63c17577-b719-4e5f-a348-b540a7e19bff",
   "metadata": {},
   "outputs": [
    {
     "data": {
      "image/png": "[encoded data removed]",
      "text/latex": [
       "$\\displaystyle \\cos{\\left(y \\right)} + 1$"
      ],
      "text/plain": [
       "cos(y) + 1"
      ]
     },
     "execution_count": 26,
     "metadata": {},
     "output_type": "execute_result"
    },
    {
     "data": {
      "image/png": "[encoded data removed]",
      "text/latex": [
       "$\\displaystyle 2$"
      ],
      "text/plain": [
       "2"
      ]
     },
     "execution_count": 26,
     "metadata": {},
     "output_type": "execute_result"
    }
   ],
   "source": [
    "expr = sp.cos(x) + 1\n",
    "expr.subs(x, y)\n",
    "expr.subs(x, 0)"
   ]
  },
  {
   "cell_type": "code",
   "execution_count": 27,
   "id": "e6928a14-6558-4790-b83c-10f376e44b07",
   "metadata": {},
   "outputs": [
    {
     "data": {
      "image/png": "[encoded data removed]",
      "text/latex": [
       "$\\displaystyle x^{y}$"
      ],
      "text/plain": [
       " y\n",
       "x "
      ]
     },
     "execution_count": 27,
     "metadata": {},
     "output_type": "execute_result"
    },
    {
     "data": {
      "image/png": "[encoded data removed]",
      "text/latex": [
       "$\\displaystyle x^{x^{y}}$"
      ],
      "text/plain": [
       " ⎛ y⎞\n",
       " ⎝x ⎠\n",
       "x    "
      ]
     },
     "execution_count": 27,
     "metadata": {},
     "output_type": "execute_result"
    },
    {
     "data": {
      "image/png": "[encoded data removed]",
      "text/latex": [
       "$\\displaystyle x^{x^{x^{x}}}$"
      ],
      "text/plain": [
       " ⎛ ⎛ x⎞⎞\n",
       " ⎜ ⎝x ⎠⎟\n",
       " ⎝x    ⎠\n",
       "x       "
      ]
     },
     "execution_count": 27,
     "metadata": {},
     "output_type": "execute_result"
    }
   ],
   "source": [
    "expr = x**y\n",
    "expr\n",
    "expr = expr.subs(y, x**y)\n",
    "expr\n",
    "expr = expr.subs(y, x**x)\n",
    "expr"
   ]
  },
  {
   "cell_type": "code",
   "execution_count": 28,
   "id": "e42108da-c1c5-44b1-9352-e6ba183653c6",
   "metadata": {},
   "outputs": [
    {
     "data": {
      "image/png": "[encoded data removed]",
      "text/latex": [
       "$\\displaystyle \\sin{\\left(2 x \\right)} + \\cos{\\left(2 x \\right)}$"
      ],
      "text/plain": [
       "sin(2⋅x) + cos(2⋅x)"
      ]
     },
     "execution_count": 28,
     "metadata": {},
     "output_type": "execute_result"
    },
    {
     "data": {
      "image/png": "[encoded data removed]",
      "text/latex": [
       "$\\displaystyle 2 \\sin{\\left(x \\right)} \\cos{\\left(x \\right)} + 2 \\cos^{2}{\\left(x \\right)} - 1$"
      ],
      "text/plain": [
       "                       2       \n",
       "2⋅sin(x)⋅cos(x) + 2⋅cos (x) - 1"
      ]
     },
     "execution_count": 28,
     "metadata": {},
     "output_type": "execute_result"
    },
    {
     "data": {
      "image/png": "[encoded data removed]",
      "text/latex": [
       "$\\displaystyle 2 \\sin{\\left(x \\right)} \\cos{\\left(x \\right)} + \\cos{\\left(2 x \\right)}$"
      ],
      "text/plain": [
       "2⋅sin(x)⋅cos(x) + cos(2⋅x)"
      ]
     },
     "execution_count": 28,
     "metadata": {},
     "output_type": "execute_result"
    }
   ],
   "source": [
    "expr = sp.sin(2*x) + sp.cos(2*x)\n",
    "expr\n",
    "sp.expand_trig(expr)\n",
    "expr.subs(sp.sin(2*x), 2*sp.sin(x)*sp.cos(x))"
   ]
  },
  {
   "cell_type": "code",
   "execution_count": 29,
   "id": "f5c31c43-8f93-4377-9719-0379a7590790",
   "metadata": {},
   "outputs": [
    {
     "data": {
      "image/png": "[encoded data removed]",
      "text/latex": [
       "$\\displaystyle x^{3} + 4 x y - z$"
      ],
      "text/plain": [
       " 3            \n",
       "x  + 4⋅x⋅y - z"
      ]
     },
     "execution_count": 29,
     "metadata": {},
     "output_type": "execute_result"
    },
    {
     "data": {
      "image/png": "[encoded data removed]",
      "text/latex": [
       "$\\displaystyle 40$"
      ],
      "text/plain": [
       "40"
      ]
     },
     "execution_count": 29,
     "metadata": {},
     "output_type": "execute_result"
    }
   ],
   "source": [
    "x, y, z = sp.symbols('x y z')\n",
    "expr = x**3 + 4*x*y - z\n",
    "expr\n",
    "expr.subs([(x, 2), (y, 4), (z, 0)])"
   ]
  },
  {
   "cell_type": "code",
   "execution_count": 30,
   "id": "4d77b90b-31a5-4fdb-8206-05daee3c04fa",
   "metadata": {},
   "outputs": [
    {
     "data": {
      "image/png": "[encoded data removed]",
      "text/latex": [
       "$\\displaystyle x^{4} - 4 x^{3} + 4 x^{2} - 2 x + 3$"
      ],
      "text/plain": [
       " 4      3      2          \n",
       "x  - 4⋅x  + 4⋅x  - 2⋅x + 3"
      ]
     },
     "execution_count": 30,
     "metadata": {},
     "output_type": "execute_result"
    },
    {
     "data": {
      "image/png": "[encoded data removed]",
      "text/latex": [
       "$\\displaystyle - 4 x^{3} - 2 x + y^{4} + 4 y^{2} + 3$"
      ],
      "text/plain": [
       "     3          4      2    \n",
       "- 4⋅x  - 2⋅x + y  + 4⋅y  + 3"
      ]
     },
     "execution_count": 30,
     "metadata": {},
     "output_type": "execute_result"
    }
   ],
   "source": [
    "# replace all even powers of x with y\n",
    "expr = x**4 - 4*x**3 + 4*x**2 - 2*x + 3\n",
    "expr\n",
    "replacements = [(x**i, y**i) for i in range(5) if i % 2 == 0]\n",
    "expr.subs(replacements)"
   ]
  },
  {
   "cell_type": "code",
   "execution_count": 31,
   "id": "0aaa5d06-179b-430d-b35b-6b9630558c17",
   "metadata": {},
   "outputs": [
    {
     "data": {
      "image/png": "[encoded data removed]",
      "text/latex": [
       "$\\displaystyle x^{2} + 3 x - \\frac{1}{2}$"
      ],
      "text/plain": [
       " 2         1\n",
       "x  + 3⋅x - ─\n",
       "           2"
      ]
     },
     "execution_count": 31,
     "metadata": {},
     "output_type": "execute_result"
    },
    {
     "data": {
      "image/png": "[encoded data removed]",
      "text/latex": [
       "$\\displaystyle - x^{2} + y{\\left(x \\right)}$"
      ],
      "text/plain": [
       "   2       \n",
       "- x  + y(x)"
      ]
     },
     "execution_count": 31,
     "metadata": {},
     "output_type": "execute_result"
    },
    {
     "data": {
      "image/png": "[encoded data removed]",
      "text/latex": [
       "$\\displaystyle - \\frac{\\hbar^{2}}{2 m}$"
      ],
      "text/plain": [
       "  2 \n",
       "-h̅  \n",
       "────\n",
       "2⋅m "
      ]
     },
     "execution_count": 31,
     "metadata": {},
     "output_type": "execute_result"
    }
   ],
   "source": [
    "# can directly parse simple strings to sympy using sympify\n",
    "sp.sympify(\"x**2 + 3*x - 1/2\")\n",
    "sp.sympify(\"y(x) - x**2\")\n",
    "sp.sympify(\"-hbar**2 / (2*m)\")"
   ]
  },
  {
   "cell_type": "code",
   "execution_count": 32,
   "id": "2788e793-8bae-4b65-b1c8-9ccba49e660a",
   "metadata": {},
   "outputs": [
    {
     "data": {
      "image/png": "[encoded data removed]",
      "text/latex": [
       "$\\displaystyle 3.141592654$"
      ],
      "text/plain": [
       "3.141592654"
      ]
     },
     "execution_count": 32,
     "metadata": {},
     "output_type": "execute_result"
    },
    {
     "data": {
      "image/png": "[encoded data removed]",
      "text/latex": [
       "$\\displaystyle 1.4142$"
      ],
      "text/plain": [
       "1.4142"
      ]
     },
     "execution_count": 32,
     "metadata": {},
     "output_type": "execute_result"
    },
    {
     "data": {
      "text/plain": [
       "sympy.core.numbers.Float"
      ]
     },
     "execution_count": 32,
     "metadata": {},
     "output_type": "execute_result"
    },
    {
     "data": {
      "image/png": "[encoded data removed]",
      "text/latex": [
       "$\\displaystyle 1.41421318054199$"
      ],
      "text/plain": [
       "1.4142131805419922"
      ]
     },
     "execution_count": 32,
     "metadata": {},
     "output_type": "execute_result"
    },
    {
     "data": {
      "text/plain": [
       "float"
      ]
     },
     "execution_count": 32,
     "metadata": {},
     "output_type": "execute_result"
    }
   ],
   "source": [
    "# eval expression as sympy float using evalf or python float using float\n",
    "sp.pi.evalf(10)\n",
    "sp.sqrt(2).evalf(5)\n",
    "type(sp.sqrt(2).evalf(5))\n",
    "float(sp.sqrt(2).evalf(5))\n",
    "type(float(sp.sqrt(2)))"
   ]
  },
  {
   "cell_type": "code",
   "execution_count": 33,
   "id": "2d3ac020-7178-44f9-b182-f10561854a6a",
   "metadata": {},
   "outputs": [
    {
     "data": {
      "image/png": "[encoded data removed]",
      "text/latex": [
       "$\\displaystyle 0.0874989834394464$"
      ],
      "text/plain": [
       "0.0874989834394464"
      ]
     },
     "execution_count": 33,
     "metadata": {},
     "output_type": "execute_result"
    },
    {
     "data": {
      "image/png": "[encoded data removed]",
      "text/latex": [
       "$\\displaystyle 0.0874989834394464$"
      ],
      "text/plain": [
       "0.0874989834394464"
      ]
     },
     "execution_count": 33,
     "metadata": {},
     "output_type": "execute_result"
    },
    {
     "data": {
      "image/png": "[encoded data removed]",
      "text/latex": [
       "$\\displaystyle -4.0 \\cdot 10^{-124}$"
      ],
      "text/plain": [
       "-0.e-124"
      ]
     },
     "execution_count": 33,
     "metadata": {},
     "output_type": "execute_result"
    },
    {
     "data": {
      "image/png": "[encoded data removed]",
      "text/latex": [
       "$\\displaystyle 0$"
      ],
      "text/plain": [
       "0"
      ]
     },
     "execution_count": 33,
     "metadata": {},
     "output_type": "execute_result"
    }
   ],
   "source": [
    "expr = sp.cos(2*x)\n",
    "expr.subs(x, 2.4).evalf()\n",
    "expr.evalf(subs={x: 2.4})  # more numerically stable than expr.subs(x, 2.4).evalf()\n",
    "\n",
    "one = sp.cos(1)**2 + sp.sin(1)**2\n",
    "(one - 1).evalf()\n",
    "(one - 1).evalf(chop=True)  # remove trailing digits from result"
   ]
  },
  {
   "cell_type": "code",
   "execution_count": 34,
   "id": "18b175b3-b1e5-4c1c-aadc-cb17254a3323",
   "metadata": {},
   "outputs": [
    {
     "data": {
      "text/plain": [
       "array([0, 1, 2, 3, 4, 5, 6, 7, 8, 9])"
      ]
     },
     "execution_count": 34,
     "metadata": {},
     "output_type": "execute_result"
    },
    {
     "data": {
      "image/png": "[encoded data removed]",
      "text/latex": [
       "$\\displaystyle \\sin{\\left(x \\right)}$"
      ],
      "text/plain": [
       "sin(x)"
      ]
     },
     "execution_count": 34,
     "metadata": {},
     "output_type": "execute_result"
    },
    {
     "data": {
      "text/plain": [
       "array([ 0.        ,  0.84147098,  0.90929743,  0.14112001, -0.7568025 ,\n",
       "       -0.95892427, -0.2794155 ,  0.6569866 ,  0.98935825,  0.41211849])"
      ]
     },
     "execution_count": 34,
     "metadata": {},
     "output_type": "execute_result"
    }
   ],
   "source": [
    "# more efficient to eval expression at many points using numpy via lambdify\n",
    "# can also use scipy and math libraries\n",
    "\n",
    "import numpy as np\n",
    "a = np.arange(10)\n",
    "expr = sp.sin(x)\n",
    "f = sp.lambdify(x, expr, \"numpy\")\n",
    "a\n",
    "expr\n",
    "f(a)"
   ]
  },
  {
   "cell_type": "markdown",
   "id": "61ba1e95-b5ce-412e-9d0e-0474de7cecea",
   "metadata": {},
   "source": [
    "### Printing"
   ]
  },
  {
   "cell_type": "code",
   "execution_count": 35,
   "id": "fe343353-2eae-45ed-a1e0-dd71786625b9",
   "metadata": {},
   "outputs": [
    {
     "data": {
      "image/png": "[encoded data removed]",
      "text/latex": [
       "$\\displaystyle \\int \\sqrt{\\frac{1}{x}}\\, dx$"
      ],
      "text/plain": [
       "⌠           \n",
       "⎮     ___   \n",
       "⎮    ╱ 1    \n",
       "⎮   ╱  ─  dx\n",
       "⎮ ╲╱   x    \n",
       "⌡           "
      ]
     },
     "execution_count": 35,
     "metadata": {},
     "output_type": "execute_result"
    }
   ],
   "source": [
    "expr = sp.Integral(sp.sqrt(1/x), x)\n",
    "expr"
   ]
  },
  {
   "cell_type": "code",
   "execution_count": 36,
   "id": "a69f9d97-a688-49c4-89f5-58bb9653a144",
   "metadata": {},
   "outputs": [
    {
     "name": "stdout",
     "output_type": "stream",
     "text": [
      "\\int \\sqrt{\\frac{1}{x}}\\, dx\n"
     ]
    }
   ],
   "source": [
    "# print raw latex string\n",
    "print(sp.latex(expr))"
   ]
  },
  {
   "cell_type": "code",
   "execution_count": 37,
   "id": "13a60a9c-99c4-42b4-aa6a-09db6cf24c45",
   "metadata": {},
   "outputs": [
    {
     "data": {
      "text/plain": [
       "'Integral(sqrt(1/x), x)'"
      ]
     },
     "execution_count": 37,
     "metadata": {},
     "output_type": "execute_result"
    }
   ],
   "source": [
    "# raw string\n",
    "str(expr)"
   ]
  },
  {
   "cell_type": "code",
   "execution_count": 38,
   "id": "da77bad6-2e7a-44a2-962a-a43a0c3fd3bb",
   "metadata": {},
   "outputs": [
    {
     "data": {
      "text/plain": [
       "\"Integral(Pow(Pow(Symbol('x'), Integer(-1)), Rational(1, 2)), Tuple(Symbol('x')))\""
      ]
     },
     "execution_count": 38,
     "metadata": {},
     "output_type": "execute_result"
    }
   ],
   "source": [
    "# print exact functional form\n",
    "sp.srepr(expr)"
   ]
  },
  {
   "cell_type": "code",
   "execution_count": 39,
   "id": "3e08ee6b-7652-432e-a47f-e7a1a5df3510",
   "metadata": {},
   "outputs": [
    {
     "name": "stdout",
     "output_type": "stream",
     "text": [
      "  /          \n",
      " |           \n",
      " |     ___   \n",
      " |    / 1    \n",
      " |   /  -  dx\n",
      " | \\/   x    \n",
      " |           \n",
      "/            \n",
      "\n",
      "⌠           \n",
      "⎮     ___   \n",
      "⎮    ╱ 1    \n",
      "⎮   ╱  ─  dx\n",
      "⎮ ╲╱   x    \n",
      "⌡           \n"
     ]
    }
   ],
   "source": [
    "# pretty printing with ascii, unicode\n",
    "sp.pprint(expr, use_unicode=False)\n",
    "print()\n",
    "sp.pprint(expr, use_unicode=True)"
   ]
  },
  {
   "cell_type": "markdown",
   "id": "3888b0ef-f9d1-4063-a63f-7dce64309e0b",
   "metadata": {},
   "source": [
    "### Simplification: simplify, factor, expand, trig, special functions"
   ]
  },
  {
   "cell_type": "code",
   "execution_count": 40,
   "id": "7a694de9-da7d-4ac3-bf2e-008d66e0f799",
   "metadata": {},
   "outputs": [],
   "source": [
    "x, y, z = sp.symbols('x y z')"
   ]
  },
  {
   "cell_type": "code",
   "execution_count": 41,
   "id": "291ec8e4-5873-4124-834f-80994ca2fa1b",
   "metadata": {},
   "outputs": [
    {
     "data": {
      "image/png": "[encoded data removed]",
      "text/latex": [
       "$\\displaystyle \\sin^{2}{\\left(x \\right)} + \\cos^{2}{\\left(x \\right)}$"
      ],
      "text/plain": [
       "   2         2   \n",
       "sin (x) + cos (x)"
      ]
     },
     "execution_count": 41,
     "metadata": {},
     "output_type": "execute_result"
    },
    {
     "data": {
      "image/png": "[encoded data removed]",
      "text/latex": [
       "$\\displaystyle 1$"
      ],
      "text/plain": [
       "1"
      ]
     },
     "execution_count": 41,
     "metadata": {},
     "output_type": "execute_result"
    },
    {
     "data": {
      "image/png": "[encoded data removed]",
      "text/latex": [
       "$\\displaystyle \\frac{x^{3} + x^{2} - x - 1}{x^{2} + 2 x + 1}$"
      ],
      "text/plain": [
       " 3    2        \n",
       "x  + x  - x - 1\n",
       "───────────────\n",
       "   2           \n",
       "  x  + 2⋅x + 1 "
      ]
     },
     "execution_count": 41,
     "metadata": {},
     "output_type": "execute_result"
    },
    {
     "data": {
      "image/png": "[encoded data removed]",
      "text/latex": [
       "$\\displaystyle x - 1$"
      ],
      "text/plain": [
       "x - 1"
      ]
     },
     "execution_count": 41,
     "metadata": {},
     "output_type": "execute_result"
    },
    {
     "data": {
      "image/png": "[encoded data removed]",
      "text/latex": [
       "$\\displaystyle \\frac{\\Gamma\\left(x\\right)}{\\Gamma\\left(x - 2\\right)}$"
      ],
      "text/plain": [
       "  Γ(x)  \n",
       "────────\n",
       "Γ(x - 2)"
      ]
     },
     "execution_count": 41,
     "metadata": {},
     "output_type": "execute_result"
    },
    {
     "data": {
      "image/png": "[encoded data removed]",
      "text/latex": [
       "$\\displaystyle \\left(x - 2\\right) \\left(x - 1\\right)$"
      ],
      "text/plain": [
       "(x - 2)⋅(x - 1)"
      ]
     },
     "execution_count": 41,
     "metadata": {},
     "output_type": "execute_result"
    }
   ],
   "source": [
    "expr = sp.sin(x)**2 + sp.cos(x)**2\n",
    "expr\n",
    "sp.simplify(expr)\n",
    "\n",
    "expr = (x**3 + x**2 - x - 1)/(x**2 + 2*x + 1)\n",
    "expr\n",
    "sp.simplify(expr)\n",
    "\n",
    "expr = sp.gamma(x)/sp.gamma(x - 2)\n",
    "expr\n",
    "sp.simplify(expr)"
   ]
  },
  {
   "cell_type": "code",
   "execution_count": 42,
   "id": "b5cd4f43-af3c-4981-b56e-a9dd6a468d92",
   "metadata": {},
   "outputs": [
    {
     "data": {
      "image/png": "[encoded data removed]",
      "text/latex": [
       "$\\displaystyle x^{2} + 2 x + 1$"
      ],
      "text/plain": [
       " 2          \n",
       "x  + 2⋅x + 1"
      ]
     },
     "execution_count": 42,
     "metadata": {},
     "output_type": "execute_result"
    },
    {
     "data": {
      "image/png": "[encoded data removed]",
      "text/latex": [
       "$\\displaystyle x^{2} + 2 x + 1$"
      ],
      "text/plain": [
       " 2          \n",
       "x  + 2⋅x + 1"
      ]
     },
     "execution_count": 42,
     "metadata": {},
     "output_type": "execute_result"
    },
    {
     "data": {
      "image/png": "[encoded data removed]",
      "text/latex": [
       "$\\displaystyle \\left(x + 1\\right)^{2}$"
      ],
      "text/plain": [
       "       2\n",
       "(x + 1) "
      ]
     },
     "execution_count": 42,
     "metadata": {},
     "output_type": "execute_result"
    },
    {
     "data": {
      "image/png": "[encoded data removed]",
      "text/latex": [
       "$\\displaystyle x^{2} + 2 x + 1$"
      ],
      "text/plain": [
       " 2          \n",
       "x  + 2⋅x + 1"
      ]
     },
     "execution_count": 42,
     "metadata": {},
     "output_type": "execute_result"
    }
   ],
   "source": [
    "expr = x**2 + 2*x + 1\n",
    "expr\n",
    "sp.simplify(expr)\n",
    "sp.factor(expr)\n",
    "sp.expand(expr)"
   ]
  },
  {
   "cell_type": "code",
   "execution_count": 43,
   "id": "ccf836d9-d1a5-40a6-85ba-4e39d2c32523",
   "metadata": {},
   "outputs": [
    {
     "data": {
      "image/png": "[encoded data removed]",
      "text/latex": [
       "$\\displaystyle \\frac{4 x^{3} + 21 x^{2} + 10 x + 12}{x^{4} + 5 x^{3} + 5 x^{2} + 4 x}$"
      ],
      "text/plain": [
       "   3       2            \n",
       "4⋅x  + 21⋅x  + 10⋅x + 12\n",
       "────────────────────────\n",
       "  4      3      2       \n",
       " x  + 5⋅x  + 5⋅x  + 4⋅x "
      ]
     },
     "execution_count": 43,
     "metadata": {},
     "output_type": "execute_result"
    },
    {
     "data": {
      "image/png": "[encoded data removed]",
      "text/latex": [
       "$\\displaystyle \\frac{2 x - 1}{x^{2} + x + 1} - \\frac{1}{x + 4} + \\frac{3}{x}$"
      ],
      "text/plain": [
       " 2⋅x - 1       1     3\n",
       "────────── - ───── + ─\n",
       " 2           x + 4   x\n",
       "x  + x + 1            "
      ]
     },
     "execution_count": 43,
     "metadata": {},
     "output_type": "execute_result"
    }
   ],
   "source": [
    "# for partial fraction decomp use apart\n",
    "expr = (4*x**3 + 21*x**2 + 10*x + 12) / (x**4 + 5*x**3 + 5*x**2 + 4*x)\n",
    "expr\n",
    "sp.apart(expr)"
   ]
  },
  {
   "cell_type": "code",
   "execution_count": 44,
   "id": "1e0215b2-fedb-406f-9a95-b4746e55c4a6",
   "metadata": {},
   "outputs": [
    {
     "data": {
      "image/png": "[encoded data removed]",
      "text/latex": [
       "$\\displaystyle x$"
      ],
      "text/plain": [
       "x"
      ]
     },
     "execution_count": 44,
     "metadata": {},
     "output_type": "execute_result"
    },
    {
     "data": {
      "image/png": "[encoded data removed]",
      "text/latex": [
       "$\\displaystyle \\left( \\frac{\\sin{\\left(x \\right)} \\tan{\\left(x \\right)}}{\\sec{\\left(x \\right)}}, \\  \\sin^{2}{\\left(x \\right)}\\right)$"
      ],
      "text/plain": [
       "⎛sin(x)⋅tan(x)     2   ⎞\n",
       "⎜─────────────, sin (x)⎟\n",
       "⎝    sec(x)            ⎠"
      ]
     },
     "execution_count": 44,
     "metadata": {},
     "output_type": "execute_result"
    },
    {
     "data": {
      "image/png": "[encoded data removed]",
      "text/latex": [
       "$\\displaystyle \\left( \\sin{\\left(x + y \\right)}, \\  \\sin{\\left(x \\right)} \\cos{\\left(y \\right)} + \\sin{\\left(y \\right)} \\cos{\\left(x \\right)}\\right)$"
      ],
      "text/plain": [
       "(sin(x + y), sin(x)⋅cos(y) + sin(y)⋅cos(x))"
      ]
     },
     "execution_count": 44,
     "metadata": {},
     "output_type": "execute_result"
    }
   ],
   "source": [
    "# trig stuff\n",
    "sp.cos(sp.acos(x))\n",
    "\n",
    "expr = sp.sin(x)*sp.tan(x) / sp.sec(x)\n",
    "expr, sp.trigsimp(expr)\n",
    "\n",
    "expr = sp.sin(x + y)\n",
    "expr, sp.expand_trig(expr)"
   ]
  },
  {
   "cell_type": "code",
   "execution_count": 45,
   "id": "443f1d5d-a5ba-4660-bb01-947bacdd9a7c",
   "metadata": {},
   "outputs": [
    {
     "data": {
      "image/png": "[encoded data removed]",
      "text/latex": [
       "$\\displaystyle \\log{\\left(x + y \\right)}$"
      ],
      "text/plain": [
       "log(x + y)"
      ]
     },
     "execution_count": 45,
     "metadata": {},
     "output_type": "execute_result"
    },
    {
     "data": {
      "image/png": "[encoded data removed]",
      "text/latex": [
       "$\\displaystyle x + y$"
      ],
      "text/plain": [
       "x + y"
      ]
     },
     "execution_count": 45,
     "metadata": {},
     "output_type": "execute_result"
    },
    {
     "data": {
      "image/png": "[encoded data removed]",
      "text/latex": [
       "$\\displaystyle \\log{\\left(x y \\right)}$"
      ],
      "text/plain": [
       "log(x⋅y)"
      ]
     },
     "execution_count": 45,
     "metadata": {},
     "output_type": "execute_result"
    },
    {
     "data": {
      "image/png": "[encoded data removed]",
      "text/latex": [
       "$\\displaystyle \\log{\\left(x \\right)} + \\log{\\left(y \\right)}$"
      ],
      "text/plain": [
       "log(x) + log(y)"
      ]
     },
     "execution_count": 45,
     "metadata": {},
     "output_type": "execute_result"
    },
    {
     "data": {
      "image/png": "[encoded data removed]",
      "text/latex": [
       "$\\displaystyle \\log{\\left(x \\right)} + \\log{\\left(y \\right)}$"
      ],
      "text/plain": [
       "log(x) + log(y)"
      ]
     },
     "execution_count": 45,
     "metadata": {},
     "output_type": "execute_result"
    },
    {
     "data": {
      "image/png": "[encoded data removed]",
      "text/latex": [
       "$\\displaystyle \\log{\\left(x^{n} y \\right)}$"
      ],
      "text/plain": [
       "   ⎛ n  ⎞\n",
       "log⎝x ⋅y⎠"
      ]
     },
     "execution_count": 45,
     "metadata": {},
     "output_type": "execute_result"
    }
   ],
   "source": [
    "# exp and log stuff\n",
    "x, y = sp.symbols('x y', positive=True)\n",
    "n = sp.symbols('n', real=True)\n",
    "\n",
    "expr = sp.log(x + y)\n",
    "expr\n",
    "sp.exp(expr)\n",
    "\n",
    "expr = sp.log(x*y)\n",
    "expr\n",
    "sp.expand(expr)\n",
    "sp.expand_log(expr)\n",
    "\n",
    "sp.logcombine(n*sp.log(x) + sp.log(y))"
   ]
  },
  {
   "cell_type": "code",
   "execution_count": 46,
   "id": "2f9e192d-aaec-4088-9fae-a3d5898fbac2",
   "metadata": {},
   "outputs": [
    {
     "data": {
      "image/png": "[encoded data removed]",
      "text/latex": [
       "$\\displaystyle n!$"
      ],
      "text/plain": [
       "n!"
      ]
     },
     "execution_count": 46,
     "metadata": {},
     "output_type": "execute_result"
    },
    {
     "data": {
      "image/png": "[encoded data removed]",
      "text/latex": [
       "$\\displaystyle {\\binom{n}{k}}$"
      ],
      "text/plain": [
       "⎛n⎞\n",
       "⎜ ⎟\n",
       "⎝k⎠"
      ]
     },
     "execution_count": 46,
     "metadata": {},
     "output_type": "execute_result"
    },
    {
     "data": {
      "image/png": "[encoded data removed]",
      "text/latex": [
       "$\\displaystyle \\Gamma\\left(z\\right)$"
      ],
      "text/plain": [
       "Γ(z)"
      ]
     },
     "execution_count": 46,
     "metadata": {},
     "output_type": "execute_result"
    },
    {
     "data": {
      "text/latex": [
       "$\\displaystyle {{}_{2}F_{1}\\left(\\begin{matrix} 1, 2 \\\\ 3 \\end{matrix}\\middle| {z} \\right)}$"
      ],
      "text/plain": [
       " ┌─  ⎛1, 2 │  ⎞\n",
       " ├─  ⎜     │ z⎟\n",
       "2╵ 1 ⎝ 3   │  ⎠"
      ]
     },
     "execution_count": 46,
     "metadata": {},
     "output_type": "execute_result"
    }
   ],
   "source": [
    "# special functions\n",
    "x, y, z, n, k = sp.symbols('x y z n k')\n",
    "\n",
    "sp.factorial(n)\n",
    "sp.binomial(n, k)\n",
    "sp.gamma(z)\n",
    "sp.hyper([1, 2], [3], z)"
   ]
  },
  {
   "cell_type": "code",
   "execution_count": 47,
   "id": "664a9a86-72d8-40e5-b536-cadfdfd9bc3b",
   "metadata": {},
   "outputs": [
    {
     "data": {
      "image/png": "[encoded data removed]",
      "text/latex": [
       "$\\displaystyle \\left( \\tan{\\left(x \\right)}, \\  \\frac{2 \\sin^{2}{\\left(x \\right)}}{\\sin{\\left(2 x \\right)}}\\right)$"
      ],
      "text/plain": [
       "⎛             2   ⎞\n",
       "⎜        2⋅sin (x)⎟\n",
       "⎜tan(x), ─────────⎟\n",
       "⎝         sin(2⋅x)⎠"
      ]
     },
     "execution_count": 47,
     "metadata": {},
     "output_type": "execute_result"
    },
    {
     "data": {
      "image/png": "[encoded data removed]",
      "text/latex": [
       "$\\displaystyle \\left( x!, \\  \\Gamma\\left(x + 1\\right)\\right)$"
      ],
      "text/plain": [
       "(x!, Γ(x + 1))"
      ]
     },
     "execution_count": 47,
     "metadata": {},
     "output_type": "execute_result"
    },
    {
     "data": {
      "image/png": "[encoded data removed]",
      "text/latex": [
       "$\\displaystyle \\left( \\Gamma\\left(x + 3\\right), \\  \\Gamma\\left(x + 3\\right), \\  x \\left(x + 1\\right) \\left(x + 2\\right) \\Gamma\\left(x\\right)\\right)$"
      ],
      "text/plain": [
       "(Γ(x + 3), Γ(x + 3), x⋅(x + 1)⋅(x + 2)⋅Γ(x))"
      ]
     },
     "execution_count": 47,
     "metadata": {},
     "output_type": "execute_result"
    },
    {
     "data": {
      "image/png": "[encoded data removed]",
      "text/latex": [
       "$\\displaystyle \\left( \\frac{{\\binom{n + 1}{k + 1}}}{{\\binom{n}{k}}}, \\  \\frac{n + 1}{k + 1}, \\  \\frac{n + 1}{k + 1}\\right)$"
      ],
      "text/plain": [
       "⎛⎛n + 1⎞              ⎞\n",
       "⎜⎜     ⎟              ⎟\n",
       "⎜⎝k + 1⎠  n + 1  n + 1⎟\n",
       "⎜───────, ─────, ─────⎟\n",
       "⎜  ⎛n⎞    k + 1  k + 1⎟\n",
       "⎜  ⎜ ⎟                ⎟\n",
       "⎝  ⎝k⎠                ⎠"
      ]
     },
     "execution_count": 47,
     "metadata": {},
     "output_type": "execute_result"
    },
    {
     "data": {
      "image/png": "[encoded data removed]",
      "text/latex": [
       "$\\displaystyle \\left( \\Gamma\\left(x\\right) \\Gamma\\left(1 - x\\right), \\  \\frac{\\pi}{\\sin{\\left(\\pi x \\right)}}, \\  \\frac{\\pi}{\\sin{\\left(\\pi x \\right)}}\\right)$"
      ],
      "text/plain": [
       "⎛                  π         π    ⎞\n",
       "⎜Γ(x)⋅Γ(1 - x), ────────, ────────⎟\n",
       "⎝               sin(π⋅x)  sin(π⋅x)⎠"
      ]
     },
     "execution_count": 47,
     "metadata": {},
     "output_type": "execute_result"
    }
   ],
   "source": [
    "# manipulating special functions\n",
    "\n",
    "sp.tan(x), sp.tan(x).rewrite(sp.sin)\n",
    "sp.factorial(x), sp.factorial(x).rewrite(sp.gamma)\n",
    "sp.gamma(x + 3), sp.expand(sp.gamma(x + 3)), sp.expand_func(sp.gamma(x + 3))\n",
    "\n",
    "expr = sp.binomial(n+1, k+1) / sp.binomial(n, k)\n",
    "expr, sp.simplify(expr), sp.combsimp(expr)\n",
    "\n",
    "expr = sp.gamma(x)*sp.gamma(1 - x)\n",
    "expr, sp.simplify(expr), sp.gammasimp(expr)"
   ]
  },
  {
   "cell_type": "markdown",
   "id": "fcb0289d-e1e6-4352-8158-38c42cf94040",
   "metadata": {},
   "source": [
    "### Calculus: derivatives, integrals, limits, series, finite differences"
   ]
  },
  {
   "cell_type": "code",
   "execution_count": 48,
   "id": "3a9d8388-4967-4ffa-8257-cd8f088dafa0",
   "metadata": {},
   "outputs": [],
   "source": [
    "x, y, z = sp.symbols('x y z')"
   ]
  },
  {
   "cell_type": "code",
   "execution_count": 49,
   "id": "03b3a212-827d-4d7d-b08a-126f6562e3de",
   "metadata": {},
   "outputs": [
    {
     "data": {
      "image/png": "[encoded data removed]",
      "text/latex": [
       "$\\displaystyle - \\sin{\\left(x \\right)}$"
      ],
      "text/plain": [
       "-sin(x)"
      ]
     },
     "execution_count": 49,
     "metadata": {},
     "output_type": "execute_result"
    },
    {
     "data": {
      "image/png": "[encoded data removed]",
      "text/latex": [
       "$\\displaystyle 2 x e^{x^{2}}$"
      ],
      "text/plain": [
       "     ⎛ 2⎞\n",
       "     ⎝x ⎠\n",
       "2⋅x⋅ℯ    "
      ]
     },
     "execution_count": 49,
     "metadata": {},
     "output_type": "execute_result"
    },
    {
     "data": {
      "image/png": "[encoded data removed]",
      "text/latex": [
       "$\\displaystyle 24 x$"
      ],
      "text/plain": [
       "24⋅x"
      ]
     },
     "execution_count": 49,
     "metadata": {},
     "output_type": "execute_result"
    },
    {
     "data": {
      "image/png": "[encoded data removed]",
      "text/latex": [
       "$\\displaystyle 24 x$"
      ],
      "text/plain": [
       "24⋅x"
      ]
     },
     "execution_count": 49,
     "metadata": {},
     "output_type": "execute_result"
    },
    {
     "data": {
      "image/png": "[encoded data removed]",
      "text/latex": [
       "$\\displaystyle \\left( x^{5}, \\  5 x^{4}\\right)$"
      ],
      "text/plain": [
       "⎛ 5     4⎞\n",
       "⎝x , 5⋅x ⎠"
      ]
     },
     "execution_count": 49,
     "metadata": {},
     "output_type": "execute_result"
    }
   ],
   "source": [
    "sp.diff(sp.cos(x), x)\n",
    "sp.diff(sp.exp(x**2), x)\n",
    "\n",
    "sp.diff(x**4, x, x, x)\n",
    "sp.diff(x**4, x, 3) # 3rd derivative\n",
    "\n",
    "expr = x**5\n",
    "expr, expr.diff(x)"
   ]
  },
  {
   "cell_type": "code",
   "execution_count": 50,
   "id": "39e5b9a2-de7f-472d-b9a8-2978e9f5ccfb",
   "metadata": {},
   "outputs": [
    {
     "data": {
      "image/png": "[encoded data removed]",
      "text/latex": [
       "$\\displaystyle e^{x y z}$"
      ],
      "text/plain": [
       " x⋅y⋅z\n",
       "ℯ     "
      ]
     },
     "execution_count": 50,
     "metadata": {},
     "output_type": "execute_result"
    },
    {
     "data": {
      "image/png": "[encoded data removed]",
      "text/latex": [
       "$\\displaystyle \\frac{\\partial^{7}}{\\partial z^{4}\\partial y^{2}\\partial x} e^{x y z}$"
      ],
      "text/plain": [
       "     7            \n",
       "    ∂     ⎛ x⋅y⋅z⎞\n",
       "──────────⎝ℯ     ⎠\n",
       "  4   2           \n",
       "∂z  ∂y  ∂x        "
      ]
     },
     "execution_count": 50,
     "metadata": {},
     "output_type": "execute_result"
    },
    {
     "data": {
      "image/png": "[encoded data removed]",
      "text/latex": [
       "$\\displaystyle x^{3} y^{2} \\left(x^{3} y^{3} z^{3} + 14 x^{2} y^{2} z^{2} + 52 x y z + 48\\right) e^{x y z}$"
      ],
      "text/plain": [
       " 3  2 ⎛ 3  3  3       2  2  2                ⎞  x⋅y⋅z\n",
       "x ⋅y ⋅⎝x ⋅y ⋅z  + 14⋅x ⋅y ⋅z  + 52⋅x⋅y⋅z + 48⎠⋅ℯ     "
      ]
     },
     "execution_count": 50,
     "metadata": {},
     "output_type": "execute_result"
    },
    {
     "data": {
      "image/png": "[encoded data removed]",
      "text/latex": [
       "$\\displaystyle x^{3} y^{2} \\left(x^{3} y^{3} z^{3} + 14 x^{2} y^{2} z^{2} + 52 x y z + 48\\right) e^{x y z}$"
      ],
      "text/plain": [
       " 3  2 ⎛ 3  3  3       2  2  2                ⎞  x⋅y⋅z\n",
       "x ⋅y ⋅⎝x ⋅y ⋅z  + 14⋅x ⋅y ⋅z  + 52⋅x⋅y⋅z + 48⎠⋅ℯ     "
      ]
     },
     "execution_count": 50,
     "metadata": {},
     "output_type": "execute_result"
    },
    {
     "data": {
      "image/png": "[encoded data removed]",
      "text/latex": [
       "$\\displaystyle x^{3} y^{2} \\left(x^{3} y^{3} z^{3} + 14 x^{2} y^{2} z^{2} + 52 x y z + 48\\right) e^{x y z}$"
      ],
      "text/plain": [
       " 3  2 ⎛ 3  3  3       2  2  2                ⎞  x⋅y⋅z\n",
       "x ⋅y ⋅⎝x ⋅y ⋅z  + 14⋅x ⋅y ⋅z  + 52⋅x⋅y⋅z + 48⎠⋅ℯ     "
      ]
     },
     "execution_count": 50,
     "metadata": {},
     "output_type": "execute_result"
    }
   ],
   "source": [
    "expr = sp.exp(x*y*z)\n",
    "expr\n",
    "sp.Derivative(expr, x, y, y, z, z, z, z)\n",
    "sp.diff(expr, x, y, y, z, z, z, z)\n",
    "sp.diff(expr, x, y, 2, z, 4)\n",
    "sp.diff(expr, x, y, y, z, 4)"
   ]
  },
  {
   "cell_type": "code",
   "execution_count": 51,
   "id": "22e1d069-21a3-4214-986b-8b5e03f864ce",
   "metadata": {},
   "outputs": [
    {
     "data": {
      "image/png": "[encoded data removed]",
      "text/latex": [
       "$\\displaystyle \\left( \\frac{\\partial}{\\partial x} e^{x y z}, \\  y z e^{x y z}\\right)$"
      ],
      "text/plain": [
       "⎛∂ ⎛ x⋅y⋅z⎞       x⋅y⋅z⎞\n",
       "⎜──⎝ℯ     ⎠, y⋅z⋅ℯ     ⎟\n",
       "⎝∂x                    ⎠"
      ]
     },
     "execution_count": 51,
     "metadata": {},
     "output_type": "execute_result"
    }
   ],
   "source": [
    "expr = sp.exp(x*y*z)\n",
    "sp.Derivative(expr, x), sp.Derivative(expr, x).doit()"
   ]
  },
  {
   "cell_type": "code",
   "execution_count": 52,
   "id": "851d6f9d-2c67-4025-ab3e-55966acdf2f6",
   "metadata": {},
   "outputs": [
    {
     "data": {
      "image/png": "[encoded data removed]",
      "text/latex": [
       "$\\displaystyle \\frac{\\partial^{n}}{\\partial x^{n}} \\left(a x + b\\right)^{m}$"
      ],
      "text/plain": [
       "  n            \n",
       " ∂ ⎛         m⎞\n",
       "───⎝(a⋅x + b) ⎠\n",
       "  n            \n",
       "∂x             "
      ]
     },
     "execution_count": 52,
     "metadata": {},
     "output_type": "execute_result"
    },
    {
     "data": {
      "image/png": "[encoded data removed]",
      "text/latex": [
       "$\\displaystyle \\frac{\\partial}{\\partial x} \\left(a x + b\\right)^{2}$"
      ],
      "text/plain": [
       "∂ ⎛         2⎞\n",
       "──⎝(a⋅x + b) ⎠\n",
       "∂x            "
      ]
     },
     "execution_count": 52,
     "metadata": {},
     "output_type": "execute_result"
    }
   ],
   "source": [
    "# derivative of arbitrary order n\n",
    "m, n, a, b = sp.symbols('m n a b')\n",
    "expr = (a*x + b)**m\n",
    "expr.diff((x, n))\n",
    "expr.subs(m, 2).diff((x, n)).subs(n, 1)"
   ]
  },
  {
   "cell_type": "code",
   "execution_count": 53,
   "id": "62cfb648-93ac-4ce5-8b29-2ca0ddf19ce7",
   "metadata": {},
   "outputs": [
    {
     "data": {
      "image/png": "[encoded data removed]",
      "text/latex": [
       "$\\displaystyle \\int \\cos{\\left(x \\right)}\\, dx$"
      ],
      "text/plain": [
       "⌠          \n",
       "⎮ cos(x) dx\n",
       "⌡          "
      ]
     },
     "execution_count": 53,
     "metadata": {},
     "output_type": "execute_result"
    },
    {
     "data": {
      "image/png": "[encoded data removed]",
      "text/latex": [
       "$\\displaystyle \\sin{\\left(x \\right)}$"
      ],
      "text/plain": [
       "sin(x)"
      ]
     },
     "execution_count": 53,
     "metadata": {},
     "output_type": "execute_result"
    },
    {
     "data": {
      "image/png": "[encoded data removed]",
      "text/latex": [
       "$\\displaystyle \\sin{\\left(x \\right)}$"
      ],
      "text/plain": [
       "sin(x)"
      ]
     },
     "execution_count": 53,
     "metadata": {},
     "output_type": "execute_result"
    },
    {
     "data": {
      "image/png": "[encoded data removed]",
      "text/latex": [
       "$\\displaystyle \\int\\limits_{0}^{\\pi} \\cos{\\left(x \\right)}\\, dx = 0$"
      ],
      "text/plain": [
       "π              \n",
       "⌠              \n",
       "⎮ cos(x) dx = 0\n",
       "⌡              \n",
       "0              "
      ]
     },
     "execution_count": 53,
     "metadata": {},
     "output_type": "execute_result"
    },
    {
     "data": {
      "image/png": "[encoded data removed]",
      "text/latex": [
       "$\\displaystyle \\int\\limits_{-\\infty}^{\\infty}\\int\\limits_{-\\infty}^{\\infty} e^{- x^{2} - y^{2}}\\, dx\\, dy = \\pi$"
      ],
      "text/plain": [
       "∞  ∞                      \n",
       "⌠  ⌠                      \n",
       "⎮  ⎮      2    2          \n",
       "⎮  ⎮   - x  - y           \n",
       "⎮  ⎮  ℯ          dx dy = π\n",
       "⌡  ⌡                      \n",
       "-∞ -∞                     "
      ]
     },
     "execution_count": 53,
     "metadata": {},
     "output_type": "execute_result"
    },
    {
     "data": {
      "image/png": "[encoded data removed]",
      "text/latex": [
       "$\\displaystyle \\int x^{x}\\, dx$"
      ],
      "text/plain": [
       "⌠      \n",
       "⎮  x   \n",
       "⎮ x  dx\n",
       "⌡      "
      ]
     },
     "execution_count": 53,
     "metadata": {},
     "output_type": "execute_result"
    },
    {
     "data": {
      "image/png": "[encoded data removed]",
      "text/latex": [
       "$\\displaystyle \\int \\frac{\\left(x^{4} + x^{2} e^{x} - x^{2} - 2 x e^{x} - 2 x - e^{x}\\right) e^{x}}{\\left(x - 1\\right)^{2} \\left(x + 1\\right)^{2} \\left(e^{x} + 1\\right)}\\, dx = \\log{\\left(e^{x} + 1 \\right)} + \\frac{e^{x}}{x^{2} - 1}$"
      ],
      "text/plain": [
       "⌠                                                                   \n",
       "⎮ ⎛ 4    2  x    2        x          x⎞  x                       x  \n",
       "⎮ ⎝x  + x ⋅ℯ  - x  - 2⋅x⋅ℯ  - 2⋅x - ℯ ⎠⋅ℯ          ⎛ x    ⎞     ℯ   \n",
       "⎮ ──────────────────────────────────────── dx = log⎝ℯ  + 1⎠ + ──────\n",
       "⎮               2        2 ⎛ x    ⎞                            2    \n",
       "⎮        (x - 1) ⋅(x + 1) ⋅⎝ℯ  + 1⎠                           x  - 1\n",
       "⌡                                                                   "
      ]
     },
     "execution_count": 53,
     "metadata": {},
     "output_type": "execute_result"
    },
    {
     "data": {
      "text/latex": [
       "$\\displaystyle \\int\\limits_{0}^{\\infty} x^{y} e^{- x}\\, dx = \\begin{cases} \\Gamma\\left(y + 1\\right) & \\text{for}\\: \\operatorname{re}{\\left(y\\right)} > -1 \\\\\\int\\limits_{0}^{\\infty} x^{y} e^{- x}\\, dx & \\text{otherwise} \\end{cases}$"
      ],
      "text/plain": [
       "              ⎧ Γ(y + 1)    for re(y) > -1\n",
       "∞             ⎪                           \n",
       "⌠             ⎪∞                          \n",
       "⎮  y  -x      ⎪⌠                          \n",
       "⎮ x ⋅ℯ   dx = ⎨⎮  y  -x                   \n",
       "⌡             ⎪⎮ x ⋅ℯ   dx    otherwise   \n",
       "0             ⎪⌡                          \n",
       "              ⎪0                          \n",
       "              ⎩                           "
      ]
     },
     "execution_count": 53,
     "metadata": {},
     "output_type": "execute_result"
    }
   ],
   "source": [
    "# integrals\n",
    "expr = sp.cos(x)\n",
    "sp.Integral(expr, x)\n",
    "sp.Integral(expr, x).doit()\n",
    "sp.integrate(expr, x)\n",
    "\n",
    "integral = sp.Integral(expr, (x, 0, sp.pi))\n",
    "sp.Eq(integral, integral.doit())\n",
    "\n",
    "integral = sp.Integral(sp.exp(-x**2 - y**2), (x, -sp.oo, sp.oo), (y, -sp.oo, sp.oo))\n",
    "sp.Eq(integral, integral.doit())\n",
    "\n",
    "sp.integrate(x**x, x) # no analytic form\n",
    "\n",
    "integral = sp.Integral((x**4 + x**2*sp.exp(x) - x**2 - 2*x*sp.exp(x) - 2*x - \n",
    "                        sp.exp(x))*sp.exp(x)/((x - 1)**2*(x + 1)**2*(sp.exp(x) + 1)), x)\n",
    "sp.Eq(integral, integral.doit())\n",
    "\n",
    "integral = sp.Integral(x**y*sp.exp(-x), (x, 0, sp.oo))\n",
    "sp.Eq(integral, integral.doit())"
   ]
  },
  {
   "cell_type": "code",
   "execution_count": 54,
   "id": "14d0986d-2596-4581-a2e0-2a1fcd3b4ac0",
   "metadata": {},
   "outputs": [
    {
     "data": {
      "image/png": "[encoded data removed]",
      "text/latex": [
       "$\\displaystyle \\lim_{x \\to 0^+}\\left(\\frac{\\cos{\\left(x \\right)} - 1}{x}\\right) = 0$"
      ],
      "text/plain": [
       "     ⎛cos(x) - 1⎞    \n",
       " lim ⎜──────────⎟ = 0\n",
       "x─→0⁺⎝    x     ⎠    "
      ]
     },
     "execution_count": 54,
     "metadata": {},
     "output_type": "execute_result"
    },
    {
     "data": {
      "image/png": "[encoded data removed]",
      "text/latex": [
       "$\\displaystyle 0$"
      ],
      "text/plain": [
       "0"
      ]
     },
     "execution_count": 54,
     "metadata": {},
     "output_type": "execute_result"
    },
    {
     "data": {
      "image/png": "[encoded data removed]",
      "text/latex": [
       "$\\displaystyle -\\infty$"
      ],
      "text/plain": [
       "-∞"
      ]
     },
     "execution_count": 54,
     "metadata": {},
     "output_type": "execute_result"
    },
    {
     "data": {
      "image/png": "[encoded data removed]",
      "text/latex": [
       "$\\displaystyle \\infty$"
      ],
      "text/plain": [
       "∞"
      ]
     },
     "execution_count": 54,
     "metadata": {},
     "output_type": "execute_result"
    }
   ],
   "source": [
    "# limits\n",
    "\n",
    "expr = sp.Limit((sp.cos(x) - 1)/x, x, 0)\n",
    "sp.Eq(expr, expr.doit())\n",
    "sp.limit((sp.cos(x) - 1)/x, x, 0)\n",
    "\n",
    "sp.limit(1/x, x, 0, '-')\n",
    "sp.limit(1/x, x, 0, '+')"
   ]
  },
  {
   "cell_type": "code",
   "execution_count": 55,
   "id": "2f3646bb-1ede-4d9b-a13b-6eb34deb83b2",
   "metadata": {},
   "outputs": [
    {
     "data": {
      "image/png": "[encoded data removed]",
      "text/latex": [
       "$\\displaystyle e^{\\sin{\\left(x \\right)}} = 1 + x + \\frac{x^{2}}{2} + O\\left(x^{4}\\right)$"
      ],
      "text/plain": [
       "                   2        \n",
       " sin(x)           x     ⎛ 4⎞\n",
       "ℯ       = 1 + x + ── + O⎝x ⎠\n",
       "                  2         "
      ]
     },
     "execution_count": 55,
     "metadata": {},
     "output_type": "execute_result"
    },
    {
     "data": {
      "image/png": "[encoded data removed]",
      "text/latex": [
       "$\\displaystyle \\log{\\left(x + 1 \\right)} = x - \\frac{x^{2}}{2} + \\frac{x^{3}}{3} - \\frac{x^{4}}{4} + O\\left(x^{5}\\right)$"
      ],
      "text/plain": [
       "                  2    3    4        \n",
       "                 x    x    x     ⎛ 5⎞\n",
       "log(x + 1) = x - ── + ── - ── + O⎝x ⎠\n",
       "                 2    3    4         "
      ]
     },
     "execution_count": 55,
     "metadata": {},
     "output_type": "execute_result"
    },
    {
     "data": {
      "image/png": "[encoded data removed]",
      "text/latex": [
       "$\\displaystyle \\sin{\\left(x \\right)} = x - \\frac{x^{3}}{6} + O\\left(x^{5}\\right)$"
      ],
      "text/plain": [
       "              3        \n",
       "             x     ⎛ 5⎞\n",
       "sin(x) = x - ── + O⎝x ⎠\n",
       "             6         "
      ]
     },
     "execution_count": 55,
     "metadata": {},
     "output_type": "execute_result"
    },
    {
     "data": {
      "image/png": "[encoded data removed]",
      "text/latex": [
       "$\\displaystyle x$"
      ],
      "text/plain": [
       "x"
      ]
     },
     "execution_count": 55,
     "metadata": {},
     "output_type": "execute_result"
    }
   ],
   "source": [
    "# series expansions\n",
    "\n",
    "expr = sp.exp(sp.sin(x))\n",
    "sp.Eq(expr, expr.series(x, 0, 4))\n",
    "\n",
    "expr = sp.log(1 + x)\n",
    "sp.Eq(expr, expr.series(x, 0, 5))\n",
    "\n",
    "expr = sp.sin(x)\n",
    "sp.Eq(expr, expr.series(x, 0, 5))\n",
    "expr.series(x, 0, 2).removeO() # get first order approximation"
   ]
  },
  {
   "cell_type": "code",
   "execution_count": 56,
   "id": "38c6ad04-bf2c-4a66-af7a-6513c000eefb",
   "metadata": {},
   "outputs": [
    {
     "data": {
      "image/png": "[encoded data removed]",
      "text/latex": [
       "$\\displaystyle x + x^{3} + O\\left(x^{4}\\right)$"
      ],
      "text/plain": [
       "     3    ⎛ 4⎞\n",
       "x + x  + O⎝x ⎠"
      ]
     },
     "execution_count": 56,
     "metadata": {},
     "output_type": "execute_result"
    },
    {
     "data": {
      "image/png": "[encoded data removed]",
      "text/latex": [
       "$\\displaystyle O\\left(x\\right)$"
      ],
      "text/plain": [
       "O(x)"
      ]
     },
     "execution_count": 56,
     "metadata": {},
     "output_type": "execute_result"
    }
   ],
   "source": [
    "# asymptotic notation\n",
    "x + x**3 + x**6 + sp.O(x**4)\n",
    "x * sp.O(1)"
   ]
  },
  {
   "cell_type": "code",
   "execution_count": 57,
   "id": "7f52032c-ca84-4a2d-969c-5c8898aca330",
   "metadata": {},
   "outputs": [
    {
     "data": {
      "image/png": "[encoded data removed]",
      "text/latex": [
       "$\\displaystyle \\left( \\frac{d}{d x} f{\\left(x \\right)}, \\  - f{\\left(x - \\frac{1}{2} \\right)} + f{\\left(x + \\frac{1}{2} \\right)}\\right)$"
      ],
      "text/plain": [
       "⎛d                                 ⎞\n",
       "⎜──(f(x)), -f(x - 1/2) + f(x + 1/2)⎟\n",
       "⎝dx                                ⎠"
      ]
     },
     "execution_count": 57,
     "metadata": {},
     "output_type": "execute_result"
    },
    {
     "data": {
      "image/png": "[encoded data removed]",
      "text/latex": [
       "$\\displaystyle \\left( f{\\left(x \\right)} \\frac{d}{d x} g{\\left(x \\right)} + g{\\left(x \\right)} \\frac{d}{d x} f{\\left(x \\right)}, \\  - f{\\left(x - \\frac{1}{2} \\right)} g{\\left(x - \\frac{1}{2} \\right)} + f{\\left(x + \\frac{1}{2} \\right)} g{\\left(x + \\frac{1}{2} \\right)}\\right)$"
      ],
      "text/plain": [
       "⎛     d               d                                                       \n",
       "⎜f(x)⋅──(g(x)) + g(x)⋅──(f(x)), -f(x - 1/2)⋅g(x - 1/2) + f(x + 1/2)⋅g(x + 1/2)\n",
       "⎝     dx              dx                                                      \n",
       "\n",
       "⎞\n",
       "⎟\n",
       "⎠"
      ]
     },
     "execution_count": 57,
     "metadata": {},
     "output_type": "execute_result"
    }
   ],
   "source": [
    "# finite differences\n",
    "\n",
    "f = sp.Function('f')\n",
    "g = sp.Function('g')\n",
    "\n",
    "dfdx = f(x).diff(x)\n",
    "dfdx, dfdx.as_finite_difference()\n",
    "\n",
    "sp.diff(f(x)*g(x), x), sp.differentiate_finite(f(x)*g(x))"
   ]
  },
  {
   "cell_type": "markdown",
   "id": "b4d9df8c-3474-4d4a-b67a-35e3a32c95d7",
   "metadata": {},
   "source": [
    "### Solvers: algebraic equations, solveset, differential equations, dsolve"
   ]
  },
  {
   "cell_type": "code",
   "execution_count": 58,
   "id": "4e9171f4-338d-4b88-9fc9-614aea9a6b5a",
   "metadata": {},
   "outputs": [
    {
     "data": {
      "image/png": "[encoded data removed]",
      "text/latex": [
       "$\\displaystyle x^{2} - x = 0$"
      ],
      "text/plain": [
       " 2        \n",
       "x  - x = 0"
      ]
     },
     "execution_count": 58,
     "metadata": {},
     "output_type": "execute_result"
    },
    {
     "data": {
      "image/png": "[encoded data removed]",
      "text/latex": [
       "$\\displaystyle \\left\\{0, 1\\right\\}$"
      ],
      "text/plain": [
       "{0, 1}"
      ]
     },
     "execution_count": 58,
     "metadata": {},
     "output_type": "execute_result"
    },
    {
     "data": {
      "image/png": "[encoded data removed]",
      "text/latex": [
       "$\\displaystyle \\left\\{0, 1\\right\\}$"
      ],
      "text/plain": [
       "{0, 1}"
      ]
     },
     "execution_count": 58,
     "metadata": {},
     "output_type": "execute_result"
    },
    {
     "data": {
      "image/png": "[encoded data removed]",
      "text/latex": [
       "$\\displaystyle \\sin{\\left(x \\right)} - 1$"
      ],
      "text/plain": [
       "sin(x) - 1"
      ]
     },
     "execution_count": 58,
     "metadata": {},
     "output_type": "execute_result"
    },
    {
     "data": {
      "text/latex": [
       "$\\displaystyle \\left\\{2 n \\pi + \\frac{\\pi}{2}\\; \\middle|\\; n \\in \\mathbb{Z}\\right\\}$"
      ],
      "text/plain": [
       "⎧        π │      ⎫\n",
       "⎨2⋅n⋅π + ─ │ n ∊ ℤ⎬\n",
       "⎩        2 │      ⎭"
      ]
     },
     "execution_count": 58,
     "metadata": {},
     "output_type": "execute_result"
    },
    {
     "data": {
      "image/png": "[encoded data removed]",
      "text/latex": [
       "$\\displaystyle e^{x}$"
      ],
      "text/plain": [
       " x\n",
       "ℯ "
      ]
     },
     "execution_count": 58,
     "metadata": {},
     "output_type": "execute_result"
    },
    {
     "data": {
      "image/png": "[encoded data removed]",
      "text/latex": [
       "$\\displaystyle \\emptyset$"
      ],
      "text/plain": [
       "∅"
      ]
     },
     "execution_count": 58,
     "metadata": {},
     "output_type": "execute_result"
    }
   ],
   "source": [
    "# algebraic equation solvers\n",
    "expr = x**2 - x\n",
    "eqn = sp.Eq(expr, 0)\n",
    "eqn\n",
    "\n",
    "sp.solveset(eqn, x)\n",
    "sp.solveset(expr, x) # assumes expr = 0 is the equation\n",
    "\n",
    "expr = sp.sin(x) - 1\n",
    "expr\n",
    "sp.solveset(expr, x, domain=sp.S.Reals)\n",
    "\n",
    "expr = sp.exp(x)\n",
    "expr\n",
    "sp.solveset(expr, x)"
   ]
  },
  {
   "cell_type": "code",
   "execution_count": 59,
   "id": "6d04ae39-22a1-4f8f-b141-7452094b1087",
   "metadata": {},
   "outputs": [
    {
     "data": {
      "image/png": "[encoded data removed]",
      "text/latex": [
       "$\\displaystyle \\left( x + y + z - 1, \\  x + y + 2 z - 3\\right)$"
      ],
      "text/plain": [
       "(x + y + z - 1, x + y + 2⋅z - 3)"
      ]
     },
     "execution_count": 59,
     "metadata": {},
     "output_type": "execute_result"
    },
    {
     "data": {
      "image/png": "[encoded data removed]",
      "text/latex": [
       "$\\displaystyle \\left\\{\\left( - y - 1, \\  y, \\  2\\right)\\right\\}$"
      ],
      "text/plain": [
       "{(-y - 1, y, 2)}"
      ]
     },
     "execution_count": 59,
     "metadata": {},
     "output_type": "execute_result"
    },
    {
     "data": {
      "text/latex": [
       "$\\displaystyle \\left[\\begin{matrix}1 & 1 & 1 & 1\\\\1 & 1 & 2 & 3\\end{matrix}\\right]$"
      ],
      "text/plain": [
       "⎡1  1  1  1⎤\n",
       "⎢          ⎥\n",
       "⎣1  1  2  3⎦"
      ]
     },
     "execution_count": 59,
     "metadata": {},
     "output_type": "execute_result"
    },
    {
     "data": {
      "image/png": "[encoded data removed]",
      "text/latex": [
       "$\\displaystyle \\left\\{\\left( - y - 1, \\  y, \\  2\\right)\\right\\}$"
      ],
      "text/plain": [
       "{(-y - 1, y, 2)}"
      ]
     },
     "execution_count": 59,
     "metadata": {},
     "output_type": "execute_result"
    },
    {
     "data": {
      "text/latex": [
       "$\\displaystyle \\left( \\left[\\begin{matrix}1 & 1 & 1\\\\1 & 1 & 2\\end{matrix}\\right], \\  \\left[\\begin{matrix}1\\\\3\\end{matrix}\\right]\\right)$"
      ],
      "text/plain": [
       "⎛⎡1  1  1⎤  ⎡1⎤⎞\n",
       "⎜⎢       ⎥, ⎢ ⎥⎟\n",
       "⎝⎣1  1  2⎦  ⎣3⎦⎠"
      ]
     },
     "execution_count": 59,
     "metadata": {},
     "output_type": "execute_result"
    },
    {
     "data": {
      "image/png": "[encoded data removed]",
      "text/latex": [
       "$\\displaystyle \\left\\{\\left( - y - 1, \\  y, \\  2\\right)\\right\\}$"
      ],
      "text/plain": [
       "{(-y - 1, y, 2)}"
      ]
     },
     "execution_count": 59,
     "metadata": {},
     "output_type": "execute_result"
    },
    {
     "data": {
      "image/png": "[encoded data removed]",
      "text/latex": [
       "$\\displaystyle \\left\\{\\left( 2, \\  \\frac{1}{2}\\right)\\right\\}$"
      ],
      "text/plain": [
       "{(2, 1/2)}"
      ]
     },
     "execution_count": 59,
     "metadata": {},
     "output_type": "execute_result"
    }
   ],
   "source": [
    "# systems of equations\n",
    "x, y, z = sp.symbols('x y z')\n",
    "\n",
    "expr1 = x + y + z - 1\n",
    "expr2 = x + y + 2*z - 3\n",
    "expr1, expr2\n",
    "sp.linsolve([expr1, expr2], (x, y, z))\n",
    "\n",
    "M = sp.Matrix(([1, 1, 1, 1], [1, 1, 2, 3]))\n",
    "M\n",
    "sp.linsolve(M, (x, y, z))\n",
    "\n",
    "M = sp.Matrix(((1, 1, 1, 1), (1, 1, 2, 3)))\n",
    "A, b = M[:, :-1], M[:, -1]\n",
    "A, b\n",
    "sp.linsolve((A, b), x, y, z)\n",
    "\n",
    "sp.nonlinsolve([x*y - 1, x - 2], x, y)"
   ]
  },
  {
   "cell_type": "code",
   "execution_count": 60,
   "id": "010cd0fd-7b8c-4da8-baa7-620eb949e4ff",
   "metadata": {},
   "outputs": [
    {
     "data": {
      "image/png": "[encoded data removed]",
      "text/latex": [
       "$\\displaystyle f{\\left(x \\right)}$"
      ],
      "text/plain": [
       "f(x)"
      ]
     },
     "execution_count": 60,
     "metadata": {},
     "output_type": "execute_result"
    },
    {
     "data": {
      "image/png": "[encoded data removed]",
      "text/latex": [
       "$\\displaystyle \\frac{d}{d x} f{\\left(x \\right)}$"
      ],
      "text/plain": [
       "d       \n",
       "──(f(x))\n",
       "dx      "
      ]
     },
     "execution_count": 60,
     "metadata": {},
     "output_type": "execute_result"
    },
    {
     "data": {
      "image/png": "[encoded data removed]",
      "text/latex": [
       "$\\displaystyle f{\\left(x \\right)} - 2 \\frac{d}{d x} f{\\left(x \\right)} + \\frac{d^{2}}{d x^{2}} f{\\left(x \\right)} = \\sin{\\left(x \\right)}$"
      ],
      "text/plain": [
       "                      2               \n",
       "         d           d                \n",
       "f(x) - 2⋅──(f(x)) + ───(f(x)) = sin(x)\n",
       "         dx           2               \n",
       "                    dx                "
      ]
     },
     "execution_count": 60,
     "metadata": {},
     "output_type": "execute_result"
    },
    {
     "data": {
      "text/plain": [
       "sympy.core.relational.Equality"
      ]
     },
     "execution_count": 60,
     "metadata": {},
     "output_type": "execute_result"
    }
   ],
   "source": [
    "# diff eq solvers\n",
    "x = sp.symbols('x')\n",
    "f = sp.symbols('f', cls=sp.Function)\n",
    "f(x)\n",
    "f(x).diff(x)\n",
    "\n",
    "diffeq = sp.Eq(f(x).diff(x, x) - 2*f(x).diff(x) + f(x), sp.sin(x))\n",
    "diffeq\n",
    "\n",
    "solution = sp.dsolve(diffeq, f(x))\n",
    "type(solution)"
   ]
  },
  {
   "cell_type": "code",
   "execution_count": 61,
   "id": "d7d5893e-9970-49bb-a87e-4a14823f9a7a",
   "metadata": {},
   "outputs": [
    {
     "data": {
      "image/png": "[encoded data removed]",
      "text/latex": [
       "$\\displaystyle \\left(1 - \\sin{\\left(f{\\left(x \\right)} \\right)}\\right) \\frac{d}{d x} f{\\left(x \\right)} - 1$"
      ],
      "text/plain": [
       "                d           \n",
       "(1 - sin(f(x)))⋅──(f(x)) - 1\n",
       "                dx          "
      ]
     },
     "execution_count": 61,
     "metadata": {},
     "output_type": "execute_result"
    },
    {
     "data": {
      "image/png": "[encoded data removed]",
      "text/latex": [
       "$\\displaystyle x - f{\\left(x \\right)} - \\cos{\\left(f{\\left(x \\right)} \\right)} = C_{1}$"
      ],
      "text/plain": [
       "x - f(x) - cos(f(x)) = C₁"
      ]
     },
     "execution_count": 61,
     "metadata": {},
     "output_type": "execute_result"
    }
   ],
   "source": [
    "diffeq = f(x).diff(x)*(1 - sp.sin(f(x))) - 1\n",
    "diffeq\n",
    "sp.dsolve(diffeq, f(x))"
   ]
  },
  {
   "cell_type": "markdown",
   "id": "ff7bc3b5-513d-4a31-acb5-e287582cc007",
   "metadata": {},
   "source": [
    "### Matrices"
   ]
  },
  {
   "cell_type": "code",
   "execution_count": null,
   "id": "9f62c6d1-261a-4d80-bf5c-d1b9bd5680a7",
   "metadata": {},
   "outputs": [],
   "source": []
  },
  {
   "cell_type": "code",
   "execution_count": null,
   "id": "6aa108e3-74cd-4f63-9292-91c4b916bd83",
   "metadata": {},
   "outputs": [],
   "source": []
  },
  {
   "cell_type": "code",
   "execution_count": null,
   "id": "f6eda383-3ce3-410e-b2ce-54092f861e2c",
   "metadata": {},
   "outputs": [],
   "source": []
  },
  {
   "cell_type": "markdown",
   "id": "3580eaae-b677-4847-ad9a-5a65b57c92ee",
   "metadata": {},
   "source": [
    "### Lagrangian solution to SHO"
   ]
  },
  {
   "cell_type": "code",
   "execution_count": 62,
   "id": "ef85f833-22a4-40dc-ae1e-883a95bf7e58",
   "metadata": {},
   "outputs": [
    {
     "data": {
      "image/png": "[encoded data removed]",
      "text/latex": [
       "$\\displaystyle L{\\left(x{\\left(t \\right)},v{\\left(t \\right)} \\right)} = - \\frac{k x^{2}{\\left(t \\right)}}{2} + \\frac{m v^{2}{\\left(t \\right)}}{2}$"
      ],
      "text/plain": [
       "                     2         2   \n",
       "                  k⋅x (t)   m⋅v (t)\n",
       "L(x(t), v(t)) = - ─────── + ───────\n",
       "                     2         2   "
      ]
     },
     "execution_count": 62,
     "metadata": {},
     "output_type": "execute_result"
    },
    {
     "data": {
      "image/png": "[encoded data removed]",
      "text/latex": [
       "$\\displaystyle \\frac{d}{d x{\\left(t \\right)}} L{\\left(x{\\left(t \\right)},v{\\left(t \\right)} \\right)}$"
      ],
      "text/plain": [
       "  d                 \n",
       "─────(L(x(t), v(t)))\n",
       "dx(t)               "
      ]
     },
     "execution_count": 62,
     "metadata": {},
     "output_type": "execute_result"
    },
    {
     "data": {
      "image/png": "[encoded data removed]",
      "text/latex": [
       "$\\displaystyle \\frac{d}{d v{\\left(t \\right)}} L{\\left(x{\\left(t \\right)},v{\\left(t \\right)} \\right)}$"
      ],
      "text/plain": [
       "  d                 \n",
       "─────(L(x(t), v(t)))\n",
       "dv(t)               "
      ]
     },
     "execution_count": 62,
     "metadata": {},
     "output_type": "execute_result"
    },
    {
     "data": {
      "image/png": "[encoded data removed]",
      "text/latex": [
       "$\\displaystyle \\frac{d}{d x{\\left(t \\right)}} L{\\left(x{\\left(t \\right)},v{\\left(t \\right)} \\right)} = \\frac{d^{2}}{d td v{\\left(t \\right)}} L{\\left(x{\\left(t \\right)},v{\\left(t \\right)} \\right)}$"
      ],
      "text/plain": [
       "                           2                  \n",
       "  d                       d                   \n",
       "─────(L(x(t), v(t))) = ────────(L(x(t), v(t)))\n",
       "dx(t)                  dt dv(t)               "
      ]
     },
     "execution_count": 62,
     "metadata": {},
     "output_type": "execute_result"
    },
    {
     "data": {
      "image/png": "[encoded data removed]",
      "text/latex": [
       "$\\displaystyle - k x{\\left(t \\right)} = m \\frac{d^{2}}{d t^{2}} x{\\left(t \\right)}$"
      ],
      "text/plain": [
       "              2      \n",
       "             d       \n",
       "-k⋅x(t) = m⋅───(x(t))\n",
       "              2      \n",
       "            dt       "
      ]
     },
     "execution_count": 62,
     "metadata": {},
     "output_type": "execute_result"
    },
    {
     "data": {
      "image/png": "[encoded data removed]",
      "text/latex": [
       "$\\displaystyle x{\\left(t \\right)} = C_{1} \\sin{\\left(\\omega t \\right)} + C_{2} \\cos{\\left(\\omega t \\right)}$"
      ],
      "text/plain": [
       "x(t) = C₁⋅sin(ω⋅t) + C₂⋅cos(ω⋅t)"
      ]
     },
     "execution_count": 62,
     "metadata": {},
     "output_type": "execute_result"
    }
   ],
   "source": [
    "m, k, omega, t  = sp.symbols('m k omega t', positive=True)\n",
    "L, v, x = sp.symbols('L v x', cls=sp.Function)\n",
    "lagrangian = m / 2 * v(t)**2 - k / 2 * x(t)**2\n",
    "sp.Eq(L(x(t), v(t)), lagrangian)\n",
    "\n",
    "dLdx = sp.Derivative(L(x(t), v(t)), x(t)); dLdx\n",
    "dLdv = sp.Derivative(L(x(t), v(t)), v(t)); dLdv\n",
    "\n",
    "sp.Eq(dLdx, sp.Derivative(dLdv, t))\n",
    "eom = sp.Eq(dLdx, sp.Derivative(dLdv, t)).subs(L(x(t), v(t)), lagrangian).doit()\n",
    "eom = eom.subs(v(t), x(t).diff(t)); eom\n",
    "\n",
    "solution = sp.dsolve(eom, x(t)).subs(sp.sqrt(k / m), omega); solution"
   ]
  },
  {
   "cell_type": "markdown",
   "id": "42c5732c-12f2-42a5-8539-3f2aa88853a2",
   "metadata": {},
   "source": [
    "### Two Body Problem"
   ]
  },
  {
   "cell_type": "code",
   "execution_count": 109,
   "id": "bf789083-8b7b-4b58-bfe0-fee24ffaae45",
   "metadata": {},
   "outputs": [
    {
     "data": {
      "image/png": "[encoded data removed]",
      "text/latex": [
       "$\\displaystyle L{\\left(r{\\left(t \\right)},\\dot{r}{\\left(t \\right)},\\dot{\\phi}{\\left(t \\right)} \\right)} = \\frac{k}{r{\\left(t \\right)}} + \\frac{m \\left(\\dot{\\phi}^{2}{\\left(t \\right)} r^{2}{\\left(t \\right)} + \\dot{r}^{2}{\\left(t \\right)}\\right)}{2}$"
      ],
      "text/plain": [
       "                                              ⎛          2     2             2\n",
       "                                      k     m⋅⎝\\dot{\\phi} (t)⋅r (t) + \\dot{r} \n",
       "L(r(t), \\dot{r}(t), \\dot{\\phi}(t)) = ──── + ──────────────────────────────────\n",
       "                                     r(t)                     2               \n",
       "\n",
       "   ⎞\n",
       "(t)⎠\n",
       "────\n",
       "    "
      ]
     },
     "execution_count": 109,
     "metadata": {},
     "output_type": "execute_result"
    }
   ],
   "source": [
    "m, k, l, omega, t  = sp.symbols('m k l \\omega t', positive=True)\n",
    "L, rdot, r, phidot, phi = sp.symbols('L \\dot{r} r \\dot{\\phi} \\phi', cls=sp.Function)\n",
    "lagrangian = m / 2 * (rdot(t)**2 + (r(t))**2 * phidot(t)**2) + k / r(t)\n",
    "omega = l / (m * (r(t))**2) # conservation of angular momentum\n",
    "sp.Eq(L(r(t), rdot(t), phidot(t)), lagrangian)"
   ]
  },
  {
   "cell_type": "code",
   "execution_count": 110,
   "id": "93332034-3588-4d7c-81a0-65f22081b387",
   "metadata": {},
   "outputs": [
    {
     "data": {
      "image/png": "[encoded data removed]",
      "text/latex": [
       "$\\displaystyle - \\frac{k}{r^{2}{\\left(t \\right)}} + m \\dot{\\phi}^{2}{\\left(t \\right)} r{\\left(t \\right)}$"
      ],
      "text/plain": [
       "    k                 2        \n",
       "- ───── + m⋅\\dot{\\phi} (t)⋅r(t)\n",
       "   2                           \n",
       "  r (t)                        "
      ]
     },
     "execution_count": 110,
     "metadata": {},
     "output_type": "execute_result"
    },
    {
     "data": {
      "image/png": "[encoded data removed]",
      "text/latex": [
       "$\\displaystyle m \\dot{r}{\\left(t \\right)}$"
      ],
      "text/plain": [
       "m⋅\\dot{r}(t)"
      ]
     },
     "execution_count": 110,
     "metadata": {},
     "output_type": "execute_result"
    },
    {
     "data": {
      "image/png": "[encoded data removed]",
      "text/latex": [
       "$\\displaystyle - \\frac{k}{r^{2}{\\left(t \\right)}} + \\frac{l^{2}}{m r^{3}{\\left(t \\right)}} = m \\frac{d^{2}}{d t^{2}} r{\\left(t \\right)}$"
      ],
      "text/plain": [
       "              2         2      \n",
       "    k        l         d       \n",
       "- ───── + ─────── = m⋅───(r(t))\n",
       "   2         3          2      \n",
       "  r (t)   m⋅r (t)     dt       "
      ]
     },
     "execution_count": 110,
     "metadata": {},
     "output_type": "execute_result"
    }
   ],
   "source": [
    "dLdr = sp.Derivative(L(r(t), rdot(t), phidot(t)), r(t)).subs(L(r(t), rdot(t), phidot(t)), lagrangian).doit(); dLdr\n",
    "dLdrdot = sp.Derivative(L(r(t), rdot(t), phidot(t)), rdot(t)).subs(L(r(t), rdot(t), phidot(t)), lagrangian).doit(); dLdrdot\n",
    "\n",
    "dLdr = dLdr.subs(phidot(t), omega)\n",
    "eom = sp.Eq(dLdr, sp.Derivative(dLdrdot, t)).doit()\n",
    "eom = eom.subs(rdot(t), r(t).diff(t)); eom"
   ]
  },
  {
   "cell_type": "code",
   "execution_count": 111,
   "id": "7ccb6e6a-4aec-44f7-85cb-7fc35b942ed6",
   "metadata": {},
   "outputs": [],
   "source": [
    "# solution = sp.dsolve(eom, r(t)); solution"
   ]
  },
  {
   "cell_type": "code",
   "execution_count": 118,
   "id": "8cdc0557-86f2-45aa-92b5-3ea967e920aa",
   "metadata": {},
   "outputs": [
    {
     "data": {
      "image/png": "[encoded data removed]",
      "text/latex": [
       "$\\displaystyle m \\dot{\\phi}{\\left(t \\right)} r^{2}{\\left(t \\right)}$"
      ],
      "text/plain": [
       "                 2   \n",
       "m⋅\\dot{\\phi}(t)⋅r (t)"
      ]
     },
     "execution_count": 118,
     "metadata": {},
     "output_type": "execute_result"
    },
    {
     "data": {
      "image/png": "[encoded data removed]",
      "text/latex": [
       "$\\displaystyle - \\frac{k}{r{\\left(t \\right)}} + \\frac{l^{2}}{m r^{2}{\\left(t \\right)}} - \\frac{m \\left(\\frac{l^{2}}{m^{2} r^{2}{\\left(t \\right)}} + \\dot{r}^{2}{\\left(t \\right)}\\right)}{2} + m \\dot{r}^{2}{\\left(t \\right)}$"
      ],
      "text/plain": [
       "                     ⎛    2                 ⎞                \n",
       "                     ⎜   l              2   ⎟                \n",
       "                   m⋅⎜──────── + \\dot{r} (t)⎟                \n",
       "             2       ⎜ 2  2                 ⎟                \n",
       "   k        l        ⎝m ⋅r (t)              ⎠            2   \n",
       "- ──── + ─────── - ────────────────────────── + m⋅\\dot{r} (t)\n",
       "  r(t)      2                  2                             \n",
       "         m⋅r (t)                                             "
      ]
     },
     "execution_count": 118,
     "metadata": {},
     "output_type": "execute_result"
    }
   ],
   "source": [
    "dLdphidot = sp.Derivative(L(r(t), rdot(t), phidot(t)), phidot(t)).subs(L(r(t), rdot(t), phidot(t)), lagrangian).doit(); dLdphidot\n",
    "\n",
    "p_r = dLdrdot\n",
    "p_phi = dLdphidot\n",
    "#.subs(phidot(t), omega)\n",
    "\n",
    "H = p_r * rdot(t) + p_phi * phidot(t) - L(r(t), rdot(t), phidot(t)).subs(L(r(t), rdot(t), phidot(t)), lagrangian)\n",
    "H = H.subs(phidot(t), omega); H"
   ]
  },
  {
   "cell_type": "code",
   "execution_count": null,
   "id": "527d8a92-14ca-4a47-a386-6f706e117614",
   "metadata": {},
   "outputs": [],
   "source": []
  },
  {
   "cell_type": "markdown",
   "id": "f9961289-efa3-4211-b9bb-f69bd86d15ef",
   "metadata": {},
   "source": [
    "### Quantum Mechanics"
   ]
  },
  {
   "cell_type": "code",
   "execution_count": 108,
   "id": "66cd1c8b-815a-43f7-9c38-0f74938222f0",
   "metadata": {},
   "outputs": [
    {
     "data": {
      "image/png": "[encoded data removed]",
      "text/latex": [
       "$\\displaystyle {\\left|k\\right\\rangle }{\\left\\langle b\\right|}$"
      ],
      "text/plain": [
       "❘k⟩⟨b❘"
      ]
     },
     "execution_count": 108,
     "metadata": {},
     "output_type": "execute_result"
    },
    {
     "data": {
      "image/png": "[encoded data removed]",
      "text/latex": [
       "$\\displaystyle \\mathcal{H}$"
      ],
      "text/plain": [
       "H"
      ]
     },
     "execution_count": 108,
     "metadata": {},
     "output_type": "execute_result"
    },
    {
     "data": {
      "image/png": "[encoded data removed]",
      "text/latex": [
       "$\\displaystyle {\\left|k\\right\\rangle }$"
      ],
      "text/plain": [
       "❘k⟩"
      ]
     },
     "execution_count": 108,
     "metadata": {},
     "output_type": "execute_result"
    },
    {
     "data": {
      "image/png": "[encoded data removed]",
      "text/latex": [
       "$\\displaystyle {\\left\\langle b\\right|}$"
      ],
      "text/plain": [
       "⟨b❘"
      ]
     },
     "execution_count": 108,
     "metadata": {},
     "output_type": "execute_result"
    },
    {
     "data": {
      "image/png": "[encoded data removed]",
      "text/latex": [
       "$\\displaystyle {\\left|b\\right\\rangle }{\\left\\langle k\\right|}$"
      ],
      "text/plain": [
       "❘b⟩⟨k❘"
      ]
     },
     "execution_count": 108,
     "metadata": {},
     "output_type": "execute_result"
    },
    {
     "data": {
      "image/png": "[encoded data removed]",
      "text/latex": [
       "$\\displaystyle \\left\\langle b \\right. {\\left|k\\right\\rangle }$"
      ],
      "text/plain": [
       "⟨b❘k⟩"
      ]
     },
     "execution_count": 108,
     "metadata": {},
     "output_type": "execute_result"
    },
    {
     "data": {
      "image/png": "[encoded data removed]",
      "text/latex": [
       "$\\displaystyle A$"
      ],
      "text/plain": [
       "A"
      ]
     },
     "execution_count": 108,
     "metadata": {},
     "output_type": "execute_result"
    },
    {
     "data": {
      "image/png": "[encoded data removed]",
      "text/latex": [
       "$\\displaystyle A^{\\dagger}$"
      ],
      "text/plain": [
       " †\n",
       "A "
      ]
     },
     "execution_count": 108,
     "metadata": {},
     "output_type": "execute_result"
    },
    {
     "data": {
      "image/png": "[encoded data removed]",
      "text/latex": [
       "$\\displaystyle {{\\left|k\\right\\rangle }}\\otimes {{\\left|k\\right\\rangle }}$"
      ],
      "text/plain": [
       "❘k⟩⨂ ❘k⟩"
      ]
     },
     "execution_count": 108,
     "metadata": {},
     "output_type": "execute_result"
    }
   ],
   "source": [
    "from sympy.physics.quantum import Ket, Bra, OuterProduct, Dagger, InnerProduct, Operator, TensorProduct\n",
    "k = Ket('k')\n",
    "b = Bra('b')\n",
    "op = OuterProduct(k, b); op\n",
    "op.hilbert_space\n",
    "op.ket\n",
    "op.bra\n",
    "Dagger(op)\n",
    "InnerProduct(b, k)\n",
    "A = Operator('A'); A\n",
    "Dagger(A)\n",
    "TensorProduct(k, k)"
   ]
  },
  {
   "cell_type": "code",
   "execution_count": 107,
   "id": "5d3c6f49-2707-4ecb-b04a-ff9347e021b3",
   "metadata": {},
   "outputs": [
    {
     "data": {
      "image/png": "[encoded data removed]",
      "text/latex": [
       "$\\displaystyle \\left\\langle b \\right. {\\left|k\\right\\rangle }$"
      ],
      "text/plain": [
       "⟨b❘k⟩"
      ]
     },
     "execution_count": 107,
     "metadata": {},
     "output_type": "execute_result"
    },
    {
     "data": {
      "image/png": "[encoded data removed]",
      "text/latex": [
       "$\\displaystyle {\\left|k\\right\\rangle }{\\left\\langle b\\right|}$"
      ],
      "text/plain": [
       "❘k⟩⟨b❘"
      ]
     },
     "execution_count": 107,
     "metadata": {},
     "output_type": "execute_result"
    },
    {
     "data": {
      "image/png": "[encoded data removed]",
      "text/latex": [
       "$\\displaystyle A {\\left|k\\right\\rangle }$"
      ],
      "text/plain": [
       "A⋅❘k⟩"
      ]
     },
     "execution_count": 107,
     "metadata": {},
     "output_type": "execute_result"
    },
    {
     "data": {
      "image/png": "[encoded data removed]",
      "text/latex": [
       "$\\displaystyle {\\left\\langle b\\right|} A {\\left|k\\right\\rangle }$"
      ],
      "text/plain": [
       "⟨b❘⋅A⋅❘k⟩"
      ]
     },
     "execution_count": 107,
     "metadata": {},
     "output_type": "execute_result"
    }
   ],
   "source": [
    "b * k\n",
    "k * b\n",
    "A * k\n",
    "b * A * k"
   ]
  },
  {
   "cell_type": "code",
   "execution_count": 97,
   "id": "ce017f55-c870-4789-83d3-ed25b6d554cd",
   "metadata": {},
   "outputs": [
    {
     "data": {
      "image/png": "[encoded data removed]",
      "text/latex": [
       "$\\displaystyle {\\left|k\\right\\rangle }{\\left\\langle b\\right|}$"
      ],
      "text/plain": [
       "❘k⟩⟨b❘"
      ]
     },
     "execution_count": 97,
     "metadata": {},
     "output_type": "execute_result"
    }
   ],
   "source": [
    "k * b"
   ]
  },
  {
   "cell_type": "code",
   "execution_count": 103,
   "id": "d4795b46-befc-4171-bace-711c9950eb3b",
   "metadata": {},
   "outputs": [
    {
     "data": {
      "image/png": "[encoded data removed]",
      "text/latex": [
       "$\\displaystyle 2 \\left\\langle b \\right. {\\left|k\\right\\rangle } {\\left\\langle b\\right|}$"
      ],
      "text/plain": [
       "2⋅⟨b❘k⟩⋅⟨b❘"
      ]
     },
     "execution_count": 103,
     "metadata": {},
     "output_type": "execute_result"
    }
   ],
   "source": [
    "b * k * b + b * k * b"
   ]
  },
  {
   "cell_type": "code",
   "execution_count": null,
   "id": "6f11cadf-0842-4d9e-92bf-cb3884dbddf2",
   "metadata": {},
   "outputs": [],
   "source": []
  }
 ],
 "metadata": {
  "kernelspec": {
   "display_name": "Python 3",
   "language": "python",
   "name": "python3"
  },
  "language_info": {
   "codemirror_mode": {
    "name": "ipython",
    "version": 3
   },
   "file_extension": ".py",
   "mimetype": "text/x-python",
   "name": "python",
   "nbconvert_exporter": "python",
   "pygments_lexer": "ipython3",
   "version": "3.9.6"
  }
 },
 "nbformat": 4,
 "nbformat_minor": 5
}
