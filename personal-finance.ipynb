{
 "cells": [
  {
   "cell_type": "markdown",
   "id": "3ddb1021-d8a3-40a3-b8f6-5c740b615e6b",
   "metadata": {},
   "source": [
    "# Personal Finance\n",
    "\n",
    "Date: 10/1/2024"
   ]
  },
  {
   "cell_type": "code",
   "execution_count": 1,
   "id": "c3038b76-1ee7-41d5-8487-a7a093935d70",
   "metadata": {},
   "outputs": [],
   "source": [
    "import numpy as np\n",
    "import pandas as pd\n",
    "import matplotlib.pyplot as plt"
   ]
  },
  {
   "cell_type": "code",
   "execution_count": 2,
   "id": "fc39d090-0b96-42de-9fe3-7685a3555a7a",
   "metadata": {},
   "outputs": [],
   "source": [
    "# equity months: 2, 5, 8, 11\n",
    "# bonus months: 5, 11\n",
    "months_till_next_equity = 1\n",
    "months_till_next_bonus = 6\n",
    "\n",
    "car_principle = 29_397.66\n",
    "min_student_loan_payment = 212.46\n",
    "\n",
    "current_savings = 30_000\n",
    "savings_target = 50_000"
   ]
  },
  {
   "cell_type": "code",
   "execution_count": 3,
   "id": "29707db0-c86f-4080-977e-319f15ea619f",
   "metadata": {},
   "outputs": [],
   "source": [
    "df_student = pd.DataFrame(data=[\n",
    "    ['AA', 9_418.94, 3.150],\n",
    "    ['AD', 2_707.57, 3.610],\n",
    "], columns=['group', 'principle', 'apr'])"
   ]
  },
  {
   "cell_type": "markdown",
   "id": "d5768fe7-1ff3-405a-be16-ce8fae4bc42d",
   "metadata": {},
   "source": [
    "## Budget"
   ]
  },
  {
   "cell_type": "markdown",
   "id": "eb145906-10d6-466e-b097-c2370ca23b70",
   "metadata": {},
   "source": [
    "### Income"
   ]
  },
  {
   "cell_type": "code",
   "execution_count": 4,
   "id": "b6d8f149-ad10-40fd-9816-0c12a798cb45",
   "metadata": {},
   "outputs": [],
   "source": [
    "base_salary = 190_550"
   ]
  },
  {
   "cell_type": "code",
   "execution_count": 5,
   "id": "5eef2f90-9e1b-4c80-b0c4-70dd64e27eae",
   "metadata": {},
   "outputs": [
    {
     "name": "stdout",
     "output_type": "stream",
     "text": [
      "annual_bonus = $22866.0\n",
      "biannual_bonus = $11433.0\n"
     ]
    }
   ],
   "source": [
    "bonus_factor = 0.12 # standard base\n",
    "annual_bonus = base_salary * bonus_factor\n",
    "biannual_bonus = annual_bonus / 2\n",
    "print(f'annual_bonus = ${annual_bonus}')\n",
    "print(f'biannual_bonus = ${biannual_bonus}')"
   ]
  },
  {
   "cell_type": "code",
   "execution_count": 6,
   "id": "b5a9855a-5961-4b8a-95b4-2c5e1c64efde",
   "metadata": {},
   "outputs": [
    {
     "name": "stdout",
     "output_type": "stream",
     "text": [
      "annual_equity = $73730.0\n",
      "quarterly_equity = $18432.5\n"
     ]
    }
   ],
   "source": [
    "share_price = 365.00\n",
    "num_shares = 202\n",
    "annual_equity = share_price * num_shares\n",
    "quarterly_equity = annual_equity / 4\n",
    "print(f'annual_equity = ${annual_equity}')\n",
    "print(f'quarterly_equity = ${quarterly_equity}')"
   ]
  },
  {
   "cell_type": "code",
   "execution_count": 7,
   "id": "21730e47-d9c8-4c7f-8e74-91a278e7b9c7",
   "metadata": {},
   "outputs": [],
   "source": [
    "tax_rate = 0.34\n",
    "bonus_tax_rate = 0.42"
   ]
  },
  {
   "cell_type": "code",
   "execution_count": 8,
   "id": "aa8d98e1-9b2a-4f42-a3c5-bf4eb177f28b",
   "metadata": {},
   "outputs": [],
   "source": [
    "other_monthly_income = 0"
   ]
  },
  {
   "cell_type": "code",
   "execution_count": 9,
   "id": "cea56153-ad47-405c-b834-418107421343",
   "metadata": {},
   "outputs": [
    {
     "name": "stdout",
     "output_type": "stream",
     "text": [
      "annual_compensation = $287146.0\n"
     ]
    }
   ],
   "source": [
    "annual_compensation = base_salary + annual_equity + annual_bonus\n",
    "print(f'annual_compensation = ${annual_compensation}')"
   ]
  },
  {
   "cell_type": "code",
   "execution_count": 10,
   "id": "153ca8af-74b5-43d6-92a4-3eedeba0d9f6",
   "metadata": {},
   "outputs": [
    {
     "name": "stdout",
     "output_type": "stream",
     "text": [
      "total_annual_income = $287146.0\n"
     ]
    }
   ],
   "source": [
    "total_annual_income = annual_compensation + 8 * other_monthly_income # for 2024\n",
    "print(f'total_annual_income = ${total_annual_income}')"
   ]
  },
  {
   "cell_type": "code",
   "execution_count": 11,
   "id": "421aa106-523a-4272-aeb6-b0ec83f3c90b",
   "metadata": {},
   "outputs": [
    {
     "name": "stdout",
     "output_type": "stream",
     "text": [
      "net_annual_income = $181788.68\n"
     ]
    }
   ],
   "source": [
    "net_annual_income = base_salary * (1 - tax_rate) + (annual_equity + annual_bonus) * (1 - bonus_tax_rate) + 8 * other_monthly_income\n",
    "print(f'net_annual_income = ${net_annual_income}')"
   ]
  },
  {
   "cell_type": "code",
   "execution_count": 12,
   "id": "3181c04a-7a3e-4a69-b478-c75bf457f1a8",
   "metadata": {},
   "outputs": [
    {
     "name": "stdout",
     "output_type": "stream",
     "text": [
      "monthly_salary = $15879.17\n"
     ]
    }
   ],
   "source": [
    "monthly_salary = base_salary / 12\n",
    "print(f'monthly_salary = ${round(monthly_salary, 2)}')"
   ]
  },
  {
   "cell_type": "code",
   "execution_count": 13,
   "id": "2265ca39-ee67-44c2-92c5-00c854195ea9",
   "metadata": {},
   "outputs": [
    {
     "name": "stdout",
     "output_type": "stream",
     "text": [
      "total_monthly_income = $15879.17\n"
     ]
    }
   ],
   "source": [
    "total_monthly_income = base_salary / 12 + other_monthly_income\n",
    "print(f'total_monthly_income = ${round(total_monthly_income, 2)}')"
   ]
  },
  {
   "cell_type": "code",
   "execution_count": 14,
   "id": "a1c4a628-52e4-43db-953f-de6385bf8190",
   "metadata": {},
   "outputs": [
    {
     "name": "stdout",
     "output_type": "stream",
     "text": [
      "net_monthly_income = $10480.25\n"
     ]
    }
   ],
   "source": [
    "net_monthly_income = base_salary * (1 - tax_rate) / 12 + other_monthly_income\n",
    "print(f'net_monthly_income = ${round(net_monthly_income, 2)}')"
   ]
  },
  {
   "cell_type": "code",
   "execution_count": 15,
   "id": "c1627277-71ef-4489-aa2f-32b90563f57b",
   "metadata": {},
   "outputs": [
    {
     "name": "stdout",
     "output_type": "stream",
     "text": [
      "total_per_paycheck = $7939.58\n"
     ]
    }
   ],
   "source": [
    "total_per_paycheck = base_salary / 12 / 2\n",
    "print(f'total_per_paycheck = ${round(total_per_paycheck, 2)}')"
   ]
  },
  {
   "cell_type": "code",
   "execution_count": 16,
   "id": "852327d6-ea71-4351-aa41-5d16e4972c37",
   "metadata": {},
   "outputs": [
    {
     "name": "stdout",
     "output_type": "stream",
     "text": [
      "net_per_paycheck = $5240.12\n"
     ]
    }
   ],
   "source": [
    "net_per_paycheck = total_per_paycheck * (1 - tax_rate)\n",
    "print(f'net_per_paycheck = ${round(net_per_paycheck, 2)}')"
   ]
  },
  {
   "cell_type": "code",
   "execution_count": 17,
   "id": "5467ca4b-5e50-4882-9132-b8afaf4df2f7",
   "metadata": {},
   "outputs": [
    {
     "name": "stdout",
     "output_type": "stream",
     "text": [
      "net_quarterly_equity = $10690.85\n"
     ]
    }
   ],
   "source": [
    "net_quarterly_equity = quarterly_equity * (1 - bonus_tax_rate)\n",
    "print(f'net_quarterly_equity = ${round(net_quarterly_equity, 2)}')"
   ]
  },
  {
   "cell_type": "code",
   "execution_count": 18,
   "id": "99d40268-beb3-4ed2-ac79-d4b1013a8c95",
   "metadata": {},
   "outputs": [
    {
     "name": "stdout",
     "output_type": "stream",
     "text": [
      "net_biannual_bonus = $6631.14\n"
     ]
    }
   ],
   "source": [
    "net_biannual_bonus = biannual_bonus * (1 - bonus_tax_rate)\n",
    "print(f'net_biannual_bonus = ${round(net_biannual_bonus, 2)}')"
   ]
  },
  {
   "cell_type": "code",
   "execution_count": 19,
   "id": "99a715e0-fc4c-49a6-bc03-49c73325b3f7",
   "metadata": {},
   "outputs": [
    {
     "name": "stdout",
     "output_type": "stream",
     "text": [
      "effective_total_monthly_income = $23928.83\n"
     ]
    }
   ],
   "source": [
    "effective_total_monthly_income = total_monthly_income + annual_bonus / 12 + annual_equity / 12\n",
    "print(f'effective_total_monthly_income = ${round(effective_total_monthly_income, 2)}')"
   ]
  },
  {
   "cell_type": "code",
   "execution_count": 20,
   "id": "2f8c51e1-cc22-40a8-b12d-ca2af83bd5fe",
   "metadata": {},
   "outputs": [
    {
     "name": "stdout",
     "output_type": "stream",
     "text": [
      "effective_net_monthly_income = $15149.06\n"
     ]
    }
   ],
   "source": [
    "effective_net_monthly_income = net_annual_income / 12\n",
    "print(f'effective_net_monthly_income = ${round(effective_net_monthly_income, 2)}')"
   ]
  },
  {
   "cell_type": "markdown",
   "id": "9e88b06b-1bf5-47bb-a8fe-eaea31aa794c",
   "metadata": {},
   "source": [
    "### Costs"
   ]
  },
  {
   "cell_type": "code",
   "execution_count": 21,
   "id": "1972f6c9-5adf-40d4-9e1b-7f4a2bab2017",
   "metadata": {},
   "outputs": [
    {
     "name": "stdout",
     "output_type": "stream",
     "text": [
      "fixed_costs = $4881.46\n"
     ]
    }
   ],
   "source": [
    "fixed_costs = sum([\n",
    "    3000, # rent\n",
    "    170, # utilities\n",
    "    50, # health insurance\n",
    "    150, # car insurance\n",
    "    50, # subscriptions\n",
    "    min_student_loan_payment, # student loans\n",
    "    1249, # car loan\n",
    "])\n",
    "\n",
    "print(f'fixed_costs = ${fixed_costs}')"
   ]
  },
  {
   "cell_type": "code",
   "execution_count": 22,
   "id": "de50af07-5951-425c-bc01-46d870f6ac68",
   "metadata": {},
   "outputs": [
    {
     "name": "stdout",
     "output_type": "stream",
     "text": [
      "variable_costs_sc = $1800\n"
     ]
    }
   ],
   "source": [
    "variable_costs_sc = sum([\n",
    "    30 * 30, # food + coffee + alcohol\n",
    "    100, # gas\n",
    "    450 + 150, # travel (GSP-SFO airfare + 1 hotel)\n",
    "    200, # misc\n",
    "])\n",
    "\n",
    "print(f'variable_costs_sc = ${variable_costs_sc}')"
   ]
  },
  {
   "cell_type": "code",
   "execution_count": 23,
   "id": "9dc96378-39c1-405a-8df4-029117d44b3b",
   "metadata": {},
   "outputs": [
    {
     "name": "stdout",
     "output_type": "stream",
     "text": [
      "variable_costs_ca = $3050\n"
     ]
    }
   ],
   "source": [
    "variable_costs_ca = sum([\n",
    "    50 * 30, # food + coffee + alcohol\n",
    "    300, # gas\n",
    "    450 + 4 * 150, # travel (GSP-SFO airfare + 4 hotels)\n",
    "    200, # misc\n",
    "])\n",
    "\n",
    "print(f'variable_costs_ca = ${variable_costs_ca}')"
   ]
  },
  {
   "cell_type": "code",
   "execution_count": 24,
   "id": "d81984e3-427a-4866-b9aa-d6cad04a4b82",
   "metadata": {},
   "outputs": [
    {
     "name": "stdout",
     "output_type": "stream",
     "text": [
      "total_monthly_costs_sc = $6681.46\n"
     ]
    }
   ],
   "source": [
    "total_monthly_costs_sc = fixed_costs + variable_costs_sc\n",
    "print(f'total_monthly_costs_sc = ${total_monthly_costs_sc}')"
   ]
  },
  {
   "cell_type": "code",
   "execution_count": 25,
   "id": "22c41750-681e-4e85-ac54-eda8eb8f8266",
   "metadata": {},
   "outputs": [
    {
     "name": "stdout",
     "output_type": "stream",
     "text": [
      "total_monthly_costs_ca = $7931.46\n"
     ]
    }
   ],
   "source": [
    "total_monthly_costs_ca = fixed_costs + variable_costs_ca\n",
    "print(f'total_monthly_costs_ca = ${total_monthly_costs_ca}')"
   ]
  },
  {
   "cell_type": "code",
   "execution_count": 26,
   "id": "34253238-9577-473d-be10-c0c098c1e900",
   "metadata": {},
   "outputs": [
    {
     "name": "stdout",
     "output_type": "stream",
     "text": [
      "avg_total_monthly_costs = $7306.46\n"
     ]
    }
   ],
   "source": [
    "pct_time_in_sc = 0.5\n",
    "avg_total_monthly_costs = pct_time_in_sc * total_monthly_costs_sc + (1 - pct_time_in_sc) * total_monthly_costs_ca\n",
    "print(f'avg_total_monthly_costs = ${avg_total_monthly_costs}')"
   ]
  },
  {
   "cell_type": "code",
   "execution_count": 27,
   "id": "9e4beb90-5fad-4e22-be55-73ddd4977712",
   "metadata": {},
   "outputs": [
    {
     "name": "stdout",
     "output_type": "stream",
     "text": [
      "total_annual_costs = $87677.52\n"
     ]
    }
   ],
   "source": [
    "total_annual_costs = total_monthly_costs_sc * 6 + total_monthly_costs_ca * 6\n",
    "print(f'total_annual_costs = ${total_annual_costs}')"
   ]
  },
  {
   "cell_type": "markdown",
   "id": "a7be6bf1-44e9-44f0-a329-fed0cfc3aa29",
   "metadata": {},
   "source": [
    "### Profits"
   ]
  },
  {
   "cell_type": "code",
   "execution_count": 28,
   "id": "a68e00d8-064b-4b7e-b98c-54c565cf9f0e",
   "metadata": {},
   "outputs": [
    {
     "name": "stdout",
     "output_type": "stream",
     "text": [
      "avg_monthly_profit = $3173.79\n"
     ]
    }
   ],
   "source": [
    "avg_monthly_profit = net_monthly_income - avg_total_monthly_costs\n",
    "print(f'avg_monthly_profit = ${round(avg_monthly_profit, 2)}')"
   ]
  },
  {
   "cell_type": "code",
   "execution_count": 29,
   "id": "4dc81e33-a86f-4076-9f07-9327bd4ea9f7",
   "metadata": {},
   "outputs": [
    {
     "name": "stdout",
     "output_type": "stream",
     "text": [
      "avg_effective_monthly_profit = $7842.6\n"
     ]
    }
   ],
   "source": [
    "avg_effective_monthly_profit = effective_net_monthly_income - avg_total_monthly_costs\n",
    "print(f'avg_effective_monthly_profit = ${round(avg_effective_monthly_profit, 2)}')"
   ]
  },
  {
   "cell_type": "code",
   "execution_count": 30,
   "id": "750ce17f-8070-4967-930d-654929f5667f",
   "metadata": {},
   "outputs": [
    {
     "name": "stdout",
     "output_type": "stream",
     "text": [
      "annual_profit = $94111.16\n"
     ]
    }
   ],
   "source": [
    "annual_profit = net_annual_income - total_annual_costs\n",
    "print(f'annual_profit = ${round(annual_profit, 2)}')"
   ]
  },
  {
   "cell_type": "markdown",
   "id": "745bcc0b-6b8f-450a-b6b3-9f9015fd4363",
   "metadata": {},
   "source": [
    "## Student Loan"
   ]
  },
  {
   "cell_type": "code",
   "execution_count": 31,
   "id": "f2ae87d5-9c19-4917-a725-3aa31939d8cd",
   "metadata": {},
   "outputs": [
    {
     "data": {
      "text/html": [
       "<div>\n",
       "<style scoped>\n",
       "    .dataframe tbody tr th:only-of-type {\n",
       "        vertical-align: middle;\n",
       "    }\n",
       "\n",
       "    .dataframe tbody tr th {\n",
       "        vertical-align: top;\n",
       "    }\n",
       "\n",
       "    .dataframe thead th {\n",
       "        text-align: right;\n",
       "    }\n",
       "</style>\n",
       "<table border=\"1\" class=\"dataframe\">\n",
       "  <thead>\n",
       "    <tr style=\"text-align: right;\">\n",
       "      <th></th>\n",
       "      <th>group</th>\n",
       "      <th>principle</th>\n",
       "      <th>apr</th>\n",
       "      <th>monthly_interest</th>\n",
       "    </tr>\n",
       "  </thead>\n",
       "  <tbody>\n",
       "    <tr>\n",
       "      <th>0</th>\n",
       "      <td>AA</td>\n",
       "      <td>9418.94</td>\n",
       "      <td>3.15</td>\n",
       "      <td>24.72</td>\n",
       "    </tr>\n",
       "    <tr>\n",
       "      <th>1</th>\n",
       "      <td>AD</td>\n",
       "      <td>2707.57</td>\n",
       "      <td>3.61</td>\n",
       "      <td>8.15</td>\n",
       "    </tr>\n",
       "  </tbody>\n",
       "</table>\n",
       "</div>"
      ],
      "text/plain": [
       "  group  principle   apr  monthly_interest\n",
       "0    AA    9418.94  3.15             24.72\n",
       "1    AD    2707.57  3.61              8.15"
      ]
     },
     "execution_count": 31,
     "metadata": {},
     "output_type": "execute_result"
    }
   ],
   "source": [
    "df_student['monthly_interest'] = (df_student['principle'] * df_student['apr'] / 12 / 100).round(2)\n",
    "df_student"
   ]
  },
  {
   "cell_type": "code",
   "execution_count": 32,
   "id": "bffbf099-9a5a-414c-bb8a-a8487c668bf5",
   "metadata": {},
   "outputs": [
    {
     "name": "stdout",
     "output_type": "stream",
     "text": [
      "effective_student_apr = 3.253%\n"
     ]
    }
   ],
   "source": [
    "effective_student_apr = np.dot(df_student['principle'] / df_student['principle'].sum(), df_student['apr'])\n",
    "print(f'effective_student_apr = {round(effective_student_apr, 3)}%')"
   ]
  },
  {
   "cell_type": "code",
   "execution_count": 33,
   "id": "ca44b4ed-c606-49b4-af96-600907b3d28c",
   "metadata": {},
   "outputs": [
    {
     "name": "stdout",
     "output_type": "stream",
     "text": [
      "total_student_principle = $12126.51\n"
     ]
    }
   ],
   "source": [
    "total_student_principle = df_student['principle'].sum()\n",
    "print(f'total_student_principle = ${round(total_student_principle, 2)}')"
   ]
  },
  {
   "cell_type": "code",
   "execution_count": 34,
   "id": "c4e582df-bcba-4f3a-aa42-3f93fbc53dd9",
   "metadata": {},
   "outputs": [],
   "source": [
    "def amortization_schedule(df, min_payment, extra_payments=[], start_at=0):\n",
    "    df = df[df['principle'] > 0].copy()\n",
    "    month = start_at\n",
    "    amortization_records = [{\n",
    "            'month': month,\n",
    "            'total_payment': 0,\n",
    "            'interest_paid': 0,\n",
    "            'principal_paid': 0,\n",
    "            'remaining_balance': df['principle'].sum()\n",
    "    }]\n",
    "    total_principal = df['principle'].sum()\n",
    "    while total_principal > 0:\n",
    "        month += 1\n",
    "        monthly_interest = df['monthly_interest'].sum()\n",
    "        total_payment = min_payment\n",
    "        for extra_payment in extra_payments:\n",
    "            if month >= extra_payment['shift_by'] and (month - extra_payment.get('shift_by', 0)) % extra_payment['num_months'] == 0:\n",
    "                total_payment += extra_payment['amount']\n",
    "        principal_payment = max(0, total_payment - monthly_interest)\n",
    "        if total_principal + monthly_interest < total_payment:\n",
    "            principal_payment = total_principal\n",
    "            min_payment = principal_payment + monthly_interest\n",
    "        total_principal -= principal_payment\n",
    "        amortization_records.append({\n",
    "            'month': month,\n",
    "            'total_payment': total_payment,\n",
    "            'interest_paid': monthly_interest,\n",
    "            'principal_paid': principal_payment,\n",
    "            'remaining_balance': total_principal\n",
    "        })\n",
    "        df['payment_proportion'] = df['principle'] / df['principle'].sum()\n",
    "        df['principle'] -= df['payment_proportion'] * principal_payment\n",
    "        df['monthly_interest'] = (df['principle'] * df['apr'] / 12 / 100).round(2)\n",
    "        if total_principal <= 1:\n",
    "            break\n",
    "    return pd.DataFrame(amortization_records)"
   ]
  },
  {
   "cell_type": "code",
   "execution_count": 35,
   "id": "b69afe92-b4fe-4b37-a30d-9165c45972bb",
   "metadata": {},
   "outputs": [
    {
     "data": {
      "text/html": [
       "<div>\n",
       "<style scoped>\n",
       "    .dataframe tbody tr th:only-of-type {\n",
       "        vertical-align: middle;\n",
       "    }\n",
       "\n",
       "    .dataframe tbody tr th {\n",
       "        vertical-align: top;\n",
       "    }\n",
       "\n",
       "    .dataframe thead th {\n",
       "        text-align: right;\n",
       "    }\n",
       "</style>\n",
       "<table border=\"1\" class=\"dataframe\">\n",
       "  <thead>\n",
       "    <tr style=\"text-align: right;\">\n",
       "      <th></th>\n",
       "      <th>month</th>\n",
       "      <th>total_payment</th>\n",
       "      <th>interest_paid</th>\n",
       "      <th>principal_paid</th>\n",
       "      <th>remaining_balance</th>\n",
       "    </tr>\n",
       "  </thead>\n",
       "  <tbody>\n",
       "    <tr>\n",
       "      <th>0</th>\n",
       "      <td>0</td>\n",
       "      <td>0.00</td>\n",
       "      <td>0.00</td>\n",
       "      <td>0.00</td>\n",
       "      <td>12126.51</td>\n",
       "    </tr>\n",
       "    <tr>\n",
       "      <th>1</th>\n",
       "      <td>1</td>\n",
       "      <td>8343.60</td>\n",
       "      <td>32.87</td>\n",
       "      <td>8310.73</td>\n",
       "      <td>3815.78</td>\n",
       "    </tr>\n",
       "    <tr>\n",
       "      <th>2</th>\n",
       "      <td>2</td>\n",
       "      <td>1712.46</td>\n",
       "      <td>10.34</td>\n",
       "      <td>1702.12</td>\n",
       "      <td>2113.66</td>\n",
       "    </tr>\n",
       "    <tr>\n",
       "      <th>3</th>\n",
       "      <td>3</td>\n",
       "      <td>1712.46</td>\n",
       "      <td>5.73</td>\n",
       "      <td>1706.73</td>\n",
       "      <td>406.93</td>\n",
       "    </tr>\n",
       "    <tr>\n",
       "      <th>4</th>\n",
       "      <td>4</td>\n",
       "      <td>8343.60</td>\n",
       "      <td>1.10</td>\n",
       "      <td>406.93</td>\n",
       "      <td>0.00</td>\n",
       "    </tr>\n",
       "  </tbody>\n",
       "</table>\n",
       "</div>"
      ],
      "text/plain": [
       "   month  total_payment  interest_paid  principal_paid  remaining_balance\n",
       "0      0           0.00           0.00            0.00           12126.51\n",
       "1      1        8343.60          32.87         8310.73            3815.78\n",
       "2      2        1712.46          10.34         1702.12            2113.66\n",
       "3      3        1712.46           5.73         1706.73             406.93\n",
       "4      4        8343.60           1.10          406.93               0.00"
      ]
     },
     "execution_count": 35,
     "metadata": {},
     "output_type": "execute_result"
    }
   ],
   "source": [
    "extra_payments = [\n",
    "    {'num_months': 1, 'amount': 1500, 'shift_by': 0},\n",
    "    {'num_months': 3, 'amount': net_biannual_bonus, 'shift_by': months_till_next_equity},\n",
    "    {'num_months': 6, 'amount': net_quarterly_equity, 'shift_by': months_till_next_bonus},\n",
    "]\n",
    "amortization_df = amortization_schedule(df_student, min_student_loan_payment, extra_payments) # as of June 1\n",
    "amortization_df"
   ]
  },
  {
   "cell_type": "code",
   "execution_count": 36,
   "id": "029d0eb0-ce86-4787-a333-c70c6a9b469c",
   "metadata": {},
   "outputs": [
    {
     "name": "stdout",
     "output_type": "stream",
     "text": [
      "num_months_remaining_student = 4\n"
     ]
    }
   ],
   "source": [
    "num_months_remaining_student = amortization_df['month'].iloc[-1]\n",
    "print(f'num_months_remaining_student = {num_months_remaining_student}')"
   ]
  },
  {
   "cell_type": "code",
   "execution_count": 37,
   "id": "d4f3b972-4653-4a67-be3e-e3b7c474f74a",
   "metadata": {},
   "outputs": [
    {
     "name": "stdout",
     "output_type": "stream",
     "text": [
      "num_years_remaining_student = 0\n",
      "num_months_leftover_remaining_student = 4\n"
     ]
    }
   ],
   "source": [
    "print(f'num_years_remaining_student = {num_months_remaining_student // 12}')\n",
    "print(f'num_months_leftover_remaining_student = {num_months_remaining_student % 12}')"
   ]
  },
  {
   "cell_type": "code",
   "execution_count": 38,
   "id": "9d12ba34-a827-4fc9-809e-a626cc0b4ca0",
   "metadata": {},
   "outputs": [
    {
     "name": "stdout",
     "output_type": "stream",
     "text": [
      "leftover_student_payment = $7936.67\n"
     ]
    }
   ],
   "source": [
    "leftover_student_payment = amortization_df['total_payment'].iloc[-1] - amortization_df['remaining_balance'].iloc[-2]\n",
    "print(f'leftover_student_payment = ${round(leftover_student_payment, 2)}')"
   ]
  },
  {
   "cell_type": "markdown",
   "id": "06b989b5-c5bb-4b67-9c8a-842a510910e1",
   "metadata": {},
   "source": [
    "## Car Loan"
   ]
  },
  {
   "cell_type": "code",
   "execution_count": 39,
   "id": "dfd66a0e-acb3-4e58-9940-00442c0bd081",
   "metadata": {},
   "outputs": [
    {
     "data": {
      "text/html": [
       "<div>\n",
       "<style scoped>\n",
       "    .dataframe tbody tr th:only-of-type {\n",
       "        vertical-align: middle;\n",
       "    }\n",
       "\n",
       "    .dataframe tbody tr th {\n",
       "        vertical-align: top;\n",
       "    }\n",
       "\n",
       "    .dataframe thead th {\n",
       "        text-align: right;\n",
       "    }\n",
       "</style>\n",
       "<table border=\"1\" class=\"dataframe\">\n",
       "  <thead>\n",
       "    <tr style=\"text-align: right;\">\n",
       "      <th></th>\n",
       "      <th>principle</th>\n",
       "      <th>apr</th>\n",
       "      <th>monthly_interest</th>\n",
       "    </tr>\n",
       "  </thead>\n",
       "  <tbody>\n",
       "    <tr>\n",
       "      <th>0</th>\n",
       "      <td>16362.08</td>\n",
       "      <td>1.99</td>\n",
       "      <td>27.13</td>\n",
       "    </tr>\n",
       "  </tbody>\n",
       "</table>\n",
       "</div>"
      ],
      "text/plain": [
       "   principle   apr  monthly_interest\n",
       "0   16362.08  1.99             27.13"
      ]
     },
     "execution_count": 39,
     "metadata": {},
     "output_type": "execute_result"
    }
   ],
   "source": [
    "car_payment = 1249.36\n",
    "car_apr = 1.99\n",
    "\n",
    "remaining_car_principle = car_principle - num_months_remaining_student * (car_payment / (1 - car_apr / 100)) - leftover_student_payment\n",
    "df_car = pd.DataFrame(data=[[remaining_car_principle, car_apr]], columns=['principle', 'apr'])\n",
    "df_car['principle'] = df_car['principle'].round(2)\n",
    "df_car['monthly_interest'] = (df_car['principle'] * df_car['apr'] / 12 / 100).round(2)\n",
    "df_car"
   ]
  },
  {
   "cell_type": "code",
   "execution_count": 40,
   "id": "f1048a2c-538f-475c-8cbb-0b07f9e6651f",
   "metadata": {},
   "outputs": [
    {
     "data": {
      "text/html": [
       "<div>\n",
       "<style scoped>\n",
       "    .dataframe tbody tr th:only-of-type {\n",
       "        vertical-align: middle;\n",
       "    }\n",
       "\n",
       "    .dataframe tbody tr th {\n",
       "        vertical-align: top;\n",
       "    }\n",
       "\n",
       "    .dataframe thead th {\n",
       "        text-align: right;\n",
       "    }\n",
       "</style>\n",
       "<table border=\"1\" class=\"dataframe\">\n",
       "  <thead>\n",
       "    <tr style=\"text-align: right;\">\n",
       "      <th></th>\n",
       "      <th>month</th>\n",
       "      <th>total_payment</th>\n",
       "      <th>interest_paid</th>\n",
       "      <th>principal_paid</th>\n",
       "      <th>remaining_balance</th>\n",
       "    </tr>\n",
       "  </thead>\n",
       "  <tbody>\n",
       "    <tr>\n",
       "      <th>0</th>\n",
       "      <td>4</td>\n",
       "      <td>0.00</td>\n",
       "      <td>0.00</td>\n",
       "      <td>0.00</td>\n",
       "      <td>16362.08</td>\n",
       "    </tr>\n",
       "    <tr>\n",
       "      <th>1</th>\n",
       "      <td>5</td>\n",
       "      <td>2749.36</td>\n",
       "      <td>27.13</td>\n",
       "      <td>2722.23</td>\n",
       "      <td>13639.85</td>\n",
       "    </tr>\n",
       "    <tr>\n",
       "      <th>2</th>\n",
       "      <td>6</td>\n",
       "      <td>13440.21</td>\n",
       "      <td>22.62</td>\n",
       "      <td>13417.59</td>\n",
       "      <td>222.26</td>\n",
       "    </tr>\n",
       "    <tr>\n",
       "      <th>3</th>\n",
       "      <td>7</td>\n",
       "      <td>9380.50</td>\n",
       "      <td>0.37</td>\n",
       "      <td>222.26</td>\n",
       "      <td>0.00</td>\n",
       "    </tr>\n",
       "  </tbody>\n",
       "</table>\n",
       "</div>"
      ],
      "text/plain": [
       "   month  total_payment  interest_paid  principal_paid  remaining_balance\n",
       "0      4           0.00           0.00            0.00           16362.08\n",
       "1      5        2749.36          27.13         2722.23           13639.85\n",
       "2      6       13440.21          22.62        13417.59             222.26\n",
       "3      7        9380.50           0.37          222.26               0.00"
      ]
     },
     "execution_count": 40,
     "metadata": {},
     "output_type": "execute_result"
    }
   ],
   "source": [
    "extra_payments = [\n",
    "    {'num_months': 1, 'amount': 1500, 'shift_by': 0},\n",
    "    {'num_months': 3, 'amount': net_biannual_bonus, 'shift_by': months_till_next_equity},\n",
    "    {'num_months': 6, 'amount': net_quarterly_equity, 'shift_by': months_till_next_bonus},\n",
    "]\n",
    "amortization_df = amortization_schedule(df_car, car_payment, extra_payments, start_at=num_months_remaining_student)\n",
    "amortization_df"
   ]
  },
  {
   "cell_type": "code",
   "execution_count": 41,
   "id": "1f880ac8-17fd-469d-8d52-d8baa38bfcf3",
   "metadata": {},
   "outputs": [
    {
     "name": "stdout",
     "output_type": "stream",
     "text": [
      "num_months_remaining_car = 7\n"
     ]
    }
   ],
   "source": [
    "num_months_remaining_car = amortization_df['month'].iloc[-1]\n",
    "print(f'num_months_remaining_car = {num_months_remaining_car}')"
   ]
  },
  {
   "cell_type": "code",
   "execution_count": 42,
   "id": "2df36e89-ae3f-441c-be3b-12f882cd7b8b",
   "metadata": {},
   "outputs": [
    {
     "name": "stdout",
     "output_type": "stream",
     "text": [
      "num_years_remaining_car = 0\n",
      "num_leftover_months_remaining_car = 7\n"
     ]
    }
   ],
   "source": [
    "print(f'num_years_remaining_car = {num_months_remaining_car // 12}')\n",
    "print(f'num_leftover_months_remaining_car = {num_months_remaining_car % 12}')"
   ]
  },
  {
   "cell_type": "code",
   "execution_count": 43,
   "id": "c32adeb6-0af9-4c71-bbcb-1594057ec64b",
   "metadata": {},
   "outputs": [
    {
     "name": "stdout",
     "output_type": "stream",
     "text": [
      "leftover_car_payment = $9158.24\n"
     ]
    }
   ],
   "source": [
    "leftover_car_payment = amortization_df['total_payment'].iloc[-1] - amortization_df['remaining_balance'].iloc[-2]\n",
    "print(f'leftover_car_payment = ${round(leftover_car_payment, 2)}')"
   ]
  },
  {
   "cell_type": "markdown",
   "id": "b6c6f6dc-d985-4e4e-9c71-ad61c9759f7f",
   "metadata": {},
   "source": [
    "## Timeline"
   ]
  },
  {
   "cell_type": "code",
   "execution_count": 44,
   "id": "d1c70f3d-d2ee-4abf-9851-eaa20db8ee0c",
   "metadata": {},
   "outputs": [
    {
     "name": "stdout",
     "output_type": "stream",
     "text": [
      "num_months_loans = 7\n"
     ]
    }
   ],
   "source": [
    "num_months_loans = num_months_remaining_student + num_months_remaining_car - num_months_remaining_student\n",
    "print(f'num_months_loans = {num_months_loans}')"
   ]
  },
  {
   "cell_type": "code",
   "execution_count": 45,
   "id": "b662105e-a854-4360-9a82-240e1aa0858b",
   "metadata": {},
   "outputs": [
    {
     "name": "stdout",
     "output_type": "stream",
     "text": [
      "monthly_profit_no_loans = $9304.42\n"
     ]
    }
   ],
   "source": [
    "current_balance = current_savings + leftover_car_payment\n",
    "monthly_profit_no_loans = avg_effective_monthly_profit + min_student_loan_payment + car_payment + other_monthly_income\n",
    "print(f'monthly_profit_no_loans = ${round(monthly_profit_no_loans, 2)}')"
   ]
  },
  {
   "cell_type": "code",
   "execution_count": 46,
   "id": "b7bf40e3-197d-45c8-9e0e-32a11d9db85e",
   "metadata": {},
   "outputs": [
    {
     "name": "stdout",
     "output_type": "stream",
     "text": [
      "num_months_to_save = 1\n"
     ]
    }
   ],
   "source": [
    "num_months_to_save = round((savings_target - current_balance) / monthly_profit_no_loans)\n",
    "print(f'num_months_to_save = {num_months_to_save}')"
   ]
  },
  {
   "cell_type": "code",
   "execution_count": 47,
   "id": "a467fd7a-bdd2-4ffd-9e77-a43d1b3877e4",
   "metadata": {},
   "outputs": [
    {
     "name": "stdout",
     "output_type": "stream",
     "text": [
      "num_months_remaining = 8\n"
     ]
    }
   ],
   "source": [
    "num_months_remaining = num_months_loans + num_months_to_save\n",
    "print(f'num_months_remaining = {num_months_remaining}')"
   ]
  },
  {
   "cell_type": "code",
   "execution_count": 48,
   "id": "11a62f77-c03b-4fc3-a0ff-5f3b77b1cfb1",
   "metadata": {},
   "outputs": [],
   "source": [
    "# Student Loans Paid: Dec-Jan 2024\n",
    "# Car Paid: Apr-May 2025\n",
    "# Savings Met: Aug-Sep 2025\n",
    "# depends mainly on how much extra paid per month (which depends on spending)"
   ]
  },
  {
   "cell_type": "markdown",
   "id": "15d86910-18e3-451f-8f4e-a245a3fd6298",
   "metadata": {},
   "source": [
    "## Future Savings Projections"
   ]
  },
  {
   "cell_type": "code",
   "execution_count": null,
   "id": "dd426ad2-871e-4de7-8300-86355ed5eebb",
   "metadata": {},
   "outputs": [],
   "source": [
    "import pandas as pd\n",
    "import numpy as np\n",
    "import matplotlib.pyplot as plt\n",
    "\n",
    "def calculate_financials(comp, tax_rate, raise_rate, spending, inflation_rate, spy_rate, n_years):\n",
    "    df = pd.DataFrame({'year': range(1, n_years + 1)})\n",
    "    df['gross comp'] = comp * (1 + raise_rate) ** (df['year'] - 1)\n",
    "    df['net comp'] = df['gross comp'] * (1 - tax_rate)\n",
    "    df['spending'] = spending * (1 + inflation_rate) ** (df['year'] - 1)\n",
    "    df['savings'] = df['net comp'] - df['spending']\n",
    "    df['total savings raw'] = df['savings'].cumsum()\n",
    "    df.loc[0, 'total savings spy'] = df.loc[0, 'savings']\n",
    "    for i in range(1, n_years):\n",
    "        df.loc[i, 'total savings spy'] = df.loc[i - 1, 'total savings spy'] * (1 + spy_rate) + df.loc[i, 'savings']\n",
    "    df['gross comp'] = df['gross comp'].map(lambda x: f'${x:,.2f}')\n",
    "    df['net comp'] = df['net comp'].map(lambda x: f'${x:,.2f}')\n",
    "    df['spending'] = df['spending'].map(lambda x: f'${x:,.2f}')\n",
    "    df['savings'] = df['savings'].map(lambda x: f'${x:,.2f}')\n",
    "    df['total savings raw'] = df['total savings raw'].map(lambda x: f'${x:,.2f}')\n",
    "    df['total savings spy'] = df['total savings spy'].map(lambda x: f'${x:,.2f}')\n",
    "    return df\n",
    "\n",
    "df = calculate_financials(comp=288_000.00, tax_rate=0.35, raise_rate=0.05, spending=60_000.00, inflation_rate=0.02, spy_rate=0.1, n_years=20)\n",
    "df"
   ]
  },
  {
   "cell_type": "code",
   "execution_count": null,
   "id": "05b5b92f-9389-4eb6-880b-866107008a59",
   "metadata": {},
   "outputs": [],
   "source": []
  },
  {
   "cell_type": "code",
   "execution_count": null,
   "id": "b9f39f8d-87be-445d-ba7c-6864df6bf54f",
   "metadata": {},
   "outputs": [],
   "source": []
  },
  {
   "cell_type": "code",
   "execution_count": null,
   "id": "15a70277-d54d-42de-8a91-e70b7e1d3bc2",
   "metadata": {},
   "outputs": [],
   "source": []
  },
  {
   "cell_type": "code",
   "execution_count": 80,
   "id": "8e9d2c4d-85ef-41ce-b18c-3877ff8147fd",
   "metadata": {},
   "outputs": [
    {
     "data": {
      "image/png": "[encoded data removed]",
      "text/plain": [
       "<Figure size 640x480 with 1 Axes>"
      ]
     },
     "metadata": {},
     "output_type": "display_data"
    }
   ],
   "source": [
    "# import matplotlib.pyplot as plt\n",
    "# import numpy as np\n",
    "\n",
    "# L = np.pi\n",
    "# h = 2\n",
    "\n",
    "# x = np.linspace(-L, L, 1000)\n",
    "# # f = lambda x: h * np.where((-L <= x) & (x <= -L/2), 0, np.where((-L/2 < x) & (x < L/2), 1, np.where((L/2 <= x) & (x <= L), 0, np.nan)))\n",
    "# f = lambda x: h * np.where(x >= 0, 0, h)\n",
    "\n",
    "# def partial_sum(x, n):\n",
    "#     y = h / 2 * np.ones(x.shape)\n",
    "#     # y += sum([2 * h / np.pi * (-1)**n / (2*n + 1) * np.cos((2*n + 1) * np.pi * x / L) for n in range(2*n + 1)])\n",
    "#     y += sum([-2 * h / np.pi * np.sin(n * np.pi * x / L) / n for n in range(1, n+1, 2)])\n",
    "#     return y\n",
    "\n",
    "# plt.plot(x, f(x), alpha=1, linewidth=2, zorder=0, label='$f(x)$')\n",
    "# plt.plot(x, partial_sum(x, 1), alpha=0.8, linewidth=1, zorder=1, label='$S_1$')\n",
    "# plt.plot(x, partial_sum(x, 5), alpha=0.8, linewidth=1, zorder=2, label='$S_{5}$')\n",
    "# plt.plot(x, partial_sum(x, 10), alpha=0.8, linewidth=1, zorder=3, label='$S_{10}$')\n",
    "# plt.plot(x, partial_sum(x, 100), alpha=0.8, linewidth=1, zorder=4, label='$S_{100}$')\n",
    "# plt.xlabel('$x$')\n",
    "# plt.ylabel('$y$')\n",
    "# plt.xlim(-L, L)\n",
    "# plt.ylim(-0.3, h * 1.2)\n",
    "# plt.legend(loc='upper right')\n",
    "# plt.show()"
   ]
  },
  {
   "cell_type": "code",
   "execution_count": 50,
   "id": "afdeb882-83ac-455a-9513-35ca3e2c0118",
   "metadata": {},
   "outputs": [],
   "source": [
    "# import matplotlib.pyplot as plt\n",
    "# import numpy as np\n",
    "# import scipy.special as sp\n",
    "# from scipy.integrate import quad\n",
    "# import math\n",
    "\n",
    "# f = lambda x: np.where(x < 0, -1, np.where(x > 0, 1, np.nan))\n",
    "# log_a = lambda n: mpmath.log(2*n + 1) + mpmath.log(mpmath.factorial(n-2)) - mpmath.log(2) * ((n + 1) // 2) - mpmath.log(mpmath.factorial((n-1)//2)) - mpmath.log(mpmath.factorial((n+1)//2))\n",
    "\n",
    "# def legendre_coefficient(n):\n",
    "#     integrand_left = lambda x: f(x) * sp.eval_legendre(n, x)\n",
    "#     integral_left = quad(integrand_left, -1, 0, limit=100)[0]\n",
    "#     integrand_right = lambda x: f(x) * sp.eval_legendre(n, x)\n",
    "#     integral_right = quad(integrand_right, 0, 1, limit=100)[0]\n",
    "#     return (2 * n + 1) / 2 * (integral_left + integral_right)\n",
    "\n",
    "# def legendre_partial_sum(x, N):\n",
    "#     y = np.zeros(x.shape)\n",
    "#     for n in range(N + 1):\n",
    "#         if n % 2 == 1:\n",
    "#             an = legendre_coefficient(n)\n",
    "#             y += an * sp.eval_legendre(n, x)\n",
    "#     return y\n",
    "\n",
    "# x = np.linspace(-1, 1, 1000)\n",
    "\n",
    "# plt.plot(x, f(x), alpha=1, linewidth=2, zorder=0, label='$f(x)$')\n",
    "# plt.plot(x, legendre_partial_sum(x, 3), alpha=0.8, linewidth=1, zorder=2, label='$S_{3}$')\n",
    "# plt.plot(x, legendre_partial_sum(x, 5), alpha=0.8, linewidth=1, zorder=3, label='$S_{5}$')\n",
    "# plt.plot(x, legendre_partial_sum(x, 7), alpha=0.8, linewidth=1, zorder=4, label='$S_{7}$')\n",
    "# plt.plot(x, legendre_partial_sum(x, 99), alpha=0.8, linewidth=1, zorder=5, label='$S_{99}$')\n",
    "\n",
    "# plt.xlabel('$x$')\n",
    "# plt.ylabel('$y$')\n",
    "# plt.xlim(-1, 1)\n",
    "# plt.ylim(-2, 2)\n",
    "# plt.legend(loc='lower right')\n",
    "# plt.show()"
   ]
  },
  {
   "cell_type": "code",
   "execution_count": null,
   "id": "b8b5fbaf-781b-4af5-98a9-04afcfe19fe3",
   "metadata": {},
   "outputs": [],
   "source": []
  },
  {
   "cell_type": "code",
   "execution_count": 69,
   "id": "e9d7e012-ab5a-476f-843a-85fe8f646fb9",
   "metadata": {},
   "outputs": [
    {
     "data": {
      "image/png": "[encoded data removed]",
      "text/plain": [
       "<Figure size 550x450 with 1 Axes>"
      ]
     },
     "metadata": {},
     "output_type": "display_data"
    }
   ],
   "source": [
    "# import matplotlib.pyplot as plt\n",
    "# import numpy as np\n",
    "# from scipy.integrate import ode as ode\n",
    "# from matplotlib import cm\n",
    "# from itertools import product\n",
    "\n",
    "# class charge:\n",
    "#     def __init__(self, q, pos):\n",
    "#         self.q=q\n",
    "#         self.pos=pos\n",
    " \n",
    "# def E_point_charge(q, a, x, y):\n",
    "#     return q*(x-a[0])/((x-a[0])**2+(y-a[1])**2)**(1.5), \\\n",
    "#         q*(y-a[1])/((x-a[0])**2+(y-a[1])**2)**(1.5)\n",
    " \n",
    "# def E_total(x, y, charges):\n",
    "#     Ex, Ey=0, 0\n",
    "#     for C in charges:\n",
    "#         E=E_point_charge(C.q, C.pos, x, y)\n",
    "#         Ex=Ex+E[0]\n",
    "#         Ey=Ey+E[1]\n",
    "#     return [ Ex, Ey ]\n",
    "\n",
    "# def E_dir(t, y, charges):\n",
    "#     Ex, Ey=E_total(y[0], y[1], charges)\n",
    "#     n=np.sqrt(Ex**2+Ey*Ey)\n",
    "#     return [Ex/n, Ey/n]\n",
    "\n",
    "# # charges and positions\n",
    "# d = 0.01\n",
    "# # charges = [charge(-1/d, [0, -d]), charge(1/d, [0, d])]\n",
    "# charges = [charge(1/d, [d, d]), charge(-1/d, [d, -d]), charge(1/d, [-d, -d]), charge(-1/d, [-d, d])]\n",
    "# # charges = [charge(1/d, [d, d]), charge(1/d, [d, -d]), charge(1/d, [-d, -d]), charge(1/d, [-d, d]),\n",
    "# #            charge(-1/d, [0, d]), charge(-1/d, [-d, 0]), charge(-1/d, [0, -d]), charge(-1/d, [d, 0])]\n",
    "# n_lines = 2 * 2048\n",
    "\n",
    "# # calculate field lines\n",
    "# x0, x1=-3, 3\n",
    "# y0, y1=-3, 3\n",
    "# R=0.01\n",
    "# # loop over all charges\n",
    "# xs,ys = [],[]\n",
    "# for C in charges:\n",
    "#     # plot field lines starting in current charge\n",
    "#     dt=0.8*R\n",
    "#     if C.q<0:\n",
    "#         dt=-dt\n",
    "#     # loop over field lines starting in different directions \n",
    "#     # around current charge\n",
    "#     for alpha in np.linspace(0, 2*np.pi*(n_lines-1)/n_lines, n_lines):\n",
    "#         r=ode(E_dir)\n",
    "#         r.set_integrator('vode')\n",
    "#         r.set_f_params(charges)\n",
    "#         x=[ C.pos[0] + np.cos(alpha)*R ]\n",
    "#         y=[ C.pos[1] + np.sin(alpha)*R ]\n",
    "#         r.set_initial_value([x[0], y[0]], 0)\n",
    "#         while r.successful():\n",
    "#             r.integrate(r.t+dt)\n",
    "#             x.append(r.y[0])\n",
    "#             y.append(r.y[1])\n",
    "#             hit_charge=False\n",
    "#             # check if field line left drwaing area or ends in some charge\n",
    "#             for C2 in charges:\n",
    "#                 if np.sqrt((r.y[0]-C2.pos[0])**2+(r.y[1]-C2.pos[1])**2)<R:\n",
    "#                     hit_charge=True\n",
    "#             if hit_charge or (not (x0<r.y[0] and r.y[0]<x1)) or \\\n",
    "#                     (not (y0<r.y[1] and r.y[1]<y1)):\n",
    "#                 break\n",
    "#         xs.append(x)\n",
    "#         ys.append(y)\n",
    "\n",
    "# plt.figure(figsize=(5.5, 4.5),facecolor=\"w\")\n",
    "\n",
    "# # plot field line\n",
    "# for x, y in zip(xs,ys):\n",
    "#     plt.plot(x, y, color=\"k\", linewidth=0.5, alpha=0.8)\n",
    "\n",
    "# # plot point charges\n",
    "# for C in charges:\n",
    "#     if C.q>0:\n",
    "#         plt.plot(C.pos[0], C.pos[1], 'ro', ms=5)#*np.sqrt(C.q))\n",
    "#     if C.q<0:\n",
    "#         plt.plot(C.pos[0], C.pos[1], 'bo', ms=0.05)#*np.sqrt(-C.q))\n",
    "\n",
    "# plt.xlim(x0, x1)\n",
    "# plt.ylim(y0, y1)\n",
    "# plt.axis('off')\n",
    "# plt.show()\n",
    "\n",
    "# calculate and plot the electric potential\n",
    "\n",
    "# def V_point_charge(q, a, x, y):\n",
    "#     return q/((x-a[0])**2+(y-a[1])**2)**(0.5)\n",
    "\n",
    "# def V_total(x, y, charges):\n",
    "#     V=0\n",
    "#     for C in charges:\n",
    "#         Vp=V_point_charge(C.q, C.pos, x, y)\n",
    "#         V = V+Vp\n",
    "#     return V\n",
    "\n",
    "# vvs = []\n",
    "# xxs = []\n",
    "# yys = []\n",
    "# numcalcv = 300\n",
    "# for xx,yy in product(np.linspace(x0,x1,numcalcv),np.linspace(y0,y1,numcalcv)):\n",
    "#     xxs.append(xx)\n",
    "#     yys.append(yy)\n",
    "#     vvs.append(V_total(xx,yy,charges))\n",
    "# xxs = np.array(xxs)\n",
    "# yys = np.array(yys)\n",
    "# vvs = np.array(vvs)\n",
    "\n",
    "# clim0,clim1 = -2,2\n",
    "# vvs[np.where(vvs<clim0)] = clim0*0.999999 # to avoid error\n",
    "# vvs[np.where(vvs>clim1)] = clim1*0.999999 # to avoid error\n",
    "# plt.tricontour(xxs,yys,vvs,10,colors=\"0.3\")\n",
    "# plt.tricontourf(xxs,yys,vvs,100,cmap=cm.jet)\n",
    "# cbar = plt.colorbar()\n",
    "# cbar.set_clim(clim0,clim1)\n",
    "# cbar.set_ticks([-2,-1.5,-1,-0.5,0,0.5,1,1.5,2])\n",
    "# cbar.set_label(\"Electric Potential\")\n",
    "# plt.xlabel('$x$')\n",
    "# plt.ylabel('$y$')\n",
    "# plt.xlim(x0, x1)\n",
    "# plt.ylim(y0, y1)\n",
    "# plt.axes().set_aspect('equal','datalim')\n",
    "# plt.savefig('electric_force_lines_1.png',dpi=250,bbox_inches=\"tight\",pad_inches=0.02)\n",
    "# plt.show()"
   ]
  },
  {
   "cell_type": "code",
   "execution_count": null,
   "id": "6bf51dd5-8fac-45d1-83eb-c3ad362bb157",
   "metadata": {},
   "outputs": [],
   "source": []
  }
 ],
 "metadata": {
  "kernelspec": {
   "display_name": "Python 3 (ipykernel)",
   "language": "python",
   "name": "python3"
  },
  "language_info": {
   "codemirror_mode": {
    "name": "ipython",
    "version": 3
   },
   "file_extension": ".py",
   "mimetype": "text/x-python",
   "name": "python",
   "nbconvert_exporter": "python",
   "pygments_lexer": "ipython3",
   "version": "3.12.2"
  }
 },
 "nbformat": 4,
 "nbformat_minor": 5
}
