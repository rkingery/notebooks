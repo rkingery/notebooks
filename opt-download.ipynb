{
 "cells": [
  {
   "cell_type": "code",
   "execution_count": 3,
   "id": "7f40b3aa",
   "metadata": {},
   "outputs": [],
   "source": [
    "from pathlib import Path\n",
    "import pandas as pd\n",
    "from tqdm.notebook import tqdm"
   ]
  },
  {
   "cell_type": "code",
   "execution_count": 14,
   "id": "f07c2d4d",
   "metadata": {},
   "outputs": [],
   "source": [
    "csv_path = Path().home() / 'Desktop' / 'shards.csv'\n",
    "save_path = Path().home() / 'Desktop' / 'tmp'\n",
    "gdrive_link = 'https://drive.google.com/drive/folders/1uWQyIMciknDglSLyvu8WOPRUPvRFnrIC?usp=sharing'\n",
    "\n",
    "if not save_path.exists():\n",
    "    save_path.mkdir()"
   ]
  },
  {
   "cell_type": "code",
   "execution_count": 11,
   "id": "0d8a13fb",
   "metadata": {},
   "outputs": [],
   "source": [
    "%%bash\n",
    "\n",
    "echo \"filename,path\" >> ~/Desktop/shards.csv\n",
    "presigned_url=\n",
    "str_to_replace='stubbed.pt'\n",
    "for part_id in $(seq 0 7)\n",
    "do\n",
    "  for shard_id in $(seq 0 123)\n",
    "  do\n",
    "    filename=\"checkpoint_last-model_part-$part_id-shard$shard_id.pt\"\n",
    "    echo \"$filename,${presigned_url/$str_to_replace/$filename}\" >> ~/Desktop/shards.csv\n",
    "  done\n",
    "done"
   ]
  },
  {
   "cell_type": "code",
   "execution_count": 12,
   "id": "f4063cf8",
   "metadata": {},
   "outputs": [
    {
     "data": {
      "text/html": [
       "<div>\n",
       "<style scoped>\n",
       "    .dataframe tbody tr th:only-of-type {\n",
       "        vertical-align: middle;\n",
       "    }\n",
       "\n",
       "    .dataframe tbody tr th {\n",
       "        vertical-align: top;\n",
       "    }\n",
       "\n",
       "    .dataframe thead th {\n",
       "        text-align: right;\n",
       "    }\n",
       "</style>\n",
       "<table border=\"1\" class=\"dataframe\">\n",
       "  <thead>\n",
       "    <tr style=\"text-align: right;\">\n",
       "      <th></th>\n",
       "      <th>filename</th>\n",
       "      <th>path</th>\n",
       "    </tr>\n",
       "  </thead>\n",
       "  <tbody>\n",
       "    <tr>\n",
       "      <th>0</th>\n",
       "      <td>checkpoint_last-model_part-0-shard0.pt</td>\n",
       "      <td>https://d3q5sbpjbmb5k9.cloudfront.net/175b/che...</td>\n",
       "    </tr>\n",
       "    <tr>\n",
       "      <th>1</th>\n",
       "      <td>checkpoint_last-model_part-0-shard1.pt</td>\n",
       "      <td>https://d3q5sbpjbmb5k9.cloudfront.net/175b/che...</td>\n",
       "    </tr>\n",
       "    <tr>\n",
       "      <th>2</th>\n",
       "      <td>checkpoint_last-model_part-0-shard2.pt</td>\n",
       "      <td>https://d3q5sbpjbmb5k9.cloudfront.net/175b/che...</td>\n",
       "    </tr>\n",
       "    <tr>\n",
       "      <th>3</th>\n",
       "      <td>checkpoint_last-model_part-0-shard3.pt</td>\n",
       "      <td>https://d3q5sbpjbmb5k9.cloudfront.net/175b/che...</td>\n",
       "    </tr>\n",
       "    <tr>\n",
       "      <th>4</th>\n",
       "      <td>checkpoint_last-model_part-0-shard4.pt</td>\n",
       "      <td>https://d3q5sbpjbmb5k9.cloudfront.net/175b/che...</td>\n",
       "    </tr>\n",
       "  </tbody>\n",
       "</table>\n",
       "</div>"
      ],
      "text/plain": [
       "                                 filename  \\\n",
       "0  checkpoint_last-model_part-0-shard0.pt   \n",
       "1  checkpoint_last-model_part-0-shard1.pt   \n",
       "2  checkpoint_last-model_part-0-shard2.pt   \n",
       "3  checkpoint_last-model_part-0-shard3.pt   \n",
       "4  checkpoint_last-model_part-0-shard4.pt   \n",
       "\n",
       "                                                path  \n",
       "0  https://d3q5sbpjbmb5k9.cloudfront.net/175b/che...  \n",
       "1  https://d3q5sbpjbmb5k9.cloudfront.net/175b/che...  \n",
       "2  https://d3q5sbpjbmb5k9.cloudfront.net/175b/che...  \n",
       "3  https://d3q5sbpjbmb5k9.cloudfront.net/175b/che...  \n",
       "4  https://d3q5sbpjbmb5k9.cloudfront.net/175b/che...  "
      ]
     },
     "execution_count": 12,
     "metadata": {},
     "output_type": "execute_result"
    }
   ],
   "source": [
    "df = pd.read_csv(str(csv_path))\n",
    "df.head()"
   ]
  },
  {
   "cell_type": "code",
   "execution_count": null,
   "id": "88b22967",
   "metadata": {},
   "outputs": [
    {
     "data": {
      "application/vnd.jupyter.widget-view+json": {
       "model_id": "4682071270ba49cbb83444d8fa5e1020",
       "version_major": 2,
       "version_minor": 0
      },
      "text/plain": [
       "  0%|          | 0/992 [00:00<?, ?it/s]"
      ]
     },
     "metadata": {},
     "output_type": "display_data"
    },
    {
     "name": "stdout",
     "output_type": "stream",
     "text": [
      "Failed to get file: googleapi: Error 404: File not found: https://drive.google.com/drive/folders/1uWQyIMciknDglSLyvu8WOPRUPvRFnrIC?usp=sharing., notFound\n",
      "^C\n",
      "^C\n",
      "^C\n",
      "^C\n"
     ]
    }
   ],
   "source": [
    "for _, row in tqdm(list(df.iterrows())):\n",
    "    ! wget -q -O {str(save_path / row.filename)} \"{row.path}\"\n",
    "    ! gdrive upload --delete --no-progress --parent \"{gdrive_link}\" {str(save_path / row.filename)}\n",
    "    # ! rm {str(save_path / row.filename)}"
   ]
  },
  {
   "cell_type": "code",
   "execution_count": null,
   "id": "3b4272a9",
   "metadata": {},
   "outputs": [],
   "source": []
  }
 ],
 "metadata": {
  "kernelspec": {
   "display_name": "Python 3 (ipykernel)",
   "language": "python",
   "name": "python3"
  },
  "language_info": {
   "codemirror_mode": {
    "name": "ipython",
    "version": 3
   },
   "file_extension": ".py",
   "mimetype": "text/x-python",
   "name": "python",
   "nbconvert_exporter": "python",
   "pygments_lexer": "ipython3",
   "version": "3.10.4"
  },
  "toc": {
   "base_numbering": 1,
   "nav_menu": {},
   "number_sections": true,
   "sideBar": true,
   "skip_h1_title": false,
   "title_cell": "Table of Contents",
   "title_sidebar": "Contents",
   "toc_cell": false,
   "toc_position": {},
   "toc_section_display": true,
   "toc_window_display": false
  },
  "varInspector": {
   "cols": {
    "lenName": 16,
    "lenType": 16,
    "lenVar": 40
   },
   "kernels_config": {
    "python": {
     "delete_cmd_postfix": "",
     "delete_cmd_prefix": "del ",
     "library": "var_list.py",
     "varRefreshCmd": "print(var_dic_list())"
    },
    "r": {
     "delete_cmd_postfix": ") ",
     "delete_cmd_prefix": "rm(",
     "library": "var_list.r",
     "varRefreshCmd": "cat(var_dic_list()) "
    }
   },
   "types_to_exclude": [
    "module",
    "function",
    "builtin_function_or_method",
    "instance",
    "_Feature"
   ],
   "window_display": false
  }
 },
 "nbformat": 4,
 "nbformat_minor": 5
}
