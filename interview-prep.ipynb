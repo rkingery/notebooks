{
 "cells": [
  {
   "cell_type": "markdown",
   "id": "28aa0f71",
   "metadata": {},
   "source": [
    "# Interview Prep: Data Structures and Algorithms"
   ]
  },
  {
   "cell_type": "code",
   "execution_count": 82,
   "id": "e0c0bfca",
   "metadata": {},
   "outputs": [],
   "source": [
    "import math\n",
    "import random\n",
    "import time\n",
    "from tqdm.notebook import tqdm\n",
    "import heapq\n",
    "from collections import Counter, deque\n",
    "from bisect import bisect_left\n",
    "import matplotlib.pyplot as plt\n",
    "from copy import deepcopy\n",
    "\n",
    "random.seed(123)"
   ]
  },
  {
   "cell_type": "markdown",
   "id": "df89a4b2",
   "metadata": {},
   "source": [
    "## Binary Search\n",
    "\n",
    "- Naively searching an array for a value in a for loop runs in $O(n)$ time. This is linear search.\n",
    "- The python `value in array` version of search runs in linear time.\n",
    "- Binary search can find the value in a *sorted* array in $O(\\log n)$ time.\n",
    "- Can use the standard library `bisect.bisect_left` function to do vanilla binary search in python.\n",
    "- Many problems can be reduced to a form of binary search.\n",
    "    - Suppose you have a sorted array and a target, and that you can map a problem to a mask condition mask(array, target). Then the problem of finding the *boundary* of the mask is equivalent to binary search.\n",
    "    - For these problems, it may be easier filling in the mask template first, and then filling in what the mask is."
   ]
  },
  {
   "cell_type": "code",
   "execution_count": 2,
   "id": "90e07066",
   "metadata": {},
   "outputs": [],
   "source": [
    "def linear_search(array, value):\n",
    "    for i in range(len(array)):\n",
    "        if value == array[i]:\n",
    "            return i\n",
    "    return -1\n",
    "\n",
    "def binary_search(array, value):\n",
    "    \"\"\"return idx of value in array, else -1\"\"\"\n",
    "    first, last = 0, len(array) - 1\n",
    "    idx = -1\n",
    "    while first <= last:\n",
    "        mid = (first + last) // 2\n",
    "        if value <= array[mid]:\n",
    "            idx = mid\n",
    "            last = mid - 1\n",
    "        if value > array[mid]:\n",
    "            first = mid + 1\n",
    "    return idx\n",
    "\n",
    "def binary_search_mask(mask):\n",
    "    \"\"\"returns idx of mask boundary, else -1\n",
    "    example: mask=[False, False, True, True] -> idx=2\n",
    "    this template can be used to solve many problems given a mask\"\"\"\n",
    "    first = 0\n",
    "    last = len(mask) - 1\n",
    "    idx = -1\n",
    "    while first <= last:\n",
    "        mid = (first + last) // 2\n",
    "        if mask[mid]:\n",
    "            idx = mid\n",
    "            last = mid - 1\n",
    "        else:\n",
    "            first = mid + 1\n",
    "    return idx"
   ]
  },
  {
   "cell_type": "code",
   "execution_count": 3,
   "id": "6074d848",
   "metadata": {},
   "outputs": [],
   "source": [
    "array = list(range(5, 100_000))\n",
    "value = 50_000"
   ]
  },
  {
   "cell_type": "code",
   "execution_count": 4,
   "id": "5dd94870",
   "metadata": {},
   "outputs": [
    {
     "name": "stdout",
     "output_type": "stream",
     "text": [
      "1.34 ms ± 10.2 µs per loop (mean ± std. dev. of 7 runs, 1,000 loops each)\n"
     ]
    }
   ],
   "source": [
    "%timeit linear_search(array, value)"
   ]
  },
  {
   "cell_type": "code",
   "execution_count": 5,
   "id": "b737420f",
   "metadata": {},
   "outputs": [
    {
     "name": "stdout",
     "output_type": "stream",
     "text": [
      "1.71 µs ± 13.7 ns per loop (mean ± std. dev. of 7 runs, 1,000,000 loops each)\n"
     ]
    }
   ],
   "source": [
    "%timeit binary_search(array, value)"
   ]
  },
  {
   "cell_type": "code",
   "execution_count": 6,
   "id": "fa0150b6",
   "metadata": {},
   "outputs": [
    {
     "name": "stdout",
     "output_type": "stream",
     "text": [
      "277 µs ± 1.36 µs per loop (mean ± std. dev. of 7 runs, 1,000 loops each)\n"
     ]
    }
   ],
   "source": [
    "%timeit (value in array)"
   ]
  },
  {
   "cell_type": "code",
   "execution_count": 7,
   "id": "70471a44",
   "metadata": {},
   "outputs": [
    {
     "name": "stdout",
     "output_type": "stream",
     "text": [
      "221 ns ± 1.27 ns per loop (mean ± std. dev. of 7 runs, 1,000,000 loops each)\n"
     ]
    }
   ],
   "source": [
    "%timeit bisect_left(array, value)"
   ]
  },
  {
   "cell_type": "markdown",
   "id": "b06c40db",
   "metadata": {},
   "source": [
    "## Sorting\n",
    "\n",
    "- Naive sorting algorithms generally run in worst case $O(n^2)$ time.\n",
    "- The best proven possible worst case running time for arrays of *arbitrary objects* is $O(n\\log n)$.\n",
    "- A sorting algorithm is **in-place** if the sort is done inside the same array, without copying to a new array.\n",
    "- A sorting algorithm is **stable** if it preserves the order of objects of the same sorting rank.\n",
    "- In Python:\n",
    "    - In-place sorting can be done with `array.sort`.\n",
    "    - To copy a sort to a *new* array, use `sorted(array)`. This will be slower than in-place.\n",
    "- Python's default sorting uses a variation of quick sort for mostly unsorted arrays, and insertion sort for mostly sorted arrays.\n",
    "- Probably the 3 most important sorting algorithms to know about are:\n",
    "    - **Merge sort:** Uses a divide and conquer strategy to sort. Worst case is $O(n\\log n)$ time. Memory inefficient.\n",
    "    - **Quick sort:** Uses a random pivot to split and sort recursively. Worst case is $O(n^2)$ time, but the *average* case is $O(n\\log n)$ time. More memory efficient and practical, unless array is almost sorted.\n",
    "    - **Insertion sort:** Moving from left to right in array, iteratively takes the next value and inserts it to its sorted spot in the left, sorted piece. Worst case is $O(n^2)$ time, but is $O(1)$ time for almost sorted arrays."
   ]
  },
  {
   "cell_type": "code",
   "execution_count": 90,
   "id": "5f8f6edd",
   "metadata": {},
   "outputs": [],
   "source": [
    "def merge_sort(array):\n",
    "    def merge(left, right):\n",
    "        i = j = 0\n",
    "        array = []\n",
    "        while i + j < len(left) + len(right):\n",
    "            if j == len(right) or (i < len(left) and left[i] < right[j]):\n",
    "                array.append(left[i])\n",
    "                i += 1\n",
    "            else:\n",
    "                array.append(right[j])\n",
    "                j += 1\n",
    "        return array\n",
    "    \n",
    "    # base case: don't sort if not needed\n",
    "    if len(array) <= 1:\n",
    "        return array\n",
    "    # recursion: split array in half recursively\n",
    "    mid = len(array) // 2\n",
    "    left = merge_sort(array[:mid])\n",
    "    right = merge_sort(array[mid:])\n",
    "    # merge sorted results back together\n",
    "    merged = merge(left, right)\n",
    "    return merged\n",
    "\n",
    "def quick_sort(array):\n",
    "    # base case: don't sort if not needed\n",
    "    if len(array) <= 1:\n",
    "        return array\n",
    "    # recursion: split into subarrays based on random pivot and recurse\n",
    "    pivot = random.choice(array)\n",
    "    left, equal, right = [], [], []\n",
    "    for value in array:\n",
    "        if value < pivot:\n",
    "            left.append(value)\n",
    "        elif value == pivot:\n",
    "            equal.append(value)\n",
    "        elif value > pivot:\n",
    "            right.append(value)\n",
    "    left = quick_sort(left)\n",
    "    right = quick_sort(right)\n",
    "    # merge sorted results back together\n",
    "    merged = left + equal + right\n",
    "    return merged\n",
    "\n",
    "def insertion_sort(array):\n",
    "    # iterate through array left to right\n",
    "    for i in range(len(array)):\n",
    "        j = i\n",
    "        # bubble array[i] down to its sorted place in array[:i+1]\n",
    "        while j > 0 and array[j] < array[j-1]:\n",
    "            # swap current and previous elements if out of order\n",
    "            array[j], array[j-1] = array[j-1], array[j]\n",
    "            j -= 1\n",
    "    return array"
   ]
  },
  {
   "cell_type": "code",
   "execution_count": 100,
   "id": "8fa0591a",
   "metadata": {},
   "outputs": [],
   "source": [
    "array = list(range(10_000))\n",
    "random.shuffle(array)"
   ]
  },
  {
   "cell_type": "code",
   "execution_count": 101,
   "id": "4bfc5609",
   "metadata": {},
   "outputs": [
    {
     "name": "stdout",
     "output_type": "stream",
     "text": [
      "775 µs ± 2.56 µs per loop (mean ± std. dev. of 7 runs, 1,000 loops each)\n"
     ]
    }
   ],
   "source": [
    "%timeit sorted(array)"
   ]
  },
  {
   "cell_type": "code",
   "execution_count": 102,
   "id": "3b67c0a1",
   "metadata": {},
   "outputs": [],
   "source": [
    "random.shuffle(array)"
   ]
  },
  {
   "cell_type": "code",
   "execution_count": 103,
   "id": "5cc8e7a3",
   "metadata": {},
   "outputs": [
    {
     "name": "stdout",
     "output_type": "stream",
     "text": [
      "24.9 µs ± 23.3 ns per loop (mean ± std. dev. of 7 runs, 10,000 loops each)\n"
     ]
    }
   ],
   "source": [
    "%timeit array.sort()"
   ]
  },
  {
   "cell_type": "code",
   "execution_count": 104,
   "id": "164b654a",
   "metadata": {},
   "outputs": [],
   "source": [
    "random.shuffle(array)"
   ]
  },
  {
   "cell_type": "code",
   "execution_count": 105,
   "id": "4dd04f3e",
   "metadata": {},
   "outputs": [
    {
     "name": "stdout",
     "output_type": "stream",
     "text": [
      "66.7 ms ± 531 µs per loop (mean ± std. dev. of 7 runs, 10 loops each)\n"
     ]
    }
   ],
   "source": [
    "%timeit merge_sort(array)"
   ]
  },
  {
   "cell_type": "code",
   "execution_count": 106,
   "id": "12f6db4d",
   "metadata": {},
   "outputs": [],
   "source": [
    "random.shuffle(array)"
   ]
  },
  {
   "cell_type": "code",
   "execution_count": 107,
   "id": "e48bab04",
   "metadata": {},
   "outputs": [
    {
     "name": "stdout",
     "output_type": "stream",
     "text": [
      "51.9 ms ± 311 µs per loop (mean ± std. dev. of 7 runs, 10 loops each)\n"
     ]
    }
   ],
   "source": [
    "%timeit quick_sort(array)"
   ]
  },
  {
   "cell_type": "code",
   "execution_count": 108,
   "id": "03a176c1",
   "metadata": {},
   "outputs": [],
   "source": [
    "random.shuffle(array)"
   ]
  },
  {
   "cell_type": "code",
   "execution_count": 109,
   "id": "fa45e68a",
   "metadata": {},
   "outputs": [
    {
     "name": "stdout",
     "output_type": "stream",
     "text": [
      "3.1 s ± 16.4 ms per loop (mean ± std. dev. of 7 runs, 1 loop each)\n"
     ]
    }
   ],
   "source": [
    "%timeit insertion_sort(array)"
   ]
  },
  {
   "cell_type": "markdown",
   "id": "41fb7e16",
   "metadata": {},
   "source": [
    "## Recursion\n",
    "\n",
    "- The process of a function calling itself until terminating according to some base case.\n",
    "- The programming analogue of proof by induction. You need *both* a base case and a recursive relation.\n",
    "- In memory, recursion is stored using a **stack frame**. Each element in the stack is a particular recursive call.\n",
    "- Failing to have a proper base case the recursion is guaranteed to hit will result in a **stack overflow**, where the program runs out of memory.\n",
    "- Can often visualize recursion with a tree.\n",
    "    - Example: \n",
    "    ```\n",
    "    factorial(5) - factorial(4) - factorial(3) - factorial(2) - factorial(1)\n",
    "    ```\n",
    "    - Example:\n",
    "    ```\n",
    "    fibonacci(3) - fibonacci(2) - fibonacci(1)\n",
    "                   |              - fibonacci(0)\n",
    "                   - fibonacci(1)\n",
    "    ```\n",
    "- Not always a good idea to use *in practice* in Python because of the lack of tail-call optimization, but it *is* useful for having a simpler implementation of some types of interview questions.\n",
    "- Any recursive algorithm can be unrolled into an iterative algorithm, and vice versa."
   ]
  },
  {
   "cell_type": "code",
   "execution_count": 4,
   "id": "89a13951",
   "metadata": {},
   "outputs": [],
   "source": [
    "def factorial(n):\n",
    "    # O(n) time without memoization\n",
    "    if n == 0 or n == 1:\n",
    "        return 1\n",
    "    else:\n",
    "        return n * factorial(n - 1)\n",
    "    \n",
    "def fibonacci(n):\n",
    "    # O(n!) time without memoization\n",
    "    if n == 0:\n",
    "        return 0\n",
    "    if n == 1:\n",
    "        return 1\n",
    "    else:\n",
    "        return fibonacci(n - 1) + fibonacci(n - 2)"
   ]
  },
  {
   "cell_type": "code",
   "execution_count": 5,
   "id": "d15f0abd",
   "metadata": {},
   "outputs": [
    {
     "data": {
      "text/plain": [
       "55"
      ]
     },
     "execution_count": 5,
     "metadata": {},
     "output_type": "execute_result"
    }
   ],
   "source": [
    "fibonacci(10)"
   ]
  },
  {
   "cell_type": "markdown",
   "id": "ce012a60",
   "metadata": {},
   "source": [
    "## Trees\n",
    "\n",
    "- A **tree** is a data structure of **nodes** connected by **edges**, where there is exactly one incoming edge from a **parent node**, and one or more outgoing edges to **child nodes**. The node with no parent is called the **root**. Nodes with no children are called the **leaves**. The number of levels in the tree is called its **depth**. Any nodes above a given node is called its **ancestors**, and any nodes below it are its **descendents**.\n",
    "<img src=https://algomonster.s3.us-east-2.amazonaws.com/tree_intro/tree_intro.001.png width=500>\n",
    "- The nodes generally are values of some kind, and the edges are pointers connecting those values.\n",
    "- A tree cannot have cycles or loops, and must have one unique root.\n",
    "- A **binary tree** is a tree in which each node has no more than 2 children. An **n-ary tree** is a tree in which each node has no more than $n$ children.\n",
    "- A binary tree is **balanced** if the height difference of the left and right subtree of any given node in the tree is never more than one.\n",
    "- A **binary search tree** or **BST** is a binary tree satisfying the property that for any node, any left descendants are always less in value than any right descendants.\n",
    "- Searching, insertion, and deletion in a *balanced* BST take $O(\\log n)$ time, and $O(n)$ time if the BST is *unbalanced*."
   ]
  },
  {
   "cell_type": "code",
   "execution_count": 111,
   "id": "6c61aa02",
   "metadata": {},
   "outputs": [],
   "source": [
    "class BinaryTreeNode:\n",
    "    def __init__(self, value, left=None, right=None):\n",
    "        self.value = value\n",
    "        self.left = left\n",
    "        self.right = right\n",
    "        \n",
    "    def __repr__(self):\n",
    "        return f'BinaryTreeNode({self.value}, left={self.left}, right={self.right})'\n",
    "    \n",
    "    def print_tree(self, level=0):\n",
    "        indent = '   '\n",
    "        if self is not None:\n",
    "            current_level = level\n",
    "            if self.left is not None:\n",
    "                self.left.print_tree(current_level + 1)\n",
    "            print(f'{indent * current_level} {self.value}')\n",
    "            if self.right is not None:\n",
    "                self.right.print_tree(current_level + 1)\n",
    "        \n",
    "class NaryTreeNode:\n",
    "    def __init__(self, value, children=[]):\n",
    "        self.value = value\n",
    "        self.children = children\n",
    "        \n",
    "    def __repr__(self):\n",
    "        return f'NaryTreeNode({self.value}, children={[node for node in self.children]})'\n",
    "    \n",
    "    def print_tree(self, level=0):\n",
    "        indent = '   '\n",
    "        if self is not None:\n",
    "            current_level = level\n",
    "            print(f'{indent * current_level} {self.value}')\n",
    "            for child in self.children:\n",
    "                child.print_tree(current_level + 1)"
   ]
  },
  {
   "cell_type": "code",
   "execution_count": 112,
   "id": "c83aa505",
   "metadata": {},
   "outputs": [
    {
     "data": {
      "text/plain": [
       "BinaryTreeNode(1, left=BinaryTreeNode(2, left=BinaryTreeNode(4, left=None, right=None), right=None), right=BinaryTreeNode(3, left=None, right=None))"
      ]
     },
     "execution_count": 112,
     "metadata": {},
     "output_type": "execute_result"
    }
   ],
   "source": [
    "root = BinaryTreeNode(1, left=BinaryTreeNode(2, left=BinaryTreeNode(4)), right=BinaryTreeNode(3))\n",
    "root"
   ]
  },
  {
   "cell_type": "code",
   "execution_count": 113,
   "id": "0e0adcc0",
   "metadata": {},
   "outputs": [
    {
     "name": "stdout",
     "output_type": "stream",
     "text": [
      "       4\n",
      "    2\n",
      " 1\n",
      "    3\n"
     ]
    }
   ],
   "source": [
    "root.print_tree()"
   ]
  },
  {
   "cell_type": "code",
   "execution_count": 114,
   "id": "d34c648d",
   "metadata": {},
   "outputs": [
    {
     "data": {
      "text/plain": [
       "NaryTreeNode(1, children=[NaryTreeNode(2, children=[NaryTreeNode(4, children=[])]), NaryTreeNode(3, children=[])])"
      ]
     },
     "execution_count": 114,
     "metadata": {},
     "output_type": "execute_result"
    }
   ],
   "source": [
    "root = NaryTreeNode(1, children=[NaryTreeNode(2, children=[NaryTreeNode(4)]), NaryTreeNode(3)])\n",
    "root"
   ]
  },
  {
   "cell_type": "code",
   "execution_count": 115,
   "id": "f16c46b3",
   "metadata": {},
   "outputs": [
    {
     "name": "stdout",
     "output_type": "stream",
     "text": [
      " 1\n",
      "    2\n",
      "       4\n",
      "    3\n"
     ]
    }
   ],
   "source": [
    "root.print_tree()"
   ]
  },
  {
   "cell_type": "markdown",
   "id": "f874477a",
   "metadata": {},
   "source": [
    "### Tree Traversals\n",
    "\n",
    "- There are 3 common ways to traverse the nodes in a binary tree: pre-order, in-order, and post-order traversal.\n",
    "- **Pre-order traversal** visits the current node first, then the left subtree, and finally the right subtree.\n",
    "- **In-order traversal** visits the left branch first, then the current node, and finally the right branch.\n",
    "- **Post-order traversal** visits the left subtree first, then the right subtree, and finally the current node.\n",
    "- Traversals can be used to search trees, as well as build them from a list of nodes.\n",
    "- Since every subtree of a given node gets traversed, all traversals run in $O(n)$ time."
   ]
  },
  {
   "cell_type": "code",
   "execution_count": 116,
   "id": "5bc2e4a4",
   "metadata": {},
   "outputs": [],
   "source": [
    "def tree_traversal(node, order='in-order'):\n",
    "    \"\"\"return a list of the values in a tree in traversed order\"\"\"\n",
    "    def in_order_traversal(node):\n",
    "        if node is not None:\n",
    "            in_order_traversal(node.left)\n",
    "            values.append(node.value)\n",
    "            in_order_traversal(node.right)\n",
    "    def pre_order_traversal(node):\n",
    "        if node is not None:\n",
    "            values.append(node.value)\n",
    "            pre_order_traversal(node.left)\n",
    "            pre_order_traversal(node.right)\n",
    "    def post_order_traversal(node):\n",
    "        if node is not None:\n",
    "            post_order_traversal(node.left)\n",
    "            post_order_traversal(node.right)\n",
    "            values.append(node.value)   \n",
    "    values = []\n",
    "    if order == 'in-order':\n",
    "        in_order_traversal(node)\n",
    "    elif order == 'pre-order':\n",
    "        pre_order_traversal(node)\n",
    "    elif order == 'post-order':\n",
    "        post_order_traversal(node)\n",
    "    return values"
   ]
  },
  {
   "cell_type": "code",
   "execution_count": 117,
   "id": "0899589a",
   "metadata": {},
   "outputs": [],
   "source": [
    "root = BinaryTreeNode(1, \n",
    "    left=BinaryTreeNode(2, left=BinaryTreeNode(4), right=BinaryTreeNode(5)), \n",
    "    right=BinaryTreeNode(3, left=BinaryTreeNode(6), right=BinaryTreeNode(7))\n",
    ")"
   ]
  },
  {
   "cell_type": "code",
   "execution_count": 118,
   "id": "4e6a3e75",
   "metadata": {},
   "outputs": [
    {
     "data": {
      "text/plain": [
       "[4, 2, 5, 1, 6, 3, 7]"
      ]
     },
     "execution_count": 118,
     "metadata": {},
     "output_type": "execute_result"
    }
   ],
   "source": [
    "tree_traversal(root, order='in-order')"
   ]
  },
  {
   "cell_type": "code",
   "execution_count": 119,
   "id": "d77557f4",
   "metadata": {},
   "outputs": [
    {
     "data": {
      "text/plain": [
       "[1, 2, 4, 5, 3, 6, 7]"
      ]
     },
     "execution_count": 119,
     "metadata": {},
     "output_type": "execute_result"
    }
   ],
   "source": [
    "tree_traversal(root, order='pre-order')"
   ]
  },
  {
   "cell_type": "code",
   "execution_count": 120,
   "id": "59c1d6bd",
   "metadata": {},
   "outputs": [
    {
     "data": {
      "text/plain": [
       "[4, 5, 2, 6, 7, 3, 1]"
      ]
     },
     "execution_count": 120,
     "metadata": {},
     "output_type": "execute_result"
    }
   ],
   "source": [
    "tree_traversal(root, order='post-order')"
   ]
  },
  {
   "cell_type": "markdown",
   "id": "6f406628",
   "metadata": {},
   "source": [
    "### Depth First Search\n",
    "\n",
    "- **Depth first search** or **DFS** uses a *pre-order traversal* to search the tree in a depth first fashion from left to right.\n",
    "- It's usually easiest to code DFS up using left to right recursion on the subtrees of the root. This is a *divide and conquer* approach, since it recursively divides a node into its subtrees until it hits the leaves or finds the target.\n",
    "- DFS is one of the most important algorithms to know by heart for coding interviews since it comes up a lot, often disguised as **backtracking**, which is basically the same thing. Tree search comes up in these types of problems:\n",
    "    - Any tree traversal problem (finding a node, detect balanced BST, max subtree).\n",
    "    - Combinatorial problems (how many ways to, find all possible combinations, find all solutions to).\n",
    "    - Searching graphs with no cycles (path between 2 nodes, cycle detection, find connected components).\n",
    "- Keys to tree problems: \n",
    "    - Think from the perspective of a node. All you can do is look at your value and your children. Figure out how to recurse on that information.\n",
    "    - What do we want to return after visiting a node? Use the return value to pass information from children to parent.\n",
    "    - What states (i.e. function arguments) do we need to maintain to compute the return value for the current node. Use states to pass information from parent to children.\n",
    "    - There are two ways to keep track of global information in a tree: return values, and global variables. Return values are usually easier for simpler problems, and global variables for more complex problems."
   ]
  },
  {
   "cell_type": "code",
   "execution_count": 121,
   "id": "133ad4c8",
   "metadata": {},
   "outputs": [],
   "source": [
    "def dfs(root, target):\n",
    "    if root is None:\n",
    "        return None\n",
    "    if root.value == target:\n",
    "        return root\n",
    "    return dfs(root.left, target) or dfs(root.right, target)"
   ]
  },
  {
   "cell_type": "code",
   "execution_count": 150,
   "id": "4ff17f34",
   "metadata": {},
   "outputs": [],
   "source": [
    "root = BinaryTreeNode(1, \n",
    "    left=BinaryTreeNode(2, left=BinaryTreeNode(4), right=BinaryTreeNode(5)), \n",
    "    right=BinaryTreeNode(3, left=BinaryTreeNode(6), right=BinaryTreeNode(7))\n",
    ")"
   ]
  },
  {
   "cell_type": "code",
   "execution_count": 151,
   "id": "817e7de0",
   "metadata": {},
   "outputs": [
    {
     "name": "stdout",
     "output_type": "stream",
     "text": [
      "       4\n",
      "    2\n",
      "       5\n",
      " 1\n",
      "       6\n",
      "    3\n",
      "       7\n"
     ]
    }
   ],
   "source": [
    "root.print_tree()"
   ]
  },
  {
   "cell_type": "code",
   "execution_count": 124,
   "id": "8d906b6c",
   "metadata": {},
   "outputs": [
    {
     "data": {
      "text/plain": [
       "BinaryTreeNode(7, left=None, right=None)"
      ]
     },
     "execution_count": 124,
     "metadata": {},
     "output_type": "execute_result"
    }
   ],
   "source": [
    "dfs(root, 7)"
   ]
  },
  {
   "cell_type": "markdown",
   "id": "fcb42f62",
   "metadata": {},
   "source": [
    "### Binary Search Trees (BSTs)\n",
    "\n",
    "- A **BST** is a binary tree with the value of each internal node being greater than all the values in the respective node's left subtree and less than the ones in its right subtree.\n",
    "- Some kind of ordering is assumed on the nodes, be it numerical or dictionary or whatever else.\n",
    "- An in-order traversal of a BST will always return values in sorted order.\n",
    "- An empty binary tree is trivially a BST.\n",
    "- Given a BST with $n$ nodes and height $h$, search can be performed in $O(h)$ time. If the tree is balanced, $h=O(\\log n)$. If not, $h=O(n)$.\n",
    "- One advantage of a BST compared to a sorted list is that inserting an item into the BST doesn't require each item in the list to move down an index, like inserting to a sorted list would do. \n",
    "- Insertion, deletion, and search in a BST is $O(h)$, usually $O(\\log n)$.\n",
    "- If insertions and deletions to a BST are frequent, a balanced BST can become unbalanced over time, resulting in degraded performance. In such cases it's helpful to **rebalance** the BST so that it again has $h=O(\\log n)$.\n",
    "- Examples of **self-balancing** BSTs are **AVL trees** and **R/B Trees**. These trees keep themselves balanced dynamically with every insert/delete operation.\n",
    "- Since most languages dynamically resize arrays now, insertions and deletions are *amortized* $O(1)$ time, making BSTs less practically useful relative to lists or dictionaries.\n",
    "- When to use a BST vs a sorted list:\n",
    "    - You're doing a lot of insertions or deletions. These are $O(\\log n)$ for a balanced BST but $O(n)$ for a sorted array (unless the arrays are dynamically resized).\n",
    "    - Maintaining sorted order while doing insertions or deletions is very important. Dictionaries aren't generally in sorted order.\n",
    "    - Finding the first value in a sorted list *greater* than some given value is easier using a BST.\n",
    "    - Finding the $k$th largest or smallest values in a list is easier with a BST.\n",
    "    - Memory usage is lower for BSTs than dictionaries. So if memory usage is very important, BSTs could be more useful."
   ]
  },
  {
   "cell_type": "code",
   "execution_count": null,
   "id": "90163185",
   "metadata": {},
   "outputs": [],
   "source": [
    "def valid_bst(root):\n",
    "    \"\"\"Check if a binary tree is in proper in-order sorted order\"\"\"\n",
    "    nodes = []\n",
    "    def recurse(node):\n",
    "        if node is not None:\n",
    "            left = recurse(node.left)\n",
    "            nodes.append(node)\n",
    "            right = recurse(node.right)\n",
    "    recurse(root)\n",
    "    for i in range(1, len(nodes)):\n",
    "        if not nodes[i-1].value <= nodes[i].value:\n",
    "            return False\n",
    "    return True\n",
    "\n",
    "def bst_search(node, value):\n",
    "    \"\"\"Given a valid BST, return True if value is in BST, else False\"\"\"\n",
    "    if node is None:\n",
    "        return False\n",
    "    elif node.value == value:\n",
    "        return True\n",
    "    elif value < node.value:\n",
    "        return bst_search(node.left, value)\n",
    "    else:\n",
    "        return bst_search(node.right, value)\n",
    "    \n",
    "def bst_insert(node, value):\n",
    "    \"\"\"Given a valid BST, insert value in sorted place and return new BST\"\"\"\n",
    "    if node is None:\n",
    "        return BinaryTreeNode(value)\n",
    "    elif value <= node.value:\n",
    "        node.left = bst_insert(node.left, value)\n",
    "    elif value > node.value:\n",
    "        node.right = bst_insert(node.right, value)\n",
    "    return node"
   ]
  },
  {
   "cell_type": "markdown",
   "id": "518635c5",
   "metadata": {},
   "source": [
    "## Backtracking\n",
    "### Combinatorial Search\n",
    "\n",
    "- Combinatorial search problems involve finding groupings and assignments of objects that satisfy certain conditions.\n",
    "- Examples include finding all permutations, finding all subsets, solving sudoku, and the 8 queens problem.\n",
    "- The **permutations** of a list are the different possible orderings of that list.\n",
    "    - Example: `abc` has permutations `abc`, `acb`, `bca`, `bac`, `cab`, `cba`. That's $3!=6$ total.\n",
    "    - For a list with $n$ elements, there are $n!$ permutations of that list.\n",
    "    - Permutations can be thought of as a tree. For example, the above example has the following tree:\n",
    "    <img src=https://algomonster.s3.us-east-2.amazonaws.com/dfs_intro/arrangement.png width=500>\n",
    "- Combinatorial problems very often are $O(2^n)$ or $O(n!)$ time, making them very slow to brute force. This is called combinatorial explosion.\n",
    "- The search space of combinatorial problems can be represented with a **state-space tree**. Each node in the tree represents a possible reachable state in the search problem. The leaf nodes are the solutions to the problem.\n",
    "- Combinatorial search problems boil down to DFS/backtracking on the state-space tree.\n",
    "- These trees can get very large, so pruning often has to be done.\n",
    "- To solve combinatorial search problems:\n",
    "    1. Identify the states.\n",
    "        - What do we need to keep track of to find the solution?\n",
    "        - How do we decide which child nodes should be visited next?\n",
    "        - How do we decide which nodes to prune?\n",
    "    2. Draw the state-space tree.\n",
    "        - Physically draw out the state space on paper. Don't skip this step!\n",
    "        - Test on a small example, all the way down to the leaf nodes.\n",
    "    3. DFS/backtrack on the state-space tree.\n",
    "        - Apply the following backtracking template to traverse the tree with DFS and solve.\n",
    "- Backtracking template:\n",
    "```python\n",
    "def search(node, state):\n",
    "    if state is a solution:\n",
    "        report(state) # e.g. add state to final result list\n",
    "        return\n",
    "    for child in children:\n",
    "        if child is a part of a potential solution: # pruning the tree\n",
    "            state.append(child) # make move\n",
    "            search(child, state)\n",
    "            state.remove(child) # backtrack\n",
    "```\n",
    "- Tip: When coding the search problem, first pretend you're working with a tree node object. Once you have code that looks good that way, change it to work with whatever the problem calls for instead."
   ]
  },
  {
   "cell_type": "code",
   "execution_count": 50,
   "id": "bff0ecd3",
   "metadata": {},
   "outputs": [
    {
     "data": {
      "text/plain": [
       "['abc', 'acb', 'bac', 'bca', 'cab', 'cba']"
      ]
     },
     "execution_count": 50,
     "metadata": {},
     "output_type": "execute_result"
    }
   ],
   "source": [
    "def find_permutations(letters):\n",
    "    # factorial time recursion algorithm...only works up to like 10 letters\n",
    "    permutations = []\n",
    "    def recurse(remaining=[], path=[]):\n",
    "        if len(path) == len(letters):\n",
    "            permutations.append(''.join(path))\n",
    "        else:\n",
    "            for idx in range(len(remaining)):\n",
    "                recurse(remaining=remaining[:idx]+remaining[idx+1:], path=path+[remaining[idx]])\n",
    "    recurse(remaining=list(letters))\n",
    "    return permutations\n",
    "\n",
    "find_permutations('abc')"
   ]
  },
  {
   "cell_type": "code",
   "execution_count": 56,
   "id": "4b6e98d3",
   "metadata": {},
   "outputs": [
    {
     "data": {
      "application/vnd.jupyter.widget-view+json": {
       "model_id": "4fdadfa58bb84c449f89197f03875358",
       "version_major": 2,
       "version_minor": 0
      },
      "text/plain": [
       "  0%|          | 0/10 [00:00<?, ?it/s]"
      ]
     },
     "metadata": {},
     "output_type": "display_data"
    },
    {
     "data": {
      "text/plain": [
       "[<matplotlib.lines.Line2D at 0x30e2e1f30>]"
      ]
     },
     "execution_count": 56,
     "metadata": {},
     "output_type": "execute_result"
    },
    {
     "data": {
      "image/png": "[encoded data removed]",
      "text/plain": [
       "<Figure size 432x288 with 1 Axes>"
      ]
     },
     "metadata": {
      "needs_background": "light"
     },
     "output_type": "display_data"
    }
   ],
   "source": [
    "letters = ''\n",
    "times = []\n",
    "for i in tqdm(range(10)):\n",
    "    letters += str(i)\n",
    "    result = %timeit -n1 -r1 -o -q find_permutations(letters)\n",
    "    times.append(result.average)\n",
    "plt.plot(times)"
   ]
  },
  {
   "cell_type": "code",
   "execution_count": null,
   "id": "229778c3",
   "metadata": {},
   "outputs": [],
   "source": []
  },
  {
   "cell_type": "code",
   "execution_count": null,
   "id": "ee3c0995",
   "metadata": {},
   "outputs": [],
   "source": []
  },
  {
   "cell_type": "code",
   "execution_count": null,
   "id": "2b7a5722",
   "metadata": {},
   "outputs": [],
   "source": []
  },
  {
   "cell_type": "code",
   "execution_count": null,
   "id": "0f27df4c",
   "metadata": {},
   "outputs": [],
   "source": []
  },
  {
   "cell_type": "code",
   "execution_count": null,
   "id": "3b94b82e",
   "metadata": {},
   "outputs": [],
   "source": []
  },
  {
   "cell_type": "code",
   "execution_count": null,
   "id": "ca9da909",
   "metadata": {},
   "outputs": [],
   "source": []
  },
  {
   "cell_type": "code",
   "execution_count": null,
   "id": "67431467",
   "metadata": {},
   "outputs": [],
   "source": []
  },
  {
   "cell_type": "code",
   "execution_count": null,
   "id": "f424da33",
   "metadata": {},
   "outputs": [],
   "source": []
  },
  {
   "cell_type": "code",
   "execution_count": null,
   "id": "6fc8b921",
   "metadata": {},
   "outputs": [],
   "source": []
  },
  {
   "cell_type": "code",
   "execution_count": null,
   "id": "125925cf",
   "metadata": {},
   "outputs": [],
   "source": []
  },
  {
   "cell_type": "code",
   "execution_count": null,
   "id": "8b0a0197",
   "metadata": {},
   "outputs": [],
   "source": []
  },
  {
   "cell_type": "code",
   "execution_count": null,
   "id": "f54bea6b",
   "metadata": {},
   "outputs": [],
   "source": []
  }
 ],
 "metadata": {
  "kernelspec": {
   "display_name": "Python 3 (ipykernel)",
   "language": "python",
   "name": "python3"
  },
  "language_info": {
   "codemirror_mode": {
    "name": "ipython",
    "version": 3
   },
   "file_extension": ".py",
   "mimetype": "text/x-python",
   "name": "python",
   "nbconvert_exporter": "python",
   "pygments_lexer": "ipython3",
   "version": "3.10.4"
  },
  "toc": {
   "base_numbering": 1,
   "nav_menu": {},
   "number_sections": true,
   "sideBar": true,
   "skip_h1_title": false,
   "title_cell": "Table of Contents",
   "title_sidebar": "Contents",
   "toc_cell": false,
   "toc_position": {},
   "toc_section_display": true,
   "toc_window_display": false
  },
  "varInspector": {
   "cols": {
    "lenName": 16,
    "lenType": 16,
    "lenVar": 40
   },
   "kernels_config": {
    "python": {
     "delete_cmd_postfix": "",
     "delete_cmd_prefix": "del ",
     "library": "var_list.py",
     "varRefreshCmd": "print(var_dic_list())"
    },
    "r": {
     "delete_cmd_postfix": ") ",
     "delete_cmd_prefix": "rm(",
     "library": "var_list.r",
     "varRefreshCmd": "cat(var_dic_list()) "
    }
   },
   "types_to_exclude": [
    "module",
    "function",
    "builtin_function_or_method",
    "instance",
    "_Feature"
   ],
   "window_display": false
  }
 },
 "nbformat": 4,
 "nbformat_minor": 5
}
