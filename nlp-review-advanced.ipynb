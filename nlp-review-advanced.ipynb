{
 "cells": [
  {
   "cell_type": "code",
   "execution_count": 1,
   "id": "1fd8cf8d",
   "metadata": {},
   "outputs": [],
   "source": [
    "import numpy as np\n",
    "import pandas as pd\n",
    "import matplotlib.pyplot as plt\n",
    "import urllib\n",
    "from tqdm.notebook import tqdm\n",
    "from pathlib import Path\n",
    "from multiprocessing import Pool\n",
    "from sklearn.model_selection import train_test_split\n",
    "\n",
    "import torch\n",
    "import torch.nn as nn\n",
    "import torch.nn.functional as F\n",
    "from torch.utils.data import DataLoader\n",
    "import torchtext\n",
    "from torchtext.data.metrics import bleu_score\n",
    "\n",
    "import timm\n",
    "import fastai.text.all as fastai\n",
    "from fastai.callback.schedule import Learner\n",
    "\n",
    "# from torch.utils.tensorboard import SummaryWriter\n",
    "from tensorboardX import SummaryWriter\n",
    "%load_ext tensorboard\n",
    "\n",
    "import spacy\n",
    "import re\n",
    "import nltk\n",
    "\n",
    "seed = 42\n",
    "np.random.seed(seed)\n",
    "torch.manual_seed(seed + 1)\n",
    "if torch.cuda.is_available():\n",
    "    torch.cuda.manual_seed(seed + 2)"
   ]
  },
  {
   "cell_type": "code",
   "execution_count": 2,
   "id": "84c2b658",
   "metadata": {},
   "outputs": [
    {
     "name": "stdout",
     "output_type": "stream",
     "text": [
      "device: cuda\n"
     ]
    }
   ],
   "source": [
    "def get_device():\n",
    "    if torch.cuda.is_available():\n",
    "        device = 'cuda'\n",
    "    elif hasattr(torch.backends, 'mps') and torch.backends.mps.is_available():\n",
    "        device = 'mps'\n",
    "    else:\n",
    "        device = 'cpu'\n",
    "    return device\n",
    "\n",
    "device = get_device()\n",
    "\n",
    "print(f'device: {device}')"
   ]
  },
  {
   "cell_type": "code",
   "execution_count": 28,
   "id": "c3bfed6a",
   "metadata": {},
   "outputs": [],
   "source": [
    "model_path = Path.cwd() / 'models'"
   ]
  },
  {
   "cell_type": "code",
   "execution_count": 4,
   "id": "69c0156c",
   "metadata": {},
   "outputs": [],
   "source": [
    "def get_optimizer(model, optimizer='sgd', lr=0.001, weight_decay=0, momentum=0, betas=(0.9, 0.999), eps=1e-8):\n",
    "    if optimizer == 'sgd':\n",
    "        opt = torch.optim.SGD(\n",
    "            model.parameters(),\n",
    "            lr=lr, \n",
    "            weight_decay=weight_decay, \n",
    "            momentum=momentum\n",
    "        )\n",
    "    if optimizer == 'adam':\n",
    "        opt = torch.optim.Adam(\n",
    "            model.parameters(),\n",
    "            lr=lr,\n",
    "            weight_decay=weight_decay,\n",
    "            betas=betas,\n",
    "            eps=eps\n",
    "        )\n",
    "    return opt\n",
    "\n",
    "def train_classifier(train_data, model, opt, loss_fn, test_data=None, num_epochs=10, plot_loss=True, batch_size=32,\n",
    "                     tensorboard=False, print_stats=True, show_batches_bar=False, shuffle=True, scheduler=None,\n",
    "                     print_every=1, n_grad_accums=1, use_multi_gpus=False):\n",
    "    if tensorboard:\n",
    "        writer = SummaryWriter()\n",
    "    losses = []\n",
    "    train_loader = torch.utils.data.DataLoader(train_data, batch_size=batch_size, shuffle=shuffle)\n",
    "    if test_data is not None:\n",
    "        test_loader = torch.utils.data.DataLoader(test_data, batch_size=batch_size, shuffle=False)\n",
    "    if use_multi_gpus:\n",
    "        orig_model = model\n",
    "        model = nn.DataParallel(model)\n",
    "    for epoch in tqdm(range(num_epochs)):\n",
    "        model = model.train()\n",
    "        batch_losses = []\n",
    "        batch_correct = []\n",
    "        iterator = tqdm(train_loader, leave=False) if show_batches_bar else train_loader\n",
    "        for i, (X, y) in enumerate(iterator):\n",
    "            X = X.to(device)\n",
    "            y = y.to(device)\n",
    "            yhat = model(X)\n",
    "            loss = loss_fn(yhat, y).mean() # mean is for multi-gpu losses, avg them together\n",
    "            loss /= n_grad_accums # rescale loss for grad accumulation\n",
    "            loss.backward()\n",
    "            if i % n_grad_accums == 0: # only step when every n_grad_accums grad updates\n",
    "                opt.step()\n",
    "                opt.zero_grad()\n",
    "            batch_losses.append(float(loss)* batch_size)\n",
    "            batch_correct.append(float((yhat.argmax(dim=1) == y).sum().cpu()))\n",
    "        train_loss = sum(batch_losses) / len(train_data)\n",
    "        train_acc = sum(batch_correct) / len(train_data)\n",
    "        losses.append(train_loss)\n",
    "        \n",
    "        if test_data is not None:\n",
    "            model = model.eval()\n",
    "            opt.zero_grad()\n",
    "            batch_losses = []\n",
    "            batch_correct = []\n",
    "            iterator = tqdm(test_loader, leave=False) if show_batches_bar else test_loader\n",
    "            for X, y in iterator:\n",
    "                X = X.to(device)\n",
    "                y = y.to(device)\n",
    "                yhat = model(X)\n",
    "                loss = loss_fn(yhat, y).mean()\n",
    "                batch_losses.append(float(loss) * batch_size)\n",
    "                batch_correct.append(float((yhat.argmax(dim=1) == y).sum().cpu()))\n",
    "            test_loss = sum(batch_losses) / len(test_data)\n",
    "            test_acc = sum(batch_correct) / len(test_data)\n",
    "        else:\n",
    "            test_loss = -999\n",
    "            test_acc = -999\n",
    "            \n",
    "        if scheduler is not None:\n",
    "            scheduler.step()\n",
    "\n",
    "        if tensorboard:\n",
    "            writer.add_scalar(\"Training Loss\", train_loss, epoch+1)\n",
    "            writer.add_scalar(\"Training Accuracy\", train_acc, epoch+1)\n",
    "            writer.add_scalar(\"Test Loss\", test_loss, epoch+1)\n",
    "            writer.add_scalar(\"Test Accuracy\", test_acc, epoch+1)\n",
    "        if print_stats and epoch % print_every == 0:\n",
    "            s1 = f'epoch: {epoch: <3}   ' \n",
    "            s2 = f'train loss: {round(train_loss, 4): <6}   train acc: {round(train_acc, 4): <6}   ' \n",
    "            s3 = f'test loss: {round(test_loss, 4): <6}   test acc: {round(test_acc, 4): <6}'\n",
    "            print(s1 + s2 + s3)\n",
    "    if plot_loss:\n",
    "        plt.plot(range(len(losses)), losses)\n",
    "        plt.title('Training Loss')\n",
    "        plt.xlabel('epochs')\n",
    "        plt.show()\n",
    "    if tensorboard:\n",
    "        writer.flush()\n",
    "        writer.close()\n",
    "    model = model if not use_multi_gpus else orig_model\n",
    "    return model\n",
    "\n",
    "class Dataset:\n",
    "    def __init__(self, X, y):\n",
    "        self.X = X\n",
    "        self.y = y\n",
    "\n",
    "    def __len__(self):\n",
    "        return len(self.y)\n",
    "\n",
    "    def __getitem__(self, idx):\n",
    "        return self.X[idx], self.y[idx]"
   ]
  },
  {
   "cell_type": "markdown",
   "id": "9de5d3e2",
   "metadata": {},
   "source": [
    "# Machine Translation: English to French"
   ]
  },
  {
   "cell_type": "code",
   "execution_count": 6,
   "id": "3eb20639",
   "metadata": {},
   "outputs": [],
   "source": [
    "nlp_en = spacy.load('en_core_web_sm')\n",
    "nlp_fr = spacy.load('fr_core_news_sm')\n",
    "tokenizer_en = torchtext.data.utils.get_tokenizer(nlp_en)\n",
    "tokenizer_fr = torchtext.data.utils.get_tokenizer(nlp_fr)"
   ]
  },
  {
   "cell_type": "code",
   "execution_count": 7,
   "id": "3d529fee",
   "metadata": {},
   "outputs": [
    {
     "data": {
      "text/plain": [
       "(135842,\n",
       " [['Go.', 'Va !'],\n",
       "  ['Run!', 'Cours!'],\n",
       "  ['Run!', 'Courez!'],\n",
       "  ['Wow!', 'Ça alors!'],\n",
       "  ['Fire!', 'Au feu !'],\n",
       "  ['Help!', \"À l'aide!\"],\n",
       "  ['Jump.', 'Saute.'],\n",
       "  ['Stop!', 'Ça suffit!'],\n",
       "  ['Stop!', 'Stop!'],\n",
       "  ['Stop!', 'Arrête-toi !']])"
      ]
     },
     "execution_count": 7,
     "metadata": {},
     "output_type": "execute_result"
    }
   ],
   "source": [
    "path = Path.home() / 'data' / 'machine-translation' / 'eng-fra.txt'\n",
    "text = path.read_text().split('\\n')\n",
    "text = [t.replace('\\u202f', '').split('\\t') for t in text]\n",
    "text = [doc for doc in text if len(doc) == 2]\n",
    "len(text), text[:10]"
   ]
  },
  {
   "cell_type": "code",
   "execution_count": 8,
   "id": "08830a1a",
   "metadata": {},
   "outputs": [
    {
     "data": {
      "application/vnd.jupyter.widget-view+json": {
       "model_id": "2483c48e7e0c430f980c15ec1c5f155f",
       "version_major": 2,
       "version_minor": 0
      },
      "text/plain": [
       "  0%|          | 0/135842 [00:00<?, ?it/s]"
      ]
     },
     "metadata": {},
     "output_type": "display_data"
    }
   ],
   "source": [
    "def apply_tokenizer(doc, tokenizer):\n",
    "    return [token.text.lower() for token in tokenizer(doc)]\n",
    "\n",
    "def get_tokens(doc):\n",
    "    tokens_en = apply_tokenizer(doc[0], tokenizer_en)\n",
    "    tokens_fr = apply_tokenizer(doc[1], tokenizer_fr)\n",
    "    return tokens_en, tokens_fr\n",
    "\n",
    "with Pool(processes=8) as pool:\n",
    "    tokens = [x for x in tqdm(pool.imap(get_tokens, text), total=len(text))]"
   ]
  },
  {
   "cell_type": "code",
   "execution_count": 9,
   "id": "6b46bbc6",
   "metadata": {},
   "outputs": [
    {
     "data": {
      "text/plain": [
       "(105945, 105945)"
      ]
     },
     "execution_count": 9,
     "metadata": {},
     "output_type": "execute_result"
    }
   ],
   "source": [
    "max_tokens = 10\n",
    "\n",
    "tokens_en = [toks for toks, _ in tokens if len(toks) <= max_tokens and len(_) <= max_tokens]\n",
    "tokens_fr = [toks for _, toks in tokens if len(toks) <= max_tokens and len(_) <= max_tokens]\n",
    "len(tokens_en), len(tokens_fr)"
   ]
  },
  {
   "cell_type": "code",
   "execution_count": 10,
   "id": "805c17aa",
   "metadata": {},
   "outputs": [
    {
     "data": {
      "text/plain": [
       "[(['go', '.'], ['va', '!']),\n",
       " (['run', '!'], ['cours', '!']),\n",
       " (['run', '!'], ['courez', '!']),\n",
       " (['wow', '!'], ['ça', 'alors', '!']),\n",
       " (['fire', '!'], ['au', 'feu', '!']),\n",
       " (['help', '!'], ['à', \"l'\", 'aide', '!']),\n",
       " (['jump', '.'], ['saute', '.']),\n",
       " (['stop', '!'], ['ça', 'suffit', '!']),\n",
       " (['stop', '!'], ['stop', '!']),\n",
       " (['stop', '!'], ['arrête', '-', 'toi', '!'])]"
      ]
     },
     "execution_count": 10,
     "metadata": {},
     "output_type": "execute_result"
    }
   ],
   "source": [
    "list(zip(tokens_en, tokens_fr))[:10]"
   ]
  },
  {
   "cell_type": "code",
   "execution_count": 11,
   "id": "76af0743",
   "metadata": {},
   "outputs": [
    {
     "data": {
      "text/plain": [
       "(5000, 5000)"
      ]
     },
     "execution_count": 11,
     "metadata": {},
     "output_type": "execute_result"
    }
   ],
   "source": [
    "vocab_en = torchtext.vocab.build_vocab_from_iterator(tokens_en, specials=['<bos>', '<eos>', '<unk>', '<pad>'],\n",
    "                                                     max_tokens=5000, special_first=True)\n",
    "vocab_en.set_default_index(vocab_en[\"<unk>\"])\n",
    "stoi_en = vocab_en.get_stoi()\n",
    "itos_en = vocab_en.get_itos()\n",
    "\n",
    "vocab_fr = torchtext.vocab.build_vocab_from_iterator(tokens_fr, specials=['<bos>', '<eos>', '<unk>', '<pad>'],\n",
    "                                                     max_tokens=5000, special_first=True)\n",
    "vocab_fr.set_default_index(vocab_fr[\"<unk>\"])\n",
    "stoi_fr = vocab_fr.get_stoi()\n",
    "itos_fr = vocab_fr.get_itos()\n",
    "\n",
    "len(vocab_en), len(vocab_fr)"
   ]
  },
  {
   "cell_type": "code",
   "execution_count": 12,
   "id": "2fcae49f",
   "metadata": {},
   "outputs": [],
   "source": [
    "nums_en = [vocab_en(toks) for toks in tokens_en]\n",
    "nums_fr = [vocab_fr(toks) for toks in tokens_fr]"
   ]
  },
  {
   "cell_type": "code",
   "execution_count": 13,
   "id": "50ba4906",
   "metadata": {},
   "outputs": [],
   "source": [
    "def pad_tokens(nums, seq_len, stoi, bos_token='<bos>', eos_token='<eos>', pad_token='<pad>'):\n",
    "    nums = [stoi[bos_token]] + nums + [stoi[eos_token]]\n",
    "    nums = nums + [stoi[pad_token]] * (seq_len - len(nums))\n",
    "    return nums\n",
    "\n",
    "seq_len = max_tokens + 2 # including <bos>, <eos> around tokens of length 10 already\n",
    "nums_en_padded = [pad_tokens(num, seq_len, stoi_en) for num in nums_en]\n",
    "nums_fr_padded = [pad_tokens(num, seq_len, stoi_fr) for num in nums_fr]"
   ]
  },
  {
   "cell_type": "code",
   "execution_count": 14,
   "id": "af21b17d",
   "metadata": {},
   "outputs": [
    {
     "data": {
      "text/plain": [
       "([0, 49, 4, 1, 3, 3, 3, 3, 3, 3, 3, 3],\n",
       " [0, 120, 31, 1, 3, 3, 3, 3, 3, 3, 3, 3])"
      ]
     },
     "execution_count": 14,
     "metadata": {},
     "output_type": "execute_result"
    }
   ],
   "source": [
    "nums_en_padded[0], nums_fr_padded[0]"
   ]
  },
  {
   "cell_type": "markdown",
   "id": "14a17690",
   "metadata": {},
   "source": [
    "# Seq2Seq Models\n",
    "\n",
    "## Basic Seq2Seq\n",
    "- Learnings a mapping from a sequence $x_1,\\cdots,x_T$ to a new sequence $y_1,\\cdots,y_{T'}$.\n",
    "- The stereotypical application is machine translation, where text in one language is translated to language in another language. For example, translating French `le chat est noir` to English `the cat is black`. \n",
    "- Other examples include named entity recognition (NER), part of speech tagging (POS), or speech recognition (audio to text).\n",
    "- Typically an encoder-decoder architecture is used. The **encoder** is a sequence model (e.g. an RNN) that takes a sequence and outputs a hidden state vector. This, along with the output sequence, then gets fed to a **decoder**, a different sequence model that uses the encoder hidden states and the output sequences to produce a predition sequence.\n",
    "\n",
    "![Seq2Seq](https://pytorch.org/tutorials/_images/seq2seq.png)\n",
    "\n",
    "**Teacher Forcing**\n",
    "- To help the model learn to predict the output sequence better, a technique called teacher forcing is often used.\n",
    "- One defines some teacher forcing probability $p_{TF}$. When each output prediction $\\hat y_t$ gets made, instead of passing it directly into the input, one *instead* uses the *ground truth* output $y_t$ if $rand() < p_{TF}$.\n",
    "- This can help the model learn to output coherent sequences better, but using it too much can make the model rely on the ground truth outputs, even though at test time such outputs may not be available."
   ]
  },
  {
   "cell_type": "code",
   "execution_count": 15,
   "id": "78bea9c0",
   "metadata": {},
   "outputs": [],
   "source": [
    "class Encoder(nn.Module):\n",
    "    def __init__(self, input_size, emb_size, hidden_size, n_layers, device=device, rnn=nn.GRU, dropout=0.5):\n",
    "        super().__init__()\n",
    "        self.device = device\n",
    "        self.hidden_size = hidden_size\n",
    "        self.n_layers = n_layers\n",
    "        self.emb = nn.Embedding(input_size, emb_size)\n",
    "        self.dropout = nn.Dropout(dropout)\n",
    "        self.relu = nn.ReLU()\n",
    "        self.rnn = rnn(emb_size, hidden_size, n_layers, batch_first=True, dropout=dropout)\n",
    "    \n",
    "    def forward(self, x, h=None):\n",
    "        x = self.emb(x)\n",
    "        x = self.dropout(x)\n",
    "        x = self.relu(x)\n",
    "        x, h = self.rnn(x, h)\n",
    "        return x, h\n",
    "    \n",
    "class Decoder(nn.Module):\n",
    "    def __init__(self, output_size, emb_size, hidden_size, n_layers, device=device, rnn=nn.GRU, dropout=0.5):\n",
    "        super().__init__()\n",
    "        self.device = device\n",
    "        self.hidden_size = hidden_size\n",
    "        self.n_layers = n_layers\n",
    "        self.emb = nn.Embedding(output_size, emb_size)\n",
    "        self.dropout = nn.Dropout(dropout)\n",
    "        self.relu = nn.ReLU()\n",
    "        self.rnn = rnn(emb_size, hidden_size, n_layers, batch_first=True, dropout=dropout)\n",
    "        self.fc = nn.Linear(hidden_size, output_size)\n",
    "    \n",
    "    def forward(self, y, h=None):\n",
    "        y = self.emb(y)\n",
    "        y = self.dropout(y)\n",
    "        y = self.relu(y)\n",
    "        y, h = self.rnn(y, h)\n",
    "        y = self.fc(y)\n",
    "        return y, h\n",
    "    \n",
    "class Seq2SeqModel(nn.Module):\n",
    "    def __init__(self, input_size, emb_size, hidden_size, output_size, n_layers=1, bos=0, rnn=nn.GRU, dropout=0.5):\n",
    "        super().__init__()\n",
    "        self.encoder = Encoder(input_size, emb_size, hidden_size, n_layers, device, rnn=rnn, dropout=dropout)\n",
    "        self.decoder = Decoder(output_size, emb_size, hidden_size, n_layers, device, rnn=rnn, dropout=dropout)\n",
    "        self.output_size = output_size\n",
    "        self.bos = bos\n",
    "    \n",
    "    def forward(self, X, h=None, Y=None, teacher_forcing=0, device=device):\n",
    "        _, h = self.encoder(X, h)\n",
    "        seq_len, batch_size = X.shape[1], X.shape[0]\n",
    "        Y = Y.permute(1, 0) if Y is not None else None\n",
    "        Yhat = torch.empty(seq_len, batch_size, self.output_size)\n",
    "        y_prev = torch.tensor([self.bos] * batch_size).reshape(batch_size, 1).to(device)\n",
    "        for i in range(seq_len):\n",
    "            y_out, h = self.decoder(y_prev, h)\n",
    "            y_prev = y_out.argmax(dim=-1).detach()\n",
    "            y_prev = Y[i][:, None] if np.random.rand() < teacher_forcing else y_prev\n",
    "            Yhat[i] = y_out.permute(1, 0, 2)\n",
    "        Yhat = Yhat.permute(1, 0, 2)\n",
    "        return Yhat.to(device)"
   ]
  },
  {
   "cell_type": "code",
   "execution_count": 16,
   "id": "17949be7",
   "metadata": {},
   "outputs": [
    {
     "data": {
      "text/plain": [
       "(torch.Size([16, 10]), torch.Size([16, 10]), torch.Size([16, 10, 1000]))"
      ]
     },
     "execution_count": 16,
     "metadata": {},
     "output_type": "execute_result"
    }
   ],
   "source": [
    "vocab_size = 1000\n",
    "batch_size = 16\n",
    "X = torch.randint(0, vocab_size, size=(batch_size,10)).to(device)\n",
    "Y = torch.randint(0, vocab_size, size=(batch_size,10)).to(device)\n",
    "\n",
    "model = Seq2SeqModel(vocab_size, 50, 100, vocab_size, n_layers=2, bos=1).to(device)\n",
    "Yhat = model(X, h=None, Y=Y, teacher_forcing=0.5)\n",
    "X.shape, Y.shape, Yhat.shape"
   ]
  },
  {
   "cell_type": "code",
   "execution_count": 17,
   "id": "648abf6f",
   "metadata": {},
   "outputs": [
    {
     "data": {
      "text/plain": [
       "tensor(6.9008, device='cuda:0', grad_fn=<NllLossBackward0>)"
      ]
     },
     "execution_count": 17,
     "metadata": {},
     "output_type": "execute_result"
    }
   ],
   "source": [
    "y = Y.reshape(batch_size * 10,).to(device)\n",
    "yhat = Yhat.reshape(batch_size * 10, -1).to(device)\n",
    "loss_fn = nn.CrossEntropyLoss()\n",
    "loss_fn(yhat, y)"
   ]
  },
  {
   "cell_type": "code",
   "execution_count": 18,
   "id": "c568e611",
   "metadata": {},
   "outputs": [],
   "source": [
    "def train_seq2seq(train_data, model, opt, loss_fn, test_data=None, num_epochs=10, plot_loss=True, batch_size=32,\n",
    "                  tensorboard=False, print_stats=True, show_batches_bar=False, shuffle=True, scheduler=None,\n",
    "                  print_every=1, n_grad_accums=1, use_multi_gpus=False, grad_clip=None, teacher_forcing=0.5):\n",
    "    if tensorboard:\n",
    "        writer = SummaryWriter()\n",
    "    losses = []\n",
    "    train_loader = torch.utils.data.DataLoader(train_data, batch_size=batch_size, shuffle=shuffle)\n",
    "    if test_data is not None:\n",
    "        test_loader = torch.utils.data.DataLoader(test_data, batch_size=batch_size, shuffle=False)\n",
    "    if use_multi_gpus:\n",
    "        orig_model = model\n",
    "        model = nn.DataParallel(model)\n",
    "       \n",
    "    for epoch in tqdm(range(num_epochs)):\n",
    "        model = model.train()\n",
    "        batch_losses = []\n",
    "        iterator = tqdm(train_loader, leave=False) if show_batches_bar else train_loader\n",
    "        # if not specified, use heavy teacher forcing early in training and decay it linearly to zero\n",
    "        teacher_forcing = (1 - epoch / num_epochs) * teacher_forcing\n",
    "        for i, (X, Y) in enumerate(iterator):\n",
    "            X = X.to(device).long()\n",
    "            Y = Y.to(device).long()\n",
    "            bs, bptt = Y.shape[0], Y.shape[1]\n",
    "            Yhat = model(X, h=None, Y=Y, teacher_forcing=teacher_forcing)\n",
    "            y = Y.reshape(bs * bptt,)\n",
    "            yhat = Yhat.reshape(bs * bptt, -1)\n",
    "            loss = loss_fn(yhat, y).mean() # mean is for multi-gpu losses, avg them together\n",
    "            loss /= n_grad_accums # rescale loss for grad accumulation\n",
    "            loss.backward()\n",
    "            if grad_clip is not None:\n",
    "                nn.utils.clip_grad_norm_(model.parameters(), grad_clip)\n",
    "            if i % n_grad_accums == 0: # only step when every n_grad_accums grad updates\n",
    "                opt.step()\n",
    "                opt.zero_grad()\n",
    "            batch_losses.append(float(loss)* batch_size)\n",
    "        train_loss = sum(batch_losses) / len(train_data)\n",
    "        losses.append(train_loss)\n",
    "        \n",
    "        if test_data is not None:\n",
    "            model = model.eval()\n",
    "            opt.zero_grad()\n",
    "            batch_losses = []\n",
    "            iterator = tqdm(test_loader, leave=False) if show_batches_bar else test_loader\n",
    "            for X, Y in iterator:\n",
    "                X = X.to(device)\n",
    "                Y = Y.to(device)\n",
    "                bs, bptt = Y.shape[0], Y.shape[1]\n",
    "                Yhat = model(X, h=None, Y=Y)\n",
    "                y = Y.reshape(bs * bptt,)\n",
    "                yhat = Yhat.reshape(bs * bptt, -1)\n",
    "                loss = loss_fn(yhat, y).mean()\n",
    "                batch_losses.append(float(loss) * batch_size)\n",
    "            test_loss = sum(batch_losses) / len(test_data)\n",
    "        else:\n",
    "            test_loss = -999\n",
    "            \n",
    "        if scheduler is not None:\n",
    "            scheduler.step()\n",
    "\n",
    "        if tensorboard:\n",
    "            writer.add_scalar(\"Training Loss\", train_loss, epoch+1)\n",
    "            writer.add_scalar(\"Test Loss\", test_loss, epoch+1)\n",
    "        if print_stats and (epoch % print_every == 0) or (epoch == num_epochs - 1):\n",
    "            s1 = f'epoch: {epoch: <3}   ' \n",
    "            s2 = f'train loss: {round(train_loss, 4): <6}   test loss: {round(test_loss, 4): <6}' \n",
    "            print(s1 + s2)\n",
    "    if plot_loss:\n",
    "        plt.plot(range(len(losses)), losses)\n",
    "        plt.title('Training Loss')\n",
    "        plt.xlabel('epochs')\n",
    "        plt.show()\n",
    "    if tensorboard:\n",
    "        writer.flush()\n",
    "        writer.close()\n",
    "    model = model if not use_multi_gpus else orig_model\n",
    "    return model"
   ]
  },
  {
   "cell_type": "code",
   "execution_count": 19,
   "id": "9c6ad2b5",
   "metadata": {},
   "outputs": [
    {
     "data": {
      "text/plain": [
       "(torch.Size([95350, 12]),\n",
       " torch.Size([95350, 12]),\n",
       " torch.Size([10595, 12]),\n",
       " torch.Size([10595, 12]))"
      ]
     },
     "execution_count": 19,
     "metadata": {},
     "output_type": "execute_result"
    }
   ],
   "source": [
    "idx_train, idx_test = train_test_split(range(len(nums_en_padded)), train_size=0.9, shuffle=True, random_state=seed)\n",
    "\n",
    "X = torch.tensor(nums_en_padded).long().to(device)\n",
    "Y = torch.tensor(nums_fr_padded).long().to(device)\n",
    "\n",
    "X_train = X[idx_train]\n",
    "Y_train = Y[idx_train]\n",
    "X_test = X[idx_test]\n",
    "Y_test = Y[idx_test]\n",
    "\n",
    "X_train.shape, Y_train.shape, X_test.shape, Y_test.shape"
   ]
  },
  {
   "cell_type": "code",
   "execution_count": 20,
   "id": "e2e56c99",
   "metadata": {},
   "outputs": [],
   "source": [
    "samples = 40000\n",
    "\n",
    "train_data = Dataset(X_train[:samples], Y_train[:samples])\n",
    "test_data = Dataset(X_test, Y_test)"
   ]
  },
  {
   "cell_type": "code",
   "execution_count": 55,
   "id": "fd0c561b",
   "metadata": {},
   "outputs": [
    {
     "name": "stderr",
     "output_type": "stream",
     "text": [
      "/home/paperspace/miniconda3/envs/main/lib/python3.10/site-packages/torch/nn/modules/rnn.py:62: UserWarning: dropout option adds dropout after all but last recurrent layer, so non-zero dropout expects num_layers greater than 1, but got dropout=0.1 and num_layers=1\n",
      "  warnings.warn(\"dropout option adds dropout after all but last \"\n"
     ]
    },
    {
     "data": {
      "application/vnd.jupyter.widget-view+json": {
       "model_id": "aa6bc909476a4605835f92f5529cd969",
       "version_major": 2,
       "version_minor": 0
      },
      "text/plain": [
       "  0%|          | 0/60 [00:00<?, ?it/s]"
      ]
     },
     "metadata": {},
     "output_type": "display_data"
    },
    {
     "name": "stdout",
     "output_type": "stream",
     "text": [
      "epoch: 0     train loss: 5.3814   test loss: 4.7938\n",
      "epoch: 1     train loss: 4.4554   test loss: 4.719 \n",
      "epoch: 2     train loss: 4.3656   test loss: 4.6373\n",
      "epoch: 3     train loss: 4.2953   test loss: 4.6132\n",
      "epoch: 4     train loss: 4.2484   test loss: 4.5877\n",
      "epoch: 5     train loss: 4.2042   test loss: 4.5748\n",
      "epoch: 6     train loss: 4.1269   test loss: 4.3892\n",
      "epoch: 9     train loss: 3.823    test loss: 4.0747\n",
      "epoch: 10    train loss: 3.7534   test loss: 3.9602\n",
      "epoch: 11    train loss: 3.6776   test loss: 3.8682\n",
      "epoch: 12    train loss: 3.6277   test loss: 3.8047\n",
      "epoch: 13    train loss: 3.5571   test loss: 3.7283\n",
      "epoch: 14    train loss: 3.4928   test loss: 3.6622\n",
      "epoch: 15    train loss: 3.4363   test loss: 3.6463\n",
      "epoch: 16    train loss: 3.3769   test loss: 3.545 \n",
      "epoch: 17    train loss: 3.3221   test loss: 3.4915\n",
      "epoch: 18    train loss: 3.2641   test loss: 3.4329\n",
      "epoch: 19    train loss: 3.1938   test loss: 3.376 \n",
      "epoch: 20    train loss: 3.1392   test loss: 3.3419\n",
      "epoch: 21    train loss: 3.1071   test loss: 3.3155\n",
      "epoch: 22    train loss: 3.0799   test loss: 3.2883\n",
      "epoch: 23    train loss: 3.0454   test loss: 3.2663\n",
      "epoch: 24    train loss: 3.0193   test loss: 3.2429\n",
      "epoch: 25    train loss: 2.998    test loss: 3.2199\n",
      "epoch: 26    train loss: 2.9716   test loss: 3.2048\n",
      "epoch: 27    train loss: 2.9354   test loss: 3.1763\n",
      "epoch: 28    train loss: 2.9126   test loss: 3.1583\n",
      "epoch: 29    train loss: 2.8896   test loss: 3.1307\n",
      "epoch: 30    train loss: 2.8605   test loss: 3.1228\n",
      "epoch: 31    train loss: 2.8319   test loss: 3.098 \n",
      "epoch: 32    train loss: 2.8144   test loss: 3.0903\n",
      "epoch: 33    train loss: 2.7852   test loss: 3.0602\n",
      "epoch: 34    train loss: 2.7682   test loss: 3.04  \n",
      "epoch: 35    train loss: 2.7356   test loss: 3.0284\n",
      "epoch: 36    train loss: 2.7109   test loss: 3.0043\n",
      "epoch: 37    train loss: 2.6905   test loss: 2.9934\n",
      "epoch: 38    train loss: 2.6653   test loss: 2.9744\n",
      "epoch: 39    train loss: 2.6475   test loss: 2.9596\n",
      "epoch: 40    train loss: 2.623    test loss: 2.9489\n",
      "epoch: 41    train loss: 2.6108   test loss: 2.9415\n",
      "epoch: 42    train loss: 2.5926   test loss: 2.9306\n",
      "epoch: 43    train loss: 2.5862   test loss: 2.9243\n",
      "epoch: 44    train loss: 2.5744   test loss: 2.916 \n",
      "epoch: 45    train loss: 2.5604   test loss: 2.9141\n",
      "epoch: 46    train loss: 2.5483   test loss: 2.901 \n",
      "epoch: 47    train loss: 2.5416   test loss: 2.901 \n",
      "epoch: 48    train loss: 2.531    test loss: 2.8904\n",
      "epoch: 49    train loss: 2.5218   test loss: 2.8809\n",
      "epoch: 50    train loss: 2.5094   test loss: 2.8766\n",
      "epoch: 51    train loss: 2.5028   test loss: 2.8682\n",
      "epoch: 52    train loss: 2.4891   test loss: 2.8625\n",
      "epoch: 53    train loss: 2.4816   test loss: 2.8541\n",
      "epoch: 54    train loss: 2.4684   test loss: 2.8511\n",
      "epoch: 55    train loss: 2.46     test loss: 2.8439\n",
      "epoch: 56    train loss: 2.4532   test loss: 2.8441\n",
      "epoch: 57    train loss: 2.4372   test loss: 2.8297\n",
      "epoch: 58    train loss: 2.4269   test loss: 2.8251\n",
      "epoch: 59    train loss: 2.4185   test loss: 2.8179\n"
     ]
    },
    {
     "data": {
      "image/png": "[encoded data removed]",
      "text/plain": [
       "<Figure size 432x288 with 1 Axes>"
      ]
     },
     "metadata": {
      "needs_background": "light"
     },
     "output_type": "display_data"
    }
   ],
   "source": [
    "# IGNORE UNLESS RETRAINING\n",
    "\n",
    "vocab_size_en = len(vocab_en)\n",
    "vocab_size_fr = len(vocab_fr)\n",
    "emb_size = 256\n",
    "hidden_size = 256\n",
    "bos_out = stoi_fr['<bos>'] # output <bos> token\n",
    "\n",
    "model = Seq2SeqModel(vocab_size_en, emb_size, hidden_size, vocab_size_fr, n_layers=1, dropout=0.1).to(device)\n",
    "loss_fn = nn.CrossEntropyLoss(ignore_index=stoi_en['<pad>']) # ignore loss from <pad> tokens\n",
    "opt = get_optimizer(model, optimizer='adam', lr=0.001, weight_decay=1e-5)\n",
    "scheduler = torch.optim.lr_scheduler.StepLR(opt, step_size=20, gamma=0.5)\n",
    "model = train_seq2seq(train_data, model, opt, loss_fn, num_epochs=60, batch_size=1024, grad_clip=5., print_every=1, \n",
    "                      test_data=test_data, teacher_forcing=0.5, show_batches_bar=False, scheduler=scheduler)"
   ]
  },
  {
   "cell_type": "code",
   "execution_count": 39,
   "id": "49e605bf",
   "metadata": {},
   "outputs": [
    {
     "name": "stderr",
     "output_type": "stream",
     "text": [
      "/home/paperspace/miniconda3/envs/main/lib/python3.10/site-packages/torch/nn/modules/rnn.py:62: UserWarning: dropout option adds dropout after all but last recurrent layer, so non-zero dropout expects num_layers greater than 1, but got dropout=0.1 and num_layers=1\n",
      "  warnings.warn(\"dropout option adds dropout after all but last \"\n"
     ]
    },
    {
     "data": {
      "text/plain": [
       "<All keys matched successfully>"
      ]
     },
     "execution_count": 39,
     "metadata": {},
     "output_type": "execute_result"
    }
   ],
   "source": [
    "# IGNORE UNLESS RETRAINING\n",
    "\n",
    "torch.save(model.state_dict(), model_path / 'dummy.pth')\n",
    "model = Seq2SeqModel(vocab_size_en, emb_size, hidden_size, vocab_size_fr, n_layers=1, dropout=0.1).to(device)\n",
    "model.load_state_dict(torch.load(model_path / 'dummy.pth', map_location=torch.device(device)))"
   ]
  },
  {
   "cell_type": "code",
   "execution_count": 97,
   "id": "3c223f5e",
   "metadata": {},
   "outputs": [],
   "source": [
    "# IGNORE UNLESS RETRAINING\n",
    "\n",
    "def translate(model, english):\n",
    "    model = model.eval()\n",
    "    x = [token.text.lower() for token in tokenizer_en(english)]\n",
    "    x = vocab_en(x)\n",
    "    x = pad_tokens(x, seq_len, vocab_en.get_stoi())\n",
    "    x = torch.tensor(x).long().to(device)[None, :]\n",
    "    yhat = model(x)\n",
    "    yhat = yhat.argmax(dim=-1).long().detach().cpu().flatten()\n",
    "    french = [vocab_fr.get_itos()[y] for y in yhat]\n",
    "    return ' '.join(french).replace('<pad>', '').replace('<eos>', '').replace('<bos>', '').strip()"
   ]
  },
  {
   "cell_type": "code",
   "execution_count": 41,
   "id": "0550e632",
   "metadata": {},
   "outputs": [
    {
     "data": {
      "text/plain": [
       "('qui est -ce ?', 'arrête de !', 'où est -ce ? ?')"
      ]
     },
     "execution_count": 41,
     "metadata": {},
     "output_type": "execute_result"
    }
   ],
   "source": [
    "# IGNORE UNLESS RETRAINING\n",
    "\n",
    "translate(model, 'Who are you?'), translate(model, 'Stop!'), translate(model, 'Where am I?')"
   ]
  },
  {
   "cell_type": "markdown",
   "id": "5b1e0bf1",
   "metadata": {},
   "source": [
    "## BLEU Scores\n",
    "- BLEU scores (bilingual evaluation understudy scores) are a metric for scoring machine translation model by matching how many ngrams in the predicted translation overlap with the ngrams in one or more ground truth translations.\n",
    "- For each ngram in the predicted output, the *modified precision* of how many times the ngrams in the prediction appear in each ground truth reference is calculated. The best average of this (against all possible references) over all possible ngrams (up to a specified max n) in the prediction is then returned as the BLEU score.\n",
    "- Modified precision: Suppose a set of $n$-grams (words) $w$ (for a particular $n$) appears in the prediction $\\text{pred}$. Then the modified precision over the set of references is given by the ratio \n",
    "$$\\text{MP}_{n} = \\frac{\\sum_{w \\in \\text{pred}} \\text{# times $w$ appears in all references}}{\\sum_{w \\in \\text{pred}} \\text{# times $w$ appears in prediction}}.$$\n",
    "- The BLEU score is then defined as the exponentiated average over all allowed $n$-grams, weighted by a *brevity length* (BP) factor:\n",
    "$$\\text{BLEU Score} = \\text{BP} \\exp(\\langle \\text{MP}_{n} \\rangle).$$\n",
    "- The BP factor is meant to penalize the model from outputting shorter translations than the ground truth translation. Let $L$ be the max reference output length, and $\\hat L$ be the predicted output length. Then the BP is commonly calculated by\n",
    "$$\\text{BP} = 1 \\text{  if  } \\hat L > L \\text{  else  } \\exp \\bigg(1-\\frac{\\hat L}{L} \\bigg).$$"
   ]
  },
  {
   "cell_type": "code",
   "execution_count": 39,
   "id": "c9c1887c",
   "metadata": {},
   "outputs": [
    {
     "data": {
      "text/plain": [
       "0.6666666865348816"
      ]
     },
     "execution_count": 39,
     "metadata": {},
     "output_type": "execute_result"
    }
   ],
   "source": [
    "yhat = [['My', 'full', 'pytorch', 'test'], ['Another', 'Sentence']]\n",
    "y = [[['My', 'full', 'pytorch', 'test'], ['Completely', 'Different']], [['No', 'Match']]]\n",
    "bleu_score(yhat, y, max_n=1, weights=[1])"
   ]
  },
  {
   "cell_type": "code",
   "execution_count": 40,
   "id": "61e3cc93",
   "metadata": {},
   "outputs": [],
   "source": [
    "def nums_to_text(nums, itos, strip_specials=[]):\n",
    "    text = [[itos[idx] for idx in num] for num in nums]\n",
    "    if len(strip_specials) > 0:\n",
    "        text = [[word for word in doc if word not in strip_specials] for doc in text]\n",
    "    return text\n",
    "\n",
    "def text_to_nums(text, stoi, as_tensor=True):\n",
    "    nums = [[stoi[idx] for idx in doc] for doc in text]\n",
    "    if as_tensor:\n",
    "        nums = torch.tensor(nums).long()\n",
    "    return nums\n",
    "\n",
    "def predict(X, model, as_text=False, batch_size=1024, strip_specials=[], as_probs=False):\n",
    "    model = model.eval()\n",
    "    if as_text:\n",
    "        X = text_to_nums(X, stoi_en, as_tensor=True).to(device)\n",
    "    dataloader = torch.utils.data.DataLoader(X, batch_size=batch_size, shuffle=False)\n",
    "    batches = []\n",
    "    for x in tqdm(X):\n",
    "        yhat = model(x[None, :]).detach().to(device)\n",
    "        if not as_probs:\n",
    "            yhat = yhat.argmax(dim=-1).long()\n",
    "        batches.append(yhat)\n",
    "    Yhat = torch.cat(batches, 0).to(device)\n",
    "    if as_text:\n",
    "        Yhat = nums_to_text(Yhat.cpu().numpy().astype(int).tolist(), itos_fr, strip_specials=strip_specials)\n",
    "    return Yhat\n",
    "\n",
    "def get_bleu_scores(Yhat, Y, max_n=1, weights=[1]):\n",
    "    # gotta do this because bleu_score assumes multiple target translations per prediction, not just one\n",
    "    targets = []\n",
    "    preds = []    \n",
    "    for yhat, y in zip(Yhat, Y):        \n",
    "        preds.append(yhat)\n",
    "        targets.append([y])        \n",
    "    return bleu_score(preds, targets, max_n=max_n, weights=weights)"
   ]
  },
  {
   "cell_type": "code",
   "execution_count": 41,
   "id": "e67b8271",
   "metadata": {},
   "outputs": [
    {
     "data": {
      "application/vnd.jupyter.widget-view+json": {
       "model_id": "df4c172a261449c8b4bf5e668b1d1278",
       "version_major": 2,
       "version_minor": 0
      },
      "text/plain": [
       "  0%|          | 0/10595 [00:00<?, ?it/s]"
      ]
     },
     "metadata": {},
     "output_type": "display_data"
    },
    {
     "data": {
      "text/plain": [
       "0.5782964955210219"
      ]
     },
     "execution_count": 41,
     "metadata": {},
     "output_type": "execute_result"
    }
   ],
   "source": [
    "specials = ['<bos>', '<eos>', '<pad>']\n",
    "X_text = nums_to_text(X_test.cpu().numpy().tolist(), itos_en, strip_specials=[])\n",
    "Y_text = nums_to_text(Y_test.cpu().numpy().tolist(), itos_fr, strip_specials=specials)\n",
    "Yhat_text = predict(X_text, model, as_text=True, strip_specials=specials)\n",
    "get_bleu_scores(Yhat_text, Y_text, max_n=1, weights=[1])"
   ]
  },
  {
   "cell_type": "code",
   "execution_count": 42,
   "id": "785865a0",
   "metadata": {},
   "outputs": [
    {
     "name": "stdout",
     "output_type": "stream",
     "text": [
      "['<bos>', 'will', 'you', 'give', 'me', 'some', 'time', '?', '<eos>', '<pad>', '<pad>', '<pad>']\n",
      "['me', '<unk>', '-vous', 'du', 'temps', '?']\n",
      "['me', '<unk>', '-vous', 'de', 'temps', '?']\n"
     ]
    }
   ],
   "source": [
    "idx = 10\n",
    "\n",
    "print(X_text[idx])\n",
    "print(Y_text[idx])\n",
    "print(Yhat_text[idx])"
   ]
  },
  {
   "cell_type": "code",
   "execution_count": 76,
   "id": "7bfc7c0a",
   "metadata": {},
   "outputs": [
    {
     "data": {
      "text/plain": [
       "0.4768199143434214"
      ]
     },
     "execution_count": 76,
     "metadata": {},
     "output_type": "execute_result"
    }
   ],
   "source": [
    "X_text_train = nums_to_text(X_train.cpu().numpy().tolist(), itos_en, strip_specials=[])\n",
    "Y_text_train = nums_to_text(Y_train.cpu().numpy().tolist(), itos_fr, strip_specials=specials)\n",
    "Yhat_text_train = predict(X_text_train, model, as_text=True, strip_specials=specials, device='cuda')\n",
    "get_bleu_scores(Yhat_text_train, Y_text_train, max_n=1, weights=[1])"
   ]
  },
  {
   "cell_type": "markdown",
   "id": "a8c9bca6",
   "metadata": {},
   "source": [
    "## Beam Search\n",
    "- In a sequence prediction model, the model tries to learn a distribution $p(y_1,\\cdots,y_{T'}|x_1,\\cdots,x_T)$. One imagines *sampling* a likely sequence $\\hat y_1, \\cdots, \\hat y_{T'}$ from this joint distribution:\n",
    "$$(\\hat y_1, \\cdots, \\hat y_{T'}) \\sim p(y_1,\\cdots,y_{T'}|x_1,\\cdots,x_T)$$\n",
    "- The naive way of outputing a prediction is a \"greedy search\". This approach just uses the argmax of each predicted $\\hat y_t$ to generate a prediction sequence. This is what is used in training, and most of the time for prediction.\n",
    "- But most of the time for sequence prediction greedy search doesn't generate the *best* sequence as a whole. Rather, it's prone to overly focus on the earlier sequence elements, causing it to optimize early, not focusing on the whole thing at once.\n",
    "- Beam search is a way around this. It's an approximate algorithm for finding the best of a set of sequences sampled from a joint distribution, i.e. approximiately finding the *mode* of the joint distribution.\n",
    "- For seq2seq tasks like machine translation or language modeling, using beam search on the predicted outputs tends to produce better quality translations than naive greedy search (i.e. just using what the model outputs directly).\n",
    "- Formally, beam search is a heuristic, best-first tree-search algorithm. Given $t=1,\\cdots,T'$, output probabilities $p_t \\equiv p(y_t|x_{:t}, y_{:t})$, and a *beam-width* $B$:\n",
    "    - Using $p_0 \\equiv p(y_0|x_0)$, sample the top $B$ classes for $\\hat y_0$: $(\\hat y_0^{(1)},\\cdots,\\hat y_0^{(B)}) \\sim p_0$.\n",
    "    - Using each $p_1^{(b_0)} \\equiv p\\big(y_1|x_0, x_1, \\hat y_0^{(b_0)}\\big)$, sample the top $B$ classes for $\\hat y_1$: $(\\hat y_0^{(b_0,1)},\\cdots,\\hat y_0^{(b_0,B)}) \\sim p_1^{(b_0)}$.\n",
    "    - Repeat recursively for each $t=2,\\cdots,T'$ to get sampled sequences $\\hat y_t^{(b_0,\\cdots,b_{t-1})} \\sim p_t^{(b_0,\\cdots,b_{t-1})} \\equiv p\\big(y_t|x_0, \\cdots, x_t, \\hat y_0^{(b_0)}, \\cdots, \\hat y_{t-1}^{(b_{t-1})}\\big)$.\n",
    "    - Return the sequence of $\\big( \\hat y_t^{(b_0,\\cdots,b_t)} \\big)_{t=1,\\cdots,T'}$ whose branch in the search tree is the maximum product of probabilities, i.e. the (approximate) mode\n",
    "    $$(\\hat y_1, \\cdots, \\hat y_{T'}) \\approx \\text{argmax } \\prod_{t=1}^{T'} p(y_t|x_1,\\cdots,x_{t-1}, y_0,\\cdots, y_{t-1}).$$\n",
    "- A beam width of $B=1$ reduces to regular greedy search. It's the extra \"beams\" that enables beam search to consider other likely and possibly better sequences.\n",
    "- Some refinements to beam search can give improved results:\n",
    "    - Underflow: Due to numerical underflow, the above product can quickly go to zero for moderately long sequences. To get around this, it's common to instead optimize the equivalent negative log likelihood instead:\n",
    "    $$(\\hat y_1, \\cdots, \\hat y_{T'}) \\approx \\text{argmin } \\sum_{t=1}^{T'} -\\log p(y_t|x_1,\\cdots,x_{t-1}, y_0,\\cdots, y_{t-1}).$$\n",
    "    - Length Normalization: For longer sequences, the joint probabilities can be very small. Because of this, beam search tends to prefer shorter sequences. To get around this we can use length normalization. If $J = \\sum_{t=1}^{T'} -\\log p(y_t|x_1,\\cdots,x_{t-1},\\hat y_0,\\cdots,\\hat y_{t-1})$ is the objective function, one can instead optimize instead the scaled objective function for some power $0 \\leq \\alpha \\leq 1$:\n",
    "    $$J' \\equiv \\frac{1}{(T')^\\alpha}J.$$\n",
    "    - Beam Width Tuning: Choosing $B$ to be larger will increase the chance of getting the best sequence, but will also increase compute and memory, and analogously for choosing smaller $B$. Typically, one may choose beam widths in the range $B=10-100$ for industry applications, and even higher for research applications.\n",
    "- As with object detection, where one always applies NMS to model predictions to clean up bounding boxes, with sequence prediction tasks like machine translation, one almost always applies beam search to model predictions to clean up the output quality. Doing error analysis, it can often come down to figuring out whether the model is performing poorly on some examples, or whether beam search is performing poorly. See Andrew Ng's advice video for tips on how to deal with these cases."
   ]
  },
  {
   "cell_type": "code",
   "execution_count": 43,
   "id": "71478685",
   "metadata": {},
   "outputs": [],
   "source": [
    "# fast pytorch implementation that takes in batches (batch_size, seq_len, vocab_size)\n",
    "# returns sorted tuple of top beam_width indices (beam_width, batch_size, seq_len) along with their beam_width scores\n",
    "def beam_search(probs, beam_width=10, return_type=None):\n",
    "    if not isinstance(probs, torch.Tensor):\n",
    "        probs = torch.tensor(probs)\n",
    "    if len(probs.shape) == 2:\n",
    "        probs = probs[None, :]\n",
    "        \n",
    "    batch_size, seq_len, _ = probs.shape\n",
    "    log_probs = probs.log()\n",
    "    log_prob, indices = log_probs[:, 0, :].topk(beam_width, sorted=True)\n",
    "    indices = indices.unsqueeze(-1)\n",
    "    for i in range(1, seq_len):\n",
    "        log_prob = log_prob.unsqueeze(-1) + log_probs[:, i, :].unsqueeze(1).repeat(1, beam_width, 1)\n",
    "        log_prob, idx = log_prob.reshape(batch_size, -1).topk(beam_width, sorted=True)\n",
    "        indices = torch.cat([indices, idx.unsqueeze(-1)], dim=-1)\n",
    "    \n",
    "    indices = indices.long().cpu()\n",
    "    scores = -log_prob.float().cpu()\n",
    "    if return_type == 'list':\n",
    "        indices = indices.numpy().tolist()\n",
    "        scores = scores.numpy().tolist()\n",
    "    return indices, scores\n",
    "    \n",
    "# very slow python implementation\n",
    "# uses NLL implementation, so mins score = NLL = -log(prob)\n",
    "def beam_search_python(probs, beam_width=10):\n",
    "    seqs = [[[], 0]]\n",
    "    # walk over each step in probs\n",
    "    for prob in tqdm(probs):\n",
    "        all_candidates = []\n",
    "        # expand each current candidate\n",
    "        for i in range(len(seqs)):\n",
    "            seq, score = seqs[i]\n",
    "            for j in range(len(prob)):\n",
    "                candidate = [seq + [j], score - np.log(prob[j])]\n",
    "                all_candidates.append(candidate)\n",
    "        # order all candidates by score\n",
    "        ordered = sorted(all_candidates, key=lambda row: row[1], reverse=False)\n",
    "        # select beam_width best [seq, score] pairs by min score\n",
    "        seqs = ordered[:beam_width]\n",
    "    return seqs"
   ]
  },
  {
   "cell_type": "code",
   "execution_count": 45,
   "id": "5fd71e6d",
   "metadata": {},
   "outputs": [
    {
     "data": {
      "application/vnd.jupyter.widget-view+json": {
       "model_id": "e5ff914af8a24b68bb357126fd2a5f9f",
       "version_major": 2,
       "version_minor": 0
      },
      "text/plain": [
       "  0%|          | 0/10595 [00:00<?, ?it/s]"
      ]
     },
     "metadata": {},
     "output_type": "display_data"
    },
    {
     "data": {
      "text/plain": [
       "torch.Size([10595, 12, 5000])"
      ]
     },
     "execution_count": 45,
     "metadata": {},
     "output_type": "execute_result"
    }
   ],
   "source": [
    "Yhat = predict(X_test, model, as_probs=True, batch_size=1028)\n",
    "Yhat.shape"
   ]
  },
  {
   "cell_type": "code",
   "execution_count": 51,
   "id": "ac2dac33",
   "metadata": {},
   "outputs": [
    {
     "name": "stdout",
     "output_type": "stream",
     "text": [
      "[[0, 76, 202, 42, 19, 429, 4, 1, 1, 1, 1, 1], [18, 52, 5202, 36, 5019, 5429, 5004, 5001, 5001, 5001, 5001, 5001], [76, 123, 10202, 5042, 10019, 10429, 10004, 10001, 10001, 10001, 10001, 10001], [52, 18, 15202, 5036, 15019, 15429, 15004, 15001, 15001, 15001, 15001, 15001], [39, 202, 20202, 19, 20019, 52, 20004, 20001, 20001, 4, 20001, 20001], [123, 98, 42, 5019, 25019, 20429, 25004, 25001, 4, 20001, 4, 25001], [5, 17, 5042, 10042, 30019, 5052, 30004, 30001, 25001, 5004, 25001, 4], [1451, 7, 10042, 10036, 35019, 10052, 35004, 35001, 30001, 25001, 30001, 30001], [160, 5076, 25202, 10019, 40019, 25429, 40004, 40001, 5004, 30001, 5004, 35001], [286, 5052, 30202, 15042, 45019, 15052, 45004, 45001, 35001, 10004, 35001, 40001]]\n",
      "[[6.353987555485219e-05, 6.437434058170766e-05, 6.497038702946156e-05, 6.580485205631703e-05, 6.771221524104476e-05, 6.783142453059554e-05, 6.818905239924788e-05, 6.830849451944232e-05, 6.854668026790023e-05, 6.866588955745101e-05]]\n"
     ]
    }
   ],
   "source": [
    "i = 101\n",
    "y = Y_test[i].cpu()\n",
    "yhat = Yhat[i].detach().cpu().sigmoid().numpy().tolist()\n",
    "indices, scores = beam_search(yhat, beam_width=10, return_type='list')\n",
    "print(indices[0])\n",
    "print(scores)"
   ]
  },
  {
   "cell_type": "code",
   "execution_count": 62,
   "id": "566ee5d8",
   "metadata": {},
   "outputs": [
    {
     "name": "stdout",
     "output_type": "stream",
     "text": [
      "greedy search: ma mère m' a donné .\n",
      "beam search: ma mère m' a donné .\n",
      "ground truth: ma mère m' a appelé .\n"
     ]
    }
   ],
   "source": [
    "def clean_sentence(sentence, specials):\n",
    "    for special in specials:\n",
    "        sentence = sentence.replace(special, '')\n",
    "    return sentence.strip()\n",
    "\n",
    "greedy_search_sentence = ' '.join([itos_fr[idx] for idx in np.argmax(yhat, axis=1).tolist()])\n",
    "beam_search_sentence = ' '.join([itos_fr[idx] for idx in indices[0][0]])\n",
    "ground_truth_sentence = ' '.join([itos_fr[idx] for idx in y])\n",
    "\n",
    "print(f'greedy search: {clean_sentence(greedy_search_sentence, specials)}')\n",
    "print(f'beam search: {clean_sentence(beam_search_sentence, specials)}')\n",
    "print(f'ground truth: {clean_sentence(ground_truth_sentence, specials)}')"
   ]
  },
  {
   "cell_type": "markdown",
   "id": "ea456300",
   "metadata": {},
   "source": [
    "## Attention Models\n",
    "- Vanilla seq2seq models tend not to work as well for longer sequences, e.g. 30+ word sequences. This is in essence because they have to remember the entire input to pass into the decoder and decide what the output should be. \n",
    "- Attention models get around this problem by using a learned \"attention layer\" to learn the probabilities of any one input affecting that output. That way, the decoder can only focus on a specific range of inputs (the local context), and not the whole sequence.\n",
    "- Example: Consider the translation `Jane visite l'Afrique en septembre` -> `Jane visits Africa in September`. In predicting the output token `Africa`, the model will probably want to look most around the word `l'Afrique` of the input. So maybe the input tokens should be weighted as below. That is, the model should focus 90% of its weight on the word `l'Afrique` when predicting the output word `Africa`.\n",
    "|Word|Attention Weights - `Africa`|\n",
    "|---|---|\n",
    "|Jane | 0.2 |\n",
    "|visite | 0.6 |\n",
    "|l'Afrique | 0.9 |\n",
    "|en | 0.1 |\n",
    "|septembre | 0.1 |\n",
    "- More formally, consider a seq2seq model with encoder hidden activations $h_1^{(enc)},\\cdots,h_T^{(enc)}$ and decoder activations $h_1^{(dec)},\\cdots,h_{T'}^{(dec)}$. Let $a_{t',t}$ be the attention weights that output $t'$ is paying to input $t$. Define the context vector for $t'$ to be the matrix product $c_{t'} \\equiv a_{t',t} h_{t}^{(enc)}$. Then the input to the decoder will be the elementwise product $y_{t'} \\ast c_{t'}$.\n",
    "- To get the matrix of params $a_{t',t}$, we use another linear layer to compute a set of outputs $e_{t',t}$ given by\n",
    "$$e_{t',t} = W_e [h_{t'-1}^{(dec)}, h_t^{(enc)}] + b_e.$$\n",
    "The attention weights are then given by passing $e_{t',t}$ through a softmax to get probabilities:\n",
    "$$a_{t',t} = \\text{softmax}(e_{t',t}) = \\frac{\\exp(e_{t',t})}{\\sum_t \\exp(e_{t',t})}.$$\n",
    "- Note that attention is quadratic time in the sequence lengths. Since we must calculate each $a_{t',t}$, that gives $O(T'T)$ computations.\n",
    "- It's common to visualize the matrix of attention weights by using a heatmap. This can be used to visually show how much each output $t'$ is influenced by each input $t$."
   ]
  },
  {
   "cell_type": "code",
   "execution_count": 78,
   "id": "9b104c65",
   "metadata": {},
   "outputs": [],
   "source": [
    "class Encoder(nn.Module):\n",
    "    def __init__(self, input_size, emb_size, hidden_size, n_layers, rnn=nn.GRU, dropout=0.5):\n",
    "        super().__init__()\n",
    "        self.hidden_size = hidden_size\n",
    "        self.n_layers = n_layers\n",
    "        self.emb = nn.Embedding(input_size, emb_size)\n",
    "        self.dropout = nn.Dropout(dropout)\n",
    "        self.relu = nn.ReLU()\n",
    "        self.rnn = rnn(emb_size, hidden_size, n_layers, batch_first=True, dropout=dropout)\n",
    "    \n",
    "    def forward(self, x, h=None):\n",
    "        x = self.emb(x)\n",
    "        x = self.dropout(x)\n",
    "        x = self.relu(x)\n",
    "        x, h = self.rnn(x, h)\n",
    "        return x, h\n",
    "    \n",
    "class AttentionDecoder(nn.Module):\n",
    "    def __init__(self, output_size, emb_size, hidden_size, n_layers, seq_len=seq_len, rnn=nn.GRU, dropout=0.5):\n",
    "        super().__init__()\n",
    "        self.hidden_size = hidden_size\n",
    "        self.n_layers = n_layers\n",
    "        self.emb = nn.Embedding(output_size, emb_size)\n",
    "        self.dropout = nn.Dropout(dropout)\n",
    "        self.relu = nn.ReLU()\n",
    "        self.rnn = rnn(hidden_size, hidden_size, n_layers, batch_first=True, dropout=dropout)\n",
    "        self.fc = nn.Linear(hidden_size, output_size)\n",
    "        \n",
    "        self.seq_len = seq_len\n",
    "        self.attn = nn.Linear(emb_size + hidden_size, seq_len)\n",
    "        self.attn_combine = nn.Linear(emb_size + hidden_size, hidden_size)\n",
    "    \n",
    "    def forward(self, y, enc_out, h=None, seq_len=1):       \n",
    "        y = self.emb(y)\n",
    "        y = self.dropout(y)\n",
    "        \n",
    "        h_rep = h.repeat(seq_len, 1, 1).permute(1, 0, 2)\n",
    "        attn = self.attn(torch.cat((y, h_rep), 2)).softmax(dim=2) # quadratic time\n",
    "        c = torch.bmm(attn, enc_out)\n",
    "        yc = torch.cat((y, c), 2)\n",
    "        y = self.attn_combine(yc)\n",
    "        \n",
    "        y = self.relu(y)\n",
    "        y, h = self.rnn(y, h)\n",
    "        y = self.fc(y)\n",
    "        return y, h, attn\n",
    "    \n",
    "class AttentionModel(nn.Module):\n",
    "    def __init__(self, input_size, emb_size, hidden_size, output_size, n_layers=1, bos=0, rnn=nn.GRU, dropout=0.5,\n",
    "                 seq_len=seq_len):\n",
    "        super().__init__()\n",
    "        self.encoder = Encoder(input_size, emb_size, hidden_size, n_layers, rnn=rnn, dropout=dropout)\n",
    "        self.decoder = AttentionDecoder(output_size, emb_size, hidden_size, n_layers, rnn=rnn, dropout=dropout, \n",
    "                                        seq_len=seq_len)\n",
    "        self.output_size = output_size\n",
    "        self.bos = bos\n",
    "    \n",
    "    def forward(self, X, h=None, Y=None, teacher_forcing=0, device=device, store_attention=False):\n",
    "        attns = []\n",
    "        enc_out, h = self.encoder(X, h)\n",
    "        seq_len, batch_size = X.shape[1], X.shape[0]\n",
    "        Y = Y.permute(1, 0) if Y is not None else None\n",
    "        Yhat = torch.empty(seq_len, batch_size, self.output_size)\n",
    "        y_prev = torch.tensor([self.bos] * batch_size).reshape(batch_size, 1).to(device)\n",
    "        for i in range(seq_len):\n",
    "            y_out, h, attn = self.decoder(y_prev, enc_out, h, seq_len=1)\n",
    "            y_prev = y_out.argmax(dim=-1).detach()\n",
    "            y_prev = Y[i][:, None] if np.random.rand() < teacher_forcing else y_prev\n",
    "            Yhat[i] = y_out.permute(1, 0, 2)\n",
    "            attns.append(attn)\n",
    "        Yhat = Yhat.permute(1, 0, 2).to(device)\n",
    "        if store_attention:\n",
    "            attns = torch.cat(attns, 1).to(device)\n",
    "            return Yhat, attns\n",
    "        else:\n",
    "            return Yhat"
   ]
  },
  {
   "cell_type": "code",
   "execution_count": 31,
   "id": "f1305443",
   "metadata": {},
   "outputs": [
    {
     "data": {
      "text/plain": [
       "(torch.Size([128, 12]), torch.Size([128, 12, 1000]))"
      ]
     },
     "execution_count": 31,
     "metadata": {},
     "output_type": "execute_result"
    }
   ],
   "source": [
    "input_size = 1000\n",
    "output_size = 1000\n",
    "emb_size = 50\n",
    "seq_len = seq_len\n",
    "hidden_size = 100\n",
    "batch_size = 128\n",
    "n_layers = 1\n",
    "\n",
    "x = torch.randint(0, input_size, size=(batch_size, seq_len)).to(device)\n",
    "enc = Encoder(input_size, emb_size, hidden_size, n_layers, rnn=nn.GRU, dropout=0.5).to(device)\n",
    "enc_out, h = enc(x, h=None)\n",
    "\n",
    "y = torch.randint(0, output_size, size=(batch_size, seq_len)).long().to(device)\n",
    "dec = AttentionDecoder(output_size, emb_size, hidden_size, n_layers, seq_len=seq_len, rnn=nn.GRU, \n",
    "                       dropout=0.5).to(device)\n",
    "dec_out, h, a = dec(y, enc_out, h=h, seq_len=seq_len)\n",
    "\n",
    "model = AttentionModel(input_size, emb_size, hidden_size, output_size, n_layers=1, bos=0, rnn=nn.GRU, dropout=0.5,\n",
    "                       seq_len=seq_len).to(device)\n",
    "yhat = model(x).to(device)\n",
    "y.shape, yhat.shape"
   ]
  },
  {
   "cell_type": "code",
   "execution_count": 32,
   "id": "309d9f56",
   "metadata": {},
   "outputs": [
    {
     "data": {
      "application/vnd.jupyter.widget-view+json": {
       "model_id": "16678439064143b290be2e455b5b7a1a",
       "version_major": 2,
       "version_minor": 0
      },
      "text/plain": [
       "  0%|          | 0/80 [00:00<?, ?it/s]"
      ]
     },
     "metadata": {},
     "output_type": "display_data"
    },
    {
     "name": "stdout",
     "output_type": "stream",
     "text": [
      "epoch: 0     train loss: 5.3734   test loss: 4.7889\n",
      "epoch: 1     train loss: 4.4383   test loss: 4.6119\n",
      "epoch: 2     train loss: 4.3375   test loss: 4.5832\n",
      "epoch: 3     train loss: 4.2574   test loss: 4.5363\n",
      "epoch: 4     train loss: 4.2039   test loss: 4.5397\n",
      "epoch: 5     train loss: 4.1566   test loss: 4.4602\n",
      "epoch: 6     train loss: 4.0584   test loss: 4.377 \n",
      "epoch: 7     train loss: 3.9673   test loss: 4.2584\n",
      "epoch: 8     train loss: 3.8758   test loss: 4.1296\n",
      "epoch: 9     train loss: 3.7484   test loss: 4.0175\n",
      "epoch: 10    train loss: 3.6785   test loss: 3.9434\n",
      "epoch: 11    train loss: 3.6051   test loss: 3.8184\n",
      "epoch: 12    train loss: 3.5196   test loss: 3.7155\n",
      "epoch: 13    train loss: 3.4512   test loss: 3.6431\n",
      "epoch: 14    train loss: 3.3952   test loss: 3.5746\n",
      "epoch: 15    train loss: 3.333    test loss: 3.5028\n",
      "epoch: 16    train loss: 3.2599   test loss: 3.4289\n",
      "epoch: 17    train loss: 3.1961   test loss: 3.3533\n",
      "epoch: 18    train loss: 3.123    test loss: 3.2965\n",
      "epoch: 19    train loss: 3.0656   test loss: 3.2317\n",
      "epoch: 20    train loss: 2.9937   test loss: 3.156 \n",
      "epoch: 21    train loss: 2.918    test loss: 3.1436\n",
      "epoch: 22    train loss: 2.8603   test loss: 3.0621\n",
      "epoch: 23    train loss: 2.7881   test loss: 3.0279\n",
      "epoch: 24    train loss: 2.7249   test loss: 2.9352\n",
      "epoch: 25    train loss: 2.6599   test loss: 2.8931\n",
      "epoch: 26    train loss: 2.6005   test loss: 2.887 \n",
      "epoch: 27    train loss: 2.5466   test loss: 2.7954\n",
      "epoch: 28    train loss: 2.4927   test loss: 2.766 \n",
      "epoch: 29    train loss: 2.4375   test loss: 2.7196\n",
      "epoch: 30    train loss: 2.3689   test loss: 2.6793\n",
      "epoch: 31    train loss: 2.3365   test loss: 2.6623\n",
      "epoch: 32    train loss: 2.3082   test loss: 2.6412\n",
      "epoch: 33    train loss: 2.285    test loss: 2.6268\n",
      "epoch: 34    train loss: 2.2553   test loss: 2.6079\n",
      "epoch: 35    train loss: 2.2268   test loss: 2.5845\n",
      "epoch: 36    train loss: 2.2074   test loss: 2.581 \n",
      "epoch: 37    train loss: 2.1802   test loss: 2.5598\n",
      "epoch: 38    train loss: 2.1493   test loss: 2.5393\n",
      "epoch: 39    train loss: 2.1331   test loss: 2.5239\n",
      "epoch: 40    train loss: 2.1091   test loss: 2.512 \n",
      "epoch: 41    train loss: 2.0803   test loss: 2.4949\n",
      "epoch: 42    train loss: 2.0628   test loss: 2.4849\n",
      "epoch: 43    train loss: 2.0435   test loss: 2.4771\n",
      "epoch: 44    train loss: 2.0207   test loss: 2.4568\n",
      "epoch: 45    train loss: 2.0001   test loss: 2.4449\n",
      "epoch: 46    train loss: 1.9724   test loss: 2.444 \n",
      "epoch: 47    train loss: 1.9613   test loss: 2.4258\n",
      "epoch: 48    train loss: 1.9346   test loss: 2.4116\n",
      "epoch: 49    train loss: 1.9105   test loss: 2.4104\n",
      "epoch: 50    train loss: 1.8927   test loss: 2.389 \n",
      "epoch: 51    train loss: 1.8775   test loss: 2.3858\n",
      "epoch: 52    train loss: 1.8531   test loss: 2.3698\n",
      "epoch: 53    train loss: 1.836    test loss: 2.3707\n",
      "epoch: 54    train loss: 1.8186   test loss: 2.3546\n",
      "epoch: 55    train loss: 1.8024   test loss: 2.3471\n",
      "epoch: 56    train loss: 1.7852   test loss: 2.3629\n",
      "epoch: 57    train loss: 1.7743   test loss: 2.3451\n",
      "epoch: 58    train loss: 1.7505   test loss: 2.3286\n",
      "epoch: 59    train loss: 1.7385   test loss: 2.3169\n",
      "epoch: 60    train loss: 1.7071   test loss: 2.3088\n",
      "epoch: 61    train loss: 1.6926   test loss: 2.3033\n",
      "epoch: 62    train loss: 1.68     test loss: 2.3062\n",
      "epoch: 63    train loss: 1.6725   test loss: 2.3005\n",
      "epoch: 64    train loss: 1.6601   test loss: 2.2998\n",
      "epoch: 65    train loss: 1.6588   test loss: 2.2923\n",
      "epoch: 66    train loss: 1.6485   test loss: 2.2926\n",
      "epoch: 67    train loss: 1.6435   test loss: 2.2878\n",
      "epoch: 68    train loss: 1.6346   test loss: 2.2867\n",
      "epoch: 69    train loss: 1.6315   test loss: 2.2841\n",
      "epoch: 70    train loss: 1.6138   test loss: 2.2801\n",
      "epoch: 71    train loss: 1.6129   test loss: 2.278 \n",
      "epoch: 72    train loss: 1.599    test loss: 2.2788\n",
      "epoch: 73    train loss: 1.5987   test loss: 2.2726\n",
      "epoch: 74    train loss: 1.5885   test loss: 2.2706\n",
      "epoch: 75    train loss: 1.5762   test loss: 2.2723\n",
      "epoch: 76    train loss: 1.5752   test loss: 2.2844\n",
      "epoch: 77    train loss: 1.573    test loss: 2.264 \n",
      "epoch: 78    train loss: 1.5528   test loss: 2.2664\n",
      "epoch: 79    train loss: 1.5516   test loss: 2.2706\n"
     ]
    },
    {
     "data": {
      "image/png": "[encoded data removed]",
      "text/plain": [
       "<Figure size 432x288 with 1 Axes>"
      ]
     },
     "metadata": {
      "needs_background": "light"
     },
     "output_type": "display_data"
    }
   ],
   "source": [
    "vocab_size_en = len(vocab_en)\n",
    "vocab_size_fr = len(vocab_fr)\n",
    "emb_size = 256\n",
    "hidden_size = 256\n",
    "bos_out = stoi_fr['<bos>'] # output <bos> token\n",
    "\n",
    "model = AttentionModel(vocab_size_en, emb_size, hidden_size, vocab_size_fr, n_layers=1, dropout=0.1).to(device)\n",
    "loss_fn = nn.CrossEntropyLoss(ignore_index=stoi_en['<pad>'])\n",
    "opt = get_optimizer(model, optimizer='adam', lr=0.001, weight_decay=1e-5)\n",
    "scheduler = torch.optim.lr_scheduler.StepLR(opt, step_size=30, gamma=0.5)\n",
    "model = train_seq2seq(train_data, model, opt, loss_fn, num_epochs=80, batch_size=1024, grad_clip=5., print_every=1, \n",
    "                      test_data=test_data, teacher_forcing=0.5, show_batches_bar=False, scheduler=scheduler)"
   ]
  },
  {
   "cell_type": "code",
   "execution_count": 79,
   "id": "933717b4",
   "metadata": {},
   "outputs": [],
   "source": [
    "# torch.save(model.state_dict(), model_path / 'checkpoint.pth')\n",
    "# torch.save(vocab_en, model_path / 'vocab_en.pth')\n",
    "# torch.save(vocab_fr, model_path / 'vocab_fr.pth')\n",
    "\n",
    "model = AttentionModel(vocab_size_en, emb_size, hidden_size, vocab_size_fr, n_layers=1, dropout=0.1).to(device)\n",
    "model.load_state_dict(torch.load(model_path / 'checkpoint.pth', map_location=torch.device(device)))\n",
    "\n",
    "vocab_en = torch.load(model_path / 'vocab_en.pth')\n",
    "vocab_fr = torch.load(model_path / 'vocab_fr.pth')"
   ]
  },
  {
   "cell_type": "code",
   "execution_count": 63,
   "id": "767ccb74",
   "metadata": {},
   "outputs": [
    {
     "data": {
      "text/plain": [
       "('qui qui -vous ?', 'arrête !', 'où est -ce que ?')"
      ]
     },
     "execution_count": 63,
     "metadata": {},
     "output_type": "execute_result"
    }
   ],
   "source": [
    "# fast pytorch implementation that takes in batches (batch_size, seq_len, vocab_size)\n",
    "# returns sorted tuple of top beam_width indices (beam_width, batch_size, seq_len) along with their beam_width scores\n",
    "def beam_search(probs, beam_width=10, return_type=None):\n",
    "    if not isinstance(probs, torch.Tensor):\n",
    "        probs = torch.tensor(probs)\n",
    "    if len(probs.shape) == 2:\n",
    "        probs = probs[None, :]\n",
    "        \n",
    "    batch_size, seq_len, _ = probs.shape\n",
    "    log_probs = probs.log()\n",
    "    log_prob, indices = log_probs[:, 0, :].topk(beam_width, sorted=True)\n",
    "    indices = indices.unsqueeze(-1)\n",
    "    for i in range(1, seq_len):\n",
    "        log_prob = log_prob.unsqueeze(-1) + log_probs[:, i, :].unsqueeze(1).repeat(1, beam_width, 1)\n",
    "        log_prob, idx = log_prob.reshape(batch_size, -1).topk(beam_width, sorted=True)\n",
    "        indices = torch.cat([indices, idx.unsqueeze(-1)], dim=-1)\n",
    "    \n",
    "    indices = indices.long().cpu()\n",
    "    scores = -log_prob.float().cpu()\n",
    "    if return_type == 'list':\n",
    "        indices = indices.numpy().tolist()\n",
    "        scores = scores.numpy().tolist()\n",
    "    return indices, scores\n",
    "\n",
    "def translate(model, english, use_beam_search=True, specials=specials):\n",
    "    model = model.eval()\n",
    "    x = [token.text.lower() for token in tokenizer_en(english)]\n",
    "    x = vocab_en(x)\n",
    "    x = pad_tokens(x, seq_len, vocab_en.get_stoi())\n",
    "    x = torch.tensor(x).long().to(device)[None, :]\n",
    "    yhat = model(x).detach().cpu()\n",
    "    if use_beam_search:\n",
    "        indices, scores = beam_search(yhat.softmax(dim=-1), beam_width=10, return_type='list')\n",
    "        pred = indices[0][0]\n",
    "    else:\n",
    "        pred = yhat.argmax(dim=-1).long().flatten()\n",
    "    french = ' '.join([vocab_fr.get_itos()[idx] for idx in pred])\n",
    "    french = clean_sentence(french, specials).strip()\n",
    "    return french\n",
    "\n",
    "translate(model, 'Who are you?'), translate(model, 'Stop!'), translate(model, 'Where am I?')"
   ]
  },
  {
   "cell_type": "code",
   "execution_count": 64,
   "id": "22324d4b",
   "metadata": {},
   "outputs": [
    {
     "data": {
      "application/vnd.jupyter.widget-view+json": {
       "model_id": "4e3c8127ed2849b4b21a344e6a333ccb",
       "version_major": 2,
       "version_minor": 0
      },
      "text/plain": [
       "  0%|          | 0/10595 [00:00<?, ?it/s]"
      ]
     },
     "metadata": {},
     "output_type": "display_data"
    },
    {
     "data": {
      "text/plain": [
       "0.5782964955210219"
      ]
     },
     "execution_count": 64,
     "metadata": {},
     "output_type": "execute_result"
    }
   ],
   "source": [
    "specials = ['<bos>', '<eos>', '<pad>']\n",
    "X_text = nums_to_text(X_test.cpu().numpy().tolist(), itos_en, strip_specials=[])\n",
    "Y_text = nums_to_text(Y_test.cpu().numpy().tolist(), itos_fr, strip_specials=specials)\n",
    "Yhat_text = predict(X_text, model, as_text=True, strip_specials=specials)\n",
    "get_bleu_scores(Yhat_text, Y_text, max_n=1, weights=[1])"
   ]
  },
  {
   "cell_type": "code",
   "execution_count": 71,
   "id": "b8fd10ec",
   "metadata": {},
   "outputs": [
    {
     "data": {
      "text/plain": [
       "\"quelle va passe au le le aujourd'hui ?\""
      ]
     },
     "execution_count": 71,
     "metadata": {},
     "output_type": "execute_result"
    }
   ],
   "source": [
    "translate(model, 'What is going on in the world today?')"
   ]
  },
  {
   "cell_type": "code",
   "execution_count": 107,
   "id": "07b75b34",
   "metadata": {},
   "outputs": [
    {
     "data": {
      "text/plain": [
       "(torch.Size([10, 12]), torch.Size([10, 12]), torch.Size([10, 12, 12]))"
      ]
     },
     "execution_count": 107,
     "metadata": {},
     "output_type": "execute_result"
    }
   ],
   "source": [
    "x = X_test[:10]\n",
    "yhat, attns = model(x, store_attention=True)\n",
    "x, yhat, attns = x.cpu(), yhat.detach().cpu().argmax(-1), attns.detach().cpu()\n",
    "x.shape, yhat.shape, attns.shape"
   ]
  },
  {
   "cell_type": "code",
   "execution_count": 142,
   "id": "af5eb8a6",
   "metadata": {},
   "outputs": [
    {
     "data": {
      "image/png": "[encoded data removed]",
      "text/plain": [
       "<Figure size 576x576 with 1 Axes>"
      ]
     },
     "metadata": {
      "needs_background": "light"
     },
     "output_type": "display_data"
    }
   ],
   "source": [
    "def viz_attention(input, output, attn, itos_in, itos_out, specials=specials):\n",
    "    import matplotlib.ticker as ticker\n",
    "    \n",
    "    in_words = [itos_in[idx] for idx in input]\n",
    "    out_words = [itos_out[idx] for idx in output]\n",
    "    in_words = [word for word in in_words if word not in specials]\n",
    "    out_words = [word for word in out_words if word not in specials]\n",
    "    \n",
    "    grid = attn.numpy()[:len(in_words), :len(out_words)]\n",
    "    \n",
    "    fig, ax = plt.subplots(figsize=(8,8))\n",
    "    cax = ax.matshow(grid, cmap='bone')\n",
    "    # fig.colorbar(cax)\n",
    "\n",
    "    ax.xaxis.set_ticks(range(len(in_words)))\n",
    "    ax.yaxis.set_ticks(range(len(out_words)))\n",
    "    ax.set_xticklabels(in_words, rotation=90)\n",
    "    ax.set_yticklabels(out_words)\n",
    "\n",
    "    ax.xaxis.set_major_locator(ticker.MultipleLocator(1))\n",
    "    ax.yaxis.set_major_locator(ticker.MultipleLocator(1))\n",
    "    \n",
    "    ax.set_xlabel('Inputs')\n",
    "    ax.set_ylabel('Outputs')\n",
    "\n",
    "    plt.show()    \n",
    "\n",
    "idx = 3\n",
    "viz_attention(x[idx], yhat[idx], attns[idx], itos_en, itos_fr, specials=['<eos>', '<pad>'])"
   ]
  },
  {
   "cell_type": "markdown",
   "id": "d6217c74",
   "metadata": {},
   "source": [
    "## Transformers"
   ]
  },
  {
   "cell_type": "code",
   "execution_count": null,
   "id": "d5ea6efe",
   "metadata": {},
   "outputs": [],
   "source": []
  },
  {
   "cell_type": "code",
   "execution_count": null,
   "id": "d5ff09cc",
   "metadata": {},
   "outputs": [],
   "source": []
  },
  {
   "cell_type": "code",
   "execution_count": null,
   "id": "bba11bdc",
   "metadata": {},
   "outputs": [],
   "source": []
  },
  {
   "cell_type": "code",
   "execution_count": null,
   "id": "7d654c65",
   "metadata": {},
   "outputs": [],
   "source": []
  }
 ],
 "metadata": {
  "kernelspec": {
   "display_name": "Python 3 (ipykernel)",
   "language": "python",
   "name": "python3"
  },
  "language_info": {
   "codemirror_mode": {
    "name": "ipython",
    "version": 3
   },
   "file_extension": ".py",
   "mimetype": "text/x-python",
   "name": "python",
   "nbconvert_exporter": "python",
   "pygments_lexer": "ipython3",
   "version": "3.10.4"
  }
 },
 "nbformat": 4,
 "nbformat_minor": 5
}
