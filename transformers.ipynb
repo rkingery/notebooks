{
 "cells": [
  {
   "cell_type": "code",
   "execution_count": 1,
   "id": "f698d7a8",
   "metadata": {},
   "outputs": [],
   "source": [
    "import numpy as np\n",
    "import pandas as pd\n",
    "import matplotlib.pyplot as plt\n",
    "import urllib\n",
    "from tqdm.notebook import tqdm\n",
    "from pathlib import Path\n",
    "from multiprocessing import Pool\n",
    "from sklearn.model_selection import train_test_split\n",
    "\n",
    "import torch\n",
    "import torch.nn as nn\n",
    "import torch.nn.functional as F\n",
    "from torch.utils.data import DataLoader\n",
    "\n",
    "import timm\n",
    "import fastai.text.all as fastai\n",
    "from fastai.callback.schedule import Learner\n",
    "import transformers\n",
    "\n",
    "# from torch.utils.tensorboard import SummaryWriter\n",
    "from tensorboardX import SummaryWriter\n",
    "# %load_ext tensorboard\n",
    "\n",
    "import spacy\n",
    "import re\n",
    "import nltk\n",
    "import torchtext\n",
    "from torchtext.data.metrics import bleu_score\n",
    "\n",
    "# pip install ipyexperiments\n",
    "# from ipyexperiments import IPyExperimentsCPU, IPyExperimentsPytorch\n",
    "\n",
    "import warnings\n",
    "warnings.filterwarnings('ignore')\n",
    "\n",
    "seed = 42\n",
    "np.random.seed(seed)\n",
    "torch.manual_seed(seed + 1)\n",
    "if torch.cuda.is_available():\n",
    "    torch.cuda.manual_seed(seed + 2)"
   ]
  },
  {
   "cell_type": "code",
   "execution_count": 2,
   "id": "3e714e4c",
   "metadata": {},
   "outputs": [
    {
     "name": "stdout",
     "output_type": "stream",
     "text": [
      "device: cuda\n"
     ]
    }
   ],
   "source": [
    "def get_device():\n",
    "    if torch.cuda.is_available():\n",
    "        device = 'cuda'\n",
    "    elif hasattr(torch.backends, 'mps') and torch.backends.mps.is_available():\n",
    "        device = 'mps'\n",
    "    else:\n",
    "        device = 'cpu'\n",
    "    return device\n",
    "\n",
    "device = get_device()\n",
    "\n",
    "print(f'device: {device}')"
   ]
  },
  {
   "cell_type": "code",
   "execution_count": 3,
   "id": "a3e08695",
   "metadata": {},
   "outputs": [],
   "source": [
    "model_path = Path.cwd() / 'models'"
   ]
  },
  {
   "cell_type": "code",
   "execution_count": 4,
   "id": "bac15a49",
   "metadata": {},
   "outputs": [],
   "source": [
    "def get_optimizer(model, optimizer='sgd', lr=0.001, weight_decay=0, momentum=0, betas=(0.9, 0.999), eps=1e-8):\n",
    "    if optimizer == 'sgd':\n",
    "        opt = torch.optim.SGD(\n",
    "            model.parameters(),\n",
    "            lr=lr, \n",
    "            weight_decay=weight_decay, \n",
    "            momentum=momentum\n",
    "        )\n",
    "    if optimizer == 'adam':\n",
    "        opt = torch.optim.Adam(\n",
    "            model.parameters(),\n",
    "            lr=lr,\n",
    "            weight_decay=weight_decay,\n",
    "            betas=betas,\n",
    "            eps=eps\n",
    "        )\n",
    "    if optimizer == 'radam':\n",
    "        opt = torch.optim.RAdam(\n",
    "            model.parameters(),\n",
    "            lr=lr,\n",
    "            weight_decay=weight_decay,\n",
    "            betas=betas,\n",
    "            eps=eps\n",
    "        )\n",
    "    return opt\n",
    "\n",
    "def train_classifier(train_data, model, opt, loss_fn, test_data=None, num_epochs=10, plot_loss=True, batch_size=32,\n",
    "                     tensorboard=False, print_stats=True, show_batches_bar=False, shuffle=True, scheduler=None,\n",
    "                     print_every=1, n_grad_accums=1, use_multi_gpus=False, collate_fn=None, pin_memory=False,\n",
    "                     device=device):\n",
    "    from torch.utils.data import DataLoader\n",
    "    if tensorboard:\n",
    "        writer = SummaryWriter()\n",
    "    losses = []\n",
    "    num_workers = 1 if device == 'cuda' else 0\n",
    "    pin_memory = True if (pin_memory and device == 'cuda') else False\n",
    "    train_loader = DataLoader(train_data, batch_size=batch_size, shuffle=shuffle, collate_fn=collate_fn, \n",
    "                              num_workers=num_workers, pin_memory=pin_memory)\n",
    "    if test_data is not None:\n",
    "        test_loader = DataLoader(test_data, batch_size=batch_size, shuffle=False, collate_fn=collate_fn, \n",
    "                                 num_workers=num_workers, pin_memory=pin_memory)\n",
    "    if use_multi_gpus:\n",
    "        orig_model = model\n",
    "        model = nn.DataParallel(model)\n",
    "    for epoch in tqdm(range(num_epochs)):\n",
    "        model = model.train()\n",
    "        total_losses = []\n",
    "        total_correct = []\n",
    "        iterator = tqdm(train_loader, leave=False) if show_batches_bar else train_loader\n",
    "        for i, (X, y) in enumerate(iterator):\n",
    "            X = X.to(device)\n",
    "            y = y.to(device)\n",
    "            yhat = model(X)\n",
    "            loss = loss_fn(yhat, y).mean() # mean is for multi-gpu losses, avg them together\n",
    "            loss /= n_grad_accums # rescale loss for grad accumulation\n",
    "            loss.backward()\n",
    "            if i % n_grad_accums == 0: # only step when every n_grad_accums grad updates\n",
    "                opt.step()\n",
    "                opt.zero_grad()\n",
    "            total_losses.append(float(loss))\n",
    "            total_correct.append(float((yhat.argmax(dim=1) == y).sum().cpu()))\n",
    "        train_loss = np.mean(total_losses)\n",
    "        train_acc = sum(total_correct) / len(train_data)\n",
    "        losses.append(train_loss)\n",
    "        \n",
    "        if test_data is not None:\n",
    "            model = model.eval()\n",
    "            opt.zero_grad()\n",
    "            total_losses = []\n",
    "            total_correct = []\n",
    "            iterator = tqdm(test_loader, leave=False) if show_batches_bar else test_loader\n",
    "            for X, y in iterator:\n",
    "                X = X.to(device)\n",
    "                y = y.to(device)\n",
    "                yhat = model(X)\n",
    "                loss = loss_fn(yhat, y).mean()\n",
    "                total_losses.append(float(loss))\n",
    "                total_correct.append(float((yhat.argmax(dim=1) == y).sum().cpu()))\n",
    "            test_loss = np.mean(total_losses)\n",
    "            test_acc = sum(total_correct) / len(test_data)\n",
    "        else:\n",
    "            test_loss = -999\n",
    "            test_acc = -999\n",
    "            \n",
    "        if scheduler is not None:\n",
    "            scheduler.step()\n",
    "\n",
    "        if tensorboard:\n",
    "            writer.add_scalar(\"Training Loss\", train_loss, epoch+1)\n",
    "            writer.add_scalar(\"Training Accuracy\", train_acc, epoch+1)\n",
    "            writer.add_scalar(\"Test Loss\", test_loss, epoch+1)\n",
    "            writer.add_scalar(\"Test Accuracy\", test_acc, epoch+1)\n",
    "        if print_stats and epoch % print_every == 0:\n",
    "            s1 = f'epoch: {epoch: <3}   ' \n",
    "            s2 = f'train loss: {round(train_loss, 5): <6}   train acc: {round(train_acc, 5): <6}   ' \n",
    "            s3 = f'test loss: {round(test_loss, 5): <6}   test acc: {round(test_acc, 5): <6}'\n",
    "            print(s1 + s2 + s3)\n",
    "    if plot_loss:\n",
    "        plt.plot(range(len(losses)), losses)\n",
    "        plt.title('Training Loss')\n",
    "        plt.xlabel('epochs')\n",
    "        plt.show()\n",
    "    if tensorboard:\n",
    "        writer.flush()\n",
    "        writer.close()\n",
    "    model = model if not use_multi_gpus else orig_model\n",
    "    return model\n",
    "\n",
    "def train_seq2seq(train_data, model, opt, loss_fn, model_type, test_data=None, num_epochs=10, plot_loss=True, \n",
    "                  batch_size=32, tensorboard=False, print_stats=True, show_batches_bar=False, shuffle=True, \n",
    "                  scheduler=None, print_every=1, n_grad_accums=1, use_multi_gpus=False, grad_clip=1, \n",
    "                  teacher_forcing=0.5, collate_fn=None, pin_memory=False, device=device):\n",
    "    from torch.utils.data import DataLoader\n",
    "    if tensorboard:\n",
    "        writer = SummaryWriter()\n",
    "    losses = []\n",
    "    num_workers = 1 if device == 'cuda' else 0\n",
    "    pin_memory = True if (pin_memory and device == 'cuda') else False\n",
    "    train_loader = DataLoader(train_data, batch_size=batch_size, shuffle=shuffle, collate_fn=collate_fn, \n",
    "                              num_workers=num_workers, pin_memory=pin_memory)\n",
    "    if test_data is not None:\n",
    "        test_loader = DataLoader(test_data, batch_size=batch_size, shuffle=False, collate_fn=collate_fn, \n",
    "                                 num_workers=num_workers, pin_memory=pin_memory)\n",
    "    if use_multi_gpus:\n",
    "        orig_model = model\n",
    "        model = nn.DataParallel(model)\n",
    "       \n",
    "    for epoch in tqdm(range(num_epochs)):\n",
    "        model = model.train()\n",
    "        total_losses = []\n",
    "        iterator = tqdm(train_loader, leave=False) if show_batches_bar else train_loader\n",
    "        # if not specified, use heavy teacher forcing early in training and decay it linearly to zero\n",
    "        teacher_forcing = (1 - epoch / num_epochs) * teacher_forcing\n",
    "        for i, (X, Y) in enumerate(iterator):\n",
    "            X = X.to(device).long()\n",
    "            Y = Y.to(device).long()\n",
    "            bs, bptt = Y.shape[0], Y.shape[1]\n",
    "            if model_type == 'seq2seq_rnn':\n",
    "                Yhat = model(X, h=None, Y=Y, teacher_forcing=teacher_forcing)\n",
    "            if model_type == 'seq2seq_transformer':\n",
    "                Yhat = model(X, Y=Y)\n",
    "            if model_type == 'lm_rnn':\n",
    "                Yhat = model(X, h=None)\n",
    "            if model_type == 'lm_transformer':\n",
    "                Yhat = model(X)\n",
    "            y = Y.reshape(bs * bptt,)\n",
    "            yhat = Yhat.reshape(bs * bptt, -1)\n",
    "            loss = loss_fn(yhat, y).mean() # mean is for multi-gpu losses, avg them together\n",
    "            loss /= n_grad_accums # rescale loss for grad accumulation\n",
    "            loss.backward()\n",
    "            nn.utils.clip_grad_norm_(model.parameters(), grad_clip)\n",
    "            if i % n_grad_accums == 0: # only step when every n_grad_accums grad updates\n",
    "                opt.step()\n",
    "                if scheduler is not None:\n",
    "                    scheduler.step()\n",
    "                opt.zero_grad()\n",
    "            total_losses.append(float(loss))\n",
    "            if tensorboard:\n",
    "                iters = epoch * len(train_loader) + i\n",
    "                writer.add_scalar(\"Training Loss\", float(loss), iters)\n",
    "        train_loss = np.mean(total_losses)\n",
    "        losses.append(train_loss)\n",
    "        \n",
    "        if test_data is not None:\n",
    "            model = model.eval()\n",
    "            opt.zero_grad()\n",
    "            total_losses = []\n",
    "            iterator = tqdm(test_loader, leave=False) if show_batches_bar else test_loader\n",
    "            for X, Y in iterator:\n",
    "                X = X.to(device)\n",
    "                Y = Y.to(device)\n",
    "                bs, bptt = Y.shape[0], Y.shape[1]\n",
    "                if model_type == 'rnn':\n",
    "                    Yhat = model(X, h=None, Y=Y)\n",
    "                if model_type == 'seq2seq_transformer':\n",
    "                    Yhat = model(X, Y=Y)\n",
    "                if model_type == 'lm_rnn':\n",
    "                    Yhat = model(X, h=None)\n",
    "                if model_type == 'lm_transformer':\n",
    "                    Yhat = model(X)\n",
    "                y = Y.reshape(bs * bptt,)\n",
    "                yhat = Yhat.reshape(bs * bptt, -1)\n",
    "                loss = loss_fn(yhat, y).mean()\n",
    "                total_losses.append(float(loss))\n",
    "            test_loss = np.mean(total_losses)\n",
    "        else:\n",
    "            test_loss = -999\n",
    "            \n",
    "        if tensorboard:\n",
    "            writer.add_scalar(\"Test Loss\", test_loss, epoch)\n",
    "        if print_stats and (epoch % print_every == 0) or (epoch == num_epochs - 1):\n",
    "            s1 = f'epoch: {epoch: <3}   ' \n",
    "            s2 = f'train loss: {round(train_loss, 5): <6}   test loss: {round(test_loss, 5): <6}' \n",
    "            print(s1 + s2)\n",
    "    if plot_loss:\n",
    "        plt.plot(range(len(losses)), losses)\n",
    "        plt.title('Training Loss')\n",
    "        plt.xlabel('epochs')\n",
    "        plt.show()\n",
    "    if tensorboard:\n",
    "        writer.flush()\n",
    "        writer.close()\n",
    "    model = model if not use_multi_gpus else orig_model\n",
    "    return model\n",
    "\n",
    "def predict(test_data, model, batch_size=32, collate_fn=None, device=device):\n",
    "    from torch.utils.data import DataLoader\n",
    "    test_loader = DataLoader(test_data, batch_size=batch_size, shuffle=False, collate_fn=collate_fn, pin_memory=False)\n",
    "    model = model.eval()\n",
    "    preds = []\n",
    "    for X, y in tqdm(test_loader):\n",
    "        X = X.to(device)\n",
    "        y = y.to(device)\n",
    "        yhat = model(X).detach()\n",
    "        preds.append(yhat.argmax(dim=-1).cpu())\n",
    "    preds = torch.cat(preds, dim=0).flatten()\n",
    "    return preds\n",
    "\n",
    "def predict_seq2seq(data, model, model_type, batch_size=32, collate_fn=None, device=device):\n",
    "    # returns sequence flattened predictions *and* sequence flattened targets (y, yhat)\n",
    "    # y.shape = yhat.shape = (bs * bptt,)\n",
    "    from torch.utils.data import DataLoader\n",
    "    data_loader = DataLoader(data, batch_size=batch_size, shuffle=False, collate_fn=collate_fn, pin_memory=False) \n",
    "    model = model.eval()\n",
    "    yhat = []\n",
    "    y = []\n",
    "    for X, Y in tqdm(data_loader):\n",
    "        X = X.to(device)\n",
    "        Y = Y.to(device)\n",
    "        bs, bptt = Y.shape\n",
    "        if model_type == 'seq2seq_rnn':\n",
    "            Yhat = model(X, h=None, Y=Y).detach()\n",
    "        if model_type == 'seq2seq_transformer':\n",
    "            Yhat = model(X, Y=Y).detach()\n",
    "        if model_type == 'lm_rnn':\n",
    "            Yhat = model(X, h=None).detach()\n",
    "        if model_type == 'lm_transformer':\n",
    "            Yhat = model(X).detach()\n",
    "        yhat.append(Yhat.reshape(bs * bptt, -1).argmax(dim=-1).cpu())\n",
    "        y.append(Y.reshape(bs * bptt, -1).cpu())\n",
    "    yhat = torch.cat(yhat, dim=0).flatten()\n",
    "    y = torch.cat(y, dim=0).flatten()\n",
    "    return yhat, y\n",
    "\n",
    "def func_over_batches(func, data, model, model_type=None, batch_size=32, collate_fn=None, device=device,\n",
    "                      flatten_seqs=False):\n",
    "    from torch.utils.data import DataLoader\n",
    "    data_loader = DataLoader(data, batch_size=batch_size, shuffle=False, collate_fn=collate_fn, pin_memory=False) \n",
    "    model = model.eval()\n",
    "    scores = []\n",
    "    for X, Y in tqdm(data_loader):\n",
    "        X = X.to(device)\n",
    "        Y = Y.to(device)\n",
    "        if model_type is None:\n",
    "            Yhat = model(X).detach()\n",
    "        if model_type == 'seq2seq_rnn':\n",
    "            Yhat = model(X, h=None, Y=Y).detach()\n",
    "        if model_type == 'seq2seq_transformer':\n",
    "            Yhat = model(X, Y=Y).detach()\n",
    "        if model_type == 'lm_rnn':\n",
    "            Yhat = model(X, h=None).detach()\n",
    "        if flatten_seqs:\n",
    "            bs, bptt = Y.shape\n",
    "            Yhat = Yhat.reshape(bs * bptt, -1).squeeze()\n",
    "            Y = Y.reshape(bs * bptt, -1).squeeze()\n",
    "        score = func(Yhat, Y)\n",
    "        scores.append(float(score))\n",
    "    return sum(scores) / len(scores)\n",
    "\n",
    "class Dataset:\n",
    "    def __init__(self, X, y):\n",
    "        self.X = X\n",
    "        self.y = y\n",
    "\n",
    "    def __len__(self):\n",
    "        return len(self.y)\n",
    "\n",
    "    def __getitem__(self, idx):\n",
    "        return self.X[idx], self.y[idx]\n",
    "    \n",
    "def garbage_collect():\n",
    "    import gc\n",
    "    return gc.collect()\n",
    "\n",
    "def text_from_iter(data_iter):\n",
    "    corpus = []\n",
    "    for text in data_iter:\n",
    "        corpus.append(text)\n",
    "    return corpus\n",
    "\n",
    "def accuracy(yhat, y):\n",
    "    return (y == yhat).sum().item() / len(y)\n",
    "\n",
    "def clean_text(tokens):\n",
    "    text = []\n",
    "    prev_token = '<bos>'\n",
    "    for token in tokens:\n",
    "        if token != '<unk>':\n",
    "            if prev_token == '<up>':\n",
    "                token = token.upper()\n",
    "            if prev_token == '<cap>':\n",
    "                token = token.title()\n",
    "        if token == '@-@':\n",
    "            token = '-'\n",
    "        if token not in ['<bos>', '<eos>', '<up>', '<cap>']:\n",
    "            text.append(token)\n",
    "        prev_token = token\n",
    "    return ' '.join(text)\n",
    "\n",
    "def generate_text(seed, model, vocab, tokenizer, max_len=20, temperature=0.5, device=device, skip_tokens=['<unk>']):\n",
    "    stoi, itos = vocab.get_stoi(), vocab.get_itos()\n",
    "    model = model.eval()\n",
    "    seed_tokens = ['<bos>'] + tokenizer(seed)\n",
    "    x = torch.tensor([stoi[word] for word in seed_tokens]).long().to(device)[None, :]\n",
    "    idxs = []\n",
    "    probs = []\n",
    "    idx_prev = stoi['<unk>']\n",
    "    for _ in range(max_len):\n",
    "        yhat = model(x)\n",
    "        prob = yhat[:, -1].softmax(dim=-1)\n",
    "        if (torch.rand(1) < temperature) or (idx_prev in [stoi[token] for token in skip_tokens]):\n",
    "            idx = torch.multinomial(prob, 1, replacement=True).item()\n",
    "        else:\n",
    "            idx = prob.argmax(-1).item()\n",
    "        idxs.append(idx)\n",
    "        probs.append(prob.unsqueeze(dim=1))\n",
    "        x = torch.cat([x, torch.ones(1, 1).fill_(idx).long().to(device)], dim=1)\n",
    "        idx_prev = idx\n",
    "        if itos[idx] == '<eos>':\n",
    "            break\n",
    "    probs = torch.cat(probs, dim=1)\n",
    "    generated = [itos[idx] for idx in idxs]\n",
    "    text = seed + ' ' + clean_text(generated)\n",
    "    return text\n",
    "\n",
    "def swa(train_data, model, optimizer, num_iters=1000, swa_lr=0.0001, batch_size=32, collate_fn=None):\n",
    "    train_loader = torch.utils.data.DataLoader(train_data, batch_size=batch_size, collate_fn=collate_fn)\n",
    "    swa_model = torch.optim.swa_utils.AveragedModel(model).to(device)\n",
    "    swa_scheduler = torch.optim.swa_utils.SWALR(optimizer, swa_lr=swa_lr)\n",
    "    for i in tqdm(range(num_iters)):\n",
    "        swa_model.update_parameters(model)\n",
    "        swa_scheduler.step()\n",
    "    torch.optim.swa_utils.update_bn(train_loader, swa_model)\n",
    "    return swa_model\n",
    "\n",
    "def gpu_mem_restore(func):\n",
    "    \"reclaim GPU RAM if CUDA out of memory happened, or execution was interrupted\"\n",
    "    \"execute by decorating functions with: @gpu_mem_restore; def func(...):\"\n",
    "    import functools, traceback\n",
    "    @functools.wraps(func)\n",
    "    def wrapper(*args, **kwargs):\n",
    "        try:\n",
    "            return func(*args, **kwargs)\n",
    "        except:\n",
    "            type, val, tb = sys.exc_info()\n",
    "            traceback.clear_frames(tb)\n",
    "            raise type(val).with_traceback(tb) from None\n",
    "    return wrapper\n",
    "\n",
    "class gpu_mem_restore_ctx():\n",
    "    \"context manager to reclaim GPU RAM if CUDA out of memory happened, or execution was interrupted\"\n",
    "    \"execute by calling with gpu_mem_restore_ctx(): <stuff>\"\n",
    "    import functools, traceback\n",
    "    def __enter__(self): return self\n",
    "    def __exit__(self, exc_type, exc_val, exc_tb):\n",
    "        if not exc_val: return True\n",
    "        traceback.clear_frames(exc_tb)\n",
    "        raise exc_type(exc_val).with_traceback(exc_tb) from None"
   ]
  },
  {
   "cell_type": "code",
   "execution_count": 5,
   "id": "b53f3a38",
   "metadata": {},
   "outputs": [],
   "source": [
    "class ModifiedTransformerEncoderLayer(nn.Module):\n",
    "    def __init__(self, d_model, nhead, dim_feedforward=2048, dropout=0.1, activation=F.relu, layer_norm_eps=1e-5, \n",
    "                 batch_first=True, norm_first=False, device=device, dtype=None, alpha=1, beta=1):\n",
    "        kwargs = {'device': device, 'dtype': dtype}\n",
    "        super().__init__()\n",
    "        self.self_attn = nn.MultiheadAttention(d_model, nhead, dropout=dropout, batch_first=batch_first, **kwargs)\n",
    "        self.linear1 = nn.Linear(d_model, dim_feedforward, **kwargs)\n",
    "        self.dropout = nn.Dropout(dropout)\n",
    "        self.linear2 = nn.Linear(dim_feedforward, d_model, **kwargs)\n",
    "        self.norm_first = norm_first if not (alpha == 1 and beta == 1) else False # deepnorm reqs post-norm\n",
    "        self.norm1 = nn.LayerNorm(d_model, eps=layer_norm_eps, **kwargs)\n",
    "        self.norm2 = nn.LayerNorm(d_model, eps=layer_norm_eps, **kwargs)\n",
    "        self.dropout1 = nn.Dropout(dropout)\n",
    "        self.dropout2 = nn.Dropout(dropout)\n",
    "        self.activation = activation\n",
    "        \n",
    "        self.alpha = alpha # NEW\n",
    "        self.beta = beta # NEW\n",
    "\n",
    "    def __setstate__(self, state):\n",
    "        if 'activation' not in state:\n",
    "            state['activation'] = F.relu\n",
    "        super().__setstate__(state)\n",
    "\n",
    "    def forward(self, x, src_mask=None, src_key_padding_mask=None):\n",
    "        if self.norm_first:\n",
    "            x = self.alpha * x + self._sa_block(self.norm1(x), src_mask, src_key_padding_mask) # UPDATED\n",
    "            x = self.alpha * x + self._ff_block(self.norm2(x)) # UPDATED\n",
    "        else:\n",
    "            x = self.norm1(self.alpha * x + self._sa_block(x, src_mask, src_key_padding_mask)) # UPDATED\n",
    "            x = self.norm2(self.alpha * x + self._ff_block(x)) # UPDATED\n",
    "        return x\n",
    "\n",
    "    def _sa_block(self, x, attn_mask, key_padding_mask):\n",
    "        q, k, v = x / self.beta, x / self.beta, x # NEW\n",
    "        x = self.self_attn(q, k, v, attn_mask=attn_mask, key_padding_mask=key_padding_mask, need_weights=False)[0]\n",
    "        return self.dropout1(x)\n",
    "\n",
    "    def _ff_block(self, x):\n",
    "        x = self.linear2(self.dropout(self.activation(self.linear1(x))))\n",
    "        return self.dropout2(x)\n",
    "    \n",
    "class PositionalEncoding(nn.Module):\n",
    "    def __init__(self, emb_size, max_len=5000, N=10_000, dropout=0.1):\n",
    "        super().__init__()\n",
    "        position = torch.arange(max_len)[:, None]\n",
    "        div_term = torch.exp(torch.arange(0, emb_size, 2) * (-torch.log(torch.tensor(N) / emb_size)))\n",
    "        self.encoding = torch.zeros(max_len, 1, emb_size)\n",
    "        self.encoding[:, 0, 0::2] = torch.sin(position * div_term)\n",
    "        self.encoding[:, 0, 1::2] = torch.cos(position * div_term)\n",
    "        self.dropout = nn.Dropout(p=dropout)\n",
    "\n",
    "    def forward(self, x):\n",
    "        # x.shape = y.shape = (batch_size, seq_len, emb_size)\n",
    "        batch_size = x.shape[0]\n",
    "        p = self.encoding[:batch_size].to(device)\n",
    "        x += p\n",
    "        y = self.dropout(x)\n",
    "        return y\n",
    "    \n",
    "class Seq2SeqTransformer(nn.Module):\n",
    "    def __init__(self, input_size, output_size, emb_size, num_layers=256, nhead=8, dropout=0.1, dim_feedforward=256,\n",
    "                 masking=False, max_len=1024, tie_weights=False, padding_idx=None):\n",
    "        super().__init__()\n",
    "        self.masking = masking\n",
    "        self.padding_idx = padding_idx\n",
    "        self.mask = torch.triu(torch.ones(max_len, max_len)*(-torch.inf), diagonal=1).to(device)\n",
    "        self.positional = PositionalEncoding(emb_size, dropout=dropout)\n",
    "        self.in_embedding = nn.Embedding(input_size, emb_size, padding_idx=padding_idx)\n",
    "        self.out_embedding = nn.Embedding(output_size, emb_size, padding_idx=padding_idx)\n",
    "        if tie_weights:\n",
    "            self.out_embedding.weight = self.in_embedding.weight\n",
    "        self.transformer = nn.Transformer(emb_size, nhead, num_layers, num_layers, dropout=dropout, batch_first=True, \n",
    "                                          dim_feedforward=dim_feedforward)\n",
    "        self.fc = nn.Linear(emb_size, output_size)\n",
    "        \n",
    "    def forward(self, X, Y=None):\n",
    "        # X.shape = Y.shape = (batch_size, seq_len)\n",
    "        # Yhat.shape = (batch_size, seq_len, output_size)\n",
    "        batch_size, seq_len = X.shape\n",
    "        mask = self.mask[:seq_len, :seq_len] if self.masking else None\n",
    "        pad_mask_X = (X == self.padding_idx) if self.padding_idx is not None else None\n",
    "        pad_mask_Y = (Y == self.padding_idx) if self.padding_idx is not None else None\n",
    "        X = self.in_embedding(X)\n",
    "        X = self.positional(X)\n",
    "        Y = self.out_embedding(Y)\n",
    "        Y = self.positional(Y)\n",
    "        Yhat = self.transformer(X, Y, mask, mask, None, pad_mask_X, pad_mask_Y)\n",
    "        del mask\n",
    "        Yhat = self.fc(Yhat)\n",
    "        return Yhat\n",
    "    \n",
    "    def encoder(self, X):\n",
    "        batch_size, seq_len = X.shape\n",
    "        mask = self.mask[:seq_len, :seq_len] if self.masking else None\n",
    "        pad_mask = (X == self.padding_idx) if self.padding_idx is not None else None\n",
    "        X = self.in_embedding(X)\n",
    "        X = self.positional(X)\n",
    "        Xhat = self.transformer.encoder(X, mask, pad_mask)\n",
    "        del mask\n",
    "        return Xhat\n",
    "    \n",
    "    def decoder(self, Y, Xhat):\n",
    "        batch_size, seq_len = Y.shape\n",
    "        mask = self.mask[:seq_len, :seq_len] if self.masking else None\n",
    "        pad_mask = (Y == self.padding_idx) if self.padding_idx is not None else None\n",
    "        Y = self.in_embedding(Y)\n",
    "        Y = self.positional(Y)\n",
    "        Yhat = self.transformer.decoder(Y, Xhat, mask, pad_mask)\n",
    "        del mask\n",
    "        return Yhat\n",
    "    \n",
    "class EncoderLM(nn.Module):\n",
    "    def __init__(self, vocab_size, emb_size, num_layers=3, nhead=8, dropout=0.1, dim_feedforward=256,\n",
    "                 masking=False, max_len=1024, padding_idx=None, deepnorm=False, activation=nn.GELU(),\n",
    "                 norm_first=False):\n",
    "        super().__init__()\n",
    "        self.masking = masking\n",
    "        self.padding_idx = padding_idx\n",
    "        self.emb_size = emb_size\n",
    "        self.alpha = (2 * num_layers)**(1/4) if deepnorm else 1\n",
    "        self.beta = (8 * num_layers)**(-1/4) if deepnorm else 1\n",
    "        self.mask = torch.triu(torch.ones(max_len, max_len)*(-torch.inf), diagonal=1).to(device)\n",
    "        self.positional = PositionalEncoding(emb_size, dropout=dropout)\n",
    "        self.embedding = nn.Embedding(vocab_size, emb_size, padding_idx=padding_idx)\n",
    "        self.transformer = nn.TransformerEncoder(ModifiedTransformerEncoderLayer(\n",
    "            emb_size, nhead=nhead, dim_feedforward=dim_feedforward, dropout=dropout, batch_first=True, \n",
    "            alpha=self.alpha, beta=self.beta, activation=activation, norm_first=norm_first), num_layers)\n",
    "        self.fc = nn.Linear(emb_size, vocab_size)\n",
    "        self.apply(self.init_weights)\n",
    "\n",
    "    def forward(self, X):\n",
    "        # X.shape = (batch_size, seq_len)\n",
    "        # Yhat.shape = (batch_size, seq_len, vocab_size)\n",
    "        batch_size, seq_len = X.shape\n",
    "        mask = self.mask[:seq_len, :seq_len] if self.masking else None\n",
    "        pad_mask = (X == self.padding_idx) if self.padding_idx is not None else None\n",
    "        X = self.embedding(X) * torch.sqrt(torch.tensor(self.emb_size))\n",
    "        X = self.positional(X)\n",
    "        X = self.transformer(X, mask, pad_mask)\n",
    "        X = self.fc(X)\n",
    "        return X\n",
    "    \n",
    "    def init_weights(self, layer):\n",
    "        if isinstance(layer, nn.modules.linear.Linear) or \\\n",
    "           isinstance(layer, nn.modules.sparse.Embedding) or \\\n",
    "           isinstance(layer, nn.modules.linear.NonDynamicallyQuantizableLinear):\n",
    "            torch.nn.init.xavier_normal_(layer.weight, gain=self.beta)\n",
    "            \n",
    "class Seq2SeqCrossEntropyLoss(nn.Module):\n",
    "    def __init__(self, **kwargs):\n",
    "        super().__init__()\n",
    "        self.loss_fn = nn.CrossEntropyLoss(**kwargs)\n",
    "\n",
    "    def forward(self, Yhat, Y):\n",
    "        bs, bptt = Y.shape[0], Y.shape[1]\n",
    "        y = Y.reshape(bs * bptt,)\n",
    "        yhat = Yhat.reshape(bs * bptt, -1)\n",
    "        loss = self.loss_fn(yhat, y).mean()\n",
    "        return loss"
   ]
  },
  {
   "cell_type": "markdown",
   "id": "718ab00c",
   "metadata": {},
   "source": [
    "## Language Model Training on Wikitext103"
   ]
  },
  {
   "cell_type": "code",
   "execution_count": 6,
   "id": "ec22e50b",
   "metadata": {},
   "outputs": [
    {
     "data": {
      "text/plain": [
       "(1805110, 4358)"
      ]
     },
     "execution_count": 6,
     "metadata": {},
     "output_type": "execute_result"
    }
   ],
   "source": [
    "train_iter = torchtext.datasets.WikiText103(split='train')\n",
    "val_iter = torchtext.datasets.WikiText103(split='valid')\n",
    "test_iter = torchtext.datasets.WikiText103(split='test')\n",
    "\n",
    "train_text = text_from_iter(train_iter) + text_from_iter(val_iter)\n",
    "test_text = text_from_iter(test_iter)\n",
    "len(train_text), len(test_text)"
   ]
  },
  {
   "cell_type": "code",
   "execution_count": 7,
   "id": "a3b9816a",
   "metadata": {},
   "outputs": [
    {
     "data": {
      "application/vnd.jupyter.widget-view+json": {
       "model_id": "92563b99e956467e99c8cc0255d32419",
       "version_major": 2,
       "version_minor": 0
      },
      "text/plain": [
       "  0%|          | 0/1805110 [00:00<?, ?it/s]"
      ]
     },
     "metadata": {},
     "output_type": "display_data"
    },
    {
     "data": {
      "application/vnd.jupyter.widget-view+json": {
       "model_id": "dd16f3479074488d9118d15595e2b272",
       "version_major": 2,
       "version_minor": 0
      },
      "text/plain": [
       "  0%|          | 0/4358 [00:00<?, ?it/s]"
      ]
     },
     "metadata": {},
     "output_type": "display_data"
    }
   ],
   "source": [
    "def sub_special_tokens(text):\n",
    "    # put <up> token before words in all caps (easy way to recognize info from capitalizing a word)\n",
    "    text = re.sub(r'(\\b[A-Z][A-Z0-9]*\\b)', r' <up> \\1 ', text)\n",
    "    # put <cap> token before words with capitalized first letter (easy way to recognize first word in a sentence)\n",
    "    text = re.sub(r'(\\b[A-Z][a-z0-9]+\\b)', r' <cap> \\1 ', text)\n",
    "    return text\n",
    "\n",
    "min_tokens = 5\n",
    "max_tokens = 512\n",
    "\n",
    "tokenizer = torchtext.data.utils.get_tokenizer('basic_english')\n",
    "# sp_path = r\"https://download.pytorch.org/models/text/xlmr.sentencepiece.bpe.model\"\n",
    "# sp_model = torchtext.data.functional.load_sp_model(sp_path)\n",
    "# tokenizer = torchtext.data.functional.sentencepiece_tokenizer(sp_model)\n",
    "train_data = [tokenizer(sub_special_tokens(doc)) for doc in tqdm(train_text)]\n",
    "test_data = [tokenizer(sub_special_tokens(doc)) for doc in tqdm(test_text)]\n",
    "\n",
    "train_data = [['<bos>'] + doc[:max_tokens] + ['<eos>'] for doc in train_data if len(doc) > min_tokens]\n",
    "test_data = [['<bos>'] + doc[:max_tokens] + ['<eos>'] for doc in test_data if len(doc) > min_tokens]"
   ]
  },
  {
   "cell_type": "code",
   "execution_count": 8,
   "id": "aa265172",
   "metadata": {},
   "outputs": [
    {
     "data": {
      "text/plain": [
       "30000"
      ]
     },
     "execution_count": 8,
     "metadata": {},
     "output_type": "execute_result"
    }
   ],
   "source": [
    "vocab_size = 30_000\n",
    "specials = ['<unk>', '<pad>', '<bos>', '<eos>', '<up>', '<cap>']\n",
    "vocab = torchtext.vocab.build_vocab_from_iterator(train_data, max_tokens=vocab_size+1, specials=specials, \n",
    "                                                  special_first=True)\n",
    "vocab.set_default_index(vocab['<unk>']) # must do this to deal with unknown tokens or will get key errors!\n",
    "stoi = vocab.get_stoi()\n",
    "itos = vocab.get_itos()\n",
    "vocab_size"
   ]
  },
  {
   "cell_type": "code",
   "execution_count": 9,
   "id": "1031003c",
   "metadata": {},
   "outputs": [
    {
     "data": {
      "text/plain": [
       "(1140799, 2758)"
      ]
     },
     "execution_count": 9,
     "metadata": {},
     "output_type": "execute_result"
    }
   ],
   "source": [
    "len(train_data), len(test_data)"
   ]
  },
  {
   "cell_type": "code",
   "execution_count": 10,
   "id": "b6bf8884",
   "metadata": {},
   "outputs": [
    {
     "data": {
      "text/plain": [
       "(torch.Size([10, 318]), torch.Size([10, 318]))"
      ]
     },
     "execution_count": 10,
     "metadata": {},
     "output_type": "execute_result"
    }
   ],
   "source": [
    "def collate_fn(batch, vocab=vocab):\n",
    "    from torch.nn.utils.rnn import pad_sequence\n",
    "    stoi = vocab.get_stoi()\n",
    "    pad_token = stoi['<pad>']\n",
    "    X = [torch.tensor(vocab(doc)).long() for doc in batch]\n",
    "    X = pad_sequence(X, batch_first=True, padding_value=pad_token)\n",
    "    Y = torch.roll(X, shifts=-1, dims=1)\n",
    "    Y[:, -1] = pad_token\n",
    "    return X, Y\n",
    "\n",
    "batch = train_data[:10]\n",
    "X, Y = collate_fn(batch, vocab=vocab)\n",
    "X.shape, Y.shape"
   ]
  },
  {
   "cell_type": "code",
   "execution_count": 11,
   "id": "61fd459c",
   "metadata": {},
   "outputs": [],
   "source": [
    "vocab_size = len(vocab)\n",
    "emb_size = 768\n",
    "dim_feedforward = 2048\n",
    "num_layers = 8\n",
    "nhead = 12\n",
    "padding_idx = stoi['<pad>']"
   ]
  },
  {
   "cell_type": "code",
   "execution_count": 13,
   "id": "0abb6a3c",
   "metadata": {},
   "outputs": [
    {
     "name": "stdout",
     "output_type": "stream",
     "text": [
      "90215724\n"
     ]
    }
   ],
   "source": [
    "model = EncoderLM(vocab_size, emb_size, num_layers=num_layers, nhead=nhead, dim_feedforward=dim_feedforward,\n",
    "                  masking=True, padding_idx=padding_idx, dropout=0.1, max_len=525, deepnorm=True).to(device)\n",
    "print(sum([p.numel() for p in model.parameters()]))\n",
    "del model\n",
    "garbage_collect()\n",
    "torch.cuda.empty_cache()"
   ]
  },
  {
   "cell_type": "code",
   "execution_count": 14,
   "id": "731602d8",
   "metadata": {},
   "outputs": [
    {
     "data": {
      "text/html": [
       "\n",
       "<style>\n",
       "    /* Turns off some styling */\n",
       "    progress {\n",
       "        /* gets rid of default border in Firefox and Opera. */\n",
       "        border: none;\n",
       "        /* Needs to be in here for Safari polyfill so background images work as expected. */\n",
       "        background-size: auto;\n",
       "    }\n",
       "    .progress-bar-interrupted, .progress-bar-interrupted::-webkit-progress-bar {\n",
       "        background: #F44336;\n",
       "    }\n",
       "</style>\n"
      ],
      "text/plain": [
       "<IPython.core.display.HTML object>"
      ]
     },
     "metadata": {},
     "output_type": "display_data"
    },
    {
     "data": {
      "text/html": [],
      "text/plain": [
       "<IPython.core.display.HTML object>"
      ]
     },
     "metadata": {},
     "output_type": "display_data"
    },
    {
     "data": {
      "text/plain": [
       "SuggestedLRs(valley=9.120108734350652e-05)"
      ]
     },
     "execution_count": 14,
     "metadata": {},
     "output_type": "execute_result"
    },
    {
     "data": {
      "image/png": "[encoded data removed]",
      "text/plain": [
       "<Figure size 432x288 with 1 Axes>"
      ]
     },
     "metadata": {
      "needs_background": "light"
     },
     "output_type": "display_data"
    }
   ],
   "source": [
    "batch_size = 16\n",
    "train_loader = DataLoader(train_data, batch_size=batch_size, collate_fn=collate_fn, num_workers=1,\n",
    "                          pin_memory=True, shuffle=True)\n",
    "test_loader = DataLoader(test_data, batch_size=batch_size, collate_fn=collate_fn, num_workers=1,\n",
    "                         pin_memory=True, shuffle=False)\n",
    "dls = fastai.DataLoaders(train_loader, test_loader)\n",
    "\n",
    "model = EncoderLM(vocab_size, emb_size, num_layers=num_layers, nhead=nhead, dim_feedforward=dim_feedforward,\n",
    "                  masking=True, padding_idx=padding_idx, dropout=0.07, max_len=525, deepnorm=True).to(device)\n",
    "loss_fn = Seq2SeqCrossEntropyLoss(ignore_index=padding_idx)\n",
    "\n",
    "learn = Learner(dls, model, loss_func=loss_fn, metrics=fastai.accuracy, opt_func=fastai.Adam,\n",
    "                cbs=[fastai.GradientClip]) #, fastai.MixedPrecision])\n",
    "learn.lr_find()"
   ]
  },
  {
   "cell_type": "code",
   "execution_count": 82,
   "id": "e8778f98",
   "metadata": {},
   "outputs": [],
   "source": [
    "learn.fit_one_cycle(1, 1e-4) # train loss: 3.396, test loss: 3.647\n",
    "torch.save(learn.model.state_dict(), model_path / 'lm_8_layers.pth')\n",
    "torch.save(vocab, model_path / 'vocab_8_layers.pth')"
   ]
  },
  {
   "cell_type": "code",
   "execution_count": 12,
   "id": "5285735b",
   "metadata": {},
   "outputs": [],
   "source": [
    "train_sample = np.random.choice(train_data, size=200_000)"
   ]
  },
  {
   "cell_type": "code",
   "execution_count": 13,
   "id": "b1bf9aa0",
   "metadata": {},
   "outputs": [],
   "source": [
    "batch_size = 16\n",
    "train_loader = DataLoader(train_sample, batch_size=batch_size, collate_fn=collate_fn, num_workers=1,\n",
    "                          pin_memory=True, shuffle=True)\n",
    "test_loader = DataLoader(test_data, batch_size=batch_size, collate_fn=collate_fn, num_workers=1,\n",
    "                         pin_memory=True, shuffle=False)\n",
    "dls = fastai.DataLoaders(train_loader, test_loader)\n",
    "\n",
    "model = EncoderLM(vocab_size, emb_size, num_layers=num_layers, nhead=8, dim_feedforward=dim_feedforward,\n",
    "                  masking=True, padding_idx=padding_idx, dropout=0.1, max_len=525, deepnorm=True).to(device)\n",
    "model.load_state_dict(torch.load(model_path / 'lm_8_layers.pth', map_location=torch.device(device)))\n",
    "vocab = torch.load(model_path / 'vocab_8_layers.pth')\n",
    "\n",
    "loss_fn = Seq2SeqCrossEntropyLoss(ignore_index=padding_idx)\n",
    "\n",
    "learn = Learner(dls, model, loss_func=loss_fn, metrics=fastai.accuracy, opt_func=fastai.Adam,\n",
    "                cbs=[fastai.GradientClip])\n",
    "\n",
    "# learn.lr_find(start_lr=1e-8, end_lr=1e-3)"
   ]
  },
  {
   "cell_type": "code",
   "execution_count": 14,
   "id": "f95926c2",
   "metadata": {},
   "outputs": [
    {
     "data": {
      "text/html": [
       "\n",
       "<style>\n",
       "    /* Turns off some styling */\n",
       "    progress {\n",
       "        /* gets rid of default border in Firefox and Opera. */\n",
       "        border: none;\n",
       "        /* Needs to be in here for Safari polyfill so background images work as expected. */\n",
       "        background-size: auto;\n",
       "    }\n",
       "    .progress-bar-interrupted, .progress-bar-interrupted::-webkit-progress-bar {\n",
       "        background: #F44336;\n",
       "    }\n",
       "</style>\n"
      ],
      "text/plain": [
       "<IPython.core.display.HTML object>"
      ]
     },
     "metadata": {},
     "output_type": "display_data"
    },
    {
     "data": {
      "text/html": [
       "<table border=\"1\" class=\"dataframe\">\n",
       "  <thead>\n",
       "    <tr style=\"text-align: left;\">\n",
       "      <th>epoch</th>\n",
       "      <th>train_loss</th>\n",
       "      <th>valid_loss</th>\n",
       "      <th>accuracy</th>\n",
       "      <th>time</th>\n",
       "    </tr>\n",
       "  </thead>\n",
       "  <tbody>\n",
       "    <tr>\n",
       "      <td>0</td>\n",
       "      <td>3.495250</td>\n",
       "      <td>3.399788</td>\n",
       "      <td>0.155488</td>\n",
       "      <td>1:16:16</td>\n",
       "    </tr>\n",
       "  </tbody>\n",
       "</table>"
      ],
      "text/plain": [
       "<IPython.core.display.HTML object>"
      ]
     },
     "metadata": {},
     "output_type": "display_data"
    }
   ],
   "source": [
    "learn.fit_one_cycle(1, 5e-5, wd=1e-10)\n",
    "torch.save(learn.model.state_dict(), model_path / 'lm_8_layers.pth')\n",
    "torch.save(vocab, model_path / 'vocab_8_layers.pth')"
   ]
  },
  {
   "cell_type": "code",
   "execution_count": 14,
   "id": "24a5d294",
   "metadata": {},
   "outputs": [
    {
     "data": {
      "text/html": [
       "\n",
       "<style>\n",
       "    /* Turns off some styling */\n",
       "    progress {\n",
       "        /* gets rid of default border in Firefox and Opera. */\n",
       "        border: none;\n",
       "        /* Needs to be in here for Safari polyfill so background images work as expected. */\n",
       "        background-size: auto;\n",
       "    }\n",
       "    .progress-bar-interrupted, .progress-bar-interrupted::-webkit-progress-bar {\n",
       "        background: #F44336;\n",
       "    }\n",
       "</style>\n"
      ],
      "text/plain": [
       "<IPython.core.display.HTML object>"
      ]
     },
     "metadata": {},
     "output_type": "display_data"
    },
    {
     "data": {
      "text/html": [
       "<table border=\"1\" class=\"dataframe\">\n",
       "  <thead>\n",
       "    <tr style=\"text-align: left;\">\n",
       "      <th>epoch</th>\n",
       "      <th>train_loss</th>\n",
       "      <th>valid_loss</th>\n",
       "      <th>accuracy</th>\n",
       "      <th>time</th>\n",
       "    </tr>\n",
       "  </thead>\n",
       "  <tbody>\n",
       "    <tr>\n",
       "      <td>0</td>\n",
       "      <td>3.466055</td>\n",
       "      <td>3.392943</td>\n",
       "      <td>0.155903</td>\n",
       "      <td>2:31:09</td>\n",
       "    </tr>\n",
       "  </tbody>\n",
       "</table>"
      ],
      "text/plain": [
       "<IPython.core.display.HTML object>"
      ]
     },
     "metadata": {},
     "output_type": "display_data"
    }
   ],
   "source": [
    "learn.fit_one_cycle(1, 2e-6, wd=1e-10)"
   ]
  },
  {
   "cell_type": "code",
   "execution_count": 16,
   "id": "5e18ada4",
   "metadata": {},
   "outputs": [],
   "source": [
    "torch.save(learn.model.state_dict(), model_path / 'lm_8_layers.pth')\n",
    "torch.save(vocab, model_path / 'vocab_8_layers.pth')"
   ]
  },
  {
   "cell_type": "code",
   "execution_count": 17,
   "id": "e730fe3a",
   "metadata": {},
   "outputs": [
    {
     "data": {
      "application/vnd.jupyter.widget-view+json": {
       "model_id": "a4587edd715546bf915b7be6cc0bc56d",
       "version_major": 2,
       "version_minor": 0
      },
      "text/plain": [
       "  0%|          | 0/345 [00:00<?, ?it/s]"
      ]
     },
     "metadata": {},
     "output_type": "display_data"
    },
    {
     "data": {
      "text/plain": [
       "(torch.Size([614864]), torch.Size([614864]))"
      ]
     },
     "execution_count": 17,
     "metadata": {},
     "output_type": "execute_result"
    }
   ],
   "source": [
    "y, yhat = predict_seq2seq(test_data, learn.model, model_type='lm_transformer', batch_size=8, collate_fn=collate_fn)\n",
    "y.shape, yhat.shape"
   ]
  },
  {
   "cell_type": "code",
   "execution_count": 18,
   "id": "2ad2f667",
   "metadata": {},
   "outputs": [
    {
     "data": {
      "text/plain": [
       "0.17513629030159514"
      ]
     },
     "execution_count": 18,
     "metadata": {},
     "output_type": "execute_result"
    }
   ],
   "source": [
    "acc = accuracy(y, yhat)\n",
    "acc"
   ]
  },
  {
   "cell_type": "code",
   "execution_count": 19,
   "id": "2b2006e7",
   "metadata": {},
   "outputs": [
    {
     "data": {
      "application/vnd.jupyter.widget-view+json": {
       "model_id": "8d4d3de2720c44feb0e1106af5411c45",
       "version_major": 2,
       "version_minor": 0
      },
      "text/plain": [
       "  0%|          | 0/173 [00:00<?, ?it/s]"
      ]
     },
     "metadata": {},
     "output_type": "display_data"
    },
    {
     "data": {
      "text/plain": [
       "3.3924907935148028"
      ]
     },
     "execution_count": 19,
     "metadata": {},
     "output_type": "execute_result"
    }
   ],
   "source": [
    "loss_fn = nn.CrossEntropyLoss(ignore_index=padding_idx)\n",
    "loss = func_over_batches(loss_fn, test_data, learn.model, batch_size=16, collate_fn=collate_fn, flatten_seqs=True)\n",
    "loss"
   ]
  },
  {
   "cell_type": "code",
   "execution_count": 20,
   "id": "6d2147cf",
   "metadata": {},
   "outputs": [],
   "source": [
    "skip_tokens = ['<unk>', '.']"
   ]
  },
  {
   "cell_type": "code",
   "execution_count": 21,
   "id": "5e5619b3",
   "metadata": {},
   "outputs": [
    {
     "name": "stdout",
     "output_type": "stream",
     "text": [
      "This is a story about his father ' s life . He travels to Jacksonville , Florida , where he visits Sixteenth Thomas Street , where he encounters <unk> ( <unk> Street ) , a military component . He is promptly arrested by <unk> , and unsuccessful , although he is adept at firing his shotgun . He claims he extensively on the security arrangements by accurate space and <unk> , and is unsuccessful . He is also mr . <unk> Street and takes his name from the <unk>\n"
     ]
    }
   ],
   "source": [
    "seed = 'This is a story about'\n",
    "print(generate_text(seed, model, vocab, tokenizer, max_len=100, temperature=0.7, skip_tokens=skip_tokens))"
   ]
  },
  {
   "cell_type": "code",
   "execution_count": 22,
   "id": "326e6380",
   "metadata": {},
   "outputs": [
    {
     "data": {
      "application/vnd.jupyter.widget-view+json": {
       "model_id": "9f2b193655d64c9ea4f59969a0bcfd9e",
       "version_major": 2,
       "version_minor": 0
      },
      "text/plain": [
       "  0%|          | 0/10000 [00:00<?, ?it/s]"
      ]
     },
     "metadata": {},
     "output_type": "display_data"
    }
   ],
   "source": [
    "opt = torch.optim.Adam(model.parameters(), lr=5e-4, weight_decay=0)\n",
    "swa_model = swa(train_data, model, opt, swa_lr=3e-6, num_iters=10_000, batch_size=16)"
   ]
  },
  {
   "cell_type": "code",
   "execution_count": 23,
   "id": "73e36d29",
   "metadata": {},
   "outputs": [
    {
     "data": {
      "application/vnd.jupyter.widget-view+json": {
       "model_id": "1875b52c4d7445bcbf46ca209e6b2126",
       "version_major": 2,
       "version_minor": 0
      },
      "text/plain": [
       "  0%|          | 0/230 [00:00<?, ?it/s]"
      ]
     },
     "metadata": {},
     "output_type": "display_data"
    },
    {
     "data": {
      "application/vnd.jupyter.widget-view+json": {
       "model_id": "ea4355b022b641d091edb8d26b8ddfe7",
       "version_major": 2,
       "version_minor": 0
      },
      "text/plain": [
       "  0%|          | 0/230 [00:00<?, ?it/s]"
      ]
     },
     "metadata": {},
     "output_type": "display_data"
    },
    {
     "data": {
      "text/plain": [
       "(3.395088297387828, 0.16128495937881948)"
      ]
     },
     "execution_count": 23,
     "metadata": {},
     "output_type": "execute_result"
    }
   ],
   "source": [
    "y, yhat = predict_seq2seq(test_data, swa_model, model_type='lm_transformer', batch_size=12, collate_fn=collate_fn)\n",
    "loss_fn = nn.CrossEntropyLoss(ignore_index=padding_idx)\n",
    "loss = func_over_batches(loss_fn, test_data, swa_model, batch_size=12, collate_fn=collate_fn, flatten_seqs=True)\n",
    "acc = accuracy(y, yhat)\n",
    "loss, acc"
   ]
  },
  {
   "cell_type": "code",
   "execution_count": 24,
   "id": "1d88a53e",
   "metadata": {},
   "outputs": [
    {
     "name": "stdout",
     "output_type": "stream",
     "text": [
      "This is a story about civil war that follows the Great War of the United States . According to <unk> , the Great War Memorial is sometimes referred to as the Fourth Civil War memorial at a <unk> with Britain ' s War Memorial Memorial Chapel .\n"
     ]
    }
   ],
   "source": [
    "seed = 'This is a story about'\n",
    "print(generate_text(seed, swa_model, vocab, tokenizer, max_len=100, temperature=0.7))"
   ]
  },
  {
   "cell_type": "code",
   "execution_count": null,
   "id": "5af666b4",
   "metadata": {},
   "outputs": [],
   "source": []
  },
  {
   "cell_type": "code",
   "execution_count": 23,
   "id": "1f8753ab",
   "metadata": {},
   "outputs": [
    {
     "data": {
      "text/plain": [
       "0"
      ]
     },
     "execution_count": 23,
     "metadata": {},
     "output_type": "execute_result"
    }
   ],
   "source": [
    "del train_loader\n",
    "del test_loader\n",
    "del dls\n",
    "del loss_fn\n",
    "del model\n",
    "learn.destroy()\n",
    "del learn\n",
    "torch.cuda.empty_cache()\n",
    "garbage_collect()"
   ]
  },
  {
   "cell_type": "code",
   "execution_count": null,
   "id": "ee445a43",
   "metadata": {},
   "outputs": [],
   "source": []
  },
  {
   "cell_type": "code",
   "execution_count": null,
   "id": "e3e19440",
   "metadata": {},
   "outputs": [],
   "source": []
  },
  {
   "cell_type": "code",
   "execution_count": null,
   "id": "55d60cba",
   "metadata": {},
   "outputs": [],
   "source": []
  }
 ],
 "metadata": {
  "kernelspec": {
   "display_name": "Python 3 (ipykernel)",
   "language": "python",
   "name": "python3"
  },
  "language_info": {
   "codemirror_mode": {
    "name": "ipython",
    "version": 3
   },
   "file_extension": ".py",
   "mimetype": "text/x-python",
   "name": "python",
   "nbconvert_exporter": "python",
   "pygments_lexer": "ipython3",
   "version": "3.10.4"
  }
 },
 "nbformat": 4,
 "nbformat_minor": 5
}
