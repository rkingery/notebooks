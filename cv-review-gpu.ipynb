{
 "cells": [
  {
   "cell_type": "code",
   "execution_count": 1,
   "id": "1b6673a1",
   "metadata": {},
   "outputs": [
    {
     "data": {
      "text/plain": [
       "<torch._C.Generator at 0x7faf489a6770>"
      ]
     },
     "execution_count": 1,
     "metadata": {},
     "output_type": "execute_result"
    }
   ],
   "source": [
    "import numpy as np\n",
    "import matplotlib.pyplot as plt\n",
    "import torch\n",
    "import torch.nn as nn\n",
    "import torchvision\n",
    "import PIL\n",
    "import urllib\n",
    "from tqdm.notebook import tqdm\n",
    "\n",
    "# import timm\n",
    "# import fastai.vision.all as fastai\n",
    "# from fastai.callback.schedule import Learner\n",
    "\n",
    "# from torch.utils.tensorboard import SummaryWriter\n",
    "from tensorboardX import SummaryWriter\n",
    "%load_ext tensorboard\n",
    "\n",
    "seed = 42\n",
    "np.random.seed(seed + 1)\n",
    "torch.manual_seed(seed)"
   ]
  },
  {
   "cell_type": "code",
   "execution_count": 2,
   "id": "d59520bb",
   "metadata": {},
   "outputs": [
    {
     "name": "stdout",
     "output_type": "stream",
     "text": [
      "device: mps\n"
     ]
    }
   ],
   "source": [
    "def get_device():\n",
    "    if torch.cuda.is_available():\n",
    "        device = 'cuda'\n",
    "    elif torch.backends.mps.is_available():\n",
    "        device = 'mps'\n",
    "    else:\n",
    "        device = 'cpu'\n",
    "    return device\n",
    "\n",
    "device = get_device()\n",
    "\n",
    "print(f'device: {device}')"
   ]
  },
  {
   "cell_type": "code",
   "execution_count": 2,
   "id": "35f409f1",
   "metadata": {},
   "outputs": [],
   "source": [
    "def get_mnist_data(path='~/data', as_rgb=False, download=False, transforms=[]):\n",
    "    reshape = lambda x: x\n",
    "    if as_rgb:\n",
    "        reshape = lambda x: x.repeat(3, 1, 1)\n",
    "    train_data = torchvision.datasets.MNIST(\n",
    "        path,\n",
    "        download=download,\n",
    "        train=True,\n",
    "        transform=torchvision.transforms.Compose([\n",
    "            *transforms,\n",
    "            torchvision.transforms.ToTensor(),\n",
    "            torchvision.transforms.Lambda(reshape),\n",
    "            torchvision.transforms.Normalize((0.1307,), (0.3081,))\n",
    "        ])\n",
    "    )\n",
    "    test_data = torchvision.datasets.MNIST(\n",
    "        path,\n",
    "        download=download,\n",
    "        train=False,\n",
    "        transform=torchvision.transforms.Compose([\n",
    "            torchvision.transforms.ToTensor(),\n",
    "            torchvision.transforms.Lambda(reshape),\n",
    "            torchvision.transforms.Normalize((0.1307,), (0.3081,))\n",
    "        ])\n",
    "    )\n",
    "    \n",
    "    return train_data, test_data\n",
    "\n",
    "def get_optimizer(model, optimizer='sgd', lr=0.001, weight_decay=0, momentum=0, betas=(0.9, 0.999), eps=1e-8):\n",
    "    if optimizer == 'sgd':\n",
    "        opt = torch.optim.SGD(\n",
    "            model.parameters(),\n",
    "            lr=lr, \n",
    "            weight_decay=weight_decay, \n",
    "            momentum=momentum\n",
    "        )\n",
    "    if optimizer == 'adam':\n",
    "        opt = torch.optim.Adam(\n",
    "            model.parameters(),\n",
    "            lr=lr,\n",
    "            weight_decay=weight_decay,\n",
    "            betas=betas,\n",
    "            eps=eps\n",
    "        )\n",
    "    return opt\n",
    "\n",
    "def train_model(train_data, model, opt, loss_fn, test_data=None, num_epochs=1000, plot_loss=True, batch_size=32,\n",
    "               tensorboard=False, print_loss=True, show_batches_bar=False):\n",
    "    if tensorboard:\n",
    "        writer = SummaryWriter()\n",
    "    losses = []\n",
    "    train_loader = torch.utils.data.DataLoader(train_data, batch_size=batch_size, shuffle=True)\n",
    "    if test_data is not None:\n",
    "        test_loader = torch.utils.data.DataLoader(test_data, batch_size=batch_size, shuffle=True)\n",
    "    for epoch in tqdm(range(num_epochs)):\n",
    "        model = model.train()\n",
    "        batch_losses = []\n",
    "        batch_correct = []\n",
    "        iterator = tqdm(train_loader, leave=False) if show_batches_bar else train_loader\n",
    "        for X, y in iterator:\n",
    "            X = X.to(device)\n",
    "            y = y.to(device)\n",
    "            opt.zero_grad()\n",
    "            yhat = model(X)\n",
    "            loss = loss_fn(yhat, y)\n",
    "            loss.backward()\n",
    "            opt.step()\n",
    "            batch_losses.append(float(loss)* batch_size)\n",
    "            batch_correct.append(float((yhat.argmax(dim=1) == y).sum().cpu()))\n",
    "        train_loss = sum(batch_losses) / len(train_data)\n",
    "        train_acc = sum(batch_correct) / len(train_data)\n",
    "        losses.append(train_loss)\n",
    "        \n",
    "\n",
    "        if test_data is not None:\n",
    "            model = model.eval()\n",
    "            batch_losses = []\n",
    "            batch_correct = []\n",
    "            iterator = tqdm(test_loader, leave=False) if show_batches_bar else test_loader\n",
    "            for X, y in iterator:\n",
    "                X = X.to(device)\n",
    "                y = y.to(device)\n",
    "                opt.zero_grad()\n",
    "                yhat = model(X)\n",
    "                loss = loss_fn(yhat, y)\n",
    "                batch_losses.append(float(loss) * batch_size)\n",
    "                batch_correct.append(float((yhat.argmax(dim=1) == y).sum().cpu()))\n",
    "            test_loss = sum(batch_losses) / len(test_data)\n",
    "            test_acc = sum(batch_correct) / len(test_data)\n",
    "        else:\n",
    "            test_loss = -999\n",
    "            test_acc = -999\n",
    "\n",
    "        if tensorboard:\n",
    "            writer.add_scalar(\"Training Loss\", train_loss, epoch+1)\n",
    "            writer.add_scalar(\"Training Accuracy\", train_acc, epoch+1)\n",
    "            writer.add_scalar(\"Test Loss\", test_loss, epoch+1)\n",
    "            writer.add_scalar(\"Test Accuracy\", test_acc, epoch+1)\n",
    "        if print_loss:\n",
    "            s1 = f'epoch: {epoch+1: <3}   ' \n",
    "            s2 = f'train loss: {round(train_loss, 4): <6}   train acc: {round(train_acc, 4): <6}   ' \n",
    "            s3 = f'test loss: {round(test_loss, 4): <6}   test acc: {round(test_acc, 4): <6}'\n",
    "            print(s1 + s2 + s3)\n",
    "    if plot_loss:\n",
    "        plt.plot(range(len(losses)), losses)\n",
    "    if tensorboard:\n",
    "        writer.flush()\n",
    "        writer.close()\n",
    "    return model\n",
    "\n",
    "def get_n_params(model):\n",
    "    n_params = sum(p.numel() for p in model.parameters() if p.requires_grad)\n",
    "    return n_params\n",
    "\n",
    "def eval_model(model, X_train, y_train, X_test, y_test):\n",
    "    model = model.eval().to('cpu')\n",
    "    y_pred_train = model(X_train).argmax(dim=1)\n",
    "    y_pred_test = model(X_test).argmax(dim=1)\n",
    "    print(f'train accuracy: {(y_pred_train == y_train).sum() / len(y_train)}')\n",
    "    print(f'test accuracy: {(y_pred_test == y_test).sum() / len(y_test)}')"
   ]
  },
  {
   "cell_type": "code",
   "execution_count": 3,
   "id": "3b35f23f",
   "metadata": {},
   "outputs": [],
   "source": [
    "train_data, test_data = get_mnist_data(path='~/data', as_rgb=True, download=False)"
   ]
  },
  {
   "cell_type": "code",
   "execution_count": 4,
   "id": "17ea0e67",
   "metadata": {},
   "outputs": [
    {
     "data": {
      "text/plain": [
       "(torch.Size([60000, 28, 28]),\n",
       " torch.Size([60000]),\n",
       " torch.Size([10000, 28, 28]),\n",
       " torch.Size([10000]))"
      ]
     },
     "execution_count": 4,
     "metadata": {},
     "output_type": "execute_result"
    }
   ],
   "source": [
    "train_data.data.shape, train_data.targets.shape, test_data.data.shape, test_data.targets.shape"
   ]
  },
  {
   "cell_type": "code",
   "execution_count": 5,
   "id": "7817a706",
   "metadata": {},
   "outputs": [],
   "source": [
    "X_train = torch.stack([x for x,y in train_data]).float()\n",
    "y_train = torch.tensor([y for x,y in train_data]).float()\n",
    "X_test = torch.stack([x for x,y in test_data]).float()\n",
    "y_test = torch.tensor([y for x,y in test_data]).float()"
   ]
  },
  {
   "cell_type": "markdown",
   "id": "178421b0",
   "metadata": {},
   "source": [
    "# Cuda"
   ]
  },
  {
   "cell_type": "code",
   "execution_count": 6,
   "id": "ed00cd33",
   "metadata": {},
   "outputs": [
    {
     "data": {
      "text/plain": [
       "(torch.Size([32, 3, 28, 28]), torch.Size([32]))"
      ]
     },
     "execution_count": 6,
     "metadata": {},
     "output_type": "execute_result"
    }
   ],
   "source": [
    "train_loader = torch.utils.data.DataLoader(train_data, batch_size=32, shuffle=True)\n",
    "test_loader = torch.utils.data.DataLoader(test_data, batch_size=32, shuffle=True)\n",
    "\n",
    "x, y = next(iter(train_loader))\n",
    "x.shape, y.shape"
   ]
  },
  {
   "cell_type": "code",
   "execution_count": 7,
   "id": "a2bccaad",
   "metadata": {},
   "outputs": [
    {
     "data": {
      "text/plain": [
       "(-1, -1)"
      ]
     },
     "execution_count": 7,
     "metadata": {},
     "output_type": "execute_result"
    }
   ],
   "source": [
    "x.get_device(), y.get_device() # -1 = cpu, 0 = gpu"
   ]
  },
  {
   "cell_type": "code",
   "execution_count": 8,
   "id": "5c663e16",
   "metadata": {},
   "outputs": [
    {
     "data": {
      "text/plain": [
       "(0, 0)"
      ]
     },
     "execution_count": 8,
     "metadata": {},
     "output_type": "execute_result"
    }
   ],
   "source": [
    "x = x.to(device)\n",
    "y = y.to(device)\n",
    "\n",
    "x.get_device(), y.get_device()"
   ]
  },
  {
   "cell_type": "markdown",
   "id": "c584c891",
   "metadata": {},
   "source": [
    "# Transfer Learning\n",
    "\n",
    "Idea: Large pretrained models trained on lots of data have learned how to extract visual features really well. Take that pretrained model, add a new output layer, and just finetune that new layer on your new data. In a sense, transfer learning gives you a better initialization than starting randomly.\n",
    "\n",
    "Steps: Given some labeled data and a pretrained model trained on a much bigger dataset,\n",
    "- Remove the original output layer from that model\n",
    "- Add one or more new, initialized output layers that matches your number of classes\n",
    "- Keeping the earlier layers in the pretrained model fixed, finetune just that last layer on your data\n",
    "- If desired, unfreeze the earlier pretrained layers and finetune those as well\n",
    "\n",
    "Tip: If just finetuning the last layer, pre-extract the features from the frozen pretrained network to save on computation."
   ]
  },
  {
   "cell_type": "code",
   "execution_count": 9,
   "id": "88a56709",
   "metadata": {},
   "outputs": [],
   "source": [
    "# way too slow on CPU\n",
    "# freeze all but last 3 layer groups, and replace last fc layer with new random layer\n",
    "\n",
    "model = torchvision.models.resnet18(pretrained=True)\n",
    "\n",
    "for param in model.parameters():\n",
    "    param.requires_grad = False\n",
    "    \n",
    "for layer in [model.layer3, model.layer4]:\n",
    "    for param in layer.parameters():\n",
    "        param.requires_grad = True\n",
    "\n",
    "last_layer = model.fc\n",
    "in_features = last_layer.in_features\n",
    "out_features = len(test_data.targets.unique())\n",
    "model.fc = nn.Linear(in_features, out_features)\n",
    "\n",
    "model = model.to(device)"
   ]
  },
  {
   "cell_type": "code",
   "execution_count": 10,
   "id": "5880e00e",
   "metadata": {},
   "outputs": [
    {
     "data": {
      "application/vnd.jupyter.widget-view+json": {
       "model_id": "be60b08d4c344ac1866ab8ad8befe852",
       "version_major": 2,
       "version_minor": 0
      },
      "text/plain": [
       "  0%|          | 0/5 [00:00<?, ?it/s]"
      ]
     },
     "metadata": {},
     "output_type": "display_data"
    },
    {
     "name": "stdout",
     "output_type": "stream",
     "text": [
      "epoch: 1     train loss: 0.1227   train acc: 0.9637   test loss: 0.0524   test acc: 0.9844\n",
      "epoch: 2     train loss: 0.0563   train acc: 0.9838   test loss: 0.0401   test acc: 0.9882\n",
      "epoch: 3     train loss: 0.0392   train acc: 0.988    test loss: 0.0381   test acc: 0.9887\n",
      "epoch: 4     train loss: 0.033    train acc: 0.9901   test loss: 0.0352   test acc: 0.989 \n",
      "epoch: 5     train loss: 0.0269   train acc: 0.9919   test loss: 0.039    test acc: 0.9894\n"
     ]
    },
    {
     "data": {
      "image/png": "[encoded data removed]",
      "text/plain": [
       "<Figure size 432x288 with 1 Axes>"
      ]
     },
     "metadata": {
      "needs_background": "light"
     },
     "output_type": "display_data"
    }
   ],
   "source": [
    "loss_fn = nn.CrossEntropyLoss()\n",
    "opt = get_optimizer(model, optimizer='adam', lr=0.001, weight_decay=0.)\n",
    "model = train_model(train_data, model, opt, loss_fn, test_data=test_data, num_epochs=5, batch_size=128)"
   ]
  },
  {
   "cell_type": "code",
   "execution_count": 11,
   "id": "48aae9f6",
   "metadata": {},
   "outputs": [
    {
     "name": "stdout",
     "output_type": "stream",
     "text": [
      "train accuracy: 0.9952166676521301\n",
      "test accuracy: 0.9894000291824341\n"
     ]
    }
   ],
   "source": [
    "eval_model(model, X_train, y_train, X_test, y_test)"
   ]
  },
  {
   "cell_type": "code",
   "execution_count": 12,
   "id": "200d1a46",
   "metadata": {},
   "outputs": [],
   "source": [
    "model = model.cpu().eval()\n",
    "\n",
    "y_pred = model(X_test).argmax(dim=1)\n",
    "mismatch = (y_pred != y_test)\n",
    "X_mismatch = X_test[mismatch]\n",
    "y_mismatch = y_test[mismatch]\n",
    "y_pred_mismatch = model(X_mismatch).argmax(dim=1)"
   ]
  },
  {
   "cell_type": "code",
   "execution_count": 13,
   "id": "7bb866e3",
   "metadata": {},
   "outputs": [
    {
     "name": "stdout",
     "output_type": "stream",
     "text": [
      "label: 3 pred: 8\n"
     ]
    },
    {
     "data": {
      "image/png": "[encoded data removed]",
      "text/plain": [
       "<Figure size 432x288 with 1 Axes>"
      ]
     },
     "metadata": {
      "needs_background": "light"
     },
     "output_type": "display_data"
    },
    {
     "name": "stdout",
     "output_type": "stream",
     "text": [
      "label: 9 pred: 8\n"
     ]
    },
    {
     "data": {
      "image/png": "[encoded data removed]",
      "text/plain": [
       "<Figure size 432x288 with 1 Axes>"
      ]
     },
     "metadata": {
      "needs_background": "light"
     },
     "output_type": "display_data"
    },
    {
     "name": "stdout",
     "output_type": "stream",
     "text": [
      "label: 4 pred: 9\n"
     ]
    },
    {
     "data": {
      "image/png": "[encoded data removed]",
      "text/plain": [
       "<Figure size 432x288 with 1 Axes>"
      ]
     },
     "metadata": {
      "needs_background": "light"
     },
     "output_type": "display_data"
    }
   ],
   "source": [
    "for i in range(3):\n",
    "    print(f'label: {int(y_mismatch[i])} pred: {int(y_pred_mismatch[i])}')\n",
    "    plt.imshow(X_mismatch[i].numpy().transpose(1, 2, 0)[:, :, 0])\n",
    "    plt.show()"
   ]
  },
  {
   "cell_type": "markdown",
   "id": "6eee47ef",
   "metadata": {},
   "source": [
    "# Data Augmentation\n",
    "\n",
    "Idea: Recognizing objects in an image shouldn't depend on various transformations to the image like rotating, flipping, cropping, scaling, warping, etc. Use these transformations on your training data to artificially increase the size of your training data, and hence improve model performance.\n",
    "\n",
    "Test Time Augmentation: At test time, for a given test image, use data augmentation on it a few times, make predictions on each augmented image, and average the results together as your true prediction. Can improve test time performance. Used more often in competitions than in production.\n",
    "\n",
    "Ensembling: Train multiple models on your data, average their predictions at test time, and use that average as your prediction. Due to computational and development costs, this is mostly used in competitions, rarely in production."
   ]
  },
  {
   "cell_type": "code",
   "execution_count": 14,
   "id": "59878847",
   "metadata": {},
   "outputs": [
    {
     "data": {
      "text/plain": [
       "<matplotlib.image.AxesImage at 0x7f90c41b0a00>"
      ]
     },
     "execution_count": 14,
     "metadata": {},
     "output_type": "execute_result"
    },
    {
     "data": {
      "image/png": "[encoded data removed]",
      "text/plain": [
       "<Figure size 432x288 with 1 Axes>"
      ]
     },
     "metadata": {
      "needs_background": "light"
     },
     "output_type": "display_data"
    }
   ],
   "source": [
    "out = torchvision.transforms.RandomCrop(25)(X_train[0])\n",
    "plt.imshow(out.numpy().transpose(1, 2, 0)[:, :, 0])"
   ]
  },
  {
   "cell_type": "code",
   "execution_count": 15,
   "id": "c44e3932",
   "metadata": {},
   "outputs": [
    {
     "data": {
      "text/plain": [
       "<matplotlib.image.AxesImage at 0x7f90c41f6d40>"
      ]
     },
     "execution_count": 15,
     "metadata": {},
     "output_type": "execute_result"
    },
    {
     "data": {
      "image/png": "[encoded data removed]",
      "text/plain": [
       "<Figure size 432x288 with 1 Axes>"
      ]
     },
     "metadata": {
      "needs_background": "light"
     },
     "output_type": "display_data"
    }
   ],
   "source": [
    "out = torchvision.transforms.RandomHorizontalFlip(p=0.9)(X_train[0])\n",
    "plt.imshow(out.numpy().transpose(1, 2, 0)[:, :, 0])"
   ]
  },
  {
   "cell_type": "code",
   "execution_count": 16,
   "id": "75869c9c",
   "metadata": {},
   "outputs": [
    {
     "data": {
      "text/plain": [
       "<matplotlib.image.AxesImage at 0x7f90c425dcc0>"
      ]
     },
     "execution_count": 16,
     "metadata": {},
     "output_type": "execute_result"
    },
    {
     "data": {
      "image/png": "[encoded data removed]",
      "text/plain": [
       "<Figure size 432x288 with 1 Axes>"
      ]
     },
     "metadata": {
      "needs_background": "light"
     },
     "output_type": "display_data"
    }
   ],
   "source": [
    "out = torchvision.transforms.RandomVerticalFlip(p=0.9)(X_train[0])\n",
    "plt.imshow(out.numpy().transpose(1, 2, 0)[:, :, 0])"
   ]
  },
  {
   "cell_type": "code",
   "execution_count": 17,
   "id": "dcfa2dc7",
   "metadata": {},
   "outputs": [
    {
     "data": {
      "text/plain": [
       "<matplotlib.image.AxesImage at 0x7f90c40c8cd0>"
      ]
     },
     "execution_count": 17,
     "metadata": {},
     "output_type": "execute_result"
    },
    {
     "data": {
      "image/png": "[encoded data removed]",
      "text/plain": [
       "<Figure size 432x288 with 1 Axes>"
      ]
     },
     "metadata": {
      "needs_background": "light"
     },
     "output_type": "display_data"
    }
   ],
   "source": [
    "out = torchvision.transforms.RandomRotation(20)(X_train[0])\n",
    "plt.imshow(out.numpy().transpose(1, 2, 0)[:, :, 0])"
   ]
  },
  {
   "cell_type": "code",
   "execution_count": 18,
   "id": "a8590b85",
   "metadata": {},
   "outputs": [
    {
     "data": {
      "text/plain": [
       "<matplotlib.image.AxesImage at 0x7f90c4134070>"
      ]
     },
     "execution_count": 18,
     "metadata": {},
     "output_type": "execute_result"
    },
    {
     "data": {
      "image/png": "[encoded data removed]",
      "text/plain": [
       "<Figure size 432x288 with 1 Axes>"
      ]
     },
     "metadata": {
      "needs_background": "light"
     },
     "output_type": "display_data"
    }
   ],
   "source": [
    "out = torchvision.transforms.RandomPerspective()(X_train[0])\n",
    "plt.imshow(out.numpy().transpose(1, 2, 0)[:, :, 0])"
   ]
  },
  {
   "cell_type": "code",
   "execution_count": 19,
   "id": "3f81a7e4",
   "metadata": {},
   "outputs": [
    {
     "data": {
      "text/plain": [
       "<matplotlib.image.AxesImage at 0x7f90c4176c20>"
      ]
     },
     "execution_count": 19,
     "metadata": {},
     "output_type": "execute_result"
    },
    {
     "data": {
      "image/png": "[encoded data removed]",
      "text/plain": [
       "<Figure size 432x288 with 1 Axes>"
      ]
     },
     "metadata": {
      "needs_background": "light"
     },
     "output_type": "display_data"
    }
   ],
   "source": [
    "out = torchvision.transforms.GaussianBlur(3)(X_train[0])\n",
    "plt.imshow(out.numpy().transpose(1, 2, 0)[:, :, 0])"
   ]
  },
  {
   "cell_type": "code",
   "execution_count": 20,
   "id": "7fbf1040",
   "metadata": {},
   "outputs": [
    {
     "data": {
      "text/plain": [
       "<matplotlib.image.AxesImage at 0x7f90b0c3e080>"
      ]
     },
     "execution_count": 20,
     "metadata": {},
     "output_type": "execute_result"
    },
    {
     "data": {
      "image/png": "[encoded data removed]",
      "text/plain": [
       "<Figure size 432x288 with 1 Axes>"
      ]
     },
     "metadata": {
      "needs_background": "light"
     },
     "output_type": "display_data"
    }
   ],
   "source": [
    "out = torchvision.transforms.CenterCrop(24)(X_train[0])\n",
    "plt.imshow(out.numpy().transpose(1, 2, 0)[:, :, 0])"
   ]
  },
  {
   "cell_type": "code",
   "execution_count": 21,
   "id": "2306da05",
   "metadata": {},
   "outputs": [
    {
     "data": {
      "text/plain": [
       "(Dataset MNIST\n",
       "     Number of datapoints: 60000\n",
       "     Root location: /home/paperspace/data\n",
       "     Split: Train\n",
       "     StandardTransform\n",
       " Transform: Compose(\n",
       "                RandomRotation(degrees=[-10.0, 10.0], interpolation=nearest, expand=False, fill=0)\n",
       "                RandomCrop(size=(26, 26), padding=None)\n",
       "                Resize(size=28, interpolation=bilinear, max_size=None, antialias=None)\n",
       "                ToTensor()\n",
       "                Lambda()\n",
       "                Normalize(mean=(0.1307,), std=(0.3081,))\n",
       "            ),\n",
       " Dataset MNIST\n",
       "     Number of datapoints: 10000\n",
       "     Root location: /home/paperspace/data\n",
       "     Split: Test\n",
       "     StandardTransform\n",
       " Transform: Compose(\n",
       "                ToTensor()\n",
       "                Lambda()\n",
       "                Normalize(mean=(0.1307,), std=(0.3081,))\n",
       "            ))"
      ]
     },
     "execution_count": 21,
     "metadata": {},
     "output_type": "execute_result"
    }
   ],
   "source": [
    "transforms = [\n",
    "    torchvision.transforms.RandomRotation(10),\n",
    "    torchvision.transforms.RandomCrop(26),\n",
    "    torchvision.transforms.Resize(28)\n",
    "]\n",
    "\n",
    "train_data, test_data = get_mnist_data(path='~/data', as_rgb=True, download=False, transforms=transforms)\n",
    "train_data, test_data"
   ]
  },
  {
   "cell_type": "code",
   "execution_count": 22,
   "id": "80a70f5d",
   "metadata": {},
   "outputs": [],
   "source": [
    "model = torchvision.models.resnet18(pretrained=True)\n",
    "\n",
    "for param in model.parameters():\n",
    "    param.requires_grad = False\n",
    "    \n",
    "for layer in [model.layer3, model.layer4]:\n",
    "    for param in layer.parameters():\n",
    "        param.requires_grad = True\n",
    "\n",
    "last_layer = model.fc\n",
    "in_features = last_layer.in_features\n",
    "out_features = len(test_data.targets.unique())\n",
    "model.fc = nn.Linear(in_features, out_features)\n",
    "\n",
    "model = model.to(device)"
   ]
  },
  {
   "cell_type": "code",
   "execution_count": 23,
   "id": "492c60f1",
   "metadata": {},
   "outputs": [
    {
     "data": {
      "application/vnd.jupyter.widget-view+json": {
       "model_id": "afa3879ff5a54ee8b888daf7a988ce91",
       "version_major": 2,
       "version_minor": 0
      },
      "text/plain": [
       "  0%|          | 0/5 [00:00<?, ?it/s]"
      ]
     },
     "metadata": {},
     "output_type": "display_data"
    },
    {
     "name": "stdout",
     "output_type": "stream",
     "text": [
      "epoch: 1     train loss: 0.1546   train acc: 0.9536   test loss: 0.0716   test acc: 0.9781\n",
      "epoch: 2     train loss: 0.077    train acc: 0.9772   test loss: 0.0881   test acc: 0.9726\n",
      "epoch: 3     train loss: 0.0643   train acc: 0.98     test loss: 0.0727   test acc: 0.9757\n",
      "epoch: 4     train loss: 0.0541   train acc: 0.9839   test loss: 0.0545   test acc: 0.9813\n",
      "epoch: 5     train loss: 0.0494   train acc: 0.9853   test loss: 0.0455   test acc: 0.9861\n"
     ]
    },
    {
     "data": {
      "image/png": "[encoded data removed]",
      "text/plain": [
       "<Figure size 432x288 with 1 Axes>"
      ]
     },
     "metadata": {
      "needs_background": "light"
     },
     "output_type": "display_data"
    }
   ],
   "source": [
    "loss_fn = nn.CrossEntropyLoss()\n",
    "opt = get_optimizer(model, optimizer='adam', lr=0.001, weight_decay=0.)\n",
    "model = train_model(train_data, model, opt, loss_fn, test_data=test_data, num_epochs=5, batch_size=128)"
   ]
  },
  {
   "cell_type": "markdown",
   "id": "fa8ea74b",
   "metadata": {},
   "source": [
    "# Timm and Fastai"
   ]
  },
  {
   "cell_type": "code",
   "execution_count": 93,
   "id": "0bbb5b48",
   "metadata": {},
   "outputs": [],
   "source": [
    "import timm\n",
    "import fastai.vision.all as fastai\n",
    "from fastai.callback.schedule import Learner"
   ]
  },
  {
   "cell_type": "code",
   "execution_count": 76,
   "id": "fcef1dde",
   "metadata": {},
   "outputs": [
    {
     "data": {
      "text/plain": [
       "(Dataset MNIST\n",
       "     Number of datapoints: 60000\n",
       "     Root location: /home/paperspace/data\n",
       "     Split: Train\n",
       "     StandardTransform\n",
       " Transform: Compose(\n",
       "                ToTensor()\n",
       "                Lambda()\n",
       "                Normalize(mean=(0.1307,), std=(0.3081,))\n",
       "            ),\n",
       " Dataset MNIST\n",
       "     Number of datapoints: 10000\n",
       "     Root location: /home/paperspace/data\n",
       "     Split: Test\n",
       "     StandardTransform\n",
       " Transform: Compose(\n",
       "                ToTensor()\n",
       "                Lambda()\n",
       "                Normalize(mean=(0.1307,), std=(0.3081,))\n",
       "            ))"
      ]
     },
     "execution_count": 76,
     "metadata": {},
     "output_type": "execute_result"
    }
   ],
   "source": [
    "train_data, test_data = get_mnist_data(path='~/data', as_rgb=True, download=False, transforms=[])\n",
    "train_data, test_data"
   ]
  },
  {
   "cell_type": "code",
   "execution_count": 94,
   "id": "e26e43ea",
   "metadata": {},
   "outputs": [
    {
     "data": {
      "text/plain": [
       "11181642"
      ]
     },
     "execution_count": 94,
     "metadata": {},
     "output_type": "execute_result"
    }
   ],
   "source": [
    "model = timm.create_model('resnet18', pretrained=True, num_classes=10)\n",
    "model = model.to(device)\n",
    "get_n_params(model)"
   ]
  },
  {
   "cell_type": "code",
   "execution_count": 95,
   "id": "c1ef0d11",
   "metadata": {},
   "outputs": [
    {
     "data": {
      "application/vnd.jupyter.widget-view+json": {
       "model_id": "836164bce02d484298103b4b0e51f532",
       "version_major": 2,
       "version_minor": 0
      },
      "text/plain": [
       "  0%|          | 0/5 [00:00<?, ?it/s]"
      ]
     },
     "metadata": {},
     "output_type": "display_data"
    },
    {
     "name": "stdout",
     "output_type": "stream",
     "text": [
      "epoch: 1     train loss: 0.1107   train acc: 0.9692   test loss: 0.0393   test acc: 0.9887\n",
      "epoch: 2     train loss: 0.0494   train acc: 0.9868   test loss: 0.029    test acc: 0.9913\n",
      "epoch: 3     train loss: 0.0372   train acc: 0.9897   test loss: 0.0386   test acc: 0.9893\n",
      "epoch: 4     train loss: 0.0295   train acc: 0.9918   test loss: 0.0401   test acc: 0.9903\n",
      "epoch: 5     train loss: 0.027    train acc: 0.9925   test loss: 0.0336   test acc: 0.9907\n"
     ]
    },
    {
     "data": {
      "image/png": "[encoded data removed]",
      "text/plain": [
       "<Figure size 432x288 with 1 Axes>"
      ]
     },
     "metadata": {
      "needs_background": "light"
     },
     "output_type": "display_data"
    }
   ],
   "source": [
    "loss_fn = nn.CrossEntropyLoss()\n",
    "opt = get_optimizer(model, optimizer='adam', lr=0.001, weight_decay=0.)\n",
    "model = train_model(train_data, model, opt, loss_fn, test_data=test_data, num_epochs=5, batch_size=128)"
   ]
  },
  {
   "cell_type": "code",
   "execution_count": 83,
   "id": "cc4acd00",
   "metadata": {},
   "outputs": [
    {
     "name": "stderr",
     "output_type": "stream",
     "text": [
      "Downloading: \"https://download.pytorch.org/models/resnet18-5c106cde.pth\" to /home/paperspace/.cache/torch/hub/checkpoints/resnet18-5c106cde.pth\n"
     ]
    },
    {
     "data": {
      "text/html": [
       "\n",
       "<style>\n",
       "    /* Turns off some styling */\n",
       "    progress {\n",
       "        /* gets rid of default border in Firefox and Opera. */\n",
       "        border: none;\n",
       "        /* Needs to be in here for Safari polyfill so background images work as expected. */\n",
       "        background-size: auto;\n",
       "    }\n",
       "    .progress-bar-interrupted, .progress-bar-interrupted::-webkit-progress-bar {\n",
       "        background: #F44336;\n",
       "    }\n",
       "</style>\n"
      ],
      "text/plain": [
       "<IPython.core.display.HTML object>"
      ]
     },
     "metadata": {},
     "output_type": "display_data"
    },
    {
     "data": {
      "text/html": [],
      "text/plain": [
       "<IPython.core.display.HTML object>"
      ]
     },
     "metadata": {},
     "output_type": "display_data"
    },
    {
     "data": {
      "text/plain": [
       "SuggestedLRs(valley=0.0003311311302240938)"
      ]
     },
     "execution_count": 83,
     "metadata": {},
     "output_type": "execute_result"
    },
    {
     "data": {
      "image/png": "[encoded data removed]",
      "text/plain": [
       "<Figure size 432x288 with 1 Axes>"
      ]
     },
     "metadata": {
      "needs_background": "light"
     },
     "output_type": "display_data"
    }
   ],
   "source": [
    "train_loader = torch.utils.data.DataLoader(train_data, batch_size=128, shuffle=True)\n",
    "test_loader = torch.utils.data.DataLoader(test_data, batch_size=128, shuffle=True)\n",
    "dls = fastai.DataLoaders(train_loader, test_loader)\n",
    "\n",
    "model = timm.create_model('resnet18', pretrained=True, num_classes=10)\n",
    "model = model.to(device)\n",
    "\n",
    "learn = Learner(dls, model, loss_func=loss_fn, metrics=fastai.accuracy)\n",
    "# learn.unfreeze()\n",
    "learn.lr_find()"
   ]
  },
  {
   "cell_type": "code",
   "execution_count": 84,
   "id": "74f20037",
   "metadata": {},
   "outputs": [
    {
     "data": {
      "text/html": [
       "\n",
       "<style>\n",
       "    /* Turns off some styling */\n",
       "    progress {\n",
       "        /* gets rid of default border in Firefox and Opera. */\n",
       "        border: none;\n",
       "        /* Needs to be in here for Safari polyfill so background images work as expected. */\n",
       "        background-size: auto;\n",
       "    }\n",
       "    .progress-bar-interrupted, .progress-bar-interrupted::-webkit-progress-bar {\n",
       "        background: #F44336;\n",
       "    }\n",
       "</style>\n"
      ],
      "text/plain": [
       "<IPython.core.display.HTML object>"
      ]
     },
     "metadata": {},
     "output_type": "display_data"
    },
    {
     "data": {
      "text/html": [
       "<table border=\"1\" class=\"dataframe\">\n",
       "  <thead>\n",
       "    <tr style=\"text-align: left;\">\n",
       "      <th>epoch</th>\n",
       "      <th>train_loss</th>\n",
       "      <th>valid_loss</th>\n",
       "      <th>accuracy</th>\n",
       "      <th>time</th>\n",
       "    </tr>\n",
       "  </thead>\n",
       "  <tbody>\n",
       "    <tr>\n",
       "      <td>0</td>\n",
       "      <td>0.084199</td>\n",
       "      <td>0.054210</td>\n",
       "      <td>0.984800</td>\n",
       "      <td>00:32</td>\n",
       "    </tr>\n",
       "  </tbody>\n",
       "</table>"
      ],
      "text/plain": [
       "<IPython.core.display.HTML object>"
      ]
     },
     "metadata": {},
     "output_type": "display_data"
    },
    {
     "data": {
      "text/html": [
       "\n",
       "<style>\n",
       "    /* Turns off some styling */\n",
       "    progress {\n",
       "        /* gets rid of default border in Firefox and Opera. */\n",
       "        border: none;\n",
       "        /* Needs to be in here for Safari polyfill so background images work as expected. */\n",
       "        background-size: auto;\n",
       "    }\n",
       "    .progress-bar-interrupted, .progress-bar-interrupted::-webkit-progress-bar {\n",
       "        background: #F44336;\n",
       "    }\n",
       "</style>\n"
      ],
      "text/plain": [
       "<IPython.core.display.HTML object>"
      ]
     },
     "metadata": {},
     "output_type": "display_data"
    },
    {
     "data": {
      "text/html": [
       "<table border=\"1\" class=\"dataframe\">\n",
       "  <thead>\n",
       "    <tr style=\"text-align: left;\">\n",
       "      <th>epoch</th>\n",
       "      <th>train_loss</th>\n",
       "      <th>valid_loss</th>\n",
       "      <th>accuracy</th>\n",
       "      <th>time</th>\n",
       "    </tr>\n",
       "  </thead>\n",
       "  <tbody>\n",
       "    <tr>\n",
       "      <td>0</td>\n",
       "      <td>0.045896</td>\n",
       "      <td>0.029305</td>\n",
       "      <td>0.991500</td>\n",
       "      <td>00:32</td>\n",
       "    </tr>\n",
       "    <tr>\n",
       "      <td>1</td>\n",
       "      <td>0.020793</td>\n",
       "      <td>0.023929</td>\n",
       "      <td>0.992700</td>\n",
       "      <td>00:32</td>\n",
       "    </tr>\n",
       "    <tr>\n",
       "      <td>2</td>\n",
       "      <td>0.008939</td>\n",
       "      <td>0.019255</td>\n",
       "      <td>0.994800</td>\n",
       "      <td>00:32</td>\n",
       "    </tr>\n",
       "  </tbody>\n",
       "</table>"
      ],
      "text/plain": [
       "<IPython.core.display.HTML object>"
      ]
     },
     "metadata": {},
     "output_type": "display_data"
    }
   ],
   "source": [
    "lr = 0.0003\n",
    "learn.fine_tune(3, lr)"
   ]
  },
  {
   "cell_type": "code",
   "execution_count": 90,
   "id": "e385767f",
   "metadata": {},
   "outputs": [],
   "source": [
    "learn.freeze_to(-3)"
   ]
  },
  {
   "cell_type": "code",
   "execution_count": 92,
   "id": "0abef6bf",
   "metadata": {},
   "outputs": [
    {
     "data": {
      "text/html": [
       "\n",
       "<style>\n",
       "    /* Turns off some styling */\n",
       "    progress {\n",
       "        /* gets rid of default border in Firefox and Opera. */\n",
       "        border: none;\n",
       "        /* Needs to be in here for Safari polyfill so background images work as expected. */\n",
       "        background-size: auto;\n",
       "    }\n",
       "    .progress-bar-interrupted, .progress-bar-interrupted::-webkit-progress-bar {\n",
       "        background: #F44336;\n",
       "    }\n",
       "</style>\n"
      ],
      "text/plain": [
       "<IPython.core.display.HTML object>"
      ]
     },
     "metadata": {},
     "output_type": "display_data"
    },
    {
     "data": {
      "text/html": [
       "<table border=\"1\" class=\"dataframe\">\n",
       "  <thead>\n",
       "    <tr style=\"text-align: left;\">\n",
       "      <th>epoch</th>\n",
       "      <th>train_loss</th>\n",
       "      <th>valid_loss</th>\n",
       "      <th>accuracy</th>\n",
       "      <th>time</th>\n",
       "    </tr>\n",
       "  </thead>\n",
       "  <tbody>\n",
       "    <tr>\n",
       "      <td>0</td>\n",
       "      <td>0.006350</td>\n",
       "      <td>0.019973</td>\n",
       "      <td>0.994300</td>\n",
       "      <td>00:32</td>\n",
       "    </tr>\n",
       "    <tr>\n",
       "      <td>1</td>\n",
       "      <td>0.005530</td>\n",
       "      <td>0.018088</td>\n",
       "      <td>0.994700</td>\n",
       "      <td>00:32</td>\n",
       "    </tr>\n",
       "    <tr>\n",
       "      <td>2</td>\n",
       "      <td>0.004235</td>\n",
       "      <td>0.018334</td>\n",
       "      <td>0.994900</td>\n",
       "      <td>00:32</td>\n",
       "    </tr>\n",
       "    <tr>\n",
       "      <td>3</td>\n",
       "      <td>0.005592</td>\n",
       "      <td>0.018062</td>\n",
       "      <td>0.994600</td>\n",
       "      <td>00:32</td>\n",
       "    </tr>\n",
       "    <tr>\n",
       "      <td>4</td>\n",
       "      <td>0.003159</td>\n",
       "      <td>0.018306</td>\n",
       "      <td>0.995000</td>\n",
       "      <td>00:32</td>\n",
       "    </tr>\n",
       "  </tbody>\n",
       "</table>"
      ],
      "text/plain": [
       "<IPython.core.display.HTML object>"
      ]
     },
     "metadata": {},
     "output_type": "display_data"
    }
   ],
   "source": [
    "lr = 8e-6\n",
    "learn.fit_one_cycle(5, lr)"
   ]
  },
  {
   "cell_type": "code",
   "execution_count": null,
   "id": "98c16e3a",
   "metadata": {},
   "outputs": [],
   "source": []
  },
  {
   "cell_type": "code",
   "execution_count": null,
   "id": "c0b58a6f",
   "metadata": {},
   "outputs": [],
   "source": []
  }
 ],
 "metadata": {
  "kernelspec": {
   "display_name": "Python 3 (ipykernel)",
   "language": "python",
   "name": "python3"
  },
  "language_info": {
   "codemirror_mode": {
    "name": "ipython",
    "version": 3
   },
   "file_extension": ".py",
   "mimetype": "text/x-python",
   "name": "python",
   "nbconvert_exporter": "python",
   "pygments_lexer": "ipython3",
   "version": "3.10.4"
  }
 },
 "nbformat": 4,
 "nbformat_minor": 5
}
