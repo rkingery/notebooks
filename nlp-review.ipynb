{
 "cells": [
  {
   "cell_type": "code",
   "execution_count": 1,
   "id": "f737dec4",
   "metadata": {},
   "outputs": [],
   "source": [
    "import numpy as np\n",
    "import pandas as pd\n",
    "import matplotlib.pyplot as plt\n",
    "import urllib\n",
    "from tqdm.notebook import tqdm\n",
    "from pathlib import Path\n",
    "from itertools import chain\n",
    "\n",
    "import torch\n",
    "import torch.nn as nn\n",
    "import torch.nn.functional as F\n",
    "from torch.utils.data import DataLoader\n",
    "import torchtext\n",
    "\n",
    "import timm\n",
    "import fastai.text.all as fastai\n",
    "from fastai.callback.schedule import Learner\n",
    "\n",
    "# from torch.utils.tensorboard import SummaryWriter\n",
    "from tensorboardX import SummaryWriter\n",
    "%load_ext tensorboard\n",
    "\n",
    "import spacy\n",
    "import re\n",
    "import nltk\n",
    "\n",
    "seed = 42\n",
    "np.random.seed(seed + 1)\n",
    "torch.manual_seed(seed)\n",
    "\n",
    "nlp = spacy.load(\"en_core_web_sm\")"
   ]
  },
  {
   "cell_type": "code",
   "execution_count": 2,
   "id": "36ac4471",
   "metadata": {},
   "outputs": [
    {
     "name": "stdout",
     "output_type": "stream",
     "text": [
      "device: cuda\n"
     ]
    }
   ],
   "source": [
    "def get_device():\n",
    "    if torch.cuda.is_available():\n",
    "        device = 'cuda'\n",
    "    elif hasattr(torch.backends, 'mps') and torch.backends.mps.is_available():\n",
    "        device = 'mps'\n",
    "    else:\n",
    "        device = 'cpu'\n",
    "    return device\n",
    "\n",
    "device = get_device()\n",
    "\n",
    "print(f'device: {device}')"
   ]
  },
  {
   "cell_type": "code",
   "execution_count": 3,
   "id": "0d49df82",
   "metadata": {},
   "outputs": [],
   "source": [
    "def get_optimizer(model, optimizer='sgd', lr=0.001, weight_decay=0, momentum=0, betas=(0.9, 0.999), eps=1e-8):\n",
    "    if optimizer == 'sgd':\n",
    "        opt = torch.optim.SGD(\n",
    "            model.parameters(),\n",
    "            lr=lr, \n",
    "            weight_decay=weight_decay, \n",
    "            momentum=momentum\n",
    "        )\n",
    "    if optimizer == 'adam':\n",
    "        opt = torch.optim.Adam(\n",
    "            model.parameters(),\n",
    "            lr=lr,\n",
    "            weight_decay=weight_decay,\n",
    "            betas=betas,\n",
    "            eps=eps\n",
    "        )\n",
    "    return opt\n",
    "\n",
    "def train_model(train_data, model, opt, loss_fn, test_data=None, num_epochs=10, plot_loss=True, batch_size=32,\n",
    "               tensorboard=False, print_stats=True, show_batches_bar=False, shuffle=True, scheduler=None,\n",
    "               print_every=1, n_grad_accums=1, use_multi_gpus=False):\n",
    "    if tensorboard:\n",
    "        writer = SummaryWriter()\n",
    "    losses = []\n",
    "    train_loader = torch.utils.data.DataLoader(train_data, batch_size=batch_size, shuffle=shuffle)\n",
    "    if test_data is not None:\n",
    "        test_loader = torch.utils.data.DataLoader(test_data, batch_size=batch_size, shuffle=False)\n",
    "    if use_multi_gpus:\n",
    "        orig_model = model\n",
    "        model = nn.DataParallel(model)\n",
    "    for epoch in tqdm(range(num_epochs)):\n",
    "        model = model.train()\n",
    "        batch_losses = []\n",
    "        batch_correct = []\n",
    "        iterator = tqdm(train_loader, leave=False) if show_batches_bar else train_loader\n",
    "        for i, (X, y) in enumerate(iterator):\n",
    "            X = X.to(device)\n",
    "            y = y.to(device)\n",
    "            yhat = model(X)\n",
    "            loss = loss_fn(yhat, y).mean() # mean is for multi-gpu losses, avg them together\n",
    "            loss /= n_grad_accums # rescale loss for grad accumulation\n",
    "            loss.backward()\n",
    "            if i % n_grad_accums == 0: # only step when every n_grad_accums grad updates\n",
    "                opt.step()\n",
    "                opt.zero_grad()\n",
    "            batch_losses.append(float(loss)* batch_size)\n",
    "            batch_correct.append(float((yhat.argmax(dim=1) == y).sum().cpu()))\n",
    "        train_loss = sum(batch_losses) / len(train_data)\n",
    "        train_acc = sum(batch_correct) / len(train_data)\n",
    "        losses.append(train_loss)\n",
    "        \n",
    "        if test_data is not None:\n",
    "            model = model.eval()\n",
    "            opt.zero_grad()\n",
    "            batch_losses = []\n",
    "            batch_correct = []\n",
    "            iterator = tqdm(test_loader, leave=False) if show_batches_bar else test_loader\n",
    "            for X, y in iterator:\n",
    "                X = X.to(device)\n",
    "                y = y.to(device)\n",
    "                yhat = model(X)\n",
    "                loss = loss_fn(yhat, y).mean()\n",
    "                batch_losses.append(float(loss) * batch_size)\n",
    "                batch_correct.append(float((yhat.argmax(dim=1) == y).sum().cpu()))\n",
    "            test_loss = sum(batch_losses) / len(test_data)\n",
    "            test_acc = sum(batch_correct) / len(test_data)\n",
    "        else:\n",
    "            test_loss = -999\n",
    "            test_acc = -999\n",
    "            \n",
    "        if scheduler is not None:\n",
    "            scheduler.step()\n",
    "\n",
    "        if tensorboard:\n",
    "            writer.add_scalar(\"Training Loss\", train_loss, epoch+1)\n",
    "            writer.add_scalar(\"Training Accuracy\", train_acc, epoch+1)\n",
    "            writer.add_scalar(\"Test Loss\", test_loss, epoch+1)\n",
    "            writer.add_scalar(\"Test Accuracy\", test_acc, epoch+1)\n",
    "        if print_stats and epoch % print_every == 0:\n",
    "            s1 = f'epoch: {epoch: <3}   ' \n",
    "            s2 = f'train loss: {round(train_loss, 4): <6}   train acc: {round(train_acc, 4): <6}   ' \n",
    "            s3 = f'test loss: {round(test_loss, 4): <6}   test acc: {round(test_acc, 4): <6}'\n",
    "            print(s1 + s2 + s3)\n",
    "    if plot_loss:\n",
    "        plt.plot(range(len(losses)), losses)\n",
    "        plt.show()\n",
    "    if tensorboard:\n",
    "        writer.flush()\n",
    "        writer.close()\n",
    "    model = model if not use_multi_gpus else orig_model\n",
    "    return model\n",
    "\n",
    "class Dataset:\n",
    "    def __init__(self, X, y):\n",
    "        self.X = X\n",
    "        self.y = y\n",
    "\n",
    "    def __len__(self):\n",
    "        return len(self.y)\n",
    "\n",
    "    def __getitem__(self, idx):\n",
    "        return self.X[idx], self.y[idx]"
   ]
  },
  {
   "cell_type": "markdown",
   "id": "02227860",
   "metadata": {},
   "source": [
    "# Recurrent Neural Networks (RNNs)\n",
    "\n",
    "- Neural network used to learn input/output relationships for examples that have some kind of sequential, temporal relationship. Allows the network to use learned shared features to take into account the context (sequence order) of a given example.\n",
    "- Maps a temporal sequence $x_1,\\cdots,x_T$ to another temporal sequence $y_1,\\cdots,y_{T'}$ by learning a function of past and present input values: $y_t = f_t(x_1,\\cdots,x_t)$.\n",
    "- Each $x = (x_1,\\cdots,x_T) \\rightarrow y = (y_1,\\cdots,y_{T'})$ pair becomes a \"training example\" in a sense. The output of an RNN layer for a particular sequence element $t=1,\\cdots,T$ is given by\n",
    "$$ h_t = \\tanh(W_{xh} x_t + b_{xh} + W_{hh} h_{t-1} + b_{hh}),$$\n",
    "$$ \\hat y_t = \\sigma(W_{hy} h_t + b_{hy}).$$\n",
    "- One needs to initialize $h_0$ to have some value. One can use zeros, a random initialization, or (for a stateful RNN) use the output $h_0 \\equiv h_T^{prev}$ from the previous batch.\n",
    "- Typically the tanh function is used for hidden activation function in RNNs instead of the ReLU.\n",
    "- Input and output sequences need not have the same length, nor need one or the other be a sequence at all.\n",
    "- Each unit of the RNN has an input state, hidden state, and output state. All params are shared across all elements in the sequence, so only $x_t, h_t$ contain information about position.\n",
    "- Typically $T, T'$ are not actually the length of the input/output sequences, but a defined sequence length. This means each sequence gets split into $k$ chunks of length $T$, potentially breaking the ordering between those chunks.\n",
    "- For sequences of size less than $T,T'$, padding the input/output with `<PAD>` tokens can be used to fill in the gaps.\n",
    "- The standard RNN is only unidirectional. Sequences read left to right. To take advantage of \"acausal\" sequence information, one can use a bidirectional RNN (BiRNN) that uses both left-to-right and right-to-left hidden units.\n",
    "- The loss in an RNN is the sum of the output losses: \n",
    "$$L(y,\\hat y) = L_1(y_1,\\hat y_1) + \\cdots + L_{T'}(y_{T'},\\hat y_{T'}).$$\n",
    "- Backpropagation on an RNN layer is done \"through time\" (BPTT). BPTT works by starting at $y_{T'}$ and backpropagating backwards through time all the way to $x_1$. Since the $W_t$ gradient $\\frac{\\partial L}{\\partial W_t} \\propto W_{t+1} \\dots W_T$, RNNs with long sequence lengths are vulnerable to gradient vanishing. This makes it hard for items in long sequences that are far apart from each other to influence each other.\n",
    "- For sequence classification tasks, e.g. sentiment classification, one has $T'=1$. To use the full context of the sequence, one typically puts the \"useful\" classification vector last in the $x_T$ line. Such RNNs are \"many-to-one\". When $T,T'>1$ the RNN is typically called \"many-to-many\" or \"seq2seq\". When $T=1$ but $T'>1$ the RNN is called \"one-to-many\"; these show up for example in sequence generation tasks.\n",
    "- Encoder-decoder architectures are also possible for many-to-many RNNs. These are used in applications like machine translation. In this scenario, the inputs are fed into an encoder half that outputs nothing. The encoder feeds its hidden units into a decoder that inputs nothing, but outputs the output sequence. Typically in these, the output $\\hat y_{t-1}$ is fed as an effective input into $x_t \\equiv \\hat y_{t-1}$.\n",
    "- In PyTorch, sequences are typically fed into RNNs with the order: `(sequence_length, batch_size, num_features)`."
   ]
  },
  {
   "cell_type": "code",
   "execution_count": 4,
   "id": "94310636",
   "metadata": {},
   "outputs": [],
   "source": [
    "class RNNLayer(nn.Module):\n",
    "    def __init__(self, input_size, hidden_size, output_size, \n",
    "                 hidden_activation=torch.tanh, output_activation=lambda x: x):\n",
    "        super().__init__()\n",
    "        self.input_size = input_size\n",
    "        self.hidden_size = hidden_size\n",
    "        self.output_size = output_size\n",
    "        self.hidden_activation = hidden_activation\n",
    "        self.output_activation = output_activation\n",
    "        self.linear_in = nn.Linear(self.input_size, self.hidden_size)\n",
    "        self.linear_hidden = nn.Linear(self.hidden_size, self.hidden_size)\n",
    "        self.linear_out = nn.Linear(self.hidden_size, self.output_size)\n",
    "    \n",
    "    def forward(self, x, h=None):\n",
    "        seq_len, batch_size = x.shape[0], x.shape[1]\n",
    "        hidden_shape = (1, batch_size, self.hidden_size)\n",
    "        output_shape = (seq_len, batch_size, self.output_size)\n",
    "        h = torch.zeros(hidden_shape) if h is None else h\n",
    "        yhat = torch.zeros(output_shape)\n",
    "        for t in range(seq_len):\n",
    "            h = self.hidden_activation(self.linear_in(x[t]) + self.linear_hidden(h))\n",
    "            yhat[t] = self.output_activation(self.linear_out(h))\n",
    "        return yhat, h"
   ]
  },
  {
   "cell_type": "code",
   "execution_count": 4,
   "id": "d89f7855",
   "metadata": {},
   "outputs": [
    {
     "data": {
      "text/plain": [
       "(torch.Size([5, 3, 10]), torch.Size([1, 3, 15]), torch.Size([5, 3, 20]))"
      ]
     },
     "execution_count": 4,
     "metadata": {},
     "output_type": "execute_result"
    }
   ],
   "source": [
    "rnn = RNNLayer(10, 15, 20, torch.tanh, torch.sigmoid) # input_size, hidden_size, output_size\n",
    "x = torch.randn(5, 3, 10) # seq_len, batch_size, input_size\n",
    "h0 = torch.zeros(1, 3, 15) # num_layers, batch_size, hidden_size\n",
    "yhat, h = rnn(x, h0)\n",
    "x.shape, h.shape, yhat.shape"
   ]
  },
  {
   "cell_type": "code",
   "execution_count": 5,
   "id": "da70ad40",
   "metadata": {},
   "outputs": [
    {
     "data": {
      "text/plain": [
       "(torch.Size([5, 3, 10]), torch.Size([1, 3, 20]), torch.Size([5, 3, 20]))"
      ]
     },
     "execution_count": 5,
     "metadata": {},
     "output_type": "execute_result"
    }
   ],
   "source": [
    "rnn = nn.RNN(10, 20, 1) # input_size, hidden_size, num_layers\n",
    "x = torch.randn(5, 3, 10) # seq_len, batch_size, input_size\n",
    "h0 = torch.zeros(1, 3, 20) # num_layers, batch_size, hidden_size\n",
    "yhat, h = rnn(x, h0)\n",
    "x.shape, h.shape, yhat.shape"
   ]
  },
  {
   "cell_type": "markdown",
   "id": "eb52389d",
   "metadata": {},
   "source": [
    "## Modified RNNs\n",
    "\n",
    "The simple RNN is highly susceptible to gradient vanishing/explosion, making it difficult to learn long range dependencies in sequences. To get around this and enable longer sequences, typically one modifies RNNs slightly by adding \"gates\" to each computation cell, which in reality are just more parameters in the $x_t \\rightarrow y_t$ mappings.\n",
    "\n",
    "**GRUs:** Uses a \"relevance\" gate $r_t$ and an \"update\" gate $u_t$. Informally, the relevance gate decides whether the hidden cell should be updated in response to the previous cell, and the update gate weights how much the new cell is important relative to previous cells via a weighted average.\n",
    "$$\\color{red}{u_t = \\sigma(W_{uu}u_{t-1} + b_{uu} + W_{xu}x_t + b_{xu})}$$\n",
    "$$\\color{red}{r_t = \\sigma(W_{rr}r_{t-1} + b_{rr} + W_{xr}x_t + b_{xr})}$$\n",
    "$$\\tilde h_t = \\tanh(W_{hh}(\\color{red}{r_t \\ast} h_{t-1}) + b_{hh} + W_{xh}x_t + b_{xh})$$\n",
    "$$h_t = \\color{red}{u_t \\ast} \\tilde h_t \\color{red}{+ (1-u_t) \\ast h_{t-1}}$$\n",
    "$$\\hat y_t = \\sigma(W_{hy} h_t + b_{hy}).$$"
   ]
  },
  {
   "cell_type": "code",
   "execution_count": 81,
   "id": "5ab8a125",
   "metadata": {},
   "outputs": [
    {
     "data": {
      "text/plain": [
       "(torch.Size([5, 3, 10]), torch.Size([1, 3, 20]), torch.Size([5, 3, 20]))"
      ]
     },
     "execution_count": 81,
     "metadata": {},
     "output_type": "execute_result"
    }
   ],
   "source": [
    "rnn = nn.GRU(10, 20, 1) # input_size, hidden_size, num_layers\n",
    "x = torch.randn(5, 3, 10) # seq_len, batch_size, input_size\n",
    "h0 = torch.zeros(1, 3, 20) # num_layers, batch_size, hidden_size\n",
    "yhat, h = rnn(x, h0)\n",
    "x.shape, h.shape, yhat.shape"
   ]
  },
  {
   "cell_type": "markdown",
   "id": "a1cce73b",
   "metadata": {},
   "source": [
    "**LSTMs:** Uses 3 gates, an \"update\" gate $i_t$, a \"forget\" gate $f_t$, and an \"output\" gate $o_t$. Informally, the update gate decides how important the new hidden cell is, the forget gate decides how much of the previous cell to forget, and the output cell decides how relevant the hidden cell is to the output $h_t$.\n",
    "$$\\color{red}{i_t = \\sigma(W_{ii}i_{t-1} + b_{ii} + W_{xi}x_t + b_{xi})}$$\n",
    "$$\\color{red}{f_t = \\sigma(W_{ff}f_{t-1} + b_{ff} + W_{xf}x_t + b_{xf})}$$\n",
    "$$\\color{red}{o_t = \\sigma(W_{oo}o_{t-1} + b_{oo} + W_{xo}x_t + b_{xo})}$$\n",
    "$$\\tilde c_t = \\tanh(W_{cc} \\color{red}{h_{t-1}} + b_{cc} + W_{xc}x_t + b_{xc})$$\n",
    "$$c_t = \\color{red}{i_t \\ast} \\tilde c_t + \\color{red}{f_t \\ast c_{t-1}}$$\n",
    "$$h_t = \\color{red}{o_t \\ast \\tanh(}c_t\\color{red}{)}$$\n",
    "$$ \\hat y_t = \\sigma(W_{hy} \\color{red}{h_t} + b_{hy}).$$"
   ]
  },
  {
   "cell_type": "code",
   "execution_count": 83,
   "id": "5c6c4feb",
   "metadata": {},
   "outputs": [
    {
     "data": {
      "text/plain": [
       "(torch.Size([5, 3, 10]),\n",
       " torch.Size([1, 3, 20]),\n",
       " torch.Size([1, 3, 20]),\n",
       " torch.Size([5, 3, 20]))"
      ]
     },
     "execution_count": 83,
     "metadata": {},
     "output_type": "execute_result"
    }
   ],
   "source": [
    "rnn = nn.LSTM(10, 20, 1) # input_size, hidden_size, num_layers\n",
    "x = torch.randn(5, 3, 10) # seq_len, batch_size, input_size\n",
    "c0 = torch.zeros(1, 3, 20) # num_layers, batch_size, hidden_size\n",
    "h0 = torch.zeros(1, 3, 20) # num_layers, batch_size, hidden_size\n",
    "yhat, (h, c) = rnn(x, (h0, c0))\n",
    "x.shape, h.shape, c.shape, yhat.shape"
   ]
  },
  {
   "cell_type": "markdown",
   "id": "8b6e8ba0",
   "metadata": {},
   "source": [
    "**Bidirectional RNNs (BiRNNs):** Regular RNNs are \"causal\", meaning $\\hat y_t$ is only a function or *past inputs* $x_1,\\cdots,x_{t-1}$. To allow RNNs to be \"acausal\", one can use BiRNNs, which use hidden activations in both the past and future directions, $h_t$ and $j_t$. One then combines them at the end to get the output predictions.\n",
    "\n",
    "$$\n",
    "h_t = \\tanh(W_{xh} x_t + b_{xh} + W_{hh} h_{t-1} + b_{hh}) \\\\\n",
    "\\color{red}{j_t = \\tanh(W_{xj} x_t + b_{xj} + W_{jj} j_{t+1} + b_{jj})} \\\\\n",
    "\\hat y_t = \\sigma(W_{hy} h_t + b_{hy} \\color{red}{+ W_{j y} j_t + b_{j y}}).\n",
    "$$\n",
    "\n",
    "The downside of a BiRNN is that predictions can't be made in real time. One must wait on the whole sequence to get a prediction even for $t=1$. They are commonly used in NLP, where knowing \"both sides\" of a sentence can make sense when predicting from text."
   ]
  },
  {
   "cell_type": "code",
   "execution_count": 88,
   "id": "56256b65",
   "metadata": {},
   "outputs": [
    {
     "data": {
      "text/plain": [
       "(torch.Size([5, 3, 10]),\n",
       " torch.Size([2, 3, 20]),\n",
       " torch.Size([1, 3, 20]),\n",
       " torch.Size([1, 3, 20]),\n",
       " torch.Size([5, 3, 40]))"
      ]
     },
     "execution_count": 88,
     "metadata": {},
     "output_type": "execute_result"
    }
   ],
   "source": [
    "rnn = nn.RNN(10, 20, 1, bidirectional=True) # input_size, hidden_size, num_layers\n",
    "x = torch.randn(5, 3, 10) # seq_len, batch_size, input_size\n",
    "hj0 = torch.zeros(2, 3, 20) # 2 * num_layers, batch_size, hidden_size\n",
    "yhat, hj = rnn(x, hj0)\n",
    "h, j = hj[0][None, :], hj[1][None, :]\n",
    "x.shape, hj.shape, h.shape, j.shape, yhat.shape"
   ]
  },
  {
   "cell_type": "markdown",
   "id": "b251f654",
   "metadata": {},
   "source": [
    "**Deep RNNs (DRNNs):** RNNs can be stacked in succession to form layers, as with MLPs. The output of one layer gets fed into the next layer, in succession. Deep RNNs can be useful for more complex sequence prediction tasks."
   ]
  },
  {
   "cell_type": "code",
   "execution_count": 91,
   "id": "45178644",
   "metadata": {},
   "outputs": [
    {
     "data": {
      "text/plain": [
       "(torch.Size([5, 3, 10]), torch.Size([2, 3, 20]), torch.Size([5, 3, 40]))"
      ]
     },
     "execution_count": 91,
     "metadata": {},
     "output_type": "execute_result"
    }
   ],
   "source": [
    "nn.RNN(10, 20, 3) # input_size, hidden_size, num_layers\n",
    "x = torch.randn(5, 3, 10) # seq_len, batch_size, input_size\n",
    "h0 = torch.zeros(2, 3, 20) # num_layers, batch_size, hidden_size\n",
    "yhat, h = rnn(x, h0)\n",
    "x.shape, h.shape, yhat.shape"
   ]
  },
  {
   "cell_type": "markdown",
   "id": "2b5925d2",
   "metadata": {},
   "source": [
    "# Text Processing Review"
   ]
  },
  {
   "cell_type": "code",
   "execution_count": 218,
   "id": "9495a220",
   "metadata": {},
   "outputs": [
    {
     "data": {
      "text/plain": [
       "(6,\n",
       " 6,\n",
       " [215, 170, 199, 124, 214, 292],\n",
       " ['As the Nameless officially do not exist , the upper echelons of the Gallian Army exploit the concept of plausible \\n deniability in order to send them on missions that would otherwise make Gallia lose face in the war',\n",
       "  'While at times \\n this works to their advantage , such as a successful incursion into Imperial territory , other orders cause certain \\n members of the 422nd great distress',\n",
       "  'One such member , John , becomes so enraged that he abandons his post and \\n defects into the ranks of Calamity Raven , attached to the ideal of Darcsen independence proposed by their leader , \\n Dahau',\n",
       "  'At the same time , elements within Gallian Army Command move to erase the Nameless in order to protect their \\n own interests',\n",
       "  'Feared by both allies and enemies , and combined with the presence of a traitor within their ranks , \\n the 422nd desperately move to keep themselves alive while at the same time fight to help the Gallian war effort',\n",
       "  \"This continues until the Nameless 's commanding officer , Ramsey Crowe , who had been kept under house arrest , is \\n escorted to the capital city of Bath in order to present evidence hated the weary soldiers and expose the real \\n traitor , the Gallian General that had accused Kurt of Treason\"])"
      ]
     },
     "execution_count": 218,
     "metadata": {},
     "output_type": "execute_result"
    }
   ],
   "source": [
    "orig = \"\"\"\n",
    " As the Nameless officially do not exist , the upper echelons of the Gallian Army exploit the concept of plausible \n",
    " deniability in order to send them on missions that would otherwise make Gallia lose face in the war . While at times \n",
    " this works to their advantage , such as a successful incursion into Imperial territory , other orders cause certain \n",
    " members of the 422nd great distress . One such member , John , becomes so enraged that he abandons his post and \n",
    " defects into the ranks of Calamity Raven , attached to the ideal of Darcsen independence proposed by their leader , \n",
    " Dahau . At the same time , elements within Gallian Army Command move to erase the Nameless in order to protect their \n",
    " own interests . Feared by both allies and enemies , and combined with the presence of a traitor within their ranks , \n",
    " the 422nd desperately move to keep themselves alive while at the same time fight to help the Gallian war effort . \n",
    " This continues until the Nameless 's commanding officer , Ramsey Crowe , who had been kept under house arrest , is \n",
    " escorted to the capital city of Bath in order to present evidence hated the weary soldiers and expose the real \n",
    " traitor , the Gallian General that had accused Kurt of Treason .\n",
    "\"\"\"\n",
    "\n",
    "corpus = [doc.strip() for doc in orig.split('.') if len(doc.strip()) > 0]\n",
    "labels = [len(doc) for doc in corpus]\n",
    "\n",
    "len(corpus), len(labels), labels, corpus"
   ]
  },
  {
   "cell_type": "code",
   "execution_count": 227,
   "id": "fd8cd97e",
   "metadata": {},
   "outputs": [],
   "source": [
    "def sub_special_tokens(text):\n",
    "    # put xxup token before words in all caps (easy way to recognize info from capitalizing a word)\n",
    "    text = re.sub(r'(\\b[A-Z][A-Z0-9]*\\b)', r' xxup \\1 ', text)\n",
    "    # put xxcap token before words with capitalized first letter (easy way to recognize first word in a sentence)\n",
    "    text = re.sub(r'(\\b[A-Z][a-z0-9]+\\b)', r' xxcap \\1 ', text)\n",
    "    # insert beginning and end of sentence tokens xxbos, xxeos after a period, at beginning, and strip extra xxbos\n",
    "    # text = re.sub(r'( [.]+ )', r' xxeos \\1 xxbos ', text)\n",
    "    # text = ' xxbos ' + text\n",
    "    # text = text[:-7]\n",
    "    # insert beginning and end of document tokens xxbod, xxeod\n",
    "    text = ' xxbed ' + text + ' xxeod '\n",
    "    return text\n",
    "\n",
    "def normalize_text(text, remove_stopwords=False, stem_text=False, replace_punct=False):\n",
    "    from nltk.stem import SnowballStemmer\n",
    "    from nltk.corpus import stopwords\n",
    "    import re, string\n",
    "\n",
    "    # converts common patterns into special tokens\n",
    "    text = sub_special_tokens(text)\n",
    "    # convert text to lowercase\n",
    "    text = text.lower()\n",
    "    # put spaces between punctuation (eg: 9.Blah -> 9 . Blah)\n",
    "    puncts = r'[' + re.escape(string.punctuation) + r']'\n",
    "    text = re.sub('(?<! )(?=' + puncts + ')|(?<=' + puncts + ')(?! )', r' ', text)\n",
    "    if replace_punct:\n",
    "        # replace all punctuation with xxpunct\n",
    "        text = re.sub(r\"[^\\w\\s]\",' xxpunct ',text)\n",
    "    # convert all other numbers to xxnum token (e.g. 123, 1.2.3, 1-2-3 -> xxnum)\n",
    "    text = re.sub(r'\\b([.-]*[0-9]+[.-]*)+\\b', ' xxnum ', text)\n",
    "    # remove nltk's common set of stop words (common for classical NLP analysis)\n",
    "    if remove_stopwords:\n",
    "        stop_words = stopwords.words('english')\n",
    "        text = ' '.join(word for word in text.split() if word not in stop_words)\n",
    "    # stem words using nltk snowball stemmer, e.g. converts {run, running, runs} all to \"run\"\n",
    "    if stem_text:\n",
    "        stemmer = SnowballStemmer('english')\n",
    "        stemmed_text = ''\n",
    "        for word in text.split():\n",
    "                stemmed_text = stemmed_text + stemmer.stem(word) + ' '\n",
    "        text = stemmed_text\n",
    "    # strip new lines\n",
    "    text = re.sub(r'\\n',' ',text)\n",
    "    # sub the occurance of 2 or more spaces with a single space\n",
    "    text = re.sub(r'[ ]{2,}',' ',text)\n",
    "    text = text.strip()\n",
    "    return text"
   ]
  },
  {
   "cell_type": "code",
   "execution_count": 470,
   "id": "b768d695",
   "metadata": {},
   "outputs": [],
   "source": [
    "# for each document in corpus (list of doc strings)\n",
    "# given combined corpus \"word_1 word_2 ...\"\n",
    "# normalize document: \"norm_word_1 norm_word_2 ...\"\n",
    "    # insert relevant special tokens: begin/end of sentence, begin/end of document, caps, all caps, etc\n",
    "# tokenize: get list of tokens [tok_1, tok_2, ...]\n",
    "def tokenize_corpus(corpus, normalizer, tokenizer, *args, **kwargs):\n",
    "    normalized_corpus = [normalizer(doc) for doc in corpus]\n",
    "    tokens = [tokenizer(doc).text.split(' ') for doc in normalized_corpus]\n",
    "    return tokens\n",
    "\n",
    "# vocab: get a dict converting each token to ints\n",
    "# numericalize: use vocab to convert list of tokens to list of ints [int_tok_1, int_tok_2, ...]\n",
    "def numericalize_tokens(tokens, vocab=None, pad_last=True):\n",
    "    if vocab is None:\n",
    "        vocab = list(set([tok for doc in tokens for tok in doc]))\n",
    "        if pad_last:\n",
    "            vocab = vocab + ['xxpad']\n",
    "    vocab_size = len(vocab)\n",
    "    stoi = {vocab[i]: i for i in range(vocab_size)}\n",
    "    itos = {i: vocab[i] for i in range(vocab_size)}\n",
    "    nums = [[stoi[token] for token in doc] for doc in tokens]\n",
    "    return nums, stoi, itos, vocab\n",
    "\n",
    "# batchify numerical tokens into n_batches batches of shape (seq_len, batch_size)\n",
    "    # pad batch items with less than batch_size tokens so all have same length\n",
    "    # items in seqs should preserve token ordering, so tok_1 < tok_2 < ...\n",
    "    # items in batches should preserve sequence ordering, so item_1 < item_2 < ...\n",
    "# return batchified tokens in tuple of tensors of shape (seq_len, batch_size)\n",
    "def sequify(data, seq_len, pad_num, labels=None, flatten=False):\n",
    "    def pad_seqs(seqs_list, pad_num):\n",
    "        for seqs in seqs_list:\n",
    "            leftover_len = len(seqs[-1])\n",
    "            seqs[-1] = seqs[-1] + [pad_num for _ in range(seq_len - leftover_len)]\n",
    "        return seqs_list\n",
    "    def flatten_seq(sequence):\n",
    "            return [seq for doc in sequence for seq in doc]\n",
    "    \n",
    "    seqs = [[x[i:i+seq_len] for i in range(0, len(x), seq_len)] for x in data]\n",
    "    seq_data = pad_seqs(seqs, pad_num)\n",
    "    if labels is not None:\n",
    "        seq_labels = [[labels[i] for seq in seq_data[i]] for i in range(len(seq_data))]\n",
    "        seq_data = flatten_seq(seq_data) if flatten else seq_data\n",
    "        seq_labels = flatten_seq(seq_labels) if flatten else seq_labels\n",
    "        return seq_data, seq_labels\n",
    "    else:\n",
    "        seq_data = flatten_seq(seq_data) if flatten else seq_data\n",
    "        return seq_data    \n",
    "\n",
    "def batchify(seqs, batch_size, labels=None, pad_num=-1):\n",
    "    batchified = [[seq[i: i+batch_size] for i in range(0, len(seq), batch_size)] for seq in seqs]\n",
    "    batched_data = [tuple(torch.tensor(batch).T.long() for batch in batchified[i]) for i in range(len(batchified))]\n",
    "    if labels is not None:\n",
    "        batched_labels = [[[labels[i] for y in x] for x in batchified[i]] for i in range(len(batchified))]\n",
    "        return batched_data, batched_labels\n",
    "    else:\n",
    "        return batched_data"
   ]
  },
  {
   "cell_type": "code",
   "execution_count": 471,
   "id": "772cc5d4",
   "metadata": {},
   "outputs": [],
   "source": [
    "tokens = tokenize_corpus(corpus, normalize_text, nlp)\n",
    "nums, stoi, itos, vocab = numericalize_tokens(tokens, pad_last=True)\n",
    "seq_data, seq_labels = sequify(nums, seq_len=10, pad_num=len(vocab)-1, labels=labels)\n",
    "batched_data, batched_labels = batchify(seq_data, batch_size=3, labels=labels)"
   ]
  },
  {
   "cell_type": "code",
   "execution_count": 472,
   "id": "a995ac33",
   "metadata": {},
   "outputs": [],
   "source": [
    "vocab_size = len(vocab)\n",
    "emb_size = 100\n",
    "\n",
    "class SelectItem(nn.Module):\n",
    "    def __init__(self, idx):\n",
    "        super().__init__()\n",
    "        self.idx = idx\n",
    "\n",
    "    def forward(self, x):\n",
    "        return x[0][self.idx]\n",
    "\n",
    "model = nn.Sequential(\n",
    "    nn.Embedding(vocab_size, emb_size),\n",
    "    nn.LSTM(emb_size, 100, 1),\n",
    "    SelectItem(idx=-1),  # selects the last LSTM output y_T to feed into the linear layer\n",
    "    nn.Linear(100, 1)\n",
    ")"
   ]
  },
  {
   "cell_type": "code",
   "execution_count": 473,
   "id": "cd50dce6",
   "metadata": {},
   "outputs": [
    {
     "data": {
      "text/plain": [
       "(tensor([[115,  30],\n",
       "         [114,  87],\n",
       "         [  7,  31],\n",
       "         [132,  23],\n",
       "         [ 54,  21],\n",
       "         [134, 136],\n",
       "         [ 50, 136],\n",
       "         [  0, 136],\n",
       "         [129, 136],\n",
       "         [ 18, 136]]),\n",
       " [215, 215, 215],\n",
       " tensor([[-0.0860],\n",
       "         [ 0.0422]]))"
      ]
     },
     "execution_count": 473,
     "metadata": {},
     "output_type": "execute_result"
    }
   ],
   "source": [
    "X, y = batched_data[0][-1], batched_labels[0][0]\n",
    "yhat = model(X).detach()\n",
    "X, y, yhat"
   ]
  },
  {
   "cell_type": "code",
   "execution_count": 474,
   "id": "3de1647f",
   "metadata": {},
   "outputs": [
    {
     "data": {
      "text/plain": [
       "'them on missions that would otherwise make xxcap gallia lose face in the war xxeod xxpad xxpad xxpad xxpad xxpad'"
      ]
     },
     "execution_count": 474,
     "metadata": {},
     "output_type": "execute_result"
    }
   ],
   "source": [
    "def batch_to_text(batch, itos, batch_first=True):\n",
    "    if isinstance(batch, torch.Tensor):\n",
    "        batch = batch.numpy()\n",
    "    elif isinstance(batch, list):\n",
    "        batch = np.array(batch)\n",
    "    if not batch_first:\n",
    "        batch = batch.T\n",
    "    if len(batch.shape) == 1:\n",
    "        batch = batch[None, :]\n",
    "    return ' '.join(itos[word] for seq in batch for word in seq)\n",
    "\n",
    "batch_to_text(X, itos)"
   ]
  },
  {
   "cell_type": "code",
   "execution_count": 476,
   "id": "1b0e6940",
   "metadata": {},
   "outputs": [],
   "source": [
    "X, y = sequify(nums, pad_num=len(vocab)-1, seq_len=10, labels=labels, flatten=True)"
   ]
  },
  {
   "cell_type": "code",
   "execution_count": 485,
   "id": "dae88e8f",
   "metadata": {},
   "outputs": [
    {
     "data": {
      "text/plain": [
       "29"
      ]
     },
     "execution_count": 485,
     "metadata": {},
     "output_type": "execute_result"
    }
   ],
   "source": [
    "data = Dataset(torch.tensor(X).long(), torch.tensor(y).float())\n",
    "len(data)"
   ]
  },
  {
   "cell_type": "code",
   "execution_count": 478,
   "id": "5039371a",
   "metadata": {},
   "outputs": [
    {
     "data": {
      "text/plain": [
       "(tensor([[  5,   0, 131,  31,   0,  92,  72,  80,  62,  12],\n",
       "         [ 90,  31,  82, 105,  96,  31,   0,  35,   0,  83],\n",
       "         [127,  31,  11,  96,  64, 126,  87,  46,  16,  70],\n",
       "         [115, 114,   7, 132,  54, 134,  50,   0, 129,  18],\n",
       "         [ 30,  87,  31,  23,  21, 136, 136, 136, 136, 136],\n",
       "         [  5,   0,   1,  71,  63,  86,  45,  16,  97, 119],\n",
       "         [ 90,  32, 131,  55,  84, 130,  25,   0, 112, 116],\n",
       "         [ 90, 111,  14,  52,  95,  67,  96,  31,  34,  57]]),\n",
       " tensor([215, 215, 215, 215, 215, 170, 170, 170]))"
      ]
     },
     "execution_count": 478,
     "metadata": {},
     "output_type": "execute_result"
    }
   ],
   "source": [
    "data_loader = DataLoader(data, batch_size=8, shuffle=False)\n",
    "xi, yi = next(iter(data_loader))\n",
    "xi, yi"
   ]
  },
  {
   "cell_type": "code",
   "execution_count": 479,
   "id": "31f53195",
   "metadata": {},
   "outputs": [
    {
     "data": {
      "text/plain": [
       "'xxbed xxcap as the xxcap nameless officially do not exist , the upper echelons of the xxcap gallian xxcap army exploit the concept of plausible deniability in order to send'"
      ]
     },
     "execution_count": 479,
     "metadata": {},
     "output_type": "execute_result"
    }
   ],
   "source": [
    "batch_to_text(batched_data[0][0], itos)"
   ]
  },
  {
   "cell_type": "code",
   "execution_count": 482,
   "id": "0b535558",
   "metadata": {},
   "outputs": [
    {
     "data": {
      "text/plain": [
       "tensor([[ 0.0835],\n",
       "        [-0.0509],\n",
       "        [-0.0532],\n",
       "        [-0.0860],\n",
       "        [ 0.0422],\n",
       "        [-0.1095],\n",
       "        [-0.0509],\n",
       "        [ 0.0303]], grad_fn=<AddmmBackward0>)"
      ]
     },
     "execution_count": 482,
     "metadata": {},
     "output_type": "execute_result"
    }
   ],
   "source": [
    "model(xi.T)"
   ]
  },
  {
   "cell_type": "markdown",
   "id": "acec927e",
   "metadata": {},
   "source": [
    "# Language Modeling\n",
    "\n",
    "- Uses a sequence of tokens to predict the most likely next tokens, e.g. `I am drinking orange` -> `juice .`\n",
    "- Given a sequence of numericalized tokens:\n",
    "    - Pad the seqs so they all have the same length (often the length of the max seq)\n",
    "    - Set the input $x$ to be the list of sequences (one-hot encoded if no embedding layer)\n",
    "    - Set the output $y$ to be the list of sequences shifted to the right by one (one-hot encoded if no embedding layer)\n",
    "    - The goal is to learn to predict each $y_t|x_t$ where $x_t \\equiv y_{t-1}$ "
   ]
  },
  {
   "cell_type": "code",
   "execution_count": 10,
   "id": "86bf7da7",
   "metadata": {},
   "outputs": [
    {
     "data": {
      "text/plain": [
       "['Aachenosaurus',\n",
       " 'Aardonyx',\n",
       " 'Abdallahsaurus',\n",
       " 'Abelisaurus',\n",
       " 'Abrictosaurus',\n",
       " 'Abrosaurus',\n",
       " 'Abydosaurus',\n",
       " 'Acanthopholis',\n",
       " 'Achelousaurus',\n",
       " 'Acheroraptor']"
      ]
     },
     "execution_count": 10,
     "metadata": {},
     "output_type": "execute_result"
    }
   ],
   "source": [
    "path = Path('/Users/rkingery/repos/coursera-deep-learning-specialization/C5 - Sequence Models/Week 1/Dinosaur Island -- Character-level language model')\n",
    "df = pd.read_csv(path/'dinos.txt', sep=\" \", header=None)\n",
    "corpus = df.values.flatten().tolist()\n",
    "corpus[:10]"
   ]
  },
  {
   "cell_type": "code",
   "execution_count": 11,
   "id": "d32583c9",
   "metadata": {},
   "outputs": [
    {
     "data": {
      "text/plain": [
       "['a', 'a', 'c', 'h', 'e', 'n', 'o', 's', 'a', 'u', 'r', 'u', 's']"
      ]
     },
     "execution_count": 11,
     "metadata": {},
     "output_type": "execute_result"
    }
   ],
   "source": [
    "tokens = [list(doc.lower()) for doc in corpus]\n",
    "tokens[0]"
   ]
  },
  {
   "cell_type": "code",
   "execution_count": 17,
   "id": "4be457f3",
   "metadata": {},
   "outputs": [
    {
     "name": "stdout",
     "output_type": "stream",
     "text": [
      "['l', 'e', 'q', 'w', 'p', 's', 'v', 'x', 'c', 'r', 'f', 'z', 'y', 'b', 'k', 'g', 't', 'm', 'j', 'i', 'n', 'o', 'u', 'd', 'h', 'a', '\\n', '<PAD>']\n"
     ]
    }
   ],
   "source": [
    "vocab = list(set(''.join(char for doc in tokens for char in doc)))\n",
    "vocab += ['\\n', '<PAD>']\n",
    "print(vocab)"
   ]
  },
  {
   "cell_type": "code",
   "execution_count": 18,
   "id": "b58de2c8",
   "metadata": {},
   "outputs": [],
   "source": [
    "vocab_size = len(vocab)\n",
    "stoi = {vocab[i]: i for i in range(vocab_size)}\n",
    "itos = {i: vocab[i] for i in range(vocab_size)}"
   ]
  },
  {
   "cell_type": "code",
   "execution_count": 19,
   "id": "43932787",
   "metadata": {},
   "outputs": [
    {
     "data": {
      "text/plain": [
       "26"
      ]
     },
     "execution_count": 19,
     "metadata": {},
     "output_type": "execute_result"
    }
   ],
   "source": [
    "max_len = max([len(doc) for doc in tokens])\n",
    "max_len"
   ]
  },
  {
   "cell_type": "code",
   "execution_count": 24,
   "id": "d91c08eb",
   "metadata": {},
   "outputs": [
    {
     "data": {
      "text/plain": [
       "[25, 25, 8, 24, 1, 20, 21, 5, 25, 22, 9, 22, 5]"
      ]
     },
     "execution_count": 24,
     "metadata": {},
     "output_type": "execute_result"
    }
   ],
   "source": [
    "sequences = [[stoi[char] for char in doc] for doc in tokens]\n",
    "sequences[0]"
   ]
  },
  {
   "cell_type": "code",
   "execution_count": 28,
   "id": "f9017118",
   "metadata": {},
   "outputs": [
    {
     "name": "stdout",
     "output_type": "stream",
     "text": [
      "[25, 25, 8, 24, 1, 20, 21, 5, 25, 22, 9, 22, 5, 27, 27, 27, 27, 27, 27, 27, 27, 27, 27, 27, 27, 27]\n"
     ]
    }
   ],
   "source": [
    "def pad(seq, pad_token, max_len):\n",
    "    return seq + [pad_token for _ in range(max_len - len(seq))]\n",
    "    \n",
    "seqs_padded = [pad(seq, stoi['<PAD>'], max_len) for seq in sequences]\n",
    "print(seqs_padded[0])"
   ]
  },
  {
   "cell_type": "code",
   "execution_count": 55,
   "id": "ff1bb996",
   "metadata": {},
   "outputs": [
    {
     "name": "stdout",
     "output_type": "stream",
     "text": [
      "[25, 8, 24, 1, 20, 21, 5, 25, 22, 9, 22, 5, 27, 27, 27, 27, 27, 27, 27, 27, 27, 27, 27, 27, 27, 27]\n"
     ]
    }
   ],
   "source": [
    "seqs_shifted = [seq[1:] + [stoi['<PAD>']] for seq in seqs_padded]\n",
    "print(seqs_shifted[0])"
   ]
  },
  {
   "cell_type": "code",
   "execution_count": 56,
   "id": "778b82e2",
   "metadata": {},
   "outputs": [
    {
     "data": {
      "text/plain": [
       "('a a c h e n o s a u r u s <PAD> <PAD> <PAD> <PAD> <PAD> <PAD> <PAD> <PAD> <PAD> <PAD> <PAD> <PAD> <PAD>',\n",
       " 'a c h e n o s a u r u s <PAD> <PAD> <PAD> <PAD> <PAD> <PAD> <PAD> <PAD> <PAD> <PAD> <PAD> <PAD> <PAD> <PAD>')"
      ]
     },
     "execution_count": 56,
     "metadata": {},
     "output_type": "execute_result"
    }
   ],
   "source": [
    "batch_to_text(seqs_padded[0], itos), batch_to_text(seqs_shifted[0], itos)"
   ]
  },
  {
   "cell_type": "code",
   "execution_count": 45,
   "id": "f524062e",
   "metadata": {},
   "outputs": [
    {
     "data": {
      "text/plain": [
       "torch.Size([1536, 26, 28])"
      ]
     },
     "execution_count": 45,
     "metadata": {},
     "output_type": "execute_result"
    }
   ],
   "source": [
    "one_hot_seqs = F.one_hot(torch.tensor(seqs_padded)).float()\n",
    "one_hot_seqs.shape # n_examples, seq_len , vocab_size"
   ]
  },
  {
   "cell_type": "code",
   "execution_count": 57,
   "id": "cf023d28",
   "metadata": {},
   "outputs": [
    {
     "data": {
      "text/plain": [
       "torch.Size([1536, 26, 28])"
      ]
     },
     "execution_count": 57,
     "metadata": {},
     "output_type": "execute_result"
    }
   ],
   "source": [
    "one_hot_shifted = F.one_hot(torch.tensor(seqs_shifted)).float()\n",
    "one_hot_shifted.shape # n_examples, seq_len , vocab_size"
   ]
  },
  {
   "cell_type": "code",
   "execution_count": 291,
   "id": "0e1d7e1c",
   "metadata": {},
   "outputs": [
    {
     "data": {
      "text/plain": [
       "LanguageModel(\n",
       "  (rnn): RNN(28, 50, batch_first=True, bidirectional=True)\n",
       "  (fc): Linear(in_features=100, out_features=28, bias=True)\n",
       ")"
      ]
     },
     "execution_count": 291,
     "metadata": {},
     "output_type": "execute_result"
    }
   ],
   "source": [
    "vocab_size = len(vocab)\n",
    "seq_len = max_len\n",
    "\n",
    "class LanguageModel(nn.Module):\n",
    "    def __init__(self, vocab_size, hidden_size, output_size, n_layers=1, bidirectional=False, rnn=nn.RNN):\n",
    "        super().__init__()\n",
    "        self.n_layers = n_layers\n",
    "        self.rnn = rnn(vocab_size, hidden_size, n_layers, batch_first=True, bidirectional=bidirectional)\n",
    "        factor = 2 if bidirectional else 1\n",
    "        self.fc = nn.Linear(factor * hidden_size, output_size)\n",
    "    \n",
    "    def forward(self, x):\n",
    "        a, h = self.rnn(x)\n",
    "        yhat = self.fc(a)\n",
    "        return yhat\n",
    "    \n",
    "model = LanguageModel(vocab_size, 50, vocab_size, n_layers=1, bidirectional=True)\n",
    "model"
   ]
  },
  {
   "cell_type": "code",
   "execution_count": 292,
   "id": "054e9880",
   "metadata": {},
   "outputs": [
    {
     "data": {
      "text/plain": [
       "(torch.Size([1, 26, 28]), torch.Size([1, 26, 28]))"
      ]
     },
     "execution_count": 292,
     "metadata": {},
     "output_type": "execute_result"
    }
   ],
   "source": [
    "x = one_hot_seqs[0][None, :] # 1, seq_len, vocab_size\n",
    "yhat = model(x)\n",
    "x.shape, yhat.shape"
   ]
  },
  {
   "cell_type": "code",
   "execution_count": 293,
   "id": "9ab1420a",
   "metadata": {},
   "outputs": [
    {
     "data": {
      "text/plain": [
       "(torch.Size([1536, 26, 28]), torch.Size([1536, 26, 28]))"
      ]
     },
     "execution_count": 293,
     "metadata": {},
     "output_type": "execute_result"
    }
   ],
   "source": [
    "X = one_hot_seqs\n",
    "Y = one_hot_shifted\n",
    "X.shape, Y.shape"
   ]
  },
  {
   "cell_type": "code",
   "execution_count": 294,
   "id": "112e7cbf",
   "metadata": {},
   "outputs": [],
   "source": [
    "def train_language_model(train_data, model, opt, loss_fn, test_data=None, num_epochs=1000, plot_loss=True, \n",
    "                         batch_size=32, print_stats=True, show_batches_bar=False, shuffle=True, max_to_clip=5.,\n",
    "                         print_every=1):\n",
    "    train_size = train_data[0][0].shape[0]\n",
    "    epoch_losses = []\n",
    "    train_loader = DataLoader(train_data, batch_size=batch_size, shuffle=shuffle)\n",
    "    if test_data is not None:\n",
    "        test_loader = DataLoader(test_data, batch_size=batch_size, shuffle=False)\n",
    "    for epoch in tqdm(range(num_epochs)):\n",
    "        model = model.train()\n",
    "        batch_losses = []\n",
    "        iterator = tqdm(train_loader, leave=False) if show_batches_bar else train_loader\n",
    "        for x, y in iterator:\n",
    "            x = x.to(device)\n",
    "            y = y.to(device)\n",
    "            opt.zero_grad()\n",
    "            yhat = model(x)\n",
    "            loss = loss_fn(yhat, y)\n",
    "            loss.backward()\n",
    "            nn.utils.clip_grad_norm_(model.parameters(), max_to_clip)\n",
    "            opt.step()\n",
    "            batch_losses.append(float(loss) * batch_size)\n",
    "        train_loss = sum(batch_losses) / train_size\n",
    "        epoch_losses.append(train_loss)\n",
    "        \n",
    "        if test_data is not None:\n",
    "            test_size = test_data[0][0].shape[0]\n",
    "            model = model.eval()\n",
    "            batch_losses = []\n",
    "            iterator = tqdm(test_loader, leave=False) if show_batches_bar else test_loader\n",
    "            for x, y in iterator:\n",
    "                x = x.to(device)\n",
    "                y = y.to(device)\n",
    "                opt.zero_grad()\n",
    "                yhat = model(x)\n",
    "                loss = loss_fn(yhat, y)\n",
    "                batch_losses.append(float(loss) * batch_size)\n",
    "            test_loss = sum(batch_losses) / test_size\n",
    "        else:\n",
    "            test_loss = -999\n",
    "\n",
    "        if print_stats and epoch % print_every == 0:\n",
    "            s1 = f'epoch: {epoch: <3}   ' \n",
    "            s2 = f'train loss: {round(train_loss, 4): <6}   test loss: {round(test_loss, 4): <6}' \n",
    "            print(s1 + s2)\n",
    "    if plot_loss:\n",
    "        plt.plot(range(len(epoch_losses)), epoch_losses)\n",
    "    return model"
   ]
  },
  {
   "cell_type": "code",
   "execution_count": 334,
   "id": "1b868ef4",
   "metadata": {},
   "outputs": [
    {
     "data": {
      "application/vnd.jupyter.widget-view+json": {
       "model_id": "113bd6e4e8e140b4baa929979d892a9b",
       "version_major": 2,
       "version_minor": 0
      },
      "text/plain": [
       "  0%|          | 0/1000 [00:00<?, ?it/s]"
      ]
     },
     "metadata": {},
     "output_type": "display_data"
    },
    {
     "name": "stdout",
     "output_type": "stream",
     "text": [
      "epoch: 0     train loss: 165.4859   test loss: 152.0459\n",
      "epoch: 50    train loss: 105.9618   test loss: 105.6813\n",
      "epoch: 100   train loss: 103.5779   test loss: 103.284\n",
      "epoch: 150   train loss: 102.6798   test loss: 102.4643\n",
      "epoch: 200   train loss: 102.0696   test loss: 101.8733\n",
      "epoch: 250   train loss: 101.8943   test loss: 101.697\n",
      "epoch: 300   train loss: 101.5912   test loss: 101.4494\n",
      "epoch: 350   train loss: 101.5171   test loss: 101.4886\n",
      "epoch: 400   train loss: 101.4544   test loss: 101.2585\n",
      "epoch: 450   train loss: 101.4821   test loss: 101.3464\n",
      "epoch: 500   train loss: 101.4313   test loss: 101.3246\n",
      "epoch: 550   train loss: 101.3257   test loss: 101.1806\n",
      "epoch: 600   train loss: 101.205   test loss: 100.9912\n",
      "epoch: 650   train loss: 101.078   test loss: 100.9934\n",
      "epoch: 700   train loss: 101.1608   test loss: 101.0752\n",
      "epoch: 750   train loss: 101.0649   test loss: 100.9337\n",
      "epoch: 800   train loss: 101.1896   test loss: 101.0151\n",
      "epoch: 850   train loss: 101.2149   test loss: 101.0049\n",
      "epoch: 900   train loss: 100.954   test loss: 100.9027\n",
      "epoch: 950   train loss: 100.9804   test loss: 100.7855\n"
     ]
    },
    {
     "data": {
      "image/png": "[encoded data removed]",
      "text/plain": [
       "<Figure size 432x288 with 1 Axes>"
      ]
     },
     "metadata": {
      "needs_background": "light"
     },
     "output_type": "display_data"
    }
   ],
   "source": [
    "data = Dataset(X, Y)\n",
    "model = LanguageModel(vocab_size, 50, vocab_size, n_layers=1, rnn=nn.GRU, bidirectional=False).to(device)\n",
    "loss_fn = nn.CrossEntropyLoss()\n",
    "opt = get_optimizer(model, optimizer='adam', lr=0.01, weight_decay=0.0001)\n",
    "model = train_language_model(data, model, opt, loss_fn, num_epochs=1000, batch_size=128, max_to_clip=5., \n",
    "                             test_data=data, print_every=1000//20)"
   ]
  },
  {
   "cell_type": "code",
   "execution_count": 335,
   "id": "c6d325e8",
   "metadata": {},
   "outputs": [
    {
     "name": "stdout",
     "output_type": "stream",
     "text": [
      "p a c h y s p o n d y l u s                        \n",
      "h l h e e o o l o l l u r                          \n"
     ]
    }
   ],
   "source": [
    "idx = 1000\n",
    "x = X[idx]\n",
    "y = Y[idx]\n",
    "yhat = model(x)\n",
    "print(batch_to_text(x.argmax(dim=-1), itos).replace('<PAD>', ' '))\n",
    "print(batch_to_text(yhat.argmax(dim=-1), itos).replace('<PAD>', ' '))"
   ]
  },
  {
   "cell_type": "code",
   "execution_count": null,
   "id": "463468de",
   "metadata": {},
   "outputs": [],
   "source": [
    "# improvements: use LSTMs or GRUs, multiple layers, Adam, LR scheduler, bidirectional RNNs\n",
    "# it's overfitting pretty good when using a GRU with bidirectional\n",
    "# the predictions still look pretty bad...no doubt due to batching and use of bidirectional"
   ]
  },
  {
   "cell_type": "code",
   "execution_count": 341,
   "id": "ee5dca34",
   "metadata": {},
   "outputs": [
    {
     "data": {
      "text/plain": [
       "'t y r a n o e p e s u s o s s s <PAD> <PAD> <PAD> <PAD> <PAD> <PAD> <PAD> <PAD> <PAD> <PAD>'"
      ]
     },
     "execution_count": 341,
     "metadata": {},
     "output_type": "execute_result"
    }
   ],
   "source": [
    "def predict(model, seed, max_len, output_len):\n",
    "    tokens = pad([stoi[char.lower()] for char in seed], stoi['<PAD>'], max_len)\n",
    "    for i in range(max_len - len(seed)):\n",
    "        x = F.one_hot(torch.tensor(tokens)).float()\n",
    "        yhat = model(x)\n",
    "        probs = yhat.softmax(dim=-1).detach().numpy()[len(seed) + i]\n",
    "        sample = stoi['<PAD>']\n",
    "        if i > output_len:\n",
    "            break\n",
    "        while sample == stoi['<PAD>'] or sample == stoi['\\n']:\n",
    "            sample = np.random.choice(vocab_size, p=probs)\n",
    "        tokens[len(seed) + i] = sample\n",
    "    return tokens\n",
    "\n",
    "seed = 'tyran'\n",
    "tokens = predict(model, seed, max_len, 10)\n",
    "batch_to_text(tokens, itos)"
   ]
  },
  {
   "cell_type": "markdown",
   "id": "4f3e0274",
   "metadata": {},
   "source": [
    "# Embeddings\n",
    "\n",
    "- Instead of one-hot encoding tokens, it's more efficient to feed their `stoi` index directly into the model via an embedding layer, which is a linear layer that takes an lookup index instead of a vector as input, and outputs a vector of specified size. \n",
    "- Mathematically, an embedding is a learned parameter matrix $E$ applied before the first layer of a neural net: $\\sigma(WEx+b)$. \n",
    "- A given token is identified directly with its embedding vector as a representation of the token in a high-dimensional space. \n",
    "- When trained, these embeddings can learn semantic relationships between tokens, taking into account the context of the token to make predictions. \n",
    "- Embeddings can be used for unsupervised tasks, like similarity search or clustering of tokens and documents.\n",
    "- Embeddings can be used to generate feature maps for text before feeding text into a supervised model. In this sense, embeddings enable transfer learning, where you can get away with training on less data with well-tuned embeddings.\n",
    "- When working with text (or any categorical variable with large numbers of classes), an embedding layer should *always* be used."
   ]
  },
  {
   "cell_type": "code",
   "execution_count": 4,
   "id": "622a3871",
   "metadata": {},
   "outputs": [
    {
     "data": {
      "text/plain": [
       "(torch.Size([10]), torch.Size([10, 20]))"
      ]
     },
     "execution_count": 4,
     "metadata": {},
     "output_type": "execute_result"
    }
   ],
   "source": [
    "vocab_size = 50\n",
    "emb_size = 20\n",
    "\n",
    "x = torch.randint(0, vocab_size, size=(10,))\n",
    "emb = nn.Embedding(vocab_size, emb_size)\n",
    "y = emb(x)\n",
    "x.shape, y.shape"
   ]
  },
  {
   "cell_type": "markdown",
   "id": "b13c69b2",
   "metadata": {},
   "source": [
    "## NLP Data Prep: Wikitext103"
   ]
  },
  {
   "cell_type": "code",
   "execution_count": 5,
   "id": "39eaf5b7",
   "metadata": {},
   "outputs": [
    {
     "data": {
      "text/plain": [
       "(1805110, 4358)"
      ]
     },
     "execution_count": 5,
     "metadata": {},
     "output_type": "execute_result"
    }
   ],
   "source": [
    "def text_from_iter(data_iter):\n",
    "    corpus = []\n",
    "    for text in data_iter:\n",
    "        corpus.append(text)\n",
    "    return corpus\n",
    "\n",
    "train_iter = torchtext.datasets.WikiText103(split='train')\n",
    "val_iter = torchtext.datasets.WikiText103(split='valid')\n",
    "test_iter = torchtext.datasets.WikiText103(split='test')\n",
    "\n",
    "train_text = text_from_iter(train_iter) + text_from_iter(val_iter)\n",
    "test_text = text_from_iter(test_iter)\n",
    "len(train_text), len(test_text)"
   ]
  },
  {
   "cell_type": "code",
   "execution_count": 6,
   "id": "ecb480ba",
   "metadata": {},
   "outputs": [
    {
     "data": {
      "text/plain": [
       "144409"
      ]
     },
     "execution_count": 6,
     "metadata": {},
     "output_type": "execute_result"
    }
   ],
   "source": [
    "# downsampling because this is way too much training data\n",
    "fraction = round(len(train_text) * .08)\n",
    "train_text = train_text[:fraction]\n",
    "len(train_text)"
   ]
  },
  {
   "cell_type": "code",
   "execution_count": 7,
   "id": "988ed39a",
   "metadata": {},
   "outputs": [],
   "source": [
    "# def sub_special_tokens(text):\n",
    "#     # put xxup token before words in all caps (easy way to recognize info from capitalizing a word)\n",
    "#     text = re.sub(r'(\\b[A-Z][A-Z0-9]*\\b)', r' xxup \\1 ', text)\n",
    "#     # put xxcap token before words with capitalized first letter (easy way to recognize first word in a sentence)\n",
    "#     text = re.sub(r'(\\b[A-Z][a-z0-9]+\\b)', r' xxcap \\1 ', text)\n",
    "#     # insert beginning and end of sentence tokens xxbos, xxeos after a period, at beginning, and strip extra xxbos\n",
    "#     text = re.sub(r'( [.]+ )', r' xxeos \\1 xxbos ', text)\n",
    "#     text = ' xxbos ' + text\n",
    "#     # text = text[:-7]\n",
    "#     # insert beginning and end of document tokens xxbod, xxeod\n",
    "#     text = ' xxbed ' + text + ' xxeod '\n",
    "#     return text\n",
    "\n",
    "# def normalize_text(text, remove_stopwords=False, stem_text=False, punct=None, lower=True, nums=None, \n",
    "#                    special_tokens=True, strip_non_ascii=False):\n",
    "#     from nltk.stem import SnowballStemmer\n",
    "#     from nltk.corpus import stopwords\n",
    "#     import re, string\n",
    "\n",
    "#     if text.strip() == '':\n",
    "#         return ''\n",
    "#     # strip new lines\n",
    "#     text = re.sub(r'\\n+','',text)\n",
    "#     # put spaces between punctuation (eg: 9.Blah -> 9 . Blah)\n",
    "#     puncts = r'[' + re.escape(string.punctuation) + r']'\n",
    "#     text = re.sub('(?<! )(?=' + puncts + ')|(?<=' + puncts + ')(?! )', r' ', text)\n",
    "#     # converts common patterns into special tokens\n",
    "#     if special_tokens:\n",
    "#         text = sub_special_tokens(text)\n",
    "#     # convert text to lowercase\n",
    "#     if lower:\n",
    "#         text = text.lower()\n",
    "#     # strip non-ascii characters (easy way to denoise text a bit)\n",
    "#     if strip_non_ascii:\n",
    "#         text = text.encode(\"ascii\", errors=\"ignore\").decode()\n",
    "#     # replace all punctuation with xxpunct or strip depending on value of punct\n",
    "#     if punct is not None:\n",
    "#         text = re.sub(r\"[^\\w\\s]\",' xxpunct ', text) if punct == 'replace' else text\n",
    "#         text = re.sub(r\"[^\\w\\s]\",'', text) if punct == 'strip' else text\n",
    "#     # convert all other numbers to xxnum token (e.g. 123, 1.2.3, 1-2-3 -> xxnum)\n",
    "#     if nums is not None:\n",
    "#         text = re.sub(r'\\b([.-]*[0-9]+[.-]*)+\\b', ' xxnum ', text) if nums == 'replace' else text\n",
    "#         text = re.sub(r'\\b([.-]*[0-9]+[.-]*)+\\b', '', text) if nums == 'strip' else text\n",
    "#     # remove nltk's common set of stop words (common for classical NLP analysis)\n",
    "#     if remove_stopwords:\n",
    "#         stop_words = stopwords.words('english')\n",
    "#         text = ' '.join(word for word in text.split() if word not in stop_words)\n",
    "#     # stem words using nltk snowball stemmer, e.g. converts {run, running, runs} all to \"run\"\n",
    "#     if stem_text:\n",
    "#         stemmer = SnowballStemmer('english')\n",
    "#         stemmed_text = ''\n",
    "#         for word in text.split():\n",
    "#                 stemmed_text = stemmed_text + stemmer.stem(word) + ' '\n",
    "#         text = stemmed_text\n",
    "#     # sub the occurance of 2 or more spaces with a single space\n",
    "#     text = re.sub(r'[ ]{2,}',' ',text)\n",
    "#     text = text.strip()\n",
    "#     # fix messed up <unk> tokens\n",
    "#     text = re.sub(r'unk','<unk>',text)       \n",
    "#     return text\n",
    "\n",
    "# def tokenize_corpus(corpus, normalizer, tokenizer, **kwargs):\n",
    "#     tokens = []\n",
    "#     for doc in tqdm(corpus):\n",
    "#         doc = normalizer(doc, **kwargs)\n",
    "#         doc = tokenizer(doc).text\n",
    "#         toks = doc.split(' ') if (doc != '') else ['']\n",
    "#         tokens.append(toks)\n",
    "#     return tokens\n",
    "\n",
    "# tokenizer = torchtext.data.utils.get_tokenizer(nlp) # spacy tokenizer as a function\n",
    "# train_tokens = tokenize_corpus(train_text, normalize_text, tokenizer, punct='strip', nums='strip', strip_non_ascii=True, special_tokens=False)\n",
    "# test_tokens = tokenize_corpus(test_text, normalize_text, tokenizer, punct='strip', nums='strip', strip_non_ascii=True, special_tokens=False)"
   ]
  },
  {
   "cell_type": "code",
   "execution_count": 8,
   "id": "fc18d8f3",
   "metadata": {},
   "outputs": [
    {
     "data": {
      "application/vnd.jupyter.widget-view+json": {
       "model_id": "bfeda2fc3bb94cc1a29c86eaa36182d9",
       "version_major": 2,
       "version_minor": 0
      },
      "text/plain": [
       "  0%|          | 0/144409 [00:00<?, ?it/s]"
      ]
     },
     "metadata": {},
     "output_type": "display_data"
    },
    {
     "data": {
      "text/plain": [
       "9999"
      ]
     },
     "execution_count": 8,
     "metadata": {},
     "output_type": "execute_result"
    }
   ],
   "source": [
    "tokenizer = torchtext.data.utils.get_tokenizer('basic_english')\n",
    "train_tokens = (tokenizer(doc) for doc in tqdm(train_text))\n",
    "\n",
    "vocab = torchtext.vocab.build_vocab_from_iterator(train_tokens, max_tokens=10000, specials=['<unk>', '<pad>'], min_freq=50)\n",
    "vocab.set_default_index(vocab[\"<unk>\"])\n",
    "stoi = vocab.get_stoi()\n",
    "itos = vocab.get_itos()\n",
    "len(vocab)"
   ]
  },
  {
   "cell_type": "code",
   "execution_count": 9,
   "id": "9f6bf74b",
   "metadata": {},
   "outputs": [
    {
     "data": {
      "application/vnd.jupyter.widget-view+json": {
       "model_id": "036680f01a374387b101413edacbbf04",
       "version_major": 2,
       "version_minor": 0
      },
      "text/plain": [
       "  0%|          | 0/144409 [00:00<?, ?it/s]"
      ]
     },
     "metadata": {},
     "output_type": "display_data"
    },
    {
     "data": {
      "application/vnd.jupyter.widget-view+json": {
       "model_id": "e036a25e12bb4291a01acd770e73a8f4",
       "version_major": 2,
       "version_minor": 0
      },
      "text/plain": [
       "  0%|          | 0/4358 [00:00<?, ?it/s]"
      ]
     },
     "metadata": {},
     "output_type": "display_data"
    }
   ],
   "source": [
    "max_tokens = 256\n",
    "\n",
    "train_tokens = (tokenizer(doc) for doc in tqdm(train_text))\n",
    "test_tokens = (tokenizer(doc) for doc in tqdm(test_text))\n",
    "\n",
    "train_tokens = [doc[:max_tokens] for doc in train_tokens if len(doc) > 5]\n",
    "test_tokens = [doc[:max_tokens] for doc in test_tokens if len(doc) > 5]"
   ]
  },
  {
   "cell_type": "markdown",
   "id": "76e9d974",
   "metadata": {},
   "source": [
    "## Word2Vec\n",
    "\n",
    "- Continuous Bag of Words (CBOW): Predict target word given context words\n",
    "- Skip-Gram: Predict some context word given the target word\n",
    "- Model is $\\hat y = \\sigma(WEx+b)$, where $x, y, \\hat y$ all have size $|V| \\times m$.\n",
    "- By default, embeddings have size 300. Vocab sizes can be size 10k or more.\n",
    "- Due to the fact that the vocabulary $|V|$ can be very large, there are a large number of classes, which can make it impractical to calculate the softmax function. To get around this the authors use negative sampling. Instead of solving the original mapping problem, they create an equivalent task as follows:\n",
    "    - For each context-target pair, a number $n$ of negative examples is created to pair with it. The same context is paired with a randomly sampled target, assumed to be false.\n",
    "    - These context-target pairs are then fed into a binary classifier instead of a multiclass classifer, that tries to predict whether the pair is a valid pair or not.\n",
    "- The paper also uses a \"hierarchical softmax\" function instead of the regular softmax, that uses a Huffman Tree to simplify the number of comparisons that need to be done when computing the function. In practice, this isn't really needed anymore with more modern frameworks."
   ]
  },
  {
   "cell_type": "code",
   "execution_count": 10,
   "id": "d00e7806",
   "metadata": {},
   "outputs": [
    {
     "data": {
      "application/vnd.jupyter.widget-view+json": {
       "model_id": "278d2bc9513d4cfa91c28dd41ca84c5b",
       "version_major": 2,
       "version_minor": 0
      },
      "text/plain": [
       "  0%|          | 0/83169 [00:00<?, ?it/s]"
      ]
     },
     "metadata": {},
     "output_type": "display_data"
    },
    {
     "data": {
      "application/vnd.jupyter.widget-view+json": {
       "model_id": "561d09c1dec841ccbcc9d18a86487ea4",
       "version_major": 2,
       "version_minor": 0
      },
      "text/plain": [
       "  0%|          | 0/2531 [00:00<?, ?it/s]"
      ]
     },
     "metadata": {},
     "output_type": "display_data"
    }
   ],
   "source": [
    "# process text for word2vec CBOW\n",
    "# X = context_window, y = target\n",
    "# ex: 'the quick brown fox jumped' w/ window_size=2\n",
    "# X = the quick _ fox jumped\n",
    "# y = brown\n",
    "\n",
    "def proc_for_word2vec(tokens, vocab, window_size=4, pad_token='<pad>'):\n",
    "    contexts = []\n",
    "    targets = []\n",
    "    for doc in tqdm(tokens):\n",
    "        doc = [pad_token] * window_size + doc + [pad_token] * window_size\n",
    "        for i in range(window_size, len(doc) - window_size):\n",
    "            context = doc[i - window_size: i] + doc[i + 1: i + window_size + 1]\n",
    "            target = doc[i]\n",
    "            # print(context, target)\n",
    "            context = vocab(context)\n",
    "            target = vocab([target])[0]\n",
    "            contexts.append(context)\n",
    "            targets.append(target)\n",
    "    contexts = np.array(contexts, dtype=int)\n",
    "    targets = np.array(targets, dtype=int)\n",
    "    return contexts, targets\n",
    "\n",
    "window_size = 5\n",
    "X_train, y_train = proc_for_word2vec(train_tokens, vocab, window_size=window_size)\n",
    "X_test, y_test = proc_for_word2vec(test_tokens, vocab, window_size=window_size)"
   ]
  },
  {
   "cell_type": "code",
   "execution_count": 11,
   "id": "de4d0e72",
   "metadata": {},
   "outputs": [
    {
     "data": {
      "text/plain": [
       "(torch.Size([7807669, 10]),\n",
       " torch.Size([7807669]),\n",
       " torch.Size([235160, 10]),\n",
       " torch.Size([235160]))"
      ]
     },
     "execution_count": 11,
     "metadata": {},
     "output_type": "execute_result"
    }
   ],
   "source": [
    "X_train = torch.from_numpy(X_train).long().to(device)\n",
    "X_test = torch.from_numpy(X_test).long().to(device)\n",
    "y_train = torch.from_numpy(y_train).long().to(device)\n",
    "y_test = torch.from_numpy(y_test).long().to(device)\n",
    "X_train.shape, y_train.shape, X_test.shape, y_test.shape"
   ]
  },
  {
   "cell_type": "code",
   "execution_count": 12,
   "id": "1ce4c745",
   "metadata": {},
   "outputs": [],
   "source": [
    "train_data = Dataset(X_train, y_train)\n",
    "test_data = Dataset(X_test, y_test)"
   ]
  },
  {
   "cell_type": "code",
   "execution_count": 13,
   "id": "ba1ce96d",
   "metadata": {},
   "outputs": [
    {
     "name": "stdout",
     "output_type": "stream",
     "text": [
      "context: ['for', 'the', 'blue', 'jackets', 'in', 'second', 'game', ',', 'a', '4'] \n",
      " target: his \n",
      "\n",
      "\n",
      "context: ['performed', 'under', 'contract', 'throughout', 'europe', 'at', 'times', 'for', 'heads', 'of'] \n",
      " target: and \n",
      "\n",
      "\n",
      "context: ['and', '<unk>', 'a', 'range', 'of', 'sports', ',', 'such', 'as', 'racing'] \n",
      " target: air \n",
      "\n",
      "\n",
      "context: ['.', '@', '89', 'miles', '(', '@', '.', '@', '04', 'km'] \n",
      " target: 3 \n",
      "\n",
      "\n",
      "context: ['<pad>', 'the', 're', '@-@', 'recorded', 'of', 'west', 'end', 'girls', 'was'] \n",
      " target: version \n",
      "\n",
      "\n"
     ]
    }
   ],
   "source": [
    "for idx in np.random.choice(len(test_data), size=5):\n",
    "    context = [itos[i] for i in X_train[idx].cpu()]\n",
    "    target = itos[y_train[idx]]\n",
    "    print(f'context: {context} \\n target: {target} \\n\\n')"
   ]
  },
  {
   "cell_type": "code",
   "execution_count": 14,
   "id": "b6d0a21f",
   "metadata": {},
   "outputs": [],
   "source": [
    "vocab_size = len(vocab)\n",
    "emb_size = 300\n",
    "\n",
    "class Word2VecCBOW(nn.Module):\n",
    "    def __init__(self, window_size, vocab_size, emb_size=300):\n",
    "        super().__init__()\n",
    "        self.emb = nn.Embedding(vocab_size, emb_size, max_norm=1)\n",
    "        self.fc = nn.Linear(emb_size, vocab_size)\n",
    "        self.relu = nn.ReLU()\n",
    "    \n",
    "    def forward(self, x):\n",
    "        # pass each x[0, ..., context_window] through self.emb\n",
    "        x = self.emb(x)\n",
    "        # average the context_window outputs together to get an emb_size vector\n",
    "        x = torch.mean(x, dim=1)\n",
    "        # extra layers\n",
    "        x = self.relu(x)\n",
    "        # pass vector through linear layer to get vocab_size logits\n",
    "        x = self.fc(x)\n",
    "        # return logits\n",
    "        return x"
   ]
  },
  {
   "cell_type": "code",
   "execution_count": 15,
   "id": "3bdc57fa",
   "metadata": {},
   "outputs": [],
   "source": [
    "# model = Word2VecCBOW(window_size, vocab_size, emb_size=emb_size).to(device)\n",
    "# loss_fn = nn.CrossEntropyLoss()\n",
    "# opt = get_optimizer(model, optimizer='adam', lr=0.004, weight_decay=0.0001)\n",
    "# scheduler = torch.optim.lr_scheduler.StepLR(opt, step_size=10, gamma=0.5)\n",
    "# model = train_model(train_data, model, opt, loss_fn, num_epochs=100, batch_size=4096, test_data=test_data,\n",
    "#                     scheduler=scheduler, print_every=5)"
   ]
  },
  {
   "cell_type": "code",
   "execution_count": 16,
   "id": "e65ad81c",
   "metadata": {},
   "outputs": [],
   "source": [
    "train_loader = torch.utils.data.DataLoader(train_data, batch_size=4096, shuffle=True)\n",
    "test_loader = torch.utils.data.DataLoader(test_data, batch_size=4096, shuffle=False)\n",
    "dls = fastai.DataLoaders(train_loader, test_loader)\n",
    "\n",
    "model = Word2VecCBOW(window_size, vocab_size, emb_size=emb_size).to(device)\n",
    "loss_fn = nn.CrossEntropyLoss()"
   ]
  },
  {
   "cell_type": "code",
   "execution_count": 17,
   "id": "dc1de63b",
   "metadata": {},
   "outputs": [
    {
     "data": {
      "text/html": [
       "\n",
       "<style>\n",
       "    /* Turns off some styling */\n",
       "    progress {\n",
       "        /* gets rid of default border in Firefox and Opera. */\n",
       "        border: none;\n",
       "        /* Needs to be in here for Safari polyfill so background images work as expected. */\n",
       "        background-size: auto;\n",
       "    }\n",
       "    .progress-bar-interrupted, .progress-bar-interrupted::-webkit-progress-bar {\n",
       "        background: #F44336;\n",
       "    }\n",
       "</style>\n"
      ],
      "text/plain": [
       "<IPython.core.display.HTML object>"
      ]
     },
     "metadata": {},
     "output_type": "display_data"
    },
    {
     "data": {
      "text/html": [],
      "text/plain": [
       "<IPython.core.display.HTML object>"
      ]
     },
     "metadata": {},
     "output_type": "display_data"
    },
    {
     "data": {
      "text/plain": [
       "SuggestedLRs(valley=0.004365158267319202)"
      ]
     },
     "execution_count": 17,
     "metadata": {},
     "output_type": "execute_result"
    },
    {
     "data": {
      "image/png": "[encoded data removed]",
      "text/plain": [
       "<Figure size 432x288 with 1 Axes>"
      ]
     },
     "metadata": {
      "needs_background": "light"
     },
     "output_type": "display_data"
    }
   ],
   "source": [
    "learn = Learner(dls, model, loss_func=loss_fn, metrics=fastai.accuracy)\n",
    "learn.lr_find()"
   ]
  },
  {
   "cell_type": "code",
   "execution_count": 18,
   "id": "7bfbb035",
   "metadata": {},
   "outputs": [
    {
     "data": {
      "text/html": [
       "\n",
       "<style>\n",
       "    /* Turns off some styling */\n",
       "    progress {\n",
       "        /* gets rid of default border in Firefox and Opera. */\n",
       "        border: none;\n",
       "        /* Needs to be in here for Safari polyfill so background images work as expected. */\n",
       "        background-size: auto;\n",
       "    }\n",
       "    .progress-bar-interrupted, .progress-bar-interrupted::-webkit-progress-bar {\n",
       "        background: #F44336;\n",
       "    }\n",
       "</style>\n"
      ],
      "text/plain": [
       "<IPython.core.display.HTML object>"
      ]
     },
     "metadata": {},
     "output_type": "display_data"
    },
    {
     "data": {
      "text/html": [
       "<table border=\"1\" class=\"dataframe\">\n",
       "  <thead>\n",
       "    <tr style=\"text-align: left;\">\n",
       "      <th>epoch</th>\n",
       "      <th>train_loss</th>\n",
       "      <th>valid_loss</th>\n",
       "      <th>accuracy</th>\n",
       "      <th>time</th>\n",
       "    </tr>\n",
       "  </thead>\n",
       "  <tbody>\n",
       "    <tr>\n",
       "      <td>0</td>\n",
       "      <td>6.229568</td>\n",
       "      <td>6.124390</td>\n",
       "      <td>0.110941</td>\n",
       "      <td>03:41</td>\n",
       "    </tr>\n",
       "    <tr>\n",
       "      <td>1</td>\n",
       "      <td>5.878863</td>\n",
       "      <td>5.761906</td>\n",
       "      <td>0.162162</td>\n",
       "      <td>03:45</td>\n",
       "    </tr>\n",
       "    <tr>\n",
       "      <td>2</td>\n",
       "      <td>5.676596</td>\n",
       "      <td>5.578877</td>\n",
       "      <td>0.175370</td>\n",
       "      <td>03:52</td>\n",
       "    </tr>\n",
       "    <tr>\n",
       "      <td>3</td>\n",
       "      <td>5.574441</td>\n",
       "      <td>5.474500</td>\n",
       "      <td>0.181200</td>\n",
       "      <td>03:54</td>\n",
       "    </tr>\n",
       "    <tr>\n",
       "      <td>4</td>\n",
       "      <td>5.509526</td>\n",
       "      <td>5.413337</td>\n",
       "      <td>0.182973</td>\n",
       "      <td>03:57</td>\n",
       "    </tr>\n",
       "    <tr>\n",
       "      <td>5</td>\n",
       "      <td>5.452353</td>\n",
       "      <td>5.361015</td>\n",
       "      <td>0.186473</td>\n",
       "      <td>03:57</td>\n",
       "    </tr>\n",
       "    <tr>\n",
       "      <td>6</td>\n",
       "      <td>5.396221</td>\n",
       "      <td>5.314703</td>\n",
       "      <td>0.190458</td>\n",
       "      <td>03:57</td>\n",
       "    </tr>\n",
       "    <tr>\n",
       "      <td>7</td>\n",
       "      <td>5.372440</td>\n",
       "      <td>5.283380</td>\n",
       "      <td>0.191959</td>\n",
       "      <td>03:58</td>\n",
       "    </tr>\n",
       "    <tr>\n",
       "      <td>8</td>\n",
       "      <td>5.336491</td>\n",
       "      <td>5.253022</td>\n",
       "      <td>0.194701</td>\n",
       "      <td>04:00</td>\n",
       "    </tr>\n",
       "    <tr>\n",
       "      <td>9</td>\n",
       "      <td>5.301993</td>\n",
       "      <td>5.226168</td>\n",
       "      <td>0.197776</td>\n",
       "      <td>04:00</td>\n",
       "    </tr>\n",
       "    <tr>\n",
       "      <td>10</td>\n",
       "      <td>5.287377</td>\n",
       "      <td>5.203541</td>\n",
       "      <td>0.200276</td>\n",
       "      <td>04:01</td>\n",
       "    </tr>\n",
       "    <tr>\n",
       "      <td>11</td>\n",
       "      <td>5.252302</td>\n",
       "      <td>5.186985</td>\n",
       "      <td>0.202726</td>\n",
       "      <td>04:04</td>\n",
       "    </tr>\n",
       "    <tr>\n",
       "      <td>12</td>\n",
       "      <td>5.237983</td>\n",
       "      <td>5.177898</td>\n",
       "      <td>0.204074</td>\n",
       "      <td>04:01</td>\n",
       "    </tr>\n",
       "    <tr>\n",
       "      <td>13</td>\n",
       "      <td>5.224821</td>\n",
       "      <td>5.173238</td>\n",
       "      <td>0.204686</td>\n",
       "      <td>04:01</td>\n",
       "    </tr>\n",
       "    <tr>\n",
       "      <td>14</td>\n",
       "      <td>5.214745</td>\n",
       "      <td>5.172756</td>\n",
       "      <td>0.204848</td>\n",
       "      <td>04:07</td>\n",
       "    </tr>\n",
       "  </tbody>\n",
       "</table>"
      ],
      "text/plain": [
       "<IPython.core.display.HTML object>"
      ]
     },
     "metadata": {},
     "output_type": "display_data"
    }
   ],
   "source": [
    "learn.fit_one_cycle(15, 0.004)"
   ]
  },
  {
   "cell_type": "code",
   "execution_count": 19,
   "id": "03a46918",
   "metadata": {},
   "outputs": [],
   "source": [
    "checkpoint = Path.cwd() / 'models' / 'checkpoint.pth'"
   ]
  },
  {
   "cell_type": "code",
   "execution_count": 20,
   "id": "228a799e",
   "metadata": {},
   "outputs": [],
   "source": [
    "model = learn.model\n",
    "torch.save(model.state_dict(), checkpoint)"
   ]
  },
  {
   "cell_type": "code",
   "execution_count": 21,
   "id": "c8917ec0",
   "metadata": {},
   "outputs": [
    {
     "data": {
      "text/plain": [
       "<All keys matched successfully>"
      ]
     },
     "execution_count": 21,
     "metadata": {},
     "output_type": "execute_result"
    }
   ],
   "source": [
    "model = Word2VecCBOW(window_size, vocab_size, emb_size=emb_size).to(device)\n",
    "model.load_state_dict(torch.load(checkpoint))"
   ]
  },
  {
   "cell_type": "code",
   "execution_count": 22,
   "id": "9fc119f3",
   "metadata": {},
   "outputs": [],
   "source": [
    "model = model.eval()\n",
    "embeddings = model.emb"
   ]
  },
  {
   "cell_type": "code",
   "execution_count": 23,
   "id": "cbdda128",
   "metadata": {},
   "outputs": [],
   "source": [
    "def word_embedding(word, embeddings, stoi):\n",
    "    x = torch.tensor(stoi[word]).long().to(device)\n",
    "    x = embeddings(x)\n",
    "    return x\n",
    "\n",
    "queen = word_embedding('queen', embeddings, stoi)\n",
    "king = word_embedding('king', embeddings, stoi)\n",
    "woman = word_embedding('woman', embeddings, stoi)\n",
    "man = word_embedding('man', embeddings, stoi)"
   ]
  },
  {
   "cell_type": "code",
   "execution_count": 24,
   "id": "8f7dbcf5",
   "metadata": {},
   "outputs": [
    {
     "data": {
      "text/plain": [
       "tensor(0.8209, device='cuda:0', grad_fn=<DivBackward0>)"
      ]
     },
     "execution_count": 24,
     "metadata": {},
     "output_type": "execute_result"
    }
   ],
   "source": [
    "F.cosine_similarity(king - man + woman, queen, dim=0)"
   ]
  },
  {
   "cell_type": "code",
   "execution_count": 25,
   "id": "75b348cb",
   "metadata": {},
   "outputs": [],
   "source": [
    "def most_similar_words(word, embeddings, stoi, itos, n_most=10):\n",
    "    if isinstance(word, str):\n",
    "        word = word_embedding(word, embeddings, stoi)[None, :]\n",
    "    embs = list(embeddings.parameters())[0].detach()\n",
    "    sims = F.cosine_similarity(word, embs, dim=1).detach().cpu()\n",
    "    top_n = torch.topk(torch.abs(sims), n_most, largest=False, sorted=True).indices\n",
    "    return [(itos[idx], sims[idx].numpy().item()) for idx in top_n]"
   ]
  },
  {
   "cell_type": "code",
   "execution_count": 26,
   "id": "b5c8e5fe",
   "metadata": {},
   "outputs": [
    {
     "data": {
      "text/plain": [
       "[('integral', -2.872199047487811e-06),\n",
       " ('phylogenetic', -9.573996976541821e-06),\n",
       " ('usually', -9.017906995723024e-05),\n",
       " ('health', -0.0001353882544208318),\n",
       " ('stronger', 0.0001357515575364232),\n",
       " ('filmed', 0.00018133968114852905),\n",
       " ('flags', -0.00019406157662160695),\n",
       " ('rented', -0.00020855292677879333),\n",
       " ('laser', -0.00021361563995014876),\n",
       " ('environments', 0.00021713320165872574)]"
      ]
     },
     "execution_count": 26,
     "metadata": {},
     "output_type": "execute_result"
    }
   ],
   "source": [
    "most_similar_words('king', embeddings, stoi, itos, n_most=10)"
   ]
  },
  {
   "cell_type": "code",
   "execution_count": 27,
   "id": "4c3c91dd",
   "metadata": {},
   "outputs": [
    {
     "data": {
      "text/plain": [
       "[('320', 1.5628698747605085e-05),\n",
       " ('140', -9.740883979247883e-05),\n",
       " ('busy', 9.890575893223286e-05),\n",
       " ('results', 0.00011465771240182221),\n",
       " ('03', 0.0001278647978324443),\n",
       " ('folded', -0.0001308945647906512),\n",
       " ('0000', -0.0001319859438808635),\n",
       " ('doubles', -0.00020721058535855263),\n",
       " ('effect', -0.00023616498219780624),\n",
       " ('stunt', 0.0002486630401108414)]"
      ]
     },
     "execution_count": 27,
     "metadata": {},
     "output_type": "execute_result"
    }
   ],
   "source": [
    "most_similar_words(king - man + woman, embeddings, stoi, itos, n_most=10)"
   ]
  },
  {
   "cell_type": "code",
   "execution_count": 28,
   "id": "fa3cb565",
   "metadata": {},
   "outputs": [
    {
     "data": {
      "text/plain": [
       "('controversial strike call made by plate umpire <unk> foster .',\n",
       " 'home',\n",
       " [('a', 0.23952102661132812),\n",
       "  ('the', 0.22333352267742157),\n",
       "  ('<unk>', 0.04164113476872444),\n",
       "  ('to', 0.041029222309589386),\n",
       "  ('an', 0.037046175450086594),\n",
       "  ('and', 0.03352990001440048),\n",
       "  ('was', 0.03270604461431503),\n",
       "  ('his', 0.027243968099355698),\n",
       "  (',', 0.019775737076997757),\n",
       "  ('@-@', 0.011665976606309414)])"
      ]
     },
     "execution_count": 28,
     "metadata": {},
     "output_type": "execute_result"
    }
   ],
   "source": [
    "def predict(context, model, stoi, itos, top_k=5):\n",
    "    x = torch.tensor([stoi[word] for word in context]).long().to(device)\n",
    "    yhat = model(x[None, :]).detach().cpu().flatten()\n",
    "    idxs = torch.topk(yhat, top_k, largest=True, sorted=True).indices.flatten()\n",
    "    preds = [(itos[idx], yhat.softmax(dim=0)[idx].numpy().item()) for idx in idxs]\n",
    "    return preds\n",
    "\n",
    "context = ['controversial', 'strike', 'call', 'made', 'by', 'plate', 'umpire', '<unk>', 'foster', '.']\n",
    "target = 'home'\n",
    "pred = predict(context, model, stoi, itos, top_k=10)\n",
    "' '.join(context), target, pred"
   ]
  },
  {
   "cell_type": "markdown",
   "id": "e3d5ab58",
   "metadata": {},
   "source": [
    "## GloVe\n",
    "\n",
    "- Slightly different way of learning word embeddings from word2vec\n",
    "- Given a corpus and vocabular, it uses the co-ocurrance $X=(x_{ij})$, where $x_{ij}$ is the number of times word $j$ occurs in the context of word $i$.\n",
    "- Given some weighting function $f(x_{ij})$ it seeks to solve the following optimization problem\n",
    "$$\\text{min} \\sum_{i,j=1}^{|V|} f(x_{ij}) (\\tilde e_j^T e_i + b_i + \\tilde b_j - \\log(x_{ij}))^2$$,\n",
    "where $e, \\tilde e, b, \\tilde b$ are parameter matrices and vectors to be learned\n",
    "- Note $e$ and $\\tilde e$ are both embedding matrices, but aren't exactly equal. To get the final embeddings $E$, just take the average of the two: $E = \\frac{1}{2}(e + \\tilde e)$."
   ]
  },
  {
   "cell_type": "code",
   "execution_count": 124,
   "id": "58ff98a3",
   "metadata": {},
   "outputs": [],
   "source": [
    "# get co-occurance matrix X_ij = num times word j appears in context of target word i\n",
    "\n",
    "def cooccurance_matrix(corpus, vocab, window_size=4, pad_token='<pad>'):\n",
    "    vocab_size = len(vocab)\n",
    "    X = torch.zeros((vocab_size, vocab_size))\n",
    "    for doc in tqdm(corpus):\n",
    "        doc_padded = [pad_token] * window_size + doc + [pad_token] * window_size\n",
    "        nums = vocab(doc_padded)\n",
    "        for k in range(len(nums)):\n",
    "            i = nums[k]\n",
    "            js = nums[k - window_size: k + window_size + 1]\n",
    "            for j in js:\n",
    "                X[i, j] += 1\n",
    "    return X\n",
    "\n",
    "class GloveLoss(nn.Module):\n",
    "    def __init__(self, vocab_size, emb_size, eps=1e-8):\n",
    "        super().__init__()\n",
    "        self.e1 = nn.parameter.Parameter(2 * torch.rand(vocab_size, emb_size) - 1, requires_grad=True)\n",
    "        self.e2 = nn.parameter.Parameter(2 * torch.rand(vocab_size, emb_size) - 1, requires_grad=True)\n",
    "        self.b = nn.parameter.Parameter(torch.zeros(vocab_size, 1), requires_grad=True)\n",
    "        self.eps = eps\n",
    "    \n",
    "    def forward(self, X):\n",
    "        mask = (self.e1 @ self.e2.T + self.b - torch.log(X))[X > self.eps]\n",
    "        loss = torch.sum(mask**2)\n",
    "        return loss"
   ]
  },
  {
   "cell_type": "code",
   "execution_count": 111,
   "id": "3616b4cf",
   "metadata": {},
   "outputs": [
    {
     "data": {
      "application/vnd.jupyter.widget-view+json": {
       "model_id": "b4e24d165da94eaeba32866c628494fc",
       "version_major": 2,
       "version_minor": 0
      },
      "text/plain": [
       "  0%|          | 0/2 [00:00<?, ?it/s]"
      ]
     },
     "metadata": {},
     "output_type": "display_data"
    },
    {
     "data": {
      "text/plain": [
       "([['this', 'is', 'a', 'sentence', 'about', 'nothing', '.'],\n",
       "  ['this',\n",
       "   'is',\n",
       "   'another',\n",
       "   'sentence',\n",
       "   'about',\n",
       "   'absolutely',\n",
       "   'nothing',\n",
       "   '.']],\n",
       " tensor(2.))"
      ]
     },
     "execution_count": 111,
     "metadata": {},
     "output_type": "execute_result"
    }
   ],
   "source": [
    "test = ['this is a sentence about nothing .'.split(), 'this is another sentence about absolutely nothing .'.split()]\n",
    "x = cooccurance_matrix(test, vocab, window_size=4, pad_token='<pad>')\n",
    "test, x[stoi['this'], stoi['is']]"
   ]
  },
  {
   "cell_type": "code",
   "execution_count": 14,
   "id": "dddc9bdf",
   "metadata": {},
   "outputs": [
    {
     "data": {
      "application/vnd.jupyter.widget-view+json": {
       "model_id": "e62b77132a6445e0bb77fa77a0dae272",
       "version_major": 2,
       "version_minor": 0
      },
      "text/plain": [
       "  0%|          | 0/83169 [00:00<?, ?it/s]"
      ]
     },
     "metadata": {},
     "output_type": "display_data"
    },
    {
     "name": "stderr",
     "output_type": "stream",
     "text": [
      "IOPub message rate exceeded.\n",
      "The notebook server will temporarily stop sending output\n",
      "to the client in order to avoid crashing it.\n",
      "To change this limit, set the config variable\n",
      "`--NotebookApp.iopub_msg_rate_limit`.\n",
      "\n",
      "Current values:\n",
      "NotebookApp.iopub_msg_rate_limit=1000.0 (msgs/sec)\n",
      "NotebookApp.rate_limit_window=3.0 (secs)\n",
      "\n",
      "IOPub message rate exceeded.\n",
      "The notebook server will temporarily stop sending output\n",
      "to the client in order to avoid crashing it.\n",
      "To change this limit, set the config variable\n",
      "`--NotebookApp.iopub_msg_rate_limit`.\n",
      "\n",
      "Current values:\n",
      "NotebookApp.iopub_msg_rate_limit=1000.0 (msgs/sec)\n",
      "NotebookApp.rate_limit_window=3.0 (secs)\n",
      "\n"
     ]
    }
   ],
   "source": [
    "X_train = cooccurance_matrix(train_tokens, vocab, window_size=4, pad_token='<pad>')\n",
    "X_test = cooccurance_matrix(test_tokens, vocab, window_size=4, pad_token='<pad>')"
   ]
  },
  {
   "cell_type": "code",
   "execution_count": 125,
   "id": "f43d9d7b",
   "metadata": {},
   "outputs": [],
   "source": [
    "X_train = X_train.to(device)\n",
    "X_test = X_test.to(device)"
   ]
  },
  {
   "cell_type": "code",
   "execution_count": 126,
   "id": "3513c2e1",
   "metadata": {},
   "outputs": [],
   "source": [
    "vocab_size = len(vocab)\n",
    "emb_size = 300"
   ]
  },
  {
   "cell_type": "code",
   "execution_count": 149,
   "id": "87cd8a2a",
   "metadata": {},
   "outputs": [
    {
     "data": {
      "application/vnd.jupyter.widget-view+json": {
       "model_id": "ec973705add74dc188171db0c9c624c1",
       "version_major": 2,
       "version_minor": 0
      },
      "text/plain": [
       "  0%|          | 0/10001 [00:00<?, ?it/s]"
      ]
     },
     "metadata": {},
     "output_type": "display_data"
    },
    {
     "name": "stdout",
     "output_type": "stream",
     "text": [
      "iter: 0 \t\t train loss: 230594272 \t\t test loss: 9598362\n",
      "iter: 1000 \t\t train loss: 187467 \t\t test loss: 3008212\n",
      "iter: 2000 \t\t train loss: 175377 \t\t test loss: 3143044\n",
      "iter: 3000 \t\t train loss: 163996 \t\t test loss: 3246573\n",
      "iter: 4000 \t\t train loss: 161332 \t\t test loss: 3325470\n",
      "iter: 5000 \t\t train loss: 158753 \t\t test loss: 3412328\n",
      "iter: 6000 \t\t train loss: 157538 \t\t test loss: 3457867\n",
      "iter: 7000 \t\t train loss: 156356 \t\t test loss: 3520260\n",
      "iter: 8000 \t\t train loss: 155695 \t\t test loss: 3574653\n",
      "iter: 9000 \t\t train loss: 154995 \t\t test loss: 3618994\n",
      "iter: 10000 \t\t train loss: 154494 \t\t test loss: 3665514\n"
     ]
    }
   ],
   "source": [
    "n_iters = 10000\n",
    "loss_fn = GloveLoss(vocab_size, emb_size).to(device)\n",
    "opt = get_optimizer(loss_fn, optimizer='adam', lr=0.1, weight_decay=0.001)\n",
    "scheduler = torch.optim.lr_scheduler.StepLR(opt, step_size=2000, gamma=0.5)\n",
    "for n in tqdm(range(n_iters+1)):\n",
    "    opt.zero_grad()\n",
    "    loss = loss_fn(X_train)\n",
    "    loss.backward()\n",
    "    opt.step()\n",
    "    scheduler.step()\n",
    "    if n % (n_iters // 10) == 0:\n",
    "        train_loss = loss.detach().cpu().numpy().item()\n",
    "        test_loss = loss_fn(X_test).detach().cpu().numpy().item()\n",
    "        print(f'iter: {n} \\t\\t train loss: {round(train_loss)} \\t\\t test loss: {round(test_loss)}')"
   ]
  },
  {
   "cell_type": "code",
   "execution_count": 150,
   "id": "736cebb4",
   "metadata": {},
   "outputs": [
    {
     "data": {
      "text/plain": [
       "torch.Size([9999, 300])"
      ]
     },
     "execution_count": 150,
     "metadata": {},
     "output_type": "execute_result"
    }
   ],
   "source": [
    "# check these are the updated params first\n",
    "embeddings = (loss_fn.e1 + loss_fn.e2) / 2\n",
    "embeddings.shape"
   ]
  },
  {
   "cell_type": "code",
   "execution_count": 151,
   "id": "42be4472",
   "metadata": {},
   "outputs": [],
   "source": [
    "def word_embedding(word, embeddings, stoi):\n",
    "    x = torch.tensor(stoi[word]).long().to(device)\n",
    "    x = embeddings[x]\n",
    "    return x\n",
    "\n",
    "def most_similar_words(word, embeddings, stoi, itos, n_most=10):\n",
    "    if isinstance(word, str):\n",
    "        word = word_embedding(word, embeddings, stoi)[None, :]\n",
    "    embs = embeddings.detach()\n",
    "    sims = F.cosine_similarity(word, embs, dim=1).detach().cpu()\n",
    "    top_n = torch.topk(torch.abs(sims), n_most, largest=False, sorted=True).indices\n",
    "    return [(itos[idx], sims[idx].numpy().item()) for idx in top_n]"
   ]
  },
  {
   "cell_type": "code",
   "execution_count": 152,
   "id": "287a7cb3",
   "metadata": {},
   "outputs": [
    {
     "data": {
      "text/plain": [
       "tensor(0.3064, device='cuda:0', grad_fn=<DivBackward0>)"
      ]
     },
     "execution_count": 152,
     "metadata": {},
     "output_type": "execute_result"
    }
   ],
   "source": [
    "queen = word_embedding('queen', embeddings, stoi)\n",
    "king = word_embedding('king', embeddings, stoi)\n",
    "woman = word_embedding('woman', embeddings, stoi)\n",
    "man = word_embedding('man', embeddings, stoi)\n",
    "F.cosine_similarity(king - man + woman, queen, dim=0)"
   ]
  },
  {
   "cell_type": "code",
   "execution_count": 159,
   "id": "c7fea28b",
   "metadata": {},
   "outputs": [
    {
     "data": {
      "text/plain": [
       "[('celebrate', 9.375954505230766e-06),\n",
       " ('1920', 2.9976708901813254e-05),\n",
       " ('solving', -3.0787054129177704e-05),\n",
       " ('ships', -3.7333793443394825e-05),\n",
       " ('resigned', -3.9224167267093435e-05),\n",
       " ('near', -4.626500958693214e-05),\n",
       " ('accompanying', -5.384801625041291e-05),\n",
       " ('syndrome', -6.074453267501667e-05),\n",
       " ('490', 8.769206033321097e-05),\n",
       " ('contained', 9.128214878728613e-05),\n",
       " ('composers', 9.754366328706965e-05),\n",
       " ('package', 0.00011003619147231802),\n",
       " ('castle', -0.00012274799519218504),\n",
       " ('epidemic', -0.00012277578935027122),\n",
       " ('understood', 0.0001257588155567646),\n",
       " ('adam', 0.0001278083655051887),\n",
       " ('brass', 0.00015247093688230962),\n",
       " ('hundreds', -0.00015269142750184983),\n",
       " ('proposals', -0.000157077782205306),\n",
       " ('′', -0.0001716559345368296)]"
      ]
     },
     "execution_count": 159,
     "metadata": {},
     "output_type": "execute_result"
    }
   ],
   "source": [
    "most_similar_words('physics', embeddings, stoi, itos, n_most=20)"
   ]
  },
  {
   "cell_type": "markdown",
   "id": "536d91fe",
   "metadata": {},
   "source": [
    "# Advanced Model Architectures\n",
    "\n",
    "**Seq2Seq Models**\n",
    "- Maps a sequence $x_1,\\cdots,x_T$ to a new sequence $y_1,\\cdots,y_{T'}$.\n",
    "- The stereotypical application is machine translation, where text in one language is translated to language in another language, e.g. `I am going home.` -> `Ich gehe nacht Hause.`. Other examples include named entity recognition (NER), part of speech tagging (POS), or speech recognition (audio to text).\n",
    "- Typically an encoder-decoder architecture is used. The encoder is a sequence model (e.g. an RNN) that takes a sequence and maps it to an intermediate representation, which then gets fed to a decoder, which is a different sequence model that maps representations to the output sequence.\n",
    "\n",
    "**Image to Text Models**\n",
    "- Maps an image to a sequence of text output. The stereotypical example is image captioning, where one feeds in an image and asks the model to \"describe\" what the image is in words.\n",
    "- Typically a CNN model is used to get a feature map of the image, which is then fed as an input into a sequence model decoder to output text.\n",
    "\n",
    "**Beam Search**\n",
    "- In a seq2seq model, the model tries to learn $p(y_1,\\cdots,y_{T'}|x_1,\\cdots,x_T)$. In many applications, one doesn't want to sample from this distribution, but to find the *most likely* sequence $\\hat y_1, \\cdots, \\hat y_{T'}$, e.g. in machine translation where one wants the *best* possible translation.\n",
    "- The naive way of outputing a prediction is a \"greedy search\". This approach just uses the argmax of each predicted $\\hat y_t$ to make a prediction. Greedy searches aren't generally optimal, in the sense of getting the argmax of the *joint distribution*. In the case of seq2seq, the greedy search can overly focus on the earlier inputs, causing it to miss the big picture.\n",
    "- Beam search is a way around this. It's an approximate algorithm for finding the max of a set of sequences sampled from a joint distribution, i.e. finding $\\hat y = \\text{argmax} p(y_1,\\cdots,y_{T'}|x_1,\\cdots,x_T)$.\n",
    "\n",
    "**Attention Models**"
   ]
  },
  {
   "cell_type": "code",
   "execution_count": null,
   "id": "06fdd376",
   "metadata": {},
   "outputs": [],
   "source": []
  },
  {
   "cell_type": "code",
   "execution_count": null,
   "id": "811d0fb2",
   "metadata": {},
   "outputs": [],
   "source": [
    "torch.random."
   ]
  },
  {
   "cell_type": "code",
   "execution_count": null,
   "id": "f96c45c2",
   "metadata": {},
   "outputs": [],
   "source": []
  }
 ],
 "metadata": {
  "kernelspec": {
   "display_name": "Python 3 (ipykernel)",
   "language": "python",
   "name": "python3"
  },
  "language_info": {
   "codemirror_mode": {
    "name": "ipython",
    "version": 3
   },
   "file_extension": ".py",
   "mimetype": "text/x-python",
   "name": "python",
   "nbconvert_exporter": "python",
   "pygments_lexer": "ipython3",
   "version": "3.10.4"
  }
 },
 "nbformat": 4,
 "nbformat_minor": 5
}
