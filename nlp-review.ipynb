{
 "cells": [
  {
   "cell_type": "code",
   "execution_count": 1,
   "id": "f737dec4",
   "metadata": {},
   "outputs": [],
   "source": [
    "import numpy as np\n",
    "import pandas as pd\n",
    "import matplotlib.pyplot as plt\n",
    "import urllib\n",
    "from tqdm.notebook import tqdm\n",
    "from pathlib import Path\n",
    "\n",
    "import torch\n",
    "import torch.nn as nn\n",
    "import torch.nn.functional as F\n",
    "from torch.utils.data import DataLoader\n",
    "import torchtext\n",
    "\n",
    "import timm\n",
    "import fastai.vision.all as fastai\n",
    "from fastai.callback.schedule import Learner\n",
    "\n",
    "# from torch.utils.tensorboard import SummaryWriter\n",
    "from tensorboardX import SummaryWriter\n",
    "%load_ext tensorboard\n",
    "\n",
    "import spacy\n",
    "import re\n",
    "import nltk\n",
    "\n",
    "seed = 42\n",
    "np.random.seed(seed + 1)\n",
    "torch.manual_seed(seed)\n",
    "\n",
    "nlp = spacy.load(\"en_core_web_sm\")"
   ]
  },
  {
   "cell_type": "code",
   "execution_count": 2,
   "id": "36ac4471",
   "metadata": {},
   "outputs": [
    {
     "name": "stdout",
     "output_type": "stream",
     "text": [
      "device: cpu\n"
     ]
    }
   ],
   "source": [
    "def get_device():\n",
    "    if torch.cuda.is_available():\n",
    "        device = 'cuda'\n",
    "    elif hasattr(torch.backends, 'mps') and torch.backends.mps.is_available():\n",
    "        device = 'mps'\n",
    "    else:\n",
    "        device = 'cpu'\n",
    "    return device\n",
    "\n",
    "device = get_device()\n",
    "\n",
    "print(f'device: {device}')"
   ]
  },
  {
   "cell_type": "code",
   "execution_count": 30,
   "id": "0d49df82",
   "metadata": {},
   "outputs": [],
   "source": [
    "def get_optimizer(model, optimizer='sgd', lr=0.001, weight_decay=0, momentum=0, betas=(0.9, 0.999), eps=1e-8):\n",
    "    if optimizer == 'sgd':\n",
    "        opt = torch.optim.SGD(\n",
    "            model.parameters(),\n",
    "            lr=lr, \n",
    "            weight_decay=weight_decay, \n",
    "            momentum=momentum\n",
    "        )\n",
    "    if optimizer == 'adam':\n",
    "        opt = torch.optim.Adam(\n",
    "            model.parameters(),\n",
    "            lr=lr,\n",
    "            weight_decay=weight_decay,\n",
    "            betas=betas,\n",
    "            eps=eps\n",
    "        )\n",
    "    return opt\n",
    "\n",
    "def train_model(train_data, model, opt, loss_fn, test_data=None, num_epochs=10, plot_loss=True, batch_size=32,\n",
    "               tensorboard=False, print_loss=True, show_batches_bar=False, shuffle=True):\n",
    "    if tensorboard:\n",
    "        writer = SummaryWriter()\n",
    "    losses = []\n",
    "    train_loader = torch.utils.data.DataLoader(train_data, batch_size=batch_size, shuffle=shuffle)\n",
    "    if test_data is not None:\n",
    "        test_loader = torch.utils.data.DataLoader(test_data, batch_size=batch_size, shuffle=False)\n",
    "    for epoch in tqdm(range(num_epochs)):\n",
    "        model = model.train()\n",
    "        batch_losses = []\n",
    "        batch_correct = []\n",
    "        iterator = tqdm(train_loader, leave=False) if show_batches_bar else train_loader\n",
    "        for X, y in iterator:\n",
    "            X = X.to(device)\n",
    "            y = y.to(device)\n",
    "            opt.zero_grad()\n",
    "            yhat = model(X)\n",
    "            loss = loss_fn(yhat, y)\n",
    "            loss.backward()\n",
    "            opt.step()\n",
    "            batch_losses.append(float(loss)* batch_size)\n",
    "            batch_correct.append(float((yhat.argmax(dim=1) == y).sum().cpu()))\n",
    "        train_loss = sum(batch_losses) / len(train_data)\n",
    "        train_acc = sum(batch_correct) / len(train_data)\n",
    "        losses.append(train_loss)\n",
    "        \n",
    "        if test_data is not None:\n",
    "            model = model.eval()\n",
    "            batch_losses = []\n",
    "            batch_correct = []\n",
    "            iterator = tqdm(test_loader, leave=False) if show_batches_bar else test_loader\n",
    "            for X, y in iterator:\n",
    "                X = X.to(device)\n",
    "                y = y.to(device)\n",
    "                opt.zero_grad()\n",
    "                yhat = model(X)\n",
    "                loss = loss_fn(yhat, y)\n",
    "                batch_losses.append(float(loss) * batch_size)\n",
    "                batch_correct.append(float((yhat.argmax(dim=1) == y).sum().cpu()))\n",
    "            test_loss = sum(batch_losses) / len(test_data)\n",
    "            test_acc = sum(batch_correct) / len(test_data)\n",
    "        else:\n",
    "            test_loss = -999\n",
    "            test_acc = -999\n",
    "\n",
    "        if tensorboard:\n",
    "            writer.add_scalar(\"Training Loss\", train_loss, epoch+1)\n",
    "            writer.add_scalar(\"Training Accuracy\", train_acc, epoch+1)\n",
    "            writer.add_scalar(\"Test Loss\", test_loss, epoch+1)\n",
    "            writer.add_scalar(\"Test Accuracy\", test_acc, epoch+1)\n",
    "        if print_loss:\n",
    "            s1 = f'epoch: {epoch+1: <3}   ' \n",
    "            s2 = f'train loss: {round(train_loss, 4): <6}   train acc: {round(train_acc, 4): <6}   ' \n",
    "            s3 = f'test loss: {round(test_loss, 4): <6}   test acc: {round(test_acc, 4): <6}'\n",
    "            print(s1 + s2 + s3)\n",
    "    if plot_loss:\n",
    "        plt.plot(range(len(losses)), losses)\n",
    "    if tensorboard:\n",
    "        writer.flush()\n",
    "        writer.close()\n",
    "    return model\n",
    "\n",
    "class Dataset:\n",
    "    def __init__(self, X, y):\n",
    "        self.X = X\n",
    "        self.y = y\n",
    "\n",
    "    def __len__(self):\n",
    "        return len(self.y)\n",
    "\n",
    "    def __getitem__(self, idx):\n",
    "        return self.X[idx], self.y[idx]"
   ]
  },
  {
   "cell_type": "markdown",
   "id": "02227860",
   "metadata": {},
   "source": [
    "# Recurrent Neural Networks (RNNs)\n",
    "\n",
    "- Neural network used to learn input/output relationships for examples that have some kind of sequential, temporal relationship. Allows the network to use learned shared features to take into account the context (sequence order) of a given example.\n",
    "- Maps a temporal sequence $x_1,\\cdots,x_T$ to another temporal sequence $y_1,\\cdots,y_{T'}$ by learning a function of past and present input values: $y_t = f_t(x_1,\\cdots,x_t)$.\n",
    "- Each $x = (x_1,\\cdots,x_T) \\rightarrow y = (y_1,\\cdots,y_{T'})$ pair becomes a \"training example\" in a sense. The output of an RNN layer for a particular sequence element $t=1,\\cdots,T$ is given by\n",
    "$$ h_t = \\tanh(W_{xh} x_t + b_{xh} + W_{hh} h_{t-1} + b_{hh}),$$\n",
    "$$ \\hat y_t = \\sigma(W_{hy} h_t + b_{hy}).$$\n",
    "- One needs to initialize $h_0$ to have some value. One can use zeros, a random initialization, or (for a stateful RNN) use the output $h_0 \\equiv h_T^{prev}$ from the previous batch.\n",
    "- Typically the tanh function is used for hidden activation function in RNNs instead of the ReLU.\n",
    "- Input and output sequences need not have the same length, nor need one or the other be a sequence at all.\n",
    "- Each unit of the RNN has an input state, hidden state, and output state. All params are shared across all elements in the sequence, so only $x_t, h_t$ contain information about position.\n",
    "- Typically $T, T'$ are not actually the length of the input/output sequences, but a defined sequence length. This means each sequence gets split into $k$ chunks of length $T$, potentially breaking the ordering between those chunks.\n",
    "- For sequences of size less than $T,T'$, padding the input/output with `<PAD>` tokens can be used to fill in the gaps.\n",
    "- The standard RNN is only unidirectional. Sequences read left to right. To take advantage of \"acausal\" sequence information, one can use a bidirectional RNN (BiRNN) that uses both left-to-right and right-to-left hidden units.\n",
    "- The loss in an RNN is the sum of the output losses: \n",
    "$$L(y,\\hat y) = L_1(y_1,\\hat y_1) + \\cdots + L_{T'}(y_{T'},\\hat y_{T'}).$$\n",
    "- Backpropagation on an RNN layer is done \"through time\" (BPTT). BPTT works by starting at $y_{T'}$ and backpropagating backwards through time all the way to $x_1$. Since the $W_t$ gradient $\\frac{\\partial L}{\\partial W_t} \\propto W_{t+1} \\dots W_T$, RNNs with long sequence lengths are vulnerable to gradient vanishing. This makes it hard for items in long sequences that are far apart from each other to influence each other.\n",
    "- For sequence classification tasks, e.g. sentiment classification, one has $T'=1$. To use the full context of the sequence, one typically puts the \"useful\" classification vector last in the $x_T$ line. Such RNNs are \"many-to-one\". When $T,T'>1$ the RNN is typically called \"many-to-many\" or \"seq2seq\". When $T=1$ but $T'>1$ the RNN is called \"one-to-many\"; these show up for example in sequence generation tasks.\n",
    "- Encoder-decoder architectures are also possible for many-to-many RNNs. These are used in applications like machine translation. In this scenario, the inputs are fed into an encoder half that outputs nothing. The encoder feeds its hidden units into a decoder that inputs nothing, but outputs the output sequence. Typically in these, the output $\\hat y_{t-1}$ is fed as an effective input into $x_t \\equiv \\hat y_{t-1}$.\n",
    "- In PyTorch, sequences are typically fed into RNNs with the order: `(sequence_length, batch_size, num_features)`."
   ]
  },
  {
   "cell_type": "code",
   "execution_count": 3,
   "id": "94310636",
   "metadata": {},
   "outputs": [],
   "source": [
    "class RNNLayer(nn.Module):\n",
    "    def __init__(self, input_size, hidden_size, output_size, \n",
    "                 hidden_activation=torch.tanh, output_activation=lambda x: x):\n",
    "        super().__init__()\n",
    "        self.input_size = input_size\n",
    "        self.hidden_size = hidden_size\n",
    "        self.output_size = output_size\n",
    "        self.hidden_activation = hidden_activation\n",
    "        self.output_activation = output_activation\n",
    "        self.linear_in = nn.Linear(self.input_size, self.hidden_size)\n",
    "        self.linear_hidden = nn.Linear(self.hidden_size, self.hidden_size)\n",
    "        self.linear_out = nn.Linear(self.hidden_size, self.output_size)\n",
    "    \n",
    "    def forward(self, x, h=None):\n",
    "        seq_len, batch_size = x.shape[0], x.shape[1]\n",
    "        hidden_shape = (1, batch_size, self.hidden_size)\n",
    "        output_shape = (seq_len, batch_size, self.output_size)\n",
    "        h = torch.zeros(hidden_shape) if h is None else h\n",
    "        yhat = torch.zeros(output_shape)\n",
    "        for t in range(seq_len):\n",
    "            h = self.hidden_activation(self.linear_in(x[t]) + self.linear_hidden(h))\n",
    "            yhat[t] = self.output_activation(self.linear_out(h))\n",
    "        return yhat, h"
   ]
  },
  {
   "cell_type": "code",
   "execution_count": 4,
   "id": "d89f7855",
   "metadata": {},
   "outputs": [
    {
     "data": {
      "text/plain": [
       "(torch.Size([5, 3, 10]), torch.Size([1, 3, 15]), torch.Size([5, 3, 20]))"
      ]
     },
     "execution_count": 4,
     "metadata": {},
     "output_type": "execute_result"
    }
   ],
   "source": [
    "rnn = RNNLayer(10, 15, 20, torch.tanh, torch.sigmoid) # input_size, hidden_size, output_size\n",
    "x = torch.randn(5, 3, 10) # seq_len, batch_size, input_size\n",
    "h0 = torch.zeros(1, 3, 15) # num_layers, batch_size, hidden_size\n",
    "yhat, h = rnn(x, h0)\n",
    "x.shape, h.shape, yhat.shape"
   ]
  },
  {
   "cell_type": "code",
   "execution_count": 5,
   "id": "da70ad40",
   "metadata": {},
   "outputs": [
    {
     "data": {
      "text/plain": [
       "(torch.Size([5, 3, 10]), torch.Size([1, 3, 20]), torch.Size([5, 3, 20]))"
      ]
     },
     "execution_count": 5,
     "metadata": {},
     "output_type": "execute_result"
    }
   ],
   "source": [
    "rnn = nn.RNN(10, 20, 1) # input_size, hidden_size, num_layers\n",
    "x = torch.randn(5, 3, 10) # seq_len, batch_size, input_size\n",
    "h0 = torch.zeros(1, 3, 20) # num_layers, batch_size, hidden_size\n",
    "yhat, h = rnn(x, h0)\n",
    "x.shape, h.shape, yhat.shape"
   ]
  },
  {
   "cell_type": "markdown",
   "id": "eb52389d",
   "metadata": {},
   "source": [
    "## Modified RNNs\n",
    "\n",
    "The simple RNN is highly susceptible to gradient vanishing/explosion, making it difficult to learn long range dependencies in sequences. To get around this and enable longer sequences, typically one modifies RNNs slightly by adding \"gates\" to each computation cell, which in reality are just more parameters in the $x_t \\rightarrow y_t$ mappings.\n",
    "\n",
    "**GRUs:** Uses a \"relevance\" gate $r_t$ and an \"update\" gate $u_t$. Informally, the relevance gate decides whether the hidden cell should be updated in response to the previous cell, and the update gate weights how much the new cell is important relative to previous cells via a weighted average.\n",
    "$$\\color{red}{u_t = \\sigma(W_{uu}u_{t-1} + b_{uu} + W_{xu}x_t + b_{xu})}$$\n",
    "$$\\color{red}{r_t = \\sigma(W_{rr}r_{t-1} + b_{rr} + W_{xr}x_t + b_{xr})}$$\n",
    "$$\\tilde h_t = \\tanh(W_{hh}(\\color{red}{r_t \\ast} h_{t-1}) + b_{hh} + W_{xh}x_t + b_{xh})$$\n",
    "$$h_t = \\color{red}{u_t \\ast} \\tilde h_t \\color{red}{+ (1-u_t) \\ast h_{t-1}}$$\n",
    "$$\\hat y_t = \\sigma(W_{hy} h_t + b_{hy}).$$"
   ]
  },
  {
   "cell_type": "code",
   "execution_count": 81,
   "id": "5ab8a125",
   "metadata": {},
   "outputs": [
    {
     "data": {
      "text/plain": [
       "(torch.Size([5, 3, 10]), torch.Size([1, 3, 20]), torch.Size([5, 3, 20]))"
      ]
     },
     "execution_count": 81,
     "metadata": {},
     "output_type": "execute_result"
    }
   ],
   "source": [
    "rnn = nn.GRU(10, 20, 1) # input_size, hidden_size, num_layers\n",
    "x = torch.randn(5, 3, 10) # seq_len, batch_size, input_size\n",
    "h0 = torch.zeros(1, 3, 20) # num_layers, batch_size, hidden_size\n",
    "yhat, h = rnn(x, h0)\n",
    "x.shape, h.shape, yhat.shape"
   ]
  },
  {
   "cell_type": "markdown",
   "id": "a1cce73b",
   "metadata": {},
   "source": [
    "**LSTMs:** Uses 3 gates, an \"update\" gate $i_t$, a \"forget\" gate $f_t$, and an \"output\" gate $o_t$. Informally, the update gate decides how important the new hidden cell is, the forget gate decides how much of the previous cell to forget, and the output cell decides how relevant the hidden cell is to the output $h_t$.\n",
    "$$\\color{red}{i_t = \\sigma(W_{ii}i_{t-1} + b_{ii} + W_{xi}x_t + b_{xi})}$$\n",
    "$$\\color{red}{f_t = \\sigma(W_{ff}f_{t-1} + b_{ff} + W_{xf}x_t + b_{xf})}$$\n",
    "$$\\color{red}{o_t = \\sigma(W_{oo}o_{t-1} + b_{oo} + W_{xo}x_t + b_{xo})}$$\n",
    "$$\\tilde c_t = \\tanh(W_{cc} \\color{red}{h_{t-1}} + b_{cc} + W_{xc}x_t + b_{xc})$$\n",
    "$$c_t = \\color{red}{i_t \\ast} \\tilde c_t + \\color{red}{f_t \\ast c_{t-1}}$$\n",
    "$$h_t = \\color{red}{o_t \\ast \\tanh(}c_t\\color{red}{)}$$\n",
    "$$ \\hat y_t = \\sigma(W_{hy} \\color{red}{h_t} + b_{hy}).$$"
   ]
  },
  {
   "cell_type": "code",
   "execution_count": 83,
   "id": "5c6c4feb",
   "metadata": {},
   "outputs": [
    {
     "data": {
      "text/plain": [
       "(torch.Size([5, 3, 10]),\n",
       " torch.Size([1, 3, 20]),\n",
       " torch.Size([1, 3, 20]),\n",
       " torch.Size([5, 3, 20]))"
      ]
     },
     "execution_count": 83,
     "metadata": {},
     "output_type": "execute_result"
    }
   ],
   "source": [
    "rnn = nn.LSTM(10, 20, 1) # input_size, hidden_size, num_layers\n",
    "x = torch.randn(5, 3, 10) # seq_len, batch_size, input_size\n",
    "c0 = torch.zeros(1, 3, 20) # num_layers, batch_size, hidden_size\n",
    "h0 = torch.zeros(1, 3, 20) # num_layers, batch_size, hidden_size\n",
    "yhat, (h, c) = rnn(x, (h0, c0))\n",
    "x.shape, h.shape, c.shape, yhat.shape"
   ]
  },
  {
   "cell_type": "markdown",
   "id": "8b6e8ba0",
   "metadata": {},
   "source": [
    "**Bidirectional RNNs (BiRNNs):** Regular RNNs are \"causal\", meaning $\\hat y_t$ is only a function or *past inputs* $x_1,\\cdots,x_{t-1}$. To allow RNNs to be \"acausal\", one can use BiRNNs, which use hidden activations in both the past and future directions, $h_t$ and $j_t$. One then combines them at the end to get the output predictions.\n",
    "\n",
    "$$\n",
    "h_t = \\tanh(W_{xh} x_t + b_{xh} + W_{hh} h_{t-1} + b_{hh}) \\\\\n",
    "\\color{red}{j_t = \\tanh(W_{xj} x_t + b_{xj} + W_{jj} j_{t+1} + b_{jj})} \\\\\n",
    "\\hat y_t = \\sigma(W_{hy} h_t + b_{hy} \\color{red}{+ W_{j y} j_t + b_{j y}}).\n",
    "$$\n",
    "\n",
    "The downside of a BiRNN is that predictions can't be made in real time. One must wait on the whole sequence to get a prediction even for $t=1$. They are commonly used in NLP, where knowing \"both sides\" of a sentence can make sense when predicting from text."
   ]
  },
  {
   "cell_type": "code",
   "execution_count": 88,
   "id": "56256b65",
   "metadata": {},
   "outputs": [
    {
     "data": {
      "text/plain": [
       "(torch.Size([5, 3, 10]),\n",
       " torch.Size([2, 3, 20]),\n",
       " torch.Size([1, 3, 20]),\n",
       " torch.Size([1, 3, 20]),\n",
       " torch.Size([5, 3, 40]))"
      ]
     },
     "execution_count": 88,
     "metadata": {},
     "output_type": "execute_result"
    }
   ],
   "source": [
    "rnn = nn.RNN(10, 20, 1, bidirectional=True) # input_size, hidden_size, num_layers\n",
    "x = torch.randn(5, 3, 10) # seq_len, batch_size, input_size\n",
    "hj0 = torch.zeros(2, 3, 20) # 2 * num_layers, batch_size, hidden_size\n",
    "yhat, hj = rnn(x, hj0)\n",
    "h, j = hj[0][None, :], hj[1][None, :]\n",
    "x.shape, hj.shape, h.shape, j.shape, yhat.shape"
   ]
  },
  {
   "cell_type": "markdown",
   "id": "b251f654",
   "metadata": {},
   "source": [
    "**Deep RNNs (DRNNs):** RNNs can be stacked in succession to form layers, as with MLPs. The output of one layer gets fed into the next layer, in succession. Deep RNNs can be useful for more complex sequence prediction tasks."
   ]
  },
  {
   "cell_type": "code",
   "execution_count": 91,
   "id": "45178644",
   "metadata": {},
   "outputs": [
    {
     "data": {
      "text/plain": [
       "(torch.Size([5, 3, 10]), torch.Size([2, 3, 20]), torch.Size([5, 3, 40]))"
      ]
     },
     "execution_count": 91,
     "metadata": {},
     "output_type": "execute_result"
    }
   ],
   "source": [
    "nn.RNN(10, 20, 3) # input_size, hidden_size, num_layers\n",
    "x = torch.randn(5, 3, 10) # seq_len, batch_size, input_size\n",
    "h0 = torch.zeros(2, 3, 20) # num_layers, batch_size, hidden_size\n",
    "yhat, h = rnn(x, h0)\n",
    "x.shape, h.shape, yhat.shape"
   ]
  },
  {
   "cell_type": "markdown",
   "id": "2b5925d2",
   "metadata": {},
   "source": [
    "# Text Processing Review"
   ]
  },
  {
   "cell_type": "code",
   "execution_count": 218,
   "id": "9495a220",
   "metadata": {},
   "outputs": [
    {
     "data": {
      "text/plain": [
       "(6,\n",
       " 6,\n",
       " [215, 170, 199, 124, 214, 292],\n",
       " ['As the Nameless officially do not exist , the upper echelons of the Gallian Army exploit the concept of plausible \\n deniability in order to send them on missions that would otherwise make Gallia lose face in the war',\n",
       "  'While at times \\n this works to their advantage , such as a successful incursion into Imperial territory , other orders cause certain \\n members of the 422nd great distress',\n",
       "  'One such member , John , becomes so enraged that he abandons his post and \\n defects into the ranks of Calamity Raven , attached to the ideal of Darcsen independence proposed by their leader , \\n Dahau',\n",
       "  'At the same time , elements within Gallian Army Command move to erase the Nameless in order to protect their \\n own interests',\n",
       "  'Feared by both allies and enemies , and combined with the presence of a traitor within their ranks , \\n the 422nd desperately move to keep themselves alive while at the same time fight to help the Gallian war effort',\n",
       "  \"This continues until the Nameless 's commanding officer , Ramsey Crowe , who had been kept under house arrest , is \\n escorted to the capital city of Bath in order to present evidence hated the weary soldiers and expose the real \\n traitor , the Gallian General that had accused Kurt of Treason\"])"
      ]
     },
     "execution_count": 218,
     "metadata": {},
     "output_type": "execute_result"
    }
   ],
   "source": [
    "orig = \"\"\"\n",
    " As the Nameless officially do not exist , the upper echelons of the Gallian Army exploit the concept of plausible \n",
    " deniability in order to send them on missions that would otherwise make Gallia lose face in the war . While at times \n",
    " this works to their advantage , such as a successful incursion into Imperial territory , other orders cause certain \n",
    " members of the 422nd great distress . One such member , John , becomes so enraged that he abandons his post and \n",
    " defects into the ranks of Calamity Raven , attached to the ideal of Darcsen independence proposed by their leader , \n",
    " Dahau . At the same time , elements within Gallian Army Command move to erase the Nameless in order to protect their \n",
    " own interests . Feared by both allies and enemies , and combined with the presence of a traitor within their ranks , \n",
    " the 422nd desperately move to keep themselves alive while at the same time fight to help the Gallian war effort . \n",
    " This continues until the Nameless 's commanding officer , Ramsey Crowe , who had been kept under house arrest , is \n",
    " escorted to the capital city of Bath in order to present evidence hated the weary soldiers and expose the real \n",
    " traitor , the Gallian General that had accused Kurt of Treason .\n",
    "\"\"\"\n",
    "\n",
    "corpus = [doc.strip() for doc in orig.split('.') if len(doc.strip()) > 0]\n",
    "labels = [len(doc) for doc in corpus]\n",
    "\n",
    "len(corpus), len(labels), labels, corpus"
   ]
  },
  {
   "cell_type": "code",
   "execution_count": 227,
   "id": "fd8cd97e",
   "metadata": {},
   "outputs": [],
   "source": [
    "def sub_special_tokens(text):\n",
    "    # put xxup token before words in all caps (easy way to recognize info from capitalizing a word)\n",
    "    text = re.sub(r'(\\b[A-Z][A-Z0-9]*\\b)', r' xxup \\1 ', text)\n",
    "    # put xxcap token before words with capitalized first letter (easy way to recognize first word in a sentence)\n",
    "    text = re.sub(r'(\\b[A-Z][a-z0-9]+\\b)', r' xxcap \\1 ', text)\n",
    "    # insert beginning and end of sentence tokens xxbos, xxeos after a period, at beginning, and strip extra xxbos\n",
    "    # text = re.sub(r'( [.]+ )', r' xxeos \\1 xxbos ', text)\n",
    "    # text = ' xxbos ' + text\n",
    "    # text = text[:-7]\n",
    "    # insert beginning and end of document tokens xxbod, xxeod\n",
    "    text = ' xxbed ' + text + ' xxeod '\n",
    "    return text\n",
    "\n",
    "def normalize_text(text, remove_stopwords=False, stem_text=False, replace_punct=False):\n",
    "    from nltk.stem import SnowballStemmer\n",
    "    from nltk.corpus import stopwords\n",
    "    import re, string\n",
    "\n",
    "    # converts common patterns into special tokens\n",
    "    text = sub_special_tokens(text)\n",
    "    # convert text to lowercase\n",
    "    text = text.lower()\n",
    "    # put spaces between punctuation (eg: 9.Blah -> 9 . Blah)\n",
    "    puncts = r'[' + re.escape(string.punctuation) + r']'\n",
    "    text = re.sub('(?<! )(?=' + puncts + ')|(?<=' + puncts + ')(?! )', r' ', text)\n",
    "    if replace_punct:\n",
    "        # replace all punctuation with xxpunct\n",
    "        text = re.sub(r\"[^\\w\\s]\",' xxpunct ',text)\n",
    "    # convert all other numbers to xxnum token (e.g. 123, 1.2.3, 1-2-3 -> xxnum)\n",
    "    text = re.sub(r'\\b([.-]*[0-9]+[.-]*)+\\b', ' xxnum ', text)\n",
    "    # remove nltk's common set of stop words (common for classical NLP analysis)\n",
    "    if remove_stopwords:\n",
    "        stop_words = stopwords.words('english')\n",
    "        text = ' '.join(word for word in text.split() if word not in stop_words)\n",
    "    # stem words using nltk snowball stemmer, e.g. converts {run, running, runs} all to \"run\"\n",
    "    if stem_text:\n",
    "        stemmer = SnowballStemmer('english')\n",
    "        stemmed_text = ''\n",
    "        for word in text.split():\n",
    "                stemmed_text = stemmed_text + stemmer.stem(word) + ' '\n",
    "        text = stemmed_text\n",
    "    # strip new lines\n",
    "    text = re.sub(r'\\n',' ',text)\n",
    "    # sub the occurance of 2 or more spaces with a single space\n",
    "    text = re.sub(r'[ ]{2,}',' ',text)\n",
    "    text = text.strip()\n",
    "    return text"
   ]
  },
  {
   "cell_type": "code",
   "execution_count": 470,
   "id": "b768d695",
   "metadata": {},
   "outputs": [],
   "source": [
    "# for each document in corpus (list of doc strings)\n",
    "# given combined corpus \"word_1 word_2 ...\"\n",
    "# normalize document: \"norm_word_1 norm_word_2 ...\"\n",
    "    # insert relevant special tokens: begin/end of sentence, begin/end of document, caps, all caps, etc\n",
    "# tokenize: get list of tokens [tok_1, tok_2, ...]\n",
    "def tokenize_corpus(corpus, normalizer, tokenizer, *args, **kwargs):\n",
    "    normalized_corpus = [normalizer(doc) for doc in corpus]\n",
    "    tokens = [tokenizer(doc).text.split(' ') for doc in normalized_corpus]\n",
    "    return tokens\n",
    "\n",
    "# vocab: get a dict converting each token to ints\n",
    "# numericalize: use vocab to convert list of tokens to list of ints [int_tok_1, int_tok_2, ...]\n",
    "def numericalize_tokens(tokens, vocab=None, pad_last=True):\n",
    "    if vocab is None:\n",
    "        vocab = list(set([tok for doc in tokens for tok in doc]))\n",
    "        if pad_last:\n",
    "            vocab = vocab + ['xxpad']\n",
    "    vocab_size = len(vocab)\n",
    "    stoi = {vocab[i]: i for i in range(vocab_size)}\n",
    "    itos = {i: vocab[i] for i in range(vocab_size)}\n",
    "    nums = [[stoi[token] for token in doc] for doc in tokens]\n",
    "    return nums, stoi, itos, vocab\n",
    "\n",
    "# batchify numerical tokens into n_batches batches of shape (seq_len, batch_size)\n",
    "    # pad batch items with less than batch_size tokens so all have same length\n",
    "    # items in seqs should preserve token ordering, so tok_1 < tok_2 < ...\n",
    "    # items in batches should preserve sequence ordering, so item_1 < item_2 < ...\n",
    "# return batchified tokens in tuple of tensors of shape (seq_len, batch_size)\n",
    "def sequify(data, seq_len, pad_num, labels=None, flatten=False):\n",
    "    def pad_seqs(seqs_list, pad_num):\n",
    "        for seqs in seqs_list:\n",
    "            leftover_len = len(seqs[-1])\n",
    "            seqs[-1] = seqs[-1] + [pad_num for _ in range(seq_len - leftover_len)]\n",
    "        return seqs_list\n",
    "    def flatten_seq(sequence):\n",
    "            return [seq for doc in sequence for seq in doc]\n",
    "    \n",
    "    seqs = [[x[i:i+seq_len] for i in range(0, len(x), seq_len)] for x in data]\n",
    "    seq_data = pad_seqs(seqs, pad_num)\n",
    "    if labels is not None:\n",
    "        seq_labels = [[labels[i] for seq in seq_data[i]] for i in range(len(seq_data))]\n",
    "        seq_data = flatten_seq(seq_data) if flatten else seq_data\n",
    "        seq_labels = flatten_seq(seq_labels) if flatten else seq_labels\n",
    "        return seq_data, seq_labels\n",
    "    else:\n",
    "        seq_data = flatten_seq(seq_data) if flatten else seq_data\n",
    "        return seq_data    \n",
    "\n",
    "def batchify(seqs, batch_size, labels=None, pad_num=-1):\n",
    "    batchified = [[seq[i: i+batch_size] for i in range(0, len(seq), batch_size)] for seq in seqs]\n",
    "    batched_data = [tuple(torch.tensor(batch).T.long() for batch in batchified[i]) for i in range(len(batchified))]\n",
    "    if labels is not None:\n",
    "        batched_labels = [[[labels[i] for y in x] for x in batchified[i]] for i in range(len(batchified))]\n",
    "        return batched_data, batched_labels\n",
    "    else:\n",
    "        return batched_data"
   ]
  },
  {
   "cell_type": "code",
   "execution_count": 471,
   "id": "772cc5d4",
   "metadata": {},
   "outputs": [],
   "source": [
    "tokens = tokenize_corpus(corpus, normalize_text, nlp)\n",
    "nums, stoi, itos, vocab = numericalize_tokens(tokens, pad_last=True)\n",
    "seq_data, seq_labels = sequify(nums, seq_len=10, pad_num=len(vocab)-1, labels=labels)\n",
    "batched_data, batched_labels = batchify(seq_data, batch_size=3, labels=labels)"
   ]
  },
  {
   "cell_type": "code",
   "execution_count": 472,
   "id": "a995ac33",
   "metadata": {},
   "outputs": [],
   "source": [
    "vocab_size = len(vocab)\n",
    "emb_size = 100\n",
    "\n",
    "class SelectItem(nn.Module):\n",
    "    def __init__(self, idx):\n",
    "        super().__init__()\n",
    "        self.idx = idx\n",
    "\n",
    "    def forward(self, x):\n",
    "        return x[0][self.idx]\n",
    "\n",
    "model = nn.Sequential(\n",
    "    nn.Embedding(vocab_size, emb_size),\n",
    "    nn.LSTM(emb_size, 100, 1),\n",
    "    SelectItem(idx=-1),  # selects the last LSTM output y_T to feed into the linear layer\n",
    "    nn.Linear(100, 1)\n",
    ")"
   ]
  },
  {
   "cell_type": "code",
   "execution_count": 473,
   "id": "cd50dce6",
   "metadata": {},
   "outputs": [
    {
     "data": {
      "text/plain": [
       "(tensor([[115,  30],\n",
       "         [114,  87],\n",
       "         [  7,  31],\n",
       "         [132,  23],\n",
       "         [ 54,  21],\n",
       "         [134, 136],\n",
       "         [ 50, 136],\n",
       "         [  0, 136],\n",
       "         [129, 136],\n",
       "         [ 18, 136]]),\n",
       " [215, 215, 215],\n",
       " tensor([[-0.0860],\n",
       "         [ 0.0422]]))"
      ]
     },
     "execution_count": 473,
     "metadata": {},
     "output_type": "execute_result"
    }
   ],
   "source": [
    "X, y = batched_data[0][-1], batched_labels[0][0]\n",
    "yhat = model(X).detach()\n",
    "X, y, yhat"
   ]
  },
  {
   "cell_type": "code",
   "execution_count": 474,
   "id": "3de1647f",
   "metadata": {},
   "outputs": [
    {
     "data": {
      "text/plain": [
       "'them on missions that would otherwise make xxcap gallia lose face in the war xxeod xxpad xxpad xxpad xxpad xxpad'"
      ]
     },
     "execution_count": 474,
     "metadata": {},
     "output_type": "execute_result"
    }
   ],
   "source": [
    "def batch_to_text(batch, itos, batch_first=True):\n",
    "    if isinstance(batch, torch.Tensor):\n",
    "        batch = batch.numpy()\n",
    "    elif isinstance(batch, list):\n",
    "        batch = np.array(batch)\n",
    "    if not batch_first:\n",
    "        batch = batch.T\n",
    "    if len(batch.shape) == 1:\n",
    "        batch = batch[None, :]\n",
    "    return ' '.join(itos[word] for seq in batch for word in seq)\n",
    "\n",
    "batch_to_text(X, itos)"
   ]
  },
  {
   "cell_type": "code",
   "execution_count": 476,
   "id": "1b0e6940",
   "metadata": {},
   "outputs": [],
   "source": [
    "X, y = sequify(nums, pad_num=len(vocab)-1, seq_len=10, labels=labels, flatten=True)"
   ]
  },
  {
   "cell_type": "code",
   "execution_count": 485,
   "id": "dae88e8f",
   "metadata": {},
   "outputs": [
    {
     "data": {
      "text/plain": [
       "29"
      ]
     },
     "execution_count": 485,
     "metadata": {},
     "output_type": "execute_result"
    }
   ],
   "source": [
    "data = Dataset(torch.tensor(X).long(), torch.tensor(y).float())\n",
    "len(data)"
   ]
  },
  {
   "cell_type": "code",
   "execution_count": 478,
   "id": "5039371a",
   "metadata": {},
   "outputs": [
    {
     "data": {
      "text/plain": [
       "(tensor([[  5,   0, 131,  31,   0,  92,  72,  80,  62,  12],\n",
       "         [ 90,  31,  82, 105,  96,  31,   0,  35,   0,  83],\n",
       "         [127,  31,  11,  96,  64, 126,  87,  46,  16,  70],\n",
       "         [115, 114,   7, 132,  54, 134,  50,   0, 129,  18],\n",
       "         [ 30,  87,  31,  23,  21, 136, 136, 136, 136, 136],\n",
       "         [  5,   0,   1,  71,  63,  86,  45,  16,  97, 119],\n",
       "         [ 90,  32, 131,  55,  84, 130,  25,   0, 112, 116],\n",
       "         [ 90, 111,  14,  52,  95,  67,  96,  31,  34,  57]]),\n",
       " tensor([215, 215, 215, 215, 215, 170, 170, 170]))"
      ]
     },
     "execution_count": 478,
     "metadata": {},
     "output_type": "execute_result"
    }
   ],
   "source": [
    "data_loader = DataLoader(data, batch_size=8, shuffle=False)\n",
    "xi, yi = next(iter(data_loader))\n",
    "xi, yi"
   ]
  },
  {
   "cell_type": "code",
   "execution_count": 479,
   "id": "31f53195",
   "metadata": {},
   "outputs": [
    {
     "data": {
      "text/plain": [
       "'xxbed xxcap as the xxcap nameless officially do not exist , the upper echelons of the xxcap gallian xxcap army exploit the concept of plausible deniability in order to send'"
      ]
     },
     "execution_count": 479,
     "metadata": {},
     "output_type": "execute_result"
    }
   ],
   "source": [
    "batch_to_text(batched_data[0][0], itos)"
   ]
  },
  {
   "cell_type": "code",
   "execution_count": 482,
   "id": "0b535558",
   "metadata": {},
   "outputs": [
    {
     "data": {
      "text/plain": [
       "tensor([[ 0.0835],\n",
       "        [-0.0509],\n",
       "        [-0.0532],\n",
       "        [-0.0860],\n",
       "        [ 0.0422],\n",
       "        [-0.1095],\n",
       "        [-0.0509],\n",
       "        [ 0.0303]], grad_fn=<AddmmBackward0>)"
      ]
     },
     "execution_count": 482,
     "metadata": {},
     "output_type": "execute_result"
    }
   ],
   "source": [
    "model(xi.T)"
   ]
  },
  {
   "cell_type": "markdown",
   "id": "acec927e",
   "metadata": {},
   "source": [
    "# Language Modeling\n",
    "\n",
    "- Uses a sequence of tokens to predict the most likely next tokens, e.g. `I am drinking orange` -> `juice .`\n",
    "- Given a sequence of numericalized tokens:\n",
    "    - Pad the seqs so they all have the same length (often the length of the max seq)\n",
    "    - Set the input $x$ to be the list of sequences (one-hot encoded if no embedding layer)\n",
    "    - Set the output $y$ to be the list of sequences shifted to the right by one (one-hot encoded if no embedding layer)\n",
    "    - The goal is to learn to predict each $y_t|x_t$ where $x_t \\equiv y_{t-1}$ "
   ]
  },
  {
   "cell_type": "code",
   "execution_count": 10,
   "id": "86bf7da7",
   "metadata": {},
   "outputs": [
    {
     "data": {
      "text/plain": [
       "['Aachenosaurus',\n",
       " 'Aardonyx',\n",
       " 'Abdallahsaurus',\n",
       " 'Abelisaurus',\n",
       " 'Abrictosaurus',\n",
       " 'Abrosaurus',\n",
       " 'Abydosaurus',\n",
       " 'Acanthopholis',\n",
       " 'Achelousaurus',\n",
       " 'Acheroraptor']"
      ]
     },
     "execution_count": 10,
     "metadata": {},
     "output_type": "execute_result"
    }
   ],
   "source": [
    "path = Path('/Users/rkingery/repos/coursera-deep-learning-specialization/C5 - Sequence Models/Week 1/Dinosaur Island -- Character-level language model')\n",
    "df = pd.read_csv(path/'dinos.txt', sep=\" \", header=None)\n",
    "corpus = df.values.flatten().tolist()\n",
    "corpus[:10]"
   ]
  },
  {
   "cell_type": "code",
   "execution_count": 11,
   "id": "d32583c9",
   "metadata": {},
   "outputs": [
    {
     "data": {
      "text/plain": [
       "['a', 'a', 'c', 'h', 'e', 'n', 'o', 's', 'a', 'u', 'r', 'u', 's']"
      ]
     },
     "execution_count": 11,
     "metadata": {},
     "output_type": "execute_result"
    }
   ],
   "source": [
    "tokens = [list(doc.lower()) for doc in corpus]\n",
    "tokens[0]"
   ]
  },
  {
   "cell_type": "code",
   "execution_count": 17,
   "id": "4be457f3",
   "metadata": {},
   "outputs": [
    {
     "name": "stdout",
     "output_type": "stream",
     "text": [
      "['l', 'e', 'q', 'w', 'p', 's', 'v', 'x', 'c', 'r', 'f', 'z', 'y', 'b', 'k', 'g', 't', 'm', 'j', 'i', 'n', 'o', 'u', 'd', 'h', 'a', '\\n', '<PAD>']\n"
     ]
    }
   ],
   "source": [
    "vocab = list(set(''.join(char for doc in tokens for char in doc)))\n",
    "vocab += ['\\n', '<PAD>']\n",
    "print(vocab)"
   ]
  },
  {
   "cell_type": "code",
   "execution_count": 18,
   "id": "b58de2c8",
   "metadata": {},
   "outputs": [],
   "source": [
    "vocab_size = len(vocab)\n",
    "stoi = {vocab[i]: i for i in range(vocab_size)}\n",
    "itos = {i: vocab[i] for i in range(vocab_size)}"
   ]
  },
  {
   "cell_type": "code",
   "execution_count": 19,
   "id": "43932787",
   "metadata": {},
   "outputs": [
    {
     "data": {
      "text/plain": [
       "26"
      ]
     },
     "execution_count": 19,
     "metadata": {},
     "output_type": "execute_result"
    }
   ],
   "source": [
    "max_len = max([len(doc) for doc in tokens])\n",
    "max_len"
   ]
  },
  {
   "cell_type": "code",
   "execution_count": 24,
   "id": "d91c08eb",
   "metadata": {},
   "outputs": [
    {
     "data": {
      "text/plain": [
       "[25, 25, 8, 24, 1, 20, 21, 5, 25, 22, 9, 22, 5]"
      ]
     },
     "execution_count": 24,
     "metadata": {},
     "output_type": "execute_result"
    }
   ],
   "source": [
    "sequences = [[stoi[char] for char in doc] for doc in tokens]\n",
    "sequences[0]"
   ]
  },
  {
   "cell_type": "code",
   "execution_count": 28,
   "id": "f9017118",
   "metadata": {},
   "outputs": [
    {
     "name": "stdout",
     "output_type": "stream",
     "text": [
      "[25, 25, 8, 24, 1, 20, 21, 5, 25, 22, 9, 22, 5, 27, 27, 27, 27, 27, 27, 27, 27, 27, 27, 27, 27, 27]\n"
     ]
    }
   ],
   "source": [
    "def pad(seq, pad_token, max_len):\n",
    "    return seq + [pad_token for _ in range(max_len - len(seq))]\n",
    "    \n",
    "seqs_padded = [pad(seq, stoi['<PAD>'], max_len) for seq in sequences]\n",
    "print(seqs_padded[0])"
   ]
  },
  {
   "cell_type": "code",
   "execution_count": 55,
   "id": "ff1bb996",
   "metadata": {},
   "outputs": [
    {
     "name": "stdout",
     "output_type": "stream",
     "text": [
      "[25, 8, 24, 1, 20, 21, 5, 25, 22, 9, 22, 5, 27, 27, 27, 27, 27, 27, 27, 27, 27, 27, 27, 27, 27, 27]\n"
     ]
    }
   ],
   "source": [
    "seqs_shifted = [seq[1:] + [stoi['<PAD>']] for seq in seqs_padded]\n",
    "print(seqs_shifted[0])"
   ]
  },
  {
   "cell_type": "code",
   "execution_count": 56,
   "id": "778b82e2",
   "metadata": {},
   "outputs": [
    {
     "data": {
      "text/plain": [
       "('a a c h e n o s a u r u s <PAD> <PAD> <PAD> <PAD> <PAD> <PAD> <PAD> <PAD> <PAD> <PAD> <PAD> <PAD> <PAD>',\n",
       " 'a c h e n o s a u r u s <PAD> <PAD> <PAD> <PAD> <PAD> <PAD> <PAD> <PAD> <PAD> <PAD> <PAD> <PAD> <PAD> <PAD>')"
      ]
     },
     "execution_count": 56,
     "metadata": {},
     "output_type": "execute_result"
    }
   ],
   "source": [
    "batch_to_text(seqs_padded[0], itos), batch_to_text(seqs_shifted[0], itos)"
   ]
  },
  {
   "cell_type": "code",
   "execution_count": 45,
   "id": "f524062e",
   "metadata": {},
   "outputs": [
    {
     "data": {
      "text/plain": [
       "torch.Size([1536, 26, 28])"
      ]
     },
     "execution_count": 45,
     "metadata": {},
     "output_type": "execute_result"
    }
   ],
   "source": [
    "one_hot_seqs = F.one_hot(torch.tensor(seqs_padded)).float()\n",
    "one_hot_seqs.shape # n_examples, seq_len , vocab_size"
   ]
  },
  {
   "cell_type": "code",
   "execution_count": 57,
   "id": "cf023d28",
   "metadata": {},
   "outputs": [
    {
     "data": {
      "text/plain": [
       "torch.Size([1536, 26, 28])"
      ]
     },
     "execution_count": 57,
     "metadata": {},
     "output_type": "execute_result"
    }
   ],
   "source": [
    "one_hot_shifted = F.one_hot(torch.tensor(seqs_shifted)).float()\n",
    "one_hot_shifted.shape # n_examples, seq_len , vocab_size"
   ]
  },
  {
   "cell_type": "code",
   "execution_count": 291,
   "id": "0e1d7e1c",
   "metadata": {},
   "outputs": [
    {
     "data": {
      "text/plain": [
       "LanguageModel(\n",
       "  (rnn): RNN(28, 50, batch_first=True, bidirectional=True)\n",
       "  (fc): Linear(in_features=100, out_features=28, bias=True)\n",
       ")"
      ]
     },
     "execution_count": 291,
     "metadata": {},
     "output_type": "execute_result"
    }
   ],
   "source": [
    "vocab_size = len(vocab)\n",
    "seq_len = max_len\n",
    "\n",
    "class LanguageModel(nn.Module):\n",
    "    def __init__(self, vocab_size, hidden_size, output_size, n_layers=1, bidirectional=False, rnn=nn.RNN):\n",
    "        super().__init__()\n",
    "        self.n_layers = n_layers\n",
    "        self.rnn = rnn(vocab_size, hidden_size, n_layers, batch_first=True, bidirectional=bidirectional)\n",
    "        factor = 2 if bidirectional else 1\n",
    "        self.fc = nn.Linear(factor * hidden_size, output_size)\n",
    "    \n",
    "    def forward(self, x):\n",
    "        a, h = self.rnn(x)\n",
    "        yhat = self.fc(a)\n",
    "        return yhat\n",
    "    \n",
    "model = LanguageModel(vocab_size, 50, vocab_size, n_layers=1, bidirectional=True)\n",
    "model"
   ]
  },
  {
   "cell_type": "code",
   "execution_count": 292,
   "id": "054e9880",
   "metadata": {},
   "outputs": [
    {
     "data": {
      "text/plain": [
       "(torch.Size([1, 26, 28]), torch.Size([1, 26, 28]))"
      ]
     },
     "execution_count": 292,
     "metadata": {},
     "output_type": "execute_result"
    }
   ],
   "source": [
    "x = one_hot_seqs[0][None, :] # 1, seq_len, vocab_size\n",
    "yhat = model(x)\n",
    "x.shape, yhat.shape"
   ]
  },
  {
   "cell_type": "code",
   "execution_count": 293,
   "id": "9ab1420a",
   "metadata": {},
   "outputs": [
    {
     "data": {
      "text/plain": [
       "(torch.Size([1536, 26, 28]), torch.Size([1536, 26, 28]))"
      ]
     },
     "execution_count": 293,
     "metadata": {},
     "output_type": "execute_result"
    }
   ],
   "source": [
    "X = one_hot_seqs\n",
    "Y = one_hot_shifted\n",
    "X.shape, Y.shape"
   ]
  },
  {
   "cell_type": "code",
   "execution_count": 294,
   "id": "112e7cbf",
   "metadata": {},
   "outputs": [],
   "source": [
    "def train_language_model(train_data, model, opt, loss_fn, test_data=None, num_epochs=1000, plot_loss=True, \n",
    "                         batch_size=32, print_stats=True, show_batches_bar=False, shuffle=True, max_to_clip=5.,\n",
    "                         print_every=1):\n",
    "    train_size = train_data[0][0].shape[0]\n",
    "    epoch_losses = []\n",
    "    train_loader = DataLoader(train_data, batch_size=batch_size, shuffle=shuffle)\n",
    "    if test_data is not None:\n",
    "        test_loader = DataLoader(test_data, batch_size=batch_size, shuffle=False)\n",
    "    for epoch in tqdm(range(num_epochs)):\n",
    "        model = model.train()\n",
    "        batch_losses = []\n",
    "        iterator = tqdm(train_loader, leave=False) if show_batches_bar else train_loader\n",
    "        for x, y in iterator:\n",
    "            x = x.to(device)\n",
    "            y = y.to(device)\n",
    "            opt.zero_grad()\n",
    "            yhat = model(x)\n",
    "            loss = loss_fn(yhat, y)\n",
    "            loss.backward()\n",
    "            nn.utils.clip_grad_norm_(model.parameters(), max_to_clip)\n",
    "            opt.step()\n",
    "            batch_losses.append(float(loss) * batch_size)\n",
    "        train_loss = sum(batch_losses) / train_size\n",
    "        epoch_losses.append(train_loss)\n",
    "        \n",
    "        if test_data is not None:\n",
    "            test_size = test_data[0][0].shape[0]\n",
    "            model = model.eval()\n",
    "            batch_losses = []\n",
    "            iterator = tqdm(test_loader, leave=False) if show_batches_bar else test_loader\n",
    "            for x, y in iterator:\n",
    "                x = x.to(device)\n",
    "                y = y.to(device)\n",
    "                opt.zero_grad()\n",
    "                yhat = model(x)\n",
    "                loss = loss_fn(yhat, y)\n",
    "                batch_losses.append(float(loss) * batch_size)\n",
    "            test_loss = sum(batch_losses) / test_size\n",
    "        else:\n",
    "            test_loss = -999\n",
    "\n",
    "        if print_stats and epoch % print_every == 0:\n",
    "            s1 = f'epoch: {epoch: <3}   ' \n",
    "            s2 = f'train loss: {round(train_loss, 4): <6}   test loss: {round(test_loss, 4): <6}' \n",
    "            print(s1 + s2)\n",
    "    if plot_loss:\n",
    "        plt.plot(range(len(epoch_losses)), epoch_losses)\n",
    "    return model"
   ]
  },
  {
   "cell_type": "code",
   "execution_count": 334,
   "id": "1b868ef4",
   "metadata": {},
   "outputs": [
    {
     "data": {
      "application/vnd.jupyter.widget-view+json": {
       "model_id": "113bd6e4e8e140b4baa929979d892a9b",
       "version_major": 2,
       "version_minor": 0
      },
      "text/plain": [
       "  0%|          | 0/1000 [00:00<?, ?it/s]"
      ]
     },
     "metadata": {},
     "output_type": "display_data"
    },
    {
     "name": "stdout",
     "output_type": "stream",
     "text": [
      "epoch: 0     train loss: 165.4859   test loss: 152.0459\n",
      "epoch: 50    train loss: 105.9618   test loss: 105.6813\n",
      "epoch: 100   train loss: 103.5779   test loss: 103.284\n",
      "epoch: 150   train loss: 102.6798   test loss: 102.4643\n",
      "epoch: 200   train loss: 102.0696   test loss: 101.8733\n",
      "epoch: 250   train loss: 101.8943   test loss: 101.697\n",
      "epoch: 300   train loss: 101.5912   test loss: 101.4494\n",
      "epoch: 350   train loss: 101.5171   test loss: 101.4886\n",
      "epoch: 400   train loss: 101.4544   test loss: 101.2585\n",
      "epoch: 450   train loss: 101.4821   test loss: 101.3464\n",
      "epoch: 500   train loss: 101.4313   test loss: 101.3246\n",
      "epoch: 550   train loss: 101.3257   test loss: 101.1806\n",
      "epoch: 600   train loss: 101.205   test loss: 100.9912\n",
      "epoch: 650   train loss: 101.078   test loss: 100.9934\n",
      "epoch: 700   train loss: 101.1608   test loss: 101.0752\n",
      "epoch: 750   train loss: 101.0649   test loss: 100.9337\n",
      "epoch: 800   train loss: 101.1896   test loss: 101.0151\n",
      "epoch: 850   train loss: 101.2149   test loss: 101.0049\n",
      "epoch: 900   train loss: 100.954   test loss: 100.9027\n",
      "epoch: 950   train loss: 100.9804   test loss: 100.7855\n"
     ]
    },
    {
     "data": {
      "image/png": "[encoded data removed]",
      "text/plain": [
       "<Figure size 432x288 with 1 Axes>"
      ]
     },
     "metadata": {
      "needs_background": "light"
     },
     "output_type": "display_data"
    }
   ],
   "source": [
    "data = Dataset(X, Y)\n",
    "model = LanguageModel(vocab_size, 50, vocab_size, n_layers=1, rnn=nn.GRU, bidirectional=False).to(device)\n",
    "loss_fn = nn.CrossEntropyLoss()\n",
    "opt = get_optimizer(model, optimizer='adam', lr=0.01, weight_decay=0.0001)\n",
    "model = train_language_model(data, model, opt, loss_fn, num_epochs=1000, batch_size=128, max_to_clip=5., \n",
    "                             test_data=data, print_every=1000//20)"
   ]
  },
  {
   "cell_type": "code",
   "execution_count": 335,
   "id": "c6d325e8",
   "metadata": {},
   "outputs": [
    {
     "name": "stdout",
     "output_type": "stream",
     "text": [
      "p a c h y s p o n d y l u s                        \n",
      "h l h e e o o l o l l u r                          \n"
     ]
    }
   ],
   "source": [
    "idx = 1000\n",
    "x = X[idx]\n",
    "y = Y[idx]\n",
    "yhat = model(x)\n",
    "print(batch_to_text(x.argmax(dim=-1), itos).replace('<PAD>', ' '))\n",
    "print(batch_to_text(yhat.argmax(dim=-1), itos).replace('<PAD>', ' '))"
   ]
  },
  {
   "cell_type": "code",
   "execution_count": null,
   "id": "463468de",
   "metadata": {},
   "outputs": [],
   "source": [
    "# improvements: use LSTMs or GRUs, multiple layers, Adam, LR scheduler, bidirectional RNNs\n",
    "# it's overfitting pretty good when using a GRU with bidirectional\n",
    "# the predictions still look pretty bad...no doubt due to batching and use of bidirectional"
   ]
  },
  {
   "cell_type": "code",
   "execution_count": 341,
   "id": "ee5dca34",
   "metadata": {},
   "outputs": [
    {
     "data": {
      "text/plain": [
       "'t y r a n o e p e s u s o s s s <PAD> <PAD> <PAD> <PAD> <PAD> <PAD> <PAD> <PAD> <PAD> <PAD>'"
      ]
     },
     "execution_count": 341,
     "metadata": {},
     "output_type": "execute_result"
    }
   ],
   "source": [
    "def predict(model, seed, max_len, output_len):\n",
    "    tokens = pad([stoi[char.lower()] for char in seed], stoi['<PAD>'], max_len)\n",
    "    for i in range(max_len - len(seed)):\n",
    "        x = F.one_hot(torch.tensor(tokens)).float()\n",
    "        yhat = model(x)\n",
    "        probs = yhat.softmax(dim=-1).detach().numpy()[len(seed) + i]\n",
    "        sample = stoi['<PAD>']\n",
    "        if i > output_len:\n",
    "            break\n",
    "        while sample == stoi['<PAD>'] or sample == stoi['\\n']:\n",
    "            sample = np.random.choice(vocab_size, p=probs)\n",
    "        tokens[len(seed) + i] = sample\n",
    "    return tokens\n",
    "\n",
    "seed = 'tyran'\n",
    "tokens = predict(model, seed, max_len, 10)\n",
    "batch_to_text(tokens, itos)"
   ]
  },
  {
   "cell_type": "markdown",
   "id": "4f3e0274",
   "metadata": {},
   "source": [
    "# Embeddings\n",
    "\n",
    "- Instead of one-hot encoding tokens, it's more efficient to feed their `stoi` index directly into the model via an embedding layer, which is a linear layer that takes an lookup index instead of a vector as input, and outputs a vector of specified size. \n",
    "- Mathematically, an embedding is a learned parameter matrix $E$ applied before the first layer of a neural net: $\\sigma(WEx+b)$. \n",
    "- A given token is identified directly with its embedding vector as a representation of the token in a high-dimensional space. \n",
    "- When trained, these embeddings can learn semantic relationships between tokens, taking into account the context of the token to make predictions. \n",
    "- Embeddings can also be used for unsupervised tasks, like similarity search or clustering of tokens and documents."
   ]
  },
  {
   "cell_type": "code",
   "execution_count": 282,
   "id": "622a3871",
   "metadata": {},
   "outputs": [
    {
     "data": {
      "text/plain": [
       "(torch.Size([10]), torch.Size([10, 20]))"
      ]
     },
     "execution_count": 282,
     "metadata": {},
     "output_type": "execute_result"
    }
   ],
   "source": [
    "vocab_size = 50\n",
    "emb_size = 20\n",
    "\n",
    "x = torch.randint(0, vocab_size, size=(10,))\n",
    "emb = nn.Embedding(vocab_size, emb_size)\n",
    "y = emb(x)\n",
    "x.shape, y.shape"
   ]
  },
  {
   "cell_type": "markdown",
   "id": "b13c69b2",
   "metadata": {},
   "source": [
    "## Word2Vec\n",
    "\n",
    "- Continuous Bag of Words (CBOW): Predict target word given context words\n",
    "- Skip-Gram: Predict some context word given the target word"
   ]
  },
  {
   "cell_type": "code",
   "execution_count": 4,
   "id": "39eaf5b7",
   "metadata": {},
   "outputs": [
    {
     "name": "stderr",
     "output_type": "stream",
     "text": [
      "/Users/rkingery/opt/anaconda3/envs/main/lib/python3.10/site-packages/torch/utils/data/datapipes/utils/common.py:24: UserWarning: Lambda function is not supported for pickle, please use regular python function or functools.partial instead.\n",
      "  warnings.warn(\n",
      "/Users/rkingery/opt/anaconda3/envs/main/lib/python3.10/site-packages/torch/utils/data/datapipes/iter/selecting.py:54: UserWarning: Lambda function is not supported for pickle, please use regular python function or functools.partial instead.\n",
      "  warnings.warn(\"Lambda function is not supported for pickle, please use \"\n"
     ]
    },
    {
     "data": {
      "text/plain": [
       "(40478, 4358)"
      ]
     },
     "execution_count": 4,
     "metadata": {},
     "output_type": "execute_result"
    }
   ],
   "source": [
    "def text_from_iter(data_iter):\n",
    "    corpus = []\n",
    "    for text in data_iter:\n",
    "        corpus.append(text)\n",
    "    return corpus\n",
    "\n",
    "train_iter = torchtext.datasets.WikiText2(split='train')\n",
    "val_iter = torchtext.datasets.WikiText2(split='valid')\n",
    "test_iter = torchtext.datasets.WikiText2(split='test')\n",
    "\n",
    "train_text = text_from_iter(train_iter) + text_from_iter(val_iter)\n",
    "test_text = text_from_iter(test_iter)\n",
    "len(train_text), len(test_text)"
   ]
  },
  {
   "cell_type": "code",
   "execution_count": 5,
   "id": "988ed39a",
   "metadata": {},
   "outputs": [],
   "source": [
    "def sub_special_tokens(text):\n",
    "    # put xxup token before words in all caps (easy way to recognize info from capitalizing a word)\n",
    "    text = re.sub(r'(\\b[A-Z][A-Z0-9]*\\b)', r' xxup \\1 ', text)\n",
    "    # put xxcap token before words with capitalized first letter (easy way to recognize first word in a sentence)\n",
    "    text = re.sub(r'(\\b[A-Z][a-z0-9]+\\b)', r' xxcap \\1 ', text)\n",
    "    # insert beginning and end of sentence tokens xxbos, xxeos after a period, at beginning, and strip extra xxbos\n",
    "    text = re.sub(r'( [.]+ )', r' xxeos \\1 xxbos ', text)\n",
    "    text = ' xxbos ' + text\n",
    "    # text = text[:-7]\n",
    "    # insert beginning and end of document tokens xxbod, xxeod\n",
    "    text = ' xxbed ' + text + ' xxeod '\n",
    "    return text\n",
    "\n",
    "def normalize_text(text, remove_stopwords=False, stem_text=False, punct=None, lower=True, nums=None, \n",
    "                   special_tokens=True, strip_non_ascii=False):\n",
    "    from nltk.stem import SnowballStemmer\n",
    "    from nltk.corpus import stopwords\n",
    "    import re, string\n",
    "\n",
    "    if text.strip() == '':\n",
    "        return ''\n",
    "    # strip new lines\n",
    "    text = re.sub(r'\\n+','',text)\n",
    "    # put spaces between punctuation (eg: 9.Blah -> 9 . Blah)\n",
    "    puncts = r'[' + re.escape(string.punctuation) + r']'\n",
    "    text = re.sub('(?<! )(?=' + puncts + ')|(?<=' + puncts + ')(?! )', r' ', text)\n",
    "    # converts common patterns into special tokens\n",
    "    if special_tokens:\n",
    "        text = sub_special_tokens(text)\n",
    "    # convert text to lowercase\n",
    "    if lower:\n",
    "        text = text.lower()\n",
    "    # strip non-ascii characters (easy way to denoise text a bit)\n",
    "    if strip_non_ascii:\n",
    "        text = text.encode(\"ascii\", errors=\"ignore\").decode()\n",
    "    # replace all punctuation with xxpunct or strip depending on value of punct\n",
    "    if punct is not None:\n",
    "        text = re.sub(r\"[^\\w\\s]\",' xxpunct ', text) if punct == 'replace' else text\n",
    "        text = re.sub(r\"[^\\w\\s]\",'', text) if punct == 'strip' else text\n",
    "    # convert all other numbers to xxnum token (e.g. 123, 1.2.3, 1-2-3 -> xxnum)\n",
    "    if nums is not None:\n",
    "        text = re.sub(r'\\b([.-]*[0-9]+[.-]*)+\\b', ' xxnum ', text) if nums == 'replace' else text\n",
    "        text = re.sub(r'\\b([.-]*[0-9]+[.-]*)+\\b', '', text) if nums == 'strip' else text\n",
    "    # remove nltk's common set of stop words (common for classical NLP analysis)\n",
    "    if remove_stopwords:\n",
    "        stop_words = stopwords.words('english')\n",
    "        text = ' '.join(word for word in text.split() if word not in stop_words)\n",
    "    # stem words using nltk snowball stemmer, e.g. converts {run, running, runs} all to \"run\"\n",
    "    if stem_text:\n",
    "        stemmer = SnowballStemmer('english')\n",
    "        stemmed_text = ''\n",
    "        for word in text.split():\n",
    "                stemmed_text = stemmed_text + stemmer.stem(word) + ' '\n",
    "        text = stemmed_text\n",
    "    # sub the occurance of 2 or more spaces with a single space\n",
    "    text = re.sub(r'[ ]{2,}',' ',text)\n",
    "    text = text.strip()\n",
    "    # fix messed up <unk> tokens\n",
    "    text = re.sub(r'unk','<unk>',text)       \n",
    "    return text\n",
    "\n",
    "def tokenize_corpus(corpus, normalizer, tokenizer, **kwargs):\n",
    "    tokens = []\n",
    "    for doc in tqdm(corpus):\n",
    "        doc = normalizer(doc, **kwargs)\n",
    "        doc = tokenizer(doc).text\n",
    "        toks = doc.split(' ') if (doc != '') else ['']\n",
    "        tokens.append(toks)\n",
    "    return tokens"
   ]
  },
  {
   "cell_type": "code",
   "execution_count": 6,
   "id": "a95e4098",
   "metadata": {},
   "outputs": [
    {
     "data": {
      "application/vnd.jupyter.widget-view+json": {
       "model_id": "2e0cd11b20164a5e86c4d9127732c178",
       "version_major": 2,
       "version_minor": 0
      },
      "text/plain": [
       "  0%|          | 0/40478 [00:00<?, ?it/s]"
      ]
     },
     "metadata": {},
     "output_type": "display_data"
    },
    {
     "data": {
      "application/vnd.jupyter.widget-view+json": {
       "model_id": "2764c753e5774c9fb999980b23979089",
       "version_major": 2,
       "version_minor": 0
      },
      "text/plain": [
       "  0%|          | 0/4358 [00:00<?, ?it/s]"
      ]
     },
     "metadata": {},
     "output_type": "display_data"
    },
    {
     "data": {
      "text/plain": [
       "(23296, 2597)"
      ]
     },
     "execution_count": 6,
     "metadata": {},
     "output_type": "execute_result"
    }
   ],
   "source": [
    "# normalize and tokenize text\n",
    "\n",
    "tokenizer = torchtext.data.utils.get_tokenizer(nlp) # spacy tokenizer as a function\n",
    "train_tokens = tokenize_corpus(train_text, normalize_text, tokenizer, punct='strip', nums='strip', strip_non_ascii=True, special_tokens=False)\n",
    "test_tokens = tokenize_corpus(test_text, normalize_text, tokenizer, punct='strip', nums='strip', strip_non_ascii=True, special_tokens=False)\n",
    "\n",
    "train_tokens = [token for token in train_tokens if len(token) > 1]\n",
    "test_tokens = [token for token in test_tokens if len(token) > 1]\n",
    "len(train_tokens), len(test_tokens)"
   ]
  },
  {
   "cell_type": "code",
   "execution_count": 7,
   "id": "fc18d8f3",
   "metadata": {},
   "outputs": [
    {
     "data": {
      "text/plain": [
       "2429"
      ]
     },
     "execution_count": 7,
     "metadata": {},
     "output_type": "execute_result"
    }
   ],
   "source": [
    "vocab = torchtext.vocab.build_vocab_from_iterator(train_tokens + test_tokens, max_tokens=10000, specials=['<unk>'], min_freq=100)\n",
    "vocab.append_token('<pad>')\n",
    "vocab.set_default_index(vocab[\"<unk>\"])\n",
    "stoi = vocab.get_stoi()\n",
    "itos = vocab.get_itos()\n",
    "len(vocab)"
   ]
  },
  {
   "cell_type": "code",
   "execution_count": 8,
   "id": "d00e7806",
   "metadata": {},
   "outputs": [
    {
     "data": {
      "text/plain": [
       "(1866453, 198581)"
      ]
     },
     "execution_count": 8,
     "metadata": {},
     "output_type": "execute_result"
    }
   ],
   "source": [
    "# process text for word2vec CBOW\n",
    "# X = context_window, y = target\n",
    "# ex: 'the quick brown fox jumped' w/ window_size=2\n",
    "# X = the quick _ fox jumped\n",
    "# y = brown\n",
    "\n",
    "def proc_for_word2vec(tokens, window_size=4, pad_token='<pad>'):\n",
    "    contexts = []\n",
    "    targets = []\n",
    "    for doc in tokens:\n",
    "        doc = [pad_token] * window_size + doc + [pad_token] * window_size\n",
    "        for i in range(window_size, len(doc) - window_size):\n",
    "            context = doc[i - window_size: i] + doc[i + 1: i + window_size + 1]\n",
    "            target = doc[i]\n",
    "            contexts.append(context)\n",
    "            targets.append(target)\n",
    "    return contexts, targets\n",
    "\n",
    "window_size = 4\n",
    "train_contexts, train_targets = proc_for_word2vec(train_tokens, window_size=window_size)\n",
    "test_contexts, test_targets = proc_for_word2vec(test_tokens, window_size=window_size)\n",
    "len(train_contexts), len(test_contexts)"
   ]
  },
  {
   "cell_type": "code",
   "execution_count": 26,
   "id": "57697689",
   "metadata": {},
   "outputs": [],
   "source": [
    "X_train = [vocab(context) for context in train_contexts]\n",
    "X_test = [vocab(context) for context in test_contexts]\n",
    "\n",
    "y_train = vocab(train_targets)\n",
    "y_test = vocab(test_targets)"
   ]
  },
  {
   "cell_type": "code",
   "execution_count": 27,
   "id": "de4d0e72",
   "metadata": {},
   "outputs": [
    {
     "data": {
      "text/plain": [
       "(torch.Size([1866453, 8]),\n",
       " torch.Size([1866453]),\n",
       " torch.Size([198581, 8]),\n",
       " torch.Size([198581]))"
      ]
     },
     "execution_count": 27,
     "metadata": {},
     "output_type": "execute_result"
    }
   ],
   "source": [
    "X_train = torch.tensor(X_train).long()\n",
    "X_test = torch.tensor(X_test).long()\n",
    "y_train = torch.tensor(y_train).long()\n",
    "y_test = torch.tensor(y_test).long()\n",
    "X_train.shape, y_train.shape, X_test.shape, y_test.shape"
   ]
  },
  {
   "cell_type": "code",
   "execution_count": 28,
   "id": "1ce4c745",
   "metadata": {},
   "outputs": [],
   "source": [
    "train_data = Dataset(X_train, y_train)\n",
    "test_data = Dataset(X_test, y_test)"
   ]
  },
  {
   "cell_type": "code",
   "execution_count": 17,
   "id": "b6d0a21f",
   "metadata": {},
   "outputs": [],
   "source": [
    "vocab_size = len(vocab)\n",
    "emb_size = 300\n",
    "\n",
    "class Word2VecCBOW(nn.Module):\n",
    "    def __init__(self, window_size, vocab_size, emb_size=300):\n",
    "        super().__init__()\n",
    "        self.emb = nn.Embedding(vocab_size, emb_size)\n",
    "        self.fc = nn.Linear(emb_size, vocab_size)\n",
    "    \n",
    "    def forward(self, x):\n",
    "        # pass each x[0, ..., context_window] through self.emb\n",
    "        x = self.emb(x)\n",
    "        # average the context_window outputs together to get an emb_size vector\n",
    "        x = torch.mean(x, dim=1)\n",
    "        # pass vector through linear layer to get vocab_size logits\n",
    "        x = self.fc(x)\n",
    "        # return logits\n",
    "        return x"
   ]
  },
  {
   "cell_type": "code",
   "execution_count": 31,
   "id": "3bdc57fa",
   "metadata": {},
   "outputs": [
    {
     "data": {
      "application/vnd.jupyter.widget-view+json": {
       "model_id": "c99ba7264e594c97b2974ac2bf9a37bd",
       "version_major": 2,
       "version_minor": 0
      },
      "text/plain": [
       "  0%|          | 0/5 [00:00<?, ?it/s]"
      ]
     },
     "metadata": {},
     "output_type": "display_data"
    },
    {
     "data": {
      "application/vnd.jupyter.widget-view+json": {
       "model_id": "2311b7ff6e0344bebdc12eda322e7344",
       "version_major": 2,
       "version_minor": 0
      },
      "text/plain": [
       "  0%|          | 0/14582 [00:00<?, ?it/s]"
      ]
     },
     "metadata": {},
     "output_type": "display_data"
    },
    {
     "ename": "KeyboardInterrupt",
     "evalue": "",
     "output_type": "error",
     "traceback": [
      "\u001b[0;31m---------------------------------------------------------------------------\u001b[0m",
      "\u001b[0;31mKeyboardInterrupt\u001b[0m                         Traceback (most recent call last)",
      "Input \u001b[0;32mIn [31]\u001b[0m, in \u001b[0;36m<cell line: 4>\u001b[0;34m()\u001b[0m\n\u001b[1;32m      2\u001b[0m loss_fn \u001b[38;5;241m=\u001b[39m nn\u001b[38;5;241m.\u001b[39mCrossEntropyLoss()\n\u001b[1;32m      3\u001b[0m opt \u001b[38;5;241m=\u001b[39m get_optimizer(model, optimizer\u001b[38;5;241m=\u001b[39m\u001b[38;5;124m'\u001b[39m\u001b[38;5;124madam\u001b[39m\u001b[38;5;124m'\u001b[39m, lr\u001b[38;5;241m=\u001b[39m\u001b[38;5;241m0.001\u001b[39m, weight_decay\u001b[38;5;241m=\u001b[39m\u001b[38;5;241m0.0001\u001b[39m)\n\u001b[0;32m----> 4\u001b[0m model \u001b[38;5;241m=\u001b[39m \u001b[43mtrain_model\u001b[49m\u001b[43m(\u001b[49m\u001b[43mtrain_data\u001b[49m\u001b[43m,\u001b[49m\u001b[43m \u001b[49m\u001b[43mmodel\u001b[49m\u001b[43m,\u001b[49m\u001b[43m \u001b[49m\u001b[43mopt\u001b[49m\u001b[43m,\u001b[49m\u001b[43m \u001b[49m\u001b[43mloss_fn\u001b[49m\u001b[43m,\u001b[49m\u001b[43m \u001b[49m\u001b[43mnum_epochs\u001b[49m\u001b[38;5;241;43m=\u001b[39;49m\u001b[38;5;241;43m5\u001b[39;49m\u001b[43m,\u001b[49m\u001b[43m \u001b[49m\u001b[43mbatch_size\u001b[49m\u001b[38;5;241;43m=\u001b[39;49m\u001b[38;5;241;43m128\u001b[39;49m\u001b[43m,\u001b[49m\u001b[43m \u001b[49m\u001b[43mtest_data\u001b[49m\u001b[38;5;241;43m=\u001b[39;49m\u001b[43mtest_data\u001b[49m\u001b[43m,\u001b[49m\n\u001b[1;32m      5\u001b[0m \u001b[43m                   \u001b[49m\u001b[43mshow_batches_bar\u001b[49m\u001b[38;5;241;43m=\u001b[39;49m\u001b[38;5;28;43;01mTrue\u001b[39;49;00m\u001b[43m)\u001b[49m\n",
      "Input \u001b[0;32mIn [30]\u001b[0m, in \u001b[0;36mtrain_model\u001b[0;34m(train_data, model, opt, loss_fn, test_data, num_epochs, plot_loss, batch_size, tensorboard, print_loss, show_batches_bar, shuffle)\u001b[0m\n\u001b[1;32m     37\u001b[0m loss \u001b[38;5;241m=\u001b[39m loss_fn(yhat, y)\n\u001b[1;32m     38\u001b[0m loss\u001b[38;5;241m.\u001b[39mbackward()\n\u001b[0;32m---> 39\u001b[0m \u001b[43mopt\u001b[49m\u001b[38;5;241;43m.\u001b[39;49m\u001b[43mstep\u001b[49m\u001b[43m(\u001b[49m\u001b[43m)\u001b[49m\n\u001b[1;32m     40\u001b[0m batch_losses\u001b[38;5;241m.\u001b[39mappend(\u001b[38;5;28mfloat\u001b[39m(loss)\u001b[38;5;241m*\u001b[39m batch_size)\n\u001b[1;32m     41\u001b[0m batch_correct\u001b[38;5;241m.\u001b[39mappend(\u001b[38;5;28mfloat\u001b[39m((yhat\u001b[38;5;241m.\u001b[39margmax(dim\u001b[38;5;241m=\u001b[39m\u001b[38;5;241m1\u001b[39m) \u001b[38;5;241m==\u001b[39m y)\u001b[38;5;241m.\u001b[39msum()\u001b[38;5;241m.\u001b[39mcpu()))\n",
      "File \u001b[0;32m~/opt/anaconda3/envs/main/lib/python3.10/site-packages/torch/optim/optimizer.py:88\u001b[0m, in \u001b[0;36mOptimizer._hook_for_profile.<locals>.profile_hook_step.<locals>.wrapper\u001b[0;34m(*args, **kwargs)\u001b[0m\n\u001b[1;32m     86\u001b[0m profile_name \u001b[38;5;241m=\u001b[39m \u001b[38;5;124m\"\u001b[39m\u001b[38;5;124mOptimizer.step#\u001b[39m\u001b[38;5;132;01m{}\u001b[39;00m\u001b[38;5;124m.step\u001b[39m\u001b[38;5;124m\"\u001b[39m\u001b[38;5;241m.\u001b[39mformat(obj\u001b[38;5;241m.\u001b[39m\u001b[38;5;18m__class__\u001b[39m\u001b[38;5;241m.\u001b[39m\u001b[38;5;18m__name__\u001b[39m)\n\u001b[1;32m     87\u001b[0m \u001b[38;5;28;01mwith\u001b[39;00m torch\u001b[38;5;241m.\u001b[39mautograd\u001b[38;5;241m.\u001b[39mprofiler\u001b[38;5;241m.\u001b[39mrecord_function(profile_name):\n\u001b[0;32m---> 88\u001b[0m     \u001b[38;5;28;01mreturn\u001b[39;00m \u001b[43mfunc\u001b[49m\u001b[43m(\u001b[49m\u001b[38;5;241;43m*\u001b[39;49m\u001b[43margs\u001b[49m\u001b[43m,\u001b[49m\u001b[43m \u001b[49m\u001b[38;5;241;43m*\u001b[39;49m\u001b[38;5;241;43m*\u001b[39;49m\u001b[43mkwargs\u001b[49m\u001b[43m)\u001b[49m\n",
      "File \u001b[0;32m~/opt/anaconda3/envs/main/lib/python3.10/site-packages/torch/autograd/grad_mode.py:27\u001b[0m, in \u001b[0;36m_DecoratorContextManager.__call__.<locals>.decorate_context\u001b[0;34m(*args, **kwargs)\u001b[0m\n\u001b[1;32m     24\u001b[0m \u001b[38;5;129m@functools\u001b[39m\u001b[38;5;241m.\u001b[39mwraps(func)\n\u001b[1;32m     25\u001b[0m \u001b[38;5;28;01mdef\u001b[39;00m \u001b[38;5;21mdecorate_context\u001b[39m(\u001b[38;5;241m*\u001b[39margs, \u001b[38;5;241m*\u001b[39m\u001b[38;5;241m*\u001b[39mkwargs):\n\u001b[1;32m     26\u001b[0m     \u001b[38;5;28;01mwith\u001b[39;00m \u001b[38;5;28mself\u001b[39m\u001b[38;5;241m.\u001b[39mclone():\n\u001b[0;32m---> 27\u001b[0m         \u001b[38;5;28;01mreturn\u001b[39;00m \u001b[43mfunc\u001b[49m\u001b[43m(\u001b[49m\u001b[38;5;241;43m*\u001b[39;49m\u001b[43margs\u001b[49m\u001b[43m,\u001b[49m\u001b[43m \u001b[49m\u001b[38;5;241;43m*\u001b[39;49m\u001b[38;5;241;43m*\u001b[39;49m\u001b[43mkwargs\u001b[49m\u001b[43m)\u001b[49m\n",
      "File \u001b[0;32m~/opt/anaconda3/envs/main/lib/python3.10/site-packages/torch/optim/adam.py:141\u001b[0m, in \u001b[0;36mAdam.step\u001b[0;34m(self, closure)\u001b[0m\n\u001b[1;32m    138\u001b[0m             \u001b[38;5;66;03m# record the step after step update\u001b[39;00m\n\u001b[1;32m    139\u001b[0m             state_steps\u001b[38;5;241m.\u001b[39mappend(state[\u001b[38;5;124m'\u001b[39m\u001b[38;5;124mstep\u001b[39m\u001b[38;5;124m'\u001b[39m])\n\u001b[0;32m--> 141\u001b[0m     \u001b[43mF\u001b[49m\u001b[38;5;241;43m.\u001b[39;49m\u001b[43madam\u001b[49m\u001b[43m(\u001b[49m\u001b[43mparams_with_grad\u001b[49m\u001b[43m,\u001b[49m\n\u001b[1;32m    142\u001b[0m \u001b[43m           \u001b[49m\u001b[43mgrads\u001b[49m\u001b[43m,\u001b[49m\n\u001b[1;32m    143\u001b[0m \u001b[43m           \u001b[49m\u001b[43mexp_avgs\u001b[49m\u001b[43m,\u001b[49m\n\u001b[1;32m    144\u001b[0m \u001b[43m           \u001b[49m\u001b[43mexp_avg_sqs\u001b[49m\u001b[43m,\u001b[49m\n\u001b[1;32m    145\u001b[0m \u001b[43m           \u001b[49m\u001b[43mmax_exp_avg_sqs\u001b[49m\u001b[43m,\u001b[49m\n\u001b[1;32m    146\u001b[0m \u001b[43m           \u001b[49m\u001b[43mstate_steps\u001b[49m\u001b[43m,\u001b[49m\n\u001b[1;32m    147\u001b[0m \u001b[43m           \u001b[49m\u001b[43mamsgrad\u001b[49m\u001b[38;5;241;43m=\u001b[39;49m\u001b[43mgroup\u001b[49m\u001b[43m[\u001b[49m\u001b[38;5;124;43m'\u001b[39;49m\u001b[38;5;124;43mamsgrad\u001b[39;49m\u001b[38;5;124;43m'\u001b[39;49m\u001b[43m]\u001b[49m\u001b[43m,\u001b[49m\n\u001b[1;32m    148\u001b[0m \u001b[43m           \u001b[49m\u001b[43mbeta1\u001b[49m\u001b[38;5;241;43m=\u001b[39;49m\u001b[43mbeta1\u001b[49m\u001b[43m,\u001b[49m\n\u001b[1;32m    149\u001b[0m \u001b[43m           \u001b[49m\u001b[43mbeta2\u001b[49m\u001b[38;5;241;43m=\u001b[39;49m\u001b[43mbeta2\u001b[49m\u001b[43m,\u001b[49m\n\u001b[1;32m    150\u001b[0m \u001b[43m           \u001b[49m\u001b[43mlr\u001b[49m\u001b[38;5;241;43m=\u001b[39;49m\u001b[43mgroup\u001b[49m\u001b[43m[\u001b[49m\u001b[38;5;124;43m'\u001b[39;49m\u001b[38;5;124;43mlr\u001b[39;49m\u001b[38;5;124;43m'\u001b[39;49m\u001b[43m]\u001b[49m\u001b[43m,\u001b[49m\n\u001b[1;32m    151\u001b[0m \u001b[43m           \u001b[49m\u001b[43mweight_decay\u001b[49m\u001b[38;5;241;43m=\u001b[39;49m\u001b[43mgroup\u001b[49m\u001b[43m[\u001b[49m\u001b[38;5;124;43m'\u001b[39;49m\u001b[38;5;124;43mweight_decay\u001b[39;49m\u001b[38;5;124;43m'\u001b[39;49m\u001b[43m]\u001b[49m\u001b[43m,\u001b[49m\n\u001b[1;32m    152\u001b[0m \u001b[43m           \u001b[49m\u001b[43meps\u001b[49m\u001b[38;5;241;43m=\u001b[39;49m\u001b[43mgroup\u001b[49m\u001b[43m[\u001b[49m\u001b[38;5;124;43m'\u001b[39;49m\u001b[38;5;124;43meps\u001b[39;49m\u001b[38;5;124;43m'\u001b[39;49m\u001b[43m]\u001b[49m\u001b[43m,\u001b[49m\n\u001b[1;32m    153\u001b[0m \u001b[43m           \u001b[49m\u001b[43mmaximize\u001b[49m\u001b[38;5;241;43m=\u001b[39;49m\u001b[43mgroup\u001b[49m\u001b[43m[\u001b[49m\u001b[38;5;124;43m'\u001b[39;49m\u001b[38;5;124;43mmaximize\u001b[39;49m\u001b[38;5;124;43m'\u001b[39;49m\u001b[43m]\u001b[49m\u001b[43m)\u001b[49m\n\u001b[1;32m    154\u001b[0m \u001b[38;5;28;01mreturn\u001b[39;00m loss\n",
      "File \u001b[0;32m~/opt/anaconda3/envs/main/lib/python3.10/site-packages/torch/optim/_functional.py:110\u001b[0m, in \u001b[0;36madam\u001b[0;34m(params, grads, exp_avgs, exp_avg_sqs, max_exp_avg_sqs, state_steps, amsgrad, beta1, beta2, lr, weight_decay, eps, maximize)\u001b[0m\n\u001b[1;32m    105\u001b[0m     denom \u001b[38;5;241m=\u001b[39m (exp_avg_sq\u001b[38;5;241m.\u001b[39msqrt() \u001b[38;5;241m/\u001b[39m math\u001b[38;5;241m.\u001b[39msqrt(bias_correction2))\u001b[38;5;241m.\u001b[39madd_(eps)\n\u001b[1;32m    109\u001b[0m step_size \u001b[38;5;241m=\u001b[39m lr \u001b[38;5;241m/\u001b[39m bias_correction1\n\u001b[0;32m--> 110\u001b[0m \u001b[43mparam\u001b[49m\u001b[38;5;241;43m.\u001b[39;49m\u001b[43maddcdiv_\u001b[49m\u001b[43m(\u001b[49m\u001b[43mexp_avg\u001b[49m\u001b[43m,\u001b[49m\u001b[43m \u001b[49m\u001b[43mdenom\u001b[49m\u001b[43m,\u001b[49m\u001b[43m \u001b[49m\u001b[43mvalue\u001b[49m\u001b[38;5;241;43m=\u001b[39;49m\u001b[38;5;241;43m-\u001b[39;49m\u001b[43mstep_size\u001b[49m\u001b[43m)\u001b[49m\n",
      "\u001b[0;31mKeyboardInterrupt\u001b[0m: "
     ]
    }
   ],
   "source": [
    "model = Word2VecCBOW(window_size, vocab_size, emb_size=emb_size).to(device)\n",
    "loss_fn = nn.CrossEntropyLoss()\n",
    "opt = get_optimizer(model, optimizer='adam', lr=0.001, weight_decay=0.0001)\n",
    "model = train_model(train_data, model, opt, loss_fn, num_epochs=5, batch_size=128, test_data=test_data,\n",
    "                   show_batches_bar=True)"
   ]
  },
  {
   "cell_type": "code",
   "execution_count": null,
   "id": "9fc119f3",
   "metadata": {},
   "outputs": [],
   "source": []
  },
  {
   "cell_type": "code",
   "execution_count": null,
   "id": "cbdda128",
   "metadata": {},
   "outputs": [],
   "source": []
  },
  {
   "cell_type": "code",
   "execution_count": null,
   "id": "8f7dbcf5",
   "metadata": {},
   "outputs": [],
   "source": []
  }
 ],
 "metadata": {
  "kernelspec": {
   "display_name": "Python 3 (ipykernel)",
   "language": "python",
   "name": "python3"
  },
  "language_info": {
   "codemirror_mode": {
    "name": "ipython",
    "version": 3
   },
   "file_extension": ".py",
   "mimetype": "text/x-python",
   "name": "python",
   "nbconvert_exporter": "python",
   "pygments_lexer": "ipython3",
   "version": "3.10.4"
  }
 },
 "nbformat": 4,
 "nbformat_minor": 5
}
