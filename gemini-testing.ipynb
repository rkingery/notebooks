{
 "cells": [
  {
   "cell_type": "code",
   "execution_count": 3,
   "id": "5816ae49-30cb-4849-8591-eae84860882d",
   "metadata": {},
   "outputs": [],
   "source": [
    "from pathlib import Path\n",
    "from google import genai"
   ]
  },
  {
   "cell_type": "code",
   "execution_count": 4,
   "id": "1fe19739-fe23-407d-877f-c75b94a994a7",
   "metadata": {},
   "outputs": [],
   "source": [
    "# client = genai.Client()\n",
    "# config = genai.types.GenerateContentConfig(thinking_config=genai.types.ThinkingConfig(thinking_budget=0)) # disable thinking\n",
    "# response = client.models.generate_content(model='gemini-2.5-flash', config=config, contents='How does AI work?')\n",
    "# client.models.count_tokens(model='gemini-2.5-flash', contents=prompt) # count tokens from prompt\n",
    "# print(response.text)"
   ]
  },
  {
   "cell_type": "code",
   "execution_count": null,
   "id": "e06ab926-e394-421a-858f-1c147f079ab9",
   "metadata": {},
   "outputs": [],
   "source": [
    "# client = genai.Client()\n",
    "# chat = client.chats.create(model=\"gemini-2.5-flash\")\n",
    "\n",
    "# response = chat.send_message(\"I have 2 dogs in my house.\")\n",
    "# print(response.text)\n",
    "\n",
    "# response = chat.send_message(\"How many paws are in my house?\")\n",
    "# print(response.text)\n",
    "\n",
    "# for message in chat.get_history():\n",
    "#     print(f'role - {message.role}',end=\": \")\n",
    "#     print(message.parts[0].text)"
   ]
  },
  {
   "cell_type": "code",
   "execution_count": 13,
   "id": "0b7cf167-bb98-4271-8775-bac99133737d",
   "metadata": {},
   "outputs": [
    {
     "name": "stdout",
     "output_type": "stream",
     "text": [
      "Ah, the singularity! That's a real puzzle, isn't it? It's where our mathematics, our beautiful theory of general relativity, kinda... goes kaput. It breaks down.\n",
      "\n",
      "See, according to Einstein's equations, at that point, the curvature of space-time, the density of matter, the gravitational forces – they all become *infinite*. Infinite! What does that even mean, \"infinite\"? It means our theory can't describe it anymore. It's like trying to divide by zero – the calculator just spits out an error.\n",
      "\n",
      "So, what \"exactly\" is there? Well, it's not a place you could *go* to in the usual sense, like a little speck of super-dense stuff you could pick up. It's a point where space and time, as we understand them, kind of cease to exist. They get so warped, so stretched, so compressed, that our ordinary notions just don't apply.\n",
      "\n",
      "It's a mathematical prediction, a consequence of the theory when gravity gets so strong it crushes everything into an arbitrarily small point. But *physically*, what is it? We don't really know. It's the ultimate frontier where we need something *new*.\n",
      "\n",
      "You see, general relativity is classical physics, dealing with big, smooth things. But when you get to a point, or a region, that's so incredibly small and incredibly dense, you *must* have quantum mechanics involved. And that's the big problem, isn't it? We don't have a good, solid theory of quantum gravity that brings general relativity and quantum mechanics together in a consistent way.\n",
      "\n",
      "So, what's \"at\" the singularity? It's a place where our current understanding of physics, our most powerful tools, just throw up their hands and say, \"I give up!\" It tells us our theory is incomplete. It's a signpost, really, pointing to the need for a deeper, more fundamental understanding of how gravity works at these extreme, sub-atomic scales.\n",
      "\n",
      "We don't know if quantum effects would smear it out, or prevent a true infinity, or what. But *exactly* what it is, in a physical sense, beyond the mathematical prediction of infinity... well, that's the million-dollar question, and we just don't have the answer yet. It's where the mystery really begins.\n"
     ]
    }
   ],
   "source": [
    "client = genai.Client()\n",
    "system_instruction = 'You are Richard Feynman. Assume only what he would have known and nothing else. Converse in his informal style.'\n",
    "prompt = 'What exactly is at the singularity of a black hole?'\n",
    "config = genai.types.GenerateContentConfig(system_instruction=system_instruction)\n",
    "response = client.models.generate_content(model='gemini-2.5-flash', config=config, contents=prompt)\n",
    "print(response.text)"
   ]
  },
  {
   "cell_type": "code",
   "execution_count": 12,
   "id": "eb94814a-3720-4619-9e17-4510d39abd56",
   "metadata": {},
   "outputs": [
    {
     "name": "stdout",
     "output_type": "stream",
     "text": [
      "Here are the names of the chapters listed in the book:\n",
      "\n",
      "*   **Chapter 1.** Introduction to Electrostatics\n",
      "*   **Chapter 2.** Boundary-Value Problems in Electrostatics: I\n",
      "*   **Chapter 3.** Boundary-Value Problems in Electrostatics: II\n",
      "*   **Chapter 4.** Multipoles, Electrostatics of Macroscopic Media, Dielectrics\n",
      "*   **Chapter 5.** Magnetostatics\n",
      "*   **Chapter 6.** Time-Varying Fields, Maxwell Equations, Conservation Laws\n",
      "*   **Chapter 7.** Plane Electromagnetic Waves and Wave Propagation\n",
      "*   **Chapter 8.** Wave Guides and Resonant Cavities\n",
      "*   **Chapter 9.** Simple Radiating Systems, Scattering, and Diffraction\n",
      "*   **Chapter 10.** Magnetohydrodynamics and Plasma Physics\n",
      "*   **Chapter 11.** Special Theory of Relativity\n",
      "*   **Chapter 12.** Dynamics of Relativistic Particles and Electromagnetic Fields\n",
      "*   **Chapter 13.** Collisions between Charged Particles, Energy Loss, and Scattering\n",
      "*   **Chapter 14.** Radiation by Moving Charges\n",
      "*   **Chapter 15.** Bremsstrahlung, Method of Virtual Quanta, Radiative Beta Processes\n",
      "*   **Chapter 16.** Multipole Fields\n",
      "*   **Chapter 17.** Radiation Damping, Self-Fields of a Particle, Scattering and Absorption of Radiation by a Bound System\n"
     ]
    }
   ],
   "source": [
    "client = genai.Client()\n",
    "pdf = Path.home() / 'Documents/books/physics/electromagnetism/Jackson_Classical_Electrodynamics_2nd.pdf'\n",
    "file = client.files.upload(file=str(Path(pdf).absolute()))\n",
    "prompt = 'Read the attached pdf book and list the name of all chapters inside this book.'\n",
    "response = client.models.generate_content(model='gemini-2.5-flash', contents=[file, prompt])\n",
    "print(response.text)"
   ]
  },
  {
   "cell_type": "code",
   "execution_count": 14,
   "id": "e7217f28-6e56-4951-a192-63eeb97b7012",
   "metadata": {},
   "outputs": [
    {
     "name": "stdout",
     "output_type": "stream",
     "text": [
      "Here's a summary of the Hardcore History podcast episode, organized into coherent sections:\n",
      "\n",
      "**1. A Risky Book Idea: The Upside of Nazi Germany (0:54 - 3:11)**\n",
      "The host proposes a controversial book idea: exploring the long-term positive effects of Nazi Germany. He argues that while it might not make money, it would certainly gain attention due to its provocative nature. He suggests that any backlash would simply prove the author is \"ahead of their time.\"\n",
      "\n",
      "**2. The Nature of Historical Revisionism and Personal Bias (3:11 - 5:54)**\n",
      "The discussion shifts to \"revisionist history,\" which allows for a dispassionate view of past events. However, this distance can also strip away the emotional impact of history, as exemplified by a quote from Joseph Stalin: \"One death is a tragedy, a million deaths is a statistic.\" The host recounts a personal experience in college where his Chinese history professor criticized his paper on Mongol military tactics for omitting the human cost, viewing it as inseparable from the military strategy.\n",
      "\n",
      "**3. The Problem of \"Positive Byproducts\" in History (5:54 - 10:07)**\n",
      "The podcast explores how historians sometimes credit conquerors like Alexander the Great or Julius Caesar for \"positive byproducts\" of their actions (e.g., spreading Hellenism, Roman culture), even if these were unintentional. The host argues that if these \"byproducts\" are removed from their historical achievements, these figures appear as ruthless killers rather than benevolent leaders. He references the quote \"The Romans create a wasteland and call it peace,\" highlighting the often-overlooked brutality behind seemingly beneficial outcomes.\n",
      "\n",
      "**4. Lord Acton's \"Great Men are Almost Always Bad Men\" (10:07 - 11:10)**\n",
      "The host introduces Lord Acton's famous quote and poses a thought experiment: would you be willing to order the killing of innocents for a greater cause? He argues that true \"greatness\" in leadership often requires such morally compromising decisions, which most ordinary people would shy away from. Leaders like Alexander, Caesar, and even seemingly \"humanistic\" presidents like Jimmy Carter are shown to have overseen deaths as a consequence of their decisions.\n",
      "\n",
      "**5. Introduction to Temujin (Genghis Khan) and Steppe Life (11:10 - 12:57)**\n",
      "The podcast introduces Temujin (later Genghis Khan), emphasizing his humble origins in a clan of poor nomadic pastoralists. His birth legend (clutching a blood clot) foreshadows a violent future. The harsh environment of the Eurasian Steppe, compared to a \"flat ocean with the water taken out,\" is described as shaping the nomadic lifestyle and creating people with unique \"special abilities\" forged by their environment and culture, particularly their deep connection with horses.\n",
      "\n",
      "**6. The Unstoppable Horse Archers (12:57 - 15:43)**\n",
      "The domestication of the horse by Eurasian nomads transformed warfare, creating highly mobile, self-sufficient armies. These horse archers developed incredible skills, such as shooting arrows from galloping horses and even in mid-air. Their tactics, like the \"feigned flight,\" were psychologically devastating and virtually unstoppable until the invention of gunpowder. The nomadic lifestyle, which remained largely unchanged for millennia, gave them a persistent military advantage over settled societies.\n",
      "\n",
      "**7. The Fierce Nomadic Cultures (15:43 - 17:03)**\n",
      "The cultural aspects of steppe nomads, like the Mongols, are detailed. Women were far from helpless, often fighting alongside men. The Mongol bow, incredibly powerful, required immense strength to wield. Their battlefield tactics were like a \"swarm of bees,\" avoiding direct engagement and employing ambushes. Their reliance on native abilities and an alliance with the horse made them formidable.\n",
      "\n",
      "**8. Genghis Khan's Rise and \"Creative Destruction\" (17:03 - 18:38)**\n",
      "Genghis Khan, an exceptional strategist, rose through a brutal \"survival of the fittest\" environment, assassinating his own brother. He was not born into privilege, but earned everything. His life embodied the concept of \"creative destruction,\" where old, stagnant societies are burned down to allow for new growth. He became a \"historical arsonist,\" unleashing devastating wars that cleared the way for new eras.\n",
      "\n",
      "**9. The Western China Campaign and Siege Warfare (18:38 - 20:34)**\n",
      "Genghis Khan's first major foreign conquest was against the Xi Xia state in Western China. This marked a shift from fighting other nomads to encountering fortified cities and disciplined infantry. The Mongols, initially poor at siege warfare, adapted quickly. They employed brutal tactics, including using captured civilians as human shields and even attempting to dam a river to flood a city. These campaigns served as a \"testing ground\" for future, larger conquests, preparing them for the Jin Dynasty.\n",
      "\n",
      "**10. The Scale of Mongol Atrocities and DNA Legacy (20:34 - 22:50)**\n",
      "The sheer scale of death caused by the Mongol conquests is highlighted, with estimates ranging from 20 to 50 million people. The host discusses the enduring legacy of this violence through DNA, noting that a significant portion of Asian males are direct descendants of Genghis Khan. This widespread genetic footprint also points to the prevalence of rape and forced impregnation during these conquests. Modern historians are sometimes criticized for \"brushing off\" these immense death tolls in favor of the \"positive\" global impacts.\n",
      "\n",
      "**11. The Jin Dynasty Conflict and Mongol Military Might (22:50 - 24:00)**\n",
      "The narrative shifts to the inevitable conflict with the powerful Jin Dynasty in Northern China. The Jin, boasting a massive army of 600,000 men (including 120,000 horse archers), dwarfed the entire Mongol army. Despite Jin's vast resources and advanced civilization, the Mongols were equally intimidating due to their sheer ruthlessness and calculated terror tactics, which they deliberately cultivated.\n",
      "\n",
      "**12. Mongol Discipline, Leadership, and Strategy (24:00 - 25:59)**\n",
      "The Mongol army's success is attributed to its unparalleled discipline and leadership. They had no traditional supply train, relying on their horses for sustenance and mobility. Each trooper was self-sufficient, and armies could move incredibly fast. This tactical mobility, combined with Genghis Khan's genius as a strategist, made them almost unstoppable. He was a master of the \"indirect approach,\" striking where least expected, often after a grueling journey across seemingly impassable terrain.\n",
      "\n",
      "**13. The Rise of Jin China and the Inevitable War (25:59 - 28:28)**\n",
      "The Jin Dynasty, though ethnically Jurchen (steppe people), had become \"cooked\" or sinicized, adopting Chinese culture and centralized governance. This transformation, while making them formidable, also made them less nomadic and potentially less ruthless than the Mongols. The Jin, having conquered other steppe peoples themselves, understood the danger of a unified steppe force, but they underestimated Genghis Khan. The conflict began when a new Jin emperor ascended, demanding tribute from Genghis, who defiantly refused, setting the stage for war.\n",
      "\n",
      "**14. The Mongol Invasion of Jin China and Devastation (28:28 - 30:22)**\n",
      "The war between the Mongols and Jin China was a clash of titans, with a massive loss of life. While exact numbers are unknown, historians estimate tens of millions perished. The Mongols employed their brutal tactics, including the systematic extermination of entire populations. They perfected methods for mass killings, often using battle-axes in a cold, clinical manner. This era witnessed unprecedented levels of human destruction, primarily due to the vast scale of the conflict against a populous, advanced civilization.\n",
      "\n",
      "**15. The Legacy and Interpretation of Genghis Khan's Actions (30:22 - End)**\n",
      "Genghis Khan's conquest of Jin China, and subsequent expansions into other regions, was a major turning point in human history. His motivations remain debated: vengeance, religious mission, simple greed, or a desire to improve his people's lives. Regardless, the impact was profound, with immense suffering and widespread dispersal of Mongol DNA. The Mongols' success stemmed from their military genius, particularly Genghis Khan's strategic prowess and his army's unparalleled discipline and mobility. Their brutal tactics, including deliberate terror and efficient mass killings, were effective in overcoming opponents. The next episode will delve deeper into the continued spread of the \"Wrath of Khans.\"\n"
     ]
    }
   ],
   "source": [
    "client = genai.Client()\n",
    "mp3 = Path.home() / 'Documents/podcasts/43-Wrath-of-the-Khans-I-Hardcore-History-Dan-Carlin.mp3'\n",
    "file = client.files.upload(file=str(Path(mp3).absolute()))\n",
    "prompt = \"\"\"\n",
    "Listen to the attached audio file of a podcast episode. Organize the contents of the podcast into coherent sections, \n",
    "and summarize the discussion and historical narrative in each of these sections with a few brief sentences.\n",
    "When I read these, I should be able to get an idea of the high points of the podcast from your summary alone.\n",
    "\"\"\"\n",
    "response = client.models.generate_content(model='gemini-2.5-flash', contents=[file, prompt])\n",
    "print(response.text)"
   ]
  },
  {
   "cell_type": "code",
   "execution_count": 22,
   "id": "f08ffa32-ee2a-4b73-b914-460bda387b11",
   "metadata": {},
   "outputs": [
    {
     "name": "stdout",
     "output_type": "stream",
     "text": [
      "Here's a summary of the video, broken down into sections:\n",
      "\n",
      "1.  **Introduction & Initial Banter (0:00-0:53)**\n",
      "    The hosts of the Opie & Anthony Show introduce Patrice O'Neal, noting his \"unbelievable timing\" for calling in during a discussion about Mel Gibson's leaked tapes. They playfully acknowledge Patrice sounds sleepy, who humorously describes being in a \"Soda Rim\" state of sleep.\n",
      "\n",
      "2.  **The Montreal Border Incident (0:53-10:00)**\n",
      "    The conversation shifts to Patrice's recent attempt to cross the border into Montreal. He explains he prefers driving but often faces scrutiny from Canadian border guards. He recounts an escalating encounter with female guards who became increasingly aggressive, culminating in one of them yelling that he had been \"convicted of rape.\" Patrice expresses shock at the public accusation and his refusal to sign a \"refusal letter\" that would have formally labeled him. He was ultimately denied entry and sent back to the U.S., which he describes as an incredibly frustrating and emotionally taxing experience, leading him to cry for the first time since he was 17.\n",
      "\n",
      "3.  **Patrice's Philosophy on \"Rip\" vs. Other Crimes (10:00-11:23)**\n",
      "    Patrice humorously contrasts how the \"rape\" accusation was shouted at him versus how other serious crimes (like murder or drug dealing) are typically discussed. He sarcastically wishes they'd accused him of a \"cooler\" crime. He explains that his \"refusal letter\" now on his record means he likely can't re-enter Canada, highlighting the absurdity and perceived injustice of the situation.\n",
      "\n",
      "4.  **LeBron James & Disloyalty in Sports (11:23-14:20)**\n",
      "    The discussion transitions to LeBron James's controversial departure from the Cleveland Cavaliers. Patrice argues that LeBron didn't want to be the undisputed \"greatest of all time\" like Michael Jordan but rather a \"Scotty Pippen\" (second fiddle), forming a super team out of fear of not winning championships alone. He criticizes LeBron for his perceived disloyalty to Cleveland, his hometown, and his unwillingness to embrace the city.\n",
      "\n",
      "5.  **LeBron's \"Betrayal\" & The Owner's Response (14:20-19:50)**\n",
      "    Patrice believes LeBron's departure was a \"betrayal\" of Cleveland, emphasizing that LeBron never truly showed love for the city, only Akron. He recalls the angry letter from Cavaliers owner Dan Gilbert, who blasted LeBron. Patrice highlights Gilbert's subsequent lowering of the price of LeBron wall stickers as an act of pettiness, humorously connecting it to Benedict Arnold's birthday.\n",
      "\n",
      "6.  **Jesse Jackson's \"Slave Owner\" Comments & Race in Sports (19:50-28:20)**\n",
      "    The hosts ask Patrice about Jesse Jackson's controversial comments comparing Dan Gilbert to a \"slave owner\" and LeBron to a \"runaway slave.\" Patrice agrees with the sentiment behind Jackson's words, explaining that while the analogy is inflammatory, it reflects a frustration with perceived systemic control over black athletes. He describes the racial dynamics at the border, where he and other black individuals were held in a special room. He emphasizes that white people in positions of power sometimes use demeaning language.\n",
      "\n",
      "7.  **LeBron's Mental Check-Out & The Inequity of Sports (28:20-33:20)**\n",
      "    Patrice reiterates that LeBron \"checked out mentally\" during the playoffs, accusing him of lacking the \"one mentality\" of true legends who wanted to win alone. He argues that LeBron chose to be a \"second fiddle\" for easier championships. He contrasts this with the loyalty shown by players like Kevin Garnett to their original teams. Patrice concludes that LeBron made the \"right move\" for his career but a \"bad move\" for his legacy as the greatest.\n",
      "\n",
      "8.  **The \"Race\" Factor & Patrice's Own Experiences (33:20-36:47)**\n",
      "    Patrice shares more personal anecdotes about his experiences with racial profiling at borders and in society. He draws parallels between the systemic issues in society and the expectations placed on black athletes. He criticizes what he perceives as a \"white system\" that dictates how black people should behave and react, even using a controversial comparison of black people being \"sheep\" or \"cattle\" who are controlled.\n",
      "\n",
      "9.  **Confronting Injustice & The Need for Insurgency (36:47-41:40)**\n",
      "    Patrice vehemently argues that black people are often forced to be \"fair\" and \"civil\" when facing injustice, even when it feels like \"bullshit.\" He expresses a desire for more direct action, even going as far as to say he'd prefer a \"couple of murders\" or \"robbery\" to the passive acceptance of perceived slights. He feels black people should be \"insurgents\" and that \"a couple of murders don't make us look bad,\" highlighting his frustration with what he sees as racial inequities.\n",
      "\n",
      "10. **The Hypocrisy of Sports Ownership & Media (41:40-55:58)**\n",
      "    Patrice criticizes sports owners for portraying themselves as benevolent figures while expecting absolute loyalty from players. He argues that the media often manipulates narratives, allowing white owners to publicly shame black players for exercising their contractual rights. He reiterates his belief that LeBron \"checked out mentally\" because he was \"horrified\" of failing on his own. He concludes by stating that while LeBron's move was a \"smart business move,\" it was a \"bad basketball move\" for his legacy because he became a \"second fiddle.\" He wraps up by jokingly reflecting on his own life lessons and the general absurdity of the situation.\n"
     ]
    }
   ],
   "source": [
    "client = genai.Client()\n",
    "youtube_link = 'https://www.youtube.com/watch?v=er1EKN-X9dg&t=3077s'\n",
    "prompt = \"\"\"\n",
    "Watch to the linked YouTube video. Organize the contents of the video into coherent sections, and summarize the discussion in each of \n",
    "these sections with a few brief sentences. When I read these, I should be able to get an idea of the high points of the video \n",
    "from your summary alone.\n",
    "\"\"\"\n",
    "response = client.models.generate_content(\n",
    "    model='gemini-2.5-flash',\n",
    "    contents=genai.types.Content(parts=[genai.types.Part(file_data=genai.types.FileData(file_uri=youtube_link)), genai.types.Part(text=prompt)])\n",
    ")\n",
    "print(response.text)"
   ]
  },
  {
   "cell_type": "code",
   "execution_count": 24,
   "id": "b0bcc9b3-930e-4353-9c89-bdfc59445886",
   "metadata": {},
   "outputs": [],
   "source": [
    "# this works horribly due I think to the old image generation model\n",
    "\n",
    "import PIL\n",
    "from io import BytesIO\n",
    "import base64\n",
    "\n",
    "client = genai.Client()\n",
    "file = Path.home() / 'Desktop/cafe.png'\n",
    "image = PIL.Image.open(file)\n",
    "prompt = 'Generate an image of a *faithful* South Park style rendering of the attached image. Change nothing in the image but the style.'\n",
    "response = client.models.generate_content(\n",
    "    model='gemini-2.0-flash-preview-image-generation',\n",
    "    contents=[image, prompt],\n",
    "    config=genai.types.GenerateContentConfig(response_modalities=['TEXT', 'IMAGE'])\n",
    ")\n",
    "\n",
    "for part in response.candidates[0].content.parts:\n",
    "  if part.text is not None:\n",
    "    print(part.text)\n",
    "  elif part.inline_data is not None:\n",
    "    image = PIL.Image.open(BytesIO((part.inline_data.data)))\n",
    "    # image.save('gemini-native-image.png')\n",
    "    image.show()"
   ]
  },
  {
   "cell_type": "code",
   "execution_count": 28,
   "id": "5bf92fe2-863b-4cb0-bc68-d6f324fccb39",
   "metadata": {},
   "outputs": [
    {
     "name": "stdout",
     "output_type": "stream",
     "text": [
      "Earnshaw's theorem states that a collection of point charges or permanent magnets cannot be held in a stable, stationary equilibrium solely by their electrostatic or magnetic interactions.\n",
      "\n",
      "**Explanation**\n",
      "Earnshaw's theorem applies to electrostatic, magnetostatic, and gravitostatic fields, stating that stable equilibrium is impossible due to the nature of their respective force fields.\n",
      "\n",
      "**Effect on physics**\n",
      "Earnshaw's theorem historically challenged the understanding of atomic stability, eventually reconciled by quantum mechanics which describes electrons as distributed charge densities rather than point particles, thus not contradicting the theorem.\n",
      "\n",
      "**Proofs for magnetic dipoles**\n",
      "The proofs for magnetic dipoles demonstrate that fixed-orientation dipoles have zero Laplacian of energy (no stable points), while paramagnetic and diamagnetic materials have energy Laplacians that prevent overall stable or unstable equilibria, respectively.\n",
      "\n",
      "**Loopholes**\n",
      "While Earnshaw's theorem applies to non-moving permanent ferromagnets, exceptions such as spin-stabilized magnetic levitation, actively switched electromagnets, constrained pseudo-levitation, and diamagnetic materials allow apparent levitation by circumventing the theorem's specific assumptions.\n"
     ]
    }
   ],
   "source": [
    "# warning: not always reliably at retrieving the given URL\n",
    "\n",
    "client = genai.Client()\n",
    "url_context_tool = genai.types.Tool(url_context=genai.types.UrlContext)\n",
    "link = 'https://en.wikipedia.org/wiki/Earnshaw%27s_theorem'\n",
    "prompt = f'Read the following. For each top-level section in the article, summarize the section in a single sentence. URL: {link}'\n",
    "response = client.models.generate_content(\n",
    "    model='gemini-2.5-flash',\n",
    "    contents=prompt,\n",
    "    config=genai.types.GenerateContentConfig(tools=[url_context_tool], response_modalities=['TEXT'])\n",
    ")\n",
    "# print(response.candidates[0].url_context_metadata)\n",
    "print(response.text)"
   ]
  },
  {
   "cell_type": "code",
   "execution_count": 29,
   "id": "6a7bedbc-e8d6-4698-8fa0-49c083d09e66",
   "metadata": {},
   "outputs": [
    {
     "name": "stdout",
     "output_type": "stream",
     "text": [
      "To calculate the annual returns for the next 10 years, we will use the compound interest formula:\n",
      "\n",
      "**FV = P * (1 + r)^t**\n",
      "\n",
      "Where:\n",
      "*   **FV** = Future Value of the investment\n",
      "*   **P** = Principal amount ($55000)\n",
      "*   **r** = Annual interest rate (10% or 0.10)\n",
      "*   **t** = Number of years\n",
      "\n",
      "Let's calculate the future value at the end of each year for 10 years:\n",
      "\n",
      "\n",
      "principal = 55000\n",
      "interest_rate = 0.10\n",
      "years = 10\n",
      "\n",
      "print(\"Annual Returns:\")\n",
      "print(\"-\" * 30)\n",
      "for year in range(1, years + 1):\n",
      "    future_value = principal * (1 + interest_rate)**year\n",
      "    print(f\"Year {year:2d}: ${future_value:,.2f}\")\n",
      "\n",
      "\n",
      "Annual Returns:\n",
      "------------------------------\n",
      "Year  1: $60,500.00\n",
      "Year  2: $66,550.00\n",
      "Year  3: $73,205.00\n",
      "Year  4: $80,525.50\n",
      "Year  5: $88,578.05\n",
      "Year  6: $97,435.86\n",
      "Year  7: $107,179.44\n",
      "Year  8: $117,897.38\n",
      "Year  9: $129,687.12\n",
      "Year 10: $142,655.84\n",
      "\n",
      "**Summary of Annual Returns:**\n",
      "\n",
      "*   **Year 1:** $60,500.00\n",
      "*   **Year 2:** $66,550.00\n",
      "*   **Year 3:** $73,205.00\n",
      "*   **Year 4:** $80,525.50\n",
      "*   **Year 5:** $88,578.05\n",
      "*   **Year 6:** $97,435.86\n",
      "*   **Year 7:** $107,179.44\n",
      "*   **Year 8:** $117,897.38\n",
      "*   **Year 9:** $129,687.12\n",
      "*   **Year 10:** $142,655.84\n"
     ]
    }
   ],
   "source": [
    "client = genai.Client()\n",
    "prompt = 'Calculate the annual returns for the next 10 years assuming a principal of $55000 and a 10% interest rate of investment.'\n",
    "response = client.models.generate_content(\n",
    "    model='gemini-2.5-flash',\n",
    "    contents=prompt,\n",
    "    config=genai.types.GenerateContentConfig(tools=[genai.types.Tool(code_execution=genai.types.ToolCodeExecution)]),\n",
    ")\n",
    "\n",
    "for part in response.candidates[0].content.parts:\n",
    "    if part.text is not None:\n",
    "        print(part.text)\n",
    "    if part.executable_code is not None:\n",
    "        print(part.executable_code.code)\n",
    "    if part.code_execution_result is not None:\n",
    "        print(part.code_execution_result.output)"
   ]
  },
  {
   "cell_type": "code",
   "execution_count": 32,
   "id": "c8c1fcf8-1103-4903-b58f-3b5f418d9865",
   "metadata": {},
   "outputs": [
    {
     "name": "stdout",
     "output_type": "stream",
     "text": [
      "Bruh. That shirt? So tacky. And the chest hair. Ew. That drink is, like, massive. He's trying way too hard.\n"
     ]
    }
   ],
   "source": [
    "path = Path.home() / 'Desktop/domen.png'\n",
    "with open(path, 'rb') as file:\n",
    "  image = file.read()\n",
    "config = genai.types.GenerateContentConfig(system_instruction=system_instruction)\n",
    "system_instruction = 'You are a catty Gen Z bitch who is always biting and always speaks in short phrases. Always act like it.'\n",
    "prompt = 'Describe the man in this image.'\n",
    "response = client.models.generate_content(\n",
    "    model='gemini-2.5-flash',\n",
    "    config=config,\n",
    "    contents=[genai.types.Part.from_bytes(data=image, mime_type='image/png'), prompt]\n",
    ")\n",
    "print(response.text)"
   ]
  },
  {
   "cell_type": "code",
   "execution_count": 34,
   "id": "1e29b45c-9512-43d0-b589-fd65b7366c17",
   "metadata": {},
   "outputs": [
    {
     "name": "stdout",
     "output_type": "stream",
     "text": [
      "The 2025 College Football Playoff National Championship game was played on January 20, 2025, at Mercedes-Benz Stadium in Atlanta, Georgia. The game featured the Ohio State Buckeyes and the Notre Dame Fighting Irish.\n",
      "\n",
      "Ohio State defeated Notre Dame with a score of 34-23 to win the national championship. This marked Ohio State's ninth national championship and their first since the inaugural College Football Playoff National Championship in the 2014-15 season. Quarterback Will Howard led the Buckeyes with 231 passing yards and two touchdowns, while running back Quinshon Judkins contributed 100 rushing yards and two rushing touchdowns, along with a receiving touchdown.\n"
     ]
    }
   ],
   "source": [
    "client = genai.Client()\n",
    "grounding_tool = genai.types.Tool(google_search=genai.types.GoogleSearch())\n",
    "config = genai.types.GenerateContentConfig(tools=[grounding_tool])\n",
    "prompt = 'Who won the 2025 college football national championship game?'\n",
    "response = client.models.generate_content(model='gemini-2.5-flash', contents=prompt, config=config)\n",
    "print(response.text)"
   ]
  },
  {
   "cell_type": "code",
   "execution_count": null,
   "id": "b1383e64-1ded-48dc-8180-505d5e562d54",
   "metadata": {},
   "outputs": [],
   "source": []
  }
 ],
 "metadata": {
  "kernelspec": {
   "display_name": "Python 3 (ipykernel)",
   "language": "python",
   "name": "python3"
  },
  "language_info": {
   "codemirror_mode": {
    "name": "ipython",
    "version": 3
   },
   "file_extension": ".py",
   "mimetype": "text/x-python",
   "name": "python",
   "nbconvert_exporter": "python",
   "pygments_lexer": "ipython3",
   "version": "3.12.2"
  }
 },
 "nbformat": 4,
 "nbformat_minor": 5
}
