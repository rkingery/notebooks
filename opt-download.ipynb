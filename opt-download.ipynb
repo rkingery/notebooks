{
 "cells": [
  {
   "cell_type": "code",
   "execution_count": 3,
   "id": "5fb47595",
   "metadata": {},
   "outputs": [],
   "source": [
    "from pathlib import Path\n",
    "import pandas as pd\n",
    "from tqdm.notebook import tqdm"
   ]
  },
  {
   "cell_type": "code",
   "execution_count": 4,
   "id": "178603d6",
   "metadata": {},
   "outputs": [],
   "source": [
    "csv_path = Path().home() / 'Desktop' / 'shards.csv'\n",
    "save_path = Path().home() / 'Desktop' / 'tmp'\n",
    "\n",
    "if not save_path.exists():\n",
    "    save_path.mkdir()"
   ]
  },
  {
   "cell_type": "code",
   "execution_count": 11,
   "id": "20607e91",
   "metadata": {},
   "outputs": [],
   "source": [
    "%%bash\n",
    "\n",
    "echo \"filename,path\" >> ~/Desktop/shards.csv\n",
    "presigned_url=\n",
    "str_to_replace='stubbed.pt'\n",
    "for part_id in $(seq 0 7)\n",
    "do\n",
    "  for shard_id in $(seq 0 123)\n",
    "  do\n",
    "    filename=\"checkpoint_last-model_part-$part_id-shard$shard_id.pt\"\n",
    "    echo \"$filename,${presigned_url/$str_to_replace/$filename}\" >> ~/Desktop/shards.csv\n",
    "  done\n",
    "done"
   ]
  },
  {
   "cell_type": "code",
   "execution_count": 12,
   "id": "9df4a08b",
   "metadata": {},
   "outputs": [
    {
     "data": {
      "text/html": [
       "<div>\n",
       "<style scoped>\n",
       "    .dataframe tbody tr th:only-of-type {\n",
       "        vertical-align: middle;\n",
       "    }\n",
       "\n",
       "    .dataframe tbody tr th {\n",
       "        vertical-align: top;\n",
       "    }\n",
       "\n",
       "    .dataframe thead th {\n",
       "        text-align: right;\n",
       "    }\n",
       "</style>\n",
       "<table border=\"1\" class=\"dataframe\">\n",
       "  <thead>\n",
       "    <tr style=\"text-align: right;\">\n",
       "      <th></th>\n",
       "      <th>filename</th>\n",
       "      <th>path</th>\n",
       "    </tr>\n",
       "  </thead>\n",
       "  <tbody>\n",
       "    <tr>\n",
       "      <th>0</th>\n",
       "      <td>checkpoint_last-model_part-0-shard0.pt</td>\n",
       "      <td>https://d3q5sbpjbmb5k9.cloudfront.net/175b/che...</td>\n",
       "    </tr>\n",
       "    <tr>\n",
       "      <th>1</th>\n",
       "      <td>checkpoint_last-model_part-0-shard1.pt</td>\n",
       "      <td>https://d3q5sbpjbmb5k9.cloudfront.net/175b/che...</td>\n",
       "    </tr>\n",
       "    <tr>\n",
       "      <th>2</th>\n",
       "      <td>checkpoint_last-model_part-0-shard2.pt</td>\n",
       "      <td>https://d3q5sbpjbmb5k9.cloudfront.net/175b/che...</td>\n",
       "    </tr>\n",
       "    <tr>\n",
       "      <th>3</th>\n",
       "      <td>checkpoint_last-model_part-0-shard3.pt</td>\n",
       "      <td>https://d3q5sbpjbmb5k9.cloudfront.net/175b/che...</td>\n",
       "    </tr>\n",
       "    <tr>\n",
       "      <th>4</th>\n",
       "      <td>checkpoint_last-model_part-0-shard4.pt</td>\n",
       "      <td>https://d3q5sbpjbmb5k9.cloudfront.net/175b/che...</td>\n",
       "    </tr>\n",
       "  </tbody>\n",
       "</table>\n",
       "</div>"
      ],
      "text/plain": [
       "                                 filename  \\\n",
       "0  checkpoint_last-model_part-0-shard0.pt   \n",
       "1  checkpoint_last-model_part-0-shard1.pt   \n",
       "2  checkpoint_last-model_part-0-shard2.pt   \n",
       "3  checkpoint_last-model_part-0-shard3.pt   \n",
       "4  checkpoint_last-model_part-0-shard4.pt   \n",
       "\n",
       "                                                path  \n",
       "0  https://d3q5sbpjbmb5k9.cloudfront.net/175b/che...  \n",
       "1  https://d3q5sbpjbmb5k9.cloudfront.net/175b/che...  \n",
       "2  https://d3q5sbpjbmb5k9.cloudfront.net/175b/che...  \n",
       "3  https://d3q5sbpjbmb5k9.cloudfront.net/175b/che...  \n",
       "4  https://d3q5sbpjbmb5k9.cloudfront.net/175b/che...  "
      ]
     },
     "execution_count": 12,
     "metadata": {},
     "output_type": "execute_result"
    }
   ],
   "source": [
    "df = pd.read_csv(str(csv_path))\n",
    "df.head()"
   ]
  },
  {
   "cell_type": "code",
   "execution_count": 13,
   "id": "bb513937",
   "metadata": {},
   "outputs": [
    {
     "data": {
      "application/vnd.jupyter.widget-view+json": {
       "model_id": "642eedcfe9214f3d966a17daed4a027c",
       "version_major": 2,
       "version_minor": 0
      },
      "text/plain": [
       "  0%|          | 0/992 [00:00<?, ?it/s]"
      ]
     },
     "metadata": {},
     "output_type": "display_data"
    },
    {
     "name": "stdout",
     "output_type": "stream",
     "text": [
      "Uploading /Users/rkingery/Desktop/tmp/checkpoint_last-model_part-0-shard0.pt\n",
      "Uploaded 1gisu9wbYEc6X1p8WO5uTES505Q6RwSkd at 4.9 MB/s, total 353.7 MB\n",
      "Uploading /Users/rkingery/Desktop/tmp/checkpoint_last-model_part-0-shard1.pt\n",
      "Uploaded 1-g5BEuVXbPH2EOFwMSj9XHCu08ZS1o2C at 5.0 MB/s, total 353.7 MB\n",
      "Uploading /Users/rkingery/Desktop/tmp/checkpoint_last-model_part-0-shard2.pt\n",
      "Uploaded 17RYod2FXp7CHFB5A-FB3Q3LRzr10XuEh at 4.7 MB/s, total 353.7 MB\n",
      "Uploading /Users/rkingery/Desktop/tmp/checkpoint_last-model_part-0-shard3.pt\n",
      "Uploaded 1388bresFsYqbtA2jhH0IVYDGIu9ktIMd at 5.0 MB/s, total 353.7 MB\n",
      "Uploading /Users/rkingery/Desktop/tmp/checkpoint_last-model_part-0-shard4.pt\n",
      "Uploaded 1Gb1l8Xx5xUZuJgOE36JR1Ci-0J-aIxI8 at 5.2 MB/s, total 353.7 MB\n",
      "Uploading /Users/rkingery/Desktop/tmp/checkpoint_last-model_part-0-shard5.pt\n",
      "Uploaded 1PDyxc7uOaazweqB16e7U7kftmHhfgXYU at 4.9 MB/s, total 353.7 MB\n",
      "Uploading /Users/rkingery/Desktop/tmp/checkpoint_last-model_part-0-shard6.pt\n",
      "92.3 MB/353.7 MB, Rate: 5.0 MB/s                  ^C\n",
      "^C\n",
      "^C\n",
      "^C\n",
      "^C\n"
     ]
    },
    {
     "name": "stderr",
     "output_type": "stream",
     "text": [
      "\n",
      "KeyboardInterrupt\n",
      "\n"
     ]
    }
   ],
   "source": [
    "for _, row in tqdm(list(df.iterrows())):\n",
    "    ! wget -q -O {str(save_path / row.filename)} \"{row.path}\"\n",
    "    ! gdrive upload --delete --no-progress --parent \"OPT-175B\" {str(save_path / row.filename)}\n",
    "    # ! rm {str(save_path / row.filename)}"
   ]
  },
  {
   "cell_type": "code",
   "execution_count": null,
   "id": "287e317e",
   "metadata": {},
   "outputs": [],
   "source": []
  }
 ],
 "metadata": {
  "kernelspec": {
   "display_name": "Python 3 (ipykernel)",
   "language": "python",
   "name": "python3"
  },
  "language_info": {
   "codemirror_mode": {
    "name": "ipython",
    "version": 3
   },
   "file_extension": ".py",
   "mimetype": "text/x-python",
   "name": "python",
   "nbconvert_exporter": "python",
   "pygments_lexer": "ipython3",
   "version": "3.10.4"
  },
  "toc": {
   "base_numbering": 1,
   "nav_menu": {},
   "number_sections": true,
   "sideBar": true,
   "skip_h1_title": false,
   "title_cell": "Table of Contents",
   "title_sidebar": "Contents",
   "toc_cell": false,
   "toc_position": {},
   "toc_section_display": true,
   "toc_window_display": false
  },
  "varInspector": {
   "cols": {
    "lenName": 16,
    "lenType": 16,
    "lenVar": 40
   },
   "kernels_config": {
    "python": {
     "delete_cmd_postfix": "",
     "delete_cmd_prefix": "del ",
     "library": "var_list.py",
     "varRefreshCmd": "print(var_dic_list())"
    },
    "r": {
     "delete_cmd_postfix": ") ",
     "delete_cmd_prefix": "rm(",
     "library": "var_list.r",
     "varRefreshCmd": "cat(var_dic_list()) "
    }
   },
   "types_to_exclude": [
    "module",
    "function",
    "builtin_function_or_method",
    "instance",
    "_Feature"
   ],
   "window_display": false
  }
 },
 "nbformat": 4,
 "nbformat_minor": 5
}
