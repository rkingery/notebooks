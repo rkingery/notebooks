{
 "cells": [
  {
   "cell_type": "code",
   "execution_count": 26,
   "id": "1b6673a1",
   "metadata": {},
   "outputs": [
    {
     "name": "stdout",
     "output_type": "stream",
     "text": [
      "device: cuda\n"
     ]
    }
   ],
   "source": [
    "import numpy as np\n",
    "import matplotlib.pyplot as plt\n",
    "import torch\n",
    "import torch.nn as nn\n",
    "import torchvision\n",
    "from torchvision.transforms import Resize\n",
    "from sklearn.model_selection import train_test_split\n",
    "import PIL\n",
    "import urllib\n",
    "from tqdm.notebook import tqdm\n",
    "\n",
    "from torch.utils.tensorboard import SummaryWriter\n",
    "%load_ext tensorboard\n",
    "\n",
    "seed = 42\n",
    "np.random.seed(seed + 1)\n",
    "torch.manual_seed(seed)\n",
    "\n",
    "device = 'cuda' if torch.cuda.is_available() else 'cpu'\n",
    "print(f'device: {device}')"
   ]
  },
  {
   "cell_type": "code",
   "execution_count": 27,
   "id": "35f409f1",
   "metadata": {},
   "outputs": [],
   "source": [
    "def get_mnist_data(path='~/data', as_rgb=False, download=False, transforms=[]):\n",
    "    reshape = lambda x: x\n",
    "    if as_rgb:\n",
    "        reshape = lambda x: x.repeat(3, 1, 1)\n",
    "    train_data = torchvision.datasets.MNIST(\n",
    "        path,\n",
    "        download=download,\n",
    "        train=True,\n",
    "        transform=torchvision.transforms.Compose([\n",
    "            *transforms,\n",
    "            torchvision.transforms.ToTensor(),\n",
    "            torchvision.transforms.Lambda(reshape),\n",
    "            torchvision.transforms.Normalize((0.1307,), (0.3081,))\n",
    "        ])\n",
    "    )\n",
    "    test_data = torchvision.datasets.MNIST(\n",
    "        path,\n",
    "        download=download,\n",
    "        train=False,\n",
    "        transform=torchvision.transforms.Compose([\n",
    "            torchvision.transforms.ToTensor(),\n",
    "            torchvision.transforms.Lambda(reshape),\n",
    "            torchvision.transforms.Normalize((0.1307,), (0.3081,))\n",
    "        ])\n",
    "    )\n",
    "    \n",
    "    return train_data, test_data\n",
    "\n",
    "def get_optimizer(model, optimizer='sgd', lr=0.001, weight_decay=0, momentum=0, betas=(0.9, 0.999), eps=1e-8):\n",
    "    if optimizer == 'sgd':\n",
    "        opt = torch.optim.SGD(\n",
    "            model.parameters(),\n",
    "            lr=lr, \n",
    "            weight_decay=weight_decay, \n",
    "            momentum=momentum\n",
    "        )\n",
    "    if optimizer == 'adam':\n",
    "        opt = torch.optim.Adam(\n",
    "            model.parameters(),\n",
    "            lr=lr,\n",
    "            weight_decay=weight_decay,\n",
    "            betas=betas,\n",
    "            eps=eps\n",
    "        )\n",
    "    return opt\n",
    "\n",
    "def train_model(train_data, model, opt, loss_fn, test_data=None, num_epochs=1000, plot_loss=True, batch_size=32,\n",
    "               tensorboard=False, print_loss=True, show_batches_bar=False):\n",
    "    if tensorboard:\n",
    "        writer = SummaryWriter()\n",
    "    losses = []\n",
    "    train_loader = torch.utils.data.DataLoader(train_data, batch_size=batch_size, shuffle=True)\n",
    "    if test_data is not None:\n",
    "        test_loader = torch.utils.data.DataLoader(test_data, batch_size=batch_size, shuffle=True)\n",
    "    for epoch in tqdm(range(num_epochs)):\n",
    "        model = model.train()\n",
    "        batch_losses = []\n",
    "        batch_correct = []\n",
    "        iterator = tqdm(train_loader, leave=False) if show_batches_bar else train_loader\n",
    "        for X, y in iterator:\n",
    "            X = X.to(device)\n",
    "            y = y.to(device)\n",
    "            opt.zero_grad()\n",
    "            yhat = model(X)\n",
    "            loss = loss_fn(yhat, y)\n",
    "            loss.backward()\n",
    "            opt.step()\n",
    "            batch_losses.append(float(loss)* batch_size)\n",
    "            batch_correct.append(float((yhat.argmax(dim=1) == y).sum().cpu()))\n",
    "        train_loss = sum(batch_losses) / len(train_data)\n",
    "        train_acc = sum(batch_correct) / len(train_data)\n",
    "        losses.append(train_loss)\n",
    "        \n",
    "\n",
    "        if test_data is not None:\n",
    "            model = model.eval()\n",
    "            batch_losses = []\n",
    "            batch_correct = []\n",
    "            iterator = tqdm(test_loader, leave=False) if show_batches_bar else test_loader\n",
    "            for X, y in iterator:\n",
    "                X = X.to(device)\n",
    "                y = y.to(device)\n",
    "                opt.zero_grad()\n",
    "                yhat = model(X)\n",
    "                loss = loss_fn(yhat, y)\n",
    "                batch_losses.append(float(loss) * batch_size)\n",
    "                batch_correct.append(float((yhat.argmax(dim=1) == y).sum().cpu()))\n",
    "            test_loss = sum(batch_losses) / len(test_data)\n",
    "            test_acc = sum(batch_correct) / len(test_data)\n",
    "        else:\n",
    "            test_loss = -999\n",
    "            test_acc = -999\n",
    "\n",
    "        if tensorboard:\n",
    "            writer.add_scalar(\"Training Loss\", train_loss, epoch+1)\n",
    "            writer.add_scalar(\"Training Accuracy\", train_acc, epoch+1)\n",
    "            writer.add_scalar(\"Test Loss\", test_loss, epoch+1)\n",
    "            writer.add_scalar(\"Test Accuracy\", test_acc, epoch+1)\n",
    "        if print_loss:\n",
    "            s1 = f'epoch: {epoch+1: <3}   ' \n",
    "            s2 = f'train loss: {round(train_loss, 4): <6}   train acc: {round(train_acc, 4): <6}   ' \n",
    "            s3 = f'test loss: {round(test_loss, 4): <6}   test acc: {round(test_acc, 4): <6}'\n",
    "            print(s1 + s2 + s3)\n",
    "    if plot_loss:\n",
    "        plt.plot(range(len(losses)), losses)\n",
    "    if tensorboard:\n",
    "        writer.flush()\n",
    "        writer.close()\n",
    "    return model\n",
    "\n",
    "def get_n_params(model):\n",
    "    params = list(model.parameters())\n",
    "    shapes = [param.detach().numpy().shape for param in params]\n",
    "    n_params = sum([np.prod(shape) for shape in shapes])\n",
    "    return n_params\n",
    "\n",
    "def eval_model(model, X_train, y_train, X_test, y_test):\n",
    "    model = model.eval().to('cpu')\n",
    "    y_pred_train = model(X_train).argmax(dim=1)\n",
    "    y_pred_test = model(X_test).argmax(dim=1)\n",
    "    print(f'train accuracy: {(y_pred_train == y_train).sum() / len(y_train)}')\n",
    "    print(f'test accuracy: {(y_pred_test == y_test).sum() / len(y_test)}')"
   ]
  },
  {
   "cell_type": "code",
   "execution_count": 28,
   "id": "3b35f23f",
   "metadata": {},
   "outputs": [],
   "source": [
    "train_data, test_data = get_mnist_data(path='~/data', as_rgb=True, download=False)"
   ]
  },
  {
   "cell_type": "code",
   "execution_count": 29,
   "id": "17ea0e67",
   "metadata": {},
   "outputs": [
    {
     "data": {
      "text/plain": [
       "(torch.Size([60000, 28, 28]),\n",
       " torch.Size([60000]),\n",
       " torch.Size([10000, 28, 28]),\n",
       " torch.Size([10000]))"
      ]
     },
     "execution_count": 29,
     "metadata": {},
     "output_type": "execute_result"
    }
   ],
   "source": [
    "train_data.data.shape, train_data.targets.shape, test_data.data.shape, test_data.targets.shape"
   ]
  },
  {
   "cell_type": "code",
   "execution_count": 30,
   "id": "7817a706",
   "metadata": {},
   "outputs": [],
   "source": [
    "X_train = torch.stack([x for x,y in train_data]).float()\n",
    "y_train = torch.tensor([y for x,y in train_data]).float()\n",
    "X_test = torch.stack([x for x,y in test_data]).float()\n",
    "y_test = torch.tensor([y for x,y in test_data]).float()"
   ]
  },
  {
   "cell_type": "markdown",
   "id": "178421b0",
   "metadata": {},
   "source": [
    "# Cuda"
   ]
  },
  {
   "cell_type": "code",
   "execution_count": 31,
   "id": "ed00cd33",
   "metadata": {},
   "outputs": [
    {
     "data": {
      "text/plain": [
       "(torch.Size([32, 3, 28, 28]), torch.Size([32]))"
      ]
     },
     "execution_count": 31,
     "metadata": {},
     "output_type": "execute_result"
    }
   ],
   "source": [
    "train_loader = torch.utils.data.DataLoader(train_data, batch_size=32, shuffle=True)\n",
    "test_loader = torch.utils.data.DataLoader(test_data, batch_size=32, shuffle=True)\n",
    "\n",
    "x, y = next(iter(train_loader))\n",
    "x.shape, y.shape"
   ]
  },
  {
   "cell_type": "code",
   "execution_count": 32,
   "id": "a2bccaad",
   "metadata": {},
   "outputs": [
    {
     "data": {
      "text/plain": [
       "(-1, -1)"
      ]
     },
     "execution_count": 32,
     "metadata": {},
     "output_type": "execute_result"
    }
   ],
   "source": [
    "x.get_device(), y.get_device() # -1 = cpu, 0 = gpu"
   ]
  },
  {
   "cell_type": "code",
   "execution_count": 33,
   "id": "5c663e16",
   "metadata": {},
   "outputs": [
    {
     "data": {
      "text/plain": [
       "(0, 0)"
      ]
     },
     "execution_count": 33,
     "metadata": {},
     "output_type": "execute_result"
    }
   ],
   "source": [
    "x = x.to(device)\n",
    "y = y.to(device)\n",
    "\n",
    "x.get_device(), y.get_device()"
   ]
  },
  {
   "cell_type": "markdown",
   "id": "c584c891",
   "metadata": {},
   "source": [
    "# Transfer Learning\n",
    "\n",
    "Idea: Large pretrained models trained on lots of data have learned how to extract visual features really well. Take that pretrained model, add a new output layer, and just finetune that new layer on your new data. In a sense, transfer learning gives you a better initialization than starting randomly.\n",
    "\n",
    "Steps: Given some labeled data and a pretrained model trained on a much bigger dataset,\n",
    "- Remove the original output layer from that model\n",
    "- Add one or more new, initialized output layers that matches your number of classes\n",
    "- Keeping the earlier layers in the pretrained model fixed, finetune just that last layer on your data\n",
    "- If desired, unfreeze the earlier pretrained layers and finetune those as well\n",
    "\n",
    "Tip: If just finetuning the last layer, pre-extract the features from the frozen pretrained network to save on computation."
   ]
  },
  {
   "cell_type": "code",
   "execution_count": 39,
   "id": "88a56709",
   "metadata": {},
   "outputs": [],
   "source": [
    "# way too slow on CPU\n",
    "# freeze all but last 3 layer groups, and replace last fc layer with new random layer\n",
    "\n",
    "model = torchvision.models.resnet18(pretrained=True)\n",
    "\n",
    "for param in model.parameters():\n",
    "    param.requires_grad = False\n",
    "    \n",
    "for layer in [model.layer3, model.layer4]:\n",
    "    for param in layer.parameters():\n",
    "        param.requires_grad = True\n",
    "\n",
    "last_layer = model.fc\n",
    "in_features = last_layer.in_features\n",
    "out_features = len(test_data.targets.unique())\n",
    "model.fc = nn.Linear(in_features, out_features)\n",
    "\n",
    "model = model.to(device)"
   ]
  },
  {
   "cell_type": "code",
   "execution_count": 40,
   "id": "5880e00e",
   "metadata": {},
   "outputs": [
    {
     "data": {
      "application/vnd.jupyter.widget-view+json": {
       "model_id": "070c39b3b9db48ae9f09197a05f97a79",
       "version_major": 2,
       "version_minor": 0
      },
      "text/plain": [
       "  0%|          | 0/15 [00:00<?, ?it/s]"
      ]
     },
     "metadata": {},
     "output_type": "display_data"
    },
    {
     "name": "stdout",
     "output_type": "stream",
     "text": [
      "epoch: 1               train loss: 0.1234   train acc: 0.9639               test loss: 0.068   test acc: 0.9816\n",
      "epoch: 2               train loss: 0.0538   train acc: 0.9838               test loss: 0.0484   test acc: 0.9846\n",
      "epoch: 3               train loss: 0.0415   train acc: 0.9873               test loss: 0.0415   test acc: 0.9885\n",
      "epoch: 4               train loss: 0.0332   train acc: 0.9903               test loss: 0.0424   test acc: 0.9881\n",
      "epoch: 5               train loss: 0.0268   train acc: 0.9921               test loss: 0.0395   test acc: 0.9888\n",
      "epoch: 6               train loss: 0.0263   train acc: 0.9921               test loss: 0.0374   test acc: 0.9887\n",
      "epoch: 7               train loss: 0.0228   train acc: 0.993               test loss: 0.0364   test acc: 0.9897\n",
      "epoch: 8               train loss: 0.0186   train acc: 0.9942               test loss: 0.0411   test acc: 0.9892\n",
      "epoch: 9               train loss: 0.0178   train acc: 0.9948               test loss: 0.0367   test acc: 0.9887\n",
      "epoch: 10               train loss: 0.0146   train acc: 0.9953               test loss: 0.0358   test acc: 0.9899\n",
      "epoch: 11               train loss: 0.0144   train acc: 0.9957               test loss: 0.0331   test acc: 0.9913\n",
      "epoch: 12               train loss: 0.0129   train acc: 0.996               test loss: 0.0348   test acc: 0.9906\n",
      "epoch: 13               train loss: 0.0109   train acc: 0.9965               test loss: 0.0401   test acc: 0.99\n",
      "epoch: 14               train loss: 0.0109   train acc: 0.9964               test loss: 0.0369   test acc: 0.991\n",
      "epoch: 15               train loss: 0.011   train acc: 0.9967               test loss: 0.0357   test acc: 0.9906\n"
     ]
    },
    {
     "data": {
      "image/png": "[encoded data removed]",
      "text/plain": [
       "<Figure size 432x288 with 1 Axes>"
      ]
     },
     "metadata": {
      "needs_background": "light"
     },
     "output_type": "display_data"
    }
   ],
   "source": [
    "loss_fn = nn.CrossEntropyLoss()\n",
    "opt = get_optimizer(model, optimizer='adam', lr=0.001, weight_decay=0.)\n",
    "model = train_model(train_data, model, opt, loss_fn, test_data=test_data, num_epochs=15, batch_size=128)"
   ]
  },
  {
   "cell_type": "code",
   "execution_count": 88,
   "id": "48aae9f6",
   "metadata": {},
   "outputs": [
    {
     "name": "stdout",
     "output_type": "stream",
     "text": [
      "train accuracy: 0.9986333250999451\n",
      "test accuracy: 0.9905999898910522\n"
     ]
    }
   ],
   "source": [
    "eval_model(model, X_train, y_train, X_test, y_test)"
   ]
  },
  {
   "cell_type": "code",
   "execution_count": 97,
   "id": "200d1a46",
   "metadata": {},
   "outputs": [],
   "source": [
    "model = model.cpu().eval()\n",
    "\n",
    "y_pred = model(X_test).argmax(dim=1)\n",
    "mismatch = (y_pred != y_test)\n",
    "X_mismatch = X_test[mismatch]\n",
    "y_mismatch = y_test[mismatch]\n",
    "y_pred_mismatch = model(X_mismatch).argmax(dim=1)"
   ]
  },
  {
   "cell_type": "code",
   "execution_count": 103,
   "id": "7bb866e3",
   "metadata": {},
   "outputs": [
    {
     "name": "stdout",
     "output_type": "stream",
     "text": [
      "label: 3 pred: 8\n"
     ]
    },
    {
     "data": {
      "image/png": "[encoded data removed]",
      "text/plain": [
       "<Figure size 432x288 with 1 Axes>"
      ]
     },
     "metadata": {
      "needs_background": "light"
     },
     "output_type": "display_data"
    },
    {
     "name": "stdout",
     "output_type": "stream",
     "text": [
      "label: 4 pred: 9\n"
     ]
    },
    {
     "data": {
      "image/png": "[encoded data removed]",
      "text/plain": [
       "<Figure size 432x288 with 1 Axes>"
      ]
     },
     "metadata": {
      "needs_background": "light"
     },
     "output_type": "display_data"
    },
    {
     "name": "stdout",
     "output_type": "stream",
     "text": [
      "label: 9 pred: 4\n"
     ]
    },
    {
     "data": {
      "image/png": "[encoded data removed]",
      "text/plain": [
       "<Figure size 432x288 with 1 Axes>"
      ]
     },
     "metadata": {
      "needs_background": "light"
     },
     "output_type": "display_data"
    }
   ],
   "source": [
    "for i in range(3):\n",
    "    print(f'label: {int(y_mismatch[i])} pred: {int(y_pred_mismatch[i])}')\n",
    "    plt.imshow(X_mismatch[i].numpy().transpose(1, 2, 0)[:, :, 0])\n",
    "    plt.show()"
   ]
  },
  {
   "cell_type": "markdown",
   "id": "6eee47ef",
   "metadata": {},
   "source": [
    "# Data Augmentation\n",
    "\n",
    "Idea: Recognizing objects in an image shouldn't depend on various transformations to the image like rotating, flipping, cropping, scaling, warping, etc. Use these transformations on your training data to artificially increase the size of your training data, and hence improve model performance.\n",
    "\n",
    "Test Time Augmentation: At test time, for a given test image, use data augmentation on it a few times, make predictions on each augmented image, and average the results together as your true prediction. Can improve test time performance. Used more often in competitions than in production.\n",
    "\n",
    "Ensembling: Train multiple models on your data, average their predictions at test time, and use that average as your prediction. Due to computational and development costs, this is mostly used in competitions, rarely in production."
   ]
  },
  {
   "cell_type": "code",
   "execution_count": 130,
   "id": "59878847",
   "metadata": {},
   "outputs": [
    {
     "data": {
      "text/plain": [
       "<matplotlib.image.AxesImage at 0x7f0a45455f30>"
      ]
     },
     "execution_count": 130,
     "metadata": {},
     "output_type": "execute_result"
    },
    {
     "data": {
      "image/png": "[encoded data removed]",
      "text/plain": [
       "<Figure size 432x288 with 1 Axes>"
      ]
     },
     "metadata": {
      "needs_background": "light"
     },
     "output_type": "display_data"
    }
   ],
   "source": [
    "out = torchvision.transforms.RandomCrop(25)(X_train[0])\n",
    "plt.imshow(out.numpy().transpose(1, 2, 0)[:, :, 0])"
   ]
  },
  {
   "cell_type": "code",
   "execution_count": 132,
   "id": "c44e3932",
   "metadata": {},
   "outputs": [
    {
     "data": {
      "text/plain": [
       "<matplotlib.image.AxesImage at 0x7f0a453a3b20>"
      ]
     },
     "execution_count": 132,
     "metadata": {},
     "output_type": "execute_result"
    },
    {
     "data": {
      "image/png": "[encoded data removed]",
      "text/plain": [
       "<Figure size 432x288 with 1 Axes>"
      ]
     },
     "metadata": {
      "needs_background": "light"
     },
     "output_type": "display_data"
    }
   ],
   "source": [
    "out = torchvision.transforms.RandomHorizontalFlip(p=0.9)(X_train[0])\n",
    "plt.imshow(out.numpy().transpose(1, 2, 0)[:, :, 0])"
   ]
  },
  {
   "cell_type": "code",
   "execution_count": 133,
   "id": "75869c9c",
   "metadata": {},
   "outputs": [
    {
     "data": {
      "text/plain": [
       "<matplotlib.image.AxesImage at 0x7f0a453a8d00>"
      ]
     },
     "execution_count": 133,
     "metadata": {},
     "output_type": "execute_result"
    },
    {
     "data": {
      "image/png": "[encoded data removed]",
      "text/plain": [
       "<Figure size 432x288 with 1 Axes>"
      ]
     },
     "metadata": {
      "needs_background": "light"
     },
     "output_type": "display_data"
    }
   ],
   "source": [
    "out = torchvision.transforms.RandomVerticalFlip(p=0.9)(X_train[0])\n",
    "plt.imshow(out.numpy().transpose(1, 2, 0)[:, :, 0])"
   ]
  },
  {
   "cell_type": "code",
   "execution_count": 138,
   "id": "dcfa2dc7",
   "metadata": {},
   "outputs": [
    {
     "data": {
      "text/plain": [
       "<matplotlib.image.AxesImage at 0x7f0a45a82b60>"
      ]
     },
     "execution_count": 138,
     "metadata": {},
     "output_type": "execute_result"
    },
    {
     "data": {
      "image/png": "[encoded data removed]",
      "text/plain": [
       "<Figure size 432x288 with 1 Axes>"
      ]
     },
     "metadata": {
      "needs_background": "light"
     },
     "output_type": "display_data"
    }
   ],
   "source": [
    "out = torchvision.transforms.RandomRotation(20)(X_train[0])\n",
    "plt.imshow(out.numpy().transpose(1, 2, 0)[:, :, 0])"
   ]
  },
  {
   "cell_type": "code",
   "execution_count": 141,
   "id": "a8590b85",
   "metadata": {},
   "outputs": [
    {
     "data": {
      "text/plain": [
       "<matplotlib.image.AxesImage at 0x7f0a453b3640>"
      ]
     },
     "execution_count": 141,
     "metadata": {},
     "output_type": "execute_result"
    },
    {
     "data": {
      "image/png": "[encoded data removed]",
      "text/plain": [
       "<Figure size 432x288 with 1 Axes>"
      ]
     },
     "metadata": {
      "needs_background": "light"
     },
     "output_type": "display_data"
    }
   ],
   "source": [
    "out = torchvision.transforms.RandomPerspective()(X_train[0])\n",
    "plt.imshow(out.numpy().transpose(1, 2, 0)[:, :, 0])"
   ]
  },
  {
   "cell_type": "code",
   "execution_count": 148,
   "id": "3f81a7e4",
   "metadata": {},
   "outputs": [
    {
     "data": {
      "text/plain": [
       "<matplotlib.image.AxesImage at 0x7f0a453058a0>"
      ]
     },
     "execution_count": 148,
     "metadata": {},
     "output_type": "execute_result"
    },
    {
     "data": {
      "image/png": "[encoded data removed]",
      "text/plain": [
       "<Figure size 432x288 with 1 Axes>"
      ]
     },
     "metadata": {
      "needs_background": "light"
     },
     "output_type": "display_data"
    }
   ],
   "source": [
    "out = torchvision.transforms.GaussianBlur(3)(X_train[0])\n",
    "plt.imshow(out.numpy().transpose(1, 2, 0)[:, :, 0])"
   ]
  },
  {
   "cell_type": "code",
   "execution_count": 151,
   "id": "7fbf1040",
   "metadata": {},
   "outputs": [
    {
     "data": {
      "text/plain": [
       "<matplotlib.image.AxesImage at 0x7f0a45337760>"
      ]
     },
     "execution_count": 151,
     "metadata": {},
     "output_type": "execute_result"
    },
    {
     "data": {
      "image/png": "[encoded data removed]",
      "text/plain": [
       "<Figure size 432x288 with 1 Axes>"
      ]
     },
     "metadata": {
      "needs_background": "light"
     },
     "output_type": "display_data"
    }
   ],
   "source": [
    "out = torchvision.transforms.CenterCrop(24)(X_train[0])\n",
    "plt.imshow(out.numpy().transpose(1, 2, 0)[:, :, 0])"
   ]
  },
  {
   "cell_type": "code",
   "execution_count": 166,
   "id": "2306da05",
   "metadata": {},
   "outputs": [
    {
     "data": {
      "text/plain": [
       "(Dataset MNIST\n",
       "     Number of datapoints: 60000\n",
       "     Root location: /home/paperspace/data\n",
       "     Split: Train\n",
       "     StandardTransform\n",
       " Transform: Compose(\n",
       "                RandomRotation(degrees=[-10.0, 10.0], interpolation=nearest, expand=False, fill=0)\n",
       "                RandomCrop(size=(26, 26), padding=None)\n",
       "                Resize(size=28, interpolation=bilinear, max_size=None, antialias=None)\n",
       "                ToTensor()\n",
       "                Lambda()\n",
       "                Normalize(mean=(0.1307,), std=(0.3081,))\n",
       "            ),\n",
       " Dataset MNIST\n",
       "     Number of datapoints: 10000\n",
       "     Root location: /home/paperspace/data\n",
       "     Split: Test\n",
       "     StandardTransform\n",
       " Transform: Compose(\n",
       "                ToTensor()\n",
       "                Lambda()\n",
       "                Normalize(mean=(0.1307,), std=(0.3081,))\n",
       "            ))"
      ]
     },
     "execution_count": 166,
     "metadata": {},
     "output_type": "execute_result"
    }
   ],
   "source": [
    "transforms = [\n",
    "    torchvision.transforms.RandomRotation(10),\n",
    "    torchvision.transforms.RandomCrop(26),\n",
    "    torchvision.transforms.Resize(28)\n",
    "]\n",
    "\n",
    "train_data, test_data = get_mnist_data(path='~/data', as_rgb=True, download=False, transforms=transforms)\n",
    "train_data, test_data"
   ]
  },
  {
   "cell_type": "code",
   "execution_count": 167,
   "id": "80a70f5d",
   "metadata": {},
   "outputs": [],
   "source": [
    "model = torchvision.models.resnet18(pretrained=True)\n",
    "\n",
    "for param in model.parameters():\n",
    "    param.requires_grad = False\n",
    "    \n",
    "for layer in [model.layer3, model.layer4]:\n",
    "    for param in layer.parameters():\n",
    "        param.requires_grad = True\n",
    "\n",
    "last_layer = model.fc\n",
    "in_features = last_layer.in_features\n",
    "out_features = len(test_data.targets.unique())\n",
    "model.fc = nn.Linear(in_features, out_features)\n",
    "\n",
    "model = model.to(device)"
   ]
  },
  {
   "cell_type": "code",
   "execution_count": 168,
   "id": "492c60f1",
   "metadata": {},
   "outputs": [
    {
     "data": {
      "application/vnd.jupyter.widget-view+json": {
       "model_id": "9ac44e31b38b4629b050e6911b834c09",
       "version_major": 2,
       "version_minor": 0
      },
      "text/plain": [
       "  0%|          | 0/15 [00:00<?, ?it/s]"
      ]
     },
     "metadata": {},
     "output_type": "display_data"
    },
    {
     "name": "stdout",
     "output_type": "stream",
     "text": [
      "epoch: 1     train loss: 0.1529   train acc: 0.9552   test loss: 0.0915   test acc: 0.9743\n",
      "epoch: 2     train loss: 0.0758   train acc: 0.9775   test loss: 0.0906   test acc: 0.9708\n",
      "epoch: 3     train loss: 0.0611   train acc: 0.981    test loss: 0.0966   test acc: 0.972 \n",
      "epoch: 4     train loss: 0.0549   train acc: 0.9836   test loss: 0.0579   test acc: 0.9824\n",
      "epoch: 5     train loss: 0.0504   train acc: 0.9847   test loss: 0.0563   test acc: 0.9819\n",
      "epoch: 6     train loss: 0.0477   train acc: 0.9859   test loss: 0.0722   test acc: 0.9764\n",
      "epoch: 7     train loss: 0.0408   train acc: 0.9878   test loss: 0.0719   test acc: 0.9804\n",
      "epoch: 8     train loss: 0.0395   train acc: 0.9878   test loss: 0.0662   test acc: 0.9804\n",
      "epoch: 9     train loss: 0.0371   train acc: 0.9887   test loss: 0.0367   test acc: 0.988 \n",
      "epoch: 10    train loss: 0.0336   train acc: 0.9898   test loss: 0.0408   test acc: 0.9872\n",
      "epoch: 11    train loss: 0.0322   train acc: 0.9901   test loss: 0.0517   test acc: 0.9838\n",
      "epoch: 12    train loss: 0.0337   train acc: 0.9894   test loss: 0.0338   test acc: 0.9891\n",
      "epoch: 13    train loss: 0.0308   train acc: 0.9906   test loss: 0.0511   test acc: 0.9844\n",
      "epoch: 14    train loss: 0.0285   train acc: 0.9908   test loss: 0.0369   test acc: 0.988 \n",
      "epoch: 15    train loss: 0.0278   train acc: 0.9911   test loss: 0.0428   test acc: 0.9864\n"
     ]
    },
    {
     "data": {
      "image/png": "[encoded data removed]",
      "text/plain": [
       "<Figure size 432x288 with 1 Axes>"
      ]
     },
     "metadata": {
      "needs_background": "light"
     },
     "output_type": "display_data"
    }
   ],
   "source": [
    "loss_fn = nn.CrossEntropyLoss()\n",
    "opt = get_optimizer(model, optimizer='adam', lr=0.001, weight_decay=0.)\n",
    "model = train_model(train_data, model, opt, loss_fn, test_data=test_data, num_epochs=15, batch_size=128)"
   ]
  },
  {
   "cell_type": "code",
   "execution_count": null,
   "id": "97e04674",
   "metadata": {},
   "outputs": [],
   "source": []
  },
  {
   "cell_type": "code",
   "execution_count": null,
   "id": "0bbb5b48",
   "metadata": {},
   "outputs": [],
   "source": []
  },
  {
   "cell_type": "code",
   "execution_count": null,
   "id": "e26e43ea",
   "metadata": {},
   "outputs": [],
   "source": []
  }
 ],
 "metadata": {
  "kernelspec": {
   "display_name": "Python 3 (ipykernel)",
   "language": "python",
   "name": "python3"
  },
  "language_info": {
   "codemirror_mode": {
    "name": "ipython",
    "version": 3
   },
   "file_extension": ".py",
   "mimetype": "text/x-python",
   "name": "python",
   "nbconvert_exporter": "python",
   "pygments_lexer": "ipython3",
   "version": "3.10.4"
  }
 },
 "nbformat": 4,
 "nbformat_minor": 5
}
