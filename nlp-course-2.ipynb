{
 "cells": [
  {
   "cell_type": "code",
   "execution_count": 1,
   "metadata": {},
   "outputs": [],
   "source": [
    "import numpy as np\n",
    "import pandas as pd\n",
    "import matplotlib.pyplot as plt\n",
    "from pathlib import Path"
   ]
  },
  {
   "cell_type": "markdown",
   "metadata": {},
   "source": [
    "# Week 1: Edit Distance\n",
    "\n",
    "Edit Distance:\n",
    "- Insert\n",
    "- Delete\n",
    "- Switch\n",
    "- Replace"
   ]
  },
  {
   "cell_type": "code",
   "execution_count": 10,
   "metadata": {},
   "outputs": [
    {
     "data": {
      "text/plain": [
       "[[0, 1, 2, 3, 4],\n",
       " [1, 2, 3, 4, 5],\n",
       " [2, 3, 4, 5, 6],\n",
       " [3, 4, 5, 4, 5],\n",
       " [4, 5, 6, 5, 4]]"
      ]
     },
     "execution_count": 10,
     "metadata": {},
     "output_type": "execute_result"
    }
   ],
   "source": [
    "def edit_distance(source, target, ins_cost=1, del_cost=1, rep_cost=2):\n",
    "    D = [[0 for _ in range(1+len(target))] for _ in range(1+len(source))]\n",
    "    for i in range(len(D)):\n",
    "        for j in range(len(D[0])):\n",
    "            if i == 0 and j == 0:\n",
    "                D[i][j] = 0\n",
    "            elif i == 0:\n",
    "                D[i][j] = D[i][j-1] + ins_cost\n",
    "            elif j == 0:\n",
    "                D[i][j] = D[i-1][j] + del_cost\n",
    "            else:\n",
    "                left_cost = D[i][j-1] + del_cost\n",
    "                up_cost = D[i-1][j] + ins_cost\n",
    "                diag_cost = D[i-1][j-1] + (0 if source[i-1] == target[j-1] else rep_cost)\n",
    "                D[i][j] = min([left_cost, up_cost, diag_cost])\n",
    "    return D#[-1][-1]\n",
    "\n",
    "source = 'play'\n",
    "target = 'stay'\n",
    "\n",
    "edit_distance(source, target)"
   ]
  },
  {
   "cell_type": "code",
   "execution_count": 16,
   "metadata": {},
   "outputs": [
    {
     "name": "stdout",
     "output_type": "stream",
     "text": [
      "[0, 1, 2, 3]\n",
      "[1, 2, 3, 4]\n",
      "[2, 3, 2, 3]\n",
      "[3, 4, 3, 2]\n"
     ]
    }
   ],
   "source": [
    "for row in edit_distance('bay', 'day'):\n",
    "    print(row)"
   ]
  },
  {
   "cell_type": "markdown",
   "metadata": {},
   "source": [
    "Autocorrect Model:\n",
    "1. Identify a misspelled word: $w$\n",
    "2. Find all strings n edit distance away: $s_1,\\cdots,s_N$\n",
    "3. Filter candidate words: $w_1,\\cdots,w_n$\n",
    "4. Calculate word probabilities: $p(w_1),\\cdots,p(w_n)$\n",
    "5. Replace with highest probability word: $\\hat w = \\text{argmax}_jp(w_j)$"
   ]
  },
  {
   "cell_type": "code",
   "execution_count": null,
   "metadata": {},
   "outputs": [],
   "source": [
    "vocab = set(...)\n",
    "freqs = dict(...)\n",
    "def autocorrect(misspelled, threshold=2):\n",
    "    if misspelled in vocab:\n",
    "        return misspelled\n",
    "    dists = {word: edit_distance(misspelled, word) for word in vocab}\n",
    "    candidates = []\n",
    "    probs = []\n",
    "    for word in vocab:\n",
    "        if dists[word] <= threshold:\n",
    "            candidates.append(word)\n",
    "            probs.append(freqs[word] / len(vocab))\n",
    "    for i in range(len(candidates)):\n",
    "        if probs[i] == max(probs):\n",
    "            return candidates[i]"
   ]
  },
  {
   "cell_type": "markdown",
   "metadata": {},
   "source": [
    "# Week 2: POS Tagging"
   ]
  },
  {
   "cell_type": "code",
   "execution_count": null,
   "metadata": {},
   "outputs": [],
   "source": []
  },
  {
   "cell_type": "code",
   "execution_count": null,
   "metadata": {},
   "outputs": [],
   "source": []
  },
  {
   "cell_type": "code",
   "execution_count": null,
   "metadata": {},
   "outputs": [],
   "source": []
  },
  {
   "cell_type": "code",
   "execution_count": null,
   "metadata": {},
   "outputs": [],
   "source": []
  },
  {
   "cell_type": "code",
   "execution_count": null,
   "metadata": {},
   "outputs": [],
   "source": []
  },
  {
   "cell_type": "code",
   "execution_count": null,
   "metadata": {},
   "outputs": [],
   "source": []
  }
 ],
 "metadata": {
  "kernelspec": {
   "display_name": "Python 3",
   "language": "python",
   "name": "python3"
  },
  "language_info": {
   "codemirror_mode": {
    "name": "ipython",
    "version": 3
   },
   "file_extension": ".py",
   "mimetype": "text/x-python",
   "name": "python",
   "nbconvert_exporter": "python",
   "pygments_lexer": "ipython3",
   "version": "3.6.2"
  }
 },
 "nbformat": 4,
 "nbformat_minor": 4
}
