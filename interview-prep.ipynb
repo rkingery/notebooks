{
 "cells": [
  {
   "cell_type": "markdown",
   "id": "28aa0f71",
   "metadata": {},
   "source": [
    "# Interview Prep: Data Structures and Algorithms"
   ]
  },
  {
   "cell_type": "code",
   "execution_count": 148,
   "id": "e0c0bfca",
   "metadata": {},
   "outputs": [],
   "source": [
    "import math\n",
    "import random\n",
    "import time\n",
    "from tqdm.notebook import tqdm\n",
    "\n",
    "import heapq\n",
    "from collections import defaultdict, Counter, deque\n",
    "from bisect import bisect_left\n",
    "\n",
    "import matplotlib.pyplot as plt\n",
    "from copy import deepcopy\n",
    "\n",
    "random.seed(123)"
   ]
  },
  {
   "cell_type": "markdown",
   "id": "824bd321",
   "metadata": {},
   "source": [
    "## Basic Data Structures"
   ]
  },
  {
   "cell_type": "markdown",
   "id": "bc7b1131",
   "metadata": {
    "heading_collapsed": true
   },
   "source": [
    "### Strings\n",
    "\n",
    "- Strings in python are *immutable*, meaning they can't be modified. Must be converted to a list first.\n",
    "- Note: Using a counter on a fixed size vocabulary runs in $O(n)$ time, but $O(1)$ space."
   ]
  },
  {
   "cell_type": "code",
   "execution_count": 156,
   "id": "6b4c735b",
   "metadata": {
    "hidden": true
   },
   "outputs": [
    {
     "data": {
      "text/plain": [
       "'cba'"
      ]
     },
     "execution_count": 156,
     "metadata": {},
     "output_type": "execute_result"
    }
   ],
   "source": [
    "# reverse a string in place\n",
    "# easy way: return string[::-1]\n",
    "def reverse_string(string):\n",
    "    string = list(string)\n",
    "    n = len(string)\n",
    "    for i in range(n // 2):\n",
    "        string[i], string[n-i-1] = string[n-i-1], string[i]\n",
    "    return ''.join(string)\n",
    "\n",
    "reverse_string('abc')"
   ]
  },
  {
   "cell_type": "code",
   "execution_count": 183,
   "id": "ab77082d",
   "metadata": {
    "hidden": true
   },
   "outputs": [
    {
     "data": {
      "text/plain": [
       "True"
      ]
     },
     "execution_count": 183,
     "metadata": {},
     "output_type": "execute_result"
    }
   ],
   "source": [
    "# determine if a string is a palindrome\n",
    "# easy way: return list(string) == list(reversed(string))\n",
    "# example: 'abccba' -> True\n",
    "def valid_palindrome(string):\n",
    "    n = len(string)\n",
    "    for i in range(n // 2):\n",
    "        if string[i] != string[n-i-1]:\n",
    "            return False\n",
    "    return True\n",
    "\n",
    "valid_palindrome('abccba')"
   ]
  },
  {
   "cell_type": "code",
   "execution_count": 164,
   "id": "f179839e",
   "metadata": {
    "hidden": true
   },
   "outputs": [
    {
     "data": {
      "text/plain": [
       "'a'"
      ]
     },
     "execution_count": 164,
     "metadata": {},
     "output_type": "execute_result"
    }
   ],
   "source": [
    "# find the most frequently occuring character in a string\n",
    "def most_freq(string):\n",
    "    from collections import Counter\n",
    "    counter = Counter(string)\n",
    "    return counter.most_common(1)[0][0]\n",
    "    \n",
    "most_freq('aaabbcc')"
   ]
  },
  {
   "cell_type": "code",
   "execution_count": 171,
   "id": "d412ce31",
   "metadata": {
    "hidden": true
   },
   "outputs": [
    {
     "data": {
      "text/plain": [
       "[['the', 'quick'], ['quick', 'brown'], ['brown', 'fox']]"
      ]
     },
     "execution_count": 171,
     "metadata": {},
     "output_type": "execute_result"
    }
   ],
   "source": [
    "# find all n-grams of a given string, given a particular n\n",
    "# example: 'the quick brown fox' n=2 -> ['the quick', 'quick brown', 'brown fox']\n",
    "def n_grams(string, n):\n",
    "    words = string.split(' ')\n",
    "    ngrams = [words[i:i+n] for i in range(len(words) - n + 1)]\n",
    "    return ngrams\n",
    "\n",
    "n_grams('the quick brown fox', 2)"
   ]
  },
  {
   "cell_type": "code",
   "execution_count": 186,
   "id": "6aed96df",
   "metadata": {
    "hidden": true
   },
   "outputs": [
    {
     "data": {
      "text/plain": [
       "True"
      ]
     },
     "execution_count": 186,
     "metadata": {},
     "output_type": "execute_result"
    }
   ],
   "source": [
    "# determine if two given strings are anagrams of each other\n",
    "# example: 'abc' and 'bac' -> True\n",
    "def valid_anagrams_sorting(string_1, string_2):\n",
    "    # O(n*log(n)) time and O(1) space\n",
    "    return sorted(string_1) == sorted(string_2)\n",
    "\n",
    "def valid_anagrams_counter(string_1, string_2):\n",
    "    # O(n) time and O(1) space\n",
    "    from collections import Counter\n",
    "    counter_1 = Counter(string_1)\n",
    "    counter_2 = Counter(string_2)\n",
    "    return counter_1 == counter_2\n",
    "\n",
    "valid_anagrams_counter('abc', 'bac')"
   ]
  },
  {
   "cell_type": "code",
   "execution_count": null,
   "id": "94c873a3",
   "metadata": {
    "hidden": true
   },
   "outputs": [],
   "source": []
  },
  {
   "cell_type": "markdown",
   "id": "df89a4b2",
   "metadata": {
    "heading_collapsed": true
   },
   "source": [
    "## Binary Search\n",
    "\n",
    "- Naively searching an array for a value in a for loop runs in $O(n)$ time. This is linear search.\n",
    "- The python `value in array` version of search runs in linear time.\n",
    "- Binary search can find the value in a *sorted* array in $O(\\log n)$ time.\n",
    "- Can use the standard library `bisect.bisect_left` function to do vanilla binary search in python.\n",
    "- Many problems can be reduced to a form of binary search.\n",
    "    - Suppose you have a sorted array and a target, and that you can map a problem to a mask condition mask(array, target). Then the problem of finding the *boundary* of the mask is equivalent to binary search.\n",
    "    - For these problems, it may be easier filling in the mask template first, and then filling in what the mask is."
   ]
  },
  {
   "cell_type": "code",
   "execution_count": 2,
   "id": "90e07066",
   "metadata": {
    "hidden": true
   },
   "outputs": [],
   "source": [
    "def linear_search(array, value):\n",
    "    for i in range(len(array)):\n",
    "        if value == array[i]:\n",
    "            return i\n",
    "    return -1\n",
    "\n",
    "def binary_search(array, value):\n",
    "    \"\"\"return idx of value in array, else -1\"\"\"\n",
    "    first, last = 0, len(array) - 1\n",
    "    idx = -1\n",
    "    while first <= last:\n",
    "        mid = (first + last) // 2\n",
    "        if value <= array[mid]:\n",
    "            idx = mid\n",
    "            last = mid - 1\n",
    "        if value > array[mid]:\n",
    "            first = mid + 1\n",
    "    return idx\n",
    "\n",
    "def binary_search_mask(mask):\n",
    "    \"\"\"returns idx of mask boundary, else -1\n",
    "    example: mask=[False, False, True, True] -> idx=2\n",
    "    this template can be used to solve many problems given a mask\"\"\"\n",
    "    first = 0\n",
    "    last = len(mask) - 1\n",
    "    idx = -1\n",
    "    while first <= last:\n",
    "        mid = (first + last) // 2\n",
    "        if mask[mid]:\n",
    "            idx = mid\n",
    "            last = mid - 1\n",
    "        else:\n",
    "            first = mid + 1\n",
    "    return idx"
   ]
  },
  {
   "cell_type": "code",
   "execution_count": 3,
   "id": "6074d848",
   "metadata": {
    "hidden": true
   },
   "outputs": [],
   "source": [
    "array = list(range(5, 100_000))\n",
    "value = 50_000"
   ]
  },
  {
   "cell_type": "code",
   "execution_count": 4,
   "id": "5dd94870",
   "metadata": {
    "hidden": true
   },
   "outputs": [
    {
     "name": "stdout",
     "output_type": "stream",
     "text": [
      "1.35 ms ± 6.51 µs per loop (mean ± std. dev. of 7 runs, 1,000 loops each)\n"
     ]
    }
   ],
   "source": [
    "%timeit linear_search(array, value)"
   ]
  },
  {
   "cell_type": "code",
   "execution_count": 5,
   "id": "b737420f",
   "metadata": {
    "hidden": true
   },
   "outputs": [
    {
     "name": "stdout",
     "output_type": "stream",
     "text": [
      "1.57 µs ± 8 ns per loop (mean ± std. dev. of 7 runs, 1,000,000 loops each)\n"
     ]
    }
   ],
   "source": [
    "%timeit binary_search(array, value)"
   ]
  },
  {
   "cell_type": "code",
   "execution_count": 6,
   "id": "fa0150b6",
   "metadata": {
    "hidden": true
   },
   "outputs": [
    {
     "name": "stdout",
     "output_type": "stream",
     "text": [
      "277 µs ± 968 ns per loop (mean ± std. dev. of 7 runs, 1,000 loops each)\n"
     ]
    }
   ],
   "source": [
    "%timeit (value in array)"
   ]
  },
  {
   "cell_type": "code",
   "execution_count": 7,
   "id": "70471a44",
   "metadata": {
    "hidden": true
   },
   "outputs": [
    {
     "name": "stdout",
     "output_type": "stream",
     "text": [
      "221 ns ± 1.3 ns per loop (mean ± std. dev. of 7 runs, 1,000,000 loops each)\n"
     ]
    }
   ],
   "source": [
    "%timeit bisect_left(array, value)"
   ]
  },
  {
   "cell_type": "markdown",
   "id": "b06c40db",
   "metadata": {
    "heading_collapsed": true
   },
   "source": [
    "## Sorting\n",
    "\n",
    "- Naive sorting algorithms generally run in worst case $O(n^2)$ time.\n",
    "- The best proven possible worst case running time for arrays of *arbitrary objects* is $O(n\\log n)$.\n",
    "- A sorting algorithm is **in-place** if the sort is done inside the same array, without copying to a new array.\n",
    "- A sorting algorithm is **stable** if it preserves the order of objects of the same sorting rank.\n",
    "- In Python:\n",
    "    - In-place sorting can be done with `array.sort`.\n",
    "    - To copy a sort to a *new* array, use `sorted(array)`. This will be slower than in-place.\n",
    "- Python's default sorting uses a variation of quick sort for mostly unsorted arrays, and insertion sort for mostly sorted arrays.\n",
    "- Probably the 3 most important sorting algorithms to know about are:\n",
    "    - **Merge sort:** Uses a divide and conquer strategy to sort. Worst case is $O(n\\log n)$ time. Memory inefficient.\n",
    "    - **Quick sort:** Uses a random pivot to split and sort recursively. Worst case is $O(n^2)$ time, but the *average* case is $O(n\\log n)$ time. More memory efficient and practical, unless array is almost sorted.\n",
    "    - **Insertion sort:** Moving from left to right in array, iteratively takes the next value and inserts it to its sorted spot in the left, sorted piece. Worst case is $O(n^2)$ time, but is $O(1)$ time for almost sorted arrays."
   ]
  },
  {
   "cell_type": "code",
   "execution_count": 8,
   "id": "5f8f6edd",
   "metadata": {
    "hidden": true
   },
   "outputs": [],
   "source": [
    "def merge_sort(array):\n",
    "    def merge(left, right):\n",
    "        i = j = 0\n",
    "        array = []\n",
    "        while i + j < len(left) + len(right):\n",
    "            if j == len(right) or (i < len(left) and left[i] < right[j]):\n",
    "                array.append(left[i])\n",
    "                i += 1\n",
    "            else:\n",
    "                array.append(right[j])\n",
    "                j += 1\n",
    "        return array\n",
    "    \n",
    "    # base case: don't sort if not needed\n",
    "    if len(array) <= 1:\n",
    "        return array\n",
    "    # recursion: split array in half recursively\n",
    "    mid = len(array) // 2\n",
    "    left = merge_sort(array[:mid])\n",
    "    right = merge_sort(array[mid:])\n",
    "    # merge sorted results back together\n",
    "    merged = merge(left, right)\n",
    "    return merged\n",
    "\n",
    "def quick_sort(array):\n",
    "    # base case: don't sort if not needed\n",
    "    if len(array) <= 1:\n",
    "        return array\n",
    "    # recursion: split into subarrays based on random pivot and recurse\n",
    "    pivot = random.choice(array)\n",
    "    left, equal, right = [], [], []\n",
    "    for value in array:\n",
    "        if value < pivot:\n",
    "            left.append(value)\n",
    "        elif value == pivot:\n",
    "            equal.append(value)\n",
    "        elif value > pivot:\n",
    "            right.append(value)\n",
    "    left = quick_sort(left)\n",
    "    right = quick_sort(right)\n",
    "    # merge sorted results back together\n",
    "    merged = left + equal + right\n",
    "    return merged\n",
    "\n",
    "def insertion_sort(array):\n",
    "    # iterate through array left to right\n",
    "    for i in range(len(array)):\n",
    "        j = i\n",
    "        # bubble array[i] down to its sorted place in array[:i+1]\n",
    "        while j > 0 and array[j] < array[j-1]:\n",
    "            # swap current and previous elements if out of order\n",
    "            array[j], array[j-1] = array[j-1], array[j]\n",
    "            j -= 1\n",
    "    return array"
   ]
  },
  {
   "cell_type": "code",
   "execution_count": 9,
   "id": "8fa0591a",
   "metadata": {
    "hidden": true
   },
   "outputs": [],
   "source": [
    "array = list(range(10_000))\n",
    "random.shuffle(array)"
   ]
  },
  {
   "cell_type": "code",
   "execution_count": 10,
   "id": "4bfc5609",
   "metadata": {
    "hidden": true
   },
   "outputs": [
    {
     "name": "stdout",
     "output_type": "stream",
     "text": [
      "777 µs ± 2.74 µs per loop (mean ± std. dev. of 7 runs, 1,000 loops each)\n"
     ]
    }
   ],
   "source": [
    "%timeit sorted(array)"
   ]
  },
  {
   "cell_type": "code",
   "execution_count": 11,
   "id": "4b61f3b6",
   "metadata": {
    "hidden": true
   },
   "outputs": [],
   "source": [
    "random.shuffle(array)"
   ]
  },
  {
   "cell_type": "code",
   "execution_count": 12,
   "id": "5cc8e7a3",
   "metadata": {
    "hidden": true
   },
   "outputs": [
    {
     "name": "stdout",
     "output_type": "stream",
     "text": [
      "24.5 µs ± 81.5 ns per loop (mean ± std. dev. of 7 runs, 10,000 loops each)\n"
     ]
    }
   ],
   "source": [
    "%timeit array.sort()"
   ]
  },
  {
   "cell_type": "code",
   "execution_count": 13,
   "id": "05499e64",
   "metadata": {
    "hidden": true
   },
   "outputs": [],
   "source": [
    "random.shuffle(array)"
   ]
  },
  {
   "cell_type": "code",
   "execution_count": 14,
   "id": "4dd04f3e",
   "metadata": {
    "hidden": true
   },
   "outputs": [
    {
     "name": "stdout",
     "output_type": "stream",
     "text": [
      "26.5 ms ± 72.4 µs per loop (mean ± std. dev. of 7 runs, 10 loops each)\n"
     ]
    }
   ],
   "source": [
    "%timeit merge_sort(array)"
   ]
  },
  {
   "cell_type": "code",
   "execution_count": 15,
   "id": "17d9e1a4",
   "metadata": {
    "hidden": true
   },
   "outputs": [],
   "source": [
    "random.shuffle(array)"
   ]
  },
  {
   "cell_type": "code",
   "execution_count": 16,
   "id": "e48bab04",
   "metadata": {
    "hidden": true
   },
   "outputs": [
    {
     "name": "stdout",
     "output_type": "stream",
     "text": [
      "11.6 ms ± 66.3 µs per loop (mean ± std. dev. of 7 runs, 100 loops each)\n"
     ]
    }
   ],
   "source": [
    "%timeit quick_sort(array)"
   ]
  },
  {
   "cell_type": "code",
   "execution_count": 17,
   "id": "5487ea73",
   "metadata": {
    "hidden": true
   },
   "outputs": [],
   "source": [
    "random.shuffle(array)"
   ]
  },
  {
   "cell_type": "code",
   "execution_count": 18,
   "id": "fa45e68a",
   "metadata": {
    "hidden": true
   },
   "outputs": [
    {
     "name": "stdout",
     "output_type": "stream",
     "text": [
      "568 µs ± 7.55 µs per loop (mean ± std. dev. of 7 runs, 1 loop each)\n"
     ]
    }
   ],
   "source": [
    "%timeit insertion_sort(array)"
   ]
  },
  {
   "cell_type": "markdown",
   "id": "41fb7e16",
   "metadata": {
    "heading_collapsed": true
   },
   "source": [
    "## Recursion\n",
    "\n",
    "- The process of a function calling itself until terminating according to some base case.\n",
    "- The programming analogue of proof by induction. You need *both* a base case and a recursive relation.\n",
    "- In memory, recursion is stored using a **stack frame**. Each element in the stack is a particular recursive call.\n",
    "- Failing to have a proper base case the recursion is guaranteed to hit will result in a **stack overflow**, where the program runs out of memory.\n",
    "- Can often visualize recursion with a tree.\n",
    "    - Example: \n",
    "    ```\n",
    "    factorial(5) - factorial(4) - factorial(3) - factorial(2) - factorial(1)\n",
    "    ```\n",
    "    - Example:\n",
    "    ```\n",
    "    fibonacci(3) - fibonacci(2) - fibonacci(1)\n",
    "                   |              - fibonacci(0)\n",
    "                   - fibonacci(1)\n",
    "    ```\n",
    "- Not always a good idea to use *in practice* in Python because of the lack of tail-call optimization, but it *is* useful for having a simpler implementation of some types of interview questions.\n",
    "- Any recursive algorithm can be unrolled into an iterative algorithm, and vice versa."
   ]
  },
  {
   "cell_type": "code",
   "execution_count": 19,
   "id": "89a13951",
   "metadata": {
    "hidden": true
   },
   "outputs": [],
   "source": [
    "def factorial(n):\n",
    "    # O(n) time without memoization\n",
    "    if n == 0 or n == 1:\n",
    "        return 1\n",
    "    else:\n",
    "        return n * factorial(n - 1)\n",
    "    \n",
    "def fibonacci(n):\n",
    "    # O(n!) time without memoization\n",
    "    if n == 0:\n",
    "        return 0\n",
    "    if n == 1:\n",
    "        return 1\n",
    "    else:\n",
    "        return fibonacci(n - 1) + fibonacci(n - 2)"
   ]
  },
  {
   "cell_type": "code",
   "execution_count": 20,
   "id": "d15f0abd",
   "metadata": {
    "hidden": true
   },
   "outputs": [
    {
     "data": {
      "text/plain": [
       "55"
      ]
     },
     "execution_count": 20,
     "metadata": {},
     "output_type": "execute_result"
    }
   ],
   "source": [
    "fibonacci(10)"
   ]
  },
  {
   "cell_type": "markdown",
   "id": "ce012a60",
   "metadata": {
    "heading_collapsed": true
   },
   "source": [
    "## Trees\n",
    "\n",
    "- A **tree** is a data structure of **nodes** connected by **edges**, where there is exactly one incoming edge from a **parent node**, and one or more outgoing edges to **child nodes**. The node with no parent is called the **root**. Nodes with no children are called the **leaves**. The number of levels in the tree is called its **depth**. Any nodes above a given node is called its **ancestors**, and any nodes below it are its **descendents**.\n",
    "<img src=https://algomonster.s3.us-east-2.amazonaws.com/tree_intro/tree_intro.001.png width=500>\n",
    "- The nodes generally are values of some kind, and the edges are pointers connecting those values.\n",
    "- A tree cannot have cycles or loops, and must have one unique root.\n",
    "- A **binary tree** is a tree in which each node has no more than 2 children. An **n-ary tree** is a tree in which each node has no more than $n$ children.\n",
    "- A binary tree is **balanced** if the height difference of the left and right subtree of any given node in the tree is never more than one.\n",
    "- In a balanced binary tree, the height of the tree is $O(\\log n)$. Otherwise it's $O(n)$.\n",
    "- In a **full** binary tree, there are $O(n)$ leaf nodes.\n",
    "- A **binary search tree** or **BST** is a binary tree satisfying the property that for any node, any left descendants are always less in value than any right descendants.\n",
    "- Searching, insertion, and deletion in a balanced BST take $O(\\log n)$ time, and $O(n)$ time if the BST is unbalanced."
   ]
  },
  {
   "cell_type": "code",
   "execution_count": 21,
   "id": "6c61aa02",
   "metadata": {
    "code_folding": [],
    "hidden": true
   },
   "outputs": [],
   "source": [
    "class BinaryTreeNode:\n",
    "    def __init__(self, value, left=None, right=None):\n",
    "        self.value = value\n",
    "        self.left = left\n",
    "        self.right = right\n",
    "        \n",
    "    def __repr__(self):\n",
    "        return f'BinaryTreeNode({self.value}, left={self.left}, right={self.right})'\n",
    "    \n",
    "    def print_tree(self, level=0):\n",
    "        indent = '   '\n",
    "        if self is not None:\n",
    "            current_level = level\n",
    "            if self.left is not None:\n",
    "                self.left.print_tree(current_level + 1)\n",
    "            print(f'{indent * current_level} {self.value}')\n",
    "            if self.right is not None:\n",
    "                self.right.print_tree(current_level + 1)\n",
    "        \n",
    "class NaryTreeNode:\n",
    "    def __init__(self, value, children=[]):\n",
    "        self.value = value\n",
    "        self.children = children\n",
    "        \n",
    "    def __repr__(self):\n",
    "        return f'NaryTreeNode({self.value}, children={[node for node in self.children]})'\n",
    "    \n",
    "    def print_tree(self, level=0):\n",
    "        indent = '   '\n",
    "        if self is not None:\n",
    "            current_level = level\n",
    "            print(f'{indent * current_level} {self.value}')\n",
    "            for child in self.children:\n",
    "                child.print_tree(current_level + 1)"
   ]
  },
  {
   "cell_type": "code",
   "execution_count": 22,
   "id": "c83aa505",
   "metadata": {
    "hidden": true
   },
   "outputs": [
    {
     "data": {
      "text/plain": [
       "BinaryTreeNode(1, left=BinaryTreeNode(2, left=BinaryTreeNode(4, left=None, right=None), right=None), right=BinaryTreeNode(3, left=None, right=None))"
      ]
     },
     "execution_count": 22,
     "metadata": {},
     "output_type": "execute_result"
    }
   ],
   "source": [
    "root = BinaryTreeNode(1, left=BinaryTreeNode(2, left=BinaryTreeNode(4)), right=BinaryTreeNode(3))\n",
    "root"
   ]
  },
  {
   "cell_type": "code",
   "execution_count": 23,
   "id": "0e0adcc0",
   "metadata": {
    "hidden": true
   },
   "outputs": [
    {
     "name": "stdout",
     "output_type": "stream",
     "text": [
      "       4\n",
      "    2\n",
      " 1\n",
      "    3\n"
     ]
    }
   ],
   "source": [
    "root.print_tree()"
   ]
  },
  {
   "cell_type": "code",
   "execution_count": 24,
   "id": "d34c648d",
   "metadata": {
    "hidden": true
   },
   "outputs": [
    {
     "data": {
      "text/plain": [
       "NaryTreeNode(1, children=[NaryTreeNode(2, children=[NaryTreeNode(4, children=[])]), NaryTreeNode(3, children=[])])"
      ]
     },
     "execution_count": 24,
     "metadata": {},
     "output_type": "execute_result"
    }
   ],
   "source": [
    "root = NaryTreeNode(1, children=[NaryTreeNode(2, children=[NaryTreeNode(4)]), NaryTreeNode(3)])\n",
    "root"
   ]
  },
  {
   "cell_type": "code",
   "execution_count": 25,
   "id": "f16c46b3",
   "metadata": {
    "hidden": true
   },
   "outputs": [
    {
     "name": "stdout",
     "output_type": "stream",
     "text": [
      " 1\n",
      "    2\n",
      "       4\n",
      "    3\n"
     ]
    }
   ],
   "source": [
    "root.print_tree()"
   ]
  },
  {
   "cell_type": "markdown",
   "id": "f874477a",
   "metadata": {
    "heading_collapsed": true,
    "hidden": true
   },
   "source": [
    "### Tree Traversals\n",
    "\n",
    "- There are 3 common ways to traverse the nodes in a binary tree: pre-order, in-order, and post-order traversal.\n",
    "- **Pre-order traversal** visits the current node first, then the left subtree, and finally the right subtree.\n",
    "- **In-order traversal** visits the left branch first, then the current node, and finally the right branch.\n",
    "- **Post-order traversal** visits the left subtree first, then the right subtree, and finally the current node.\n",
    "- Traversals can be used to search trees, as well as build them from a list of nodes.\n",
    "- Since every subtree of a given node gets traversed, all traversals run in $O(n)$ time."
   ]
  },
  {
   "cell_type": "code",
   "execution_count": 26,
   "id": "5bc2e4a4",
   "metadata": {
    "hidden": true
   },
   "outputs": [],
   "source": [
    "def tree_traversal(node, order='in-order'):\n",
    "    \"\"\"return a list of the values in a tree in traversed order\"\"\"\n",
    "    def in_order_traversal(node):\n",
    "        if node is not None:\n",
    "            in_order_traversal(node.left)\n",
    "            values.append(node.value)\n",
    "            in_order_traversal(node.right)\n",
    "    def pre_order_traversal(node):\n",
    "        if node is not None:\n",
    "            values.append(node.value)\n",
    "            pre_order_traversal(node.left)\n",
    "            pre_order_traversal(node.right)\n",
    "    def post_order_traversal(node):\n",
    "        if node is not None:\n",
    "            post_order_traversal(node.left)\n",
    "            post_order_traversal(node.right)\n",
    "            values.append(node.value)   \n",
    "    values = []\n",
    "    if order == 'in-order':\n",
    "        in_order_traversal(node)\n",
    "    elif order == 'pre-order':\n",
    "        pre_order_traversal(node)\n",
    "    elif order == 'post-order':\n",
    "        post_order_traversal(node)\n",
    "    return values"
   ]
  },
  {
   "cell_type": "code",
   "execution_count": 27,
   "id": "0899589a",
   "metadata": {
    "hidden": true
   },
   "outputs": [],
   "source": [
    "root = BinaryTreeNode(1, \n",
    "    left=BinaryTreeNode(2, left=BinaryTreeNode(4), right=BinaryTreeNode(5)), \n",
    "    right=BinaryTreeNode(3, left=BinaryTreeNode(6), right=BinaryTreeNode(7))\n",
    ")"
   ]
  },
  {
   "cell_type": "code",
   "execution_count": 28,
   "id": "4e6a3e75",
   "metadata": {
    "hidden": true
   },
   "outputs": [
    {
     "data": {
      "text/plain": [
       "[4, 2, 5, 1, 6, 3, 7]"
      ]
     },
     "execution_count": 28,
     "metadata": {},
     "output_type": "execute_result"
    }
   ],
   "source": [
    "tree_traversal(root, order='in-order')"
   ]
  },
  {
   "cell_type": "code",
   "execution_count": 29,
   "id": "d77557f4",
   "metadata": {
    "hidden": true
   },
   "outputs": [
    {
     "data": {
      "text/plain": [
       "[1, 2, 4, 5, 3, 6, 7]"
      ]
     },
     "execution_count": 29,
     "metadata": {},
     "output_type": "execute_result"
    }
   ],
   "source": [
    "tree_traversal(root, order='pre-order')"
   ]
  },
  {
   "cell_type": "code",
   "execution_count": 30,
   "id": "59c1d6bd",
   "metadata": {
    "hidden": true
   },
   "outputs": [
    {
     "data": {
      "text/plain": [
       "[4, 5, 2, 6, 7, 3, 1]"
      ]
     },
     "execution_count": 30,
     "metadata": {},
     "output_type": "execute_result"
    }
   ],
   "source": [
    "tree_traversal(root, order='post-order')"
   ]
  },
  {
   "cell_type": "markdown",
   "id": "6f406628",
   "metadata": {
    "heading_collapsed": true,
    "hidden": true
   },
   "source": [
    "### Depth First Search\n",
    "\n",
    "- **Depth first search** or **DFS** uses a *pre-order traversal* to search the tree in a depth first fashion from left to right.\n",
    "- It's usually easiest to code DFS up using left to right recursion on the subtrees of the root. This is a *divide and conquer* approach, since it recursively divides a node into its subtrees until it hits the leaves or finds the target.\n",
    "- DFS is one of the most important algorithms to know by heart for coding interviews since it comes up a lot, often disguised as **backtracking**, which is basically the same thing. Tree search comes up in these types of problems:\n",
    "    - Any tree traversal problem (finding a node, detect balanced BST, max subtree).\n",
    "    - Combinatorial problems (how many ways to, find all possible combinations, find all solutions to).\n",
    "    - Searching graphs with no cycles (path between 2 nodes, cycle detection, find connected components).\n",
    "- Keys to tree problems: \n",
    "    - Think from the perspective of a node. All you can do is look at your value and your children. Figure out how to recurse on that information.\n",
    "    - What do we want to return after visiting a node? Use the return value to pass information from children to parent.\n",
    "    - What states (i.e. function arguments) do we need to maintain to compute the return value for the current node. Use states to pass information from parent to children.\n",
    "    - There are two ways to keep track of global information in a tree: return values, and global variables. Return values are usually easier for simpler problems, and global variables for more complex problems."
   ]
  },
  {
   "cell_type": "code",
   "execution_count": 31,
   "id": "133ad4c8",
   "metadata": {
    "hidden": true
   },
   "outputs": [],
   "source": [
    "def dfs(root, target):\n",
    "    if root is None:\n",
    "        return None\n",
    "    if root.value == target:\n",
    "        return root\n",
    "    return dfs(root.left, target) or dfs(root.right, target)"
   ]
  },
  {
   "cell_type": "code",
   "execution_count": 32,
   "id": "4ff17f34",
   "metadata": {
    "hidden": true
   },
   "outputs": [],
   "source": [
    "root = BinaryTreeNode(1, \n",
    "    left=BinaryTreeNode(2, left=BinaryTreeNode(4), right=BinaryTreeNode(5)), \n",
    "    right=BinaryTreeNode(3, left=BinaryTreeNode(6), right=BinaryTreeNode(7))\n",
    ")"
   ]
  },
  {
   "cell_type": "code",
   "execution_count": 33,
   "id": "817e7de0",
   "metadata": {
    "hidden": true
   },
   "outputs": [
    {
     "name": "stdout",
     "output_type": "stream",
     "text": [
      "       4\n",
      "    2\n",
      "       5\n",
      " 1\n",
      "       6\n",
      "    3\n",
      "       7\n"
     ]
    }
   ],
   "source": [
    "root.print_tree()"
   ]
  },
  {
   "cell_type": "code",
   "execution_count": 34,
   "id": "8d906b6c",
   "metadata": {
    "hidden": true
   },
   "outputs": [
    {
     "data": {
      "text/plain": [
       "BinaryTreeNode(7, left=None, right=None)"
      ]
     },
     "execution_count": 34,
     "metadata": {},
     "output_type": "execute_result"
    }
   ],
   "source": [
    "dfs(root, 7)"
   ]
  },
  {
   "cell_type": "markdown",
   "id": "fcb42f62",
   "metadata": {
    "heading_collapsed": true,
    "hidden": true
   },
   "source": [
    "### Binary Search Trees (BSTs)\n",
    "\n",
    "- A **BST** is a binary tree with the value of each internal node being greater than all the values in the respective node's left subtree and less than the ones in its right subtree.\n",
    "- Some kind of ordering is assumed on the nodes, be it numerical or dictionary or whatever else.\n",
    "- An in-order traversal of a BST will always return values in sorted order.\n",
    "- An empty binary tree is trivially a BST.\n",
    "- Given a BST with $n$ nodes and height $h$, search can be performed in $O(h)$ time. If the tree is balanced, $h=O(\\log n)$. If not, $h=O(n)$.\n",
    "- One advantage of a BST compared to a sorted list is that inserting an item into the BST doesn't require each item in the list to move down an index, like inserting to a sorted list would do. \n",
    "- Insertion, deletion, and search in a BST is $O(h)$, usually $O(\\log n)$.\n",
    "- If insertions and deletions to a BST are frequent, a balanced BST can become unbalanced over time, resulting in degraded performance. In such cases it's helpful to **rebalance** the BST so that it again has $h=O(\\log n)$.\n",
    "- Examples of **self-balancing** BSTs are **AVL trees** and **R/B Trees**. These trees keep themselves balanced dynamically with every insert/delete operation.\n",
    "- Since most languages dynamically resize arrays now, insertions and deletions are *amortized* $O(1)$ time, making BSTs less practically useful relative to lists or dictionaries.\n",
    "- When to use a BST vs a sorted list:\n",
    "    - You're doing a lot of insertions or deletions. These are $O(\\log n)$ for a balanced BST but $O(n)$ for a sorted array (unless the arrays are dynamically resized).\n",
    "    - Maintaining sorted order while doing insertions or deletions is very important. Dictionaries aren't generally in sorted order.\n",
    "    - Finding the first value in a sorted list *greater* than some given value is easier using a BST.\n",
    "    - Finding the $k$th largest or smallest values in a list is easier with a BST.\n",
    "    - Memory usage is lower for BSTs than dictionaries. So if memory usage is very important, BSTs could be more useful."
   ]
  },
  {
   "cell_type": "code",
   "execution_count": 35,
   "id": "90163185",
   "metadata": {
    "hidden": true
   },
   "outputs": [],
   "source": [
    "def valid_bst(root):\n",
    "    \"\"\"Check if a binary tree is in proper in-order sorted order\"\"\"\n",
    "    nodes = []\n",
    "    def recurse(node):\n",
    "        if node is not None:\n",
    "            left = recurse(node.left)\n",
    "            nodes.append(node)\n",
    "            right = recurse(node.right)\n",
    "    recurse(root)\n",
    "    for i in range(1, len(nodes)):\n",
    "        if not nodes[i-1].value <= nodes[i].value:\n",
    "            return False\n",
    "    return True\n",
    "\n",
    "def bst_search(node, value):\n",
    "    \"\"\"Given a valid BST, return True if value is in BST, else False\"\"\"\n",
    "    if node is None:\n",
    "        return False\n",
    "    elif node.value == value:\n",
    "        return True\n",
    "    elif value < node.value:\n",
    "        return bst_search(node.left, value)\n",
    "    else:\n",
    "        return bst_search(node.right, value)\n",
    "    \n",
    "def bst_insert(node, value):\n",
    "    \"\"\"Given a valid BST, insert value in sorted place and return new BST\"\"\"\n",
    "    if node is None:\n",
    "        return BinaryTreeNode(value)\n",
    "    elif value <= node.value:\n",
    "        node.left = bst_insert(node.left, value)\n",
    "    elif value > node.value:\n",
    "        node.right = bst_insert(node.right, value)\n",
    "    return node"
   ]
  },
  {
   "cell_type": "markdown",
   "id": "9b6ddd9d",
   "metadata": {},
   "source": [
    "## Backtracking"
   ]
  },
  {
   "cell_type": "markdown",
   "id": "518635c5",
   "metadata": {
    "heading_collapsed": true
   },
   "source": [
    "### Combinatorial Search\n",
    "\n",
    "- Combinatorial search problems involve finding groupings and assignments of objects that satisfy certain conditions.\n",
    "- Examples include finding all permutations, finding all subsets, solving sudoku, and the 8 queens problem.\n",
    "- The **permutations** of a list are the different possible orderings of that list.\n",
    "    - Example: `abc` has permutations `abc`, `acb`, `bca`, `bac`, `cab`, `cba`. That's $3!=6$ total.\n",
    "    - For a list with $n$ elements, there are $n!$ permutations of that list.\n",
    "    - Permutations can be thought of as a tree. For example, the above example has the following tree:\n",
    "    <img src=https://algomonster.s3.us-east-2.amazonaws.com/dfs_intro/arrangement.png width=500>\n",
    "- Combinatorial problems very often are $O(2^n)$ or $O(n!)$ time, making them very slow to brute force. This is called combinatorial explosion.\n",
    "- The search space of combinatorial problems can be represented with a **state-space tree**. Each node in the tree represents a possible reachable state in the search problem. The leaf nodes are the solutions to the problem.\n",
    "- Combinatorial search problems boil down to DFS/backtracking on the state-space tree.\n",
    "- These trees can get very large, so pruning often has to be done.\n",
    "- To solve combinatorial search problems:\n",
    "    1. Identify the states.\n",
    "        - What do we need to keep track of to find the solution?\n",
    "        - How do we decide which child nodes should be visited next?\n",
    "        - How do we decide which nodes to prune?\n",
    "    2. Draw the state-space tree.\n",
    "        - Physically draw out the state space on paper. Don't skip this step!\n",
    "        - Test on a small example, all the way down to the leaf nodes.\n",
    "    3. DFS/backtrack on the state-space tree.\n",
    "        - Apply the following backtracking template to traverse the tree with DFS and solve.\n",
    "- Backtracking template:\n",
    "```python\n",
    "def search(node, state):\n",
    "    if state is a solution:\n",
    "        report(state) # e.g. add state to final result list\n",
    "        return\n",
    "    for child in children:\n",
    "        if child is a part of a potential solution: # pruning the tree\n",
    "            state.append(child) # make move\n",
    "            search(child, state)\n",
    "            state.remove(child) # backtrack\n",
    "```\n",
    "- Tip: When coding the search problem, first pretend you're working with a tree node object. Once you have code that looks good that way, change it to work with whatever the problem calls for instead."
   ]
  },
  {
   "cell_type": "code",
   "execution_count": 36,
   "id": "bff0ecd3",
   "metadata": {
    "hidden": true
   },
   "outputs": [
    {
     "data": {
      "text/plain": [
       "['abc', 'acb', 'bac', 'bca', 'cab', 'cba']"
      ]
     },
     "execution_count": 36,
     "metadata": {},
     "output_type": "execute_result"
    }
   ],
   "source": [
    "def find_permutations(letters):\n",
    "    # factorial time recursion algorithm...only works up to like 10 letters\n",
    "    permutations = []\n",
    "    def recurse(remaining=[], path=[]):\n",
    "        if len(path) == len(letters):\n",
    "            permutations.append(''.join(path))\n",
    "        else:\n",
    "            for idx in range(len(remaining)):\n",
    "                recurse(remaining=remaining[:idx]+remaining[idx+1:], path=path+[remaining[idx]])\n",
    "    recurse(remaining=list(letters))\n",
    "    return permutations\n",
    "\n",
    "find_permutations('abc')"
   ]
  },
  {
   "cell_type": "code",
   "execution_count": 37,
   "id": "4b6e98d3",
   "metadata": {
    "hidden": true
   },
   "outputs": [
    {
     "data": {
      "application/vnd.jupyter.widget-view+json": {
       "model_id": "c6e447a0aa3847179b96b51d60b08bd9",
       "version_major": 2,
       "version_minor": 0
      },
      "text/plain": [
       "  0%|          | 0/10 [00:00<?, ?it/s]"
      ]
     },
     "metadata": {},
     "output_type": "display_data"
    },
    {
     "data": {
      "text/plain": [
       "[<matplotlib.lines.Line2D at 0x118383d60>]"
      ]
     },
     "execution_count": 37,
     "metadata": {},
     "output_type": "execute_result"
    },
    {
     "data": {
      "image/png": "[encoded data removed]",
      "text/plain": [
       "<Figure size 432x288 with 1 Axes>"
      ]
     },
     "metadata": {
      "needs_background": "light"
     },
     "output_type": "display_data"
    }
   ],
   "source": [
    "# letters = ''\n",
    "# times = []\n",
    "# for i in tqdm(range(10)):\n",
    "#     letters += str(i)\n",
    "#     result = %timeit -n1 -r1 -o -q find_permutations(letters)\n",
    "#     times.append(result.average)\n",
    "# plt.plot(times)"
   ]
  },
  {
   "cell_type": "code",
   "execution_count": 72,
   "id": "fb267085",
   "metadata": {
    "hidden": true
   },
   "outputs": [
    {
     "data": {
      "text/plain": [
       "['JM', 'JN', 'JO', 'KM', 'KN', 'KO', 'LM', 'LN', 'LO']"
      ]
     },
     "execution_count": 72,
     "metadata": {},
     "output_type": "execute_result"
    }
   ],
   "source": [
    "def phone_num_letters(digits):\n",
    "    def recurse(path=[]):\n",
    "        if len(path) == len(digits):\n",
    "            combinations.append(''.join(path))\n",
    "        else:\n",
    "            digit = digits[len(path)]\n",
    "            for letter in phone_dict[digit]:\n",
    "                path.append(letter)\n",
    "                recurse(path)\n",
    "                path.pop()\n",
    "    \n",
    "    phone_dict = {'2': 'ABC', '3': 'DEF', '4': 'GHI', '5': 'JKL', '6': 'MNO', '7': 'PQRS', '8': 'TUV', '9': 'WXYZ'}\n",
    "    combinations = []\n",
    "    recurse()\n",
    "    return combinations\n",
    "\n",
    "#                    ''\n",
    "# 5:    'J'         'K'         'L'\n",
    "# 6: 'M' 'N' 'O' 'M' 'N' 'O' 'M' 'N' 'O'\n",
    "# levels = [[''], ['J', 'K', 'L'], ['M', 'N', 'O'] * 3]\n",
    "\n",
    "phone_num_letters('56')"
   ]
  },
  {
   "cell_type": "markdown",
   "id": "6ebeafb8",
   "metadata": {},
   "source": [
    "### Memoization and Pruning\n",
    "\n",
    "- Memoization is the act of saving the previous function call result in a dictionary (called a **memo**) and reading from it when we do the exact same call again.\n",
    "- Reading from the memo dictionary keeps us from having to calculate the same result again, which helps **prune** the state space tree, making it much more tractable in many cases.\n",
    "- Memoization is particularly useful for combinatorial problems that have large repeated state-space tree branches.\n",
    "- A classic example is calculating the Fibonacci numbers recursively. Without using memoization, such a problem is exponential time since $F_n \\sim \\phi^n$, but with memoization the problem becomes just $O(n)$.\n",
    "\n",
    "<img src=https://algomonster.s3.us-east-2.amazonaws.com/fib.001.png width=500>"
   ]
  },
  {
   "cell_type": "code",
   "execution_count": 90,
   "id": "2fd93348",
   "metadata": {},
   "outputs": [
    {
     "data": {
      "text/plain": [
       "8"
      ]
     },
     "execution_count": 90,
     "metadata": {},
     "output_type": "execute_result"
    }
   ],
   "source": [
    "def fibonacci(n, fibs={}):\n",
    "    if n in fibs:\n",
    "        return fibs[n]\n",
    "    elif n == 0 or n == 1:\n",
    "        fibs[n] = n\n",
    "        return fibs[n]\n",
    "    else:\n",
    "        fibs[n] = fibonacci(n-1, fibs) + fibonacci(n-2, fibs)\n",
    "        return fibs[n]\n",
    "        \n",
    "fibonacci(6)"
   ]
  },
  {
   "cell_type": "code",
   "execution_count": 134,
   "id": "5f12867e",
   "metadata": {},
   "outputs": [
    {
     "data": {
      "text/plain": [
       "[[1, 2, 3], [1, 2], [1, 3], [1], [2, 3], [2], [3], []]"
      ]
     },
     "execution_count": 134,
     "metadata": {},
     "output_type": "execute_result"
    }
   ],
   "source": [
    "# Given a set of distinct values, return all possible subsets (the power set).\n",
    "# start with empty set, grow from first digit to last depending on split\n",
    "# level L = Lth element of the array\n",
    "# splits at L: is element L in set (always binary)\n",
    "def subsets(array):\n",
    "    def recurse(path=[], i=0):\n",
    "        if i == len(array):\n",
    "            powerset.append(path)\n",
    "        else:\n",
    "            x = array[i]\n",
    "            recurse(path + [x], i=i+1)\n",
    "            recurse(path, i=i+1)\n",
    "    \n",
    "    powerset = []\n",
    "    recurse()\n",
    "    return powerset\n",
    "\n",
    "subsets([1,2,3])"
   ]
  },
  {
   "cell_type": "markdown",
   "id": "93fd06fc",
   "metadata": {
    "heading_collapsed": true
   },
   "source": [
    "## Two-Pointer Problems\n",
    "\n",
    "- The idea of solving array iteration type problems using two moving indices, called pointers. Also can be used for any other iterable data structure, e.g. strings or linked lists.\n",
    "- In most cases, solving such problems will be $O(n^2)$ to brute force, but reduce to $O(n)$ using two-pointer methods.\n",
    "- General characteristics of two-pointer problems:\n",
    "    - Two moving pointers, regardless of directions, moving dependently or independently.\n",
    "    - A function that utilizes the entries referenced by the two pointers, which relates to the answer in a way.\n",
    "    - An easy way of deciding which pointer to move.\n",
    "    - A way to process the array when the pointers are moved.\n",
    "- Two-pointer problems can often be classified into the following types:\n",
    "    - Same direction: The two pointers move in the same direction across the array.\n",
    "    - Opposite direction: The two pointers move in opposite directions across the array.\n",
    "    - Sliding windows: A sliding window (usually of fixed size) is moved across the array. Some operation is performed on the entire sliding window as it moves across."
   ]
  },
  {
   "cell_type": "code",
   "execution_count": 38,
   "id": "ee3c0995",
   "metadata": {
    "hidden": true
   },
   "outputs": [
    {
     "data": {
      "text/plain": [
       "[1, 2, 3, 4, 5, 6]"
      ]
     },
     "execution_count": 38,
     "metadata": {},
     "output_type": "execute_result"
    }
   ],
   "source": [
    "# Remove duplicates from sorted list and return the new length *in-place*\n",
    "# O(n) time and O(1) space\n",
    "def remove_duplicates(array):\n",
    "    start = 0\n",
    "    for end in range(len(array)):\n",
    "        if array[start] != array[end]:\n",
    "            start += 1\n",
    "            array[start] = array[end]\n",
    "    length = start + 1\n",
    "    return array[:length]\n",
    "\n",
    "array = [1, 2, 2, 3, 4, 5, 5, 6]\n",
    "remove_duplicates(array)"
   ]
  },
  {
   "cell_type": "markdown",
   "id": "9ba8a7b0",
   "metadata": {
    "hidden": true
   },
   "source": [
    "**Linked List**\n",
    "\n",
    "- A simple data structure of nodes connected in linear succession to each other:\n",
    "$$\\text{Node(value}=v_1) \\rightarrow \\text{Node(value}=v_2) \\rightarrow \\cdots \\rightarrow \\text{Node(value}=v_n).$$\n",
    "- Each node has a value and a pointer to the next node in the list.\n",
    "- There's no way to index into a linked list, nor return its length without traversing the list.\n",
    "- Other variants of linked lists add more functionality:\n",
    "    - A doubly linked list allows pointers in both directions, allowing traversal from either end.\n",
    "    - A circular linked list wraps back onto itself, with the last node pointing to the first node."
   ]
  },
  {
   "cell_type": "code",
   "execution_count": 39,
   "id": "2b7a5722",
   "metadata": {
    "hidden": true
   },
   "outputs": [
    {
     "data": {
      "text/plain": [
       "Node(1, Node(2, Node(3, Node(4, Node(5, None)))))"
      ]
     },
     "execution_count": 39,
     "metadata": {},
     "output_type": "execute_result"
    }
   ],
   "source": [
    "class Node:\n",
    "    def __init__(self, value, next=None):\n",
    "        self.value = value\n",
    "        self.next = next\n",
    "        \n",
    "    def __str__(self):\n",
    "        return f'Node({self.value}, {str(self.next)})'\n",
    "    \n",
    "    __repr__ = __str__\n",
    "\n",
    "head = Node(value=1, next=Node(value=2, next=Node(value=3, next=Node(value=4, next=Node(value=5)))))\n",
    "head"
   ]
  },
  {
   "cell_type": "code",
   "execution_count": 40,
   "id": "0f27df4c",
   "metadata": {
    "hidden": true
   },
   "outputs": [
    {
     "data": {
      "text/plain": [
       "Node(3, Node(4, Node(5, None)))"
      ]
     },
     "execution_count": 40,
     "metadata": {},
     "output_type": "execute_result"
    }
   ],
   "source": [
    "def middle_of_linked_list(head):\n",
    "    # find and return the middle node to a linked list\n",
    "    slow = fast = head\n",
    "    # traverse fast pointer by skipping steps, slow one at a time -> slow gives midpoint\n",
    "    while fast and fast.next:\n",
    "        fast = fast.next.next\n",
    "        slow = slow.next\n",
    "    return slow\n",
    "\n",
    "middle_of_linked_list(head)"
   ]
  },
  {
   "cell_type": "code",
   "execution_count": 41,
   "id": "3b94b82e",
   "metadata": {
    "hidden": true
   },
   "outputs": [
    {
     "data": {
      "text/plain": [
       "[1, 5, 4, 7, 0, 0, 0]"
      ]
     },
     "execution_count": 41,
     "metadata": {},
     "output_type": "execute_result"
    }
   ],
   "source": [
    "# Given array of ints, move all 0s to end of array while maintaining the relative order of other elements. \n",
    "# Do this in-place using constant auxiliary space.\n",
    "def move_zeros(array):\n",
    "    slow = 0\n",
    "    for fast in range(len(array)):\n",
    "        # swap slow and fast elements if fast is nonzero\n",
    "        if array[fast] != 0:\n",
    "            array[slow], array[fast] = array[fast], array[slow]\n",
    "            slow += 1\n",
    "    return array\n",
    "\n",
    "array = [0, 1, 5, 4, 0, 0, 7]\n",
    "\n",
    "# -0 +1 5 4 0 0 7\n",
    "# 1 -0 +5 4 0 0 7\n",
    "# 1 5 -0 +4 0 0 7\n",
    "# 1 5 4 -0 0 0 +7\n",
    "# 1 5 4 7 -0 0 +0\n",
    "\n",
    "move_zeros(array)"
   ]
  },
  {
   "cell_type": "code",
   "execution_count": 42,
   "id": "892bbf19",
   "metadata": {
    "hidden": true
   },
   "outputs": [
    {
     "data": {
      "text/plain": [
       "((5, 4), (4, 5))"
      ]
     },
     "execution_count": 42,
     "metadata": {},
     "output_type": "execute_result"
    }
   ],
   "source": [
    "# two-sum: return a pair of elements in an array that add up to a given target\n",
    "# O(n) time, O(n) space\n",
    "def two_sum(array, target):\n",
    "    nums = set(array)\n",
    "    pair = ()\n",
    "    for x in array:\n",
    "        if target - x in nums:\n",
    "            pair = (x, target - x)\n",
    "    return pair\n",
    "\n",
    "# two-sum: return a pair of elements in a *sorted* array that add up to a given target\n",
    "# two-pointer approach: slide pointers along and compute array[slow] + array[fast] == target\n",
    "def two_sum_sorted(array, target):\n",
    "    left, right = 0, len(array) - 1\n",
    "    while left < right:\n",
    "        two_sum = array[left] + array[right]\n",
    "        if two_sum == target:\n",
    "            pair = (array[left], array[right])\n",
    "            break # important or loop won't terminate!\n",
    "        elif two_sum < target:\n",
    "            left += 1\n",
    "        elif two_sum > target:\n",
    "            right -= 1\n",
    "    return pair\n",
    "\n",
    "# -1 2 3 4 +5, 6<9\n",
    "# 1 -2 3 4 +5, 7<9\n",
    "# 1 2 -3 4 +5, 8<9\n",
    "# 1 2 3 -4 +5, 9=9\n",
    "\n",
    "two_sum([1, 2, 3, 4, 5], 9), two_sum_sorted([1, 2, 3, 4, 5], 9)"
   ]
  },
  {
   "cell_type": "code",
   "execution_count": 43,
   "id": "572397d2",
   "metadata": {
    "hidden": true
   },
   "outputs": [
    {
     "data": {
      "text/plain": [
       "(True, False)"
      ]
     },
     "execution_count": 43,
     "metadata": {},
     "output_type": "execute_result"
    }
   ],
   "source": [
    "# Determine whether a string is a palindrome, *ignoring non-alphanumeric characters and case*\n",
    "# Input: Do geese see God? - Output: True\n",
    "# Input: Was it a car or a cat I saw? - Output: True\n",
    "# Input: A brown fox jumping over - Output: False\n",
    "def valid_palindrome_alphanum(string):\n",
    "    left, right = 0, len(string) - 1\n",
    "    while left < right:\n",
    "        # ignore non-alphanum chars, requiring left/right stay in bounds\n",
    "        while left < right and not string[left].isalnum():\n",
    "            left += 1\n",
    "        while left < right and not string[right].isalnum():\n",
    "            right -= 1\n",
    "        # check if left = right in lower case, must be true for palindrome\n",
    "        if string[left].lower() != string[right].lower():\n",
    "            return False\n",
    "        left += 1\n",
    "        right -= 1\n",
    "    return True\n",
    "\n",
    "valid_palindrome_alphanum('Was it a car or a cat I saw?'), valid_palindrome_alphanum('A brown fox jumping over')"
   ]
  },
  {
   "cell_type": "code",
   "execution_count": 44,
   "id": "dc999d43",
   "metadata": {
    "hidden": true
   },
   "outputs": [
    {
     "data": {
      "text/plain": [
       "[1, 4]"
      ]
     },
     "execution_count": 44,
     "metadata": {},
     "output_type": "execute_result"
    }
   ],
   "source": [
    "# Given array of ints and an int target, find subarray that sums to target and return its start/end indices\n",
    "# Input: array: 1 -20 -3 30 5 4 target: 7\n",
    "# Output: 1 4\n",
    "def subarray_sum_naive(array, target):\n",
    "    # time O(n^3), space O(1)\n",
    "    for i in range(len(array)):\n",
    "        for j in range(i, len(array)):\n",
    "            value = sum(array[i:j])\n",
    "            if value == target:\n",
    "                return (i, j)\n",
    "\n",
    "def subarray_sum_improved(array, target):\n",
    "    # time O(n^2), space O(1)\n",
    "    # add array[right] when right += 1, sub array[left] when left += 1\n",
    "    summed = 0\n",
    "    for left in range(len(array)):\n",
    "        summed = 0\n",
    "        for right in range(left, len(array)):\n",
    "            summed = summed + array[right]\n",
    "            if summed == target:\n",
    "                return (left, right + 1)\n",
    "            \n",
    "def subarray_sum(array, target):\n",
    "    # observation: sum(array[i:j]) = sum(array[:j]) - sum(array[:i-1]) = current - complement\n",
    "    # go through array and calculate all cumsums, compare diffs to target\n",
    "    # just a two-sum (like) problem on the cumsum array\n",
    "    cumsums = {0: 0}\n",
    "    current = 0\n",
    "    for i in range(len(array)):\n",
    "        current += array[i]\n",
    "        complement = current - target\n",
    "        if complement in cumsums:\n",
    "            j = cumsums[complement]\n",
    "            return (i + 1, j)\n",
    "        cumsums[current] = i + 1\n",
    "            \n",
    "subarray_sum([1, -20, -3, 30, 5, 4], 7)"
   ]
  },
  {
   "cell_type": "code",
   "execution_count": 45,
   "id": "8ad46ed8",
   "metadata": {
    "hidden": true
   },
   "outputs": [
    {
     "data": {
      "text/plain": [
       "True"
      ]
     },
     "execution_count": 45,
     "metadata": {},
     "output_type": "execute_result"
    }
   ],
   "source": [
    "def linked_list_cycle_set(head):\n",
    "    # O(n) time, O(n) space\n",
    "    node = head\n",
    "    visited = set([node])\n",
    "    while node is not None:\n",
    "        node = node.next\n",
    "        if node not in visited:\n",
    "            visited.add(node)\n",
    "        else:\n",
    "            return True\n",
    "    return False\n",
    "\n",
    "def linked_list_cycle(head):\n",
    "    # O(n^2) time, O(1) space\n",
    "    slow = head\n",
    "    slow_idx = 0\n",
    "    fast = head\n",
    "    fast_idx = 0\n",
    "    while fast is not None:\n",
    "        while slow_idx < fast_idx:\n",
    "            if slow == fast:\n",
    "                return True\n",
    "            slow = slow.next\n",
    "            slow_idx += 1\n",
    "        slow = head\n",
    "        slow_idx = 0\n",
    "        fast = fast.next\n",
    "        fast_idx += 1\n",
    "    return False\n",
    "\n",
    "node1 = Node(value=1)\n",
    "node2 = Node(value=2)\n",
    "node3 = Node(value=3)\n",
    "node4 = Node(value=4)\n",
    "node5 = Node(value=5)\n",
    "node1.next = node2\n",
    "node2.next = node3\n",
    "node3.next = node4\n",
    "node4.next = node5\n",
    "node5.next = node3\n",
    "\n",
    "# list = 1 2 3 4 5 3 4 5 3 4 5 ...\n",
    "head = node1\n",
    "linked_list_cycle(head)"
   ]
  },
  {
   "cell_type": "markdown",
   "id": "22055f90",
   "metadata": {
    "heading_collapsed": true
   },
   "source": [
    "## Breadth-First Search (BFS)\n",
    "\n",
    "- BFS is a way of searching for a node in a tree by traversing the tree with a **level-order traversal**. That is, the search moves left to right across each level, and then moves down to the next level doing the same thing until it hits the leaves.\n",
    "- While DFS uses recursion (or a stack) to keep track of progress, BFS uses a **queue**. When we dequeue a node, we enqueue its children.\n",
    "- A **queue** is a first-in, first-out type of list. Essentially like a stack, but we always pop from the *left* instead of the *end* of the list. Placing items in the queue is called **enqueueing**, and removing items from the queue is called **dequeueing**.\n",
    "- To get a queue in python, we can use the standard library `deque` object, which lets us pop in both directions.\n",
    "- When to use DFS vs BFS:\n",
    "    - DFS: When needing to find nodes far from the root\n",
    "    - BFS: When needing to find nodes close to the root"
   ]
  },
  {
   "cell_type": "code",
   "execution_count": 46,
   "id": "d97363c5",
   "metadata": {
    "hidden": true
   },
   "outputs": [],
   "source": [
    "def bfs(root, target):\n",
    "    # create queue containing root\n",
    "    from collections import deque\n",
    "    visited = deque([root])\n",
    "    # while the queue still has nodes\n",
    "    while len(visited) > 0:\n",
    "        # pop off the left (least recently visited) node\n",
    "        node = visited.popleft()\n",
    "        # check if equal to target\n",
    "        if node.value == target:\n",
    "            return True\n",
    "        # append child subtrees to the queue (from the right)\n",
    "        for child in node.children:\n",
    "            visited.append(child)\n",
    "    # return False if no match found\n",
    "    return False"
   ]
  },
  {
   "cell_type": "code",
   "execution_count": 47,
   "id": "e52042aa",
   "metadata": {
    "hidden": true
   },
   "outputs": [
    {
     "data": {
      "text/plain": [
       "NaryTreeNode(1, children=[NaryTreeNode(2, children=[NaryTreeNode(4, children=[])]), NaryTreeNode(3, children=[])])"
      ]
     },
     "execution_count": 47,
     "metadata": {},
     "output_type": "execute_result"
    }
   ],
   "source": [
    "root = NaryTreeNode(1, children=[NaryTreeNode(2, children=[NaryTreeNode(4)]), NaryTreeNode(3)])\n",
    "root"
   ]
  },
  {
   "cell_type": "code",
   "execution_count": 49,
   "id": "644a1a4f",
   "metadata": {
    "hidden": true
   },
   "outputs": [
    {
     "data": {
      "text/plain": [
       "(True, False)"
      ]
     },
     "execution_count": 49,
     "metadata": {},
     "output_type": "execute_result"
    }
   ],
   "source": [
    "bfs(root, 4), bfs(root, 5)"
   ]
  },
  {
   "cell_type": "code",
   "execution_count": 68,
   "id": "b06fea3d",
   "metadata": {
    "hidden": true
   },
   "outputs": [
    {
     "data": {
      "text/plain": [
       "[[1], [2, 3], [4]]"
      ]
     },
     "execution_count": 68,
     "metadata": {},
     "output_type": "execute_result"
    }
   ],
   "source": [
    "def level_order_traversal(root):\n",
    "    from collections import deque\n",
    "    queue = deque([root])\n",
    "    levels = []\n",
    "    while len(queue) > 0:\n",
    "        level = []\n",
    "        for i in range(len(queue)):\n",
    "            node = queue.popleft()\n",
    "            if node is not None:\n",
    "                level.append(node.value)\n",
    "                if node.left is not None:\n",
    "                    queue.append(node.left)\n",
    "                if node.right is not None:\n",
    "                    queue.append(node.right)\n",
    "        levels.append(level)\n",
    "    return levels\n",
    "\n",
    "root = BinaryTreeNode(1, left=BinaryTreeNode(2, left=BinaryTreeNode(4)), right=BinaryTreeNode(3))\n",
    "level_order_traversal(root)"
   ]
  },
  {
   "cell_type": "code",
   "execution_count": 74,
   "id": "3834b84e",
   "metadata": {
    "hidden": true
   },
   "outputs": [
    {
     "data": {
      "text/plain": [
       "[1, 3, None]"
      ]
     },
     "execution_count": 74,
     "metadata": {},
     "output_type": "execute_result"
    }
   ],
   "source": [
    "# Given a binary tree, return the rightmost node of each level.\n",
    "def right_side_view(root):\n",
    "    from collections import deque\n",
    "    queue = deque([root])\n",
    "    values = []\n",
    "    depth = 0\n",
    "    while len(queue) > 0:\n",
    "        level = []\n",
    "        for i in range(len(queue)):\n",
    "            node = queue.popleft()\n",
    "            if node is not None:\n",
    "                level.append(node.value)\n",
    "                if node.left is not None:\n",
    "                    queue.append(node.left)\n",
    "                if node.right is not None:\n",
    "                    queue.append(node.right)\n",
    "        if len(level) < 2 ** depth:\n",
    "            level = level + [None] * (2 ** depth - len(level))\n",
    "        values.append(level[-1])\n",
    "        depth += 1\n",
    "    return values\n",
    "\n",
    "root = BinaryTreeNode(1, left=BinaryTreeNode(2, left=BinaryTreeNode(4)), right=BinaryTreeNode(3))\n",
    "right_side_view(root)"
   ]
  },
  {
   "cell_type": "code",
   "execution_count": 88,
   "id": "7bcff4ef",
   "metadata": {
    "hidden": true
   },
   "outputs": [
    {
     "name": "stdout",
     "output_type": "stream",
     "text": [
      " 1\n"
     ]
    },
    {
     "data": {
      "text/plain": [
       "0"
      ]
     },
     "execution_count": 88,
     "metadata": {},
     "output_type": "execute_result"
    }
   ],
   "source": [
    "# Given a binary tree, find the depth of the shallowest leaf node\n",
    "# level order traverse tree until a node has no children, return that depth\n",
    "def min_depth(root):\n",
    "    # O(n) time and space\n",
    "    from collections import deque\n",
    "    visited = deque([root])\n",
    "    depth = 0\n",
    "    if root.left is None and root.right is None:\n",
    "        return depth\n",
    "    while len(visited) > 0:\n",
    "        for i in range(len(visited)):\n",
    "            node = visited.popleft()\n",
    "            if node is not None:\n",
    "                if node.left is None and node.right is None:\n",
    "                    return depth - 1\n",
    "                elif node.left is not None:\n",
    "                    visited.append(node.left)\n",
    "                elif node.right is not None:\n",
    "                    visited.append(node.right)\n",
    "        depth += 1\n",
    "\n",
    "root = BinaryTreeNode(1)#, left=BinaryTreeNode(2, left=BinaryTreeNode(4)), right=BinaryTreeNode(3))\n",
    "root.print_tree()\n",
    "min_depth(root)"
   ]
  },
  {
   "cell_type": "markdown",
   "id": "e17efdc0",
   "metadata": {
    "heading_collapsed": true
   },
   "source": [
    "## Heaps and Priority Queues\n",
    "\n",
    "- A **priority queue** is a data structure that contains the following methods:\n",
    "    - `insert`: insert an item into the queue with a key\n",
    "    - `delete_min` or `delete_max`: remove the item with the smallest/largest key and return\n",
    "- A **heap** is a tree-based implementation of a priority queue.\n",
    "    - A **min heap** implements the priority queue with the `delete_min` method.\n",
    "    - A **max heap** implements the priority queue with the `delete_max` method.\n",
    "- A heap satisfies the following two properties:\n",
    "    - **Completeness:** Every level is filled except possibly the last, with the filled items in the last level left-justified.\n",
    "    - **Heap Property:** Any parent node's value must be less/greater than the values of its children (depending whether it's a min/max heap).\n",
    "- The root node of a heap is always the min/max key, meaning we can always access the min/max in $O(1)$ time.\n",
    "- A heap tree is always balanced, hence its height will always be $O(\\log n)$.\n",
    "- Insertion and deletion into/from a heap take $O(\\log n)$ time.\n",
    "- Since heaps are completely filled, they can be efficiently implemented using arrays with spaced indexing. For any node located at array index `i`,\n",
    "    - its parent is located at index `(i-1) // 2`,\n",
    "    - its left child is at index `2*i + 1`,\n",
    "    - its right child is at index `2*i + 2`.    \n",
    "<img src=https://algomonster.s3.us-east-2.amazonaws.com/heap_intro/heap_intro_5.png width=600>\n",
    "\n",
    "- In python, *min* heaps can be accessed using the `heapq` module.\n",
    "    - `heapq.heapify(heap)`: convert a list `heap` into a heap *in-place*.\n",
    "    - `heapq.heappop(heap)`: delete and retrieve the min item.\n",
    "    - `heapq.heappush(heap, item)`: insert `item` onto the heap *in-place*.\n",
    "    - `heapq.nsmallest(n, heap)`: get the `n` smallest values in the heap.\n",
    "    - `heapq.nlargest(n, heap)`: get the `n` largest values in the heap.\n",
    "    - To get a *max* heap, one trick is to just multiple the keys by -1, then undo when popping them off."
   ]
  },
  {
   "cell_type": "code",
   "execution_count": 203,
   "id": "d6e09ce1",
   "metadata": {
    "hidden": true
   },
   "outputs": [
    {
     "data": {
      "text/plain": [
       "[1, 3, 7, 9, 5, 8]"
      ]
     },
     "execution_count": 203,
     "metadata": {},
     "output_type": "execute_result"
    }
   ],
   "source": [
    "heap = [1, 5, 7, 9, 3, 8]\n",
    "heapq.heapify(heap)\n",
    "heap"
   ]
  },
  {
   "cell_type": "code",
   "execution_count": 204,
   "id": "64d4d947",
   "metadata": {
    "hidden": true
   },
   "outputs": [
    {
     "data": {
      "text/plain": [
       "(1, None, [3, 5, 7, 9, 8, 10])"
      ]
     },
     "execution_count": 204,
     "metadata": {},
     "output_type": "execute_result"
    }
   ],
   "source": [
    "heapq.heappop(heap), heapq.heappush(heap, 10), heap"
   ]
  },
  {
   "cell_type": "code",
   "execution_count": 209,
   "id": "10bc4f23",
   "metadata": {
    "hidden": true
   },
   "outputs": [
    {
     "data": {
      "text/plain": [
       "([10, 9, 8], [3, 5, 7])"
      ]
     },
     "execution_count": 209,
     "metadata": {},
     "output_type": "execute_result"
    }
   ],
   "source": [
    "heapq.nlargest(3, heap), heapq.nsmallest(3, heap)"
   ]
  },
  {
   "cell_type": "code",
   "execution_count": 218,
   "id": "1f273849",
   "metadata": {
    "hidden": true
   },
   "outputs": [
    {
     "data": {
      "text/plain": [
       "[(1, 1)]"
      ]
     },
     "execution_count": 218,
     "metadata": {},
     "output_type": "execute_result"
    }
   ],
   "source": [
    "# Given a list of 2D coords, find the k closest points to origin (0,0)\n",
    "# Example: [(1, 1), (2, 2), (3, 3)], k=1 -> [(1, 1)]\n",
    "def k_smallest_points_sort(points, k):\n",
    "    # O(n*logn) time, O(1) space\n",
    "    points.sort(key=lambda x: x[0]**2 + x[1]**2)\n",
    "    return points[:k]\n",
    "\n",
    "def k_smallest_points(points, k):\n",
    "    # O(n) time and space\n",
    "    import heapq\n",
    "    heap = [(x[0]**2 + x[1]**2, x) for x in points] # O(n)\n",
    "    heapq.heapify(heap) # O(n)\n",
    "    smallest = heapq.nsmallest(k, heap) # O(k*logn)\n",
    "    return [pair[1] for pair in smallest] # O(n)\n",
    "    \n",
    "\n",
    "k_smallest_points([(1, 1), (2, 2), (3, 3)], 1)"
   ]
  },
  {
   "cell_type": "code",
   "execution_count": 223,
   "id": "7b389205",
   "metadata": {
    "hidden": true
   },
   "outputs": [
    {
     "data": {
      "text/plain": [
       "4"
      ]
     },
     "execution_count": 223,
     "metadata": {},
     "output_type": "execute_result"
    }
   ],
   "source": [
    "# Find the kth largest element in an unsorted array.\n",
    "def kth_largest_element(array, k):\n",
    "    import heapq\n",
    "    array = [-x for x in array]\n",
    "    heapq.heapify(array)\n",
    "    kth = -heapq.nsmallest(k, array)[k-1]\n",
    "    return kth\n",
    "\n",
    "kth_largest_element([5, 3, 1, 4, 2], 2)"
   ]
  },
  {
   "cell_type": "markdown",
   "id": "ec7c01ac",
   "metadata": {
    "heading_collapsed": true
   },
   "source": [
    "## Graphs\n",
    "\n",
    "- A **graph** consists of **vertices** or **nodes** connected by **edges**. \n",
    "- Two vertices connected by an edge are called **neighbors** and are **adjacent**.\n",
    "- Edges in a graph can be **directed** or **undirected**. When edges are directed, we can move from the start node to the end node, but not back to the start node. With undirected edges we can move back and forth.\n",
    "- A **path** between any two nodes is the sequence of nodes connecting them, provided they exist. A **cycle** is a path that starts and ends at the same node.\n",
    "- A graph in which all nodes are connected via some path is called **connected**, otherwise it's **disconnected**.\n",
    "- A graph is called a **directed acyclic graph** or **DAG** if it's directed and contains no cycles. \n",
    "- A **tree** is a connected DAG with a unique node called a **root** node.\n",
    "- A graph is most commonly stored as a dictionary of **adjacency lists**, where each node in the graph is a key with values being its array of neighboring nodes.\n",
    "<img src=https://algomonster.s3.us-east-2.amazonaws.com/graph_intro/representation.png width=500>\n",
    "- As long as we can build a function to get the neighbors for each node, we don't need to build the full graph, but can just build based on the nodes we need as we go.\n",
    "- By and large, most interview graph problems are about connected and undirected graphs. Thus, as long as a graph doesn't contain a cycle, we can apply tree algorithms to search for nodes or paths connecting nodes.\n",
    "- We can check for cycles in a graph by keeping a `visited` set that contains all the nodes seen so far. If a node is seen twice, that means there's a cycle.\n",
    "- For a graph with $V$ nodes and $E$ edges, BFS and DFS run in $O(V+E)$ time. Usually $E=O(V)$ for a sparse graph and $E=O(V^2)$ for a dense graph.\n",
    "- BFS vs DFS on graphs:\n",
    "    - Use BFS to find the shortest distance between nodes, or when working with a graph of unknown size (e.g. word ladder, knights shortest path)\n",
    "    - Use DFS for wide graphs (lots of neighbors) or for finding nodes far from the root node (e.g. exiting a maze)\n",
    "- The **topological sort** of a directed graph is an ordering of nodes such that every node appears in the ordering before all of its successor nodes. \n",
    "    - Topological sort is not unique since each node can have multiple predecessors which can be arbitrarily ordered.\n",
    "    - Topological sort is undefined for graphs with cycles since predecessor-ancestor orders don't make sense.\n",
    "- A graph whose *edges* carry a numerical value is called **weighted graph**.\n",
    "    - Weighted graph problems are not commonly asked in interviews.\n",
    "- To find the **shortest path** between two nodes in a graph:\n",
    "    - Unweighted graph: Use BFS.\n",
    "    - Weighted graph with positive weights: Use Dijkstra's Algorithm."
   ]
  },
  {
   "cell_type": "code",
   "execution_count": 239,
   "id": "7f8001b1",
   "metadata": {
    "hidden": true
   },
   "outputs": [
    {
     "name": "stdout",
     "output_type": "stream",
     "text": [
      "a\n",
      "b\n",
      "c\n",
      "d\n",
      "\n",
      "a\n",
      "b\n",
      "d\n",
      "c\n"
     ]
    }
   ],
   "source": [
    "def bfs(root):\n",
    "    from collections import deque\n",
    "    queue = deque([root])\n",
    "    visited = {root}\n",
    "    # levels = 0\n",
    "    while len(queue) > 0:\n",
    "        for i in range(len(queue)):\n",
    "            node = queue.popleft()\n",
    "            print(node)\n",
    "            for neighbor in graph[node]:\n",
    "                if neighbor not in visited:\n",
    "                    queue.append(neighbor)\n",
    "                    visited.add(neighbor)\n",
    "        # levels += 1\n",
    "\n",
    "def dfs(root):\n",
    "    def recurse(node):\n",
    "        if node not in visited:\n",
    "            print(node)\n",
    "            visited.add(node)\n",
    "            for neighbor in graph[node]:\n",
    "                recurse(neighbor)\n",
    "    visited = set()\n",
    "    recurse(root)\n",
    "\n",
    "graph = {'a': ['b', 'c'], 'b': ['a', 'd', 'c'], 'c': ['a', 'd', 'b'], 'd': ['b', 'c']}\n",
    "\n",
    "#   - b - \n",
    "# a   |   d\n",
    "#   - c - \n",
    "\n",
    "bfs('a')\n",
    "print()\n",
    "dfs('a')"
   ]
  },
  {
   "cell_type": "code",
   "execution_count": 257,
   "id": "73bd4329",
   "metadata": {
    "hidden": true
   },
   "outputs": [
    {
     "data": {
      "text/plain": [
       "2"
      ]
     },
     "execution_count": 257,
     "metadata": {},
     "output_type": "execute_result"
    }
   ],
   "source": [
    "# Given an (unweighted) graph, find length of shortest path (# edges) between two nodes a, b\n",
    "# BFS is best for this since it moves level by level\n",
    "def shortest_path(graph, a, b):\n",
    "    from collections import deque\n",
    "    queue = deque([a])\n",
    "    visited = set([a])\n",
    "    level = 0\n",
    "    while len(queue) > 0:\n",
    "        for i in range(len(queue)):\n",
    "            node = queue.popleft()\n",
    "            if node == b:\n",
    "                return level\n",
    "            for neighbor in graph[node]:\n",
    "                if neighbor not in visited:\n",
    "                    queue.append(neighbor)\n",
    "                    visited.add(neighbor)\n",
    "        level += 1\n",
    "            \n",
    "shortest_path(graph, 'a', 'd')"
   ]
  },
  {
   "cell_type": "markdown",
   "id": "9f32a251",
   "metadata": {
    "hidden": true
   },
   "source": [
    "- In many cases, it's more preferable to build a graph dynamically instead of up front by specifying a function `neighbors = get_neighbors(node)`.\n",
    "- For search problems involving a grid or matrix, we can get neighbors by looking at near by values to a given value. These can either be the 4 values above/below and left/right, or the 8 values if diagonals are included."
   ]
  },
  {
   "cell_type": "code",
   "execution_count": 314,
   "id": "3973b118",
   "metadata": {
    "hidden": true
   },
   "outputs": [
    {
     "data": {
      "text/plain": [
       "[4, 2]"
      ]
     },
     "execution_count": 314,
     "metadata": {},
     "output_type": "execute_result"
    }
   ],
   "source": [
    "def get_neighbors(grid, coord):\n",
    "    i, j = coord\n",
    "    m, n = len(grid), len(grid[0])\n",
    "    neighbors = []\n",
    "    for neighbor in [(i-1, j), (i+1, j), (i, j-1), (i, j+1)]:\n",
    "        ii, jj = neighbor\n",
    "        if 0 <= ii < n and 0 <= jj < n:\n",
    "            neighbors.append((ii, jj))\n",
    "    return neighbors\n",
    "\n",
    "grid = [[1, 2, 3], \n",
    "        [4, 5, 6],\n",
    "        [7, 8, 9]]\n",
    "[grid[i][j] for i, j in get_neighbors(grid, (0, 0))]"
   ]
  },
  {
   "cell_type": "code",
   "execution_count": 287,
   "id": "35ea8222",
   "metadata": {
    "hidden": true
   },
   "outputs": [
    {
     "name": "stdout",
     "output_type": "stream",
     "text": [
      "1\n",
      "4\n",
      "2\n",
      "7\n",
      "5\n",
      "3\n",
      "8\n",
      "6\n",
      "9\n"
     ]
    }
   ],
   "source": [
    "def bfs(grid, start):\n",
    "    from collections import deque\n",
    "    queue = deque([start])\n",
    "    visited = set([start])\n",
    "    while len(queue) > 0:\n",
    "        i, j = queue.popleft()\n",
    "        print(grid[i][j])\n",
    "        for neighbor in get_neighbors(grid, (i, j)):\n",
    "            if neighbor not in visited:\n",
    "                visited.add(neighbor)\n",
    "                queue.append(neighbor)\n",
    "                \n",
    "bfs(grid, (0, 0))"
   ]
  },
  {
   "cell_type": "code",
   "execution_count": 309,
   "id": "63776efe",
   "metadata": {
    "hidden": true
   },
   "outputs": [
    {
     "data": {
      "image/png": "[encoded data removed]",
      "text/plain": [
       "<Figure size 432x288 with 1 Axes>"
      ]
     },
     "metadata": {
      "needs_background": "light"
     },
     "output_type": "display_data"
    },
    {
     "data": {
      "image/png": "[encoded data removed]",
      "text/plain": [
       "<Figure size 432x288 with 1 Axes>"
      ]
     },
     "metadata": {
      "needs_background": "light"
     },
     "output_type": "display_data"
    }
   ],
   "source": [
    "# Given an image, coord, and new pixel value, replace pixel of all neighbors of coord with same value\n",
    "def flood_fill(image, coord, new):\n",
    "    from collections import deque\n",
    "    queue = deque([coord])\n",
    "    visited = set([coord])\n",
    "    i, j = coord\n",
    "    orig = image[i][j]\n",
    "    image[i][j] = new\n",
    "    while len(queue) > 0:\n",
    "        current = queue.popleft()\n",
    "        for neighbor in get_neighbors(image, current):\n",
    "            ii, jj = neighbor\n",
    "            if neighbor not in visited and image[ii][jj] == orig:\n",
    "                visited.add(neighbor)\n",
    "                queue.append(neighbor)\n",
    "                image[ii][jj] = new\n",
    "    return image\n",
    "\n",
    "image = [[0,1,3,4,0],\n",
    "         [3,8,8,3,3],\n",
    "         [6,7,8,8,3],\n",
    "         [12,2,8,9,0],\n",
    "         [12,3,0,3,2]]\n",
    "plt.imshow(image, cmap='gray'); plt.axis('off'); plt.show()\n",
    "new_image = flood_fill(image, (1, 2), 12)\n",
    "plt.imshow(new_image, cmap='gray'); plt.axis('off'); plt.show()"
   ]
  },
  {
   "cell_type": "code",
   "execution_count": null,
   "id": "b83283ea",
   "metadata": {
    "hidden": true
   },
   "outputs": [],
   "source": []
  },
  {
   "cell_type": "markdown",
   "id": "13c3e118",
   "metadata": {
    "heading_collapsed": true
   },
   "source": [
    "## Dynamic Programming\n",
    "\n",
    "- Dynamic Programming (DP) = DFS + Memoization + Pruning\n",
    "- DP can be thought of as DFS on the subproblem graph, where pruning and memoization is used to truncate the graph.\n",
    "- Important: When doing DP, explicitly define what the subproblems are, e.g. \n",
    "$$f(i) = \\max \\text{ score}\\big(x[i:]\\big) \\quad ,\\forall i=n,n-1,\\cdots,1.$$\n",
    "- The natural subproblems to try are:\n",
    "    - Prefixes $x[:i]$, which run in $O(n)$ time\n",
    "    - Suffixes $x[i:]$, which run in $O(n)$ time\n",
    "    - Substrings $x[i:j]$, which run in $O(n^2)$ time\n",
    "- For problems with multiple inputs (e.g. LCS) use the natural subproblems on *each input* individually, then combine.\n",
    "- Template:\n",
    "\n",
    "```python\n",
    "\n",
    "memo = {}\n",
    "def f(x):\n",
    "    if x in memo:\n",
    "        return memo[x]\n",
    "    elif x is a base case:\n",
    "        memo[x] = f(x)\n",
    "        return memo[x]\n",
    "    else:\n",
    "        f(x) = max(f(x[next:]), f(x), ...)\n",
    "        memo[x] = f(x)\n",
    "```"
   ]
  },
  {
   "cell_type": "code",
   "execution_count": null,
   "id": "5948338b",
   "metadata": {
    "hidden": true
   },
   "outputs": [],
   "source": []
  },
  {
   "cell_type": "markdown",
   "id": "841403c9",
   "metadata": {},
   "source": [
    "## Miscellaneous"
   ]
  },
  {
   "cell_type": "markdown",
   "id": "70f3b9db",
   "metadata": {},
   "source": [
    "### Intervals\n",
    "\n",
    "- Two closed intervals $[a_1,b_1], [a_2, b_2]$ overlap if $\\max(a_1, a_2) \\leq \\min(b_1, b_2)$, or equivalently if both $b_2 \\geq a_1$ and $b_1 \\geq a_2$.\n",
    "\n",
    "<img src=https://algomonster.s3.us-east-2.amazonaws.com/interval_pattern_intro.png width=400>"
   ]
  },
  {
   "cell_type": "code",
   "execution_count": 463,
   "id": "36256ce5",
   "metadata": {},
   "outputs": [
    {
     "data": {
      "text/plain": [
       "[[2, 15]]"
      ]
     },
     "execution_count": 463,
     "metadata": {},
     "output_type": "execute_result"
    }
   ],
   "source": [
    "# Given a collection of intervals, merge all overlapping intervals\n",
    "# Example: [[1,3],[2,6],[8,10],[15,18]] -> [[1,6],[8,10],[15,18]]\n",
    "def merge_intervals(intervals):\n",
    "    # time O(n*log(n)), space O(1)\n",
    "    overlap = lambda int_1, int_2: not (int_2[1] < int_1[0] or int_1[1] < int_2[0])\n",
    "    intervals.sort()\n",
    "    merged = []\n",
    "    for interval in intervals:\n",
    "        if len(merged) == 0 or not overlap(merged[-1], interval):\n",
    "            merged.append(interval)\n",
    "        else:\n",
    "            merged[-1][1] = max(merged[-1][1], interval[1])\n",
    "    return merged\n",
    "\n",
    "merge_intervals([[2, 10], [5, 8], [3, 4], [10, 15]])"
   ]
  },
  {
   "cell_type": "code",
   "execution_count": null,
   "id": "7f270e2f",
   "metadata": {},
   "outputs": [],
   "source": []
  },
  {
   "cell_type": "markdown",
   "id": "c15125cb",
   "metadata": {
    "heading_collapsed": true
   },
   "source": [
    "### Tries\n",
    "\n",
    "- A **trie** is a tree used to store strings in a way that allow efficient prefix search and string insertions.\n",
    "- The root of the tree is a base \"empty\" token, represented here by `$`.\n",
    "- Each path through the tree is one of the strings stored in the trie.\n",
    "\n",
    "<img src=https://algomonster.s3.us-east-2.amazonaws.com/trie_intro/trie_intro.003.png width=600>"
   ]
  },
  {
   "cell_type": "code",
   "execution_count": 426,
   "id": "3396a048",
   "metadata": {
    "hidden": true
   },
   "outputs": [
    {
     "name": "stdout",
     "output_type": "stream",
     "text": [
      " $\n",
      "    d\n",
      "       o\n",
      "          g\n",
      "          c\n",
      "             k\n",
      "    c\n",
      "       a\n",
      "          t\n",
      "          p\n"
     ]
    }
   ],
   "source": [
    "class TrieNode:\n",
    "    def __init__(self, value='$'):\n",
    "        self.value = value\n",
    "        self.children = {}\n",
    "        self.freq = 0\n",
    "\n",
    "    def insert(self, string, idx=0):\n",
    "        self.freq += 1\n",
    "        if idx < len(string):\n",
    "            if string[idx] not in self.children:\n",
    "                self.children[string[idx]] = TrieNode(string[idx])\n",
    "            self.children[string[idx]].insert(string, idx=idx+1)\n",
    "                \n",
    "    def query(self, prefix, idx=0):\n",
    "        # this function will vary depending on the task\n",
    "        # we have reached end of prefix, terminate by returning the value\n",
    "        if len(prefix) == idx:\n",
    "            return self.freq\n",
    "        # go to the children if it exists\n",
    "        if prefix[idx] in self.children:\n",
    "            return self.children[prefix[idx]].query(prefix, idx=idx+1)\n",
    "        # if character not in children then our dictionary does not have prefix and return 0\n",
    "        else:\n",
    "            return 0\n",
    "        \n",
    "    def __repr__(self):\n",
    "        return f'TrieNode({self.value}, children={[self.children[node] for node in self.children]})'\n",
    "    \n",
    "    def print_tree(self, level=0):\n",
    "        indent = '   '\n",
    "        if self is not None:\n",
    "            current_level = level\n",
    "            print(f'{indent * current_level} {self.value}')\n",
    "            for child in self.children:\n",
    "                self.children[child].print_tree(current_level + 1)\n",
    "\n",
    "            \n",
    "node = TrieNode('$')\n",
    "node.insert('dog')\n",
    "node.insert('dock')\n",
    "node.insert('cat')\n",
    "node.insert('cap')\n",
    "node.print_tree()"
   ]
  },
  {
   "cell_type": "code",
   "execution_count": 427,
   "id": "d6f9068b",
   "metadata": {
    "hidden": true
   },
   "outputs": [
    {
     "data": {
      "text/plain": [
       "[2, 1, 1]"
      ]
     },
     "execution_count": 427,
     "metadata": {},
     "output_type": "execute_result"
    }
   ],
   "source": [
    "def prefix_count(words, prefixes):\n",
    "    root = TrieNode()\n",
    "    for word in words:\n",
    "        root.insert(word)\n",
    "    counts = []\n",
    "    for prefix in prefixes:\n",
    "        counts.append(root.query(prefix))\n",
    "    return counts\n",
    "\n",
    "prefix_count([\"forgot\", \"for\", \"algomonster\", \"while\"], [\"fo\", \"forg\", \"algo\"])"
   ]
  },
  {
   "cell_type": "markdown",
   "id": "4f893c5b",
   "metadata": {
    "heading_collapsed": true
   },
   "source": [
    "### LRU Cache\n",
    "\n",
    "Design and implement a data structure for Least Recently Used (LRU) cache. It should support get and put operations.\n",
    "- `get(key)`: Get the value (which will always be positive) of the key if the key exists in the cache, otherwise return -1.\n",
    "- `put(key, value)`: Set or insert the value if the key is not already present. When the cache reached its capacity, it should invalidate the least recently used item before inserting a new item.\n",
    "\n",
    "The cache is initialized with a positive capacity."
   ]
  },
  {
   "cell_type": "code",
   "execution_count": 437,
   "id": "be470294",
   "metadata": {
    "hidden": true
   },
   "outputs": [
    {
     "name": "stdout",
     "output_type": "stream",
     "text": [
      "1\n",
      "-1\n",
      "-1\n",
      "3\n",
      "4\n"
     ]
    },
    {
     "data": {
      "text/plain": [
       "{3: 3, 4: 4}"
      ]
     },
     "execution_count": 437,
     "metadata": {},
     "output_type": "execute_result"
    }
   ],
   "source": [
    "class LRUCache:\n",
    "    def __init__(self, capacity):\n",
    "        from collections import deque\n",
    "        self.capacity = capacity\n",
    "        self.cache = {}\n",
    "        self.queue = deque([])\n",
    "    \n",
    "    def get(self, key):\n",
    "        # O(n) time (due to the remove)\n",
    "        if key in self.cache:\n",
    "            value = self.cache[key]\n",
    "            # move (key, value) to the top of the queue again\n",
    "            self.queue.remove((key, value))\n",
    "            self.queue.append((key, value))\n",
    "            return value\n",
    "        else:\n",
    "            return -1\n",
    "    \n",
    "    def put(self, key, value):\n",
    "        # O(1) time\n",
    "        self.cache[key] = value\n",
    "        self.queue.append((key, value))\n",
    "        while len(self.cache) > self.capacity:\n",
    "            # pop off least recently used\n",
    "            least_key, _ = self.queue.popleft()\n",
    "            self.cache.pop(least_key)\n",
    "        \n",
    "    def __repr__(self):\n",
    "        return str(self.cache)\n",
    "        \n",
    "cache = LRUCache(2)\n",
    "cache.put(1, 1)\n",
    "cache.put(2, 2)\n",
    "print(cache.get(1))\n",
    "cache.put(3, 3)\n",
    "print(cache.get(2))\n",
    "cache.put(4, 4)\n",
    "print(cache.get(1))\n",
    "print(cache.get(3))\n",
    "print(cache.get(4))\n",
    "cache"
   ]
  },
  {
   "cell_type": "code",
   "execution_count": null,
   "id": "cc1a0e32",
   "metadata": {
    "hidden": true
   },
   "outputs": [],
   "source": []
  },
  {
   "cell_type": "code",
   "execution_count": null,
   "id": "91ba6017",
   "metadata": {
    "hidden": true
   },
   "outputs": [],
   "source": []
  }
 ],
 "metadata": {
  "kernelspec": {
   "display_name": "Python 3 (ipykernel)",
   "language": "python",
   "name": "python3"
  },
  "language_info": {
   "codemirror_mode": {
    "name": "ipython",
    "version": 3
   },
   "file_extension": ".py",
   "mimetype": "text/x-python",
   "name": "python",
   "nbconvert_exporter": "python",
   "pygments_lexer": "ipython3",
   "version": "3.10.4"
  },
  "toc": {
   "base_numbering": 1,
   "nav_menu": {},
   "number_sections": true,
   "sideBar": true,
   "skip_h1_title": false,
   "title_cell": "Table of Contents",
   "title_sidebar": "Contents",
   "toc_cell": false,
   "toc_position": {},
   "toc_section_display": true,
   "toc_window_display": false
  },
  "varInspector": {
   "cols": {
    "lenName": 16,
    "lenType": 16,
    "lenVar": 40
   },
   "kernels_config": {
    "python": {
     "delete_cmd_postfix": "",
     "delete_cmd_prefix": "del ",
     "library": "var_list.py",
     "varRefreshCmd": "print(var_dic_list())"
    },
    "r": {
     "delete_cmd_postfix": ") ",
     "delete_cmd_prefix": "rm(",
     "library": "var_list.r",
     "varRefreshCmd": "cat(var_dic_list()) "
    }
   },
   "types_to_exclude": [
    "module",
    "function",
    "builtin_function_or_method",
    "instance",
    "_Feature"
   ],
   "window_display": false
  }
 },
 "nbformat": 4,
 "nbformat_minor": 5
}
