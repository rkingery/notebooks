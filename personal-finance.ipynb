{
 "cells": [
  {
   "cell_type": "markdown",
   "id": "3ddb1021-d8a3-40a3-b8f6-5c740b615e6b",
   "metadata": {},
   "source": [
    "# Personal Finance\n",
    "\n",
    "Date: 5/1/2024"
   ]
  },
  {
   "cell_type": "code",
   "execution_count": 1,
   "id": "c3038b76-1ee7-41d5-8487-a7a093935d70",
   "metadata": {},
   "outputs": [],
   "source": [
    "import numpy as np\n",
    "import pandas as pd\n",
    "import matplotlib.pyplot as plt"
   ]
  },
  {
   "cell_type": "markdown",
   "id": "d5768fe7-1ff3-405a-be16-ce8fae4bc42d",
   "metadata": {},
   "source": [
    "## Budget"
   ]
  },
  {
   "cell_type": "markdown",
   "id": "eb145906-10d6-466e-b097-c2370ca23b70",
   "metadata": {},
   "source": [
    "### Income"
   ]
  },
  {
   "cell_type": "code",
   "execution_count": 2,
   "id": "b6d8f149-ad10-40fd-9816-0c12a798cb45",
   "metadata": {},
   "outputs": [],
   "source": [
    "base_salary = 185_000"
   ]
  },
  {
   "cell_type": "code",
   "execution_count": 3,
   "id": "5eef2f90-9e1b-4c80-b0c4-70dd64e27eae",
   "metadata": {},
   "outputs": [
    {
     "data": {
      "text/plain": [
       "22200.0"
      ]
     },
     "execution_count": 3,
     "metadata": {},
     "output_type": "execute_result"
    }
   ],
   "source": [
    "bonus_factor = 0.12 # standard base\n",
    "annual_bonus = base_salary * bonus_factor\n",
    "annual_bonus"
   ]
  },
  {
   "cell_type": "code",
   "execution_count": 4,
   "id": "b5a9855a-5961-4b8a-95b4-2c5e1c64efde",
   "metadata": {},
   "outputs": [
    {
     "data": {
      "text/plain": [
       "60600.0"
      ]
     },
     "execution_count": 4,
     "metadata": {},
     "output_type": "execute_result"
    }
   ],
   "source": [
    "share_price = 300.00\n",
    "num_shares = 202\n",
    "annual_equity = share_price * num_shares\n",
    "annual_equity"
   ]
  },
  {
   "cell_type": "code",
   "execution_count": 5,
   "id": "21730e47-d9c8-4c7f-8e74-91a278e7b9c7",
   "metadata": {},
   "outputs": [],
   "source": [
    "tax_rate = 0.34\n",
    "bonus_tax_rate = 0.42"
   ]
  },
  {
   "cell_type": "code",
   "execution_count": 6,
   "id": "aa8d98e1-9b2a-4f42-a3c5-bf4eb177f28b",
   "metadata": {},
   "outputs": [],
   "source": [
    "other_monthly_income = 319 # ends Aug 2024"
   ]
  },
  {
   "cell_type": "code",
   "execution_count": 7,
   "id": "cea56153-ad47-405c-b834-418107421343",
   "metadata": {},
   "outputs": [
    {
     "data": {
      "text/plain": [
       "267800.0"
      ]
     },
     "execution_count": 7,
     "metadata": {},
     "output_type": "execute_result"
    }
   ],
   "source": [
    "annual_compensation = base_salary + annual_equity + annual_bonus\n",
    "annual_compensation"
   ]
  },
  {
   "cell_type": "code",
   "execution_count": 8,
   "id": "153ca8af-74b5-43d6-92a4-3eedeba0d9f6",
   "metadata": {},
   "outputs": [
    {
     "data": {
      "text/plain": [
       "270352.0"
      ]
     },
     "execution_count": 8,
     "metadata": {},
     "output_type": "execute_result"
    }
   ],
   "source": [
    "total_annual_income = annual_compensation + 8 * other_monthly_income # for 2024\n",
    "total_annual_income"
   ]
  },
  {
   "cell_type": "code",
   "execution_count": 9,
   "id": "421aa106-523a-4272-aeb6-b0ec83f3c90b",
   "metadata": {},
   "outputs": [
    {
     "data": {
      "text/plain": [
       "172676.0"
      ]
     },
     "execution_count": 9,
     "metadata": {},
     "output_type": "execute_result"
    }
   ],
   "source": [
    "net_annual_income = base_salary * (1 - tax_rate) + (annual_equity + annual_bonus) * (1 - bonus_tax_rate) + 8 * other_monthly_income\n",
    "net_annual_income"
   ]
  },
  {
   "cell_type": "code",
   "execution_count": 10,
   "id": "3181c04a-7a3e-4a69-b478-c75bf457f1a8",
   "metadata": {},
   "outputs": [
    {
     "data": {
      "text/plain": [
       "15416.67"
      ]
     },
     "execution_count": 10,
     "metadata": {},
     "output_type": "execute_result"
    }
   ],
   "source": [
    "monthly_salary = base_salary / 12\n",
    "round(monthly_salary, 2)"
   ]
  },
  {
   "cell_type": "code",
   "execution_count": 11,
   "id": "2265ca39-ee67-44c2-92c5-00c854195ea9",
   "metadata": {},
   "outputs": [
    {
     "data": {
      "text/plain": [
       "15735.67"
      ]
     },
     "execution_count": 11,
     "metadata": {},
     "output_type": "execute_result"
    }
   ],
   "source": [
    "total_monthly_income = base_salary / 12 + other_monthly_income\n",
    "round(total_monthly_income, 2)"
   ]
  },
  {
   "cell_type": "code",
   "execution_count": 12,
   "id": "a1c4a628-52e4-43db-953f-de6385bf8190",
   "metadata": {},
   "outputs": [
    {
     "data": {
      "text/plain": [
       "10494.0"
      ]
     },
     "execution_count": 12,
     "metadata": {},
     "output_type": "execute_result"
    }
   ],
   "source": [
    "net_monthly_income = base_salary * (1 - tax_rate) / 12 + other_monthly_income\n",
    "round(net_monthly_income, 2)"
   ]
  },
  {
   "cell_type": "code",
   "execution_count": 13,
   "id": "c1627277-71ef-4489-aa2f-32b90563f57b",
   "metadata": {},
   "outputs": [
    {
     "data": {
      "text/plain": [
       "7708.33"
      ]
     },
     "execution_count": 13,
     "metadata": {},
     "output_type": "execute_result"
    }
   ],
   "source": [
    "total_per_paycheck = base_salary / 12 / 2\n",
    "round(total_per_paycheck, 2)"
   ]
  },
  {
   "cell_type": "code",
   "execution_count": 14,
   "id": "852327d6-ea71-4351-aa41-5d16e4972c37",
   "metadata": {},
   "outputs": [
    {
     "data": {
      "text/plain": [
       "5087.5"
      ]
     },
     "execution_count": 14,
     "metadata": {},
     "output_type": "execute_result"
    }
   ],
   "source": [
    "net_per_paycheck = total_per_paycheck * (1 - tax_rate)\n",
    "round(net_per_paycheck, 2)"
   ]
  },
  {
   "cell_type": "code",
   "execution_count": 15,
   "id": "99a715e0-fc4c-49a6-bc03-49c73325b3f7",
   "metadata": {},
   "outputs": [
    {
     "data": {
      "text/plain": [
       "22635.67"
      ]
     },
     "execution_count": 15,
     "metadata": {},
     "output_type": "execute_result"
    }
   ],
   "source": [
    "effective_total_monthly_income = total_monthly_income + annual_bonus / 12 + annual_equity / 12\n",
    "round(effective_total_monthly_income, 2)"
   ]
  },
  {
   "cell_type": "code",
   "execution_count": 16,
   "id": "2f8c51e1-cc22-40a8-b12d-ca2af83bd5fe",
   "metadata": {},
   "outputs": [
    {
     "data": {
      "text/plain": [
       "14389.67"
      ]
     },
     "execution_count": 16,
     "metadata": {},
     "output_type": "execute_result"
    }
   ],
   "source": [
    "effective_net_monthly_income = net_annual_income / 12\n",
    "round(effective_net_monthly_income, 2)"
   ]
  },
  {
   "cell_type": "markdown",
   "id": "9e88b06b-1bf5-47bb-a8fe-eaea31aa794c",
   "metadata": {},
   "source": [
    "### Costs"
   ]
  },
  {
   "cell_type": "code",
   "execution_count": 17,
   "id": "1972f6c9-5adf-40d4-9e1b-7f4a2bab2017",
   "metadata": {},
   "outputs": [
    {
     "data": {
      "text/plain": [
       "5143"
      ]
     },
     "execution_count": 17,
     "metadata": {},
     "output_type": "execute_result"
    }
   ],
   "source": [
    "fixed_costs = sum([\n",
    "    3000, # rent\n",
    "    170, # utilities\n",
    "    50, # health insurance\n",
    "    120, # car insurance\n",
    "    15 * 2 + 12 * 2, # subscriptions\n",
    "    500, # student loans\n",
    "    1249, # car loan\n",
    "])\n",
    "\n",
    "fixed_costs"
   ]
  },
  {
   "cell_type": "code",
   "execution_count": 18,
   "id": "de50af07-5951-425c-bc01-46d870f6ac68",
   "metadata": {},
   "outputs": [
    {
     "data": {
      "text/plain": [
       "1800"
      ]
     },
     "execution_count": 18,
     "metadata": {},
     "output_type": "execute_result"
    }
   ],
   "source": [
    "variable_costs_sc = sum([\n",
    "    30 * 30, # food + coffee + alcohol\n",
    "    100, # gas\n",
    "    450 + 150, # travel (GSP-SFO airfare + 1 hotel)\n",
    "    200, # misc\n",
    "])\n",
    "\n",
    "variable_costs_sc"
   ]
  },
  {
   "cell_type": "code",
   "execution_count": 19,
   "id": "9dc96378-39c1-405a-8df4-029117d44b3b",
   "metadata": {},
   "outputs": [
    {
     "data": {
      "text/plain": [
       "2650"
      ]
     },
     "execution_count": 19,
     "metadata": {},
     "output_type": "execute_result"
    }
   ],
   "source": [
    "variable_costs_ca = sum([\n",
    "    50 * 30, # food + coffee + alcohol\n",
    "    100, # gas\n",
    "    450 + 4 * 100, # travel (GSP-SFO airfare + 4 hotels)\n",
    "    200, # misc\n",
    "])\n",
    "\n",
    "variable_costs_ca"
   ]
  },
  {
   "cell_type": "code",
   "execution_count": 20,
   "id": "d81984e3-427a-4866-b9aa-d6cad04a4b82",
   "metadata": {},
   "outputs": [
    {
     "data": {
      "text/plain": [
       "6943"
      ]
     },
     "execution_count": 20,
     "metadata": {},
     "output_type": "execute_result"
    }
   ],
   "source": [
    "total_monthly_costs_sc = fixed_costs + variable_costs_sc\n",
    "total_monthly_costs_sc"
   ]
  },
  {
   "cell_type": "code",
   "execution_count": 21,
   "id": "22c41750-681e-4e85-ac54-eda8eb8f8266",
   "metadata": {},
   "outputs": [
    {
     "data": {
      "text/plain": [
       "7793"
      ]
     },
     "execution_count": 21,
     "metadata": {},
     "output_type": "execute_result"
    }
   ],
   "source": [
    "total_monthly_costs_ca = fixed_costs + variable_costs_ca\n",
    "total_monthly_costs_ca"
   ]
  },
  {
   "cell_type": "code",
   "execution_count": 22,
   "id": "34253238-9577-473d-be10-c0c098c1e900",
   "metadata": {},
   "outputs": [
    {
     "data": {
      "text/plain": [
       "7368.0"
      ]
     },
     "execution_count": 22,
     "metadata": {},
     "output_type": "execute_result"
    }
   ],
   "source": [
    "avg_total_monthly_costs = (total_monthly_costs_sc + total_monthly_costs_ca) / 2\n",
    "avg_total_monthly_costs"
   ]
  },
  {
   "cell_type": "code",
   "execution_count": 23,
   "id": "9e4beb90-5fad-4e22-be55-73ddd4977712",
   "metadata": {},
   "outputs": [
    {
     "data": {
      "text/plain": [
       "88416"
      ]
     },
     "execution_count": 23,
     "metadata": {},
     "output_type": "execute_result"
    }
   ],
   "source": [
    "total_annual_costs = total_monthly_costs_sc * 6 + total_monthly_costs_ca * 6\n",
    "total_annual_costs"
   ]
  },
  {
   "cell_type": "markdown",
   "id": "a7be6bf1-44e9-44f0-a329-fed0cfc3aa29",
   "metadata": {},
   "source": [
    "### Profits"
   ]
  },
  {
   "cell_type": "code",
   "execution_count": 24,
   "id": "a68e00d8-064b-4b7e-b98c-54c565cf9f0e",
   "metadata": {},
   "outputs": [
    {
     "data": {
      "text/plain": [
       "3126.0"
      ]
     },
     "execution_count": 24,
     "metadata": {},
     "output_type": "execute_result"
    }
   ],
   "source": [
    "avg_monthly_profit = net_monthly_income - avg_total_monthly_costs\n",
    "round(avg_monthly_profit, 2)"
   ]
  },
  {
   "cell_type": "code",
   "execution_count": 25,
   "id": "4dc81e33-a86f-4076-9f07-9327bd4ea9f7",
   "metadata": {},
   "outputs": [
    {
     "data": {
      "text/plain": [
       "7021.67"
      ]
     },
     "execution_count": 25,
     "metadata": {},
     "output_type": "execute_result"
    }
   ],
   "source": [
    "avg_effective_monthly_profit = effective_net_monthly_income - avg_total_monthly_costs\n",
    "round(avg_effective_monthly_profit, 2)"
   ]
  },
  {
   "cell_type": "code",
   "execution_count": 26,
   "id": "750ce17f-8070-4967-930d-654929f5667f",
   "metadata": {},
   "outputs": [
    {
     "data": {
      "text/plain": [
       "84260.0"
      ]
     },
     "execution_count": 26,
     "metadata": {},
     "output_type": "execute_result"
    }
   ],
   "source": [
    "annual_profit = net_annual_income - total_annual_costs\n",
    "annual_profit"
   ]
  },
  {
   "cell_type": "markdown",
   "id": "745bcc0b-6b8f-450a-b6b3-9f9015fd4363",
   "metadata": {},
   "source": [
    "## Student Loan"
   ]
  },
  {
   "cell_type": "code",
   "execution_count": 27,
   "id": "f2ae87d5-9c19-4917-a725-3aa31939d8cd",
   "metadata": {},
   "outputs": [
    {
     "data": {
      "text/html": [
       "<div>\n",
       "<style scoped>\n",
       "    .dataframe tbody tr th:only-of-type {\n",
       "        vertical-align: middle;\n",
       "    }\n",
       "\n",
       "    .dataframe tbody tr th {\n",
       "        vertical-align: top;\n",
       "    }\n",
       "\n",
       "    .dataframe thead th {\n",
       "        text-align: right;\n",
       "    }\n",
       "</style>\n",
       "<table border=\"1\" class=\"dataframe\">\n",
       "  <thead>\n",
       "    <tr style=\"text-align: right;\">\n",
       "      <th></th>\n",
       "      <th>group</th>\n",
       "      <th>principle</th>\n",
       "      <th>apr</th>\n",
       "      <th>monthly_interest</th>\n",
       "    </tr>\n",
       "  </thead>\n",
       "  <tbody>\n",
       "    <tr>\n",
       "      <th>0</th>\n",
       "      <td>AA</td>\n",
       "      <td>9917.64</td>\n",
       "      <td>3.15</td>\n",
       "      <td>26.03</td>\n",
       "    </tr>\n",
       "    <tr>\n",
       "      <th>1</th>\n",
       "      <td>AB</td>\n",
       "      <td>0.00</td>\n",
       "      <td>0.00</td>\n",
       "      <td>0.00</td>\n",
       "    </tr>\n",
       "    <tr>\n",
       "      <th>2</th>\n",
       "      <td>AC</td>\n",
       "      <td>6029.35</td>\n",
       "      <td>3.61</td>\n",
       "      <td>18.14</td>\n",
       "    </tr>\n",
       "    <tr>\n",
       "      <th>3</th>\n",
       "      <td>AD</td>\n",
       "      <td>9171.32</td>\n",
       "      <td>3.61</td>\n",
       "      <td>27.59</td>\n",
       "    </tr>\n",
       "    <tr>\n",
       "      <th>4</th>\n",
       "      <td>AE</td>\n",
       "      <td>0.00</td>\n",
       "      <td>0.00</td>\n",
       "      <td>0.00</td>\n",
       "    </tr>\n",
       "    <tr>\n",
       "      <th>5</th>\n",
       "      <td>AF</td>\n",
       "      <td>5388.90</td>\n",
       "      <td>4.41</td>\n",
       "      <td>19.80</td>\n",
       "    </tr>\n",
       "    <tr>\n",
       "      <th>6</th>\n",
       "      <td>AG</td>\n",
       "      <td>0.00</td>\n",
       "      <td>5.59</td>\n",
       "      <td>0.00</td>\n",
       "    </tr>\n",
       "    <tr>\n",
       "      <th>7</th>\n",
       "      <td>AH</td>\n",
       "      <td>9091.17</td>\n",
       "      <td>5.06</td>\n",
       "      <td>38.33</td>\n",
       "    </tr>\n",
       "    <tr>\n",
       "      <th>8</th>\n",
       "      <td>AI</td>\n",
       "      <td>0.00</td>\n",
       "      <td>0.00</td>\n",
       "      <td>0.00</td>\n",
       "    </tr>\n",
       "    <tr>\n",
       "      <th>9</th>\n",
       "      <td>AJ</td>\n",
       "      <td>0.00</td>\n",
       "      <td>0.00</td>\n",
       "      <td>0.00</td>\n",
       "    </tr>\n",
       "  </tbody>\n",
       "</table>\n",
       "</div>"
      ],
      "text/plain": [
       "  group  principle   apr  monthly_interest\n",
       "0    AA    9917.64  3.15             26.03\n",
       "1    AB       0.00  0.00              0.00\n",
       "2    AC    6029.35  3.61             18.14\n",
       "3    AD    9171.32  3.61             27.59\n",
       "4    AE       0.00  0.00              0.00\n",
       "5    AF    5388.90  4.41             19.80\n",
       "6    AG       0.00  5.59              0.00\n",
       "7    AH    9091.17  5.06             38.33\n",
       "8    AI       0.00  0.00              0.00\n",
       "9    AJ       0.00  0.00              0.00"
      ]
     },
     "execution_count": 27,
     "metadata": {},
     "output_type": "execute_result"
    }
   ],
   "source": [
    "df_student = pd.DataFrame(data=[\n",
    "    ['AA', 9_917.64, 3.150],\n",
    "    ['AB', 0.00, 0.0],\n",
    "    ['AC', 6_029.35, 3.610],\n",
    "    ['AD', 9_171.32, 3.610],\n",
    "    ['AE', 0.00, 0.0],\n",
    "    ['AF', 5_388.90, 4.410],\n",
    "    ['AG', 0.00, 5.590],\n",
    "    ['AH', 9_091.17, 5.060],\n",
    "    ['AI', 0.00, 0.0],\n",
    "    ['AJ', 0.00, 0.0],\n",
    "], columns=['group', 'principle', 'apr'])\n",
    "df_student['monthly_interest'] = (df_student['principle'] * df_student['apr'] / 12 / 100).round(2)\n",
    "df_student"
   ]
  },
  {
   "cell_type": "code",
   "execution_count": 28,
   "id": "bffbf099-9a5a-414c-bb8a-a8487c668bf5",
   "metadata": {},
   "outputs": [
    {
     "data": {
      "text/plain": [
       "3.937"
      ]
     },
     "execution_count": 28,
     "metadata": {},
     "output_type": "execute_result"
    }
   ],
   "source": [
    "effective_student_apr = np.dot(df_student['principle'] / df_student['principle'].sum(), df_student['apr'])\n",
    "round(effective_student_apr, 3)"
   ]
  },
  {
   "cell_type": "code",
   "execution_count": 29,
   "id": "ca44b4ed-c606-49b4-af96-600907b3d28c",
   "metadata": {},
   "outputs": [
    {
     "data": {
      "text/plain": [
       "39728.27"
      ]
     },
     "execution_count": 29,
     "metadata": {},
     "output_type": "execute_result"
    }
   ],
   "source": [
    "total_student_principle = (df_student['principle'] + df_student['monthly_interest']).sum()\n",
    "round(total_student_principle, 2)"
   ]
  },
  {
   "cell_type": "code",
   "execution_count": 30,
   "id": "c4e582df-bcba-4f3a-aa42-3f93fbc53dd9",
   "metadata": {},
   "outputs": [],
   "source": [
    "def amortization_schedule(df, min_payment, extra_payments=[], start_at=0):\n",
    "    df = df[df['principle'] > 0].copy()\n",
    "    month = start_at\n",
    "    amortization_records = [{\n",
    "            'month': month,\n",
    "            'total_payment': 0,\n",
    "            'interest_paid': 0,\n",
    "            'principal_paid': 0,\n",
    "            'remaining_balance': df['principle'].sum()\n",
    "    }]\n",
    "    total_principal = df['principle'].sum()\n",
    "    while total_principal > 0:\n",
    "        month += 1\n",
    "        monthly_interest = df['monthly_interest'].sum()\n",
    "        total_payment = min_payment\n",
    "        for extra_payment in extra_payments:\n",
    "            if month >= extra_payment['shift_by'] and (month - extra_payment.get('shift_by', 0)) % extra_payment['num_months'] == 0:\n",
    "                total_payment += extra_payment['amount']\n",
    "        principal_payment = max(0, total_payment - monthly_interest)\n",
    "        if total_principal + monthly_interest < total_payment:\n",
    "            principal_payment = total_principal\n",
    "            min_payment = principal_payment + monthly_interest\n",
    "        total_principal -= principal_payment\n",
    "        amortization_records.append({\n",
    "            'month': month,\n",
    "            'total_payment': total_payment,\n",
    "            'interest_paid': monthly_interest,\n",
    "            'principal_paid': principal_payment,\n",
    "            'remaining_balance': total_principal\n",
    "        })\n",
    "        df['payment_proportion'] = df['principle'] / df['principle'].sum()\n",
    "        df['principle'] -= df['payment_proportion'] * principal_payment\n",
    "        df['monthly_interest'] = (df['principle'] * df['apr'] / 12 / 100).round(2)\n",
    "        if total_principal <= 1:\n",
    "            break\n",
    "    return pd.DataFrame(amortization_records)"
   ]
  },
  {
   "cell_type": "code",
   "execution_count": 31,
   "id": "b69afe92-b4fe-4b37-a30d-9165c45972bb",
   "metadata": {},
   "outputs": [
    {
     "data": {
      "text/html": [
       "<div>\n",
       "<style scoped>\n",
       "    .dataframe tbody tr th:only-of-type {\n",
       "        vertical-align: middle;\n",
       "    }\n",
       "\n",
       "    .dataframe tbody tr th {\n",
       "        vertical-align: top;\n",
       "    }\n",
       "\n",
       "    .dataframe thead th {\n",
       "        text-align: right;\n",
       "    }\n",
       "</style>\n",
       "<table border=\"1\" class=\"dataframe\">\n",
       "  <thead>\n",
       "    <tr style=\"text-align: right;\">\n",
       "      <th></th>\n",
       "      <th>month</th>\n",
       "      <th>total_payment</th>\n",
       "      <th>interest_paid</th>\n",
       "      <th>principal_paid</th>\n",
       "      <th>remaining_balance</th>\n",
       "    </tr>\n",
       "  </thead>\n",
       "  <tbody>\n",
       "    <tr>\n",
       "      <th>0</th>\n",
       "      <td>0</td>\n",
       "      <td>0</td>\n",
       "      <td>0.00</td>\n",
       "      <td>0.00</td>\n",
       "      <td>39598.38</td>\n",
       "    </tr>\n",
       "    <tr>\n",
       "      <th>1</th>\n",
       "      <td>1</td>\n",
       "      <td>10000</td>\n",
       "      <td>129.89</td>\n",
       "      <td>9870.11</td>\n",
       "      <td>29728.27</td>\n",
       "    </tr>\n",
       "    <tr>\n",
       "      <th>2</th>\n",
       "      <td>2</td>\n",
       "      <td>1000</td>\n",
       "      <td>97.52</td>\n",
       "      <td>902.48</td>\n",
       "      <td>28825.79</td>\n",
       "    </tr>\n",
       "    <tr>\n",
       "      <th>3</th>\n",
       "      <td>3</td>\n",
       "      <td>1000</td>\n",
       "      <td>94.56</td>\n",
       "      <td>905.44</td>\n",
       "      <td>27920.35</td>\n",
       "    </tr>\n",
       "    <tr>\n",
       "      <th>4</th>\n",
       "      <td>4</td>\n",
       "      <td>10000</td>\n",
       "      <td>91.59</td>\n",
       "      <td>9908.41</td>\n",
       "      <td>18011.94</td>\n",
       "    </tr>\n",
       "    <tr>\n",
       "      <th>5</th>\n",
       "      <td>5</td>\n",
       "      <td>1000</td>\n",
       "      <td>59.09</td>\n",
       "      <td>940.91</td>\n",
       "      <td>17071.03</td>\n",
       "    </tr>\n",
       "    <tr>\n",
       "      <th>6</th>\n",
       "      <td>6</td>\n",
       "      <td>1000</td>\n",
       "      <td>56.00</td>\n",
       "      <td>944.00</td>\n",
       "      <td>16127.03</td>\n",
       "    </tr>\n",
       "    <tr>\n",
       "      <th>7</th>\n",
       "      <td>7</td>\n",
       "      <td>16000</td>\n",
       "      <td>52.91</td>\n",
       "      <td>15947.09</td>\n",
       "      <td>179.94</td>\n",
       "    </tr>\n",
       "    <tr>\n",
       "      <th>8</th>\n",
       "      <td>8</td>\n",
       "      <td>1000</td>\n",
       "      <td>0.59</td>\n",
       "      <td>179.94</td>\n",
       "      <td>0.00</td>\n",
       "    </tr>\n",
       "  </tbody>\n",
       "</table>\n",
       "</div>"
      ],
      "text/plain": [
       "   month  total_payment  interest_paid  principal_paid  remaining_balance\n",
       "0      0              0           0.00            0.00           39598.38\n",
       "1      1          10000         129.89         9870.11           29728.27\n",
       "2      2           1000          97.52          902.48           28825.79\n",
       "3      3           1000          94.56          905.44           27920.35\n",
       "4      4          10000          91.59         9908.41           18011.94\n",
       "5      5           1000          59.09          940.91           17071.03\n",
       "6      6           1000          56.00          944.00           16127.03\n",
       "7      7          16000          52.91        15947.09             179.94\n",
       "8      8           1000           0.59          179.94               0.00"
      ]
     },
     "execution_count": 31,
     "metadata": {},
     "output_type": "execute_result"
    }
   ],
   "source": [
    "min_student_loan_payment = 500\n",
    "extra_payments = [\n",
    "    {'num_months': 1, 'amount': 500, 'shift_by': 0},\n",
    "    {'num_months': 3, 'amount': 9000, 'shift_by': 1},\n",
    "    {'num_months': 6, 'amount': 6000, 'shift_by': 7},\n",
    "]\n",
    "amortization_df = amortization_schedule(df_student, min_student_loan_payment, extra_payments)\n",
    "amortization_df"
   ]
  },
  {
   "cell_type": "code",
   "execution_count": 32,
   "id": "029d0eb0-ce86-4787-a333-c70c6a9b469c",
   "metadata": {},
   "outputs": [
    {
     "data": {
      "text/plain": [
       "8"
      ]
     },
     "execution_count": 32,
     "metadata": {},
     "output_type": "execute_result"
    }
   ],
   "source": [
    "num_months_remaining_student = amortization_df['month'].iloc[-1]\n",
    "num_months_remaining_student"
   ]
  },
  {
   "cell_type": "code",
   "execution_count": 33,
   "id": "d4f3b972-4653-4a67-be3e-e3b7c474f74a",
   "metadata": {},
   "outputs": [
    {
     "data": {
      "text/plain": [
       "(0, 8)"
      ]
     },
     "execution_count": 33,
     "metadata": {},
     "output_type": "execute_result"
    }
   ],
   "source": [
    "num_months_remaining_student // 12, num_months_remaining_student % 12"
   ]
  },
  {
   "cell_type": "code",
   "execution_count": 34,
   "id": "9d12ba34-a827-4fc9-809e-a626cc0b4ca0",
   "metadata": {},
   "outputs": [
    {
     "data": {
      "text/plain": [
       "820.06"
      ]
     },
     "execution_count": 34,
     "metadata": {},
     "output_type": "execute_result"
    }
   ],
   "source": [
    "leftover_student_payment = amortization_df['total_payment'].iloc[-1] - amortization_df['remaining_balance'].iloc[-2]\n",
    "round(leftover_student_payment, 2)"
   ]
  },
  {
   "cell_type": "markdown",
   "id": "06b989b5-c5bb-4b67-9c8a-842a510910e1",
   "metadata": {},
   "source": [
    "## Car Loan"
   ]
  },
  {
   "cell_type": "code",
   "execution_count": 35,
   "id": "dfd66a0e-acb3-4e58-9940-00442c0bd081",
   "metadata": {},
   "outputs": [
    {
     "data": {
      "text/html": [
       "<div>\n",
       "<style scoped>\n",
       "    .dataframe tbody tr th:only-of-type {\n",
       "        vertical-align: middle;\n",
       "    }\n",
       "\n",
       "    .dataframe tbody tr th {\n",
       "        vertical-align: top;\n",
       "    }\n",
       "\n",
       "    .dataframe thead th {\n",
       "        text-align: right;\n",
       "    }\n",
       "</style>\n",
       "<table border=\"1\" class=\"dataframe\">\n",
       "  <thead>\n",
       "    <tr style=\"text-align: right;\">\n",
       "      <th></th>\n",
       "      <th>principle</th>\n",
       "      <th>apr</th>\n",
       "      <th>monthly_interest</th>\n",
       "    </tr>\n",
       "  </thead>\n",
       "  <tbody>\n",
       "    <tr>\n",
       "      <th>0</th>\n",
       "      <td>28217.98</td>\n",
       "      <td>1.99</td>\n",
       "      <td>46.79</td>\n",
       "    </tr>\n",
       "  </tbody>\n",
       "</table>\n",
       "</div>"
      ],
      "text/plain": [
       "   principle   apr  monthly_interest\n",
       "0   28217.98  1.99             46.79"
      ]
     },
     "execution_count": 35,
     "metadata": {},
     "output_type": "execute_result"
    }
   ],
   "source": [
    "car_payment = 1249.36\n",
    "car_principle = 39_032.92\n",
    "car_apr = 1.99\n",
    "\n",
    "remaining_car_principle = car_principle - num_months_remaining_student * car_payment - leftover_student_payment\n",
    "df_car = pd.DataFrame(data=[[remaining_car_principle, car_apr]], columns=['principle', 'apr'])\n",
    "df_car['monthly_interest'] = (df_car['principle'] * df_car['apr'] / 12 / 100).round(2)\n",
    "df_car"
   ]
  },
  {
   "cell_type": "code",
   "execution_count": 36,
   "id": "f1048a2c-538f-475c-8cbb-0b07f9e6651f",
   "metadata": {},
   "outputs": [
    {
     "data": {
      "text/html": [
       "<div>\n",
       "<style scoped>\n",
       "    .dataframe tbody tr th:only-of-type {\n",
       "        vertical-align: middle;\n",
       "    }\n",
       "\n",
       "    .dataframe tbody tr th {\n",
       "        vertical-align: top;\n",
       "    }\n",
       "\n",
       "    .dataframe thead th {\n",
       "        text-align: right;\n",
       "    }\n",
       "</style>\n",
       "<table border=\"1\" class=\"dataframe\">\n",
       "  <thead>\n",
       "    <tr style=\"text-align: right;\">\n",
       "      <th></th>\n",
       "      <th>month</th>\n",
       "      <th>total_payment</th>\n",
       "      <th>interest_paid</th>\n",
       "      <th>principal_paid</th>\n",
       "      <th>remaining_balance</th>\n",
       "    </tr>\n",
       "  </thead>\n",
       "  <tbody>\n",
       "    <tr>\n",
       "      <th>0</th>\n",
       "      <td>8</td>\n",
       "      <td>0.00</td>\n",
       "      <td>0.00</td>\n",
       "      <td>0.00</td>\n",
       "      <td>28217.98</td>\n",
       "    </tr>\n",
       "    <tr>\n",
       "      <th>1</th>\n",
       "      <td>9</td>\n",
       "      <td>3249.36</td>\n",
       "      <td>46.79</td>\n",
       "      <td>3202.57</td>\n",
       "      <td>25015.41</td>\n",
       "    </tr>\n",
       "    <tr>\n",
       "      <th>2</th>\n",
       "      <td>10</td>\n",
       "      <td>12249.36</td>\n",
       "      <td>41.48</td>\n",
       "      <td>12207.88</td>\n",
       "      <td>12807.53</td>\n",
       "    </tr>\n",
       "    <tr>\n",
       "      <th>3</th>\n",
       "      <td>11</td>\n",
       "      <td>3249.36</td>\n",
       "      <td>21.24</td>\n",
       "      <td>3228.12</td>\n",
       "      <td>9579.41</td>\n",
       "    </tr>\n",
       "    <tr>\n",
       "      <th>4</th>\n",
       "      <td>12</td>\n",
       "      <td>3249.36</td>\n",
       "      <td>15.89</td>\n",
       "      <td>3233.47</td>\n",
       "      <td>6345.94</td>\n",
       "    </tr>\n",
       "    <tr>\n",
       "      <th>5</th>\n",
       "      <td>13</td>\n",
       "      <td>18249.36</td>\n",
       "      <td>10.52</td>\n",
       "      <td>6345.94</td>\n",
       "      <td>0.00</td>\n",
       "    </tr>\n",
       "  </tbody>\n",
       "</table>\n",
       "</div>"
      ],
      "text/plain": [
       "   month  total_payment  interest_paid  principal_paid  remaining_balance\n",
       "0      8           0.00           0.00            0.00           28217.98\n",
       "1      9        3249.36          46.79         3202.57           25015.41\n",
       "2     10       12249.36          41.48        12207.88           12807.53\n",
       "3     11        3249.36          21.24         3228.12            9579.41\n",
       "4     12        3249.36          15.89         3233.47            6345.94\n",
       "5     13       18249.36          10.52         6345.94               0.00"
      ]
     },
     "execution_count": 36,
     "metadata": {},
     "output_type": "execute_result"
    }
   ],
   "source": [
    "extra_payments = [\n",
    "    {'num_months': 1, 'amount': 2000, 'shift_by': 0},\n",
    "    {'num_months': 3, 'amount': 9000, 'shift_by': 1},\n",
    "    {'num_months': 6, 'amount': 6000, 'shift_by': 1},\n",
    "]\n",
    "amortization_df = amortization_schedule(df_car, car_payment, extra_payments, start_at=num_months_remaining_student)\n",
    "amortization_df"
   ]
  },
  {
   "cell_type": "code",
   "execution_count": 37,
   "id": "1f880ac8-17fd-469d-8d52-d8baa38bfcf3",
   "metadata": {},
   "outputs": [
    {
     "data": {
      "text/plain": [
       "13"
      ]
     },
     "execution_count": 37,
     "metadata": {},
     "output_type": "execute_result"
    }
   ],
   "source": [
    "num_months_remaining_car = amortization_df['month'].iloc[-1]\n",
    "num_months_remaining_car"
   ]
  },
  {
   "cell_type": "code",
   "execution_count": 38,
   "id": "2df36e89-ae3f-441c-be3b-12f882cd7b8b",
   "metadata": {},
   "outputs": [
    {
     "data": {
      "text/plain": [
       "(1, 1)"
      ]
     },
     "execution_count": 38,
     "metadata": {},
     "output_type": "execute_result"
    }
   ],
   "source": [
    "num_months_remaining_car // 12, num_months_remaining_car % 12"
   ]
  },
  {
   "cell_type": "code",
   "execution_count": 39,
   "id": "c32adeb6-0af9-4c71-bbcb-1594057ec64b",
   "metadata": {},
   "outputs": [
    {
     "data": {
      "text/plain": [
       "11903.42"
      ]
     },
     "execution_count": 39,
     "metadata": {},
     "output_type": "execute_result"
    }
   ],
   "source": [
    "leftover_car_payment = amortization_df['total_payment'].iloc[-1] - amortization_df['remaining_balance'].iloc[-2]\n",
    "round(leftover_car_payment, 2)"
   ]
  },
  {
   "cell_type": "markdown",
   "id": "b6c6f6dc-d985-4e4e-9c71-ad61c9759f7f",
   "metadata": {},
   "source": [
    "## Timeline"
   ]
  },
  {
   "cell_type": "code",
   "execution_count": 40,
   "id": "d1c70f3d-d2ee-4abf-9851-eaa20db8ee0c",
   "metadata": {},
   "outputs": [
    {
     "data": {
      "text/plain": [
       "13"
      ]
     },
     "execution_count": 40,
     "metadata": {},
     "output_type": "execute_result"
    }
   ],
   "source": [
    "num_months_loans = num_months_remaining_student + num_months_remaining_car - num_months_remaining_student\n",
    "num_months_loans"
   ]
  },
  {
   "cell_type": "code",
   "execution_count": 41,
   "id": "b662105e-a854-4360-9a82-240e1aa0858b",
   "metadata": {},
   "outputs": [
    {
     "data": {
      "text/plain": [
       "8452.03"
      ]
     },
     "execution_count": 41,
     "metadata": {},
     "output_type": "execute_result"
    }
   ],
   "source": [
    "savings_target = 50_000\n",
    "current_balance = 15_000 + leftover_car_payment\n",
    "monthly_profit_no_loans = avg_effective_monthly_profit + min_student_loan_payment + car_payment - other_monthly_income\n",
    "round(monthly_profit_no_loans, 2)"
   ]
  },
  {
   "cell_type": "code",
   "execution_count": 42,
   "id": "b7bf40e3-197d-45c8-9e0e-32a11d9db85e",
   "metadata": {},
   "outputs": [
    {
     "data": {
      "text/plain": [
       "3"
      ]
     },
     "execution_count": 42,
     "metadata": {},
     "output_type": "execute_result"
    }
   ],
   "source": [
    "num_months_to_save = round((savings_target - current_balance) / monthly_profit_no_loans)\n",
    "num_months_to_save"
   ]
  },
  {
   "cell_type": "code",
   "execution_count": 43,
   "id": "a467fd7a-bdd2-4ffd-9e77-a43d1b3877e4",
   "metadata": {},
   "outputs": [
    {
     "data": {
      "text/plain": [
       "16"
      ]
     },
     "execution_count": 43,
     "metadata": {},
     "output_type": "execute_result"
    }
   ],
   "source": [
    "num_months_remaining = num_months_loans + num_months_to_save\n",
    "num_months_remaining"
   ]
  },
  {
   "cell_type": "code",
   "execution_count": 44,
   "id": "11a62f77-c03b-4fc3-a0ff-5f3b77b1cfb1",
   "metadata": {},
   "outputs": [],
   "source": [
    "# Student Loans Paid: Dec-Jan 2024\n",
    "# Car Paid: Apr-May 2025\n",
    "# Savings Met: July-Sep 2025\n",
    "# depends mainly on how much extra paid per month (which depends on spending)"
   ]
  },
  {
   "cell_type": "code",
   "execution_count": null,
   "id": "b7ba3166-4523-4526-b104-b120b782560a",
   "metadata": {},
   "outputs": [],
   "source": []
  }
 ],
 "metadata": {
  "kernelspec": {
   "display_name": "Python 3 (ipykernel)",
   "language": "python",
   "name": "python3"
  },
  "language_info": {
   "codemirror_mode": {
    "name": "ipython",
    "version": 3
   },
   "file_extension": ".py",
   "mimetype": "text/x-python",
   "name": "python",
   "nbconvert_exporter": "python",
   "pygments_lexer": "ipython3",
   "version": "3.12.2"
  }
 },
 "nbformat": 4,
 "nbformat_minor": 5
}
